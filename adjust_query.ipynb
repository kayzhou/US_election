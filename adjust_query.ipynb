{
 "cells": [
  {
   "cell_type": "code",
   "execution_count": 9,
   "metadata": {},
   "outputs": [],
   "source": [
    "from my_weapon import *\n",
    "import os\n",
    "from file_read_backwards import FileReadBackwards"
   ]
  },
  {
   "cell_type": "code",
   "execution_count": 10,
   "metadata": {},
   "outputs": [],
   "source": [
    "def read_end_file(start, end):\n",
    "    set_tweets = set()\n",
    "    target_dir = [\"201907\"]\n",
    "\n",
    "    for _dir in target_dir:\n",
    "        for in_name in tqdm(os.listdir(\"disk/\" + _dir)):\n",
    "            if in_name.endswith(\"PRO.txt\") or in_name.endswith(\"Moreno.txt\") \\\n",
    "                or in_name.endswith(\"Sola.txt\") or in_name.endswith(\"PASO.txt\") \\\n",
    "                or in_name.endswith(\"elecciones.txt\") or in_name.endswith(\"Cristina.txt\"):\n",
    "                continue\n",
    "            \n",
    "            print(in_name, \"start ...\")\n",
    "            in_name = \"disk/\" + _dir + \"/\" + in_name\n",
    "            cnt = 0\n",
    "            # exists_cnt = 0\n",
    "            with FileReadBackwards(in_name) as f:\n",
    "                while True:\n",
    "                    line = f.readline()\n",
    "                    if not line:\n",
    "                        print(\"end of\", in_name, cnt)\n",
    "                        break\n",
    "\n",
    "                    d = json.loads(line.strip())\n",
    "                    tweet_id = d[\"id\"]\n",
    "                    if tweet_id in set_tweets:\n",
    "                        continue\n",
    "                    set_tweets.add(tweet_id)\n",
    "\n",
    "                    dt = pendulum.from_format(\n",
    "                        d[\"created_at\"], 'ddd MMM DD HH:mm:ss ZZ YYYY')\n",
    "                    if dt < start:\n",
    "                        print(\"sum:\", cnt, d[\"created_at\"], \"end!\")\n",
    "                        break\n",
    "                    if dt >= end:\n",
    "                        continue\n",
    "\n",
    "                    if cnt % 10000 == 0:\n",
    "                        print(\"New data:\", cnt)\n",
    "                    cnt += 1\n",
    "    return set_tweets"
   ]
  },
  {
   "cell_type": "code",
   "execution_count": 11,
   "metadata": {},
   "outputs": [
    {
     "name": "stderr",
     "output_type": "stream",
     "text": [
      "\n",
      "  0%|          | 0/47 [00:00<?, ?it/s]\u001b[A"
     ]
    },
    {
     "name": "stdout",
     "output_type": "stream",
     "text": [
      "201907-Capitanich.txt start ...\n",
      "New data: 0\n"
     ]
    },
    {
     "name": "stderr",
     "output_type": "stream",
     "text": [
      "\n",
      "  2%|▏         | 1/47 [00:00<00:13,  3.40it/s]\u001b[A"
     ]
    },
    {
     "name": "stdout",
     "output_type": "stream",
     "text": [
      "sum: 851 Tue Jul 23 23:45:59 +0000 2019 end!\n",
      "201907-Frente AND Izquierda.txt start ...\n",
      "New data: 0\n",
      "New data: 10000\n"
     ]
    },
    {
     "name": "stderr",
     "output_type": "stream",
     "text": [
      "\n",
      "  4%|▍         | 2/47 [00:11<02:39,  3.55s/it]\u001b[A"
     ]
    },
    {
     "name": "stdout",
     "output_type": "stream",
     "text": [
      "sum: 13618 Tue Jul 23 23:58:03 +0000 2019 end!\n",
      "201907-CFK.txt start ...\n",
      "New data: 0\n",
      "New data: 10000\n",
      "New data: 20000\n",
      "New data: 30000\n",
      "New data: 40000\n",
      "New data: 50000\n",
      "New data: 60000\n",
      "New data: 70000\n",
      "New data: 80000\n",
      "New data: 90000\n",
      "New data: 100000\n"
     ]
    },
    {
     "name": "stderr",
     "output_type": "stream",
     "text": [
      "\n",
      "  6%|▋         | 3/47 [01:25<18:12, 24.82s/it]\u001b[A"
     ]
    },
    {
     "name": "stdout",
     "output_type": "stream",
     "text": [
      "sum: 106875 Tue Jul 23 23:58:17 +0000 2019 end!\n",
      "201907-Movimiento AND Socialismo.txt start ...\n",
      "New data: 0\n"
     ]
    },
    {
     "name": "stderr",
     "output_type": "stream",
     "text": [
      "\n",
      "  9%|▊         | 4/47 [01:28<13:02, 18.20s/it]\u001b[A"
     ]
    },
    {
     "name": "stdout",
     "output_type": "stream",
     "text": [
      "sum: 790 Tue Jul 23 23:51:44 +0000 2019 end!\n",
      "201907-Lousteau.txt start ...\n",
      "New data: 0\n",
      "New data: 10000\n"
     ]
    },
    {
     "name": "stderr",
     "output_type": "stream",
     "text": [
      "\n",
      " 11%|█         | 5/47 [01:48<13:04, 18.67s/it]\u001b[A"
     ]
    },
    {
     "name": "stdout",
     "output_type": "stream",
     "text": [
      "sum: 11990 Tue Jul 23 23:53:38 +0000 2019 end!\n",
      "201907-Scioli.txt start ...\n",
      "New data: 0\n"
     ]
    },
    {
     "name": "stderr",
     "output_type": "stream",
     "text": [
      "\n",
      " 13%|█▎        | 6/47 [02:06<12:42, 18.59s/it]\u001b[A"
     ]
    },
    {
     "name": "stdout",
     "output_type": "stream",
     "text": [
      "sum: 9214 Tue Jul 23 23:57:10 +0000 2019 end!\n",
      "201907-Capitanich OR Lousteau OR Donda OR Justicialista OR Bregman OR Pichetto.txt start ...\n",
      "sum: 0 Sun Jul 07 22:32:57 +0000 2019 end!\n",
      "201907-Peron.txt start ...\n",
      "New data: 0\n",
      "New data: 10000\n",
      "New data: 20000\n",
      "New data: 30000\n",
      "New data: 40000\n"
     ]
    },
    {
     "name": "stderr",
     "output_type": "stream",
     "text": [
      "\n",
      " 17%|█▋        | 8/47 [02:48<12:31, 19.26s/it]\u001b[A"
     ]
    },
    {
     "name": "stdout",
     "output_type": "stream",
     "text": [
      "sum: 48691 Tue Jul 23 23:56:57 +0000 2019 end!\n",
      "201907-Donda.txt start ...\n",
      "New data: 0\n"
     ]
    },
    {
     "name": "stderr",
     "output_type": "stream",
     "text": [
      "\n",
      " 21%|██▏       | 10/47 [02:55<08:56, 14.50s/it]\u001b[A"
     ]
    },
    {
     "name": "stdout",
     "output_type": "stream",
     "text": [
      "sum: 2386 Tue Jul 23 23:53:37 +0000 2019 end!\n",
      "201907-macrismo.txt start ...\n",
      "New data: 0\n",
      "New data: 10000\n",
      "New data: 20000\n"
     ]
    },
    {
     "name": "stderr",
     "output_type": "stream",
     "text": [
      "\n",
      " 23%|██▎       | 11/47 [03:24<11:19, 18.87s/it]\u001b[A\n",
      " 26%|██▌       | 12/47 [03:24<07:43, 13.24s/it]\u001b[A"
     ]
    },
    {
     "name": "stdout",
     "output_type": "stream",
     "text": [
      "sum: 25899 Tue Jul 23 23:58:25 +0000 2019 end!\n",
      "201907-Consenso AND 19.txt start ...\n",
      "New data: 0\n",
      "sum: 81 Tue Jul 23 22:52:06 +0000 2019 end!\n",
      "201907-Massa.txt start ...\n",
      "New data: 0\n",
      "New data: 10000\n",
      "New data: 20000\n",
      "New data: 30000\n"
     ]
    },
    {
     "name": "stderr",
     "output_type": "stream",
     "text": [
      "\n",
      " 28%|██▊       | 13/47 [03:52<10:05, 17.82s/it]\u001b[A"
     ]
    },
    {
     "name": "stdout",
     "output_type": "stream",
     "text": [
      "sum: 30661 Tue Jul 23 23:57:20 +0000 2019 end!\n",
      "201907-Lavagna.txt start ...\n",
      "New data: 0\n",
      "New data: 10000\n"
     ]
    },
    {
     "name": "stderr",
     "output_type": "stream",
     "text": [
      "\n",
      " 30%|██▉       | 14/47 [04:13<10:12, 18.56s/it]\u001b[A"
     ]
    },
    {
     "name": "stdout",
     "output_type": "stream",
     "text": [
      "sum: 14282 Tue Jul 23 23:58:33 +0000 2019 end!\n",
      "201907-sergiomassa.txt start ...\n",
      "New data: 0\n",
      "New data: 10000\n",
      "New data: 20000\n",
      "New data: 30000\n"
     ]
    },
    {
     "name": "stderr",
     "output_type": "stream",
     "text": [
      "\n",
      " 32%|███▏      | 15/47 [04:43<11:48, 22.13s/it]\u001b[A"
     ]
    },
    {
     "name": "stdout",
     "output_type": "stream",
     "text": [
      "sum: 30309 Tue Jul 23 23:59:37 +0000 2019 end!\n",
      "201907-Urtubey.txt start ...\n",
      "New data: 0\n"
     ]
    },
    {
     "name": "stderr",
     "output_type": "stream",
     "text": [
      "\n",
      " 34%|███▍      | 16/47 [04:57<10:10, 19.69s/it]\u001b[A"
     ]
    },
    {
     "name": "stdout",
     "output_type": "stream",
     "text": [
      "sum: 5906 Tue Jul 23 23:53:27 +0000 2019 end!\n",
      "201907-mauriciomacri OR macrismo OR kirchnerismo OR peronismo.txt start ...\n",
      "sum: 0 Sun Jul 07 22:41:30 +0000 2019 end!\n",
      "201907-Macri.txt start ...\n",
      "New data: 0\n",
      "New data: 10000\n",
      "New data: 20000\n",
      "New data: 30000\n",
      "New data: 40000\n",
      "New data: 50000\n",
      "New data: 60000\n",
      "New data: 70000\n",
      "New data: 80000\n",
      "New data: 90000\n",
      "New data: 100000\n",
      "New data: 110000\n",
      "New data: 120000\n",
      "New data: 130000\n",
      "New data: 140000\n",
      "New data: 150000\n",
      "New data: 160000\n",
      "New data: 170000\n",
      "New data: 180000\n",
      "New data: 190000\n",
      "New data: 200000\n",
      "New data: 210000\n",
      "New data: 220000\n",
      "New data: 230000\n",
      "New data: 240000\n",
      "New data: 250000\n",
      "New data: 260000\n",
      "New data: 270000\n",
      "New data: 280000\n",
      "New data: 290000\n",
      "New data: 300000\n",
      "New data: 310000\n",
      "New data: 320000\n",
      "New data: 330000\n",
      "New data: 340000\n",
      "New data: 350000\n",
      "New data: 360000\n",
      "New data: 370000\n",
      "New data: 380000\n",
      "New data: 390000\n",
      "New data: 400000\n",
      "New data: 410000\n",
      "New data: 420000\n",
      "New data: 430000\n",
      "New data: 440000\n",
      "New data: 450000\n",
      "New data: 460000\n",
      "New data: 470000\n",
      "New data: 480000\n",
      "New data: 490000\n",
      "New data: 500000\n",
      "New data: 510000\n",
      "New data: 520000\n",
      "New data: 530000\n",
      "New data: 540000\n"
     ]
    },
    {
     "name": "stderr",
     "output_type": "stream",
     "text": [
      "\n",
      " 40%|████      | 19/47 [10:30<21:56, 47.03s/it]\u001b[A"
     ]
    },
    {
     "name": "stdout",
     "output_type": "stream",
     "text": [
      "sum: 544066 Tue Jul 23 23:55:07 +0000 2019 end!\n",
      "201907-CFKArgentina.txt start ...\n",
      "New data: 0\n",
      "New data: 10000\n",
      "New data: 20000\n",
      "New data: 30000\n",
      "New data: 40000\n",
      "New data: 50000\n",
      "New data: 60000\n",
      "New data: 70000\n",
      "New data: 80000\n",
      "New data: 90000\n",
      "New data: 100000\n",
      "New data: 110000\n",
      "New data: 120000\n",
      "New data: 130000\n",
      "New data: 140000\n"
     ]
    },
    {
     "name": "stderr",
     "output_type": "stream",
     "text": [
      "\n",
      " 43%|████▎     | 20/47 [12:10<28:23, 63.09s/it]\u001b[A"
     ]
    },
    {
     "name": "stdout",
     "output_type": "stream",
     "text": [
      "sum: 147223 Tue Jul 23 23:58:24 +0000 2019 end!\n",
      "201907-alferdez.txt start ...\n",
      "New data: 0\n",
      "New data: 10000\n",
      "New data: 20000\n",
      "New data: 30000\n",
      "New data: 40000\n",
      "New data: 50000\n",
      "New data: 60000\n",
      "New data: 70000\n",
      "New data: 80000\n",
      "New data: 90000\n",
      "New data: 100000\n",
      "New data: 110000\n",
      "New data: 120000\n",
      "New data: 130000\n",
      "New data: 140000\n",
      "New data: 150000\n",
      "New data: 160000\n",
      "New data: 170000\n",
      "New data: 180000\n",
      "New data: 190000\n",
      "New data: 200000\n",
      "New data: 210000\n",
      "New data: 220000\n",
      "New data: 230000\n",
      "New data: 240000\n",
      "New data: 250000\n"
     ]
    },
    {
     "name": "stderr",
     "output_type": "stream",
     "text": [
      "\n",
      " 45%|████▍     | 21/47 [15:15<43:05, 99.45s/it]\u001b[A"
     ]
    },
    {
     "name": "stdout",
     "output_type": "stream",
     "text": [
      "sum: 256491 Tue Jul 23 23:54:47 +0000 2019 end!\n",
      "201907-Espert.txt start ...\n",
      "New data: 0\n",
      "New data: 10000\n"
     ]
    },
    {
     "name": "stderr",
     "output_type": "stream",
     "text": [
      "\n",
      " 47%|████▋     | 22/47 [15:42<32:23, 77.74s/it]\u001b[A"
     ]
    },
    {
     "name": "stdout",
     "output_type": "stream",
     "text": [
      "sum: 17573 Tue Jul 23 23:59:08 +0000 2019 end!\n",
      "201907-kicillof.txt start ...\n",
      "New data: 0\n",
      "New data: 10000\n",
      "New data: 20000\n",
      "New data: 30000\n",
      "New data: 40000\n"
     ]
    },
    {
     "name": "stderr",
     "output_type": "stream",
     "text": [
      "\n",
      " 49%|████▉     | 23/47 [16:19<26:14, 65.60s/it]\u001b[A"
     ]
    },
    {
     "name": "stdout",
     "output_type": "stream",
     "text": [
      "sum: 48639 Tue Jul 23 23:59:19 +0000 2019 end!\n",
      "201907-UCR.txt start ...\n",
      "New data: 0\n"
     ]
    },
    {
     "name": "stderr",
     "output_type": "stream",
     "text": [
      "\n",
      " 51%|█████     | 24/47 [16:23<18:01, 47.03s/it]\u001b[A"
     ]
    },
    {
     "name": "stdout",
     "output_type": "stream",
     "text": [
      "sum: 4534 Tue Jul 23 23:54:41 +0000 2019 end!\n",
      "201907-CFK OR CFKArgentina.txt start ...\n",
      "sum: 0 Sun Jul 07 22:42:56 +0000 2019 end!\n",
      "201907-kirchnerismo.txt start ...\n",
      "New data: 0\n",
      "New data: 10000\n",
      "New data: 20000\n",
      "New data: 30000\n",
      "New data: 40000\n",
      "New data: 50000\n",
      "New data: 60000\n",
      "New data: 70000\n",
      "New data: 80000\n",
      "New data: 90000\n",
      "New data: 100000\n",
      "New data: 110000\n"
     ]
    },
    {
     "name": "stderr",
     "output_type": "stream",
     "text": [
      "\n",
      " 55%|█████▌    | 26/47 [17:58<16:30, 47.18s/it]\u001b[A"
     ]
    },
    {
     "name": "stdout",
     "output_type": "stream",
     "text": [
      "sum: 119289 Tue Jul 23 23:55:32 +0000 2019 end!\n",
      "201907-Vidal.txt start ...\n",
      "New data: 0\n",
      "New data: 10000\n",
      "New data: 20000\n",
      "New data: 30000\n",
      "New data: 40000\n",
      "New data: 50000\n",
      "New data: 60000\n",
      "New data: 70000\n",
      "New data: 80000\n",
      "New data: 90000\n",
      "New data: 100000\n",
      "New data: 110000\n",
      "New data: 120000\n",
      "New data: 130000\n",
      "New data: 140000\n",
      "New data: 150000\n",
      "New data: 160000\n"
     ]
    },
    {
     "name": "stderr",
     "output_type": "stream",
     "text": [
      "\n",
      " 57%|█████▋    | 27/47 [20:09<24:05, 72.28s/it]\u001b[A"
     ]
    },
    {
     "name": "stdout",
     "output_type": "stream",
     "text": [
      "sum: 160837 Tue Jul 23 23:55:09 +0000 2019 end!\n",
      "201907-kicillofok.txt start ...\n",
      "New data: 0\n",
      "New data: 10000\n",
      "New data: 20000\n",
      "New data: 30000\n",
      "New data: 40000\n",
      "New data: 50000\n",
      "New data: 60000\n"
     ]
    },
    {
     "name": "stderr",
     "output_type": "stream",
     "text": [
      "\n",
      " 60%|█████▉    | 28/47 [21:13<22:07, 69.88s/it]\u001b[A"
     ]
    },
    {
     "name": "stdout",
     "output_type": "stream",
     "text": [
      "sum: 61358 Tue Jul 23 23:58:57 +0000 2019 end!\n",
      "201907-mauriciomacri.txt start ...\n",
      "New data: 0\n",
      "New data: 10000\n",
      "New data: 20000\n",
      "New data: 30000\n",
      "New data: 40000\n",
      "New data: 50000\n",
      "New data: 60000\n",
      "New data: 70000\n",
      "New data: 80000\n",
      "New data: 90000\n",
      "New data: 100000\n",
      "New data: 110000\n",
      "New data: 120000\n",
      "New data: 130000\n",
      "New data: 140000\n",
      "New data: 150000\n"
     ]
    },
    {
     "name": "stderr",
     "output_type": "stream",
     "text": [
      "\n",
      " 62%|██████▏   | 29/47 [22:14<20:10, 67.24s/it]\u001b[A"
     ]
    },
    {
     "name": "stdout",
     "output_type": "stream",
     "text": [
      "sum: 157105 Tue Jul 23 23:57:43 +0000 2019 end!\n",
      "201907-Alternativa AND Federal.txt start ...\n",
      "New data: 0\n",
      "sum: 157 Tue Jul 23 23:48:29 +0000 2019 end!\n",
      "201907-Kirchner.txt start ...\n",
      "New data: 0\n",
      "New data: 10000\n",
      "New data: 20000\n",
      "New data: 30000\n",
      "New data: 40000\n",
      "New data: 50000\n"
     ]
    },
    {
     "name": "stderr",
     "output_type": "stream",
     "text": [
      "\n",
      " 66%|██████▌   | 31/47 [22:33<13:20, 50.01s/it]\u001b[A"
     ]
    },
    {
     "name": "stdout",
     "output_type": "stream",
     "text": [
      "sum: 58288 Tue Jul 23 23:56:44 +0000 2019 end!\n",
      "201907-Propuesta AND Republicana.txt start ...\n",
      "New data: 0\n",
      "sum: 135 Tue Jul 23 19:46:57 +0000 2019 end!\n",
      "201907-Alfonsin.txt start ...\n",
      "New data: 0\n"
     ]
    },
    {
     "name": "stderr",
     "output_type": "stream",
     "text": [
      "\n",
      " 70%|███████   | 33/47 [22:38<08:18, 35.61s/it]\u001b[A"
     ]
    },
    {
     "name": "stdout",
     "output_type": "stream",
     "text": [
      "New data: 10000\n",
      "sum: 10529 Tue Jul 23 23:51:23 +0000 2019 end!\n",
      "201907-mariuvidal.txt start ...\n",
      "New data: 0\n",
      "New data: 10000\n",
      "New data: 20000\n",
      "New data: 30000\n",
      "New data: 40000\n",
      "New data: 50000\n",
      "New data: 60000\n",
      "New data: 70000\n",
      "New data: 80000\n",
      "New data: 90000\n"
     ]
    },
    {
     "name": "stderr",
     "output_type": "stream",
     "text": [
      "\n",
      " 72%|███████▏  | 34/47 [23:18<08:02, 37.14s/it]\u001b[A"
     ]
    },
    {
     "name": "stdout",
     "output_type": "stream",
     "text": [
      "New data: 100000\n",
      "sum: 100521 Tue Jul 23 23:54:53 +0000 2019 end!\n",
      "201907-Justicialista.txt start ...\n",
      "New data: 0\n"
     ]
    },
    {
     "name": "stderr",
     "output_type": "stream",
     "text": [
      "\n",
      " 74%|███████▍  | 35/47 [23:19<05:14, 26.21s/it]\u001b[A"
     ]
    },
    {
     "name": "stdout",
     "output_type": "stream",
     "text": [
      "sum: 1619 Tue Jul 23 23:57:14 +0000 2019 end!\n",
      "201907-Partido AND Justicialista.txt start ...\n",
      "sum: 0 Tue Jul 23 23:45:13 +0000 2019 end!\n",
      "201907-Pichetto.txt start ...\n",
      "New data: 0\n",
      "New data: 10000\n"
     ]
    },
    {
     "name": "stderr",
     "output_type": "stream",
     "text": [
      "\n",
      " 79%|███████▊  | 37/47 [23:26<03:13, 19.39s/it]\u001b[A"
     ]
    },
    {
     "name": "stdout",
     "output_type": "stream",
     "text": [
      "sum: 13048 Tue Jul 23 23:59:25 +0000 2019 end!\n",
      "201907-Peronista.txt start ...\n",
      "New data: 0\n",
      "New data: 10000\n",
      "New data: 20000\n"
     ]
    },
    {
     "name": "stderr",
     "output_type": "stream",
     "text": [
      "\n",
      " 83%|████████▎ | 39/47 [23:37<02:01, 15.22s/it]\u001b[A"
     ]
    },
    {
     "name": "stdout",
     "output_type": "stream",
     "text": [
      "sum: 27052 Tue Jul 23 23:56:39 +0000 2019 end!\n",
      "201907-PJ.txt start ...\n",
      "New data: 0\n",
      "New data: 10000\n",
      "New data: 20000\n",
      "New data: 30000\n"
     ]
    },
    {
     "name": "stderr",
     "output_type": "stream",
     "text": [
      "\n",
      " 85%|████████▌ | 40/47 [23:48<01:37, 13.92s/it]\u001b[A"
     ]
    },
    {
     "name": "stdout",
     "output_type": "stream",
     "text": [
      "sum: 31300 Tue Jul 23 23:56:38 +0000 2019 end!\n",
      "201907-Union AND Civica AND Radical.txt start ...\n",
      "New data: 0\n",
      "sum: 159 Tue Jul 23 23:49:31 +0000 2019 end!\n",
      "201907-peronismo.txt start ...\n",
      "New data: 0\n",
      "New data: 10000\n",
      "New data: 20000\n"
     ]
    },
    {
     "name": "stderr",
     "output_type": "stream",
     "text": [
      "\n",
      " 89%|████████▉ | 42/47 [23:58<00:56, 11.25s/it]\u001b[A"
     ]
    },
    {
     "name": "stdout",
     "output_type": "stream",
     "text": [
      "sum: 22910 Tue Jul 23 23:58:37 +0000 2019 end!\n",
      "201907-miguelpichetto.txt start ...\n",
      "New data: 0\n"
     ]
    },
    {
     "name": "stderr",
     "output_type": "stream",
     "text": [
      "\n",
      " 91%|█████████▏| 43/47 [24:03<00:37,  9.49s/it]\u001b[A"
     ]
    },
    {
     "name": "stdout",
     "output_type": "stream",
     "text": [
      "New data: 10000\n",
      "sum: 10104 Tue Jul 23 23:59:16 +0000 2019 end!\n",
      "201907-Alberto AND Fernandez.txt start ...\n",
      "New data: 0\n",
      "New data: 10000\n",
      "New data: 20000\n",
      "New data: 30000\n",
      "New data: 40000\n",
      "New data: 50000\n",
      "New data: 60000\n",
      "New data: 70000\n",
      "New data: 80000\n",
      "New data: 90000\n",
      "New data: 100000\n"
     ]
    },
    {
     "name": "stderr",
     "output_type": "stream",
     "text": [
      "\n",
      " 94%|█████████▎| 44/47 [24:46<00:58, 19.53s/it]\u001b[A"
     ]
    },
    {
     "name": "stdout",
     "output_type": "stream",
     "text": [
      "sum: 107699 Tue Jul 23 23:59:10 +0000 2019 end!\n",
      "201907-Bregman.txt start ...\n",
      "New data: 0\n"
     ]
    },
    {
     "name": "stderr",
     "output_type": "stream",
     "text": [
      "\n",
      " 96%|█████████▌| 45/47 [24:46<00:27, 13.77s/it]\u001b[A"
     ]
    },
    {
     "name": "stdout",
     "output_type": "stream",
     "text": [
      "sum: 918 Tue Jul 23 23:56:19 +0000 2019 end!\n",
      "201907-Rossi.txt start ...\n",
      "New data: 0\n",
      "New data: 10000\n",
      "New data: 20000\n",
      "New data: 30000\n",
      "New data: 40000\n",
      "New data: 50000\n",
      "New data: 60000\n",
      "New data: 70000\n",
      "New data: 80000\n",
      "New data: 90000\n",
      "New data: 100000\n",
      "New data: 110000\n",
      "New data: 120000\n",
      "New data: 130000\n",
      "New data: 140000\n",
      "New data: 150000\n",
      "New data: 160000\n",
      "New data: 170000\n",
      "New data: 180000\n",
      "New data: 190000\n",
      "New data: 200000\n",
      "New data: 210000\n",
      "New data: 220000\n"
     ]
    },
    {
     "name": "stderr",
     "output_type": "stream",
     "text": [
      "\n",
      " 98%|█████████▊| 46/47 [25:55<00:30, 30.16s/it]\u001b[A"
     ]
    },
    {
     "name": "stdout",
     "output_type": "stream",
     "text": [
      "sum: 224674 Tue Jul 23 23:57:15 +0000 2019 end!\n",
      "201907-Cambiemos.txt start ...\n",
      "New data: 0\n",
      "New data: 10000\n",
      "New data: 20000\n",
      "New data: 30000\n",
      "New data: 40000\n",
      "New data: 50000\n"
     ]
    },
    {
     "name": "stderr",
     "output_type": "stream",
     "text": [
      "\n",
      "100%|██████████| 47/47 [26:15<00:00, 27.11s/it]\u001b[A"
     ]
    },
    {
     "name": "stdout",
     "output_type": "stream",
     "text": [
      "sum: 53075 Tue Jul 23 23:59:46 +0000 2019 end!\n"
     ]
    }
   ],
   "source": [
    "start = pendulum.datetime(2019, 7, 24, tz=\"UTC\") # include this date\n",
    "end = pendulum.datetime(2019, 7, 31, tz=\"UTC\") # not include this date\n",
    "set_tweets = read_end_file(start, end)"
   ]
  },
  {
   "cell_type": "code",
   "execution_count": 14,
   "metadata": {},
   "outputs": [],
   "source": [
    "with open(\"data/0731-week-keep.txt\", \"w\") as f:\n",
    "    for _id in set_tweets:\n",
    "        f.write(str(_id) + \"\\n\")"
   ]
  },
  {
   "cell_type": "code",
   "execution_count": 16,
   "metadata": {},
   "outputs": [],
   "source": [
    "def read_end_file_term(start, end, term):\n",
    "    set_tweets = set()\n",
    "    target_dir = [\"201907\"]\n",
    "\n",
    "    for _dir in target_dir:\n",
    "        for in_name in tqdm(os.listdir(\"disk/\" + _dir)):\n",
    "            if in_name.endswith(f\"{term}.txt\"):\n",
    "                print(in_name, \"start ...\")\n",
    "                in_name = \"disk/\" + _dir + \"/\" + in_name\n",
    "                cnt = 0\n",
    "                # exists_cnt = 0\n",
    "                with FileReadBackwards(in_name) as f:\n",
    "                    while True:\n",
    "                        line = f.readline()\n",
    "                        if not line:\n",
    "                            print(\"end of\", in_name, cnt)\n",
    "                            break\n",
    "\n",
    "                        d = json.loads(line.strip())\n",
    "                        tweet_id = d[\"id\"]\n",
    "                        if tweet_id in set_tweets:\n",
    "                            continue\n",
    "                        set_tweets.add(tweet_id)\n",
    "\n",
    "                        dt = pendulum.from_format(\n",
    "                            d[\"created_at\"], 'ddd MMM DD HH:mm:ss ZZ YYYY')\n",
    "                        if dt < start:\n",
    "                            print(\"sum:\", cnt, d[\"created_at\"], \"end!\")\n",
    "                            break\n",
    "                        if dt >= end:\n",
    "                            continue\n",
    "\n",
    "                        if cnt % 10000 == 0:\n",
    "                            print(\"New data:\", cnt)\n",
    "                        cnt += 1\n",
    "    return set_tweets"
   ]
  },
  {
   "cell_type": "code",
   "execution_count": 17,
   "metadata": {},
   "outputs": [
    {
     "name": "stderr",
     "output_type": "stream",
     "text": [
      "\n",
      "  0%|          | 0/47 [00:00<?, ?it/s]\u001b[A"
     ]
    },
    {
     "name": "stdout",
     "output_type": "stream",
     "text": [
      "201907-Cristina.txt start ...\n",
      "New data: 0\n",
      "New data: 10000\n",
      "New data: 20000\n",
      "New data: 30000\n",
      "New data: 40000\n",
      "New data: 50000\n",
      "New data: 60000\n",
      "New data: 70000\n",
      "New data: 80000\n",
      "New data: 90000\n",
      "New data: 100000\n",
      "New data: 110000\n",
      "New data: 120000\n",
      "New data: 130000\n",
      "New data: 140000\n",
      "New data: 150000\n",
      "New data: 160000\n",
      "New data: 170000\n",
      "New data: 180000\n",
      "New data: 190000\n",
      "New data: 200000\n",
      "New data: 210000\n",
      "New data: 220000\n",
      "New data: 230000\n",
      "New data: 240000\n",
      "New data: 250000\n",
      "New data: 260000\n",
      "New data: 270000\n",
      "New data: 280000\n"
     ]
    },
    {
     "name": "stderr",
     "output_type": "stream",
     "text": [
      "\n",
      " 81%|████████  | 38/47 [01:32<00:21,  2.43s/it]\u001b[A\n",
      "100%|██████████| 47/47 [01:32<00:00,  1.97s/it]\u001b[A"
     ]
    },
    {
     "name": "stdout",
     "output_type": "stream",
     "text": [
      "sum: 287736 Tue Jul 23 23:59:06 +0000 2019 end!\n"
     ]
    }
   ],
   "source": [
    "set_tweets = read_end_file_term(start, end, \"Cristina\")"
   ]
  },
  {
   "cell_type": "code",
   "execution_count": 18,
   "metadata": {},
   "outputs": [],
   "source": [
    "with open(\"data/0731-week-Cristna.txt\", \"w\") as f:\n",
    "    for _id in set_tweets:\n",
    "        f.write(str(_id) + \"\\n\")"
   ]
  },
  {
   "cell_type": "code",
   "execution_count": 19,
   "metadata": {},
   "outputs": [
    {
     "name": "stderr",
     "output_type": "stream",
     "text": [
      "\n",
      "  0%|          | 0/47 [00:00<?, ?it/s]\u001b[A"
     ]
    },
    {
     "name": "stdout",
     "output_type": "stream",
     "text": [
      "201907-elecciones.txt start ...\n",
      "New data: 0\n",
      "New data: 10000\n",
      "New data: 20000\n",
      "New data: 30000\n",
      "New data: 40000\n",
      "New data: 50000\n",
      "New data: 60000\n",
      "New data: 70000\n",
      "New data: 80000\n",
      "New data: 90000\n",
      "New data: 100000\n",
      "New data: 110000\n",
      "New data: 120000\n",
      "New data: 130000\n",
      "New data: 140000\n",
      "New data: 150000\n",
      "New data: 160000\n",
      "New data: 170000\n",
      "New data: 180000\n",
      "New data: 190000\n",
      "New data: 200000\n",
      "New data: 210000\n",
      "New data: 220000\n",
      "New data: 230000\n",
      "New data: 240000\n",
      "New data: 250000\n",
      "New data: 260000\n",
      "New data: 270000\n",
      "New data: 280000\n",
      "New data: 290000\n",
      "New data: 300000\n",
      "New data: 310000\n",
      "New data: 320000\n",
      "New data: 330000\n",
      "New data: 340000\n",
      "New data: 350000\n",
      "New data: 360000\n",
      "New data: 370000\n",
      "New data: 380000\n",
      "New data: 390000\n",
      "New data: 400000\n",
      "New data: 410000\n",
      "New data: 420000\n",
      "New data: 430000\n",
      "New data: 440000\n",
      "New data: 450000\n",
      "New data: 460000\n",
      "New data: 470000\n",
      "New data: 480000\n",
      "New data: 490000\n",
      "New data: 500000\n",
      "New data: 510000\n",
      "New data: 520000\n",
      "New data: 530000\n",
      "New data: 540000\n",
      "New data: 550000\n",
      "New data: 560000\n",
      "New data: 570000\n",
      "New data: 580000\n",
      "New data: 590000\n",
      "New data: 600000\n",
      "New data: 610000\n",
      "New data: 620000\n"
     ]
    },
    {
     "name": "stderr",
     "output_type": "stream",
     "text": [
      "\n",
      " 38%|███▊      | 18/47 [06:00<09:41, 20.05s/it]\u001b[A\n",
      "100%|██████████| 47/47 [06:00<00:00,  7.68s/it]\u001b[A"
     ]
    },
    {
     "name": "stdout",
     "output_type": "stream",
     "text": [
      "sum: 623409 Tue Jul 23 23:59:53 +0000 2019 end!\n"
     ]
    }
   ],
   "source": [
    "set_tweets = read_end_file_term(start, end, \"elecciones\")"
   ]
  },
  {
   "cell_type": "code",
   "execution_count": 20,
   "metadata": {},
   "outputs": [],
   "source": [
    "with open(\"data/0731-week-elecciones.txt\", \"w\") as f:\n",
    "    for _id in set_tweets:\n",
    "        f.write(str(_id) + \"\\n\")"
   ]
  },
  {
   "cell_type": "code",
   "execution_count": 26,
   "metadata": {},
   "outputs": [],
   "source": [
    "def read_end_file_terms(start, end, terms):\n",
    "    set_tweets = set()\n",
    "    target_dir = [\"201907\"]\n",
    "\n",
    "    set_terms = set([t.lower() for t in terms])\n",
    "    for _dir in target_dir:\n",
    "        for in_name in tqdm(os.listdir(\"disk/\" + _dir)):\n",
    "            in_term = in_name.lower().split(\"-\")[-1][:-4]\n",
    "            print(in_term)\n",
    "            if in_term in set_terms:\n",
    "                print(in_name, \"start ...\")\n",
    "                in_name = \"disk/\" + _dir + \"/\" + in_name\n",
    "                cnt = 0\n",
    "                # exists_cnt = 0\n",
    "                with FileReadBackwards(in_name) as f:\n",
    "                    while True:\n",
    "                        line = f.readline()\n",
    "                        if not line:\n",
    "                            print(\"end of\", in_name, cnt)\n",
    "                            break\n",
    "\n",
    "                        d = json.loads(line.strip())\n",
    "                        tweet_id = d[\"id\"]\n",
    "                        if tweet_id in set_tweets:\n",
    "                            continue\n",
    "                        set_tweets.add(tweet_id)\n",
    "\n",
    "                        dt = pendulum.from_format(\n",
    "                            d[\"created_at\"], 'ddd MMM DD HH:mm:ss ZZ YYYY')\n",
    "                        if dt < start:\n",
    "                            print(\"sum:\", cnt, d[\"created_at\"], \"end!\")\n",
    "                            break\n",
    "                        if dt >= end:\n",
    "                            continue\n",
    "\n",
    "                        if cnt % 50000 == 0:\n",
    "                            print(\"New data:\", cnt)\n",
    "                        cnt += 1\n",
    "    return set_tweets"
   ]
  },
  {
   "cell_type": "code",
   "execution_count": 27,
   "metadata": {},
   "outputs": [
    {
     "name": "stderr",
     "output_type": "stream",
     "text": [
      "\n",
      "\n",
      "  0%|          | 0/47 [00:00<?, ?it/s]\u001b[A\u001b[A"
     ]
    },
    {
     "name": "stdout",
     "output_type": "stream",
     "text": [
      "capitanich\n",
      "frente and izquierda\n",
      "cfk\n",
      "movimiento and socialismo\n",
      "lousteau\n",
      "scioli\n",
      "capitanich or lousteau or donda or justicialista or bregman or pichetto\n",
      "peron\n",
      "paso\n",
      "donda\n",
      "macrismo\n",
      "consenso and 19\n",
      "massa\n",
      "lavagna\n",
      "201907-Lavagna.txt start ...\n",
      "New data: 0\n"
     ]
    },
    {
     "name": "stderr",
     "output_type": "stream",
     "text": [
      "\n",
      "\n",
      " 30%|██▉       | 14/47 [00:04<00:11,  2.97it/s]\u001b[A\u001b[A"
     ]
    },
    {
     "name": "stdout",
     "output_type": "stream",
     "text": [
      "sum: 15289 Tue Jul 23 23:58:33 +0000 2019 end!\n",
      "sergiomassa\n",
      "urtubey\n",
      "201907-Urtubey.txt start ...\n",
      "New data: 0\n"
     ]
    },
    {
     "name": "stderr",
     "output_type": "stream",
     "text": [
      "\n",
      "\n",
      " 34%|███▍      | 16/47 [00:06<00:17,  1.74it/s]\u001b[A\u001b[A"
     ]
    },
    {
     "name": "stdout",
     "output_type": "stream",
     "text": [
      "sum: 6053 Tue Jul 23 23:53:27 +0000 2019 end!\n",
      "mauriciomacri or macrismo or kirchnerismo or peronismo\n",
      "elecciones\n",
      "macri\n",
      "cfkargentina\n",
      "201907-CFKArgentina.txt start ...\n",
      "New data: 0\n",
      "New data: 50000\n",
      "New data: 100000\n",
      "New data: 150000\n"
     ]
    },
    {
     "name": "stderr",
     "output_type": "stream",
     "text": [
      "\n",
      "\n",
      " 43%|████▎     | 20/47 [00:54<01:47,  4.00s/it]\u001b[A\u001b[A"
     ]
    },
    {
     "name": "stdout",
     "output_type": "stream",
     "text": [
      "sum: 156293 Tue Jul 23 23:58:24 +0000 2019 end!\n",
      "alferdez\n",
      "201907-alferdez.txt start ...\n",
      "New data: 0\n",
      "New data: 50000\n",
      "New data: 100000\n",
      "New data: 150000\n",
      "New data: 200000\n",
      "New data: 250000\n"
     ]
    },
    {
     "name": "stderr",
     "output_type": "stream",
     "text": [
      "\n",
      "\n",
      " 45%|████▍     | 21/47 [02:31<13:43, 31.69s/it]\u001b[A\u001b[A"
     ]
    },
    {
     "name": "stdout",
     "output_type": "stream",
     "text": [
      "sum: 289881 Tue Jul 23 23:54:47 +0000 2019 end!\n",
      "espert\n",
      "kicillof\n",
      "ucr\n",
      "cfk or cfkargentina\n",
      "kirchnerismo\n",
      "vidal\n",
      "kicillofok\n",
      "mauriciomacri\n",
      "201907-mauriciomacri.txt start ...\n",
      "New data: 0\n",
      "New data: 50000\n",
      "New data: 100000\n",
      "New data: 150000\n"
     ]
    },
    {
     "name": "stderr",
     "output_type": "stream",
     "text": [
      "\n",
      "\n",
      " 62%|██████▏   | 29/47 [03:33<07:21, 24.53s/it]\u001b[A\u001b[A"
     ]
    },
    {
     "name": "stdout",
     "output_type": "stream",
     "text": [
      "sum: 184220 Tue Jul 23 23:57:43 +0000 2019 end!\n",
      "alternativa and federal\n",
      "kirchner\n",
      "propuesta and republicana\n",
      "alfonsin\n",
      "mariuvidal\n",
      "justicialista\n",
      "partido and justicialista\n",
      "pichetto\n",
      "cristina\n",
      "peronista\n",
      "pj\n",
      "union and civica and radical\n",
      "peronismo\n",
      "miguelpichetto\n",
      "201907-miguelpichetto.txt start ...\n",
      "New data: 0\n"
     ]
    },
    {
     "name": "stderr",
     "output_type": "stream",
     "text": [
      "\n",
      "\n",
      " 91%|█████████▏| 43/47 [03:39<01:09, 17.30s/it]\u001b[A\u001b[A\n",
      "\n",
      "100%|██████████| 47/47 [03:39<00:00,  4.67s/it]\u001b[A\u001b[A"
     ]
    },
    {
     "name": "stdout",
     "output_type": "stream",
     "text": [
      "sum: 12546 Tue Jul 23 23:59:16 +0000 2019 end!\n",
      "alberto and fernandez\n",
      "bregman\n",
      "rossi\n",
      "cambiemos\n"
     ]
    }
   ],
   "source": [
    "set_terms1 = [\"MauricioMacri\", \"MiguelPichetto\", \"Alferdez\", \"CFKArgentina\", \"lavagna\", \"urtubey\"]\n",
    "set_tweets = read_end_file_terms(start, end, set_terms1)"
   ]
  },
  {
   "cell_type": "code",
   "execution_count": 28,
   "metadata": {},
   "outputs": [],
   "source": [
    "with open(\"data/0731-week-terms1.txt\", \"w\") as f:\n",
    "    for _id in set_tweets:\n",
    "        f.write(str(_id) + \"\\n\")"
   ]
  },
  {
   "cell_type": "code",
   "execution_count": 29,
   "metadata": {},
   "outputs": [
    {
     "name": "stderr",
     "output_type": "stream",
     "text": [
      "\n",
      "\n",
      "  0%|          | 0/47 [00:00<?, ?it/s]\u001b[A\u001b[A"
     ]
    },
    {
     "name": "stdout",
     "output_type": "stream",
     "text": [
      "capitanich\n",
      "frente and izquierda\n",
      "cfk\n",
      "201907-CFK.txt start ...\n",
      "New data: 0\n",
      "New data: 50000\n",
      "New data: 100000\n"
     ]
    },
    {
     "name": "stderr",
     "output_type": "stream",
     "text": [
      "\n",
      "\n",
      "  6%|▋         | 3/47 [01:10<17:19, 23.62s/it]\u001b[A\u001b[A"
     ]
    },
    {
     "name": "stdout",
     "output_type": "stream",
     "text": [
      "sum: 106892 Tue Jul 23 23:58:17 +0000 2019 end!\n",
      "movimiento and socialismo\n",
      "lousteau\n",
      "scioli\n",
      "capitanich or lousteau or donda or justicialista or bregman or pichetto\n",
      "peron\n",
      "paso\n",
      "donda\n",
      "macrismo\n",
      "consenso and 19\n",
      "massa\n",
      "lavagna\n",
      "201907-Lavagna.txt start ...\n",
      "New data: 0\n"
     ]
    },
    {
     "name": "stderr",
     "output_type": "stream",
     "text": [
      "\n",
      "\n",
      " 30%|██▉       | 14/47 [01:15<09:09, 16.66s/it]\u001b[A\u001b[A"
     ]
    },
    {
     "name": "stdout",
     "output_type": "stream",
     "text": [
      "sum: 14751 Tue Jul 23 23:58:33 +0000 2019 end!\n",
      "sergiomassa\n",
      "urtubey\n",
      "201907-Urtubey.txt start ...\n",
      "New data: 0\n"
     ]
    },
    {
     "name": "stderr",
     "output_type": "stream",
     "text": [
      "\n",
      "\n",
      " 34%|███▍      | 16/47 [01:17<06:11, 11.98s/it]\u001b[A\u001b[A"
     ]
    },
    {
     "name": "stdout",
     "output_type": "stream",
     "text": [
      "sum: 6046 Tue Jul 23 23:53:27 +0000 2019 end!\n",
      "mauriciomacri or macrismo or kirchnerismo or peronismo\n",
      "elecciones\n",
      "macri\n",
      "201907-Macri.txt start ...\n",
      "New data: 0\n",
      "New data: 50000\n",
      "New data: 100000\n",
      "New data: 150000\n",
      "New data: 200000\n",
      "New data: 250000\n",
      "New data: 300000\n",
      "New data: 350000\n",
      "New data: 400000\n",
      "New data: 450000\n",
      "New data: 500000\n",
      "New data: 550000\n"
     ]
    },
    {
     "name": "stderr",
     "output_type": "stream",
     "text": [
      "\n",
      "\n",
      " 40%|████      | 19/47 [04:14<12:10, 26.10s/it]\u001b[A\u001b[A"
     ]
    },
    {
     "name": "stdout",
     "output_type": "stream",
     "text": [
      "sum: 559554 Tue Jul 23 23:55:07 +0000 2019 end!\n",
      "cfkargentina\n",
      "alferdez\n",
      "espert\n",
      "kicillof\n",
      "ucr\n",
      "cfk or cfkargentina\n",
      "kirchnerismo\n",
      "vidal\n",
      "kicillofok\n",
      "mauriciomacri\n",
      "alternativa and federal\n",
      "kirchner\n",
      "propuesta and republicana\n",
      "alfonsin\n",
      "mariuvidal\n",
      "justicialista\n",
      "partido and justicialista\n",
      "pichetto\n",
      "201907-Pichetto.txt start ...\n",
      "New data: 0\n"
     ]
    },
    {
     "name": "stderr",
     "output_type": "stream",
     "text": [
      "\n",
      "\n",
      " 79%|███████▊  | 37/47 [04:22<03:04, 18.40s/it]\u001b[A\u001b[A"
     ]
    },
    {
     "name": "stdout",
     "output_type": "stream",
     "text": [
      "sum: 17990 Tue Jul 23 23:59:25 +0000 2019 end!\n",
      "cristina\n",
      "peronista\n",
      "pj\n",
      "union and civica and radical\n",
      "peronismo\n",
      "miguelpichetto\n",
      "alberto and fernandez\n",
      "201907-Alberto AND Fernandez.txt start ...\n",
      "New data: 0\n",
      "New data: 50000\n",
      "New data: 100000\n"
     ]
    },
    {
     "name": "stderr",
     "output_type": "stream",
     "text": [
      "\n",
      "\n",
      " 94%|█████████▎| 44/47 [05:11<00:44, 14.97s/it]\u001b[A\u001b[A\n",
      "\n",
      "100%|██████████| 47/47 [05:11<00:00,  6.62s/it]\u001b[A\u001b[A"
     ]
    },
    {
     "name": "stdout",
     "output_type": "stream",
     "text": [
      "sum: 141376 Tue Jul 23 23:59:10 +0000 2019 end!\n",
      "bregman\n",
      "rossi\n",
      "cambiemos\n"
     ]
    }
   ],
   "source": [
    "set_terms2 = [\"Macri\", \"Pichetto\", \"Alberto and Fernandez\", \"CFK\", \"Lavagna\", \"Urtubey\"]\n",
    "set_tweets = read_end_file_terms(start, end, set_terms2)"
   ]
  },
  {
   "cell_type": "code",
   "execution_count": 30,
   "metadata": {},
   "outputs": [
    {
     "data": {
      "text/plain": [
       "983430"
      ]
     },
     "execution_count": 30,
     "metadata": {},
     "output_type": "execute_result"
    }
   ],
   "source": [
    "with open(\"data/0731-week-terms2.txt\", \"w\") as f:\n",
    "    for _id in set_tweets:\n",
    "        f.write(str(_id) + \"\\n\")\n",
    "        \n",
    "len(set_tweets)"
   ]
  },
  {
   "cell_type": "code",
   "execution_count": 5,
   "metadata": {},
   "outputs": [
    {
     "name": "stdout",
     "output_type": "stream",
     "text": [
      "Alternativa AND Federal\n",
      "Urtubey\n",
      "peronismo\n",
      "kicillof\n",
      "Macri\n",
      "Lousteau\n",
      "Kirchner\n",
      "Union AND Civica AND Radical\n",
      "CFKArgentina\n",
      "macrismo\n",
      "Alfonsin\n",
      "CFK\n",
      "Propuesta AND Republicana\n",
      "Pichetto\n",
      "Scioli\n",
      "mariuvidal\n",
      "Partido AND Justicialista\n",
      "Alberto AND Fernandez\n",
      "sergiomassa\n",
      "Capitanich\n",
      "UCR\n",
      "kirchnerismo\n",
      "Justicialista\n",
      "Consenso AND 19\n",
      "Frente AND Izquierda\n",
      "Peron\n",
      "Massa\n",
      "kicillofok\n",
      "Donda\n",
      "Bregman\n",
      "Lavagna\n",
      "alferdez\n",
      "miguelpichetto\n",
      "Cambiemos\n",
      "Movimiento AND Socialismo\n",
      "Espert\n",
      "mauriciomacri\n"
     ]
    }
   ],
   "source": [
    "target_dir = [\"201908\"]\n",
    "# target_dir = [\"201906\", \"201907\"]\n",
    "\n",
    "import os\n",
    "ignores = [\"PRO.txt\", \"Moreno.txt\", \"Sola.txt\", \"PASO.txt\",\n",
    "           \"Rossi.txt\", \"PJ.txt\", \"Vidal.txt\", \"Cristina.txt\",\n",
    "           \"elecciones.txt\", \"Peronista.txt\",\n",
    "           \"ganamos.txt\", \"fuerza.txt\", \"apoyo.txt\", \"Voto.txt\",\n",
    "           \"Vote.txt\", \"Votar.txt\", \"victoria.txt\", \"vamos.txt\",\n",
    "           \"#EleccionesArgentina.txt\", \"#ArgentinaVota.txt\", \"argentina.txt\"]\n",
    "\n",
    "for _dir in target_dir:\n",
    "    for in_name in os.listdir(\"disk/\" + _dir):\n",
    "\n",
    "        # ignore\n",
    "        ignore_mark = False\n",
    "        for _ig in ignores:\n",
    "            if in_name.endswith(_ig):\n",
    "                ignore_mark = True\n",
    "        if ignore_mark:\n",
    "            continue\n",
    "\n",
    "        print(in_name[7: -4])"
   ]
  },
  {
   "cell_type": "code",
   "execution_count": 7,
   "metadata": {},
   "outputs": [
    {
     "name": "stdout",
     "output_type": "stream",
     "text": [
      "PRO\n",
      "Moreno\n",
      "Sola\n",
      "PASO\n",
      "Rossi\n",
      "PJ\n",
      "Vidal\n",
      "Cristina\n",
      "elecciones\n",
      "Peronista\n",
      "ganamos\n",
      "fuerza\n",
      "apoyo\n",
      "Voto\n",
      "Vote\n",
      "Votar\n",
      "victoria\n",
      "vamos\n",
      "#EleccionesArgentina\n",
      "#ArgentinaVota\n",
      "argentina\n"
     ]
    }
   ],
   "source": [
    "for i in ignores:\n",
    "    print(i[:-4])"
   ]
  },
  {
   "cell_type": "code",
   "execution_count": null,
   "metadata": {},
   "outputs": [],
   "source": []
  },
  {
   "cell_type": "code",
   "execution_count": null,
   "metadata": {},
   "outputs": [],
   "source": []
  }
 ],
 "metadata": {
  "kernelspec": {
   "display_name": "Python 3",
   "language": "python",
   "name": "python3"
  },
  "language_info": {
   "codemirror_mode": {
    "name": "ipython",
    "version": 3
   },
   "file_extension": ".py",
   "mimetype": "text/x-python",
   "name": "python",
   "nbconvert_exporter": "python",
   "pygments_lexer": "ipython3",
   "version": "3.7.3"
  }
 },
 "nbformat": 4,
 "nbformat_minor": 2
}
