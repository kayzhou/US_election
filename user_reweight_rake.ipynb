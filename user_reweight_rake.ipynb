{
 "cells": [
  {
   "cell_type": "code",
   "execution_count": null,
   "metadata": {},
   "outputs": [],
   "source": [
    "from my_weapon import *\n",
    "from tqdm import tqdm_notebook as tqdm\n",
    "sns.set(style=\"whitegrid\", font_scale=1.3)\n",
    "# plt.style.use('fivethirtyeight')"
   ]
  },
  {
   "cell_type": "code",
   "execution_count": null,
   "metadata": {},
   "outputs": [],
   "source": [
    "def definir_ponderadores_rake(dt_imagen, variable):\n",
    "    if variable != \"\":\n",
    "        dt_imagen = dt_imagen[dt_imagen[variable].notnull()]\n",
    "        \n",
    "    if 'pondera_base' not in dt_imagen:\n",
    "        dt_imagen['pondera_base'] = 1\n",
    "\n",
    "    for x in range(0, 10):\n",
    "        for p_id, p_info in rake.items():\n",
    "            print(\"campo:\", p_id)\n",
    "            dt_imagen_agg = dt_imagen.groupby(['semana2', p_id]).agg({'pondera_base': 'sum'})\n",
    "            # print(dt_imagen_agg)\n",
    "            share_semana = dt_imagen_agg.groupby(level=0).apply(lambda x: x / float(x.sum()))\n",
    "            # print(share_semana)\n",
    "            share_semana = share_semana.reset_index().rename(columns = {'pondera_base': 'share_base'})\n",
    "\n",
    "            dt_imagen = pd.merge(dt_imagen, share_semana,  how='left', left_on=['semana2',p_id], right_on = ['semana2',p_id])\n",
    "\n",
    "            dt_imagen['target_share'] = 0\n",
    "            for key in p_info:\n",
    "                print(str(key) + ':', p_info[key])    \n",
    "                dt_imagen['target_share'].loc[dt_imagen[p_id] == key] = p_info[key]\n",
    "\n",
    "            dt_imagen['pondera_base'] =  dt_imagen['pondera_base'] / dt_imagen['share_base'] * dt_imagen['target_share']\n",
    "            # print(dt_imagen)\n",
    "            \n",
    "            del dt_imagen['share_base']\n",
    "            del dt_imagen['target_share']\n",
    "\n",
    "    return dt_imagen"
   ]
  },
  {
   "cell_type": "code",
   "execution_count": null,
   "metadata": {},
   "outputs": [],
   "source": [
    "# rake = {\n",
    "#             'Usted es ': {'Hombre': 0.479, 'Mujer': 0.521},\n",
    "#             'Edad ':{'Entre 16 y 30': 0.311, 'entre 31 y 50': 0.323, 'entre 51 y 65': 0.193, 'Mas de 65 años': 0.136},\n",
    "#             '¿Cuál es su nivel de estudio? ':{'Secundario Incompleto': 0.537, 'Secundario completo':0.208, 'Univ. completo o incompleto':0.255},\n",
    "#             'polarizado': {True: 0.72, False: 0.28}\n",
    "# }\n",
    "\n",
    "rake = {\n",
    "    'Usted es ': {'Hombre': 0.479, 'Mujer': 0.521},\n",
    "    'Edad ':{'Entre 16 y 30': 0.311, 'entre 31 y 50': 0.323, 'entre 51 y 65': 0.193, 'Mas de 65 años': 0.136},\n",
    "    '¿Cuál es su nivel de estudio? ': {'Secundario Incompleto': 0.537, 'Secundario completo':0.208, 'Univ. completo o incompleto':0.255} # 文化水平\n",
    "}\n",
    "\n",
    "# 性别，年龄，教育程度迭代\n",
    "# keep location firstly\n",
    "df_intencion['semana2'] = df_intencion['¿En qué provincia vota? '] # Location\n",
    "df_intencion_n = definir_ponderadores_rake(df_intencion, '')\n",
    "\n",
    "# 位置迭代\n",
    "df_intencion_n['semana2'] = 1\n",
    "rake = { '¿En qué provincia vota? ': {'Int. PBA': 0.13, 'Resto': 0.55, 'GBA': 0.24, 'CABA': 0.08} }\n",
    "df_intencion_n = definir_ponderadores_rake(df_intencion_n, '')\n",
    "df_intencion_n.head()"
   ]
  }
 ],
 "metadata": {
  "kernelspec": {
   "display_name": "Python 3",
   "language": "python",
   "name": "python3"
  },
  "language_info": {
   "codemirror_mode": {
    "name": "ipython",
    "version": 3
   },
   "file_extension": ".py",
   "mimetype": "text/x-python",
   "name": "python",
   "nbconvert_exporter": "python",
   "pygments_lexer": "ipython3",
   "version": "3.7.3"
  },
  "latex_envs": {
   "LaTeX_envs_menu_present": true,
   "autoclose": false,
   "autocomplete": true,
   "bibliofile": "biblio.bib",
   "cite_by": "apalike",
   "current_citInitial": 1,
   "eqLabelWithNumbers": true,
   "eqNumInitial": 1,
   "hotkeys": {
    "equation": "Ctrl-E",
    "itemize": "Ctrl-I"
   },
   "labels_anchors": false,
   "latex_user_defs": false,
   "report_style_numbering": false,
   "user_envs_cfg": false
  },
  "toc": {
   "base_numbering": 1,
   "nav_menu": {},
   "number_sections": true,
   "sideBar": true,
   "skip_h1_title": false,
   "title_cell": "Table of Contents",
   "title_sidebar": "Contents",
   "toc_cell": false,
   "toc_position": {},
   "toc_section_display": true,
   "toc_window_display": false
  }
 },
 "nbformat": 4,
 "nbformat_minor": 2
}
