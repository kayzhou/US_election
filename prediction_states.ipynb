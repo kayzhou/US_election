{
 "cells": [
  {
   "cell_type": "code",
   "execution_count": 1,
   "source": [
    "from SQLite_handler import *\r\n",
    "import rapidjson as json\r\n",
    "from tqdm import tqdm\r\n",
    "import os\r\n",
    "\r\n",
    "# 0 > JB; 1 > DT\r\n",
    "US_states = ['NY', 'DC', 'IN', 'AR', 'WY', 'ME', 'TX', 'NH', 'CO', 'CA', 'IL',\r\n",
    "             'WA', 'VA', 'FL', 'MA', 'OR', 'AZ', 'MT', 'MN', 'NE', 'TN', 'OH',\r\n",
    "             'NJ', 'NV', 'KY', 'UT', 'NC', 'SC', 'PA', 'NM', 'KS', 'GA', 'MI',\r\n",
    "             'WI', 'AK', 'MS', 'MD', 'LA', 'HI', 'MO', 'AL', 'CT', 'OK', 'IA',\r\n",
    "             'WV', 'RI', 'SD', 'VT', 'ND', 'ID', 'DE']"
   ],
   "outputs": [],
   "metadata": {}
  },
  {
   "cell_type": "code",
   "execution_count": 7,
   "source": [
    "user_info = {}\r\n",
    "for line in tqdm(open(\"D:/US2020/user-state.txt\", encoding='utf8')):\r\n",
    "    w = line.strip().split(\"\\t\")\r\n",
    "    user_info[w[0]] = w[-1] # 州结果"
   ],
   "outputs": [
    {
     "output_type": "stream",
     "name": "stderr",
     "text": [
      "6739702it [00:10, 652291.94it/s]\n"
     ]
    }
   ],
   "metadata": {}
  },
  {
   "cell_type": "code",
   "execution_count": 8,
   "source": [
    "json_file_name = 'data/users-14days-v1-0.5/2020-10-26.json'\r\n",
    "\r\n",
    "user_result = json.load(open(json_file_name, encoding='utf8'))\r\n",
    "u_table = []\r\n",
    "for u, v in user_result.items():\r\n",
    "    if u not in user_info:\r\n",
    "        continue\r\n",
    "    u_state = user_info[u]\r\n",
    "    if v[0] > v[1]:\r\n",
    "        opinion = \"B\"\r\n",
    "    elif v[0] < v[1]:\r\n",
    "        opinion = \"T\"\r\n",
    "    elif v[0] == v[1]:\r\n",
    "        opinion = \"U\"\r\n",
    "\r\n",
    "    u_table.append({\r\n",
    "        \"uid\": u,\r\n",
    "        \"state\": u_state,\r\n",
    "        \"opinion\": opinion\r\n",
    "    })"
   ],
   "outputs": [],
   "metadata": {}
  },
  {
   "cell_type": "code",
   "execution_count": 11,
   "source": [
    "u_df = pd.DataFrame(u_table).set_index('uid')\r\n",
    "u_result = u_df.groupby(\"state\")[\"opinion\"].value_counts()\r\n",
    "\r\n",
    "names = json_file_name.split(\"/\")\r\n",
    "u_result.to_csv(f\"data/state_results/{names[-2]}-{names[-1][:-5]}.csv\")"
   ],
   "outputs": [],
   "metadata": {}
  },
  {
   "cell_type": "code",
   "execution_count": 5,
   "source": [
    "u_df = pd.DataFrame(u_table).set_index('uid')"
   ],
   "outputs": [],
   "metadata": {}
  },
  {
   "cell_type": "code",
   "execution_count": 6,
   "source": [
    "u_df"
   ],
   "outputs": [
    {
     "output_type": "execute_result",
     "data": {
      "text/plain": [
       "                                                                state opinion\n",
       "uid                                                                          \n",
       "562430983           [562430983, quarantined, Quarantine Hill, Wick...       T\n",
       "401728487           [401728487, st. petersburg, fl, St Petersburg,...       B\n",
       "824331320771878914  [824331320771878914, alabama, usa, AL, United ...       B\n",
       "62737072            [62737072, oakland , Oakland, CA, United State...       B\n",
       "115531443             [115531443, united states, United States, None]       T\n",
       "...                                                               ...     ...\n",
       "322979719           [322979719, university of houston, Houston, TX...       B\n",
       "874348789871652865  [874348789871652865, london, england, London, ...       T\n",
       "451658476           [451658476, delaware, usa, DE, United States, ...       B\n",
       "16071555            [16071555, mclean, va, McLean, VA, United Stat...       B\n",
       "332557273            [332557273, texas, usa, TX, United States, None]       T\n",
       "\n",
       "[1534716 rows x 2 columns]"
      ],
      "text/html": [
       "<div>\n",
       "<style scoped>\n",
       "    .dataframe tbody tr th:only-of-type {\n",
       "        vertical-align: middle;\n",
       "    }\n",
       "\n",
       "    .dataframe tbody tr th {\n",
       "        vertical-align: top;\n",
       "    }\n",
       "\n",
       "    .dataframe thead th {\n",
       "        text-align: right;\n",
       "    }\n",
       "</style>\n",
       "<table border=\"1\" class=\"dataframe\">\n",
       "  <thead>\n",
       "    <tr style=\"text-align: right;\">\n",
       "      <th></th>\n",
       "      <th>state</th>\n",
       "      <th>opinion</th>\n",
       "    </tr>\n",
       "    <tr>\n",
       "      <th>uid</th>\n",
       "      <th></th>\n",
       "      <th></th>\n",
       "    </tr>\n",
       "  </thead>\n",
       "  <tbody>\n",
       "    <tr>\n",
       "      <th>562430983</th>\n",
       "      <td>[562430983, quarantined, Quarantine Hill, Wick...</td>\n",
       "      <td>T</td>\n",
       "    </tr>\n",
       "    <tr>\n",
       "      <th>401728487</th>\n",
       "      <td>[401728487, st. petersburg, fl, St Petersburg,...</td>\n",
       "      <td>B</td>\n",
       "    </tr>\n",
       "    <tr>\n",
       "      <th>824331320771878914</th>\n",
       "      <td>[824331320771878914, alabama, usa, AL, United ...</td>\n",
       "      <td>B</td>\n",
       "    </tr>\n",
       "    <tr>\n",
       "      <th>62737072</th>\n",
       "      <td>[62737072, oakland , Oakland, CA, United State...</td>\n",
       "      <td>B</td>\n",
       "    </tr>\n",
       "    <tr>\n",
       "      <th>115531443</th>\n",
       "      <td>[115531443, united states, United States, None]</td>\n",
       "      <td>T</td>\n",
       "    </tr>\n",
       "    <tr>\n",
       "      <th>...</th>\n",
       "      <td>...</td>\n",
       "      <td>...</td>\n",
       "    </tr>\n",
       "    <tr>\n",
       "      <th>322979719</th>\n",
       "      <td>[322979719, university of houston, Houston, TX...</td>\n",
       "      <td>B</td>\n",
       "    </tr>\n",
       "    <tr>\n",
       "      <th>874348789871652865</th>\n",
       "      <td>[874348789871652865, london, england, London, ...</td>\n",
       "      <td>T</td>\n",
       "    </tr>\n",
       "    <tr>\n",
       "      <th>451658476</th>\n",
       "      <td>[451658476, delaware, usa, DE, United States, ...</td>\n",
       "      <td>B</td>\n",
       "    </tr>\n",
       "    <tr>\n",
       "      <th>16071555</th>\n",
       "      <td>[16071555, mclean, va, McLean, VA, United Stat...</td>\n",
       "      <td>B</td>\n",
       "    </tr>\n",
       "    <tr>\n",
       "      <th>332557273</th>\n",
       "      <td>[332557273, texas, usa, TX, United States, None]</td>\n",
       "      <td>T</td>\n",
       "    </tr>\n",
       "  </tbody>\n",
       "</table>\n",
       "<p>1534716 rows × 2 columns</p>\n",
       "</div>"
      ]
     },
     "metadata": {},
     "execution_count": 6
    }
   ],
   "metadata": {}
  },
  {
   "cell_type": "code",
   "execution_count": null,
   "source": [],
   "outputs": [],
   "metadata": {}
  }
 ],
 "metadata": {
  "orig_nbformat": 4,
  "language_info": {
   "name": "python",
   "version": "3.8.5",
   "mimetype": "text/x-python",
   "codemirror_mode": {
    "name": "ipython",
    "version": 3
   },
   "pygments_lexer": "ipython3",
   "nbconvert_exporter": "python",
   "file_extension": ".py"
  },
  "kernelspec": {
   "name": "python3",
   "display_name": "Python 3.8.5 64-bit ('base': conda)"
  },
  "interpreter": {
   "hash": "5c4bc8f9fce0d5779c6f7824f27a280c353fdffc531bd63c7a3f69b7a24b42f9"
  }
 },
 "nbformat": 4,
 "nbformat_minor": 2
}