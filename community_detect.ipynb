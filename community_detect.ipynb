{
 "cells": [
  {
   "cell_type": "markdown",
   "metadata": {},
   "source": [
    "# Infomap\n",
    "Multi-level network clustering based on the [Map equation](http://www.mapequation.org/publications.html#Rosvall-Axelsson-Bergstrom-2009-Map-equation).\n",
    "\n",
    "\n",
    "### The Map Equation\n",
    "\n",
    "\\begin{equation*}\n",
    "    L(M) = q_\\curvearrowright H(\\mathcal{Q}) + \\sum_{i = 1}^{m}{p_{\\circlearrowright}^i H(\\mathcal{P}^i)}\n",
    "\\end{equation*}\n",
    "\n",
    "$L(M)$ measures the amount of information it takes to describe a random walk on a network given a partition of the network into modules $M$. It is a sum of the amount of information needed to describe the movements _between_ and _within_ the modules, which balances the goodness of fit with the complexity of the model. For more information, see [www.mapequation.org](http://www.mapequation.org)."
   ]
  },
  {
   "cell_type": "markdown",
   "metadata": {},
   "source": [
    "### Import Infomap\n",
    "Infomap includes an `examples/python` folder with some examples, including this notebook. Run `make` in that directory to build the python interface to a local folder.\n",
    "\n",
    "The `infomap` package exposes two classes, `Infomap` and `MemInfomap`, that wraps an input `network`, an output `tree`, and a `run` method to run Infomap on the input network. The classes takes a string of [options](http://www.mapequation.org/code.html#Options) as input."
   ]
  },
  {
   "cell_type": "code",
   "execution_count": 2,
   "metadata": {},
   "outputs": [],
   "source": [
    "from infomap import Infomap"
   ]
  },
  {
   "cell_type": "markdown",
   "metadata": {},
   "source": [
    "## Simple example"
   ]
  },
  {
   "cell_type": "code",
   "execution_count": 34,
   "metadata": {},
   "outputs": [
    {
     "name": "stdout",
     "output_type": "stream",
     "text": [
      "<Swig Object of type 'std::vector< infomap::InfoNode *,std::allocator< infomap::InfoNode * > > *' at 0x7f851b3f5210>\n",
      "Found 2 modules with codelength: 2.320730\n"
     ]
    }
   ],
   "source": [
    "infomapWrapper = Infomap(\"--two-level\")\n",
    "\n",
    "# Add link weight as an optional third argument\n",
    "infomapWrapper.addLink(0, 1)\n",
    "infomapWrapper.addLink(0, 2)\n",
    "infomapWrapper.addLink(0, 3)\n",
    "infomapWrapper.addLink(1, 0)\n",
    "infomapWrapper.addLink(1, 2)\n",
    "infomapWrapper.addLink(2, 1)\n",
    "infomapWrapper.addLink(2, 0)\n",
    "infomapWrapper.addLink(3, 0)\n",
    "infomapWrapper.addLink(3, 4)\n",
    "infomapWrapper.addLink(3, 5)\n",
    "infomapWrapper.addLink(4, 3)\n",
    "infomapWrapper.addLink(4, 5)\n",
    "infomapWrapper.addLink(5, 4)\n",
    "infomapWrapper.addLink(5, 3)\n",
    "\n",
    "infomapWrapper.run()\n",
    "\n",
    "print(infomapWrapper.leafNodes())\n",
    "print(\"Found %d modules with codelength: %f\" % (infomapWrapper.numTopModules(), infomapWrapper.codelength()))\n",
    "\n",
    "# Infomap.iterLeafNodesPhysical\n",
    "# print(\"\\n#node module\")\n",
    "# for node in infomapWrapper.():\n",
    "#     print(\"%d %d\" % (node.physIndex, node.moduleIndex()))\n",
    "    \n"
   ]
  },
  {
   "cell_type": "markdown",
   "metadata": {},
   "source": [
    "## Simple example with file"
   ]
  },
  {
   "cell_type": "code",
   "execution_count": 3,
   "metadata": {},
   "outputs": [
    {
     "name": "stdout",
     "output_type": "stream",
     "text": [
      "Found 3 levels with codelength: 3.462273\n",
      "Hierarchical solution:\n",
      "#path flow node\n",
      "1:1:1 0.038462 \"4\"\n",
      "1:1:2 0.038462 \"5\"\n",
      "1:1:3 0.038462 \"6\"\n",
      "1:2:1 0.038462 \"7\"\n",
      "1:2:2 0.038462 \"8\"\n",
      "1:2:3 0.038462 \"9\"\n",
      "1:3:1 0.038462 \"1\"\n",
      "1:3:2 0.038462 \"3\"\n",
      "1:3:3 0.025641 \"2\"\n",
      "2:1:1 0.038462 \"19\"\n",
      "2:1:2 0.038462 \"20\"\n",
      "2:1:3 0.038462 \"21\"\n",
      "2:2:1 0.038462 \"22\"\n",
      "2:2:2 0.038462 \"23\"\n",
      "2:2:3 0.038462 \"24\"\n",
      "2:3:1 0.038462 \"25\"\n",
      "2:3:2 0.038462 \"26\"\n",
      "2:3:3 0.025641 \"27\"\n",
      "3:1 0.038462 \"10\"\n",
      "3:2 0.038462 \"11\"\n",
      "3:3 0.038462 \"12\"\n",
      "4:1 0.038462 \"16\"\n",
      "4:2 0.038462 \"17\"\n",
      "4:3 0.038462 \"18\"\n",
      "5:1 0.038462 \"13\"\n",
      "5:2 0.038462 \"15\"\n",
      "5:3 0.025641 \"14\"\n"
     ]
    }
   ],
   "source": [
    "\n",
    "name = \"ninetriangles\"\n",
    "filename = \"../../{}.net\".format(name)\n",
    "\n",
    "infomapWrapper = infomap.Infomap(\"\")\n",
    "\n",
    "infomapWrapper.readInputData(filename)\n",
    "\n",
    "infomapWrapper.run()\n",
    "\n",
    "tree = infomapWrapper.tree\n",
    "\n",
    "print(\"Found %d levels with codelength: %f\" % (tree.maxDepth(), tree.codelength()))\n",
    "print(\"Hierarchical solution:\\n#path flow node\")\n",
    "for node in tree.treeIter():\n",
    "\tif node.isLeaf:\n",
    "\t\tprint(\"%s %f \\\"%s\\\"\" % (\":\".join(map(lambda n: str(n+1), node.path())), node.data.flow, node.data.name))"
   ]
  },
  {
   "cell_type": "markdown",
   "metadata": {},
   "source": [
    "## Memory networks\n",
    "\n",
    "With memory networks, the flow between two nodes depends on how you arrived at the first node. This higher-order relationships can be described by trigrams as in the example below:"
   ]
  },
  {
   "cell_type": "markdown",
   "metadata": {},
   "source": [
    "### Trigrams"
   ]
  },
  {
   "cell_type": "code",
   "execution_count": 4,
   "metadata": {},
   "outputs": [
    {
     "name": "stdout",
     "output_type": "stream",
     "text": [
      "Found 3 modules with codelength: 1.227078\n",
      "\n",
      "#node module\n",
      "4 0\n",
      "3 0\n",
      "2 0\n",
      "1 1\n",
      "2 1\n",
      "0 2\n"
     ]
    }
   ],
   "source": [
    "infomapWrapper = infomap.MemInfomap(\"--two-level\")\n",
    "\n",
    "# Trigrams represents a path from node A through B to C.\n",
    "# Add link weight as an optional fourth argument\n",
    "infomapWrapper.addTrigram(0, 2, 0)\n",
    "infomapWrapper.addTrigram(0, 2, 1)\n",
    "infomapWrapper.addTrigram(1, 2, 1)\n",
    "infomapWrapper.addTrigram(1, 2, 0)\n",
    "infomapWrapper.addTrigram(1, 2, 3)\n",
    "infomapWrapper.addTrigram(3, 2, 3)\n",
    "infomapWrapper.addTrigram(2, 3, 4)\n",
    "infomapWrapper.addTrigram(3, 2, 4)\n",
    "infomapWrapper.addTrigram(4, 2, 4)\n",
    "infomapWrapper.addTrigram(4, 2, 3)\n",
    "infomapWrapper.addTrigram(4, 3, 3)\n",
    "\n",
    "infomapWrapper.run()\n",
    "\n",
    "tree = infomapWrapper.tree\n",
    "\n",
    "print(\"Found %d modules with codelength: %f\" % (tree.numTopModules(), tree.codelength()))\n",
    "\n",
    "print(\"\\n#node module\")\n",
    "for node in tree.leafIter():\n",
    "    print(\"%d %d\" % (node.physIndex, node.moduleIndex()))"
   ]
  },
  {
   "cell_type": "markdown",
   "metadata": {},
   "source": [
    "#### Overlapping modules\n",
    "\n",
    "Notice that node `2` in the example below exists in both module `0` and `1`. This is because `MemInfomap` partitions the higher-order state network which can include multiple state nodes for each physical node. For trigrams, a state node is a pair of `previousNode node`. To keep the state network in the output tree, add the `--expanded` flag to configure `MemInfomap`:"
   ]
  },
  {
   "cell_type": "code",
   "execution_count": 5,
   "metadata": {},
   "outputs": [
    {
     "name": "stdout",
     "output_type": "stream",
     "text": [
      "Found 3 modules with codelength: 1.227078\n",
      "\n",
      "#previousNode node module\n",
      "2 3 0\n",
      "3 4 0\n",
      "2 4 0\n",
      "3 2 0\n",
      "4 2 0\n",
      "2 1 1\n",
      "0 2 1\n",
      "1 2 1\n",
      "2 0 2\n"
     ]
    }
   ],
   "source": [
    "# Store expanded state network\n",
    "infomapWrapper = infomap.MemInfomap(\"--two-level --expanded\")\n",
    "\n",
    "infomapWrapper.addTrigram(0, 2, 0)\n",
    "infomapWrapper.addTrigram(0, 2, 1)\n",
    "infomapWrapper.addTrigram(1, 2, 1)\n",
    "infomapWrapper.addTrigram(1, 2, 0)\n",
    "infomapWrapper.addTrigram(1, 2, 3)\n",
    "infomapWrapper.addTrigram(3, 2, 3)\n",
    "infomapWrapper.addTrigram(2, 3, 4)\n",
    "infomapWrapper.addTrigram(3, 2, 4)\n",
    "infomapWrapper.addTrigram(4, 2, 4)\n",
    "infomapWrapper.addTrigram(4, 2, 3)\n",
    "infomapWrapper.addTrigram(4, 3, 3)\n",
    "\n",
    "infomapWrapper.run()\n",
    "\n",
    "tree = infomapWrapper.tree\n",
    "\n",
    "print(\"Found %d modules with codelength: %f\" % (tree.numTopModules(), tree.codelength()))\n",
    "\n",
    "print(\"\\n#previousNode node module\")\n",
    "for node in tree.leafIter():\n",
    "    print(\"%d %d %d\" % (node.stateIndex, node.physIndex, node.moduleIndex()))"
   ]
  },
  {
   "cell_type": "markdown",
   "metadata": {},
   "source": [
    "As seen in the expanded output above, node `2` is represented by four state nodes partitioned into two modules depending on where you come from; if you go to node `2` from node `0` or `1` you are still considered to be in module `1`, but if you go to node `2` from node `3` and `4` you are still considered to be in module `0`."
   ]
  },
  {
   "cell_type": "markdown",
   "metadata": {},
   "source": [
    "### Multi-layer networks"
   ]
  },
  {
   "cell_type": "code",
   "execution_count": 6,
   "metadata": {},
   "outputs": [
    {
     "name": "stdout",
     "output_type": "stream",
     "text": [
      "Found 3 modules with codelength: 0.865437\n",
      "\n",
      "#layer node module:\n",
      "2 1 0\n",
      "1 2 0\n",
      "2 3 1\n",
      "3 2 1\n",
      "0 0 2\n"
     ]
    }
   ],
   "source": [
    "infomapWrapper = infomap.MemInfomap(\"--two-level --expanded\")\n",
    "\n",
    "# from (layer, node) to (layer, node) weight\n",
    "infomapWrapper.addMultiplexLink(2, 1, 1, 2, 1.0)\n",
    "infomapWrapper.addMultiplexLink(1, 2, 2, 1, 1.0)\n",
    "infomapWrapper.addMultiplexLink(3, 2, 2, 3, 1.0)\n",
    "\n",
    "infomapWrapper.run()\n",
    "\n",
    "tree = infomapWrapper.tree\n",
    "\n",
    "print(\"Found %d modules with codelength: %f\" % (tree.numTopModules(), tree.codelength()))\n",
    "\n",
    "print(\"\\n#layer node module:\")\n",
    "for node in tree.leafIter():\n",
    "    print(\"%d %d %d\" % (node.stateIndex, node.physIndex, node.moduleIndex()))"
   ]
  },
  {
   "cell_type": "markdown",
   "metadata": {},
   "source": [
    "### General state networks\n",
    "The [state format](http://www.mapequation.org/code.html#State-format) describes the exact network used internally by Infomap. It can model both ordinary networks and memory networks (of variable order)."
   ]
  },
  {
   "cell_type": "code",
   "execution_count": 7,
   "metadata": {},
   "outputs": [
    {
     "name": "stdout",
     "output_type": "stream",
     "text": [
      "Wrote state network to file '/var/folders/cm/8zsqg6xn2911z_jpkcxyxb4w0000gn/T/stateNetwork.net'\n"
     ]
    }
   ],
   "source": [
    "import tempfile\n",
    "\n",
    "stateNetwork = \"\"\"\n",
    "*Vertices 4\n",
    "1 \"PRE\"\n",
    "2 \"SCIENCE\"\n",
    "3 \"PRL\"\n",
    "4 \"BIO\"\n",
    "# *ngrams\n",
    "# 1 2 3\n",
    "# 1 2 2 3\n",
    "# 4 2 4\n",
    "*States\n",
    "1 2 \"1 2\"\n",
    "2 3 \"2 3\"\n",
    "3 2 \"1 2 2\"\n",
    "4 2 \"4 2\"\n",
    "5 4 \"2 4\"\n",
    "*Links\n",
    "1 2\n",
    "3 2\n",
    "4 5\n",
    "\"\"\"\n",
    "\n",
    "filename = \"%s/stateNetwork.net\" % tempfile.gettempdir()\n",
    "with open(filename, 'w') as fp:\n",
    "    fp.write(stateNetwork)\n",
    "print(\"Wrote state network to file '{}'\".format(filename))"
   ]
  },
  {
   "cell_type": "code",
   "execution_count": 8,
   "metadata": {},
   "outputs": [
    {
     "name": "stdout",
     "output_type": "stream",
     "text": [
      "Found 2 modules with codelength: 0.000000\n",
      "State-expanded clusters:\n",
      "#stateIndex physicalIndex module name:\n",
      "1 2 0 \"2 PRL\"\n",
      "0 1 0 \"1 SCIENCE\"\n",
      "2 1 0 \"3 SCIENCE\"\n",
      "4 3 1 \"5 BIO\"\n",
      "3 1 1 \"4 SCIENCE\"\n"
     ]
    }
   ],
   "source": [
    "infomapWrapper = infomap.MemInfomap(\"-i states --expanded\")\n",
    "\n",
    "infomapWrapper.readInputData(filename)\n",
    "\n",
    "infomapWrapper.run()\n",
    "\n",
    "tree = infomapWrapper.tree\n",
    "\n",
    "print(\"Found %d modules with codelength: %f\" % (tree.numTopModules(), tree.codelength()))\n",
    "\n",
    "print(\"State-expanded clusters:\\n#stateIndex physicalIndex module name:\")\n",
    "for node in tree.leafIter():\n",
    "    print(\"%d %d %d \\\"%s\\\"\" % (node.stateIndex, node.physIndex, node.moduleIndex(), node.data.name))"
   ]
  },
  {
   "cell_type": "markdown",
   "metadata": {},
   "source": [
    "## Infomap + NetworkX\n",
    "Generate and draw a network with NetworkX, colored\n",
    "according to the community structure found by Infomap."
   ]
  },
  {
   "cell_type": "code",
   "execution_count": 3,
   "metadata": {},
   "outputs": [],
   "source": [
    "import json\n",
    "import networkx as nx\n",
    "import matplotlib.pyplot as plt\n",
    "import matplotlib.colors as colors\n",
    "%matplotlib inline\n",
    "\n",
    "import matplotlib\n",
    "matplotlib.rcParams[\"font.size\"] = 14"
   ]
  },
  {
   "cell_type": "code",
   "execution_count": 27,
   "metadata": {},
   "outputs": [],
   "source": [
    "def findCommunities(G):\n",
    "    \"\"\"\n",
    "    Partition network with the Infomap algorithm.\n",
    "    Annotates nodes with 'community' id and return number of communities found.\n",
    "    \"\"\"\n",
    "\n",
    "    infomapWrapper = Infomap(\"--two-level --silent\")\n",
    "\n",
    "    print(\"Building Infomap network from a NetworkX graph...\")\n",
    "    for e in G.edges(data=True):\n",
    "        # print(e)\n",
    "#         e = (G.node[e[0]][\"id\"], G.node[e[1]][\"id\"], float(e[2][\"sign\"]))\n",
    "        e = (G.node[e[0]][\"id\"], G.node[e[1]][\"id\"])\n",
    "        # print(e)\n",
    "        infomapWrapper.addLink(*e)\n",
    "\n",
    "    print(\"Find communities with Infomap...\")\n",
    "    infomapWrapper.run();\n",
    "\n",
    "    print(\"Found %d modules with codelength: %f\" % (infomapWrapper.numTopModules(), infomapWrapper.codelength()))\n",
    "    \n",
    "    communities = {}\n",
    "#     for node in infomapWrapper.iterTree():\n",
    "#         print(\"{} {}\".format(node.path(), node.physicalId))\n",
    "\n",
    "    ix_to_name = {G.node[name][\"id\"]: name for name in G.nodes()}\n",
    "    # print(ix_to_name)\n",
    "    \n",
    "\n",
    "    for node in infomapWrapper.iterTree():\n",
    "        if node.isLeaf():\n",
    "            # f.write(\"{}\\t{}\\t{}\\n\".format(ix_to_name[node.physicalId], node.physicalId, node.moduleIndex()))\n",
    "            communities[ix_to_name[node.physicalId]] = node.moduleIndex()\n",
    "    \n",
    "    nx.set_node_attributes(G, name='community_Infomap', values=communities)\n",
    "\n",
    "    \n",
    "    return communities"
   ]
  },
  {
   "cell_type": "code",
   "execution_count": 7,
   "metadata": {},
   "outputs": [],
   "source": [
    "def drawNetwork(G, out_file=None):\n",
    "    if G.number_of_nodes() < 100:\n",
    "        plt.figure(figsize=[12, 12])\n",
    "    elif G.number_of_nodes() < 1000:\n",
    "        plt.figure(figsize=[30, 30])\n",
    "        \n",
    "\n",
    "    # position map\n",
    "    pos = nx.spring_layout(G)\n",
    "    # community ids\n",
    "    communities = [v for k, v in nx.get_node_attributes(G, 'community').items()]\n",
    "    \n",
    "    numCommunities = max(communities) + 1\n",
    "    # color map from http://colorbrewer2.org/\n",
    "    # cmapLight = colors.ListedColormap(['#a6cee3', '#b2df8a', '#fb9a99', '#fdbf6f', '#cab2d6'], 'indexed', numCommunities)\n",
    "    \n",
    "    # cmapLight = colors.ListedColormap(['#e41a1c','#377eb8','#4daf4a','#984ea3','#ff7f00','#ffff33','#a65628','#f781bf','#999999'],\n",
    "#                                       'indexed', numCommunities)\n",
    "    \n",
    "    # cmapDark = colors.ListedColormap(['#e41a1c','#377eb8','#4daf4a','#984ea3','#ff7f00','#ffff33','#a65628','#f781bf','#999999'],\n",
    "#                                       'indexed', numCommunities)\n",
    "       \n",
    "    cmapLight = colors.ListedColormap(['#a6cee3', '#b2df8a', '#fb9a99', '#fdbf6f', '#cab2d6'], 'indexed', numCommunities)\n",
    "    cmapDark = colors.ListedColormap(['#1f78b4', '#33a02c', '#e31a1c', '#ff7f00', '#6a3d9a'], 'indexed', numCommunities)\n",
    "\n",
    "    # Draw edges\n",
    "    elarge = [(u, v) for (u, v, d) in G.edges(data=True) if d['weight'] >= 1000]\n",
    "    esmall = [(u, v) for (u, v, d) in G.edges(data=True) if d['weight'] < 1000 and d['weight'] >= 500]\n",
    "\n",
    "    # print(pos)\n",
    "    # nodes\n",
    "    # nx.draw_networkx_nodes(G, pos, nodelist=cristina_hashtags, node_size=1500, node_color=\"#809fff\")\n",
    "    # nx.draw_networkx_nodes(G, pos, nodelist=macri_hashtags, node_size=1500, node_color=\"#ff471a\")\n",
    "\n",
    "    # edges\n",
    "    nx.draw_networkx_edges(G, pos, edgelist=elarge, width=2)\n",
    "    nx.draw_networkx_edges(G, pos, edgelist=esmall, width=2, alpha=0.5, edge_color='b', style='dashed')\n",
    "    \n",
    "    # nx.draw_networkx_edges(G, pos)\n",
    "\n",
    "    # Draw nodes\n",
    "    nodeCollection = nx.draw_networkx_nodes(G,\n",
    "        pos = pos,\n",
    "        node_color = communities,\n",
    "        cmap = cmapLight,\n",
    "        node_size=800,\n",
    "        alpha=0.3\n",
    "    )\n",
    "    \n",
    "    # Set node border color to the darker shade\n",
    "    darkColors = [cmapDark(v) for v in communities]\n",
    "    nodeCollection.set_edgecolor(darkColors)\n",
    "\n",
    "    # Draw node labels\n",
    "    for ix, n in enumerate(G.nodes()):\n",
    "        plt.annotate(n,\n",
    "            xy = pos[n],\n",
    "            textcoords = 'offset points',\n",
    "            horizontalalignment = 'center',\n",
    "            verticalalignment = 'center',\n",
    "            xytext = [0, 0],\n",
    "            color = cmapDark(communities[ix]),\n",
    "        )\n",
    "\n",
    "    plt.axis('off')\n",
    "    # plt.savefig(\"karate.png\")\n",
    "    if out_file:\n",
    "        plt.savefig(out_file, dpi=300)\n",
    "    plt.show()"
   ]
  },
  {
   "cell_type": "code",
   "execution_count": 368,
   "metadata": {},
   "outputs": [],
   "source": [
    "# G = nx.read_pajek(\"data/focused_20190305.pajek\")\n",
    "G = nx.read_pajek(\"data/only_focus_20190305.pajek\")\n",
    "# list(G.edges())\n",
    "\n",
    "# G.remove_node(\"peronismonuncamas\")\n",
    "# G.remove_node(\"cristinaesmaduro\")\n",
    "# print(G.adj[\"peronismonuncamas\"])"
   ]
  },
  {
   "cell_type": "code",
   "execution_count": 369,
   "metadata": {},
   "outputs": [
    {
     "name": "stdout",
     "output_type": "stream",
     "text": [
      "Building Infomap network from a NetworkX graph...\n",
      "Find communities with Infomap...\n",
      "Found 4 modules with codelength: 3.346028\n"
     ]
    },
    {
     "data": {
      "text/plain": [
       "4"
      ]
     },
     "execution_count": 369,
     "metadata": {},
     "output_type": "execute_result"
    }
   ],
   "source": [
    "findCommunities(G, out_file=\"data/only_focus_communities.json\")"
   ]
  },
  {
   "cell_type": "code",
   "execution_count": 375,
   "metadata": {
    "collapsed": true
   },
   "outputs": [
    {
     "data": {
      "image/png": "[encoded data removed]",
      "text/plain": [
       "<Figure size 864x864 with 1 Axes>"
      ]
     },
     "metadata": {
      "needs_background": "light"
     },
     "output_type": "display_data"
    }
   ],
   "source": [
    "drawNetwork(G, out_file=\"fig/only_focus.pdf\")"
   ]
  },
  {
   "cell_type": "code",
   "execution_count": 28,
   "metadata": {},
   "outputs": [
    {
     "name": "stdout",
     "output_type": "stream",
     "text": [
      "Building Infomap network from a NetworkX graph...\n",
      "Find communities with Infomap...\n",
      "Found 795 modules with codelength: 5.404323\n"
     ]
    },
    {
     "data": {
      "text/plain": [
       "795"
      ]
     },
     "execution_count": 28,
     "metadata": {},
     "output_type": "execute_result"
    }
   ],
   "source": [
    "# G = nx.read_gpickle(\"data/entire_20190307.gpickle\")\n",
    "G = nx.read_pajek(\"data/entire_20190307.pajek\")\n",
    "findCommunities(G, out_file=\"data/entire_communities_20190307.json\")\n",
    "# drawNetwork(G, out_file=\"fig/focus.pdf\")"
   ]
  },
  {
   "cell_type": "code",
   "execution_count": 41,
   "metadata": {},
   "outputs": [
    {
     "name": "stdout",
     "output_type": "stream",
     "text": [
      "cristina2019 > 36\n",
      "nestorcumple > 36\n",
      "fuerzacristina > 36\n",
      "nestorvive > 36\n",
      "macrichorro > 26\n",
      "chaumacri > 36\n",
      "cfk > 0\n",
      "nestoreterno > 36\n",
      "macrisis > 53\n",
      "haganalgo > 63\n",
      "dalessiogate > 53\n",
      "1mruidazonacional > 53\n",
      "mifacturadegasenadn > 63\n",
      "tarifazodiario > 63\n",
      "elcuadernodedalessio > 63\n",
      "navarro2019 > 53\n",
      "fraudejudicial > 53\n",
      "stornelliaindagatoria > 53\n",
      "chaumacri > 36\n",
      "cristina > 16\n"
     ]
    },
    {
     "data": {
      "text/plain": [
       "[(36, 7), (53, 6), (63, 4), (26, 1), (0, 1), (16, 1)]"
      ]
     },
     "execution_count": 41,
     "metadata": {},
     "output_type": "execute_result"
    }
   ],
   "source": [
    "# communities = json.load(open(\"data/only_focus_communities.json\"))\n",
    "communities = json.load(open(\"data/entire_communities_20190307.json\"))\n",
    "# communities = json.load(open(\"data/entire_communities_20190305.json\"))\n",
    "\n",
    "from collections import Counter\n",
    "\n",
    "cnt = Counter()\n",
    "for ht in cristina_hashtags:\n",
    "    print(ht, \">\", communities[ht])\n",
    "    cnt[communities[ht]] += 1\n",
    "    \n",
    "cnt.most_common()"
   ]
  },
  {
   "cell_type": "code",
   "execution_count": 50,
   "metadata": {},
   "outputs": [
    {
     "data": {
      "text/plain": [
       "[('cristina2019', 10364),\n",
       " ('nestorcumple', 7720),\n",
       " ('haganalgo', 7113),\n",
       " ('1mruidazonacional', 3466),\n",
       " ('dalessiogate', 3456),\n",
       " ('fuerzacristina', 2886),\n",
       " ('navarro2019', 2404),\n",
       " ('nestorvive', 2374),\n",
       " ('stornelliaindagatoria', 2186),\n",
       " ('mifacturadegasenadn', 2026),\n",
       " ('macrisis', 1875),\n",
       " ('tarifazodiario', 1432),\n",
       " ('eldiarioconvh', 1425),\n",
       " ('vidalespeorquemacri', 1328),\n",
       " ('elcuadernodedalessio', 1243),\n",
       " ('fraudejudicial', 1143),\n",
       " ('manchavenenosa', 1058),\n",
       " ('andatemacri', 1054),\n",
       " ('chaumacri', 1052),\n",
       " ('losamigosdedalessio', 1029),\n",
       " ('lunesintratable', 1024),\n",
       " ('conramospadillano', 912),\n",
       " ('salvemosalinocente', 794),\n",
       " ('buenjueves', 787),\n",
       " ('bastadetarifazos', 720),\n",
       " ('audio', 701),\n",
       " ('stornelliimputado', 698),\n",
       " ('stornelliesmacri', 685),\n",
       " ('nestoreterno', 664),\n",
       " ('inodoropy', 563),\n",
       " ('1mstoptarifazo', 547),\n",
       " ('holandebe', 518),\n",
       " ('santoroystornellipresos', 508),\n",
       " ('martesintratable', 466),\n",
       " ('mmlpqtp', 445),\n",
       " ('trenroca', 423),\n",
       " ('serviciosdalessio', 408),\n",
       " ('tarifazo', 369),\n",
       " ('verdurazo', 363),\n",
       " ('storsionelli', 361),\n",
       " ('salta', 340),\n",
       " ('cristinavuelve', 299),\n",
       " ('cristinacumple', 276),\n",
       " ('tarifasjustas', 263),\n",
       " ('bastadeajuste', 239),\n",
       " ('micrisis', 191),\n",
       " ('extorsionelli', 182),\n",
       " ('cristinaenelsenado', 167),\n",
       " ('larretaesmacri', 163),\n",
       " ('noaceptocriticas', 154)]"
      ]
     },
     "execution_count": 50,
     "metadata": {},
     "output_type": "execute_result"
    }
   ],
   "source": [
    "G = nx.read_gpickle(\"data/entire_20190307.gpickle\")\n",
    "\n",
    "cnt = Counter()\n",
    "for node, c_id in communities.items():\n",
    "    if c_id in [36, 53, 63]:\n",
    "        cnt[node] = G.node[node][\"num\"]\n",
    "cnt.most_common(50)\n"
   ]
  },
  {
   "cell_type": "code",
   "execution_count": 35,
   "metadata": {},
   "outputs": [
    {
     "name": "stdout",
     "output_type": "stream",
     "text": [
      "cambiemos > 0\n",
      "gatocumple > 0\n",
      "macri > 2\n",
      "ucr > 0\n",
      "macri2019 > 0\n"
     ]
    },
    {
     "data": {
      "text/plain": [
       "[(0, 4), (2, 1)]"
      ]
     },
     "execution_count": 35,
     "metadata": {},
     "output_type": "execute_result"
    }
   ],
   "source": [
    "cnt = Counter()\n",
    "for ht in macri_hashtags:\n",
    "    print(ht, \">\", communities[ht])\n",
    "    cnt[communities[ht]] += 1\n",
    "\n",
    "cnt.most_common()"
   ]
  },
  {
   "cell_type": "code",
   "execution_count": 52,
   "metadata": {},
   "outputs": [
    {
     "data": {
      "text/plain": [
       "[('elecciones2019', 10924),\n",
       " ('cambiemos', 10813),\n",
       " ('buenmartes', 6836),\n",
       " ('buenlunes', 5595),\n",
       " ('buenmiercoles', 4180),\n",
       " ('gatocumple', 3920),\n",
       " ('cfk', 3096),\n",
       " ('macri2019', 1984),\n",
       " ('hayalternativa', 1405),\n",
       " ('habraconsecuencias', 1362),\n",
       " ('ucr', 1162),\n",
       " ('laplata', 1000),\n",
       " ('tucuman', 810),\n",
       " ('eldestaperadio', 801),\n",
       " ('massa2019', 756),\n",
       " ('adosvoces', 655),\n",
       " ('unidadciudadana', 653),\n",
       " ('santafe', 652),\n",
       " ('nomasmentiras', 646),\n",
       " ('ddm', 457),\n",
       " ('hayesperanza', 420),\n",
       " ('lunesdecambiemos', 406),\n",
       " ('gpcocina', 389),\n",
       " ('novaresio910', 360),\n",
       " ('mananasylvestre', 350),\n",
       " ('scioli2019', 339),\n",
       " ('patrullaperdida', 329),\n",
       " ('involucrados', 325),\n",
       " ('sinfin', 309),\n",
       " ('urtubey2019', 305),\n",
       " ('kicillof2019', 294),\n",
       " ('miercolesdecambiemos', 259),\n",
       " ('rossi2019', 236),\n",
       " ('buendia', 223),\n",
       " ('magario', 198),\n",
       " ('radicales', 192),\n",
       " ('nk', 190),\n",
       " ('secambiaenserio', 176),\n",
       " ('mentiritamacri', 175),\n",
       " ('encuestas', 170),\n",
       " ('macriena2v', 159),\n",
       " ('turismo', 129),\n",
       " ('moyano2019', 129),\n",
       " ('eleccinones2019', 127),\n",
       " ('polemicaenelbar', 118),\n",
       " ('lavagna2019', 114),\n",
       " ('entrerios', 109),\n",
       " ('somosmuchos', 101),\n",
       " ('elecciones219', 92),\n",
       " ('bregman2019', 92)]"
      ]
     },
     "execution_count": 52,
     "metadata": {},
     "output_type": "execute_result"
    }
   ],
   "source": [
    "cnt = Counter()\n",
    "for node, c_id in communities.items():\n",
    "    if c_id in [0]:\n",
    "        cnt[node] = G.node[node][\"num\"]\n",
    "cnt.most_common(50)"
   ]
  },
  {
   "cell_type": "code",
   "execution_count": 40,
   "metadata": {},
   "outputs": [
    {
     "data": {
      "text/plain": [
       "24"
      ]
     },
     "execution_count": 40,
     "metadata": {},
     "output_type": "execute_result"
    }
   ],
   "source": [
    "G2 = G.subgraph(list(focus))\n",
    "G2.number_of_nodes()"
   ]
  },
  {
   "cell_type": "code",
   "execution_count": 38,
   "metadata": {},
   "outputs": [
    {
     "name": "stdout",
     "output_type": "stream",
     "text": [
      "Building Infomap network from a NetworkX graph...\n",
      "Find communities with Infomap...\n",
      "Found 4 modules with codelength: 3.266657\n"
     ]
    },
    {
     "data": {
      "image/png": "[encoded data removed]",
      "text/plain": [
       "<Figure size 864x864 with 1 Axes>"
      ]
     },
     "metadata": {
      "needs_background": "light"
     },
     "output_type": "display_data"
    }
   ],
   "source": [
    "findCommunities(G2, out_file=\"data/focus_communities_20190307.json\")\n",
    "drawNetwork(G2, out_file=\"fig/focus.pdf\")"
   ]
  },
  {
   "cell_type": "markdown",
   "metadata": {},
   "source": [
    "# community detection on hashtag network"
   ]
  },
  {
   "cell_type": "code",
   "execution_count": 28,
   "metadata": {},
   "outputs": [],
   "source": [
    "G = nx.read_gpickle(\"data/hashtags-networks-20190411.gpickle\")\n",
    "# G.remove_node(\"ahora\")"
   ]
  },
  {
   "cell_type": "code",
   "execution_count": 29,
   "metadata": {},
   "outputs": [],
   "source": [
    "for i, n in enumerate(G.nodes()):\n",
    "    G.node[n][\"id\"] = i\n",
    "#     print(G.node[n])"
   ]
  },
  {
   "cell_type": "code",
   "execution_count": 30,
   "metadata": {},
   "outputs": [
    {
     "name": "stdout",
     "output_type": "stream",
     "text": [
      "Building Infomap network from a NetworkX graph...\n",
      "Find communities with Infomap...\n",
      "Found 7 modules with codelength: 5.452707\n"
     ]
    }
   ],
   "source": [
    "comm = findCommunities(G)\n",
    "# drawNetwork(G, out_file=\"fig/focus.pdf\")"
   ]
  },
  {
   "cell_type": "code",
   "execution_count": 31,
   "metadata": {},
   "outputs": [
    {
     "name": "stdout",
     "output_type": "stream",
     "text": [
      "buenjueves 0 K\n",
      "buenlunes 0 K\n",
      "macrichau 0 K\n",
      "fuerzacristina 0 K\n",
      "felizlunes 0 K\n",
      "cristina2019 0 K\n",
      "chautelefenoticias 0 K\n",
      "fuerzaflorencia 0 K\n",
      "8m2019 0 K\n",
      "vidalespeorquemacri 0 K\n",
      "ramospadillasomostodos 0 K\n",
      "andatemacri 0 K\n",
      "1mruidazonacional 0 K\n",
      "ruidazonacional 0 K\n",
      "buenmiercoles 0 K\n",
      "chautelefe 0 K\n",
      "buenmartes 0 K\n",
      "habraconsecuencias 0 K\n",
      "buenviernes 0 K\n",
      "navarro2019 0 K\n",
      "chaumacri 0 K\n",
      "ellalegana 0 K\n",
      "lamafiademacri 0 K\n",
      "macrimiente 0 K\n",
      "argentinaexplota 0 K\n",
      "macrisis 0 K\n",
      "macrilandia 0 K\n",
      "nestorcumple 0 K\n",
      "dalessiogate 0 K\n",
      "nestorvive 0 K\n",
      "juiciopoliticoamacri 0 K\n",
      "haganalgo 0 K\n",
      "buendomingo 1 M\n",
      "macritevuelvoaelegir 1 M\n",
      "mm2019 1 M\n",
      "debodecir 1 M\n",
      "novuelvenmas 1 M\n",
      "animalessueltos 1 M\n",
      "lavagnaeskirchner 1 A\n",
      "macri2019 1 M\n",
      "chaco 2 A\n",
      "avengersendgame 2 A\n",
      "massa 2 A\n",
      "hayalternativa 2 A\n",
      "raro 2 A\n",
      "urtubey 2 A\n",
      "tv 2 A\n",
      "tncentral 2 A\n",
      "defenderlaargentina 2 A\n",
      "zamora 2 A\n",
      "carzoglio 3 A\n",
      "duhalde 3 A\n",
      "moyano 3 A\n",
      "fiscalia 3 A\n",
      "hagamosquesuceda 4 M\n",
      "hoy 4 M\n",
      "rionegro 4 M\n",
      "cordoba 4 M\n",
      "ucr 4 M\n",
      "tucuman 4 M\n",
      "cambiemos 4 M\n",
      "elecciones 5 K\n",
      "sebastianyatra 5 K\n",
      "kirchnerismo 5 K\n",
      "lavagna 5 A\n",
      "vidal 5 M\n",
      "tinelli 5 A\n",
      "humor 5 M\n",
      "encuesta 5 K\n",
      "kirchner 5 K\n",
      "peronismo 5 K\n",
      "anime 5 M\n",
      "cfk 5 K\n",
      "cristina 5 K\n",
      "lanatasinfiltro 5 A\n",
      "macri 5 M\n",
      "politica 5 M\n",
      "congreso 5 K\n",
      "cambiemosacambiemos 5 A\n",
      "berensztein 5 A\n",
      "video 5 M\n",
      "cuba 5 K\n",
      "neuquen 6 M\n",
      "asamblealegislativa 6 K\n",
      "neuquenvota 6 M\n",
      "hayotrocamino 6 K\n",
      "gutierrezesmacri 6 M\n",
      "[Counter({'K': 44, 'M': 23, 'A': 20}), Counter({'K': 44, 'M': 23, 'A': 20}), Counter({'K': 44, 'M': 23, 'A': 20}), Counter({'K': 44, 'M': 23, 'A': 20}), Counter({'K': 44, 'M': 23, 'A': 20}), Counter({'K': 44, 'M': 23, 'A': 20}), Counter({'K': 44, 'M': 23, 'A': 20}), Counter({'K': 44, 'M': 23, 'A': 20})]\n"
     ]
    }
   ],
   "source": [
    "from collections import Counter\n",
    "\n",
    "c = [Counter()] * 8\n",
    "# print(c)\n",
    "\n",
    "for n, v in comm.items():\n",
    "    print(n, G.node[n]['community_Infomap'], G.node[n]['camp'])\n",
    "    c_id = G.node[n]['community_Infomap']\n",
    "#     print(c_id)\n",
    "    c[c_id][G.node[n]['camp']] += 1\n",
    "        \n",
    "print(c)\n",
    "# for n in G.nodes():\n",
    "#     G.node[n]['num'] = 0\n",
    "    \n",
    "for (n1, n2, d) in G.edges(data=True):\n",
    "    d.clear()\n",
    "nx.write_gexf(G, \"data/hashtags-networks-20190411-comm.gexf\")"
   ]
  },
  {
   "cell_type": "code",
   "execution_count": 45,
   "metadata": {},
   "outputs": [],
   "source": [
    "import community\n",
    "import networkx as nx\n",
    "import matplotlib.pyplot as plt\n",
    "\n",
    "\n",
    "#first compute the best partition\n",
    "\n",
    "comm = community.best_partition(G)\n",
    "nx.set_node_attributes(G, name='community_Louvain', values=comm)\n",
    "# print(comm)\n",
    "\n",
    "# drawing\n",
    "# size = float(len(set(partition.values())))\n",
    "# pos = nx.spring_layout(G)\n",
    "# count = 0.\n",
    "# for com in set(partition.values()) :\n",
    "#     count = count + 1.\n",
    "#     list_nodes = [nodes for nodes in partition.keys()\n",
    "#                                 if partition[nodes] == com]\n",
    "#     nx.draw_networkx_nodes(G, pos, list_nodes, node_size = 20,\n",
    "#                                 node_color = str(count / size))\n",
    "\n",
    "\n",
    "# nx.draw_networkx_edges(G, pos, alpha=0.5)\n",
    "# plt.show()"
   ]
  },
  {
   "cell_type": "code",
   "execution_count": 46,
   "metadata": {},
   "outputs": [
    {
     "name": "stdout",
     "output_type": "stream",
     "text": [
      "hayalternativa A 0 0\n",
      "sesionesordinarias K 1 1\n",
      "macrimiente K 1 1\n",
      "buenjueves K 2 2\n",
      "buenmartes K 2 1\n",
      "buendomingo M 0 0\n",
      "dolar K 0 0\n",
      "kirchnerismo K 0 0\n",
      "habraconsecuencias K 2 3\n",
      "hayotrocamino K 1 1\n",
      "buensabado K 1 1\n",
      "buenlunes K 2 3\n",
      "argentinaexplota K 1 1\n",
      "macrisis K 1 1\n",
      "mm2019 M 0 0\n",
      "macri M 0 4\n",
      "macritevuelvoaelegir M 0 0\n",
      "politica M 0 4\n",
      "debodecir M 0 0\n",
      "macrilandia K 1 1\n",
      "nestorcumple K 2 2\n",
      "fuerzacristina K 2 2\n",
      "macrichau K 2 3\n",
      "ramospadillasomostodos K 1 1\n",
      "dalessiogate K 1 1\n",
      "novuelvenmas M 0 0\n",
      "lavagna A 0 0\n",
      "chautelefe K 2 2\n",
      "congreso K 0 0\n",
      "cuba K 0 4\n",
      "urtubey A 0 0\n",
      "gutierrezesmacri M 1 0\n",
      "riosecogobernador K 1 0\n",
      "argentina K 0 4\n",
      "pj K 0 3\n",
      "nestorvive K 2 2\n",
      "andatemacri K 1 1\n",
      "juiciopoliticoamacri K 1 1\n",
      "felizlunes K 2 2\n",
      "animalessueltos M 0 0\n",
      "kirchner K 0 4\n",
      "duhalde A 0 0\n",
      "ucr M 1 3\n",
      "defenderlaargentina A 0 0\n",
      "peronismo K 2 3\n",
      "macri2019 M 0 0\n",
      "cristina2019 K 2 2\n",
      "1mruidazonacional K 1 1\n",
      "chautelefenoticias K 2 2\n",
      "haganalgo K 1 1\n",
      "cfk K 0 0\n",
      "buenviernes K 1 1\n",
      "navarro2019 K 2 3\n",
      "massa A 0 0\n",
      "cristina K 0 4\n",
      "ruidazonacional K 1 1\n",
      "cambiemos M 2 3\n",
      "buenmiercoles K 1 1\n",
      "neuquen M 1 3\n",
      "chaumacri K 1 1\n",
      "ellalegana K 2 3\n",
      "encuesta K 2 4\n",
      "fuerzaflorencia K 2 2\n",
      "neuquenvota M 0 0\n",
      "8m2019 K 2 3\n",
      "scioli A 0 0\n",
      "lamafiademacri K 1 1\n",
      "vidalespeorquemacri K 1 1\n"
     ]
    }
   ],
   "source": [
    "for n in G.nodes():\n",
    "    try:\n",
    "        print(n, G.node[n]['camp'], G.node[n]['community_Infomap'], G.node[n]['community_Louvain'])\n",
    "    except:\n",
    "        print(n, G.node[n])"
   ]
  },
  {
   "cell_type": "code",
   "execution_count": 48,
   "metadata": {},
   "outputs": [
    {
     "name": "stdout",
     "output_type": "stream",
     "text": [
      "Counter({1: 20, 2: 18, 0: 9}) Counter({0: 10, 1: 3, 2: 1}) Counter({0: 7})\n"
     ]
    }
   ],
   "source": [
    "c1 = Counter()\n",
    "c2 = Counter()\n",
    "c3 = Counter()\n",
    "\n",
    "for n in G.nodes():\n",
    "    if G.node[n]['camp'] == \"K\":\n",
    "        c1[G.node[n]['community_Infomap']] += 1\n",
    "    elif G.node[n]['camp'] == \"M\":\n",
    "        c2[G.node[n]['community_Infomap']] += 1\n",
    "    elif G.node[n]['camp'] == \"A\":\n",
    "        c3[G.node[n]['community_Infomap']] += 1\n",
    "\n",
    "print(c1, c2, c3)"
   ]
  },
  {
   "cell_type": "code",
   "execution_count": 49,
   "metadata": {},
   "outputs": [
    {
     "name": "stdout",
     "output_type": "stream",
     "text": [
      "Counter({1: 20, 2: 9, 3: 8, 0: 5, 4: 5}) Counter({0: 9, 3: 3, 4: 2}) Counter({0: 7})\n"
     ]
    }
   ],
   "source": [
    "c1 = Counter()\n",
    "c2 = Counter()\n",
    "c3 = Counter()\n",
    "\n",
    "for n in G.nodes():\n",
    "    if G.node[n]['camp'] == \"K\":\n",
    "        c1[G.node[n]['community_Louvain']] += 1\n",
    "    elif G.node[n]['camp'] == \"M\":\n",
    "        c2[G.node[n]['community_Louvain']] += 1\n",
    "    elif G.node[n]['camp'] == \"A\":\n",
    "        c3[G.node[n]['community_Louvain']] += 1\n",
    "\n",
    "print(c1, c2, c3)"
   ]
  },
  {
   "cell_type": "code",
   "execution_count": null,
   "metadata": {},
   "outputs": [],
   "source": []
  }
 ],
 "metadata": {
  "kernelspec": {
   "display_name": "Python 3",
   "language": "python",
   "name": "python3"
  },
  "language_info": {
   "codemirror_mode": {
    "name": "ipython",
    "version": 3
   },
   "file_extension": ".py",
   "mimetype": "text/x-python",
   "name": "python",
   "nbconvert_exporter": "python",
   "pygments_lexer": "ipython3",
   "version": "3.6.8"
  }
 },
 "nbformat": 4,
 "nbformat_minor": 2
}
