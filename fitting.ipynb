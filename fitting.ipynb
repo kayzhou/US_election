{
 "cells": [
  {
   "cell_type": "code",
   "execution_count": 1,
   "metadata": {},
   "outputs": [],
   "source": [
    "from SQLite_handler import *\n",
    "from my_weapon import *\n",
    "from tqdm import tqdm_notebook as tqdm\n",
    "%matplotlib inline\n",
    "sns.set(style=\"whitegrid\", font_scale=1.2)"
   ]
  },
  {
   "cell_type": "code",
   "execution_count": 2,
   "metadata": {},
   "outputs": [],
   "source": [
    "data = pd.read_csv(\"web/data/2019-05-14/p1.csv\", usecols=[\"dt\", \"Cristina (AI)\", \"Macri (AI)\"]).set_index(\"dt\")\n",
    "data = data.dropna()\n",
    "data.index = pd.to_datetime(data.index)"
   ]
  },
  {
   "cell_type": "code",
   "execution_count": 6,
   "metadata": {},
   "outputs": [],
   "source": [
    "sess = get_session()\n",
    "\n",
    "new_r = []\n",
    "for dt, r in data.iterrows():\n",
    "    new_r.append(\n",
    "        Percent(dt=dt, K=r[\"Cristina (AI)\"], M=r[\"Macri (AI)\"])\n",
    "    )\n",
    "sess.add_all(new_r)\n",
    "\n",
    "sess.commit()\n",
    "sess.close()"
   ]
  },
  {
   "cell_type": "code",
   "execution_count": 3,
   "metadata": {},
   "outputs": [],
   "source": [
    "import pendulum\n",
    "\n",
    "new_data = []\n",
    "for i, row in data.iterrows():\n",
    "    i = pendulum.instance(i)\n",
    "    if i.day_of_week == 1:\n",
    "        new_data.append(row)\n",
    "\n",
    "new_data = pd.DataFrame(new_data)"
   ]
  },
  {
   "cell_type": "code",
   "execution_count": 4,
   "metadata": {},
   "outputs": [
    {
     "data": {
      "text/plain": [
       "<matplotlib.axes._subplots.AxesSubplot at 0x7f7d800bc828>"
      ]
     },
     "execution_count": 4,
     "metadata": {},
     "output_type": "execute_result"
    },
    {
     "data": {
      "image/png": "[encoded data removed]",
      "text/plain": [
       "<Figure size 432x288 with 1 Axes>"
      ]
     },
     "metadata": {
      "needs_background": "light"
     },
     "output_type": "display_data"
    }
   ],
   "source": [
    "new_data.plot()"
   ]
  },
  {
   "cell_type": "code",
   "execution_count": 5,
   "metadata": {},
   "outputs": [
    {
     "data": {
      "text/plain": [
       "2019-03-04    0.482\n",
       "2019-03-11    0.448\n",
       "2019-03-18    0.419\n",
       "2019-03-25    0.416\n",
       "2019-04-01    0.473\n",
       "2019-04-08    0.421\n",
       "2019-04-15    0.446\n",
       "2019-04-22    0.491\n",
       "2019-04-29    0.499\n",
       "2019-05-13    0.431\n",
       "2019-05-20    0.474\n",
       "2019-05-27    0.483\n",
       "2019-06-03    0.494\n",
       "2019-06-10    0.454\n",
       "2019-06-17    0.456\n",
       "Name: Macri (AI), dtype: float64"
      ]
     },
     "execution_count": 5,
     "metadata": {},
     "output_type": "execute_result"
    }
   ],
   "source": [
    "X = new_data[\"Macri (AI)\"]\n",
    "X"
   ]
  },
  {
   "cell_type": "code",
   "execution_count": 6,
   "metadata": {},
   "outputs": [
    {
     "data": {
      "text/html": [
       "<div>\n",
       "<style scoped>\n",
       "    .dataframe tbody tr th:only-of-type {\n",
       "        vertical-align: middle;\n",
       "    }\n",
       "\n",
       "    .dataframe tbody tr th {\n",
       "        vertical-align: top;\n",
       "    }\n",
       "\n",
       "    .dataframe thead th {\n",
       "        text-align: right;\n",
       "    }\n",
       "</style>\n",
       "<table border=\"1\" class=\"dataframe\">\n",
       "  <thead>\n",
       "    <tr style=\"text-align: right;\">\n",
       "      <th></th>\n",
       "      <th>PM</th>\n",
       "      <th>PK</th>\n",
       "    </tr>\n",
       "    <tr>\n",
       "      <th>dt</th>\n",
       "      <th></th>\n",
       "      <th></th>\n",
       "    </tr>\n",
       "  </thead>\n",
       "  <tbody>\n",
       "    <tr>\n",
       "      <th>2019-02-25</th>\n",
       "      <td>0.444</td>\n",
       "      <td>0.556</td>\n",
       "    </tr>\n",
       "    <tr>\n",
       "      <th>2019-03-04</th>\n",
       "      <td>0.401</td>\n",
       "      <td>0.599</td>\n",
       "    </tr>\n",
       "    <tr>\n",
       "      <th>2019-03-11</th>\n",
       "      <td>0.432</td>\n",
       "      <td>0.568</td>\n",
       "    </tr>\n",
       "    <tr>\n",
       "      <th>2019-03-18</th>\n",
       "      <td>0.409</td>\n",
       "      <td>0.591</td>\n",
       "    </tr>\n",
       "    <tr>\n",
       "      <th>2019-03-25</th>\n",
       "      <td>0.422</td>\n",
       "      <td>0.578</td>\n",
       "    </tr>\n",
       "    <tr>\n",
       "      <th>2019-04-01</th>\n",
       "      <td>0.389</td>\n",
       "      <td>0.611</td>\n",
       "    </tr>\n",
       "    <tr>\n",
       "      <th>2019-04-08</th>\n",
       "      <td>0.398</td>\n",
       "      <td>0.602</td>\n",
       "    </tr>\n",
       "    <tr>\n",
       "      <th>2019-04-15</th>\n",
       "      <td>0.418</td>\n",
       "      <td>0.582</td>\n",
       "    </tr>\n",
       "    <tr>\n",
       "      <th>2019-04-22</th>\n",
       "      <td>0.411</td>\n",
       "      <td>0.589</td>\n",
       "    </tr>\n",
       "    <tr>\n",
       "      <th>2019-04-29</th>\n",
       "      <td>0.465</td>\n",
       "      <td>0.535</td>\n",
       "    </tr>\n",
       "    <tr>\n",
       "      <th>2019-05-06</th>\n",
       "      <td>0.425</td>\n",
       "      <td>0.575</td>\n",
       "    </tr>\n",
       "    <tr>\n",
       "      <th>2019-05-13</th>\n",
       "      <td>0.411</td>\n",
       "      <td>0.589</td>\n",
       "    </tr>\n",
       "    <tr>\n",
       "      <th>2019-05-20</th>\n",
       "      <td>0.411</td>\n",
       "      <td>0.589</td>\n",
       "    </tr>\n",
       "    <tr>\n",
       "      <th>2019-05-27</th>\n",
       "      <td>0.540</td>\n",
       "      <td>0.460</td>\n",
       "    </tr>\n",
       "    <tr>\n",
       "      <th>2019-06-03</th>\n",
       "      <td>0.489</td>\n",
       "      <td>0.511</td>\n",
       "    </tr>\n",
       "    <tr>\n",
       "      <th>2019-06-10</th>\n",
       "      <td>0.496</td>\n",
       "      <td>0.504</td>\n",
       "    </tr>\n",
       "  </tbody>\n",
       "</table>\n",
       "</div>"
      ],
      "text/plain": [
       "               PM     PK\n",
       "dt                      \n",
       "2019-02-25  0.444  0.556\n",
       "2019-03-04  0.401  0.599\n",
       "2019-03-11  0.432  0.568\n",
       "2019-03-18  0.409  0.591\n",
       "2019-03-25  0.422  0.578\n",
       "2019-04-01  0.389  0.611\n",
       "2019-04-08  0.398  0.602\n",
       "2019-04-15  0.418  0.582\n",
       "2019-04-22  0.411  0.589\n",
       "2019-04-29  0.465  0.535\n",
       "2019-05-06  0.425  0.575\n",
       "2019-05-13  0.411  0.589\n",
       "2019-05-20  0.411  0.589\n",
       "2019-05-27  0.540  0.460\n",
       "2019-06-03  0.489  0.511\n",
       "2019-06-10  0.496  0.504"
      ]
     },
     "execution_count": 6,
     "metadata": {},
     "output_type": "execute_result"
    }
   ],
   "source": [
    "data = pd.read_csv(\"data/processed_positive.csv\", usecols=[\"dt\", \"PK\", \"PM\"]).set_index(\"dt\")\n",
    "# data.index = pd.to_datetime(data.index)\n",
    "data"
   ]
  },
  {
   "cell_type": "code",
   "execution_count": 27,
   "metadata": {},
   "outputs": [],
   "source": [
    "import pendulum\n",
    "\n",
    "new_data1 = []\n",
    "for i, row in data.iterrows():\n",
    "    i = pendulum.parse(i)\n",
    "    i = i.add(days=7)\n",
    "    i = pendulum.instance(i).to_date_string()\n",
    "    # print(i)\n",
    "    row = dict(row)\n",
    "    row[\"dt\"] = i\n",
    "    new_data1.append(row)\n",
    "\n",
    "# print(new_data1)\n",
    "new_data1 = pd.DataFrame(new_data1).set_index(\"dt\")\n",
    "new_data1.index = pd.to_datetime(new_data1.index)"
   ]
  },
  {
   "cell_type": "code",
   "execution_count": 28,
   "metadata": {},
   "outputs": [
    {
     "data": {
      "text/plain": [
       "<matplotlib.axes._subplots.AxesSubplot at 0x7f7d432f5278>"
      ]
     },
     "execution_count": 28,
     "metadata": {},
     "output_type": "execute_result"
    },
    {
     "data": {
      "image/png": "[encoded data removed]",
      "text/plain": [
       "<Figure size 432x288 with 1 Axes>"
      ]
     },
     "metadata": {
      "needs_background": "light"
     },
     "output_type": "display_data"
    }
   ],
   "source": [
    "new_data1.plot()"
   ]
  },
  {
   "cell_type": "code",
   "execution_count": 29,
   "metadata": {},
   "outputs": [
    {
     "data": {
      "text/plain": [
       "dt\n",
       "2019-03-04    0.444\n",
       "2019-03-11    0.401\n",
       "2019-03-18    0.432\n",
       "2019-03-25    0.409\n",
       "2019-04-01    0.422\n",
       "2019-04-08    0.389\n",
       "2019-04-15    0.398\n",
       "2019-04-22    0.418\n",
       "2019-04-29    0.411\n",
       "2019-05-06    0.465\n",
       "2019-05-13    0.425\n",
       "2019-05-20    0.411\n",
       "2019-05-27    0.411\n",
       "2019-06-03    0.540\n",
       "2019-06-10    0.489\n",
       "2019-06-17    0.496\n",
       "Name: PM, dtype: float64"
      ]
     },
     "execution_count": 29,
     "metadata": {},
     "output_type": "execute_result"
    }
   ],
   "source": [
    "E = new_data1[\"PM\"]\n",
    "E"
   ]
  },
  {
   "cell_type": "code",
   "execution_count": 10,
   "metadata": {},
   "outputs": [
    {
     "data": {
      "text/plain": [
       "2019-03-04      NaN\n",
       "2019-03-11    0.482\n",
       "2019-03-18    0.448\n",
       "2019-03-25    0.419\n",
       "2019-04-01    0.416\n",
       "2019-04-08    0.473\n",
       "2019-04-15    0.421\n",
       "2019-04-22    0.446\n",
       "2019-04-29    0.491\n",
       "2019-05-13    0.499\n",
       "2019-05-20    0.431\n",
       "2019-05-27    0.474\n",
       "2019-06-03    0.483\n",
       "2019-06-10    0.494\n",
       "2019-06-17    0.454\n",
       "Name: Macri (AI), dtype: float64"
      ]
     },
     "execution_count": 10,
     "metadata": {},
     "output_type": "execute_result"
    }
   ],
   "source": [
    "X.shift(1)"
   ]
  },
  {
   "cell_type": "code",
   "execution_count": 11,
   "metadata": {},
   "outputs": [
    {
     "data": {
      "text/plain": [
       "[<matplotlib.lines.Line2D at 0x7f7d4a80e908>]"
      ]
     },
     "execution_count": 11,
     "metadata": {},
     "output_type": "execute_result"
    },
    {
     "data": {
      "image/png": "[encoded data removed]",
      "text/plain": [
       "<Figure size 432x288 with 1 Axes>"
      ]
     },
     "metadata": {
      "needs_background": "light"
     },
     "output_type": "display_data"
    }
   ],
   "source": [
    "plt.plot(X)\n",
    "plt.plot(E)"
   ]
  },
  {
   "cell_type": "code",
   "execution_count": 15,
   "metadata": {},
   "outputs": [],
   "source": [
    "def linear(input_x, input_y):\n",
    "    '''\n",
    "    线性回归\n",
    "    :param x:\n",
    "    :param y:\n",
    "    :return: 拟合参数\n",
    "    '''\n",
    "    from sklearn.linear_model import LinearRegression\n",
    "    clf = LinearRegression()\n",
    "    X = [[i] for i in input_x]\n",
    "    y = input_y\n",
    "    clf.fit(X, y)\n",
    "    return clf.coef_[0], clf.intercept_, clf.score(X, y)"
   ]
  },
  {
   "cell_type": "code",
   "execution_count": 15,
   "metadata": {},
   "outputs": [
    {
     "data": {
      "text/plain": [
       "(0.4335427459621654, 0.2340127405705712, 0.08451640981118869)"
      ]
     },
     "execution_count": 15,
     "metadata": {},
     "output_type": "execute_result"
    }
   ],
   "source": [
    "linear(X, E)"
   ]
  },
  {
   "cell_type": "code",
   "execution_count": 16,
   "metadata": {},
   "outputs": [],
   "source": [
    "fit0 = X * 0.4335 + 0.2340"
   ]
  },
  {
   "cell_type": "code",
   "execution_count": 17,
   "metadata": {},
   "outputs": [
    {
     "data": {
      "text/plain": [
       "[<matplotlib.lines.Line2D at 0x7f7d4342fb38>]"
      ]
     },
     "execution_count": 17,
     "metadata": {},
     "output_type": "execute_result"
    },
    {
     "data": {
      "image/png": "[encoded data removed]",
      "text/plain": [
       "<Figure size 432x288 with 1 Axes>"
      ]
     },
     "metadata": {
      "needs_background": "light"
     },
     "output_type": "display_data"
    }
   ],
   "source": [
    "plt.plot(X)\n",
    "plt.plot(E)\n",
    "plt.plot(fit0)"
   ]
  },
  {
   "cell_type": "code",
   "execution_count": 18,
   "metadata": {},
   "outputs": [],
   "source": [
    "E_1 = E.shift(-1).dropna()\n",
    "X_1 = X.iloc[:-1]"
   ]
  },
  {
   "cell_type": "code",
   "execution_count": 19,
   "metadata": {},
   "outputs": [
    {
     "data": {
      "text/plain": [
       "(0.44834802938791923, 0.2263338445004494, 0.09076327419599595)"
      ]
     },
     "execution_count": 19,
     "metadata": {},
     "output_type": "execute_result"
    }
   ],
   "source": [
    "linear(X_1, E_1)"
   ]
  },
  {
   "cell_type": "code",
   "execution_count": 20,
   "metadata": {},
   "outputs": [],
   "source": [
    "fit1 = X_1 * 0.4483 + 0.2263"
   ]
  },
  {
   "cell_type": "code",
   "execution_count": 210,
   "metadata": {},
   "outputs": [
    {
     "data": {
      "text/plain": [
       "[<matplotlib.lines.Line2D at 0x7f7bb48e74e0>]"
      ]
     },
     "execution_count": 210,
     "metadata": {},
     "output_type": "execute_result"
    },
    {
     "data": {
      "image/png": "[encoded data removed]",
      "text/plain": [
       "<Figure size 432x288 with 1 Axes>"
      ]
     },
     "metadata": {},
     "output_type": "display_data"
    }
   ],
   "source": [
    "plt.plot(X_1)\n",
    "plt.plot(E_1)\n",
    "plt.plot(fit1)"
   ]
  },
  {
   "cell_type": "code",
   "execution_count": 23,
   "metadata": {},
   "outputs": [
    {
     "name": "stdout",
     "output_type": "stream",
     "text": [
      "dt\n",
      "2019-03-04    0.432\n",
      "2019-03-11    0.409\n",
      "2019-03-18    0.422\n",
      "2019-03-25    0.389\n",
      "2019-04-01    0.398\n",
      "2019-04-08    0.418\n",
      "2019-04-15    0.411\n",
      "2019-04-22    0.425\n",
      "2019-04-29    0.411\n",
      "2019-05-13    0.411\n",
      "2019-05-20    0.540\n",
      "2019-05-27    0.489\n",
      "2019-06-03    0.496\n",
      "Name: PM, dtype: float64\n",
      "2019-03-04    0.482\n",
      "2019-03-11    0.448\n",
      "2019-03-18    0.419\n",
      "2019-03-25    0.416\n",
      "2019-04-01    0.473\n",
      "2019-04-08    0.421\n",
      "2019-04-15    0.446\n",
      "2019-04-22    0.491\n",
      "2019-04-29    0.499\n",
      "2019-05-13    0.431\n",
      "2019-05-20    0.474\n",
      "2019-05-27    0.483\n",
      "2019-06-03    0.494\n",
      "Name: Macri (AI), dtype: float64\n"
     ]
    },
    {
     "data": {
      "text/plain": [
       "(0.666655355421932, 0.12818468774177788, 0.20887122560025537)"
      ]
     },
     "execution_count": 23,
     "metadata": {},
     "output_type": "execute_result"
    }
   ],
   "source": [
    "E_2 = E.shift(-2).dropna()\n",
    "print(E_2)\n",
    "X_2 = X.iloc[:-2]\n",
    "print(X_2)\n",
    "linear(X_2, E_2)"
   ]
  },
  {
   "cell_type": "code",
   "execution_count": 24,
   "metadata": {},
   "outputs": [],
   "source": [
    "fit2 = X * 0.6666 + 0.1281"
   ]
  },
  {
   "cell_type": "code",
   "execution_count": 25,
   "metadata": {},
   "outputs": [
    {
     "data": {
      "text/plain": [
       "<matplotlib.legend.Legend at 0x7f7d43333f60>"
      ]
     },
     "execution_count": 25,
     "metadata": {},
     "output_type": "execute_result"
    },
    {
     "data": {
      "image/png": "[encoded data removed]",
      "text/plain": [
       "<Figure size 720x432 with 1 Axes>"
      ]
     },
     "metadata": {
      "needs_background": "light"
     },
     "output_type": "display_data"
    }
   ],
   "source": [
    "plt.figure(figsize=(10, 6))\n",
    "plt.plot(X, label=\"AI\")\n",
    "plt.plot(E_2, label=\"Elypsis (2w)\")\n",
    "plt.plot(fit2, label=\"fitted AI\")\n",
    "plt.title(\"Dynamics of supporting Macri-Pichetto\")\n",
    "plt.legend()"
   ]
  },
  {
   "cell_type": "code",
   "execution_count": 30,
   "metadata": {},
   "outputs": [
    {
     "data": {
      "text/plain": [
       "dt\n",
       "2019-03-04    0.444\n",
       "2019-03-11    0.401\n",
       "2019-03-18    0.432\n",
       "2019-03-25    0.409\n",
       "2019-04-01    0.422\n",
       "2019-04-08    0.389\n",
       "2019-04-15    0.398\n",
       "2019-04-22    0.418\n",
       "2019-04-29    0.411\n",
       "2019-05-06    0.465\n",
       "2019-05-13    0.425\n",
       "2019-05-20    0.411\n",
       "2019-05-27    0.411\n",
       "2019-06-03    0.540\n",
       "2019-06-10    0.489\n",
       "2019-06-17    0.496\n",
       "Name: PM, dtype: float64"
      ]
     },
     "execution_count": 30,
     "metadata": {},
     "output_type": "execute_result"
    }
   ],
   "source": [
    "E"
   ]
  },
  {
   "cell_type": "code",
   "execution_count": 123,
   "metadata": {},
   "outputs": [],
   "source": [
    "data = pd.read_csv(\"data/for_fitting.csv\").set_index(\"dt\")"
   ]
  },
  {
   "cell_type": "code",
   "execution_count": 124,
   "metadata": {},
   "outputs": [],
   "source": [
    "data.index = pd.to_datetime(data.index)"
   ]
  },
  {
   "cell_type": "code",
   "execution_count": 125,
   "metadata": {},
   "outputs": [],
   "source": [
    "X0 = []\n",
    "for i, row in data.iterrows():\n",
    "    i = pendulum.instance(i)\n",
    "#     if i.day_of_week == 1:\n",
    "        # print(i, row)\n",
    "    X0.append(row)\n",
    "\n",
    "X0 = pd.DataFrame(X0)"
   ]
  },
  {
   "cell_type": "code",
   "execution_count": 126,
   "metadata": {},
   "outputs": [
    {
     "data": {
      "text/plain": [
       "<matplotlib.axes._subplots.AxesSubplot at 0x7f7d40b8d198>"
      ]
     },
     "execution_count": 126,
     "metadata": {},
     "output_type": "execute_result"
    },
    {
     "data": {
      "image/png": "[encoded data removed]",
      "text/plain": [
       "<Figure size 432x288 with 1 Axes>"
      ]
     },
     "metadata": {
      "needs_background": "light"
     },
     "output_type": "display_data"
    }
   ],
   "source": [
    "data.plot()"
   ]
  },
  {
   "cell_type": "code",
   "execution_count": 99,
   "metadata": {},
   "outputs": [],
   "source": [
    "X0 = X0[\"Pm\"]"
   ]
  },
  {
   "cell_type": "code",
   "execution_count": 113,
   "metadata": {},
   "outputs": [],
   "source": [
    "fit = X0 * K[0] + K[1]\n",
    "fit_K = 1 - fit"
   ]
  },
  {
   "cell_type": "code",
   "execution_count": 118,
   "metadata": {},
   "outputs": [
    {
     "data": {
      "image/png": "[encoded data removed]",
      "text/plain": [
       "<Figure size 864x432 with 1 Axes>"
      ]
     },
     "metadata": {
      "needs_background": "light"
     },
     "output_type": "display_data"
    }
   ],
   "source": [
    "plt.figure(figsize=(12, 6))\n",
    "plt.ylim((0.3, 0.7))\n",
    "plt.plot(fit, label=\"Cristina (AI)\")\n",
    "plt.plot(fit_K, label=\"Macri (AI)\")\n",
    "plt.legend()\n",
    "plt.show()"
   ]
  },
  {
   "cell_type": "code",
   "execution_count": 119,
   "metadata": {},
   "outputs": [
    {
     "data": {
      "text/plain": [
       "2019-03-04    0.434598\n",
       "2019-03-05    0.433279\n",
       "2019-03-06    0.436917\n",
       "2019-03-07    0.436852\n",
       "2019-03-08    0.437059\n",
       "2019-03-09    0.435375\n",
       "2019-03-10    0.439519\n",
       "2019-03-11    0.441966\n",
       "2019-03-12    0.430464\n",
       "2019-03-13    0.431201\n",
       "2019-03-14    0.433491\n",
       "2019-03-15    0.438284\n",
       "2019-03-16    0.436212\n",
       "2019-03-17    0.435304\n",
       "2019-03-18    0.437902\n",
       "2019-03-19    0.438476\n",
       "2019-03-20    0.433590\n",
       "2019-03-21    0.430393\n",
       "2019-03-22    0.430379\n",
       "2019-03-23    0.423706\n",
       "2019-03-24    0.424490\n",
       "2019-03-25    0.426241\n",
       "2019-03-26    0.419207\n",
       "2019-03-27    0.414896\n",
       "2019-03-28    0.415296\n",
       "2019-03-29    0.411550\n",
       "2019-03-30    0.405794\n",
       "2019-03-31    0.405655\n",
       "2019-04-01    0.405710\n",
       "2019-04-02    0.404363\n",
       "                ...   \n",
       "2019-05-29    0.474342\n",
       "2019-05-30    0.483889\n",
       "2019-05-31    0.488284\n",
       "2019-06-01    0.491793\n",
       "2019-06-02    0.490472\n",
       "2019-06-03    0.488346\n",
       "2019-06-04    0.489915\n",
       "2019-06-05    0.475902\n",
       "2019-06-06    0.472411\n",
       "2019-06-07    0.470611\n",
       "2019-06-08    0.470461\n",
       "2019-06-09    0.471688\n",
       "2019-06-10    0.470926\n",
       "2019-06-11    0.474159\n",
       "2019-06-12    0.483147\n",
       "2019-06-13    0.499569\n",
       "2019-06-14    0.505109\n",
       "2019-06-15    0.510211\n",
       "2019-06-16    0.512748\n",
       "2019-06-17    0.509423\n",
       "2019-06-18    0.506130\n",
       "2019-06-19    0.501525\n",
       "2019-06-20    0.490831\n",
       "2019-06-21    0.472988\n",
       "2019-06-22    0.462442\n",
       "2019-06-23    0.466663\n",
       "2019-06-24    0.469045\n",
       "2019-06-25    0.468473\n",
       "2019-06-26    0.469433\n",
       "2019-06-27    0.472304\n",
       "Name: Pm, Length: 116, dtype: float64"
      ]
     },
     "execution_count": 119,
     "metadata": {},
     "output_type": "execute_result"
    }
   ],
   "source": [
    "fit"
   ]
  },
  {
   "cell_type": "code",
   "execution_count": 61,
   "metadata": {},
   "outputs": [
    {
     "data": {
      "text/plain": [
       "(2019-03-04    0.243980\n",
       " 2019-03-11    0.254970\n",
       " 2019-03-18    0.248908\n",
       " 2019-03-25    0.231512\n",
       " 2019-04-01    0.200885\n",
       " 2019-04-08    0.222101\n",
       " 2019-04-15    0.231092\n",
       " 2019-04-22    0.224202\n",
       " 2019-04-29    0.232073\n",
       " 2019-05-06    0.194542\n",
       " 2019-05-13    0.201031\n",
       " 2019-05-20    0.208602\n",
       " 2019-05-27    0.242922\n",
       " 2019-06-03    0.324160\n",
       " 2019-06-10    0.298173\n",
       " 2019-06-17    0.355603\n",
       " 2019-06-24    0.295367\n",
       " Name: Pm, dtype: float64, dt\n",
       " 2019-03-04    0.444\n",
       " 2019-03-11    0.401\n",
       " 2019-03-18    0.432\n",
       " 2019-03-25    0.409\n",
       " 2019-04-01    0.422\n",
       " 2019-04-08    0.389\n",
       " 2019-04-15    0.398\n",
       " 2019-04-22    0.418\n",
       " 2019-04-29    0.411\n",
       " 2019-05-06    0.465\n",
       " 2019-05-13    0.425\n",
       " 2019-05-20    0.411\n",
       " 2019-05-27    0.411\n",
       " 2019-06-03    0.540\n",
       " 2019-06-10    0.489\n",
       " 2019-06-17    0.496\n",
       " Name: PM, dtype: float64)"
      ]
     },
     "execution_count": 61,
     "metadata": {},
     "output_type": "execute_result"
    }
   ],
   "source": [
    "X0, E"
   ]
  },
  {
   "cell_type": "code",
   "execution_count": 63,
   "metadata": {},
   "outputs": [],
   "source": [
    "X0 = X0[:-1]"
   ]
  },
  {
   "cell_type": "code",
   "execution_count": 88,
   "metadata": {},
   "outputs": [
    {
     "name": "stdout",
     "output_type": "stream",
     "text": [
      "(0.6703349051447496, 0.2710502097871096, 0.5253349086452317)\n"
     ]
    }
   ],
   "source": [
    "K = linear(X0, E)\n",
    "print(K)"
   ]
  },
  {
   "cell_type": "code",
   "execution_count": 77,
   "metadata": {},
   "outputs": [],
   "source": [
    "fit0 = X0 * K[0] + K[1]"
   ]
  },
  {
   "cell_type": "code",
   "execution_count": 86,
   "metadata": {},
   "outputs": [
    {
     "data": {
      "text/plain": [
       "<matplotlib.legend.Legend at 0x7f7d41e18400>"
      ]
     },
     "execution_count": 86,
     "metadata": {},
     "output_type": "execute_result"
    },
    {
     "data": {
      "image/png": "[encoded data removed]",
      "text/plain": [
       "<Figure size 720x432 with 1 Axes>"
      ]
     },
     "metadata": {
      "needs_background": "light"
     },
     "output_type": "display_data"
    }
   ],
   "source": [
    "plt.figure(figsize=(10, 6))\n",
    "plt.plot(X0, label=\"AI\")\n",
    "plt.plot(E, label=\"Elypsis\")\n",
    "plt.plot(fit0, label=\"fitting AI\")\n",
    "plt.title(\"Dynamics of supporting Macri-Pichetto\")\n",
    "plt.legend()"
   ]
  },
  {
   "cell_type": "code",
   "execution_count": 83,
   "metadata": {},
   "outputs": [
    {
     "name": "stdout",
     "output_type": "stream",
     "text": [
      "(0.7385007327969716, 0.25923759057736406, 0.36613608255686725)\n"
     ]
    }
   ],
   "source": [
    "E1 = E.shift(-1).dropna()\n",
    "# print(E1)\n",
    "X1 = X0.iloc[:-1]\n",
    "# print(X1)\n",
    "K = linear(X1, E1)\n",
    "print(K)"
   ]
  },
  {
   "cell_type": "code",
   "execution_count": 84,
   "metadata": {},
   "outputs": [],
   "source": [
    "fit1 = X1 * K[0] + K[1]"
   ]
  },
  {
   "cell_type": "code",
   "execution_count": 85,
   "metadata": {},
   "outputs": [
    {
     "data": {
      "text/plain": [
       "<matplotlib.legend.Legend at 0x7f7d41d16e10>"
      ]
     },
     "execution_count": 85,
     "metadata": {},
     "output_type": "execute_result"
    },
    {
     "data": {
      "image/png": "[encoded data removed]",
      "text/plain": [
       "<Figure size 720x432 with 1 Axes>"
      ]
     },
     "metadata": {
      "needs_background": "light"
     },
     "output_type": "display_data"
    }
   ],
   "source": [
    "plt.figure(figsize=(10, 6))\n",
    "plt.plot(X1, label=\"AI\")\n",
    "plt.plot(E1, label=\"Elypsis\")\n",
    "plt.plot(fit1, label=\"fitted AI\")\n",
    "plt.title(\"Dynamics of supporting Macri-Pichetto\")\n",
    "plt.legend()"
   ]
  },
  {
   "cell_type": "code",
   "execution_count": 2,
   "metadata": {},
   "outputs": [],
   "source": [
    "data = pd.read_csv(\"web/data/2019-05-14/lag7.csv\")"
   ]
  },
  {
   "cell_type": "code",
   "execution_count": 3,
   "metadata": {},
   "outputs": [
    {
     "data": {
      "text/html": [
       "<div>\n",
       "<style scoped>\n",
       "    .dataframe tbody tr th:only-of-type {\n",
       "        vertical-align: middle;\n",
       "    }\n",
       "\n",
       "    .dataframe tbody tr th {\n",
       "        vertical-align: top;\n",
       "    }\n",
       "\n",
       "    .dataframe thead th {\n",
       "        text-align: right;\n",
       "    }\n",
       "</style>\n",
       "<table border=\"1\" class=\"dataframe\">\n",
       "  <thead>\n",
       "    <tr style=\"text-align: right;\">\n",
       "      <th></th>\n",
       "      <th>dt</th>\n",
       "      <th>Macri (AI)</th>\n",
       "      <th>Elypsis (14-days in advance)</th>\n",
       "    </tr>\n",
       "  </thead>\n",
       "  <tbody>\n",
       "    <tr>\n",
       "      <th>0</th>\n",
       "      <td>2019-03-11</td>\n",
       "      <td>-7.05</td>\n",
       "      <td>NaN</td>\n",
       "    </tr>\n",
       "    <tr>\n",
       "      <th>1</th>\n",
       "      <td>2019-03-18</td>\n",
       "      <td>-6.47</td>\n",
       "      <td>NaN</td>\n",
       "    </tr>\n",
       "    <tr>\n",
       "      <th>2</th>\n",
       "      <td>2019-03-25</td>\n",
       "      <td>-0.72</td>\n",
       "      <td>NaN</td>\n",
       "    </tr>\n",
       "    <tr>\n",
       "      <th>3</th>\n",
       "      <td>2019-04-01</td>\n",
       "      <td>13.70</td>\n",
       "      <td>NaN</td>\n",
       "    </tr>\n",
       "    <tr>\n",
       "      <th>4</th>\n",
       "      <td>2019-04-08</td>\n",
       "      <td>-10.99</td>\n",
       "      <td>NaN</td>\n",
       "    </tr>\n",
       "    <tr>\n",
       "      <th>5</th>\n",
       "      <td>2019-04-15</td>\n",
       "      <td>10.69</td>\n",
       "      <td>NaN</td>\n",
       "    </tr>\n",
       "    <tr>\n",
       "      <th>6</th>\n",
       "      <td>2019-04-22</td>\n",
       "      <td>5.36</td>\n",
       "      <td>NaN</td>\n",
       "    </tr>\n",
       "    <tr>\n",
       "      <th>7</th>\n",
       "      <td>2019-04-29</td>\n",
       "      <td>1.63</td>\n",
       "      <td>NaN</td>\n",
       "    </tr>\n",
       "    <tr>\n",
       "      <th>8</th>\n",
       "      <td>2019-05-13</td>\n",
       "      <td>-10.42</td>\n",
       "      <td>NaN</td>\n",
       "    </tr>\n",
       "    <tr>\n",
       "      <th>9</th>\n",
       "      <td>2019-05-20</td>\n",
       "      <td>6.04</td>\n",
       "      <td>NaN</td>\n",
       "    </tr>\n",
       "    <tr>\n",
       "      <th>10</th>\n",
       "      <td>2019-05-27</td>\n",
       "      <td>9.49</td>\n",
       "      <td>NaN</td>\n",
       "    </tr>\n",
       "    <tr>\n",
       "      <th>11</th>\n",
       "      <td>2019-06-03</td>\n",
       "      <td>-5.78</td>\n",
       "      <td>NaN</td>\n",
       "    </tr>\n",
       "    <tr>\n",
       "      <th>12</th>\n",
       "      <td>2019-06-10</td>\n",
       "      <td>-11.45</td>\n",
       "      <td>NaN</td>\n",
       "    </tr>\n",
       "    <tr>\n",
       "      <th>13</th>\n",
       "      <td>2019-06-17</td>\n",
       "      <td>32.33</td>\n",
       "      <td>NaN</td>\n",
       "    </tr>\n",
       "    <tr>\n",
       "      <th>14</th>\n",
       "      <td>2019-03-18</td>\n",
       "      <td>NaN</td>\n",
       "      <td>NaN</td>\n",
       "    </tr>\n",
       "    <tr>\n",
       "      <th>15</th>\n",
       "      <td>2019-03-25</td>\n",
       "      <td>NaN</td>\n",
       "      <td>NaN</td>\n",
       "    </tr>\n",
       "    <tr>\n",
       "      <th>16</th>\n",
       "      <td>2019-04-01</td>\n",
       "      <td>NaN</td>\n",
       "      <td>NaN</td>\n",
       "    </tr>\n",
       "    <tr>\n",
       "      <th>17</th>\n",
       "      <td>2019-04-08</td>\n",
       "      <td>NaN</td>\n",
       "      <td>NaN</td>\n",
       "    </tr>\n",
       "    <tr>\n",
       "      <th>18</th>\n",
       "      <td>2019-04-15</td>\n",
       "      <td>NaN</td>\n",
       "      <td>NaN</td>\n",
       "    </tr>\n",
       "    <tr>\n",
       "      <th>19</th>\n",
       "      <td>2019-04-22</td>\n",
       "      <td>NaN</td>\n",
       "      <td>NaN</td>\n",
       "    </tr>\n",
       "    <tr>\n",
       "      <th>20</th>\n",
       "      <td>2019-04-29</td>\n",
       "      <td>NaN</td>\n",
       "      <td>NaN</td>\n",
       "    </tr>\n",
       "    <tr>\n",
       "      <th>21</th>\n",
       "      <td>2019-05-06</td>\n",
       "      <td>NaN</td>\n",
       "      <td>NaN</td>\n",
       "    </tr>\n",
       "    <tr>\n",
       "      <th>22</th>\n",
       "      <td>2019-05-13</td>\n",
       "      <td>NaN</td>\n",
       "      <td>NaN</td>\n",
       "    </tr>\n",
       "    <tr>\n",
       "      <th>23</th>\n",
       "      <td>2019-05-20</td>\n",
       "      <td>NaN</td>\n",
       "      <td>NaN</td>\n",
       "    </tr>\n",
       "    <tr>\n",
       "      <th>24</th>\n",
       "      <td>2019-05-27</td>\n",
       "      <td>NaN</td>\n",
       "      <td>NaN</td>\n",
       "    </tr>\n",
       "    <tr>\n",
       "      <th>25</th>\n",
       "      <td>2019-06-03</td>\n",
       "      <td>NaN</td>\n",
       "      <td>NaN</td>\n",
       "    </tr>\n",
       "    <tr>\n",
       "      <th>26</th>\n",
       "      <td>2019-06-10</td>\n",
       "      <td>NaN</td>\n",
       "      <td>NaN</td>\n",
       "    </tr>\n",
       "    <tr>\n",
       "      <th>27</th>\n",
       "      <td>2019-06-17</td>\n",
       "      <td>NaN</td>\n",
       "      <td>NaN</td>\n",
       "    </tr>\n",
       "    <tr>\n",
       "      <th>28</th>\n",
       "      <td>2019-03-25</td>\n",
       "      <td>NaN</td>\n",
       "      <td>-9.23</td>\n",
       "    </tr>\n",
       "    <tr>\n",
       "      <th>29</th>\n",
       "      <td>2019-04-01</td>\n",
       "      <td>NaN</td>\n",
       "      <td>6.95</td>\n",
       "    </tr>\n",
       "    <tr>\n",
       "      <th>30</th>\n",
       "      <td>2019-04-08</td>\n",
       "      <td>NaN</td>\n",
       "      <td>-5.34</td>\n",
       "    </tr>\n",
       "    <tr>\n",
       "      <th>31</th>\n",
       "      <td>2019-04-15</td>\n",
       "      <td>NaN</td>\n",
       "      <td>4.41</td>\n",
       "    </tr>\n",
       "    <tr>\n",
       "      <th>32</th>\n",
       "      <td>2019-04-22</td>\n",
       "      <td>NaN</td>\n",
       "      <td>-9.15</td>\n",
       "    </tr>\n",
       "    <tr>\n",
       "      <th>33</th>\n",
       "      <td>2019-04-29</td>\n",
       "      <td>NaN</td>\n",
       "      <td>2.58</td>\n",
       "    </tr>\n",
       "    <tr>\n",
       "      <th>34</th>\n",
       "      <td>2019-05-06</td>\n",
       "      <td>NaN</td>\n",
       "      <td>4.28</td>\n",
       "    </tr>\n",
       "    <tr>\n",
       "      <th>35</th>\n",
       "      <td>2019-05-13</td>\n",
       "      <td>NaN</td>\n",
       "      <td>-0.72</td>\n",
       "    </tr>\n",
       "    <tr>\n",
       "      <th>36</th>\n",
       "      <td>2019-05-20</td>\n",
       "      <td>NaN</td>\n",
       "      <td>13.14</td>\n",
       "    </tr>\n",
       "    <tr>\n",
       "      <th>37</th>\n",
       "      <td>2019-05-27</td>\n",
       "      <td>NaN</td>\n",
       "      <td>-7.74</td>\n",
       "    </tr>\n",
       "    <tr>\n",
       "      <th>38</th>\n",
       "      <td>2019-06-03</td>\n",
       "      <td>NaN</td>\n",
       "      <td>-5.13</td>\n",
       "    </tr>\n",
       "    <tr>\n",
       "      <th>39</th>\n",
       "      <td>2019-06-10</td>\n",
       "      <td>NaN</td>\n",
       "      <td>1.23</td>\n",
       "    </tr>\n",
       "    <tr>\n",
       "      <th>40</th>\n",
       "      <td>2019-06-17</td>\n",
       "      <td>NaN</td>\n",
       "      <td>30.58</td>\n",
       "    </tr>\n",
       "  </tbody>\n",
       "</table>\n",
       "</div>"
      ],
      "text/plain": [
       "            dt  Macri (AI)  Elypsis (14-days in advance)\n",
       "0   2019-03-11       -7.05                           NaN\n",
       "1   2019-03-18       -6.47                           NaN\n",
       "2   2019-03-25       -0.72                           NaN\n",
       "3   2019-04-01       13.70                           NaN\n",
       "4   2019-04-08      -10.99                           NaN\n",
       "5   2019-04-15       10.69                           NaN\n",
       "6   2019-04-22        5.36                           NaN\n",
       "7   2019-04-29        1.63                           NaN\n",
       "8   2019-05-13      -10.42                           NaN\n",
       "9   2019-05-20        6.04                           NaN\n",
       "10  2019-05-27        9.49                           NaN\n",
       "11  2019-06-03       -5.78                           NaN\n",
       "12  2019-06-10      -11.45                           NaN\n",
       "13  2019-06-17       32.33                           NaN\n",
       "14  2019-03-18         NaN                           NaN\n",
       "15  2019-03-25         NaN                           NaN\n",
       "16  2019-04-01         NaN                           NaN\n",
       "17  2019-04-08         NaN                           NaN\n",
       "18  2019-04-15         NaN                           NaN\n",
       "19  2019-04-22         NaN                           NaN\n",
       "20  2019-04-29         NaN                           NaN\n",
       "21  2019-05-06         NaN                           NaN\n",
       "22  2019-05-13         NaN                           NaN\n",
       "23  2019-05-20         NaN                           NaN\n",
       "24  2019-05-27         NaN                           NaN\n",
       "25  2019-06-03         NaN                           NaN\n",
       "26  2019-06-10         NaN                           NaN\n",
       "27  2019-06-17         NaN                           NaN\n",
       "28  2019-03-25         NaN                         -9.23\n",
       "29  2019-04-01         NaN                          6.95\n",
       "30  2019-04-08         NaN                         -5.34\n",
       "31  2019-04-15         NaN                          4.41\n",
       "32  2019-04-22         NaN                         -9.15\n",
       "33  2019-04-29         NaN                          2.58\n",
       "34  2019-05-06         NaN                          4.28\n",
       "35  2019-05-13         NaN                         -0.72\n",
       "36  2019-05-20         NaN                         13.14\n",
       "37  2019-05-27         NaN                         -7.74\n",
       "38  2019-06-03         NaN                         -5.13\n",
       "39  2019-06-10         NaN                          1.23\n",
       "40  2019-06-17         NaN                         30.58"
      ]
     },
     "execution_count": 3,
     "metadata": {},
     "output_type": "execute_result"
    }
   ],
   "source": [
    "data"
   ]
  },
  {
   "cell_type": "code",
   "execution_count": 9,
   "metadata": {},
   "outputs": [
    {
     "data": {
      "text/plain": [
       "2     -0.72\n",
       "3     13.70\n",
       "4    -10.99\n",
       "5     10.69\n",
       "6      5.36\n",
       "7      1.63\n",
       "8    -10.42\n",
       "9      6.04\n",
       "10     9.49\n",
       "11    -5.78\n",
       "12   -11.45\n",
       "13    32.33\n",
       "Name: Macri (AI), dtype: float64"
      ]
     },
     "execution_count": 9,
     "metadata": {},
     "output_type": "execute_result"
    }
   ],
   "source": [
    "data[\"Macri (AI)\"].dropna()[2:]"
   ]
  },
  {
   "cell_type": "code",
   "execution_count": 20,
   "metadata": {},
   "outputs": [],
   "source": [
    "x1 = np.array([\n",
    "-0.72,\n",
    "13.70,\n",
    "-10.99,\n",
    "10.69,\n",
    "5.36,\n",
    "1.63,\n",
    "-10.42,\n",
    "6.04,\n",
    "9.49,\n",
    "-5.78,\n",
    "-11.45,\n",
    "32.33,\n",
    "])"
   ]
  },
  {
   "cell_type": "code",
   "execution_count": 6,
   "metadata": {},
   "outputs": [
    {
     "data": {
      "text/plain": [
       "28    -9.23\n",
       "29     6.95\n",
       "30    -5.34\n",
       "31     4.41\n",
       "32    -9.15\n",
       "33     2.58\n",
       "34     4.28\n",
       "35    -0.72\n",
       "36    13.14\n",
       "37    -7.74\n",
       "38    -5.13\n",
       "39     1.23\n",
       "40    30.58\n",
       "Name: Elypsis (14-days in advance), dtype: float64"
      ]
     },
     "execution_count": 6,
     "metadata": {},
     "output_type": "execute_result"
    }
   ],
   "source": [
    "data[\"Elypsis (14-days in advance)\"].dropna()"
   ]
  },
  {
   "cell_type": "code",
   "execution_count": 21,
   "metadata": {},
   "outputs": [],
   "source": [
    "x2 = np.array([\n",
    "-9.23,\n",
    "6.95,\n",
    "-5.34,\n",
    "4.41,\n",
    "-9.15,\n",
    "2.58,\n",
    "-0.72,\n",
    "13.14,\n",
    "-7.74,\n",
    "-5.13,\n",
    "1.23,\n",
    "30.58,  \n",
    "])"
   ]
  },
  {
   "cell_type": "code",
   "execution_count": 22,
   "metadata": {},
   "outputs": [
    {
     "data": {
      "text/plain": [
       "(0.6274955793550986, -0.28704364205677746, 0.48684928538666555)"
      ]
     },
     "execution_count": 22,
     "metadata": {},
     "output_type": "execute_result"
    }
   ],
   "source": [
    "linear(x1, x2)"
   ]
  },
  {
   "cell_type": "code",
   "execution_count": 26,
   "metadata": {},
   "outputs": [
    {
     "data": {
      "text/plain": [
       "[<matplotlib.lines.Line2D at 0x7f00000a2400>]"
      ]
     },
     "execution_count": 26,
     "metadata": {},
     "output_type": "execute_result"
    },
    {
     "data": {
      "image/png": "[encoded data removed]",
      "text/plain": [
       "<Figure size 432x288 with 1 Axes>"
      ]
     },
     "metadata": {
      "needs_background": "light"
     },
     "output_type": "display_data"
    }
   ],
   "source": [
    "plt.plot(data[\"Macri (AI)\"].dropna() * 0.627 - 0.287)\n",
    "plt.plot(data[\"Elypsis (14-days in advance)\"])"
   ]
  },
  {
   "cell_type": "code",
   "execution_count": 96,
   "metadata": {},
   "outputs": [],
   "source": [
    "data = pd.read_csv(\"web/data/2019-05-14/positive.csv\").set_index(\"dt\")\n",
    "data.index = pd.to_datetime(data.index)"
   ]
  },
  {
   "cell_type": "code",
   "execution_count": 97,
   "metadata": {},
   "outputs": [],
   "source": [
    "data = data[data.index.dayofweek == 0]"
   ]
  },
  {
   "cell_type": "code",
   "execution_count": 98,
   "metadata": {},
   "outputs": [
    {
     "data": {
      "text/plain": [
       "dt\n",
       "2019-03-04    0.482\n",
       "2019-03-11    0.448\n",
       "2019-03-18    0.419\n",
       "2019-03-25    0.416\n",
       "2019-04-01    0.473\n",
       "2019-04-08    0.421\n",
       "2019-04-15    0.446\n",
       "2019-04-22    0.491\n",
       "2019-04-29    0.499\n",
       "2019-05-13    0.431\n",
       "2019-05-20    0.474\n",
       "2019-05-27    0.483\n",
       "2019-06-03    0.494\n",
       "2019-06-10    0.454\n",
       "2019-06-17    0.456\n",
       "2019-06-24    0.459\n",
       "2019-07-01    0.488\n",
       "2019-07-08    0.472\n",
       "Name: Macri (AI), dtype: float64"
      ]
     },
     "execution_count": 98,
     "metadata": {},
     "output_type": "execute_result"
    }
   ],
   "source": [
    "M = data[\"Macri (AI)\"].dropna()\n",
    "M"
   ]
  },
  {
   "cell_type": "code",
   "execution_count": 99,
   "metadata": {},
   "outputs": [
    {
     "data": {
      "text/plain": [
       "dt\n",
       "2019-03-04    0.444\n",
       "2019-03-11    0.403\n",
       "2019-03-18    0.431\n",
       "2019-03-25    0.408\n",
       "2019-04-01    0.426\n",
       "2019-04-08    0.387\n",
       "2019-04-15    0.397\n",
       "2019-04-22    0.414\n",
       "2019-04-29    0.411\n",
       "2019-05-06    0.465\n",
       "2019-05-13    0.429\n",
       "2019-05-20    0.407\n",
       "2019-05-27    0.412\n",
       "2019-06-03    0.538\n",
       "2019-06-10    0.487\n",
       "2019-06-17    0.494\n",
       "2019-06-24    0.500\n",
       "Name: Macri (Elypsis), dtype: float64"
      ]
     },
     "execution_count": 99,
     "metadata": {},
     "output_type": "execute_result"
    }
   ],
   "source": [
    "E = data[\"Macri (Elypsis)\"].dropna()\n",
    "E"
   ]
  },
  {
   "cell_type": "code",
   "execution_count": 100,
   "metadata": {},
   "outputs": [],
   "source": [
    "x1 = [\n",
    "0.482,\n",
    "0.448,\n",
    "0.419,\n",
    "0.416,\n",
    "0.473,\n",
    "0.421,\n",
    "0.446,\n",
    "0.491,\n",
    "0.499,\n",
    "0.431,\n",
    "0.474,\n",
    "0.483,\n",
    "0.494,\n",
    "0.454,\n",
    "0.456,\n",
    "0.459,\n",
    "]"
   ]
  },
  {
   "cell_type": "code",
   "execution_count": 101,
   "metadata": {},
   "outputs": [],
   "source": [
    "x2 = [\n",
    "0.444,\n",
    "0.403,\n",
    "0.431,\n",
    "0.408,\n",
    "0.426,\n",
    "0.387,\n",
    "0.397,\n",
    "0.414,\n",
    "0.411,\n",
    "# 0.465,\n",
    "0.429,\n",
    "0.407,\n",
    "0.412,\n",
    "0.538,\n",
    "0.487,\n",
    "0.494,\n",
    "0.500,\n",
    "]"
   ]
  },
  {
   "cell_type": "code",
   "execution_count": 102,
   "metadata": {},
   "outputs": [
    {
     "data": {
      "text/plain": [
       "(0.42199415423158954, 0.24300193393842143, 0.06981847104562244)"
      ]
     },
     "execution_count": 102,
     "metadata": {},
     "output_type": "execute_result"
    }
   ],
   "source": [
    "A = linear(x1, x2)\n",
    "A"
   ]
  },
  {
   "cell_type": "code",
   "execution_count": 103,
   "metadata": {},
   "outputs": [
    {
     "data": {
      "text/plain": [
       "[<matplotlib.lines.Line2D at 0x7efff5da8f28>]"
      ]
     },
     "execution_count": 103,
     "metadata": {},
     "output_type": "execute_result"
    },
    {
     "data": {
      "image/png": "[encoded data removed]",
      "text/plain": [
       "<Figure size 432x288 with 1 Axes>"
      ]
     },
     "metadata": {
      "needs_background": "light"
     },
     "output_type": "display_data"
    }
   ],
   "source": [
    "data = data.sort_index()\n",
    "plt.plot_date(M.index, M, \"-\")\n",
    "plt.plot_date(E.index, E, \"-\")\n",
    "plt.plot_date(M.index, M * A[0] + A[1], \"-\")\n",
    "\n",
    "# plt.plot_date(data.index, data[\"Macri (AI)\"] * A[0] + A[1], \"-\")\n",
    "# plt.plot_date(data.index, data[\"Macri (Elypsis)\"], \"--\")"
   ]
  },
  {
   "cell_type": "code",
   "execution_count": 104,
   "metadata": {},
   "outputs": [
    {
     "data": {
      "text/plain": [
       "(0.4439684474554027, 0.23242595349164277, 0.07742853713276476)"
      ]
     },
     "execution_count": 104,
     "metadata": {},
     "output_type": "execute_result"
    }
   ],
   "source": [
    "A = linear(x1[:-1], x2[1:])\n",
    "A"
   ]
  },
  {
   "cell_type": "code",
   "execution_count": 105,
   "metadata": {},
   "outputs": [
    {
     "data": {
      "text/plain": [
       "(0.6206469615933332, 0.15354424214237677, 0.15763068063582975)"
      ]
     },
     "execution_count": 105,
     "metadata": {},
     "output_type": "execute_result"
    }
   ],
   "source": [
    "A = linear(x1[:-2], x2[2:])\n",
    "A"
   ]
  },
  {
   "cell_type": "markdown",
   "metadata": {},
   "source": [
    "## Updates on July 20, fitting plot(1) in web"
   ]
  },
  {
   "cell_type": "code",
   "execution_count": 27,
   "metadata": {},
   "outputs": [],
   "source": [
    "data = pd.read_csv(\"web/data/2019-05-14/p1.csv\").set_index(\"dt\")\n",
    "data.index = pd.to_datetime(data.index)"
   ]
  },
  {
   "cell_type": "code",
   "execution_count": 28,
   "metadata": {},
   "outputs": [],
   "source": [
    "data = data[[\"Fernandez (AI)\", \"Macri (AI)\", \"Fernandez (Aggregate Polls)\", \"Macri (Aggregate Polls)\"]]\n",
    "data = data.dropna(how=\"all\")"
   ]
  },
  {
   "cell_type": "code",
   "execution_count": 29,
   "metadata": {},
   "outputs": [],
   "source": [
    "Mp = data[\"Macri (AI)\"].dropna()\n",
    "Ma = data[\"Macri (Aggregate Polls)\"].dropna()"
   ]
  },
  {
   "cell_type": "code",
   "execution_count": 30,
   "metadata": {},
   "outputs": [],
   "source": [
    "M = pd.DataFrame(index=pd.date_range(start='3/1/2019', end='7/1/2019'))"
   ]
  },
  {
   "cell_type": "code",
   "execution_count": 31,
   "metadata": {},
   "outputs": [],
   "source": [
    "M[\"Mp\"] = np.NaN\n",
    "M[\"Ma\"] = np.NaN"
   ]
  },
  {
   "cell_type": "code",
   "execution_count": 32,
   "metadata": {},
   "outputs": [],
   "source": [
    "M[\"Mp\"] = Mp\n",
    "M[\"Ma\"] = Ma"
   ]
  },
  {
   "cell_type": "code",
   "execution_count": 33,
   "metadata": {},
   "outputs": [],
   "source": [
    "MI = M.interpolate(method=\"time\")"
   ]
  },
  {
   "cell_type": "code",
   "execution_count": 34,
   "metadata": {},
   "outputs": [
    {
     "data": {
      "text/plain": [
       "[<matplotlib.lines.Line2D at 0x7f86af244320>,\n",
       " <matplotlib.lines.Line2D at 0x7f86af274e48>]"
      ]
     },
     "execution_count": 34,
     "metadata": {},
     "output_type": "execute_result"
    },
    {
     "data": {
      "image/png": "[encoded data removed]",
      "text/plain": [
       "<Figure size 432x288 with 1 Axes>"
      ]
     },
     "metadata": {
      "needs_background": "light"
     },
     "output_type": "display_data"
    }
   ],
   "source": [
    "plt.plot(MI)"
   ]
  },
  {
   "cell_type": "code",
   "execution_count": 35,
   "metadata": {},
   "outputs": [],
   "source": [
    "MI = MI.dropna()"
   ]
  },
  {
   "cell_type": "code",
   "execution_count": 36,
   "metadata": {},
   "outputs": [],
   "source": [
    "from sklearn.linear_model import LinearRegression\n",
    "\n",
    "def linear(input_x, input_y):\n",
    "    # print(input_x.shape, input_y.shape)\n",
    "    clf = LinearRegression()\n",
    "    X = [[i] for i in input_x]\n",
    "    clf.fit(X, input_y)\n",
    "    return clf.coef_[0], clf.intercept_, clf.score(X, input_y)"
   ]
  },
  {
   "cell_type": "code",
   "execution_count": 37,
   "metadata": {},
   "outputs": [
    {
     "name": "stdout",
     "output_type": "stream",
     "text": [
      "Lag: 0\n",
      "(0.6878613088412687, 0.1578172482309767, 0.47477988563915335)\n",
      "Lag: 1\n",
      "(0.6983851034507896, 0.15303884489382164, 0.4848733839100219)\n",
      "Lag: 2\n",
      "(0.6863818184041369, 0.15864864200647777, 0.4612626926931998)\n",
      "Lag: 3\n",
      "(0.6520250941549874, 0.17448939215643222, 0.4114462114848778)\n",
      "Lag: 4\n",
      "(0.5945724757962609, 0.20083891532483023, 0.3418408795907746)\n",
      "Lag: 5\n",
      "(0.5194181115494274, 0.23523985141312262, 0.2621424166068108)\n",
      "Lag: 6\n",
      "(0.4389149017547642, 0.2723391235483642, 0.18713720628822594)\n",
      "Lag: 7\n",
      "(0.36553988695897677, 0.3064242657201499, 0.13284083084118714)\n",
      "Lag: 8\n",
      "(0.29145589451963966, 0.34067604006184493, 0.08531698467236226)\n",
      "Lag: 9\n",
      "(0.21444325212836837, 0.37614901603157014, 0.04627475682727589)\n",
      "Lag: 10\n",
      "(0.1348353360617045, 0.4126799363531181, 0.018297133925735953)\n",
      "Lag: 11\n",
      "(0.05560838922216718, 0.4489956153897653, 0.0031147570510781097)\n",
      "Lag: 12\n",
      "(-0.00940526114510432, 0.47893047729200033, 8.918879534602908e-05)\n",
      "Lag: 13\n",
      "(-0.058937896267274706, 0.5019101405258194, 0.00353531078068825)\n",
      "Lag: 14\n",
      "(-0.0886191815274547, 0.5159327164959602, 0.008204281020781412)\n"
     ]
    }
   ],
   "source": [
    "Mp = MI.Mp\n",
    "Ma = MI.Ma\n",
    "\n",
    "for i in range(0, 15):\n",
    "#     print(Mp[:-i], Ma[i: ])\n",
    "    print(f\"Lag: {i}\")\n",
    "    if i == 0:\n",
    "        print(linear(Mp, Ma))\n",
    "    else:\n",
    "        print(linear(Mp[:-i], Ma[i: ]))"
   ]
  },
  {
   "cell_type": "code",
   "execution_count": 38,
   "metadata": {},
   "outputs": [],
   "source": [
    "M_rescaled = MI.Mp * 0.6983851034507896 + 0.15303884489382164\n",
    "MI[\"Macri (rescaled AI)\"] = M_rescaled\n",
    "MI[\"Macri (rescaled AI)\"] = MI[\"Macri (rescaled AI)\"].shift(1)"
   ]
  },
  {
   "cell_type": "code",
   "execution_count": 53,
   "metadata": {},
   "outputs": [
    {
     "data": {
      "text/plain": [
       "0.0002959444202243957"
      ]
     },
     "execution_count": 53,
     "metadata": {},
     "output_type": "execute_result"
    }
   ],
   "source": [
    "import sklearn\n",
    "\n",
    "sklearn.metrics.mean_squared_error(Ma.to_list()[1: ], MI[\"Macri (rescaled AI)\"].to_list()[1: ])"
   ]
  },
  {
   "cell_type": "code",
   "execution_count": 54,
   "metadata": {},
   "outputs": [],
   "source": [
    "stdev = np.sqrt(sum((Ma[1: ] - MI[\"Macri (rescaled AI)\"][1: ])**2) / (len(MI[\"Macri (rescaled AI)\"]) - 1 - 2))"
   ]
  },
  {
   "cell_type": "code",
   "execution_count": 56,
   "metadata": {},
   "outputs": [
    {
     "data": {
      "text/plain": [
       "0.0340049154419868"
      ]
     },
     "execution_count": 56,
     "metadata": {},
     "output_type": "execute_result"
    }
   ],
   "source": [
    "stdev * 1.96"
   ]
  },
  {
   "cell_type": "code",
   "execution_count": 39,
   "metadata": {},
   "outputs": [],
   "source": [
    "csv = MI.dropna().round(3)\n",
    "csv = csv.rename(columns={\"Ma\": \"Macri (Interpolated aggregate polls)\"})\n",
    "csv[\"Fernandez (rescaled AI)\"] = 1 - csv[\"Macri (rescaled AI)\"]\n",
    "csv[\"Fernandez (Interpolated aggregate polls)\"] = 1 - csv[\"Macri (Interpolated aggregate polls)\"]\n",
    "csv = csv[[\"Fernandez (rescaled AI)\", \"Macri (rescaled AI)\", \"Fernandez (Interpolated aggregate polls)\", \"Macri (Interpolated aggregate polls)\"]]"
   ]
  },
  {
   "cell_type": "code",
   "execution_count": 40,
   "metadata": {},
   "outputs": [],
   "source": [
    "csv = csv.round(3)\n",
    "csv.to_csv(\"data/fitting_0805.csv\")"
   ]
  },
  {
   "cell_type": "markdown",
   "metadata": {},
   "source": [
    "## Updates on July 20, fitting with Elypsis"
   ]
  },
  {
   "cell_type": "code",
   "execution_count": 102,
   "metadata": {},
   "outputs": [
    {
     "data": {
      "text/html": [
       "<div>\n",
       "<style scoped>\n",
       "    .dataframe tbody tr th:only-of-type {\n",
       "        vertical-align: middle;\n",
       "    }\n",
       "\n",
       "    .dataframe tbody tr th {\n",
       "        vertical-align: top;\n",
       "    }\n",
       "\n",
       "    .dataframe thead th {\n",
       "        text-align: right;\n",
       "    }\n",
       "</style>\n",
       "<table border=\"1\" class=\"dataframe\">\n",
       "  <thead>\n",
       "    <tr style=\"text-align: right;\">\n",
       "      <th></th>\n",
       "      <th>Mp</th>\n",
       "      <th>Ma</th>\n",
       "    </tr>\n",
       "  </thead>\n",
       "  <tbody>\n",
       "    <tr>\n",
       "      <th>2019-03-04</th>\n",
       "      <td>0.482000</td>\n",
       "      <td>0.488000</td>\n",
       "    </tr>\n",
       "    <tr>\n",
       "      <th>2019-03-05</th>\n",
       "      <td>0.477143</td>\n",
       "      <td>0.488000</td>\n",
       "    </tr>\n",
       "    <tr>\n",
       "      <th>2019-03-06</th>\n",
       "      <td>0.472286</td>\n",
       "      <td>0.488000</td>\n",
       "    </tr>\n",
       "    <tr>\n",
       "      <th>2019-03-07</th>\n",
       "      <td>0.467429</td>\n",
       "      <td>0.488000</td>\n",
       "    </tr>\n",
       "    <tr>\n",
       "      <th>2019-03-08</th>\n",
       "      <td>0.462571</td>\n",
       "      <td>0.488000</td>\n",
       "    </tr>\n",
       "    <tr>\n",
       "      <th>2019-03-09</th>\n",
       "      <td>0.457714</td>\n",
       "      <td>0.488000</td>\n",
       "    </tr>\n",
       "    <tr>\n",
       "      <th>2019-03-10</th>\n",
       "      <td>0.452857</td>\n",
       "      <td>0.488000</td>\n",
       "    </tr>\n",
       "    <tr>\n",
       "      <th>2019-03-11</th>\n",
       "      <td>0.448000</td>\n",
       "      <td>0.488000</td>\n",
       "    </tr>\n",
       "    <tr>\n",
       "      <th>2019-03-12</th>\n",
       "      <td>0.443857</td>\n",
       "      <td>0.488857</td>\n",
       "    </tr>\n",
       "    <tr>\n",
       "      <th>2019-03-13</th>\n",
       "      <td>0.439714</td>\n",
       "      <td>0.489714</td>\n",
       "    </tr>\n",
       "    <tr>\n",
       "      <th>2019-03-14</th>\n",
       "      <td>0.435571</td>\n",
       "      <td>0.490571</td>\n",
       "    </tr>\n",
       "    <tr>\n",
       "      <th>2019-03-15</th>\n",
       "      <td>0.431429</td>\n",
       "      <td>0.491429</td>\n",
       "    </tr>\n",
       "    <tr>\n",
       "      <th>2019-03-16</th>\n",
       "      <td>0.427286</td>\n",
       "      <td>0.492286</td>\n",
       "    </tr>\n",
       "    <tr>\n",
       "      <th>2019-03-17</th>\n",
       "      <td>0.423143</td>\n",
       "      <td>0.493143</td>\n",
       "    </tr>\n",
       "    <tr>\n",
       "      <th>2019-03-18</th>\n",
       "      <td>0.419000</td>\n",
       "      <td>0.494000</td>\n",
       "    </tr>\n",
       "    <tr>\n",
       "      <th>2019-03-19</th>\n",
       "      <td>0.418571</td>\n",
       "      <td>0.494857</td>\n",
       "    </tr>\n",
       "    <tr>\n",
       "      <th>2019-03-20</th>\n",
       "      <td>0.418143</td>\n",
       "      <td>0.495714</td>\n",
       "    </tr>\n",
       "    <tr>\n",
       "      <th>2019-03-21</th>\n",
       "      <td>0.417714</td>\n",
       "      <td>0.496571</td>\n",
       "    </tr>\n",
       "    <tr>\n",
       "      <th>2019-03-22</th>\n",
       "      <td>0.417286</td>\n",
       "      <td>0.497429</td>\n",
       "    </tr>\n",
       "    <tr>\n",
       "      <th>2019-03-23</th>\n",
       "      <td>0.416857</td>\n",
       "      <td>0.498286</td>\n",
       "    </tr>\n",
       "    <tr>\n",
       "      <th>2019-03-24</th>\n",
       "      <td>0.416429</td>\n",
       "      <td>0.499143</td>\n",
       "    </tr>\n",
       "    <tr>\n",
       "      <th>2019-03-25</th>\n",
       "      <td>0.416000</td>\n",
       "      <td>0.500000</td>\n",
       "    </tr>\n",
       "    <tr>\n",
       "      <th>2019-03-26</th>\n",
       "      <td>0.424143</td>\n",
       "      <td>0.500000</td>\n",
       "    </tr>\n",
       "    <tr>\n",
       "      <th>2019-03-27</th>\n",
       "      <td>0.432286</td>\n",
       "      <td>0.500000</td>\n",
       "    </tr>\n",
       "    <tr>\n",
       "      <th>2019-03-28</th>\n",
       "      <td>0.440429</td>\n",
       "      <td>0.500000</td>\n",
       "    </tr>\n",
       "    <tr>\n",
       "      <th>2019-03-29</th>\n",
       "      <td>0.448571</td>\n",
       "      <td>0.500000</td>\n",
       "    </tr>\n",
       "    <tr>\n",
       "      <th>2019-03-30</th>\n",
       "      <td>0.456714</td>\n",
       "      <td>0.500000</td>\n",
       "    </tr>\n",
       "    <tr>\n",
       "      <th>2019-03-31</th>\n",
       "      <td>0.464857</td>\n",
       "      <td>0.500000</td>\n",
       "    </tr>\n",
       "    <tr>\n",
       "      <th>2019-04-01</th>\n",
       "      <td>0.473000</td>\n",
       "      <td>0.500000</td>\n",
       "    </tr>\n",
       "    <tr>\n",
       "      <th>2019-04-02</th>\n",
       "      <td>0.465571</td>\n",
       "      <td>0.500000</td>\n",
       "    </tr>\n",
       "    <tr>\n",
       "      <th>...</th>\n",
       "      <td>...</td>\n",
       "      <td>...</td>\n",
       "    </tr>\n",
       "    <tr>\n",
       "      <th>2019-05-26</th>\n",
       "      <td>0.475000</td>\n",
       "      <td>0.479571</td>\n",
       "    </tr>\n",
       "    <tr>\n",
       "      <th>2019-05-27</th>\n",
       "      <td>0.483000</td>\n",
       "      <td>0.485000</td>\n",
       "    </tr>\n",
       "    <tr>\n",
       "      <th>2019-05-28</th>\n",
       "      <td>0.489000</td>\n",
       "      <td>0.491143</td>\n",
       "    </tr>\n",
       "    <tr>\n",
       "      <th>2019-05-29</th>\n",
       "      <td>0.493000</td>\n",
       "      <td>0.497286</td>\n",
       "    </tr>\n",
       "    <tr>\n",
       "      <th>2019-05-30</th>\n",
       "      <td>0.493000</td>\n",
       "      <td>0.503429</td>\n",
       "    </tr>\n",
       "    <tr>\n",
       "      <th>2019-05-31</th>\n",
       "      <td>0.496000</td>\n",
       "      <td>0.509571</td>\n",
       "    </tr>\n",
       "    <tr>\n",
       "      <th>2019-06-01</th>\n",
       "      <td>0.493000</td>\n",
       "      <td>0.515714</td>\n",
       "    </tr>\n",
       "    <tr>\n",
       "      <th>2019-06-02</th>\n",
       "      <td>0.496000</td>\n",
       "      <td>0.521857</td>\n",
       "    </tr>\n",
       "    <tr>\n",
       "      <th>2019-06-03</th>\n",
       "      <td>0.494000</td>\n",
       "      <td>0.528000</td>\n",
       "    </tr>\n",
       "    <tr>\n",
       "      <th>2019-06-04</th>\n",
       "      <td>0.493000</td>\n",
       "      <td>0.526571</td>\n",
       "    </tr>\n",
       "    <tr>\n",
       "      <th>2019-06-05</th>\n",
       "      <td>0.488000</td>\n",
       "      <td>0.525143</td>\n",
       "    </tr>\n",
       "    <tr>\n",
       "      <th>2019-06-06</th>\n",
       "      <td>0.476000</td>\n",
       "      <td>0.523714</td>\n",
       "    </tr>\n",
       "    <tr>\n",
       "      <th>2019-06-07</th>\n",
       "      <td>0.466000</td>\n",
       "      <td>0.522286</td>\n",
       "    </tr>\n",
       "    <tr>\n",
       "      <th>2019-06-08</th>\n",
       "      <td>0.455000</td>\n",
       "      <td>0.520857</td>\n",
       "    </tr>\n",
       "    <tr>\n",
       "      <th>2019-06-09</th>\n",
       "      <td>0.454000</td>\n",
       "      <td>0.519429</td>\n",
       "    </tr>\n",
       "    <tr>\n",
       "      <th>2019-06-10</th>\n",
       "      <td>0.454000</td>\n",
       "      <td>0.518000</td>\n",
       "    </tr>\n",
       "    <tr>\n",
       "      <th>2019-06-11</th>\n",
       "      <td>0.448000</td>\n",
       "      <td>0.516000</td>\n",
       "    </tr>\n",
       "    <tr>\n",
       "      <th>2019-06-12</th>\n",
       "      <td>0.446000</td>\n",
       "      <td>0.514000</td>\n",
       "    </tr>\n",
       "    <tr>\n",
       "      <th>2019-06-13</th>\n",
       "      <td>0.447000</td>\n",
       "      <td>0.512000</td>\n",
       "    </tr>\n",
       "    <tr>\n",
       "      <th>2019-06-14</th>\n",
       "      <td>0.449000</td>\n",
       "      <td>0.510000</td>\n",
       "    </tr>\n",
       "    <tr>\n",
       "      <th>2019-06-15</th>\n",
       "      <td>0.450000</td>\n",
       "      <td>0.508000</td>\n",
       "    </tr>\n",
       "    <tr>\n",
       "      <th>2019-06-16</th>\n",
       "      <td>0.458000</td>\n",
       "      <td>0.506000</td>\n",
       "    </tr>\n",
       "    <tr>\n",
       "      <th>2019-06-17</th>\n",
       "      <td>0.456000</td>\n",
       "      <td>0.504000</td>\n",
       "    </tr>\n",
       "    <tr>\n",
       "      <th>2019-06-18</th>\n",
       "      <td>0.453000</td>\n",
       "      <td>0.504857</td>\n",
       "    </tr>\n",
       "    <tr>\n",
       "      <th>2019-06-19</th>\n",
       "      <td>0.456000</td>\n",
       "      <td>0.505714</td>\n",
       "    </tr>\n",
       "    <tr>\n",
       "      <th>2019-06-20</th>\n",
       "      <td>0.456000</td>\n",
       "      <td>0.506571</td>\n",
       "    </tr>\n",
       "    <tr>\n",
       "      <th>2019-06-21</th>\n",
       "      <td>0.460000</td>\n",
       "      <td>0.507429</td>\n",
       "    </tr>\n",
       "    <tr>\n",
       "      <th>2019-06-22</th>\n",
       "      <td>0.461000</td>\n",
       "      <td>0.508286</td>\n",
       "    </tr>\n",
       "    <tr>\n",
       "      <th>2019-06-23</th>\n",
       "      <td>0.461000</td>\n",
       "      <td>0.509143</td>\n",
       "    </tr>\n",
       "    <tr>\n",
       "      <th>2019-06-24</th>\n",
       "      <td>0.459000</td>\n",
       "      <td>0.510000</td>\n",
       "    </tr>\n",
       "  </tbody>\n",
       "</table>\n",
       "<p>113 rows × 2 columns</p>\n",
       "</div>"
      ],
      "text/plain": [
       "                  Mp        Ma\n",
       "2019-03-04  0.482000  0.488000\n",
       "2019-03-05  0.477143  0.488000\n",
       "2019-03-06  0.472286  0.488000\n",
       "2019-03-07  0.467429  0.488000\n",
       "2019-03-08  0.462571  0.488000\n",
       "2019-03-09  0.457714  0.488000\n",
       "2019-03-10  0.452857  0.488000\n",
       "2019-03-11  0.448000  0.488000\n",
       "2019-03-12  0.443857  0.488857\n",
       "2019-03-13  0.439714  0.489714\n",
       "2019-03-14  0.435571  0.490571\n",
       "2019-03-15  0.431429  0.491429\n",
       "2019-03-16  0.427286  0.492286\n",
       "2019-03-17  0.423143  0.493143\n",
       "2019-03-18  0.419000  0.494000\n",
       "2019-03-19  0.418571  0.494857\n",
       "2019-03-20  0.418143  0.495714\n",
       "2019-03-21  0.417714  0.496571\n",
       "2019-03-22  0.417286  0.497429\n",
       "2019-03-23  0.416857  0.498286\n",
       "2019-03-24  0.416429  0.499143\n",
       "2019-03-25  0.416000  0.500000\n",
       "2019-03-26  0.424143  0.500000\n",
       "2019-03-27  0.432286  0.500000\n",
       "2019-03-28  0.440429  0.500000\n",
       "2019-03-29  0.448571  0.500000\n",
       "2019-03-30  0.456714  0.500000\n",
       "2019-03-31  0.464857  0.500000\n",
       "2019-04-01  0.473000  0.500000\n",
       "2019-04-02  0.465571  0.500000\n",
       "...              ...       ...\n",
       "2019-05-26  0.475000  0.479571\n",
       "2019-05-27  0.483000  0.485000\n",
       "2019-05-28  0.489000  0.491143\n",
       "2019-05-29  0.493000  0.497286\n",
       "2019-05-30  0.493000  0.503429\n",
       "2019-05-31  0.496000  0.509571\n",
       "2019-06-01  0.493000  0.515714\n",
       "2019-06-02  0.496000  0.521857\n",
       "2019-06-03  0.494000  0.528000\n",
       "2019-06-04  0.493000  0.526571\n",
       "2019-06-05  0.488000  0.525143\n",
       "2019-06-06  0.476000  0.523714\n",
       "2019-06-07  0.466000  0.522286\n",
       "2019-06-08  0.455000  0.520857\n",
       "2019-06-09  0.454000  0.519429\n",
       "2019-06-10  0.454000  0.518000\n",
       "2019-06-11  0.448000  0.516000\n",
       "2019-06-12  0.446000  0.514000\n",
       "2019-06-13  0.447000  0.512000\n",
       "2019-06-14  0.449000  0.510000\n",
       "2019-06-15  0.450000  0.508000\n",
       "2019-06-16  0.458000  0.506000\n",
       "2019-06-17  0.456000  0.504000\n",
       "2019-06-18  0.453000  0.504857\n",
       "2019-06-19  0.456000  0.505714\n",
       "2019-06-20  0.456000  0.506571\n",
       "2019-06-21  0.460000  0.507429\n",
       "2019-06-22  0.461000  0.508286\n",
       "2019-06-23  0.461000  0.509143\n",
       "2019-06-24  0.459000  0.510000\n",
       "\n",
       "[113 rows x 2 columns]"
      ]
     },
     "execution_count": 102,
     "metadata": {},
     "output_type": "execute_result"
    }
   ],
   "source": [
    "data = pd.read_csv(\"web/data/2019-05-14/Ely-weekly.csv\").set_index(\"dt\")\n",
    "data.index = pd.to_datetime(data.index)\n",
    "data = data.dropna(how=\"all\")\n",
    "Mp = data[\"Macri (AI)\"].dropna()\n",
    "Ma = data[\"Macri (Elypsis)\"].dropna()\n",
    "\n",
    "M = pd.DataFrame(index=pd.date_range(start='3/4/2019', end='6/24/2019'))\n",
    "M[\"Mp\"] = np.NaN\n",
    "M[\"Ma\"] = np.NaN\n",
    "M[\"Mp\"] = Mp\n",
    "M[\"Ma\"] = Ma\n",
    "MI = M.interpolate(method=\"time\").dropna()\n",
    "MI"
   ]
  },
  {
   "cell_type": "code",
   "execution_count": 100,
   "metadata": {},
   "outputs": [
    {
     "name": "stdout",
     "output_type": "stream",
     "text": [
      "Lag: 0\n",
      "(-0.12123652947949717, 0.5500946100342299, 0.025119865277563602)\n",
      "Lag: 1\n",
      "(-0.11696350073160965, 0.5481897463136768, 0.023405896982520713)\n",
      "Lag: 2\n",
      "(-0.10964635750963223, 0.544885880364063, 0.020590947638378432)\n",
      "Lag: 3\n",
      "(-0.1005322937005833, 0.540758080148045, 0.017328916972748853)\n",
      "Lag: 4\n",
      "(-0.09220040972945334, 0.5369916652202549, 0.01459233113485392)\n",
      "Lag: 5\n",
      "(-0.0849338313317643, 0.5337188250020756, 0.012395473202059137)\n",
      "Lag: 6\n",
      "(-0.07978985531197895, 0.5314216155102484, 0.010950870095649656)\n",
      "Lag: 7\n",
      "(-0.07439897805329108, 0.5290140211454221, 0.009526958505244099)\n",
      "Lag: 8\n",
      "(-0.0700107844986281, 0.527065715995303, 0.008445378227172284)\n",
      "Lag: 9\n",
      "(-0.06752395074648171, 0.5259823762308343, 0.007863541747091807)\n",
      "Lag: 10\n",
      "(-0.0644848251710543, 0.52464308162596, 0.007167095376066745)\n",
      "Lag: 11\n",
      "(-0.0657733790783572, 0.525285449352091, 0.007447583646107314)\n",
      "Lag: 12\n",
      "(-0.07058406112218574, 0.5275410547458579, 0.008558705709300063)\n",
      "Lag: 13\n",
      "(-0.07792403217259021, 0.5309540155256723, 0.010402829981216999)\n",
      "Lag: 14\n",
      "(-0.08930666947770995, 0.5362188737508787, 0.013635320655924432)\n",
      "Lag: 15\n",
      "(-0.10763986153502723, 0.5446695942624703, 0.01979776994685256)\n",
      "Lag: 16\n",
      "(-0.13007824192456757, 0.5550028313170356, 0.02889564745845885)\n",
      "Lag: 17\n",
      "(-0.1544669765061485, 0.5662260242149445, 0.04073064139078586)\n",
      "Lag: 18\n",
      "(-0.1804910479088844, 0.5781745197243235, 0.05558394433355074)\n",
      "Lag: 19\n",
      "(-0.2063697263923893, 0.5900212575861483, 0.07238528750856732)\n",
      "Lag: 20\n",
      "(-0.23256712926965278, 0.601965157672211, 0.09080472471429069)\n",
      "Lag: 21\n",
      "(-0.25670139581719714, 0.6129199344921367, 0.10869765199881576)\n"
     ]
    }
   ],
   "source": [
    "Mp = MI.Mp\n",
    "Ma = MI.Ma\n",
    "\n",
    "for i in range(0, 22):\n",
    "#     print(Mp[:-i], Ma[i: ])\n",
    "    print(f\"Lag: {i}\")\n",
    "    if i == 0:\n",
    "        print(linear(Mp, Ma))\n",
    "    else:\n",
    "        print(linear(Mp[:-i], Ma[i: ]))"
   ]
  },
  {
   "cell_type": "code",
   "execution_count": 103,
   "metadata": {},
   "outputs": [],
   "source": [
    "M_rescaled = MI.Mp * (-0.25670139581719714) +  0.6129199344921367\n",
    "MI[\"Macri (rescaled AI)\"] = M_rescaled\n",
    "MI[\"Macri (rescaled AI)\"] = MI[\"Macri (rescaled AI)\"].shift(22)"
   ]
  },
  {
   "cell_type": "code",
   "execution_count": 104,
   "metadata": {},
   "outputs": [],
   "source": [
    "csv = MI.dropna().round(3)\n",
    "csv = csv.rename(columns={\"Ma\": \"Macri (Voting Intention from Elypsis)\"})\n",
    "csv[\"Fernandez (rescaled AI)\"] = 1 - csv[\"Macri (rescaled AI)\"]\n",
    "csv[\"Fernandez (Voting Intention from Elypsis)\"] = 1 - csv[\"Macri (Voting Intention from Elypsis)\"]\n",
    "csv = csv[[\"Fernandez (rescaled AI)\", \"Macri (rescaled AI)\", \"Fernandez (Voting Intention from Elypsis)\", \"Macri (Voting Intention from Elypsis)\"]]\n",
    "csv = csv.round(3)\n",
    "csv.to_csv(\"web/data/fitting_voting_08.csv\")"
   ]
  },
  {
   "cell_type": "code",
   "execution_count": 83,
   "metadata": {},
   "outputs": [
    {
     "data": {
      "text/html": [
       "<div>\n",
       "<style scoped>\n",
       "    .dataframe tbody tr th:only-of-type {\n",
       "        vertical-align: middle;\n",
       "    }\n",
       "\n",
       "    .dataframe tbody tr th {\n",
       "        vertical-align: top;\n",
       "    }\n",
       "\n",
       "    .dataframe thead th {\n",
       "        text-align: right;\n",
       "    }\n",
       "</style>\n",
       "<table border=\"1\" class=\"dataframe\">\n",
       "  <thead>\n",
       "    <tr style=\"text-align: right;\">\n",
       "      <th></th>\n",
       "      <th>Mp</th>\n",
       "      <th>Ma</th>\n",
       "    </tr>\n",
       "  </thead>\n",
       "  <tbody>\n",
       "    <tr>\n",
       "      <th>2019-03-04</th>\n",
       "      <td>0.482000</td>\n",
       "      <td>0.444000</td>\n",
       "    </tr>\n",
       "    <tr>\n",
       "      <th>2019-03-05</th>\n",
       "      <td>0.477143</td>\n",
       "      <td>0.438143</td>\n",
       "    </tr>\n",
       "    <tr>\n",
       "      <th>2019-03-06</th>\n",
       "      <td>0.472286</td>\n",
       "      <td>0.432286</td>\n",
       "    </tr>\n",
       "    <tr>\n",
       "      <th>2019-03-07</th>\n",
       "      <td>0.467429</td>\n",
       "      <td>0.426429</td>\n",
       "    </tr>\n",
       "    <tr>\n",
       "      <th>2019-03-08</th>\n",
       "      <td>0.462571</td>\n",
       "      <td>0.420571</td>\n",
       "    </tr>\n",
       "    <tr>\n",
       "      <th>2019-03-09</th>\n",
       "      <td>0.457714</td>\n",
       "      <td>0.414714</td>\n",
       "    </tr>\n",
       "    <tr>\n",
       "      <th>2019-03-10</th>\n",
       "      <td>0.452857</td>\n",
       "      <td>0.408857</td>\n",
       "    </tr>\n",
       "    <tr>\n",
       "      <th>2019-03-11</th>\n",
       "      <td>0.448000</td>\n",
       "      <td>0.403000</td>\n",
       "    </tr>\n",
       "    <tr>\n",
       "      <th>2019-03-12</th>\n",
       "      <td>0.443857</td>\n",
       "      <td>0.407000</td>\n",
       "    </tr>\n",
       "    <tr>\n",
       "      <th>2019-03-13</th>\n",
       "      <td>0.439714</td>\n",
       "      <td>0.411000</td>\n",
       "    </tr>\n",
       "    <tr>\n",
       "      <th>2019-03-14</th>\n",
       "      <td>0.435571</td>\n",
       "      <td>0.415000</td>\n",
       "    </tr>\n",
       "    <tr>\n",
       "      <th>2019-03-15</th>\n",
       "      <td>0.431429</td>\n",
       "      <td>0.419000</td>\n",
       "    </tr>\n",
       "    <tr>\n",
       "      <th>2019-03-16</th>\n",
       "      <td>0.427286</td>\n",
       "      <td>0.423000</td>\n",
       "    </tr>\n",
       "    <tr>\n",
       "      <th>2019-03-17</th>\n",
       "      <td>0.423143</td>\n",
       "      <td>0.427000</td>\n",
       "    </tr>\n",
       "    <tr>\n",
       "      <th>2019-03-18</th>\n",
       "      <td>0.419000</td>\n",
       "      <td>0.431000</td>\n",
       "    </tr>\n",
       "    <tr>\n",
       "      <th>2019-03-19</th>\n",
       "      <td>0.418571</td>\n",
       "      <td>0.427714</td>\n",
       "    </tr>\n",
       "    <tr>\n",
       "      <th>2019-03-20</th>\n",
       "      <td>0.418143</td>\n",
       "      <td>0.424429</td>\n",
       "    </tr>\n",
       "    <tr>\n",
       "      <th>2019-03-21</th>\n",
       "      <td>0.417714</td>\n",
       "      <td>0.421143</td>\n",
       "    </tr>\n",
       "    <tr>\n",
       "      <th>2019-03-22</th>\n",
       "      <td>0.417286</td>\n",
       "      <td>0.417857</td>\n",
       "    </tr>\n",
       "    <tr>\n",
       "      <th>2019-03-23</th>\n",
       "      <td>0.416857</td>\n",
       "      <td>0.414571</td>\n",
       "    </tr>\n",
       "    <tr>\n",
       "      <th>2019-03-24</th>\n",
       "      <td>0.416429</td>\n",
       "      <td>0.411286</td>\n",
       "    </tr>\n",
       "    <tr>\n",
       "      <th>2019-03-25</th>\n",
       "      <td>0.416000</td>\n",
       "      <td>0.408000</td>\n",
       "    </tr>\n",
       "    <tr>\n",
       "      <th>2019-03-26</th>\n",
       "      <td>0.424143</td>\n",
       "      <td>0.410571</td>\n",
       "    </tr>\n",
       "    <tr>\n",
       "      <th>2019-03-27</th>\n",
       "      <td>0.432286</td>\n",
       "      <td>0.413143</td>\n",
       "    </tr>\n",
       "    <tr>\n",
       "      <th>2019-03-28</th>\n",
       "      <td>0.440429</td>\n",
       "      <td>0.415714</td>\n",
       "    </tr>\n",
       "    <tr>\n",
       "      <th>2019-03-29</th>\n",
       "      <td>0.448571</td>\n",
       "      <td>0.418286</td>\n",
       "    </tr>\n",
       "    <tr>\n",
       "      <th>2019-03-30</th>\n",
       "      <td>0.456714</td>\n",
       "      <td>0.420857</td>\n",
       "    </tr>\n",
       "    <tr>\n",
       "      <th>2019-03-31</th>\n",
       "      <td>0.464857</td>\n",
       "      <td>0.423429</td>\n",
       "    </tr>\n",
       "    <tr>\n",
       "      <th>2019-04-01</th>\n",
       "      <td>0.473000</td>\n",
       "      <td>0.426000</td>\n",
       "    </tr>\n",
       "    <tr>\n",
       "      <th>2019-04-02</th>\n",
       "      <td>0.465571</td>\n",
       "      <td>0.420429</td>\n",
       "    </tr>\n",
       "    <tr>\n",
       "      <th>...</th>\n",
       "      <td>...</td>\n",
       "      <td>...</td>\n",
       "    </tr>\n",
       "    <tr>\n",
       "      <th>2019-06-30</th>\n",
       "      <td>0.495000</td>\n",
       "      <td>0.522286</td>\n",
       "    </tr>\n",
       "    <tr>\n",
       "      <th>2019-07-01</th>\n",
       "      <td>0.488000</td>\n",
       "      <td>0.526000</td>\n",
       "    </tr>\n",
       "    <tr>\n",
       "      <th>2019-07-02</th>\n",
       "      <td>0.479000</td>\n",
       "      <td>0.520571</td>\n",
       "    </tr>\n",
       "    <tr>\n",
       "      <th>2019-07-03</th>\n",
       "      <td>0.473000</td>\n",
       "      <td>0.515143</td>\n",
       "    </tr>\n",
       "    <tr>\n",
       "      <th>2019-07-04</th>\n",
       "      <td>0.471000</td>\n",
       "      <td>0.509714</td>\n",
       "    </tr>\n",
       "    <tr>\n",
       "      <th>2019-07-05</th>\n",
       "      <td>0.473000</td>\n",
       "      <td>0.504286</td>\n",
       "    </tr>\n",
       "    <tr>\n",
       "      <th>2019-07-06</th>\n",
       "      <td>0.471000</td>\n",
       "      <td>0.498857</td>\n",
       "    </tr>\n",
       "    <tr>\n",
       "      <th>2019-07-07</th>\n",
       "      <td>0.463000</td>\n",
       "      <td>0.493429</td>\n",
       "    </tr>\n",
       "    <tr>\n",
       "      <th>2019-07-08</th>\n",
       "      <td>0.472000</td>\n",
       "      <td>0.488000</td>\n",
       "    </tr>\n",
       "    <tr>\n",
       "      <th>2019-07-09</th>\n",
       "      <td>0.480000</td>\n",
       "      <td>0.493143</td>\n",
       "    </tr>\n",
       "    <tr>\n",
       "      <th>2019-07-10</th>\n",
       "      <td>0.491000</td>\n",
       "      <td>0.498286</td>\n",
       "    </tr>\n",
       "    <tr>\n",
       "      <th>2019-07-11</th>\n",
       "      <td>0.494000</td>\n",
       "      <td>0.503429</td>\n",
       "    </tr>\n",
       "    <tr>\n",
       "      <th>2019-07-12</th>\n",
       "      <td>0.496000</td>\n",
       "      <td>0.508571</td>\n",
       "    </tr>\n",
       "    <tr>\n",
       "      <th>2019-07-13</th>\n",
       "      <td>0.494000</td>\n",
       "      <td>0.513714</td>\n",
       "    </tr>\n",
       "    <tr>\n",
       "      <th>2019-07-14</th>\n",
       "      <td>0.490000</td>\n",
       "      <td>0.518857</td>\n",
       "    </tr>\n",
       "    <tr>\n",
       "      <th>2019-07-15</th>\n",
       "      <td>0.484000</td>\n",
       "      <td>0.524000</td>\n",
       "    </tr>\n",
       "    <tr>\n",
       "      <th>2019-07-16</th>\n",
       "      <td>0.491000</td>\n",
       "      <td>0.520571</td>\n",
       "    </tr>\n",
       "    <tr>\n",
       "      <th>2019-07-17</th>\n",
       "      <td>0.488000</td>\n",
       "      <td>0.517143</td>\n",
       "    </tr>\n",
       "    <tr>\n",
       "      <th>2019-07-18</th>\n",
       "      <td>0.496000</td>\n",
       "      <td>0.513714</td>\n",
       "    </tr>\n",
       "    <tr>\n",
       "      <th>2019-07-19</th>\n",
       "      <td>0.503000</td>\n",
       "      <td>0.510286</td>\n",
       "    </tr>\n",
       "    <tr>\n",
       "      <th>2019-07-20</th>\n",
       "      <td>0.505000</td>\n",
       "      <td>0.506857</td>\n",
       "    </tr>\n",
       "    <tr>\n",
       "      <th>2019-07-21</th>\n",
       "      <td>0.516000</td>\n",
       "      <td>0.503429</td>\n",
       "    </tr>\n",
       "    <tr>\n",
       "      <th>2019-07-22</th>\n",
       "      <td>0.516000</td>\n",
       "      <td>0.500000</td>\n",
       "    </tr>\n",
       "    <tr>\n",
       "      <th>2019-07-23</th>\n",
       "      <td>0.511000</td>\n",
       "      <td>0.504429</td>\n",
       "    </tr>\n",
       "    <tr>\n",
       "      <th>2019-07-24</th>\n",
       "      <td>0.507000</td>\n",
       "      <td>0.508857</td>\n",
       "    </tr>\n",
       "    <tr>\n",
       "      <th>2019-07-25</th>\n",
       "      <td>0.501000</td>\n",
       "      <td>0.513286</td>\n",
       "    </tr>\n",
       "    <tr>\n",
       "      <th>2019-07-26</th>\n",
       "      <td>0.504000</td>\n",
       "      <td>0.517714</td>\n",
       "    </tr>\n",
       "    <tr>\n",
       "      <th>2019-07-27</th>\n",
       "      <td>0.502000</td>\n",
       "      <td>0.522143</td>\n",
       "    </tr>\n",
       "    <tr>\n",
       "      <th>2019-07-28</th>\n",
       "      <td>0.504000</td>\n",
       "      <td>0.526571</td>\n",
       "    </tr>\n",
       "    <tr>\n",
       "      <th>2019-07-29</th>\n",
       "      <td>0.502000</td>\n",
       "      <td>0.531000</td>\n",
       "    </tr>\n",
       "  </tbody>\n",
       "</table>\n",
       "<p>148 rows × 2 columns</p>\n",
       "</div>"
      ],
      "text/plain": [
       "                  Mp        Ma\n",
       "2019-03-04  0.482000  0.444000\n",
       "2019-03-05  0.477143  0.438143\n",
       "2019-03-06  0.472286  0.432286\n",
       "2019-03-07  0.467429  0.426429\n",
       "2019-03-08  0.462571  0.420571\n",
       "2019-03-09  0.457714  0.414714\n",
       "2019-03-10  0.452857  0.408857\n",
       "2019-03-11  0.448000  0.403000\n",
       "2019-03-12  0.443857  0.407000\n",
       "2019-03-13  0.439714  0.411000\n",
       "2019-03-14  0.435571  0.415000\n",
       "2019-03-15  0.431429  0.419000\n",
       "2019-03-16  0.427286  0.423000\n",
       "2019-03-17  0.423143  0.427000\n",
       "2019-03-18  0.419000  0.431000\n",
       "2019-03-19  0.418571  0.427714\n",
       "2019-03-20  0.418143  0.424429\n",
       "2019-03-21  0.417714  0.421143\n",
       "2019-03-22  0.417286  0.417857\n",
       "2019-03-23  0.416857  0.414571\n",
       "2019-03-24  0.416429  0.411286\n",
       "2019-03-25  0.416000  0.408000\n",
       "2019-03-26  0.424143  0.410571\n",
       "2019-03-27  0.432286  0.413143\n",
       "2019-03-28  0.440429  0.415714\n",
       "2019-03-29  0.448571  0.418286\n",
       "2019-03-30  0.456714  0.420857\n",
       "2019-03-31  0.464857  0.423429\n",
       "2019-04-01  0.473000  0.426000\n",
       "2019-04-02  0.465571  0.420429\n",
       "...              ...       ...\n",
       "2019-06-30  0.495000  0.522286\n",
       "2019-07-01  0.488000  0.526000\n",
       "2019-07-02  0.479000  0.520571\n",
       "2019-07-03  0.473000  0.515143\n",
       "2019-07-04  0.471000  0.509714\n",
       "2019-07-05  0.473000  0.504286\n",
       "2019-07-06  0.471000  0.498857\n",
       "2019-07-07  0.463000  0.493429\n",
       "2019-07-08  0.472000  0.488000\n",
       "2019-07-09  0.480000  0.493143\n",
       "2019-07-10  0.491000  0.498286\n",
       "2019-07-11  0.494000  0.503429\n",
       "2019-07-12  0.496000  0.508571\n",
       "2019-07-13  0.494000  0.513714\n",
       "2019-07-14  0.490000  0.518857\n",
       "2019-07-15  0.484000  0.524000\n",
       "2019-07-16  0.491000  0.520571\n",
       "2019-07-17  0.488000  0.517143\n",
       "2019-07-18  0.496000  0.513714\n",
       "2019-07-19  0.503000  0.510286\n",
       "2019-07-20  0.505000  0.506857\n",
       "2019-07-21  0.516000  0.503429\n",
       "2019-07-22  0.516000  0.500000\n",
       "2019-07-23  0.511000  0.504429\n",
       "2019-07-24  0.507000  0.508857\n",
       "2019-07-25  0.501000  0.513286\n",
       "2019-07-26  0.504000  0.517714\n",
       "2019-07-27  0.502000  0.522143\n",
       "2019-07-28  0.504000  0.526571\n",
       "2019-07-29  0.502000  0.531000\n",
       "\n",
       "[148 rows x 2 columns]"
      ]
     },
     "execution_count": 83,
     "metadata": {},
     "output_type": "execute_result"
    }
   ],
   "source": [
    "data = pd.read_csv(\"web/data/2019-05-14/positive.csv\").set_index(\"dt\")\n",
    "data.index = pd.to_datetime(data.index)\n",
    "data = data.dropna(how=\"all\")\n",
    "Mp = data[\"Macri (AI)\"].dropna()\n",
    "Ma = data[\"Macri (Elypsis)\"].dropna()\n",
    "\n",
    "M = pd.DataFrame(index=pd.date_range(start='3/4/2019', end='7/29/2019'))\n",
    "M[\"Mp\"] = np.NaN\n",
    "M[\"Ma\"] = np.NaN\n",
    "M[\"Mp\"] = Mp\n",
    "M[\"Ma\"] = Ma\n",
    "MI = M.interpolate(method=\"time\").dropna()\n",
    "MI"
   ]
  },
  {
   "cell_type": "code",
   "execution_count": 84,
   "metadata": {},
   "outputs": [
    {
     "name": "stdout",
     "output_type": "stream",
     "text": [
      "Lag: 0\n",
      "(0.9132706992187614, 0.028240072554286233, 0.2565789135812663)\n",
      "Lag: 1\n",
      "(0.9566075048359727, 0.008325882014058594, 0.27791798120246824)\n",
      "Lag: 2\n",
      "(0.9870625801862745, -0.005506830478049951, 0.2917065335023401)\n",
      "Lag: 3\n",
      "(1.0051699694251104, -0.013541734046460918, 0.2987885776779665)\n",
      "Lag: 4\n",
      "(1.0184034623715328, -0.019238536168813436, 0.3026163786101773)\n",
      "Lag: 5\n",
      "(1.0266156670377462, -0.022566497940193053, 0.30439012368884844)\n",
      "Lag: 6\n",
      "(1.0284054038844648, -0.022812552150588472, 0.30108241116230117)\n",
      "Lag: 7\n",
      "(1.0285223800020216, -0.022201326414272526, 0.29594821521473125)\n",
      "Lag: 8\n",
      "(1.033674086474692, -0.023839134857073174, 0.29235836445720664)\n",
      "Lag: 9\n",
      "(1.0443855261577664, -0.028069873478387408, 0.2911340002823881)\n",
      "Lag: 10\n",
      "(1.0556779553993993, -0.032664225572059336, 0.2932084157217869)\n",
      "Lag: 11\n",
      "(1.0548100356203123, -0.03165382277867701, 0.288622002033569)\n",
      "Lag: 12\n",
      "(1.041869253115296, -0.025128726975516158, 0.279030013448346)\n",
      "Lag: 13\n",
      "(1.0220042343295752, -0.01548791532874455, 0.2673514172072583)\n",
      "Lag: 14\n",
      "(0.9913269285918223, -0.0008533405248929427, 0.24968985278153777)\n",
      "Lag: 15\n",
      "(0.9443526204228088, 0.02123085244852857, 0.22575151319209874)\n",
      "Lag: 16\n",
      "(0.8767735096954702, 0.052895427827251595, 0.19321378159992442)\n",
      "Lag: 17\n",
      "(0.7963494307071205, 0.09052214158908461, 0.1578242640939982)\n",
      "Lag: 18\n",
      "(0.717271100197039, 0.12753139964758936, 0.12660181643399004)\n",
      "Lag: 19\n",
      "(0.6451321665877717, 0.16131940984021176, 0.10150908567982697)\n",
      "Lag: 20\n",
      "(0.5826101510464783, 0.19065482168905895, 0.08232761002844535)\n",
      "Lag: 21\n",
      "(0.5367659940488237, 0.2122591327284471, 0.07009426651679551)\n",
      "Lag: 22\n",
      "(0.5154550928246785, 0.22254137823662246, 0.0651425738126189)\n"
     ]
    }
   ],
   "source": [
    "Mp = MI.Mp\n",
    "Ma = MI.Ma\n",
    "\n",
    "for i in range(0, 23):\n",
    "#     print(Mp[:-i], Ma[i: ])\n",
    "    print(f\"Lag: {i}\")\n",
    "    if i == 0:\n",
    "        print(linear(Mp, Ma))\n",
    "    else:\n",
    "        print(linear(Mp[:-i], Ma[i: ]))"
   ]
  },
  {
   "cell_type": "code",
   "execution_count": 85,
   "metadata": {},
   "outputs": [],
   "source": [
    "M_rescaled = MI.Mp * 1.0266156670377462 -0.022566497940193053\n",
    "MI[\"Macri (rescaled AI)\"] = M_rescaled\n",
    "MI[\"Macri (rescaled AI)\"] = MI[\"Macri (rescaled AI)\"].shift(5)"
   ]
  },
  {
   "cell_type": "code",
   "execution_count": 86,
   "metadata": {},
   "outputs": [
    {
     "data": {
      "text/plain": [
       "<matplotlib.axes._subplots.AxesSubplot at 0x7f86a587a9e8>"
      ]
     },
     "execution_count": 86,
     "metadata": {},
     "output_type": "execute_result"
    },
    {
     "data": {
      "image/png": "[encoded data removed]",
      "text/plain": [
       "<Figure size 432x288 with 1 Axes>"
      ]
     },
     "metadata": {
      "needs_background": "light"
     },
     "output_type": "display_data"
    }
   ],
   "source": [
    "MI.plot()"
   ]
  },
  {
   "cell_type": "code",
   "execution_count": 88,
   "metadata": {},
   "outputs": [],
   "source": [
    "csv = MI.dropna().round(3)\n",
    "csv = csv.rename(columns={\"Ma\": \"Macri (Positive Image from Elypsis)\"})\n",
    "csv[\"Fernandez (rescaled AI)\"] = 1 - csv[\"Macri (rescaled AI)\"]\n",
    "csv[\"Fernandez (Positive Image from Elypsis)\"] = 1 - csv[\"Macri (Positive Image from Elypsis)\"]\n",
    "csv = csv[[\"Fernandez (rescaled AI)\", \"Macri (rescaled AI)\", \"Fernandez (Positive Image from Elypsis)\", \"Macri (Positive Image from Elypsis)\"]]\n",
    "csv = csv.round(3)\n",
    "csv.to_csv(\"web/data/2019-05-14/p1-f-positive.csv\")"
   ]
  }
 ],
 "metadata": {
  "kernelspec": {
   "display_name": "Python 3",
   "language": "python",
   "name": "python3"
  },
  "language_info": {
   "codemirror_mode": {
    "name": "ipython",
    "version": 3
   },
   "file_extension": ".py",
   "mimetype": "text/x-python",
   "name": "python",
   "nbconvert_exporter": "python",
   "pygments_lexer": "ipython3",
   "version": "3.7.3"
  }
 },
 "nbformat": 4,
 "nbformat_minor": 2
}
