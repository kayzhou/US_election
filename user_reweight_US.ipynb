{
 "cells": [
  {
   "cell_type": "code",
   "execution_count": 3,
   "metadata": {
    "ExecuteTime": {
     "end_time": "2020-10-28T17:00:26.293033Z",
     "start_time": "2020-10-28T17:00:26.289258Z"
    }
   },
   "outputs": [],
   "source": [
    "from my_weapon import *\n",
    "from SQLite_handler import *\n",
    "import tqdm as tqdm\n",
    "from collections import defaultdict\n",
    "plt.style.use('fivethirtyeight')\n",
    "\n",
    "USA_STATES = ['NY', 'DC', 'IN', 'AR', 'WY', 'ME', 'TX', 'NH', 'CO', 'CA', 'IL',\n",
    "             'WA', 'VA', 'FL', 'MA', 'OR', 'AZ', 'MT', 'MN', 'NE', 'TN', 'OH',\n",
    "             'NJ', 'NV', 'KY', 'UT', 'NC', 'SC', 'PA', 'NM', 'KS', 'GA', 'MI',\n",
    "             'WI', 'AK', 'MS', 'MD', 'LA', 'HI', 'MO', 'AL', 'CT', 'OK', 'IA',\n",
    "             'WV', 'RI', 'SD', 'VT', 'ND', 'ID', 'DE']"
   ]
  },
  {
   "cell_type": "code",
   "execution_count": 16,
   "metadata": {
    "ExecuteTime": {
     "end_time": "2020-10-28T17:05:47.684871Z",
     "start_time": "2020-10-28T17:05:41.726210Z"
    },
    "collapsed": true
   },
   "outputs": [
    {
     "name": "stderr",
     "output_type": "stream",
     "text": [
      "/home/alex/anaconda3/lib/python3.7/site-packages/IPython/core/interactiveshell.py:3049: DtypeWarning: Columns (0) have mixed types. Specify dtype option on import or set low_memory=False.\n",
      "  interactivity=interactivity, compiler=compiler, result=result)\n"
     ]
    }
   ],
   "source": [
    "#-->Matteo 2020/10/28\n",
    "##Merge all the users we got soo far.\n",
    "old_data=pd.read_csv('/home/alex/kayzhou/US_election/disk/users-location/202006-all.csv')\n",
    "users_id_zk=set(old_data['uid'])"
   ]
  },
  {
   "cell_type": "code",
   "execution_count": 41,
   "metadata": {
    "ExecuteTime": {
     "end_time": "2020-10-28T17:24:01.527990Z",
     "start_time": "2020-10-28T17:23:54.527134Z"
    }
   },
   "outputs": [],
   "source": [
    "#Here i will just add those users of wich we have the county information.\n",
    "#In data/county/County_users.lj contain all the users with county from Junuary to October\n",
    "c=0\n",
    "d=pd.DataFrame(columns=['uid','county','loc','name','state'])\n",
    "new_ones=[]\n",
    "for i in open('data/county_users/County_users.lj'):\n",
    "    user=json.loads(i)\n",
    "    #this because I'm stupid\n",
    "    if isinstance(user, str):\n",
    "            user=json.loads(user)\n",
    "    if user['id'] in users_id_zk:\n",
    "        continue\n",
    "    new_ones.append([user['id'],user['loc'],None,None,user['loc'].split(',')[-1]])"
   ]
  },
  {
   "cell_type": "code",
   "execution_count": 40,
   "metadata": {
    "ExecuteTime": {
     "end_time": "2020-10-28T17:23:44.101547Z",
     "start_time": "2020-10-28T17:23:44.097149Z"
    }
   },
   "outputs": [
    {
     "data": {
      "text/html": [
       "<div>\n",
       "<style scoped>\n",
       "    .dataframe tbody tr th:only-of-type {\n",
       "        vertical-align: middle;\n",
       "    }\n",
       "\n",
       "    .dataframe tbody tr th {\n",
       "        vertical-align: top;\n",
       "    }\n",
       "\n",
       "    .dataframe thead th {\n",
       "        text-align: right;\n",
       "    }\n",
       "</style>\n",
       "<table border=\"1\" class=\"dataframe\">\n",
       "  <thead>\n",
       "    <tr style=\"text-align: right;\">\n",
       "      <th></th>\n",
       "      <th>uid</th>\n",
       "      <th>county</th>\n",
       "      <th>loc</th>\n",
       "      <th>name</th>\n",
       "      <th>state</th>\n",
       "    </tr>\n",
       "  </thead>\n",
       "  <tbody>\n",
       "  </tbody>\n",
       "</table>\n",
       "</div>"
      ],
      "text/plain": [
       "Empty DataFrame\n",
       "Columns: [uid, county, loc, name, state]\n",
       "Index: []"
      ]
     },
     "execution_count": 40,
     "metadata": {},
     "output_type": "execute_result"
    }
   ],
   "source": [
    "d"
   ]
  },
  {
   "cell_type": "markdown",
   "metadata": {},
   "source": [
    "# Rural and Urban"
   ]
  },
  {
   "cell_type": "code",
   "execution_count": null,
   "metadata": {},
   "outputs": [],
   "source": [
    "rural_table = pd.read_csv(\"data/ruralurbancodes2013.csv\")\n",
    "rural_table[\"Population\"] = rural_table[\"Population_2010\"].apply(lambda x: int(x.replace(\",\", \"\")))\n",
    "rural_table[\"is_rural\"] = rural_table[\"RUCC_2013\"].apply(lambda x: 1 if x >= 3 else 0) # 分类，大于3以上是大城市\n",
    "# rural_table[rural_table.County_Name==\"Orleans Parish\"]\n",
    "\n",
    "# def county_to_rural(state_name, county_name):\n",
    "#     try:\n",
    "#         return rural_table[(rural_table[\"State\"]==state_name) & (rural_table[\"county\"]==county_name)][\"is_rural\"].iloc[0]\n",
    "#     except:\n",
    "#         return f\"cannot find the loc ({state_name}, {county_name})\"\n",
    "\n",
    "\n",
    "dict_state_county_is_rural = defaultdict(dict)\n",
    "\n",
    "for row in rural_table.itertuples():\n",
    "    State = getattr(row, \"State\")\n",
    "    county = getattr(row, \"County_Name\")\n",
    "    is_rural = getattr(row, \"is_rural\")\n",
    "    if county != \"District of Columbia\":\n",
    "        county = \" \".join(county.split()[: -1])\n",
    "    dict_state_county_is_rural[State][county] = is_rural\n",
    "    \n",
    "# print(dict_state_county_is_rural[\"LA\"])\n",
    "\n",
    "rural_population = rural_table.groupby([\"State\", \"is_rural\"]).sum()[\"Population\"]\n",
    "rural_count = dict(rural_population)"
   ]
  },
  {
   "cell_type": "code",
   "execution_count": null,
   "metadata": {},
   "outputs": [],
   "source": [
    "rural_table"
   ]
  },
  {
   "cell_type": "markdown",
   "metadata": {},
   "source": [
    "## Load the users' opinions and locations\n",
    "\n",
    "1. 累计预测模型结果（并没有细化到州）\n",
    "2. 识别到地理位置的用户的观点（也可以看看全局结果）\n",
    "3. 根据用户地理位置的经济状况，rescale后的结果"
   ]
  },
  {
   "cell_type": "code",
   "execution_count": null,
   "metadata": {},
   "outputs": [],
   "source": [
    "# 载入用户观点\n",
    "\n",
    "# load users' opinion\n",
    "# users_opinion = pd.read_csv(\"data/tweetid_userid_pro_hillary.csv\")\n",
    "import pendulum\n",
    "users_opinion = defaultdict(lambda: [0, 0])\n",
    "# set_users = set(users_loc.index)\n",
    "# start = pendulum.datetime(2016, 9, 1)\n",
    "\n",
    "# election date: 2016-11-8\n",
    "# for line in tqdm(open(\"data/tweetid_userid_pro_hillary.csv\")):\n",
    "#     w = line.strip().split(\",\")\n",
    "#     uid = int(w[0])\n",
    "#     if uid in set_users:\n",
    "#         if float(w[2]) < 0.5:\n",
    "#             users_opinion[uid][0] += 1\n",
    "#         else:\n",
    "#             users_opinion[uid][1] += 1\n",
    "\n",
    "users_opinion = []\n",
    "i = 0\n",
    "for line in tqdm(open(\"data/cul01-2020-07-01.csv\")):\n",
    "    w = line.strip().split(\",\")\n",
    "    i += 1\n",
    "    if i == 1:\n",
    "        continue\n",
    "    uid = str(w[0])\n",
    "    users_opinion.append({\n",
    "        \"uid\": uid,\n",
    "        \"Camp\": \"T\" if int(w[2]) > int(w[1]) else \"B\" \n",
    "    })\n",
    "users_opinion = pd.DataFrame(users_opinion).set_index(\"uid\")\n",
    "users_opinion"
   ]
  },
  {
   "cell_type": "code",
   "execution_count": null,
   "metadata": {},
   "outputs": [],
   "source": [
    "users_opinion[\"Camp\"].value_counts(normalize=True)"
   ]
  },
  {
   "cell_type": "code",
   "execution_count": null,
   "metadata": {},
   "outputs": [],
   "source": [
    "# 载入所有有地理位置信息的用户\n",
    "users_loc = pd.read_csv(\"data/202006-all-users.csv\", usecols=[\"uid\", \"state\", \"county\"],\n",
    "                        dtype={\"uid\": str, \"state\": str, \"county\": str},\n",
    "                        index_col=\"uid\")\n",
    "users_loc = users_loc.dropna()\n",
    "users_loc[\"county\"] = users_loc[\"county\"].apply(lambda x: \" \".join(x.split(\", \")[:-1]))\n",
    "users_loc"
   ]
  },
  {
   "cell_type": "markdown",
   "metadata": {},
   "source": [
    "3072442个用户拥有state和county信息。一定要有state数据，county可能不存在。\n",
    "\n",
    "这些人的观点呢？"
   ]
  },
  {
   "cell_type": "code",
   "execution_count": null,
   "metadata": {},
   "outputs": [],
   "source": [
    "users_opinion_with_location = users_loc.join(users_opinion)"
   ]
  },
  {
   "cell_type": "code",
   "execution_count": null,
   "metadata": {},
   "outputs": [],
   "source": [
    "users_opinion_with_location"
   ]
  },
  {
   "cell_type": "code",
   "execution_count": null,
   "metadata": {},
   "outputs": [],
   "source": [
    "users_opinion_with_location[\"Camp\"].value_counts()"
   ]
  },
  {
   "cell_type": "code",
   "execution_count": null,
   "metadata": {},
   "outputs": [],
   "source": [
    "users_opinion_with_location[\"Camp\"].value_counts(normalize=True)"
   ]
  },
  {
   "cell_type": "code",
   "execution_count": null,
   "metadata": {},
   "outputs": [],
   "source": [
    "# Since we only know the name of city, but the county. We need convert the city to county.\n",
    "# check some mapping from http://www.statsamerica.org/CityCountyFinder/Default.aspx\n",
    "\n",
    "# 需要更加详细的转换\n",
    "_dict_city_to_county = {\n",
    "    'Chicago, IL': 'Cook',\n",
    "    'Washington, DC': 'District of Columbia',\n",
    "    'Atlanta, GA': 'Fulton',\n",
    "    'Boston, MA': 'Suffolk',\n",
    "    'Seattle, WA': 'King',\n",
    "    'Brooklyn, NY': 'New York',\n",
    "    'Miami, FL': 'Miami-Dade',\n",
    "    'Las Vegas, NV': 'Clark',\n",
    "    'Portland, OR': 'Multnomah',\n",
    "    'Pittsburgh, PA': 'Allegheny',\n",
    "    'San Antonio, TX': 'Bexar',\n",
    "    'Nashville, TN': 'Davidson',\n",
    "    'Orlando, FL': 'Orange',\n",
    "    'Phoenix, AZ': 'Maricopa',\n",
    "    'Indianapolis, IN': 'Marion',\n",
    "    'Columbus, OH': 'Franklin',\n",
    "    'Minneapolis, MN': 'Hennepin',\n",
    "    'St Louis, MO': 'St. Louis',\n",
    "    'Charlotte, NC': 'Mecklenburg',\n",
    "    'Cleveland, OH': 'Cuyahoga',\n",
    "    'Detroit, MI': 'Wayne',\n",
    "    'Tampa, FL': 'Hillsborough',\n",
    "    'New Orleans, LA': 'Orleans',\n",
    "    'Kansas City, MO': 'Jackson',\n",
    "    'Cincinnati, OH': 'Hamilton'\n",
    "}\n",
    "    \n",
    "def city_to_county(state_name, city_name):\n",
    "    return _dict_city_to_county.get(f\"{city_name}, {state_name}\", city_name)"
   ]
  },
  {
   "cell_type": "code",
   "execution_count": null,
   "metadata": {
    "tags": []
   },
   "outputs": [],
   "source": [
    "from collections import Counter\n",
    "\n",
    "find_county = Counter()\n",
    "cannot_find_county = Counter()\n",
    "\n",
    "for _state in tqdm(USA_STATES):\n",
    "    _users = users_loc[users_loc.state==_state].copy()\n",
    "    _users[\"county\"] = _users[\"county\"].apply(lambda x: city_to_county(_state, x))\n",
    "    _users[\"is_rural\"] = _users[\"county\"].apply(lambda x: dict_state_county_is_rural[_state].get(x, -1))\n",
    "    _users.to_csv(f\"data/is_rural/{_state}.csv\")\n",
    "\n",
    "#     for row in _users.itertuples():\n",
    "#         county = getattr(row, \"county\")\n",
    "#         is_rural = getattr(row, \"is_rural\")\n",
    "#         if is_rural == -1:\n",
    "#             cannot_find_county[f\"{county}, {_state}\"] += 1\n",
    "#         else:\n",
    "#             find_county[f\"{county}, {_state}\"] += 1\n",
    "    \n",
    "    \n",
    "# -1 represents that we cannot map the city (from BingMap) to county\n",
    "# So we need more infomation between city and county"
   ]
  },
  {
   "cell_type": "code",
   "execution_count": null,
   "metadata": {},
   "outputs": [],
   "source": [
    "print(len(cannot_find_county))\n",
    "print(cannot_find_county.most_common(10))\n",
    "find_county.most_common(10)"
   ]
  },
  {
   "cell_type": "markdown",
   "metadata": {},
   "source": [
    "从1月~6月，共12988437个用户"
   ]
  },
  {
   "cell_type": "code",
   "execution_count": null,
   "metadata": {
    "tags": []
   },
   "outputs": [],
   "source": [
    "for _state in tqdm(USA_STATES):\n",
    "    users_county = pd.read_csv(\"data/is_rural/\" + _state + \".csv\", index_col=\"uid\")\n",
    "    users_county = users_county.join(users_opinion)\n",
    "    groups = dict(users_county.groupby([\"is_rural\", \"Camp\"]).size())\n",
    "    # print(_state, groups) \n",
    "\n",
    "    w1 = rural_count.get((_state, 1), 0) / (rural_count.get((_state, 1), 0) + rural_count.get((_state, 0), 0))\n",
    "    w0 = 1 - w1\n",
    "    \n",
    "    groups_T_H = dict(users_county[users_county.is_rural != -1].groupby(\"Camp\").size())\n",
    "    # print(groups_T_H)\n",
    "    proT = groups_T_H.get(\"T\", 0) / (groups_T_H.get(\"T\", 0) + groups_T_H.get(\"B\", 0))\n",
    "    \n",
    "\n",
    "    if (0, 'T') not in groups: # No urban people support Trump!\n",
    "        pro_T_1 = groups[(1, 'T')] / (groups[(1, 'T')] + groups[(1, 'B')])\n",
    "        rst = pro_T_1\n",
    "    elif (1, 'T') not in groups: # No rural people support Trump!\n",
    "        pro_T_0 = groups[(0, 'T')] / (groups[(0, 'T')] + groups[(0, 'B')])\n",
    "        rst = pro_T_0\n",
    "    else:\n",
    "        pro_T_0 = groups[(0, 'T')] / (groups[(0, 'T')] + groups[(0, 'B')])\n",
    "        pro_T_1 = groups[(1, 'T')] / (groups[(1, 'T')] + groups[(1, 'B')])\n",
    "        rst = pro_T_1 * w1 + pro_T_0 * w0\n",
    "        \n",
    "    print(f\"{_state}, Census (rural areas): {w1 * 100:.2f}%, Trump: {proT * 100:.2f}%, After rescaling: {rst * 100:.2f}%\")"
   ]
  },
  {
   "cell_type": "code",
   "execution_count": null,
   "metadata": {},
   "outputs": [],
   "source": [
    "users_counties = users_loc.join(users_opinion)"
   ]
  },
  {
   "cell_type": "code",
   "execution_count": null,
   "metadata": {},
   "outputs": [],
   "source": [
    "users_counties"
   ]
  },
  {
   "cell_type": "markdown",
   "metadata": {},
   "source": [
    "## 更细致的county转换"
   ]
  },
  {
   "cell_type": "code",
   "execution_count": null,
   "metadata": {},
   "outputs": [],
   "source": [
    "CityCounty = pd.read_csv(\"data/Borror_CityCounty.csv\")"
   ]
  },
  {
   "cell_type": "code",
   "execution_count": null,
   "metadata": {},
   "outputs": [],
   "source": [
    "CityCounty"
   ]
  },
  {
   "cell_type": "code",
   "execution_count": null,
   "metadata": {},
   "outputs": [],
   "source": [
    "CityCounty.columns"
   ]
  },
  {
   "cell_type": "code",
   "execution_count": null,
   "metadata": {},
   "outputs": [],
   "source": []
  }
 ],
 "metadata": {
  "kernelspec": {
   "display_name": "Python 3",
   "language": "python",
   "name": "python3"
  },
  "language_info": {
   "codemirror_mode": {
    "name": "ipython",
    "version": 3
   },
   "file_extension": ".py",
   "mimetype": "text/x-python",
   "name": "python",
   "nbconvert_exporter": "python",
   "pygments_lexer": "ipython3",
   "version": "3.7.3"
  },
  "latex_envs": {
   "LaTeX_envs_menu_present": true,
   "autoclose": false,
   "autocomplete": true,
   "bibliofile": "biblio.bib",
   "cite_by": "apalike",
   "current_citInitial": 1,
   "eqLabelWithNumbers": true,
   "eqNumInitial": 1,
   "hotkeys": {
    "equation": "Ctrl-E",
    "itemize": "Ctrl-I"
   },
   "labels_anchors": false,
   "latex_user_defs": false,
   "report_style_numbering": false,
   "user_envs_cfg": false
  },
  "toc": {
   "base_numbering": 1,
   "nav_menu": {},
   "number_sections": true,
   "sideBar": true,
   "skip_h1_title": false,
   "title_cell": "Table of Contents",
   "title_sidebar": "Contents",
   "toc_cell": false,
   "toc_position": {},
   "toc_section_display": true,
   "toc_window_display": false
  }
 },
 "nbformat": 4,
 "nbformat_minor": 4
}
