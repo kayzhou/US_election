{
 "cells": [
  {
   "cell_type": "code",
   "execution_count": 2,
   "metadata": {
    "ExecuteTime": {
     "end_time": "2020-05-03T13:57:46.179424Z",
     "start_time": "2020-05-03T13:57:45.374755Z"
    }
   },
   "outputs": [],
   "source": [
    "from my_weapon import *\n",
    "from SQLite_handler import *\n",
    "from tqdm.notebook import tqdm as tqdm\n",
    "from collections import defaultdict\n",
    "plt.style.use('fivethirtyeight')\n",
    "\n",
    "USA_STATES = ['NY', 'DC', 'IN', 'AR', 'WY', 'ME', 'TX', 'NH', 'CO', 'CA', 'IL',\n",
    "             'WA', 'VA', 'FL', 'MA', 'OR', 'AZ', 'MT', 'MN', 'NE', 'TN', 'OH',\n",
    "             'NJ', 'NV', 'KY', 'UT', 'NC', 'SC', 'PA', 'NM', 'KS', 'GA', 'MI',\n",
    "             'WI', 'AK', 'MS', 'MD', 'LA', 'HI', 'MO', 'AL', 'CT', 'OK', 'IA',\n",
    "             'WV', 'RI', 'SD', 'VT', 'ND', 'ID', 'DE']"
   ]
  },
  {
   "cell_type": "markdown",
   "metadata": {},
   "source": [
    "# Rural and Urban"
   ]
  },
  {
   "cell_type": "code",
   "execution_count": 39,
   "metadata": {},
   "outputs": [],
   "source": [
    "rural_table = pd.read_csv(\"data/ruralurbancodes2013.csv\")\n",
    "rural_table[\"Population\"] = rural_table[\"Population_2010\"].apply(lambda x: int(x.replace(\",\", \"\")))\n",
    "rural_table[\"is_rural\"] = rural_table[\"RUCC_2013\"].apply(lambda x: 1 if x >= 3 else 0) # 分类，大于3以上是大城市\n",
    "# rural_table[rural_table.County_Name==\"Orleans Parish\"]\n",
    "\n",
    "# def county_to_rural(state_name, county_name):\n",
    "#     try:\n",
    "#         return rural_table[(rural_table[\"State\"]==state_name) & (rural_table[\"county\"]==county_name)][\"is_rural\"].iloc[0]\n",
    "#     except:\n",
    "#         return f\"cannot find the loc ({state_name}, {county_name})\"\n",
    "\n",
    "dict_state_county_is_rural = defaultdict(dict)\n",
    "\n",
    "for row in rural_table.itertuples():\n",
    "    State = getattr(row, \"State\")\n",
    "    county = getattr(row, \"County_Name\")\n",
    "    is_rural = getattr(row, \"is_rural\")\n",
    "    if county != \"District of Columbia\":\n",
    "        county = \" \".join(county.split()[: -1])\n",
    "    dict_state_county_is_rural[State][county] = is_rural\n",
    "    \n",
    "# print(dict_state_county_is_rural[\"LA\"])\n",
    "\n",
    "rural_population = rural_table.groupby([\"State\", \"is_rural\"]).sum()[\"Population\"]\n",
    "rural_count = dict(rural_population)"
   ]
  },
  {
   "cell_type": "code",
   "execution_count": 40,
   "metadata": {},
   "outputs": [
    {
     "output_type": "execute_result",
     "data": {
      "text/plain": [
       "       FIPS State          County_Name Population_2010  RUCC_2013  \\\n",
       "0      1001    AL       Autauga County          54,571          2   \n",
       "1      1003    AL       Baldwin County         182,265          3   \n",
       "2      1005    AL       Barbour County          27,457          6   \n",
       "3      1007    AL          Bibb County          22,915          1   \n",
       "4      1009    AL        Blount County          57,322          1   \n",
       "...     ...   ...                  ...             ...        ...   \n",
       "3216  72145    PR  Vega Baja Municipio          59,662          1   \n",
       "3217  72147    PR    Vieques Municipio           9,301          7   \n",
       "3218  72149    PR   Villalba Municipio          26,073          2   \n",
       "3219  72151    PR    Yabucoa Municipio          37,941          1   \n",
       "3220  72153    PR      Yauco Municipio          42,043          2   \n",
       "\n",
       "                                            Description  Population  is_rural  \n",
       "0     Metro - Counties in metro areas of 250,000 to ...       54571         0  \n",
       "1     Metro - Counties in metro areas of fewer than ...      182265         1  \n",
       "2     Nonmetro - Urban population of 2,500 to 19,999...       27457         1  \n",
       "3     Metro - Counties in metro areas of 1 million p...       22915         0  \n",
       "4     Metro - Counties in metro areas of 1 million p...       57322         0  \n",
       "...                                                 ...         ...       ...  \n",
       "3216  Metro - Counties in metro areas of 1 million p...       59662         0  \n",
       "3217  Nonmetro - Urban population of 2,500 to 19,999...        9301         1  \n",
       "3218  Metro - Counties in metro areas of 250,000 to ...       26073         0  \n",
       "3219  Metro - Counties in metro areas of 1 million p...       37941         0  \n",
       "3220  Metro - Counties in metro areas of 250,000 to ...       42043         0  \n",
       "\n",
       "[3221 rows x 8 columns]"
      ],
      "text/html": "<div>\n<style scoped>\n    .dataframe tbody tr th:only-of-type {\n        vertical-align: middle;\n    }\n\n    .dataframe tbody tr th {\n        vertical-align: top;\n    }\n\n    .dataframe thead th {\n        text-align: right;\n    }\n</style>\n<table border=\"1\" class=\"dataframe\">\n  <thead>\n    <tr style=\"text-align: right;\">\n      <th></th>\n      <th>FIPS</th>\n      <th>State</th>\n      <th>County_Name</th>\n      <th>Population_2010</th>\n      <th>RUCC_2013</th>\n      <th>Description</th>\n      <th>Population</th>\n      <th>is_rural</th>\n    </tr>\n  </thead>\n  <tbody>\n    <tr>\n      <th>0</th>\n      <td>1001</td>\n      <td>AL</td>\n      <td>Autauga County</td>\n      <td>54,571</td>\n      <td>2</td>\n      <td>Metro - Counties in metro areas of 250,000 to ...</td>\n      <td>54571</td>\n      <td>0</td>\n    </tr>\n    <tr>\n      <th>1</th>\n      <td>1003</td>\n      <td>AL</td>\n      <td>Baldwin County</td>\n      <td>182,265</td>\n      <td>3</td>\n      <td>Metro - Counties in metro areas of fewer than ...</td>\n      <td>182265</td>\n      <td>1</td>\n    </tr>\n    <tr>\n      <th>2</th>\n      <td>1005</td>\n      <td>AL</td>\n      <td>Barbour County</td>\n      <td>27,457</td>\n      <td>6</td>\n      <td>Nonmetro - Urban population of 2,500 to 19,999...</td>\n      <td>27457</td>\n      <td>1</td>\n    </tr>\n    <tr>\n      <th>3</th>\n      <td>1007</td>\n      <td>AL</td>\n      <td>Bibb County</td>\n      <td>22,915</td>\n      <td>1</td>\n      <td>Metro - Counties in metro areas of 1 million p...</td>\n      <td>22915</td>\n      <td>0</td>\n    </tr>\n    <tr>\n      <th>4</th>\n      <td>1009</td>\n      <td>AL</td>\n      <td>Blount County</td>\n      <td>57,322</td>\n      <td>1</td>\n      <td>Metro - Counties in metro areas of 1 million p...</td>\n      <td>57322</td>\n      <td>0</td>\n    </tr>\n    <tr>\n      <th>...</th>\n      <td>...</td>\n      <td>...</td>\n      <td>...</td>\n      <td>...</td>\n      <td>...</td>\n      <td>...</td>\n      <td>...</td>\n      <td>...</td>\n    </tr>\n    <tr>\n      <th>3216</th>\n      <td>72145</td>\n      <td>PR</td>\n      <td>Vega Baja Municipio</td>\n      <td>59,662</td>\n      <td>1</td>\n      <td>Metro - Counties in metro areas of 1 million p...</td>\n      <td>59662</td>\n      <td>0</td>\n    </tr>\n    <tr>\n      <th>3217</th>\n      <td>72147</td>\n      <td>PR</td>\n      <td>Vieques Municipio</td>\n      <td>9,301</td>\n      <td>7</td>\n      <td>Nonmetro - Urban population of 2,500 to 19,999...</td>\n      <td>9301</td>\n      <td>1</td>\n    </tr>\n    <tr>\n      <th>3218</th>\n      <td>72149</td>\n      <td>PR</td>\n      <td>Villalba Municipio</td>\n      <td>26,073</td>\n      <td>2</td>\n      <td>Metro - Counties in metro areas of 250,000 to ...</td>\n      <td>26073</td>\n      <td>0</td>\n    </tr>\n    <tr>\n      <th>3219</th>\n      <td>72151</td>\n      <td>PR</td>\n      <td>Yabucoa Municipio</td>\n      <td>37,941</td>\n      <td>1</td>\n      <td>Metro - Counties in metro areas of 1 million p...</td>\n      <td>37941</td>\n      <td>0</td>\n    </tr>\n    <tr>\n      <th>3220</th>\n      <td>72153</td>\n      <td>PR</td>\n      <td>Yauco Municipio</td>\n      <td>42,043</td>\n      <td>2</td>\n      <td>Metro - Counties in metro areas of 250,000 to ...</td>\n      <td>42043</td>\n      <td>0</td>\n    </tr>\n  </tbody>\n</table>\n<p>3221 rows × 8 columns</p>\n</div>"
     },
     "metadata": {},
     "execution_count": 40
    }
   ],
   "source": [
    "rural_table"
   ]
  },
  {
   "cell_type": "markdown",
   "metadata": {},
   "source": [
    "## Load the users' opinions and locations\n",
    "\n",
    "1. 累计预测模型结果（并没有细化到州）\n",
    "2. 识别到地理位置的用户的观点（也可以看看全局结果）\n",
    "3. 根据用户地理位置的经济状况，rescale后的结果"
   ]
  },
  {
   "cell_type": "code",
   "execution_count": 5,
   "metadata": {},
   "outputs": [
    {
     "data": {
      "application/vnd.jupyter.widget-view+json": {
       "model_id": "38c86984cbf245e5ac6073c16151e3f9",
       "version_major": 2,
       "version_minor": 0
      },
      "text/plain": [
       "HBox(children=(FloatProgress(value=1.0, bar_style='info', max=1.0), HTML(value='')))"
      ]
     },
     "metadata": {},
     "output_type": "display_data"
    },
    {
     "name": "stdout",
     "output_type": "stream",
     "text": [
      "\n"
     ]
    },
    {
     "data": {
      "text/html": [
       "<div>\n",
       "<style scoped>\n",
       "    .dataframe tbody tr th:only-of-type {\n",
       "        vertical-align: middle;\n",
       "    }\n",
       "\n",
       "    .dataframe tbody tr th {\n",
       "        vertical-align: top;\n",
       "    }\n",
       "\n",
       "    .dataframe thead th {\n",
       "        text-align: right;\n",
       "    }\n",
       "</style>\n",
       "<table border=\"1\" class=\"dataframe\">\n",
       "  <thead>\n",
       "    <tr style=\"text-align: right;\">\n",
       "      <th></th>\n",
       "      <th>Camp</th>\n",
       "    </tr>\n",
       "    <tr>\n",
       "      <th>uid</th>\n",
       "      <th></th>\n",
       "    </tr>\n",
       "  </thead>\n",
       "  <tbody>\n",
       "    <tr>\n",
       "      <th>314551800</th>\n",
       "      <td>T</td>\n",
       "    </tr>\n",
       "    <tr>\n",
       "      <th>1080662158415822849</th>\n",
       "      <td>B</td>\n",
       "    </tr>\n",
       "    <tr>\n",
       "      <th>3407179563</th>\n",
       "      <td>B</td>\n",
       "    </tr>\n",
       "    <tr>\n",
       "      <th>823998756655861760</th>\n",
       "      <td>B</td>\n",
       "    </tr>\n",
       "    <tr>\n",
       "      <th>79236840</th>\n",
       "      <td>T</td>\n",
       "    </tr>\n",
       "    <tr>\n",
       "      <th>...</th>\n",
       "      <td>...</td>\n",
       "    </tr>\n",
       "    <tr>\n",
       "      <th>14990801</th>\n",
       "      <td>T</td>\n",
       "    </tr>\n",
       "    <tr>\n",
       "      <th>4846877070</th>\n",
       "      <td>T</td>\n",
       "    </tr>\n",
       "    <tr>\n",
       "      <th>3182944844</th>\n",
       "      <td>T</td>\n",
       "    </tr>\n",
       "    <tr>\n",
       "      <th>757761224</th>\n",
       "      <td>B</td>\n",
       "    </tr>\n",
       "    <tr>\n",
       "      <th>15145869</th>\n",
       "      <td>T</td>\n",
       "    </tr>\n",
       "  </tbody>\n",
       "</table>\n",
       "<p>12988437 rows × 1 columns</p>\n",
       "</div>"
      ],
      "text/plain": [
       "                    Camp\n",
       "uid                     \n",
       "314551800              T\n",
       "1080662158415822849    B\n",
       "3407179563             B\n",
       "823998756655861760     B\n",
       "79236840               T\n",
       "...                  ...\n",
       "14990801               T\n",
       "4846877070             T\n",
       "3182944844             T\n",
       "757761224              B\n",
       "15145869               T\n",
       "\n",
       "[12988437 rows x 1 columns]"
      ]
     },
     "execution_count": 5,
     "metadata": {},
     "output_type": "execute_result"
    }
   ],
   "source": [
    "# 载入用户观点\n",
    "\n",
    "# load users' opinion\n",
    "# users_opinion = pd.read_csv(\"data/tweetid_userid_pro_hillary.csv\")\n",
    "import pendulum\n",
    "users_opinion = defaultdict(lambda: [0, 0])\n",
    "# set_users = set(users_loc.index)\n",
    "# start = pendulum.datetime(2016, 9, 1)\n",
    "\n",
    "# election date: 2016-11-8\n",
    "# for line in tqdm(open(\"data/tweetid_userid_pro_hillary.csv\")):\n",
    "#     w = line.strip().split(\",\")\n",
    "#     uid = int(w[0])\n",
    "#     if uid in set_users:\n",
    "#         if float(w[2]) < 0.5:\n",
    "#             users_opinion[uid][0] += 1\n",
    "#         else:\n",
    "#             users_opinion[uid][1] += 1\n",
    "\n",
    "users_opinion = []\n",
    "i = 0\n",
    "for line in tqdm(open(\"data/cul01-2020-07-01.csv\")):\n",
    "    w = line.strip().split(\",\")\n",
    "    i += 1\n",
    "    if i == 1:\n",
    "        continue\n",
    "    uid = str(w[0])\n",
    "    users_opinion.append({\n",
    "        \"uid\": uid,\n",
    "        \"Camp\": \"T\" if int(w[2]) > int(w[1]) else \"B\" \n",
    "    })\n",
    "users_opinion = pd.DataFrame(users_opinion).set_index(\"uid\")\n",
    "users_opinion"
   ]
  },
  {
   "cell_type": "code",
   "execution_count": 6,
   "metadata": {},
   "outputs": [
    {
     "data": {
      "text/plain": [
       "B    0.517661\n",
       "T    0.482339\n",
       "Name: Camp, dtype: float64"
      ]
     },
     "execution_count": 6,
     "metadata": {},
     "output_type": "execute_result"
    }
   ],
   "source": [
    "users_opinion[\"Camp\"].value_counts(normalize=True)"
   ]
  },
  {
   "cell_type": "code",
   "execution_count": 7,
   "metadata": {},
   "outputs": [
    {
     "data": {
      "text/html": [
       "<div>\n",
       "<style scoped>\n",
       "    .dataframe tbody tr th:only-of-type {\n",
       "        vertical-align: middle;\n",
       "    }\n",
       "\n",
       "    .dataframe tbody tr th {\n",
       "        vertical-align: top;\n",
       "    }\n",
       "\n",
       "    .dataframe thead th {\n",
       "        text-align: right;\n",
       "    }\n",
       "</style>\n",
       "<table border=\"1\" class=\"dataframe\">\n",
       "  <thead>\n",
       "    <tr style=\"text-align: right;\">\n",
       "      <th></th>\n",
       "      <th>county</th>\n",
       "      <th>state</th>\n",
       "    </tr>\n",
       "    <tr>\n",
       "      <th>uid</th>\n",
       "      <th></th>\n",
       "      <th></th>\n",
       "    </tr>\n",
       "  </thead>\n",
       "  <tbody>\n",
       "    <tr>\n",
       "      <th>140299630</th>\n",
       "      <td>Berkeley</td>\n",
       "      <td>CA</td>\n",
       "    </tr>\n",
       "    <tr>\n",
       "      <th>984471367176241152</th>\n",
       "      <td>Washington</td>\n",
       "      <td>DC</td>\n",
       "    </tr>\n",
       "    <tr>\n",
       "      <th>6497512</th>\n",
       "      <td>Hoboken</td>\n",
       "      <td>NJ</td>\n",
       "    </tr>\n",
       "    <tr>\n",
       "      <th>2808545932</th>\n",
       "      <td>Detroit</td>\n",
       "      <td>MI</td>\n",
       "    </tr>\n",
       "    <tr>\n",
       "      <th>357494668</th>\n",
       "      <td>Middletown</td>\n",
       "      <td>CT</td>\n",
       "    </tr>\n",
       "    <tr>\n",
       "      <th>...</th>\n",
       "      <td>...</td>\n",
       "      <td>...</td>\n",
       "    </tr>\n",
       "    <tr>\n",
       "      <th>1077379415867314176</th>\n",
       "      <td>Cedar Hill</td>\n",
       "      <td>TX</td>\n",
       "    </tr>\n",
       "    <tr>\n",
       "      <th>1084938692265820160</th>\n",
       "      <td>New York</td>\n",
       "      <td>NY</td>\n",
       "    </tr>\n",
       "    <tr>\n",
       "      <th>264400122</th>\n",
       "      <td>New York</td>\n",
       "      <td>NY</td>\n",
       "    </tr>\n",
       "    <tr>\n",
       "      <th>1177287474</th>\n",
       "      <td>Wareham</td>\n",
       "      <td>MA</td>\n",
       "    </tr>\n",
       "    <tr>\n",
       "      <th>16589559</th>\n",
       "      <td>New York</td>\n",
       "      <td>NY</td>\n",
       "    </tr>\n",
       "  </tbody>\n",
       "</table>\n",
       "<p>3072442 rows × 2 columns</p>\n",
       "</div>"
      ],
      "text/plain": [
       "                         county state\n",
       "uid                                  \n",
       "140299630              Berkeley    CA\n",
       "984471367176241152   Washington    DC\n",
       "6497512                 Hoboken    NJ\n",
       "2808545932              Detroit    MI\n",
       "357494668            Middletown    CT\n",
       "...                         ...   ...\n",
       "1077379415867314176  Cedar Hill    TX\n",
       "1084938692265820160    New York    NY\n",
       "264400122              New York    NY\n",
       "1177287474              Wareham    MA\n",
       "16589559               New York    NY\n",
       "\n",
       "[3072442 rows x 2 columns]"
      ]
     },
     "execution_count": 7,
     "metadata": {},
     "output_type": "execute_result"
    }
   ],
   "source": [
    "# 载入所有有地理位置信息的用户\n",
    "users_loc = pd.read_csv(\"data/202006-all-users.csv\", usecols=[\"uid\", \"state\", \"county\"],\n",
    "                        dtype={\"uid\": str, \"state\": str, \"county\": str},\n",
    "                        index_col=\"uid\")\n",
    "users_loc = users_loc.dropna()\n",
    "users_loc[\"county\"] = users_loc[\"county\"].apply(lambda x: \" \".join(x.split(\", \")[:-1]))\n",
    "users_loc"
   ]
  },
  {
   "cell_type": "markdown",
   "metadata": {},
   "source": [
    "3072442个用户拥有state和county信息。一定要有state数据，county可能不存在。\n",
    "\n",
    "这些人的观点呢？"
   ]
  },
  {
   "cell_type": "code",
   "execution_count": 8,
   "metadata": {},
   "outputs": [],
   "source": [
    "users_opinion_with_location = users_loc.join(users_opinion)"
   ]
  },
  {
   "cell_type": "code",
   "execution_count": 9,
   "metadata": {},
   "outputs": [
    {
     "data": {
      "text/html": [
       "<div>\n",
       "<style scoped>\n",
       "    .dataframe tbody tr th:only-of-type {\n",
       "        vertical-align: middle;\n",
       "    }\n",
       "\n",
       "    .dataframe tbody tr th {\n",
       "        vertical-align: top;\n",
       "    }\n",
       "\n",
       "    .dataframe thead th {\n",
       "        text-align: right;\n",
       "    }\n",
       "</style>\n",
       "<table border=\"1\" class=\"dataframe\">\n",
       "  <thead>\n",
       "    <tr style=\"text-align: right;\">\n",
       "      <th></th>\n",
       "      <th>county</th>\n",
       "      <th>state</th>\n",
       "      <th>Camp</th>\n",
       "    </tr>\n",
       "    <tr>\n",
       "      <th>uid</th>\n",
       "      <th></th>\n",
       "      <th></th>\n",
       "      <th></th>\n",
       "    </tr>\n",
       "  </thead>\n",
       "  <tbody>\n",
       "    <tr>\n",
       "      <th>1000000328765493248</th>\n",
       "      <td>Hell</td>\n",
       "      <td>MI</td>\n",
       "      <td>T</td>\n",
       "    </tr>\n",
       "    <tr>\n",
       "      <th>100000075</th>\n",
       "      <td>San Francisco</td>\n",
       "      <td>CA</td>\n",
       "      <td>T</td>\n",
       "    </tr>\n",
       "    <tr>\n",
       "      <th>1000001371</th>\n",
       "      <td>New York</td>\n",
       "      <td>NY</td>\n",
       "      <td>B</td>\n",
       "    </tr>\n",
       "    <tr>\n",
       "      <th>1000001731</th>\n",
       "      <td>Los Angeles</td>\n",
       "      <td>CA</td>\n",
       "      <td>B</td>\n",
       "    </tr>\n",
       "    <tr>\n",
       "      <th>1000002740557373441</th>\n",
       "      <td>Mount Pleasant</td>\n",
       "      <td>SC</td>\n",
       "      <td>T</td>\n",
       "    </tr>\n",
       "    <tr>\n",
       "      <th>...</th>\n",
       "      <td>...</td>\n",
       "      <td>...</td>\n",
       "      <td>...</td>\n",
       "    </tr>\n",
       "    <tr>\n",
       "      <th>uid</th>\n",
       "      <td></td>\n",
       "      <td>state</td>\n",
       "      <td>NaN</td>\n",
       "    </tr>\n",
       "    <tr>\n",
       "      <th>uid</th>\n",
       "      <td></td>\n",
       "      <td>state</td>\n",
       "      <td>NaN</td>\n",
       "    </tr>\n",
       "    <tr>\n",
       "      <th>uid</th>\n",
       "      <td></td>\n",
       "      <td>state</td>\n",
       "      <td>NaN</td>\n",
       "    </tr>\n",
       "    <tr>\n",
       "      <th>uid</th>\n",
       "      <td></td>\n",
       "      <td>state</td>\n",
       "      <td>NaN</td>\n",
       "    </tr>\n",
       "    <tr>\n",
       "      <th>uid</th>\n",
       "      <td></td>\n",
       "      <td>state</td>\n",
       "      <td>NaN</td>\n",
       "    </tr>\n",
       "  </tbody>\n",
       "</table>\n",
       "<p>3072442 rows × 3 columns</p>\n",
       "</div>"
      ],
      "text/plain": [
       "                             county  state Camp\n",
       "uid                                            \n",
       "1000000328765493248            Hell     MI    T\n",
       "100000075             San Francisco     CA    T\n",
       "1000001371                 New York     NY    B\n",
       "1000001731              Los Angeles     CA    B\n",
       "1000002740557373441  Mount Pleasant     SC    T\n",
       "...                             ...    ...  ...\n",
       "uid                                  state  NaN\n",
       "uid                                  state  NaN\n",
       "uid                                  state  NaN\n",
       "uid                                  state  NaN\n",
       "uid                                  state  NaN\n",
       "\n",
       "[3072442 rows x 3 columns]"
      ]
     },
     "execution_count": 9,
     "metadata": {},
     "output_type": "execute_result"
    }
   ],
   "source": [
    "users_opinion_with_location"
   ]
  },
  {
   "cell_type": "code",
   "execution_count": 12,
   "metadata": {},
   "outputs": [
    {
     "data": {
      "text/plain": [
       "B    1913099\n",
       "T    1133785\n",
       "Name: Camp, dtype: int64"
      ]
     },
     "execution_count": 12,
     "metadata": {},
     "output_type": "execute_result"
    }
   ],
   "source": [
    "users_opinion_with_location[\"Camp\"].value_counts()"
   ]
  },
  {
   "cell_type": "code",
   "execution_count": 13,
   "metadata": {},
   "outputs": [
    {
     "data": {
      "text/plain": [
       "B    0.627887\n",
       "T    0.372113\n",
       "Name: Camp, dtype: float64"
      ]
     },
     "execution_count": 13,
     "metadata": {},
     "output_type": "execute_result"
    }
   ],
   "source": [
    "users_opinion_with_location[\"Camp\"].value_counts(normalize=True)"
   ]
  },
  {
   "cell_type": "code",
   "execution_count": 14,
   "metadata": {},
   "outputs": [],
   "source": [
    "# Since we only know the name of city, but the county. We need convert the city to county.\n",
    "# check some mapping from http://www.statsamerica.org/CityCountyFinder/Default.aspx\n",
    "\n",
    "# 需要更加详细的转换\n",
    "_dict_city_to_county = {\n",
    "    'Chicago, IL': 'Cook',\n",
    "    'Washington, DC': 'District of Columbia',\n",
    "    'Atlanta, GA': 'Fulton',\n",
    "    'Boston, MA': 'Suffolk',\n",
    "    'Seattle, WA': 'King',\n",
    "    'Brooklyn, NY': 'New York',\n",
    "    'Miami, FL': 'Miami-Dade',\n",
    "    'Las Vegas, NV': 'Clark',\n",
    "    'Portland, OR': 'Multnomah',\n",
    "    'Pittsburgh, PA': 'Allegheny',\n",
    "    'San Antonio, TX': 'Bexar',\n",
    "    'Nashville, TN': 'Davidson',\n",
    "    'Orlando, FL': 'Orange',\n",
    "    'Phoenix, AZ': 'Maricopa',\n",
    "    'Indianapolis, IN': 'Marion',\n",
    "    'Columbus, OH': 'Franklin',\n",
    "    'Minneapolis, MN': 'Hennepin',\n",
    "    'St Louis, MO': 'St. Louis',\n",
    "    'Charlotte, NC': 'Mecklenburg',\n",
    "    'Cleveland, OH': 'Cuyahoga',\n",
    "    'Detroit, MI': 'Wayne',\n",
    "    'Tampa, FL': 'Hillsborough',\n",
    "    'New Orleans, LA': 'Orleans',\n",
    "    'Kansas City, MO': 'Jackson',\n",
    "    'Cincinnati, OH': 'Hamilton'\n",
    "}\n",
    "    \n",
    "def city_to_county(state_name, city_name):\n",
    "    return _dict_city_to_county.get(f\"{city_name}, {state_name}\", city_name)"
   ]
  },
  {
   "cell_type": "code",
   "execution_count": 15,
   "metadata": {
    "tags": []
   },
   "outputs": [
    {
     "data": {
      "application/vnd.jupyter.widget-view+json": {
       "model_id": "90395b29420b4f0caf3300435ffe17ac",
       "version_major": 2,
       "version_minor": 0
      },
      "text/plain": [
       "HBox(children=(FloatProgress(value=0.0, max=51.0), HTML(value='')))"
      ]
     },
     "metadata": {},
     "output_type": "display_data"
    },
    {
     "name": "stdout",
     "output_type": "stream",
     "text": [
      "\n"
     ]
    }
   ],
   "source": [
    "from collections import Counter\n",
    "\n",
    "find_county = Counter()\n",
    "cannot_find_county = Counter()\n",
    "\n",
    "for _state in tqdm(USA_STATES):\n",
    "    _users = users_loc[users_loc.state==_state].copy()\n",
    "    _users[\"county\"] = _users[\"county\"].apply(lambda x: city_to_county(_state, x))\n",
    "    _users[\"is_rural\"] = _users[\"county\"].apply(lambda x: dict_state_county_is_rural[_state].get(x, -1))\n",
    "    _users.to_csv(f\"data/is_rural/{_state}.csv\")\n",
    "\n",
    "#     for row in _users.itertuples():\n",
    "#         county = getattr(row, \"county\")\n",
    "#         is_rural = getattr(row, \"is_rural\")\n",
    "#         if is_rural == -1:\n",
    "#             cannot_find_county[f\"{county}, {_state}\"] += 1\n",
    "#         else:\n",
    "#             find_county[f\"{county}, {_state}\"] += 1\n",
    "    \n",
    "    \n",
    "# -1 represents that we cannot map the city (from BingMap) to county\n",
    "# So we need more infomation between city and county"
   ]
  },
  {
   "cell_type": "code",
   "execution_count": 16,
   "metadata": {},
   "outputs": [
    {
     "name": "stdout",
     "output_type": "stream",
     "text": [
      "0\n",
      "[]\n"
     ]
    },
    {
     "data": {
      "text/plain": [
       "[]"
      ]
     },
     "execution_count": 16,
     "metadata": {},
     "output_type": "execute_result"
    }
   ],
   "source": [
    "print(len(cannot_find_county))\n",
    "print(cannot_find_county.most_common(10))\n",
    "find_county.most_common(10)"
   ]
  },
  {
   "cell_type": "markdown",
   "metadata": {},
   "source": [
    "从1月~6月，共12988437个用户"
   ]
  },
  {
   "cell_type": "code",
   "execution_count": 17,
   "metadata": {
    "tags": []
   },
   "outputs": [
    {
     "data": {
      "application/vnd.jupyter.widget-view+json": {
       "model_id": "664daccc642d46c39e431c2cc7946dc3",
       "version_major": 2,
       "version_minor": 0
      },
      "text/plain": [
       "HBox(children=(FloatProgress(value=0.0, max=51.0), HTML(value='')))"
      ]
     },
     "metadata": {},
     "output_type": "display_data"
    },
    {
     "ename": "KeyboardInterrupt",
     "evalue": "",
     "output_type": "error",
     "traceback": [
      "\u001b[1;31m---------------------------------------------------------------------------\u001b[0m",
      "\u001b[1;31mKeyboardInterrupt\u001b[0m                         Traceback (most recent call last)",
      "\u001b[1;32m<ipython-input-17-965fcdd239d6>\u001b[0m in \u001b[0;36m<module>\u001b[1;34m\u001b[0m\n\u001b[0;32m      1\u001b[0m \u001b[1;32mfor\u001b[0m \u001b[0m_state\u001b[0m \u001b[1;32min\u001b[0m \u001b[0mtqdm\u001b[0m\u001b[1;33m(\u001b[0m\u001b[0mUSA_STATES\u001b[0m\u001b[1;33m)\u001b[0m\u001b[1;33m:\u001b[0m\u001b[1;33m\u001b[0m\u001b[1;33m\u001b[0m\u001b[0m\n\u001b[0;32m      2\u001b[0m     \u001b[0musers_county\u001b[0m \u001b[1;33m=\u001b[0m \u001b[0mpd\u001b[0m\u001b[1;33m.\u001b[0m\u001b[0mread_csv\u001b[0m\u001b[1;33m(\u001b[0m\u001b[1;34m\"data/is_rural/\"\u001b[0m \u001b[1;33m+\u001b[0m \u001b[0m_state\u001b[0m \u001b[1;33m+\u001b[0m \u001b[1;34m\".csv\"\u001b[0m\u001b[1;33m,\u001b[0m \u001b[0mindex_col\u001b[0m\u001b[1;33m=\u001b[0m\u001b[1;34m\"uid\"\u001b[0m\u001b[1;33m)\u001b[0m\u001b[1;33m\u001b[0m\u001b[1;33m\u001b[0m\u001b[0m\n\u001b[1;32m----> 3\u001b[1;33m     \u001b[0musers_county\u001b[0m \u001b[1;33m=\u001b[0m \u001b[0musers_county\u001b[0m\u001b[1;33m.\u001b[0m\u001b[0mjoin\u001b[0m\u001b[1;33m(\u001b[0m\u001b[0musers_opinion\u001b[0m\u001b[1;33m)\u001b[0m\u001b[1;33m\u001b[0m\u001b[1;33m\u001b[0m\u001b[0m\n\u001b[0m\u001b[0;32m      4\u001b[0m     \u001b[0mgroups\u001b[0m \u001b[1;33m=\u001b[0m \u001b[0mdict\u001b[0m\u001b[1;33m(\u001b[0m\u001b[0musers_county\u001b[0m\u001b[1;33m.\u001b[0m\u001b[0mgroupby\u001b[0m\u001b[1;33m(\u001b[0m\u001b[1;33m[\u001b[0m\u001b[1;34m\"is_rural\"\u001b[0m\u001b[1;33m,\u001b[0m \u001b[1;34m\"Camp\"\u001b[0m\u001b[1;33m]\u001b[0m\u001b[1;33m)\u001b[0m\u001b[1;33m.\u001b[0m\u001b[0msize\u001b[0m\u001b[1;33m(\u001b[0m\u001b[1;33m)\u001b[0m\u001b[1;33m)\u001b[0m\u001b[1;33m\u001b[0m\u001b[1;33m\u001b[0m\u001b[0m\n\u001b[0;32m      5\u001b[0m     \u001b[1;31m# print(_state, groups)\u001b[0m\u001b[1;33m\u001b[0m\u001b[1;33m\u001b[0m\u001b[1;33m\u001b[0m\u001b[0m\n",
      "\u001b[1;32mC:\\ProgramData\\Anaconda3\\lib\\site-packages\\pandas\\core\\frame.py\u001b[0m in \u001b[0;36mjoin\u001b[1;34m(self, other, on, how, lsuffix, rsuffix, sort)\u001b[0m\n\u001b[0;32m   7207\u001b[0m         \"\"\"\n\u001b[0;32m   7208\u001b[0m         return self._join_compat(\n\u001b[1;32m-> 7209\u001b[1;33m             \u001b[0mother\u001b[0m\u001b[1;33m,\u001b[0m \u001b[0mon\u001b[0m\u001b[1;33m=\u001b[0m\u001b[0mon\u001b[0m\u001b[1;33m,\u001b[0m \u001b[0mhow\u001b[0m\u001b[1;33m=\u001b[0m\u001b[0mhow\u001b[0m\u001b[1;33m,\u001b[0m \u001b[0mlsuffix\u001b[0m\u001b[1;33m=\u001b[0m\u001b[0mlsuffix\u001b[0m\u001b[1;33m,\u001b[0m \u001b[0mrsuffix\u001b[0m\u001b[1;33m=\u001b[0m\u001b[0mrsuffix\u001b[0m\u001b[1;33m,\u001b[0m \u001b[0msort\u001b[0m\u001b[1;33m=\u001b[0m\u001b[0msort\u001b[0m\u001b[1;33m\u001b[0m\u001b[1;33m\u001b[0m\u001b[0m\n\u001b[0m\u001b[0;32m   7210\u001b[0m         )\n\u001b[0;32m   7211\u001b[0m \u001b[1;33m\u001b[0m\u001b[0m\n",
      "\u001b[1;32mC:\\ProgramData\\Anaconda3\\lib\\site-packages\\pandas\\core\\frame.py\u001b[0m in \u001b[0;36m_join_compat\u001b[1;34m(self, other, on, how, lsuffix, rsuffix, sort)\u001b[0m\n\u001b[0;32m   7230\u001b[0m                 \u001b[0mright_index\u001b[0m\u001b[1;33m=\u001b[0m\u001b[1;32mTrue\u001b[0m\u001b[1;33m,\u001b[0m\u001b[1;33m\u001b[0m\u001b[1;33m\u001b[0m\u001b[0m\n\u001b[0;32m   7231\u001b[0m                 \u001b[0msuffixes\u001b[0m\u001b[1;33m=\u001b[0m\u001b[1;33m(\u001b[0m\u001b[0mlsuffix\u001b[0m\u001b[1;33m,\u001b[0m \u001b[0mrsuffix\u001b[0m\u001b[1;33m)\u001b[0m\u001b[1;33m,\u001b[0m\u001b[1;33m\u001b[0m\u001b[1;33m\u001b[0m\u001b[0m\n\u001b[1;32m-> 7232\u001b[1;33m                 \u001b[0msort\u001b[0m\u001b[1;33m=\u001b[0m\u001b[0msort\u001b[0m\u001b[1;33m,\u001b[0m\u001b[1;33m\u001b[0m\u001b[1;33m\u001b[0m\u001b[0m\n\u001b[0m\u001b[0;32m   7233\u001b[0m             )\n\u001b[0;32m   7234\u001b[0m         \u001b[1;32melse\u001b[0m\u001b[1;33m:\u001b[0m\u001b[1;33m\u001b[0m\u001b[1;33m\u001b[0m\u001b[0m\n",
      "\u001b[1;32mC:\\ProgramData\\Anaconda3\\lib\\site-packages\\pandas\\core\\reshape\\merge.py\u001b[0m in \u001b[0;36mmerge\u001b[1;34m(left, right, how, on, left_on, right_on, left_index, right_index, sort, suffixes, copy, indicator, validate)\u001b[0m\n\u001b[0;32m     86\u001b[0m         \u001b[0mvalidate\u001b[0m\u001b[1;33m=\u001b[0m\u001b[0mvalidate\u001b[0m\u001b[1;33m,\u001b[0m\u001b[1;33m\u001b[0m\u001b[1;33m\u001b[0m\u001b[0m\n\u001b[0;32m     87\u001b[0m     )\n\u001b[1;32m---> 88\u001b[1;33m     \u001b[1;32mreturn\u001b[0m \u001b[0mop\u001b[0m\u001b[1;33m.\u001b[0m\u001b[0mget_result\u001b[0m\u001b[1;33m(\u001b[0m\u001b[1;33m)\u001b[0m\u001b[1;33m\u001b[0m\u001b[1;33m\u001b[0m\u001b[0m\n\u001b[0m\u001b[0;32m     89\u001b[0m \u001b[1;33m\u001b[0m\u001b[0m\n\u001b[0;32m     90\u001b[0m \u001b[1;33m\u001b[0m\u001b[0m\n",
      "\u001b[1;32mC:\\ProgramData\\Anaconda3\\lib\\site-packages\\pandas\\core\\reshape\\merge.py\u001b[0m in \u001b[0;36mget_result\u001b[1;34m(self)\u001b[0m\n\u001b[0;32m    641\u001b[0m             \u001b[0mself\u001b[0m\u001b[1;33m.\u001b[0m\u001b[0mleft\u001b[0m\u001b[1;33m,\u001b[0m \u001b[0mself\u001b[0m\u001b[1;33m.\u001b[0m\u001b[0mright\u001b[0m \u001b[1;33m=\u001b[0m \u001b[0mself\u001b[0m\u001b[1;33m.\u001b[0m\u001b[0m_indicator_pre_merge\u001b[0m\u001b[1;33m(\u001b[0m\u001b[0mself\u001b[0m\u001b[1;33m.\u001b[0m\u001b[0mleft\u001b[0m\u001b[1;33m,\u001b[0m \u001b[0mself\u001b[0m\u001b[1;33m.\u001b[0m\u001b[0mright\u001b[0m\u001b[1;33m)\u001b[0m\u001b[1;33m\u001b[0m\u001b[1;33m\u001b[0m\u001b[0m\n\u001b[0;32m    642\u001b[0m \u001b[1;33m\u001b[0m\u001b[0m\n\u001b[1;32m--> 643\u001b[1;33m         \u001b[0mjoin_index\u001b[0m\u001b[1;33m,\u001b[0m \u001b[0mleft_indexer\u001b[0m\u001b[1;33m,\u001b[0m \u001b[0mright_indexer\u001b[0m \u001b[1;33m=\u001b[0m \u001b[0mself\u001b[0m\u001b[1;33m.\u001b[0m\u001b[0m_get_join_info\u001b[0m\u001b[1;33m(\u001b[0m\u001b[1;33m)\u001b[0m\u001b[1;33m\u001b[0m\u001b[1;33m\u001b[0m\u001b[0m\n\u001b[0m\u001b[0;32m    644\u001b[0m \u001b[1;33m\u001b[0m\u001b[0m\n\u001b[0;32m    645\u001b[0m         \u001b[0mldata\u001b[0m\u001b[1;33m,\u001b[0m \u001b[0mrdata\u001b[0m \u001b[1;33m=\u001b[0m \u001b[0mself\u001b[0m\u001b[1;33m.\u001b[0m\u001b[0mleft\u001b[0m\u001b[1;33m.\u001b[0m\u001b[0m_data\u001b[0m\u001b[1;33m,\u001b[0m \u001b[0mself\u001b[0m\u001b[1;33m.\u001b[0m\u001b[0mright\u001b[0m\u001b[1;33m.\u001b[0m\u001b[0m_data\u001b[0m\u001b[1;33m\u001b[0m\u001b[1;33m\u001b[0m\u001b[0m\n",
      "\u001b[1;32mC:\\ProgramData\\Anaconda3\\lib\\site-packages\\pandas\\core\\reshape\\merge.py\u001b[0m in \u001b[0;36m_get_join_info\u001b[1;34m(self)\u001b[0m\n\u001b[0;32m    848\u001b[0m         \u001b[1;32mif\u001b[0m \u001b[0mself\u001b[0m\u001b[1;33m.\u001b[0m\u001b[0mleft_index\u001b[0m \u001b[1;32mand\u001b[0m \u001b[0mself\u001b[0m\u001b[1;33m.\u001b[0m\u001b[0mright_index\u001b[0m \u001b[1;32mand\u001b[0m \u001b[0mself\u001b[0m\u001b[1;33m.\u001b[0m\u001b[0mhow\u001b[0m \u001b[1;33m!=\u001b[0m \u001b[1;34m\"asof\"\u001b[0m\u001b[1;33m:\u001b[0m\u001b[1;33m\u001b[0m\u001b[1;33m\u001b[0m\u001b[0m\n\u001b[0;32m    849\u001b[0m             join_index, left_indexer, right_indexer = left_ax.join(\n\u001b[1;32m--> 850\u001b[1;33m                 \u001b[0mright_ax\u001b[0m\u001b[1;33m,\u001b[0m \u001b[0mhow\u001b[0m\u001b[1;33m=\u001b[0m\u001b[0mself\u001b[0m\u001b[1;33m.\u001b[0m\u001b[0mhow\u001b[0m\u001b[1;33m,\u001b[0m \u001b[0mreturn_indexers\u001b[0m\u001b[1;33m=\u001b[0m\u001b[1;32mTrue\u001b[0m\u001b[1;33m,\u001b[0m \u001b[0msort\u001b[0m\u001b[1;33m=\u001b[0m\u001b[0mself\u001b[0m\u001b[1;33m.\u001b[0m\u001b[0msort\u001b[0m\u001b[1;33m\u001b[0m\u001b[1;33m\u001b[0m\u001b[0m\n\u001b[0m\u001b[0;32m    851\u001b[0m             )\n\u001b[0;32m    852\u001b[0m         \u001b[1;32melif\u001b[0m \u001b[0mself\u001b[0m\u001b[1;33m.\u001b[0m\u001b[0mright_index\u001b[0m \u001b[1;32mand\u001b[0m \u001b[0mself\u001b[0m\u001b[1;33m.\u001b[0m\u001b[0mhow\u001b[0m \u001b[1;33m==\u001b[0m \u001b[1;34m\"left\"\u001b[0m\u001b[1;33m:\u001b[0m\u001b[1;33m\u001b[0m\u001b[1;33m\u001b[0m\u001b[0m\n",
      "\u001b[1;32mC:\\ProgramData\\Anaconda3\\lib\\site-packages\\pandas\\core\\indexes\\base.py\u001b[0m in \u001b[0;36mjoin\u001b[1;34m(self, other, how, level, return_indexers, sort)\u001b[0m\n\u001b[0;32m   3294\u001b[0m             \u001b[0mthis\u001b[0m \u001b[1;33m=\u001b[0m \u001b[0mself\u001b[0m\u001b[1;33m.\u001b[0m\u001b[0mastype\u001b[0m\u001b[1;33m(\u001b[0m\u001b[1;34m\"O\"\u001b[0m\u001b[1;33m)\u001b[0m\u001b[1;33m\u001b[0m\u001b[1;33m\u001b[0m\u001b[0m\n\u001b[0;32m   3295\u001b[0m             \u001b[0mother\u001b[0m \u001b[1;33m=\u001b[0m \u001b[0mother\u001b[0m\u001b[1;33m.\u001b[0m\u001b[0mastype\u001b[0m\u001b[1;33m(\u001b[0m\u001b[1;34m\"O\"\u001b[0m\u001b[1;33m)\u001b[0m\u001b[1;33m\u001b[0m\u001b[1;33m\u001b[0m\u001b[0m\n\u001b[1;32m-> 3296\u001b[1;33m             \u001b[1;32mreturn\u001b[0m \u001b[0mthis\u001b[0m\u001b[1;33m.\u001b[0m\u001b[0mjoin\u001b[0m\u001b[1;33m(\u001b[0m\u001b[0mother\u001b[0m\u001b[1;33m,\u001b[0m \u001b[0mhow\u001b[0m\u001b[1;33m=\u001b[0m\u001b[0mhow\u001b[0m\u001b[1;33m,\u001b[0m \u001b[0mreturn_indexers\u001b[0m\u001b[1;33m=\u001b[0m\u001b[0mreturn_indexers\u001b[0m\u001b[1;33m)\u001b[0m\u001b[1;33m\u001b[0m\u001b[1;33m\u001b[0m\u001b[0m\n\u001b[0m\u001b[0;32m   3297\u001b[0m \u001b[1;33m\u001b[0m\u001b[0m\n\u001b[0;32m   3298\u001b[0m         \u001b[0m_validate_join_method\u001b[0m\u001b[1;33m(\u001b[0m\u001b[0mhow\u001b[0m\u001b[1;33m)\u001b[0m\u001b[1;33m\u001b[0m\u001b[1;33m\u001b[0m\u001b[0m\n",
      "\u001b[1;32mC:\\ProgramData\\Anaconda3\\lib\\site-packages\\pandas\\core\\indexes\\base.py\u001b[0m in \u001b[0;36mjoin\u001b[1;34m(self, other, how, level, return_indexers, sort)\u001b[0m\n\u001b[0;32m   3309\u001b[0m             \u001b[1;32melse\u001b[0m\u001b[1;33m:\u001b[0m\u001b[1;33m\u001b[0m\u001b[1;33m\u001b[0m\u001b[0m\n\u001b[0;32m   3310\u001b[0m                 return self._join_non_unique(\n\u001b[1;32m-> 3311\u001b[1;33m                     \u001b[0mother\u001b[0m\u001b[1;33m,\u001b[0m \u001b[0mhow\u001b[0m\u001b[1;33m=\u001b[0m\u001b[0mhow\u001b[0m\u001b[1;33m,\u001b[0m \u001b[0mreturn_indexers\u001b[0m\u001b[1;33m=\u001b[0m\u001b[0mreturn_indexers\u001b[0m\u001b[1;33m\u001b[0m\u001b[1;33m\u001b[0m\u001b[0m\n\u001b[0m\u001b[0;32m   3312\u001b[0m                 )\n\u001b[0;32m   3313\u001b[0m         \u001b[1;32melif\u001b[0m \u001b[0mself\u001b[0m\u001b[1;33m.\u001b[0m\u001b[0mis_monotonic\u001b[0m \u001b[1;32mand\u001b[0m \u001b[0mother\u001b[0m\u001b[1;33m.\u001b[0m\u001b[0mis_monotonic\u001b[0m\u001b[1;33m:\u001b[0m\u001b[1;33m\u001b[0m\u001b[1;33m\u001b[0m\u001b[0m\n",
      "\u001b[1;32mC:\\ProgramData\\Anaconda3\\lib\\site-packages\\pandas\\core\\indexes\\base.py\u001b[0m in \u001b[0;36m_join_non_unique\u001b[1;34m(self, other, how, return_indexers)\u001b[0m\n\u001b[0;32m   3427\u001b[0m \u001b[1;33m\u001b[0m\u001b[0m\n\u001b[0;32m   3428\u001b[0m         left_idx, right_idx = _get_join_indexers(\n\u001b[1;32m-> 3429\u001b[1;33m             \u001b[1;33m[\u001b[0m\u001b[0mself\u001b[0m\u001b[1;33m.\u001b[0m\u001b[0m_ndarray_values\u001b[0m\u001b[1;33m]\u001b[0m\u001b[1;33m,\u001b[0m \u001b[1;33m[\u001b[0m\u001b[0mother\u001b[0m\u001b[1;33m.\u001b[0m\u001b[0m_ndarray_values\u001b[0m\u001b[1;33m]\u001b[0m\u001b[1;33m,\u001b[0m \u001b[0mhow\u001b[0m\u001b[1;33m=\u001b[0m\u001b[0mhow\u001b[0m\u001b[1;33m,\u001b[0m \u001b[0msort\u001b[0m\u001b[1;33m=\u001b[0m\u001b[1;32mTrue\u001b[0m\u001b[1;33m\u001b[0m\u001b[1;33m\u001b[0m\u001b[0m\n\u001b[0m\u001b[0;32m   3430\u001b[0m         )\n\u001b[0;32m   3431\u001b[0m \u001b[1;33m\u001b[0m\u001b[0m\n",
      "\u001b[1;32mC:\\ProgramData\\Anaconda3\\lib\\site-packages\\pandas\\core\\reshape\\merge.py\u001b[0m in \u001b[0;36m_get_join_indexers\u001b[1;34m(left_keys, right_keys, sort, how, **kwargs)\u001b[0m\n\u001b[0;32m   1318\u001b[0m     \u001b[1;31m# `count` is the num. of unique keys\u001b[0m\u001b[1;33m\u001b[0m\u001b[1;33m\u001b[0m\u001b[1;33m\u001b[0m\u001b[0m\n\u001b[0;32m   1319\u001b[0m     \u001b[1;31m# set(lkey) | set(rkey) == range(count)\u001b[0m\u001b[1;33m\u001b[0m\u001b[1;33m\u001b[0m\u001b[1;33m\u001b[0m\u001b[0m\n\u001b[1;32m-> 1320\u001b[1;33m     \u001b[0mlkey\u001b[0m\u001b[1;33m,\u001b[0m \u001b[0mrkey\u001b[0m\u001b[1;33m,\u001b[0m \u001b[0mcount\u001b[0m \u001b[1;33m=\u001b[0m \u001b[0m_factorize_keys\u001b[0m\u001b[1;33m(\u001b[0m\u001b[0mlkey\u001b[0m\u001b[1;33m,\u001b[0m \u001b[0mrkey\u001b[0m\u001b[1;33m,\u001b[0m \u001b[0msort\u001b[0m\u001b[1;33m=\u001b[0m\u001b[0msort\u001b[0m\u001b[1;33m)\u001b[0m\u001b[1;33m\u001b[0m\u001b[1;33m\u001b[0m\u001b[0m\n\u001b[0m\u001b[0;32m   1321\u001b[0m \u001b[1;33m\u001b[0m\u001b[0m\n\u001b[0;32m   1322\u001b[0m     \u001b[1;31m# preserve left frame order if how == 'left' and sort == False\u001b[0m\u001b[1;33m\u001b[0m\u001b[1;33m\u001b[0m\u001b[1;33m\u001b[0m\u001b[0m\n",
      "\u001b[1;32mC:\\ProgramData\\Anaconda3\\lib\\site-packages\\pandas\\core\\reshape\\merge.py\u001b[0m in \u001b[0;36m_factorize_keys\u001b[1;34m(lk, rk, sort)\u001b[0m\n\u001b[0;32m   1922\u001b[0m     \u001b[1;32mif\u001b[0m \u001b[0msort\u001b[0m\u001b[1;33m:\u001b[0m\u001b[1;33m\u001b[0m\u001b[1;33m\u001b[0m\u001b[0m\n\u001b[0;32m   1923\u001b[0m         \u001b[0muniques\u001b[0m \u001b[1;33m=\u001b[0m \u001b[0mrizer\u001b[0m\u001b[1;33m.\u001b[0m\u001b[0muniques\u001b[0m\u001b[1;33m.\u001b[0m\u001b[0mto_array\u001b[0m\u001b[1;33m(\u001b[0m\u001b[1;33m)\u001b[0m\u001b[1;33m\u001b[0m\u001b[1;33m\u001b[0m\u001b[0m\n\u001b[1;32m-> 1924\u001b[1;33m         \u001b[0mllab\u001b[0m\u001b[1;33m,\u001b[0m \u001b[0mrlab\u001b[0m \u001b[1;33m=\u001b[0m \u001b[0m_sort_labels\u001b[0m\u001b[1;33m(\u001b[0m\u001b[0muniques\u001b[0m\u001b[1;33m,\u001b[0m \u001b[0mllab\u001b[0m\u001b[1;33m,\u001b[0m \u001b[0mrlab\u001b[0m\u001b[1;33m)\u001b[0m\u001b[1;33m\u001b[0m\u001b[1;33m\u001b[0m\u001b[0m\n\u001b[0m\u001b[0;32m   1925\u001b[0m \u001b[1;33m\u001b[0m\u001b[0m\n\u001b[0;32m   1926\u001b[0m     \u001b[1;31m# NA group\u001b[0m\u001b[1;33m\u001b[0m\u001b[1;33m\u001b[0m\u001b[1;33m\u001b[0m\u001b[0m\n",
      "\u001b[1;32mC:\\ProgramData\\Anaconda3\\lib\\site-packages\\pandas\\core\\reshape\\merge.py\u001b[0m in \u001b[0;36m_sort_labels\u001b[1;34m(uniques, left, right)\u001b[0m\n\u001b[0;32m   1948\u001b[0m     \u001b[0mlabels\u001b[0m \u001b[1;33m=\u001b[0m \u001b[0mnp\u001b[0m\u001b[1;33m.\u001b[0m\u001b[0mconcatenate\u001b[0m\u001b[1;33m(\u001b[0m\u001b[1;33m[\u001b[0m\u001b[0mleft\u001b[0m\u001b[1;33m,\u001b[0m \u001b[0mright\u001b[0m\u001b[1;33m]\u001b[0m\u001b[1;33m)\u001b[0m\u001b[1;33m\u001b[0m\u001b[1;33m\u001b[0m\u001b[0m\n\u001b[0;32m   1949\u001b[0m \u001b[1;33m\u001b[0m\u001b[0m\n\u001b[1;32m-> 1950\u001b[1;33m     \u001b[0m_\u001b[0m\u001b[1;33m,\u001b[0m \u001b[0mnew_labels\u001b[0m \u001b[1;33m=\u001b[0m \u001b[0malgos\u001b[0m\u001b[1;33m.\u001b[0m\u001b[0msafe_sort\u001b[0m\u001b[1;33m(\u001b[0m\u001b[0muniques\u001b[0m\u001b[1;33m,\u001b[0m \u001b[0mlabels\u001b[0m\u001b[1;33m,\u001b[0m \u001b[0mna_sentinel\u001b[0m\u001b[1;33m=\u001b[0m\u001b[1;33m-\u001b[0m\u001b[1;36m1\u001b[0m\u001b[1;33m)\u001b[0m\u001b[1;33m\u001b[0m\u001b[1;33m\u001b[0m\u001b[0m\n\u001b[0m\u001b[0;32m   1951\u001b[0m     \u001b[0mnew_labels\u001b[0m \u001b[1;33m=\u001b[0m \u001b[0mensure_int64\u001b[0m\u001b[1;33m(\u001b[0m\u001b[0mnew_labels\u001b[0m\u001b[1;33m)\u001b[0m\u001b[1;33m\u001b[0m\u001b[1;33m\u001b[0m\u001b[0m\n\u001b[0;32m   1952\u001b[0m     \u001b[0mnew_left\u001b[0m\u001b[1;33m,\u001b[0m \u001b[0mnew_right\u001b[0m \u001b[1;33m=\u001b[0m \u001b[0mnew_labels\u001b[0m\u001b[1;33m[\u001b[0m\u001b[1;33m:\u001b[0m\u001b[0mllength\u001b[0m\u001b[1;33m]\u001b[0m\u001b[1;33m,\u001b[0m \u001b[0mnew_labels\u001b[0m\u001b[1;33m[\u001b[0m\u001b[0mllength\u001b[0m\u001b[1;33m:\u001b[0m\u001b[1;33m]\u001b[0m\u001b[1;33m\u001b[0m\u001b[1;33m\u001b[0m\u001b[0m\n",
      "\u001b[1;32mC:\\ProgramData\\Anaconda3\\lib\\site-packages\\pandas\\core\\algorithms.py\u001b[0m in \u001b[0;36msafe_sort\u001b[1;34m(values, codes, na_sentinel, assume_unique, verify)\u001b[0m\n\u001b[0;32m   2045\u001b[0m     \u001b[1;32mif\u001b[0m \u001b[0mna_sentinel\u001b[0m \u001b[1;33m==\u001b[0m \u001b[1;33m-\u001b[0m\u001b[1;36m1\u001b[0m\u001b[1;33m:\u001b[0m\u001b[1;33m\u001b[0m\u001b[1;33m\u001b[0m\u001b[0m\n\u001b[0;32m   2046\u001b[0m         \u001b[1;31m# take_1d is faster, but only works for na_sentinels of -1\u001b[0m\u001b[1;33m\u001b[0m\u001b[1;33m\u001b[0m\u001b[1;33m\u001b[0m\u001b[0m\n\u001b[1;32m-> 2047\u001b[1;33m         \u001b[0morder2\u001b[0m \u001b[1;33m=\u001b[0m \u001b[0msorter\u001b[0m\u001b[1;33m.\u001b[0m\u001b[0margsort\u001b[0m\u001b[1;33m(\u001b[0m\u001b[1;33m)\u001b[0m\u001b[1;33m\u001b[0m\u001b[1;33m\u001b[0m\u001b[0m\n\u001b[0m\u001b[0;32m   2048\u001b[0m         \u001b[0mnew_codes\u001b[0m \u001b[1;33m=\u001b[0m \u001b[0mtake_1d\u001b[0m\u001b[1;33m(\u001b[0m\u001b[0morder2\u001b[0m\u001b[1;33m,\u001b[0m \u001b[0mcodes\u001b[0m\u001b[1;33m,\u001b[0m \u001b[0mfill_value\u001b[0m\u001b[1;33m=\u001b[0m\u001b[1;33m-\u001b[0m\u001b[1;36m1\u001b[0m\u001b[1;33m)\u001b[0m\u001b[1;33m\u001b[0m\u001b[1;33m\u001b[0m\u001b[0m\n\u001b[0;32m   2049\u001b[0m         \u001b[1;32mif\u001b[0m \u001b[0mverify\u001b[0m\u001b[1;33m:\u001b[0m\u001b[1;33m\u001b[0m\u001b[1;33m\u001b[0m\u001b[0m\n",
      "\u001b[1;31mKeyboardInterrupt\u001b[0m: "
     ]
    }
   ],
   "source": [
    "for _state in tqdm(USA_STATES):\n",
    "    users_county = pd.read_csv(\"data/is_rural/\" + _state + \".csv\", index_col=\"uid\")\n",
    "    users_county = users_county.join(users_opinion)\n",
    "    groups = dict(users_county.groupby([\"is_rural\", \"Camp\"]).size())\n",
    "    # print(_state, groups) \n",
    "\n",
    "    w1 = rural_count.get((_state, 1), 0) / (rural_count.get((_state, 1), 0) + rural_count.get((_state, 0), 0))\n",
    "    w0 = 1 - w1\n",
    "    \n",
    "    groups_T_H = dict(users_county[users_county.is_rural != -1].groupby(\"Camp\").size())\n",
    "    # print(groups_T_H)\n",
    "    proT = groups_T_H.get(\"T\", 0) / (groups_T_H.get(\"T\", 0) + groups_T_H.get(\"B\", 0))\n",
    "    \n",
    "    if (0, 'T') not in groups: # No urban people support Trump!\n",
    "        pro_T_1 = groups[(1, 'T')] / (groups[(1, 'T')] + groups[(1, 'B')])\n",
    "        rst = pro_T_1\n",
    "    elif (1, 'T') not in groups: # No rural people support Trump!\n",
    "        pro_T_0 = groups[(0, 'T')] / (groups[(0, 'T')] + groups[(0, 'B')])\n",
    "        rst = pro_T_0\n",
    "    else:\n",
    "        pro_T_0 = groups[(0, 'T')] / (groups[(0, 'T')] + groups[(0, 'B')])\n",
    "        pro_T_1 = groups[(1, 'T')] / (groups[(1, 'T')] + groups[(1, 'B')])\n",
    "        rst = pro_T_1 * w1 + pro_T_0 * w0\n",
    "        \n",
    "    print(f\"{_state}, Census (rural areas): {w1 * 100:.2f}%, Trump: {proT * 100:.2f}%, After rescaling: {rst * 100:.2f}%\")"
   ]
  },
  {
   "cell_type": "code",
   "execution_count": null,
   "metadata": {},
   "outputs": [],
   "source": [
    "users_counties = users_loc.join(users_opinion)"
   ]
  },
  {
   "cell_type": "code",
   "execution_count": null,
   "metadata": {},
   "outputs": [],
   "source": [
    "users_counties"
   ]
  },
  {
   "cell_type": "markdown",
   "metadata": {},
   "source": [
    "## 更细致的county转换"
   ]
  },
  {
   "cell_type": "code",
   "execution_count": 18,
   "metadata": {},
   "outputs": [],
   "source": [
    "CityCounty = pd.read_csv(\"data/Borror_CityCounty.csv\")"
   ]
  },
  {
   "cell_type": "code",
   "execution_count": 19,
   "metadata": {},
   "outputs": [
    {
     "data": {
      "text/html": [
       "<div>\n",
       "<style scoped>\n",
       "    .dataframe tbody tr th:only-of-type {\n",
       "        vertical-align: middle;\n",
       "    }\n",
       "\n",
       "    .dataframe tbody tr th {\n",
       "        vertical-align: top;\n",
       "    }\n",
       "\n",
       "    .dataframe thead th {\n",
       "        text-align: right;\n",
       "    }\n",
       "</style>\n",
       "<table border=\"1\" class=\"dataframe\">\n",
       "  <thead>\n",
       "    <tr style=\"text-align: right;\">\n",
       "      <th></th>\n",
       "      <th>placename</th>\n",
       "      <th>countyname</th>\n",
       "      <th>statefips</th>\n",
       "      <th>totpop</th>\n",
       "      <th>placefips</th>\n",
       "      <th>countyfips</th>\n",
       "      <th>pctpop</th>\n",
       "    </tr>\n",
       "  </thead>\n",
       "  <tbody>\n",
       "    <tr>\n",
       "      <th>0</th>\n",
       "      <td>Aaronsburg CDP</td>\n",
       "      <td>Centre County (part)</td>\n",
       "      <td>42</td>\n",
       "      <td>613</td>\n",
       "      <td>100</td>\n",
       "      <td>27</td>\n",
       "      <td>100.0</td>\n",
       "    </tr>\n",
       "    <tr>\n",
       "      <th>1</th>\n",
       "      <td>Aaronsburg CDP</td>\n",
       "      <td>Washington County (part)</td>\n",
       "      <td>42</td>\n",
       "      <td>259</td>\n",
       "      <td>104</td>\n",
       "      <td>125</td>\n",
       "      <td>100.0</td>\n",
       "    </tr>\n",
       "    <tr>\n",
       "      <th>2</th>\n",
       "      <td>Abanda CDP</td>\n",
       "      <td>Chambers County (part)</td>\n",
       "      <td>1</td>\n",
       "      <td>192</td>\n",
       "      <td>100</td>\n",
       "      <td>17</td>\n",
       "      <td>100.0</td>\n",
       "    </tr>\n",
       "    <tr>\n",
       "      <th>3</th>\n",
       "      <td>Abbeville city</td>\n",
       "      <td>Henry County (part)</td>\n",
       "      <td>1</td>\n",
       "      <td>2688</td>\n",
       "      <td>124</td>\n",
       "      <td>67</td>\n",
       "      <td>100.0</td>\n",
       "    </tr>\n",
       "    <tr>\n",
       "      <th>4</th>\n",
       "      <td>Abbeville city</td>\n",
       "      <td>Abbeville County (part)</td>\n",
       "      <td>45</td>\n",
       "      <td>5241</td>\n",
       "      <td>100</td>\n",
       "      <td>1</td>\n",
       "      <td>100.0</td>\n",
       "    </tr>\n",
       "    <tr>\n",
       "      <th>...</th>\n",
       "      <td>...</td>\n",
       "      <td>...</td>\n",
       "      <td>...</td>\n",
       "      <td>...</td>\n",
       "      <td>...</td>\n",
       "      <td>...</td>\n",
       "      <td>...</td>\n",
       "    </tr>\n",
       "    <tr>\n",
       "      <th>30849</th>\n",
       "      <td>Zuni Pueblo CDP</td>\n",
       "      <td>McKinley County (part)</td>\n",
       "      <td>35</td>\n",
       "      <td>6302</td>\n",
       "      <td>86595</td>\n",
       "      <td>31</td>\n",
       "      <td>100.0</td>\n",
       "    </tr>\n",
       "    <tr>\n",
       "      <th>30850</th>\n",
       "      <td>Zurich city</td>\n",
       "      <td>Rooks County (part)</td>\n",
       "      <td>20</td>\n",
       "      <td>99</td>\n",
       "      <td>81025</td>\n",
       "      <td>163</td>\n",
       "      <td>100.0</td>\n",
       "    </tr>\n",
       "    <tr>\n",
       "      <th>30851</th>\n",
       "      <td>Zwingle city</td>\n",
       "      <td>Dubuque County (part)</td>\n",
       "      <td>19</td>\n",
       "      <td>65</td>\n",
       "      <td>87690</td>\n",
       "      <td>61</td>\n",
       "      <td>71.4</td>\n",
       "    </tr>\n",
       "    <tr>\n",
       "      <th>30852</th>\n",
       "      <td>Zwingle city</td>\n",
       "      <td>Jackson County (part)</td>\n",
       "      <td>19</td>\n",
       "      <td>26</td>\n",
       "      <td>87690</td>\n",
       "      <td>97</td>\n",
       "      <td>28.6</td>\n",
       "    </tr>\n",
       "    <tr>\n",
       "      <th>30853</th>\n",
       "      <td>Zwolle town</td>\n",
       "      <td>Sabine Parish (part)</td>\n",
       "      <td>22</td>\n",
       "      <td>1982</td>\n",
       "      <td>83685</td>\n",
       "      <td>85</td>\n",
       "      <td>100.0</td>\n",
       "    </tr>\n",
       "  </tbody>\n",
       "</table>\n",
       "<p>30854 rows × 7 columns</p>\n",
       "</div>"
      ],
      "text/plain": [
       "             placename                countyname  statefips  totpop  \\\n",
       "0       Aaronsburg CDP      Centre County (part)         42     613   \n",
       "1       Aaronsburg CDP  Washington County (part)         42     259   \n",
       "2           Abanda CDP    Chambers County (part)          1     192   \n",
       "3       Abbeville city       Henry County (part)          1    2688   \n",
       "4       Abbeville city   Abbeville County (part)         45    5241   \n",
       "...                ...                       ...        ...     ...   \n",
       "30849  Zuni Pueblo CDP    McKinley County (part)         35    6302   \n",
       "30850      Zurich city       Rooks County (part)         20      99   \n",
       "30851     Zwingle city     Dubuque County (part)         19      65   \n",
       "30852     Zwingle city     Jackson County (part)         19      26   \n",
       "30853      Zwolle town      Sabine Parish (part)         22    1982   \n",
       "\n",
       "       placefips  countyfips  pctpop  \n",
       "0            100          27   100.0  \n",
       "1            104         125   100.0  \n",
       "2            100          17   100.0  \n",
       "3            124          67   100.0  \n",
       "4            100           1   100.0  \n",
       "...          ...         ...     ...  \n",
       "30849      86595          31   100.0  \n",
       "30850      81025         163   100.0  \n",
       "30851      87690          61    71.4  \n",
       "30852      87690          97    28.6  \n",
       "30853      83685          85   100.0  \n",
       "\n",
       "[30854 rows x 7 columns]"
      ]
     },
     "execution_count": 19,
     "metadata": {},
     "output_type": "execute_result"
    }
   ],
   "source": [
    "CityCounty"
   ]
  },
  {
   "cell_type": "code",
   "execution_count": 20,
   "metadata": {},
   "outputs": [
    {
     "data": {
      "text/plain": [
       "Index(['placename', 'countyname', 'statefips', 'totpop', 'placefips',\n",
       "       'countyfips', 'pctpop'],\n",
       "      dtype='object')"
      ]
     },
     "execution_count": 20,
     "metadata": {},
     "output_type": "execute_result"
    }
   ],
   "source": [
    "CityCounty.columns"
   ]
  },
  {
   "source": [
    "## 获取全国或是州的三变量比例"
   ],
   "cell_type": "markdown",
   "metadata": {}
  },
  {
   "cell_type": "code",
   "execution_count": 60,
   "metadata": {
    "tags": []
   },
   "outputs": [
    {
     "output_type": "execute_result",
     "data": {
      "text/plain": [
       "        STNAME                  CTYNAME  YEAR  AGE65PLUS_MALE  AGE65PLUS_FEM  \\\n",
       "11     Georgia           Appling County    12            1478           1779   \n",
       "23     Georgia          Atkinson County    12             573            610   \n",
       "35     Georgia             Bacon County    12             815           1063   \n",
       "47     Georgia             Baker County    12             338            381   \n",
       "59     Georgia           Baldwin County    12            3441           3957   \n",
       "..         ...                      ...   ...             ...            ...   \n",
       "719  Louisiana           Webster Parish    12            3334           4426   \n",
       "731  Louisiana  West Baton Rouge Parish    12            1703           2072   \n",
       "743  Louisiana      West Carroll Parish    12             929           1175   \n",
       "755  Louisiana    West Feliciana Parish    12            1238           1168   \n",
       "767  Louisiana              Winn Parish    12            1166           1491   \n",
       "\n",
       "     AGE2024_MALE  AGE2024_FEM  AGE2529_MALE  AGE2529_FEM  AGE3034_MALE  ...  \\\n",
       "11            611          491           620          507           491  ...   \n",
       "23            272          273           280          267           269  ...   \n",
       "35            357          321           348          336           346  ...   \n",
       "47             78           89            93           76            80  ...   \n",
       "59           2766         2664          1517         1329          1286  ...   \n",
       "..            ...          ...           ...          ...           ...  ...   \n",
       "719          1123         1034          1254         1165          1131  ...   \n",
       "731           771          734           991          985          1071  ...   \n",
       "743           360          275           381          297           332  ...   \n",
       "755           357          250           630          267           963  ...   \n",
       "767           463          332           626          380           584  ...   \n",
       "\n",
       "     AGE4044_FEM  AGE4549_MALE  AGE4549_FEM  AGE5054_MALE  AGE5054_FEM  \\\n",
       "11           577           537          574           578          550   \n",
       "23           257           265          247           297          237   \n",
       "35           391           372          345           350          356   \n",
       "47            65            98           98            90          100   \n",
       "59          1033          1320         1138          1397         1234   \n",
       "..           ...           ...          ...           ...          ...   \n",
       "719         1072          1099         1141          1201         1198   \n",
       "731          771           730          712           788          921   \n",
       "743          333           320          309           325          327   \n",
       "755          322          1081          314           914          344   \n",
       "767          379           502          360           549          404   \n",
       "\n",
       "     AGE5559_MALE  AGE5559_FEM  AGE6064_MALE  AGE6064_FEM  \\\n",
       "11            624          617           585          665   \n",
       "23            241          264           240          265   \n",
       "35            313          316           305          368   \n",
       "47            120          131           128          118   \n",
       "59           1490         1435          1455         1408   \n",
       "..            ...          ...           ...          ...   \n",
       "719          1293         1413          1264         1331   \n",
       "731           877          905           824          937   \n",
       "743           366          395           361          364   \n",
       "755           785          374           569          382   \n",
       "767           484          424           472          426   \n",
       "\n",
       "                 County_Name  \n",
       "11            Appling County  \n",
       "23           Atkinson County  \n",
       "35              Bacon County  \n",
       "47              Baker County  \n",
       "59            Baldwin County  \n",
       "..                       ...  \n",
       "719           Webster Parish  \n",
       "731  West Baton Rouge Parish  \n",
       "743      West Carroll Parish  \n",
       "755    West Feliciana Parish  \n",
       "767              Winn Parish  \n",
       "\n",
       "[3142 rows x 24 columns]"
      ],
      "text/html": "<div>\n<style scoped>\n    .dataframe tbody tr th:only-of-type {\n        vertical-align: middle;\n    }\n\n    .dataframe tbody tr th {\n        vertical-align: top;\n    }\n\n    .dataframe thead th {\n        text-align: right;\n    }\n</style>\n<table border=\"1\" class=\"dataframe\">\n  <thead>\n    <tr style=\"text-align: right;\">\n      <th></th>\n      <th>STNAME</th>\n      <th>CTYNAME</th>\n      <th>YEAR</th>\n      <th>AGE65PLUS_MALE</th>\n      <th>AGE65PLUS_FEM</th>\n      <th>AGE2024_MALE</th>\n      <th>AGE2024_FEM</th>\n      <th>AGE2529_MALE</th>\n      <th>AGE2529_FEM</th>\n      <th>AGE3034_MALE</th>\n      <th>...</th>\n      <th>AGE4044_FEM</th>\n      <th>AGE4549_MALE</th>\n      <th>AGE4549_FEM</th>\n      <th>AGE5054_MALE</th>\n      <th>AGE5054_FEM</th>\n      <th>AGE5559_MALE</th>\n      <th>AGE5559_FEM</th>\n      <th>AGE6064_MALE</th>\n      <th>AGE6064_FEM</th>\n      <th>County_Name</th>\n    </tr>\n  </thead>\n  <tbody>\n    <tr>\n      <th>11</th>\n      <td>Georgia</td>\n      <td>Appling County</td>\n      <td>12</td>\n      <td>1478</td>\n      <td>1779</td>\n      <td>611</td>\n      <td>491</td>\n      <td>620</td>\n      <td>507</td>\n      <td>491</td>\n      <td>...</td>\n      <td>577</td>\n      <td>537</td>\n      <td>574</td>\n      <td>578</td>\n      <td>550</td>\n      <td>624</td>\n      <td>617</td>\n      <td>585</td>\n      <td>665</td>\n      <td>Appling County</td>\n    </tr>\n    <tr>\n      <th>23</th>\n      <td>Georgia</td>\n      <td>Atkinson County</td>\n      <td>12</td>\n      <td>573</td>\n      <td>610</td>\n      <td>272</td>\n      <td>273</td>\n      <td>280</td>\n      <td>267</td>\n      <td>269</td>\n      <td>...</td>\n      <td>257</td>\n      <td>265</td>\n      <td>247</td>\n      <td>297</td>\n      <td>237</td>\n      <td>241</td>\n      <td>264</td>\n      <td>240</td>\n      <td>265</td>\n      <td>Atkinson County</td>\n    </tr>\n    <tr>\n      <th>35</th>\n      <td>Georgia</td>\n      <td>Bacon County</td>\n      <td>12</td>\n      <td>815</td>\n      <td>1063</td>\n      <td>357</td>\n      <td>321</td>\n      <td>348</td>\n      <td>336</td>\n      <td>346</td>\n      <td>...</td>\n      <td>391</td>\n      <td>372</td>\n      <td>345</td>\n      <td>350</td>\n      <td>356</td>\n      <td>313</td>\n      <td>316</td>\n      <td>305</td>\n      <td>368</td>\n      <td>Bacon County</td>\n    </tr>\n    <tr>\n      <th>47</th>\n      <td>Georgia</td>\n      <td>Baker County</td>\n      <td>12</td>\n      <td>338</td>\n      <td>381</td>\n      <td>78</td>\n      <td>89</td>\n      <td>93</td>\n      <td>76</td>\n      <td>80</td>\n      <td>...</td>\n      <td>65</td>\n      <td>98</td>\n      <td>98</td>\n      <td>90</td>\n      <td>100</td>\n      <td>120</td>\n      <td>131</td>\n      <td>128</td>\n      <td>118</td>\n      <td>Baker County</td>\n    </tr>\n    <tr>\n      <th>59</th>\n      <td>Georgia</td>\n      <td>Baldwin County</td>\n      <td>12</td>\n      <td>3441</td>\n      <td>3957</td>\n      <td>2766</td>\n      <td>2664</td>\n      <td>1517</td>\n      <td>1329</td>\n      <td>1286</td>\n      <td>...</td>\n      <td>1033</td>\n      <td>1320</td>\n      <td>1138</td>\n      <td>1397</td>\n      <td>1234</td>\n      <td>1490</td>\n      <td>1435</td>\n      <td>1455</td>\n      <td>1408</td>\n      <td>Baldwin County</td>\n    </tr>\n    <tr>\n      <th>...</th>\n      <td>...</td>\n      <td>...</td>\n      <td>...</td>\n      <td>...</td>\n      <td>...</td>\n      <td>...</td>\n      <td>...</td>\n      <td>...</td>\n      <td>...</td>\n      <td>...</td>\n      <td>...</td>\n      <td>...</td>\n      <td>...</td>\n      <td>...</td>\n      <td>...</td>\n      <td>...</td>\n      <td>...</td>\n      <td>...</td>\n      <td>...</td>\n      <td>...</td>\n      <td>...</td>\n    </tr>\n    <tr>\n      <th>719</th>\n      <td>Louisiana</td>\n      <td>Webster Parish</td>\n      <td>12</td>\n      <td>3334</td>\n      <td>4426</td>\n      <td>1123</td>\n      <td>1034</td>\n      <td>1254</td>\n      <td>1165</td>\n      <td>1131</td>\n      <td>...</td>\n      <td>1072</td>\n      <td>1099</td>\n      <td>1141</td>\n      <td>1201</td>\n      <td>1198</td>\n      <td>1293</td>\n      <td>1413</td>\n      <td>1264</td>\n      <td>1331</td>\n      <td>Webster Parish</td>\n    </tr>\n    <tr>\n      <th>731</th>\n      <td>Louisiana</td>\n      <td>West Baton Rouge Parish</td>\n      <td>12</td>\n      <td>1703</td>\n      <td>2072</td>\n      <td>771</td>\n      <td>734</td>\n      <td>991</td>\n      <td>985</td>\n      <td>1071</td>\n      <td>...</td>\n      <td>771</td>\n      <td>730</td>\n      <td>712</td>\n      <td>788</td>\n      <td>921</td>\n      <td>877</td>\n      <td>905</td>\n      <td>824</td>\n      <td>937</td>\n      <td>West Baton Rouge Parish</td>\n    </tr>\n    <tr>\n      <th>743</th>\n      <td>Louisiana</td>\n      <td>West Carroll Parish</td>\n      <td>12</td>\n      <td>929</td>\n      <td>1175</td>\n      <td>360</td>\n      <td>275</td>\n      <td>381</td>\n      <td>297</td>\n      <td>332</td>\n      <td>...</td>\n      <td>333</td>\n      <td>320</td>\n      <td>309</td>\n      <td>325</td>\n      <td>327</td>\n      <td>366</td>\n      <td>395</td>\n      <td>361</td>\n      <td>364</td>\n      <td>West Carroll Parish</td>\n    </tr>\n    <tr>\n      <th>755</th>\n      <td>Louisiana</td>\n      <td>West Feliciana Parish</td>\n      <td>12</td>\n      <td>1238</td>\n      <td>1168</td>\n      <td>357</td>\n      <td>250</td>\n      <td>630</td>\n      <td>267</td>\n      <td>963</td>\n      <td>...</td>\n      <td>322</td>\n      <td>1081</td>\n      <td>314</td>\n      <td>914</td>\n      <td>344</td>\n      <td>785</td>\n      <td>374</td>\n      <td>569</td>\n      <td>382</td>\n      <td>West Feliciana Parish</td>\n    </tr>\n    <tr>\n      <th>767</th>\n      <td>Louisiana</td>\n      <td>Winn Parish</td>\n      <td>12</td>\n      <td>1166</td>\n      <td>1491</td>\n      <td>463</td>\n      <td>332</td>\n      <td>626</td>\n      <td>380</td>\n      <td>584</td>\n      <td>...</td>\n      <td>379</td>\n      <td>502</td>\n      <td>360</td>\n      <td>549</td>\n      <td>404</td>\n      <td>484</td>\n      <td>424</td>\n      <td>472</td>\n      <td>426</td>\n      <td>Winn Parish</td>\n    </tr>\n  </tbody>\n</table>\n<p>3142 rows × 24 columns</p>\n</div>"
     },
     "metadata": {},
     "execution_count": 60
    }
   ],
   "source": [
    "from pathlib import Path\n",
    "\n",
    "path = Path(\"data/est2019-age-sex-county\")\n",
    "\n",
    "data = pd.DataFrame()\n",
    "\n",
    "for in_name in path.rglob(\"*.csv\"):\n",
    "    # print(in_name)\n",
    "    d = pd.read_csv(in_name, usecols=[\"STNAME\", \"CTYNAME\", \"YEAR\", \"AGE65PLUS_FEM\", \"AGE65PLUS_MALE\", \"AGE2024_MALE\", \"AGE2024_FEM\", \"AGE2529_MALE\", \"AGE2529_FEM\", \"AGE3034_MALE\", \"AGE3034_FEM\", \"AGE3539_MALE\", \"AGE3539_FEM\", \"AGE4044_MALE\", \"AGE4044_FEM\", \"AGE4549_MALE\", \"AGE4549_FEM\", \"AGE5054_MALE\", \"AGE5054_FEM\", \"AGE5559_MALE\", \"AGE5559_FEM\", \"AGE6064_MALE\", \"AGE6064_FEM\"])\n",
    "    # print(d)\n",
    "    data = data.append(d)\n",
    "\n",
    "data[\"County_Name\"] = data[\"CTYNAME\"]\n",
    "data = data[data.YEAR == 12]\n",
    "data"
   ]
  },
  {
   "cell_type": "code",
   "execution_count": 61,
   "metadata": {},
   "outputs": [
    {
     "output_type": "execute_result",
     "data": {
      "text/plain": [
       "       FIPS State          County_Name Population_2010  RUCC_2013  \\\n",
       "0      1001    AL       Autauga County          54,571          2   \n",
       "1      1003    AL       Baldwin County         182,265          3   \n",
       "2      1005    AL       Barbour County          27,457          6   \n",
       "3      1007    AL          Bibb County          22,915          1   \n",
       "4      1009    AL        Blount County          57,322          1   \n",
       "...     ...   ...                  ...             ...        ...   \n",
       "3216  72145    PR  Vega Baja Municipio          59,662          1   \n",
       "3217  72147    PR    Vieques Municipio           9,301          7   \n",
       "3218  72149    PR   Villalba Municipio          26,073          2   \n",
       "3219  72151    PR    Yabucoa Municipio          37,941          1   \n",
       "3220  72153    PR      Yauco Municipio          42,043          2   \n",
       "\n",
       "                                            Description  Population  is_rural  \n",
       "0     Metro - Counties in metro areas of 250,000 to ...       54571         0  \n",
       "1     Metro - Counties in metro areas of fewer than ...      182265         1  \n",
       "2     Nonmetro - Urban population of 2,500 to 19,999...       27457         1  \n",
       "3     Metro - Counties in metro areas of 1 million p...       22915         0  \n",
       "4     Metro - Counties in metro areas of 1 million p...       57322         0  \n",
       "...                                                 ...         ...       ...  \n",
       "3216  Metro - Counties in metro areas of 1 million p...       59662         0  \n",
       "3217  Nonmetro - Urban population of 2,500 to 19,999...        9301         1  \n",
       "3218  Metro - Counties in metro areas of 250,000 to ...       26073         0  \n",
       "3219  Metro - Counties in metro areas of 1 million p...       37941         0  \n",
       "3220  Metro - Counties in metro areas of 250,000 to ...       42043         0  \n",
       "\n",
       "[3221 rows x 8 columns]"
      ],
      "text/html": "<div>\n<style scoped>\n    .dataframe tbody tr th:only-of-type {\n        vertical-align: middle;\n    }\n\n    .dataframe tbody tr th {\n        vertical-align: top;\n    }\n\n    .dataframe thead th {\n        text-align: right;\n    }\n</style>\n<table border=\"1\" class=\"dataframe\">\n  <thead>\n    <tr style=\"text-align: right;\">\n      <th></th>\n      <th>FIPS</th>\n      <th>State</th>\n      <th>County_Name</th>\n      <th>Population_2010</th>\n      <th>RUCC_2013</th>\n      <th>Description</th>\n      <th>Population</th>\n      <th>is_rural</th>\n    </tr>\n  </thead>\n  <tbody>\n    <tr>\n      <th>0</th>\n      <td>1001</td>\n      <td>AL</td>\n      <td>Autauga County</td>\n      <td>54,571</td>\n      <td>2</td>\n      <td>Metro - Counties in metro areas of 250,000 to ...</td>\n      <td>54571</td>\n      <td>0</td>\n    </tr>\n    <tr>\n      <th>1</th>\n      <td>1003</td>\n      <td>AL</td>\n      <td>Baldwin County</td>\n      <td>182,265</td>\n      <td>3</td>\n      <td>Metro - Counties in metro areas of fewer than ...</td>\n      <td>182265</td>\n      <td>1</td>\n    </tr>\n    <tr>\n      <th>2</th>\n      <td>1005</td>\n      <td>AL</td>\n      <td>Barbour County</td>\n      <td>27,457</td>\n      <td>6</td>\n      <td>Nonmetro - Urban population of 2,500 to 19,999...</td>\n      <td>27457</td>\n      <td>1</td>\n    </tr>\n    <tr>\n      <th>3</th>\n      <td>1007</td>\n      <td>AL</td>\n      <td>Bibb County</td>\n      <td>22,915</td>\n      <td>1</td>\n      <td>Metro - Counties in metro areas of 1 million p...</td>\n      <td>22915</td>\n      <td>0</td>\n    </tr>\n    <tr>\n      <th>4</th>\n      <td>1009</td>\n      <td>AL</td>\n      <td>Blount County</td>\n      <td>57,322</td>\n      <td>1</td>\n      <td>Metro - Counties in metro areas of 1 million p...</td>\n      <td>57322</td>\n      <td>0</td>\n    </tr>\n    <tr>\n      <th>...</th>\n      <td>...</td>\n      <td>...</td>\n      <td>...</td>\n      <td>...</td>\n      <td>...</td>\n      <td>...</td>\n      <td>...</td>\n      <td>...</td>\n    </tr>\n    <tr>\n      <th>3216</th>\n      <td>72145</td>\n      <td>PR</td>\n      <td>Vega Baja Municipio</td>\n      <td>59,662</td>\n      <td>1</td>\n      <td>Metro - Counties in metro areas of 1 million p...</td>\n      <td>59662</td>\n      <td>0</td>\n    </tr>\n    <tr>\n      <th>3217</th>\n      <td>72147</td>\n      <td>PR</td>\n      <td>Vieques Municipio</td>\n      <td>9,301</td>\n      <td>7</td>\n      <td>Nonmetro - Urban population of 2,500 to 19,999...</td>\n      <td>9301</td>\n      <td>1</td>\n    </tr>\n    <tr>\n      <th>3218</th>\n      <td>72149</td>\n      <td>PR</td>\n      <td>Villalba Municipio</td>\n      <td>26,073</td>\n      <td>2</td>\n      <td>Metro - Counties in metro areas of 250,000 to ...</td>\n      <td>26073</td>\n      <td>0</td>\n    </tr>\n    <tr>\n      <th>3219</th>\n      <td>72151</td>\n      <td>PR</td>\n      <td>Yabucoa Municipio</td>\n      <td>37,941</td>\n      <td>1</td>\n      <td>Metro - Counties in metro areas of 1 million p...</td>\n      <td>37941</td>\n      <td>0</td>\n    </tr>\n    <tr>\n      <th>3220</th>\n      <td>72153</td>\n      <td>PR</td>\n      <td>Yauco Municipio</td>\n      <td>42,043</td>\n      <td>2</td>\n      <td>Metro - Counties in metro areas of 250,000 to ...</td>\n      <td>42043</td>\n      <td>0</td>\n    </tr>\n  </tbody>\n</table>\n<p>3221 rows × 8 columns</p>\n</div>"
     },
     "metadata": {},
     "execution_count": 61
    }
   ],
   "source": [
    "rural_table"
   ]
  },
  {
   "cell_type": "code",
   "execution_count": 62,
   "metadata": {},
   "outputs": [
    {
     "output_type": "execute_result",
     "data": {
      "text/plain": [
       "          STNAME                  CTYNAME  YEAR  AGE65PLUS_MALE  \\\n",
       "0        Georgia           Appling County    12            1478   \n",
       "1        Georgia          Atkinson County    12             573   \n",
       "2        Georgia             Bacon County    12             815   \n",
       "3        Georgia             Baker County    12             338   \n",
       "4        Georgia             Baker County    12             338   \n",
       "...          ...                      ...   ...             ...   \n",
       "14523  Louisiana           Webster Parish    12            3334   \n",
       "14524  Louisiana  West Baton Rouge Parish    12            1703   \n",
       "14525  Louisiana      West Carroll Parish    12             929   \n",
       "14526  Louisiana    West Feliciana Parish    12            1238   \n",
       "14527  Louisiana              Winn Parish    12            1166   \n",
       "\n",
       "       AGE65PLUS_FEM  AGE2024_MALE  AGE2024_FEM  AGE2529_MALE  AGE2529_FEM  \\\n",
       "0               1779           611          491           620          507   \n",
       "1                610           272          273           280          267   \n",
       "2               1063           357          321           348          336   \n",
       "3                381            78           89            93           76   \n",
       "4                381            78           89            93           76   \n",
       "...              ...           ...          ...           ...          ...   \n",
       "14523           4426          1123         1034          1254         1165   \n",
       "14524           2072           771          734           991          985   \n",
       "14525           1175           360          275           381          297   \n",
       "14526           1168           357          250           630          267   \n",
       "14527           1491           463          332           626          380   \n",
       "\n",
       "       AGE3034_MALE  ...  AGE6064_MALE  AGE6064_FEM              County_Name  \\\n",
       "0               491  ...           585          665           Appling County   \n",
       "1               269  ...           240          265          Atkinson County   \n",
       "2               346  ...           305          368             Bacon County   \n",
       "3                80  ...           128          118             Baker County   \n",
       "4                80  ...           128          118             Baker County   \n",
       "...             ...  ...           ...          ...                      ...   \n",
       "14523          1131  ...          1264         1331           Webster Parish   \n",
       "14524          1071  ...           824          937  West Baton Rouge Parish   \n",
       "14525           332  ...           361          364      West Carroll Parish   \n",
       "14526           963  ...           569          382    West Feliciana Parish   \n",
       "14527           584  ...           472          426              Winn Parish   \n",
       "\n",
       "        FIPS  State  Population_2010  RUCC_2013  \\\n",
       "0      13001     GA           18,236          7   \n",
       "1      13003     GA            8,375          9   \n",
       "2      13005     GA           11,096          7   \n",
       "3      12003     FL           27,115          1   \n",
       "4      13007     GA            3,451          3   \n",
       "...      ...    ...              ...        ...   \n",
       "14523  22119     LA           41,207          2   \n",
       "14524  22121     LA           23,788          2   \n",
       "14525  22123     LA           11,604          9   \n",
       "14526  22125     LA           15,625          2   \n",
       "14527  22127     LA           15,313          6   \n",
       "\n",
       "                                             Description  Population  is_rural  \n",
       "0      Nonmetro - Urban population of 2,500 to 19,999...       18236         1  \n",
       "1      Nonmetro - Completely rural or less than 2,500...        8375         1  \n",
       "2      Nonmetro - Urban population of 2,500 to 19,999...       11096         1  \n",
       "3      Metro - Counties in metro areas of 1 million p...       27115         0  \n",
       "4      Metro - Counties in metro areas of fewer than ...        3451         1  \n",
       "...                                                  ...         ...       ...  \n",
       "14523  Metro - Counties in metro areas of 250,000 to ...       41207         0  \n",
       "14524  Metro - Counties in metro areas of 250,000 to ...       23788         0  \n",
       "14525  Nonmetro - Completely rural or less than 2,500...       11604         1  \n",
       "14526  Metro - Counties in metro areas of 250,000 to ...       15625         0  \n",
       "14527  Nonmetro - Urban population of 2,500 to 19,999...       15313         1  \n",
       "\n",
       "[14528 rows x 31 columns]"
      ],
      "text/html": "<div>\n<style scoped>\n    .dataframe tbody tr th:only-of-type {\n        vertical-align: middle;\n    }\n\n    .dataframe tbody tr th {\n        vertical-align: top;\n    }\n\n    .dataframe thead th {\n        text-align: right;\n    }\n</style>\n<table border=\"1\" class=\"dataframe\">\n  <thead>\n    <tr style=\"text-align: right;\">\n      <th></th>\n      <th>STNAME</th>\n      <th>CTYNAME</th>\n      <th>YEAR</th>\n      <th>AGE65PLUS_MALE</th>\n      <th>AGE65PLUS_FEM</th>\n      <th>AGE2024_MALE</th>\n      <th>AGE2024_FEM</th>\n      <th>AGE2529_MALE</th>\n      <th>AGE2529_FEM</th>\n      <th>AGE3034_MALE</th>\n      <th>...</th>\n      <th>AGE6064_MALE</th>\n      <th>AGE6064_FEM</th>\n      <th>County_Name</th>\n      <th>FIPS</th>\n      <th>State</th>\n      <th>Population_2010</th>\n      <th>RUCC_2013</th>\n      <th>Description</th>\n      <th>Population</th>\n      <th>is_rural</th>\n    </tr>\n  </thead>\n  <tbody>\n    <tr>\n      <th>0</th>\n      <td>Georgia</td>\n      <td>Appling County</td>\n      <td>12</td>\n      <td>1478</td>\n      <td>1779</td>\n      <td>611</td>\n      <td>491</td>\n      <td>620</td>\n      <td>507</td>\n      <td>491</td>\n      <td>...</td>\n      <td>585</td>\n      <td>665</td>\n      <td>Appling County</td>\n      <td>13001</td>\n      <td>GA</td>\n      <td>18,236</td>\n      <td>7</td>\n      <td>Nonmetro - Urban population of 2,500 to 19,999...</td>\n      <td>18236</td>\n      <td>1</td>\n    </tr>\n    <tr>\n      <th>1</th>\n      <td>Georgia</td>\n      <td>Atkinson County</td>\n      <td>12</td>\n      <td>573</td>\n      <td>610</td>\n      <td>272</td>\n      <td>273</td>\n      <td>280</td>\n      <td>267</td>\n      <td>269</td>\n      <td>...</td>\n      <td>240</td>\n      <td>265</td>\n      <td>Atkinson County</td>\n      <td>13003</td>\n      <td>GA</td>\n      <td>8,375</td>\n      <td>9</td>\n      <td>Nonmetro - Completely rural or less than 2,500...</td>\n      <td>8375</td>\n      <td>1</td>\n    </tr>\n    <tr>\n      <th>2</th>\n      <td>Georgia</td>\n      <td>Bacon County</td>\n      <td>12</td>\n      <td>815</td>\n      <td>1063</td>\n      <td>357</td>\n      <td>321</td>\n      <td>348</td>\n      <td>336</td>\n      <td>346</td>\n      <td>...</td>\n      <td>305</td>\n      <td>368</td>\n      <td>Bacon County</td>\n      <td>13005</td>\n      <td>GA</td>\n      <td>11,096</td>\n      <td>7</td>\n      <td>Nonmetro - Urban population of 2,500 to 19,999...</td>\n      <td>11096</td>\n      <td>1</td>\n    </tr>\n    <tr>\n      <th>3</th>\n      <td>Georgia</td>\n      <td>Baker County</td>\n      <td>12</td>\n      <td>338</td>\n      <td>381</td>\n      <td>78</td>\n      <td>89</td>\n      <td>93</td>\n      <td>76</td>\n      <td>80</td>\n      <td>...</td>\n      <td>128</td>\n      <td>118</td>\n      <td>Baker County</td>\n      <td>12003</td>\n      <td>FL</td>\n      <td>27,115</td>\n      <td>1</td>\n      <td>Metro - Counties in metro areas of 1 million p...</td>\n      <td>27115</td>\n      <td>0</td>\n    </tr>\n    <tr>\n      <th>4</th>\n      <td>Georgia</td>\n      <td>Baker County</td>\n      <td>12</td>\n      <td>338</td>\n      <td>381</td>\n      <td>78</td>\n      <td>89</td>\n      <td>93</td>\n      <td>76</td>\n      <td>80</td>\n      <td>...</td>\n      <td>128</td>\n      <td>118</td>\n      <td>Baker County</td>\n      <td>13007</td>\n      <td>GA</td>\n      <td>3,451</td>\n      <td>3</td>\n      <td>Metro - Counties in metro areas of fewer than ...</td>\n      <td>3451</td>\n      <td>1</td>\n    </tr>\n    <tr>\n      <th>...</th>\n      <td>...</td>\n      <td>...</td>\n      <td>...</td>\n      <td>...</td>\n      <td>...</td>\n      <td>...</td>\n      <td>...</td>\n      <td>...</td>\n      <td>...</td>\n      <td>...</td>\n      <td>...</td>\n      <td>...</td>\n      <td>...</td>\n      <td>...</td>\n      <td>...</td>\n      <td>...</td>\n      <td>...</td>\n      <td>...</td>\n      <td>...</td>\n      <td>...</td>\n      <td>...</td>\n    </tr>\n    <tr>\n      <th>14523</th>\n      <td>Louisiana</td>\n      <td>Webster Parish</td>\n      <td>12</td>\n      <td>3334</td>\n      <td>4426</td>\n      <td>1123</td>\n      <td>1034</td>\n      <td>1254</td>\n      <td>1165</td>\n      <td>1131</td>\n      <td>...</td>\n      <td>1264</td>\n      <td>1331</td>\n      <td>Webster Parish</td>\n      <td>22119</td>\n      <td>LA</td>\n      <td>41,207</td>\n      <td>2</td>\n      <td>Metro - Counties in metro areas of 250,000 to ...</td>\n      <td>41207</td>\n      <td>0</td>\n    </tr>\n    <tr>\n      <th>14524</th>\n      <td>Louisiana</td>\n      <td>West Baton Rouge Parish</td>\n      <td>12</td>\n      <td>1703</td>\n      <td>2072</td>\n      <td>771</td>\n      <td>734</td>\n      <td>991</td>\n      <td>985</td>\n      <td>1071</td>\n      <td>...</td>\n      <td>824</td>\n      <td>937</td>\n      <td>West Baton Rouge Parish</td>\n      <td>22121</td>\n      <td>LA</td>\n      <td>23,788</td>\n      <td>2</td>\n      <td>Metro - Counties in metro areas of 250,000 to ...</td>\n      <td>23788</td>\n      <td>0</td>\n    </tr>\n    <tr>\n      <th>14525</th>\n      <td>Louisiana</td>\n      <td>West Carroll Parish</td>\n      <td>12</td>\n      <td>929</td>\n      <td>1175</td>\n      <td>360</td>\n      <td>275</td>\n      <td>381</td>\n      <td>297</td>\n      <td>332</td>\n      <td>...</td>\n      <td>361</td>\n      <td>364</td>\n      <td>West Carroll Parish</td>\n      <td>22123</td>\n      <td>LA</td>\n      <td>11,604</td>\n      <td>9</td>\n      <td>Nonmetro - Completely rural or less than 2,500...</td>\n      <td>11604</td>\n      <td>1</td>\n    </tr>\n    <tr>\n      <th>14526</th>\n      <td>Louisiana</td>\n      <td>West Feliciana Parish</td>\n      <td>12</td>\n      <td>1238</td>\n      <td>1168</td>\n      <td>357</td>\n      <td>250</td>\n      <td>630</td>\n      <td>267</td>\n      <td>963</td>\n      <td>...</td>\n      <td>569</td>\n      <td>382</td>\n      <td>West Feliciana Parish</td>\n      <td>22125</td>\n      <td>LA</td>\n      <td>15,625</td>\n      <td>2</td>\n      <td>Metro - Counties in metro areas of 250,000 to ...</td>\n      <td>15625</td>\n      <td>0</td>\n    </tr>\n    <tr>\n      <th>14527</th>\n      <td>Louisiana</td>\n      <td>Winn Parish</td>\n      <td>12</td>\n      <td>1166</td>\n      <td>1491</td>\n      <td>463</td>\n      <td>332</td>\n      <td>626</td>\n      <td>380</td>\n      <td>584</td>\n      <td>...</td>\n      <td>472</td>\n      <td>426</td>\n      <td>Winn Parish</td>\n      <td>22127</td>\n      <td>LA</td>\n      <td>15,313</td>\n      <td>6</td>\n      <td>Nonmetro - Urban population of 2,500 to 19,999...</td>\n      <td>15313</td>\n      <td>1</td>\n    </tr>\n  </tbody>\n</table>\n<p>14528 rows × 31 columns</p>\n</div>"
     },
     "metadata": {},
     "execution_count": 62
    }
   ],
   "source": [
    "# pd.merge(data, rural_population, on = 'name')\n",
    "# rural_population\n",
    "data = pd.merge(data, rural_table, on=\"County_Name\")\n",
    "data"
   ]
  },
  {
   "cell_type": "code",
   "execution_count": 67,
   "metadata": {},
   "outputs": [],
   "source": [
    "data = data.groupby(\"is_rural\").sum()"
   ]
  },
  {
   "cell_type": "code",
   "execution_count": 68,
   "metadata": {},
   "outputs": [
    {
     "output_type": "execute_result",
     "data": {
      "text/plain": [
       "            YEAR  AGE65PLUS_MALE  AGE65PLUS_FEM  AGE2024_MALE  AGE2024_FEM  \\\n",
       "is_rural                                                                     \n",
       "0          43944        37300720       46784528      17291369     16656317   \n",
       "1         130392        61890583       76410474      26763169     25469523   \n",
       "\n",
       "          AGE2529_MALE  AGE2529_FEM  AGE3034_MALE  AGE3034_FEM  AGE3539_MALE  \\\n",
       "is_rural                                                                       \n",
       "0             18969966     18298038      17974918     17669064      17332066   \n",
       "1             28448355     27236669      26633749     26068569      25947186   \n",
       "\n",
       "          ...  AGE4549_FEM  AGE5054_MALE  AGE5054_FEM  AGE5559_MALE  \\\n",
       "is_rural  ...                                                         \n",
       "0         ...     16668020      16217286     16728836      16981140   \n",
       "1         ...     25110218      24826600     25411810      26632572   \n",
       "\n",
       "          AGE5559_FEM  AGE6064_MALE  AGE6064_FEM       FIPS  RUCC_2013  \\\n",
       "is_rural                                                                 \n",
       "0            17933416      15586912     16946499  109890750       5317   \n",
       "1            28070095      25103010     27150086  315161402      66762   \n",
       "\n",
       "          Population  \n",
       "is_rural              \n",
       "0          910822700  \n",
       "1          344399706  \n",
       "\n",
       "[2 rows x 24 columns]"
      ],
      "text/html": "<div>\n<style scoped>\n    .dataframe tbody tr th:only-of-type {\n        vertical-align: middle;\n    }\n\n    .dataframe tbody tr th {\n        vertical-align: top;\n    }\n\n    .dataframe thead th {\n        text-align: right;\n    }\n</style>\n<table border=\"1\" class=\"dataframe\">\n  <thead>\n    <tr style=\"text-align: right;\">\n      <th></th>\n      <th>YEAR</th>\n      <th>AGE65PLUS_MALE</th>\n      <th>AGE65PLUS_FEM</th>\n      <th>AGE2024_MALE</th>\n      <th>AGE2024_FEM</th>\n      <th>AGE2529_MALE</th>\n      <th>AGE2529_FEM</th>\n      <th>AGE3034_MALE</th>\n      <th>AGE3034_FEM</th>\n      <th>AGE3539_MALE</th>\n      <th>...</th>\n      <th>AGE4549_FEM</th>\n      <th>AGE5054_MALE</th>\n      <th>AGE5054_FEM</th>\n      <th>AGE5559_MALE</th>\n      <th>AGE5559_FEM</th>\n      <th>AGE6064_MALE</th>\n      <th>AGE6064_FEM</th>\n      <th>FIPS</th>\n      <th>RUCC_2013</th>\n      <th>Population</th>\n    </tr>\n    <tr>\n      <th>is_rural</th>\n      <th></th>\n      <th></th>\n      <th></th>\n      <th></th>\n      <th></th>\n      <th></th>\n      <th></th>\n      <th></th>\n      <th></th>\n      <th></th>\n      <th></th>\n      <th></th>\n      <th></th>\n      <th></th>\n      <th></th>\n      <th></th>\n      <th></th>\n      <th></th>\n      <th></th>\n      <th></th>\n      <th></th>\n    </tr>\n  </thead>\n  <tbody>\n    <tr>\n      <th>0</th>\n      <td>43944</td>\n      <td>37300720</td>\n      <td>46784528</td>\n      <td>17291369</td>\n      <td>16656317</td>\n      <td>18969966</td>\n      <td>18298038</td>\n      <td>17974918</td>\n      <td>17669064</td>\n      <td>17332066</td>\n      <td>...</td>\n      <td>16668020</td>\n      <td>16217286</td>\n      <td>16728836</td>\n      <td>16981140</td>\n      <td>17933416</td>\n      <td>15586912</td>\n      <td>16946499</td>\n      <td>109890750</td>\n      <td>5317</td>\n      <td>910822700</td>\n    </tr>\n    <tr>\n      <th>1</th>\n      <td>130392</td>\n      <td>61890583</td>\n      <td>76410474</td>\n      <td>26763169</td>\n      <td>25469523</td>\n      <td>28448355</td>\n      <td>27236669</td>\n      <td>26633749</td>\n      <td>26068569</td>\n      <td>25947186</td>\n      <td>...</td>\n      <td>25110218</td>\n      <td>24826600</td>\n      <td>25411810</td>\n      <td>26632572</td>\n      <td>28070095</td>\n      <td>25103010</td>\n      <td>27150086</td>\n      <td>315161402</td>\n      <td>66762</td>\n      <td>344399706</td>\n    </tr>\n  </tbody>\n</table>\n<p>2 rows × 24 columns</p>\n</div>"
     },
     "metadata": {},
     "execution_count": 68
    }
   ],
   "source": [
    "data"
   ]
  },
  {
   "cell_type": "code",
   "execution_count": 69,
   "metadata": {},
   "outputs": [
    {
     "output_type": "execute_result",
     "data": {
      "text/plain": [
       "Index(['YEAR', 'AGE65PLUS_MALE', 'AGE65PLUS_FEM', 'AGE2024_MALE',\n",
       "       'AGE2024_FEM', 'AGE2529_MALE', 'AGE2529_FEM', 'AGE3034_MALE',\n",
       "       'AGE3034_FEM', 'AGE3539_MALE', 'AGE3539_FEM', 'AGE4044_MALE',\n",
       "       'AGE4044_FEM', 'AGE4549_MALE', 'AGE4549_FEM', 'AGE5054_MALE',\n",
       "       'AGE5054_FEM', 'AGE5559_MALE', 'AGE5559_FEM', 'AGE6064_MALE',\n",
       "       'AGE6064_FEM', 'FIPS', 'RUCC_2013', 'Population'],\n",
       "      dtype='object')"
      ]
     },
     "metadata": {},
     "execution_count": 69
    }
   ],
   "source": [
    "data.columns"
   ]
  },
  {
   "cell_type": "code",
   "execution_count": null,
   "metadata": {},
   "outputs": [],
   "source": [
    "data[\">=65, Male\"] = data[\"AGE65PLUS_MALE\"]\n",
    "data[\">=65, Female\"] = data[\"AGE65PLUS_FEM\"]\n",
    "data[\">=20 <30, Female\"] = data[\"AGE2024_FEM\"] + data[\"AGE2529_FEM\"]\n",
    "data[\">=20 <30, Male\"] = data[\"AGE2024_MALE\"] + data[\"AGE2529_MALE\"]\n",
    "data[\">=30 <50, Female\"] = data[\"AGE3034_FEM\"] + data[\"AGE3539_FEM\"] + data[\"AGE4044_FEM\"] + data[\"AGE4549_FEM\"]\n",
    "data[\">=30 <50, Male\"] = data[\"AGE3034_MALE\"] + data[\"AGE3539_MALE\"] + data[\"AGE4044_MALE\"] + data[\"AGE4549_MALE\"]\n",
    "data[\">=50 <65, Female\"] = data[\"AGE5054_MALE\"] + data[\"AGE5559_MALE\"] + data[\"AGE6064_MALE\"]\n",
    "data[\">=50 <65, Male\"] = data[\"AGE4044_MALE\"] + data[\"AGE4549_MALE\"] + data[\"AGE5054_MALE\"]"
   ]
  }
 ],
 "metadata": {
  "kernelspec": {
   "display_name": "Python 3",
   "language": "python",
   "name": "python3"
  },
  "language_info": {
   "codemirror_mode": {
    "name": "ipython",
    "version": 3
   },
   "file_extension": ".py",
   "mimetype": "text/x-python",
   "name": "python",
   "nbconvert_exporter": "python",
   "pygments_lexer": "ipython3",
   "version": "3.7.6-final"
  },
  "latex_envs": {
   "LaTeX_envs_menu_present": true,
   "autoclose": false,
   "autocomplete": true,
   "bibliofile": "biblio.bib",
   "cite_by": "apalike",
   "current_citInitial": 1,
   "eqLabelWithNumbers": true,
   "eqNumInitial": 1,
   "hotkeys": {
    "equation": "Ctrl-E",
    "itemize": "Ctrl-I"
   },
   "labels_anchors": false,
   "latex_user_defs": false,
   "report_style_numbering": false,
   "user_envs_cfg": false
  },
  "toc": {
   "base_numbering": 1,
   "nav_menu": {},
   "number_sections": true,
   "sideBar": true,
   "skip_h1_title": false,
   "title_cell": "Table of Contents",
   "title_sidebar": "Contents",
   "toc_cell": false,
   "toc_position": {},
   "toc_section_display": true,
   "toc_window_display": false
  }
 },
 "nbformat": 4,
 "nbformat_minor": 4
}