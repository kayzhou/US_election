{
 "cells": [
  {
   "cell_type": "code",
<<<<<<< HEAD
   "execution_count": 1,
=======
   "execution_count": 101,
>>>>>>> a35d0b848c73bb944c535aa912a8e42d9dc18c7c
   "metadata": {
    "ExecuteTime": {
     "end_time": "2020-10-29T12:56:35.151898Z",
     "start_time": "2020-10-29T12:56:35.147731Z"
    }
   },
   "outputs": [],
   "source": [
    "from my_weapon import *\n",
    "from SQLite_handler import * \n",
    "from tqdm import tqdm\n",
    "from collections import defaultdict\n",
    "plt.style.use('fivethirtyeight')\n",
    "\n",
    "USA_STATES = ['NY', 'DC', 'IN', 'AR', 'WY', 'ME', 'TX', 'NH', 'CO', 'CA', 'IL',\n",
    "             'WA', 'VA', 'FL', 'MA', 'OR', 'AZ', 'MT', 'MN', 'NE', 'TN', 'OH',\n",
    "             'NJ', 'NV', 'KY', 'UT', 'NC', 'SC', 'PA', 'NM', 'KS', 'GA', 'MI',\n",
    "             'WI', 'AK', 'MS', 'MD', 'LA', 'HI', 'MO', 'AL', 'CT', 'OK', 'IA',\n",
    "             'WV', 'RI', 'SD', 'VT', 'ND', 'ID', 'DE']"
   ]
  },
  {
   "cell_type": "code",
   "execution_count": 102,
   "metadata": {
    "ExecuteTime": {
     "end_time": "2020-10-29T12:56:36.725112Z",
     "start_time": "2020-10-29T12:56:36.686981Z"
    }
   },
   "outputs": [],
   "source": [
    "def DictListUpdate( lis1, lis2):\n",
    "    for aLis1 in lis1:\n",
    "        if aLis1 not in lis2:\n",
    "            lis2.append(aLis1)\n",
    "    return lis2\n",
    "loc_to_state_1 = json.load(open(\"data/loc-to-state.json\"))\n",
    "loc_to_state_2 = json.load(open(\"data/loc-to-state-20200604.json\"))\n",
    "loc_to_state_3 = json.load(open(\"data/loc-to-state-20200622.json\"))\n",
    "loc_to_state= DictListUpdate( loc_to_state_1,loc_to_state_2)\n",
    "loc_to_state_final= DictListUpdate( loc_to_state,loc_to_state_3)\n",
    "del loc_to_state_1,loc_to_state_2,loc_to_state_3,loc_to_state"
   ]
  },
  {
   "cell_type": "code",
<<<<<<< HEAD
   "execution_count": 2,
   "metadata": {},
=======
   "execution_count": 103,
   "metadata": {
    "ExecuteTime": {
     "end_time": "2020-10-29T12:56:37.726806Z",
     "start_time": "2020-10-29T12:56:37.560544Z"
    }
   },
>>>>>>> a35d0b848c73bb944c535aa912a8e42d9dc18c7c
   "outputs": [],
   "source": [
    "loc_to_loc_1 = json.load(open(\"data/loc-to-loc.json\"))\n",
    "loc_to_loc_2 = json.load(open(\"data/loc-to-loc-20200604.json\"))\n",
    "loc_to_loc_3 = json.load(open(\"data/loc-to-loc-20200622.json\"))\n",
    "#merge all loc_to_loc in a unique dictionary\n",
    "loc_to_loc= DictListUpdate( loc_to_loc_1,loc_to_loc_2)\n",
    "loc_to_loc_final= DictListUpdate( loc_to_loc,loc_to_loc_3)\n",
    "del loc_to_loc_1,loc_to_loc_2,loc_to_loc_3,loc_to_loc"
   ]
  },
  {
   "cell_type": "code",
<<<<<<< HEAD
   "execution_count": 3,
   "metadata": {},
=======
   "execution_count": 104,
   "metadata": {
    "ExecuteTime": {
     "end_time": "2020-10-29T12:56:38.442909Z",
     "start_time": "2020-10-29T12:56:38.439608Z"
    }
   },
   "outputs": [],
   "source": [
    "def check_from_loc(obj):\n",
    "    try:\n",
    "        complete_loc=loc_to_loc_final[obj]\n",
    "    except:\n",
    "        return False\n",
    "    #loc_to_state\n",
    "    try:\n",
    "        State=loc_to_state_final[complete_loc.lower()]\n",
    "        return State\n",
    "    except:\n",
    "        return False\n",
    "def check_from_state(obj):\n",
    "    try:\n",
    "        State=loc_to_state_final[obj]\n",
    "        return State\n",
    "    except:\n",
    "        return False"
   ]
  },
  {
   "cell_type": "code",
   "execution_count": 124,
   "metadata": {
    "ExecuteTime": {
     "end_time": "2020-10-29T13:06:29.978159Z",
     "start_time": "2020-10-29T13:06:29.405745Z"
    }
   },
   "outputs": [],
   "source": [
    "c=0\n",
    "for i in  open('/home/alex/kayzhou/US_election/data/county_users/County_users.lj'):\n",
    "    c+=1"
   ]
  },
  {
   "cell_type": "code",
   "execution_count": 125,
   "metadata": {
    "ExecuteTime": {
     "end_time": "2020-10-29T13:06:30.902427Z",
     "start_time": "2020-10-29T13:06:30.899502Z"
    }
   },
>>>>>>> a35d0b848c73bb944c535aa912a8e42d9dc18c7c
   "outputs": [
    {
     "data": {
      "text/html": [
       "<div>\n",
       "<style scoped>\n",
       "    .dataframe tbody tr th:only-of-type {\n",
       "        vertical-align: middle;\n",
       "    }\n",
       "\n",
       "    .dataframe tbody tr th {\n",
       "        vertical-align: top;\n",
       "    }\n",
       "\n",
       "    .dataframe thead th {\n",
       "        text-align: right;\n",
       "    }\n",
       "</style>\n",
       "<table border=\"1\" class=\"dataframe\">\n",
       "  <thead>\n",
       "    <tr style=\"text-align: right;\">\n",
       "      <th></th>\n",
       "      <th>FIPS</th>\n",
       "      <th>State</th>\n",
       "      <th>County_Name</th>\n",
       "      <th>Population_2010</th>\n",
       "      <th>RUCC_2013</th>\n",
       "      <th>Description</th>\n",
       "      <th>Population</th>\n",
       "      <th>is_rural</th>\n",
       "    </tr>\n",
       "  </thead>\n",
       "  <tbody>\n",
       "    <tr>\n",
       "      <td>0</td>\n",
       "      <td>1001</td>\n",
       "      <td>AL</td>\n",
       "      <td>Autauga County</td>\n",
       "      <td>54,571</td>\n",
       "      <td>2</td>\n",
       "      <td>Metro - Counties in metro areas of 250,000 to ...</td>\n",
       "      <td>54571</td>\n",
       "      <td>0</td>\n",
       "    </tr>\n",
       "    <tr>\n",
       "      <td>1</td>\n",
       "      <td>1003</td>\n",
       "      <td>AL</td>\n",
       "      <td>Baldwin County</td>\n",
       "      <td>182,265</td>\n",
       "      <td>3</td>\n",
       "      <td>Metro - Counties in metro areas of fewer than ...</td>\n",
       "      <td>182265</td>\n",
       "      <td>1</td>\n",
       "    </tr>\n",
       "    <tr>\n",
       "      <td>2</td>\n",
       "      <td>1005</td>\n",
       "      <td>AL</td>\n",
       "      <td>Barbour County</td>\n",
       "      <td>27,457</td>\n",
       "      <td>6</td>\n",
       "      <td>Nonmetro - Urban population of 2,500 to 19,999...</td>\n",
       "      <td>27457</td>\n",
       "      <td>1</td>\n",
       "    </tr>\n",
       "    <tr>\n",
       "      <td>3</td>\n",
       "      <td>1007</td>\n",
       "      <td>AL</td>\n",
       "      <td>Bibb County</td>\n",
       "      <td>22,915</td>\n",
       "      <td>1</td>\n",
       "      <td>Metro - Counties in metro areas of 1 million p...</td>\n",
       "      <td>22915</td>\n",
       "      <td>0</td>\n",
       "    </tr>\n",
       "    <tr>\n",
       "      <td>4</td>\n",
       "      <td>1009</td>\n",
       "      <td>AL</td>\n",
       "      <td>Blount County</td>\n",
       "      <td>57,322</td>\n",
       "      <td>1</td>\n",
       "      <td>Metro - Counties in metro areas of 1 million p...</td>\n",
       "      <td>57322</td>\n",
       "      <td>0</td>\n",
       "    </tr>\n",
       "    <tr>\n",
       "      <td>...</td>\n",
       "      <td>...</td>\n",
       "      <td>...</td>\n",
       "      <td>...</td>\n",
       "      <td>...</td>\n",
       "      <td>...</td>\n",
       "      <td>...</td>\n",
       "      <td>...</td>\n",
       "      <td>...</td>\n",
       "    </tr>\n",
       "    <tr>\n",
       "      <td>3216</td>\n",
       "      <td>72145</td>\n",
       "      <td>PR</td>\n",
       "      <td>Vega Baja Municipio</td>\n",
       "      <td>59,662</td>\n",
       "      <td>1</td>\n",
       "      <td>Metro - Counties in metro areas of 1 million p...</td>\n",
       "      <td>59662</td>\n",
       "      <td>0</td>\n",
       "    </tr>\n",
       "    <tr>\n",
       "      <td>3217</td>\n",
       "      <td>72147</td>\n",
       "      <td>PR</td>\n",
       "      <td>Vieques Municipio</td>\n",
       "      <td>9,301</td>\n",
       "      <td>7</td>\n",
       "      <td>Nonmetro - Urban population of 2,500 to 19,999...</td>\n",
       "      <td>9301</td>\n",
       "      <td>1</td>\n",
       "    </tr>\n",
       "    <tr>\n",
       "      <td>3218</td>\n",
       "      <td>72149</td>\n",
       "      <td>PR</td>\n",
       "      <td>Villalba Municipio</td>\n",
       "      <td>26,073</td>\n",
       "      <td>2</td>\n",
       "      <td>Metro - Counties in metro areas of 250,000 to ...</td>\n",
       "      <td>26073</td>\n",
       "      <td>0</td>\n",
       "    </tr>\n",
       "    <tr>\n",
       "      <td>3219</td>\n",
       "      <td>72151</td>\n",
       "      <td>PR</td>\n",
       "      <td>Yabucoa Municipio</td>\n",
       "      <td>37,941</td>\n",
       "      <td>1</td>\n",
       "      <td>Metro - Counties in metro areas of 1 million p...</td>\n",
       "      <td>37941</td>\n",
       "      <td>0</td>\n",
       "    </tr>\n",
       "    <tr>\n",
       "      <td>3220</td>\n",
       "      <td>72153</td>\n",
       "      <td>PR</td>\n",
       "      <td>Yauco Municipio</td>\n",
       "      <td>42,043</td>\n",
       "      <td>2</td>\n",
       "      <td>Metro - Counties in metro areas of 250,000 to ...</td>\n",
       "      <td>42043</td>\n",
       "      <td>0</td>\n",
       "    </tr>\n",
       "  </tbody>\n",
       "</table>\n",
       "<p>3221 rows × 8 columns</p>\n",
       "</div>"
      ],
      "text/plain": [
<<<<<<< HEAD
       "       FIPS State          County_Name Population_2010  RUCC_2013  \\\n",
       "0      1001    AL       Autauga County          54,571          2   \n",
       "1      1003    AL       Baldwin County         182,265          3   \n",
       "2      1005    AL       Barbour County          27,457          6   \n",
       "3      1007    AL          Bibb County          22,915          1   \n",
       "4      1009    AL        Blount County          57,322          1   \n",
       "...     ...   ...                  ...             ...        ...   \n",
       "3216  72145    PR  Vega Baja Municipio          59,662          1   \n",
       "3217  72147    PR    Vieques Municipio           9,301          7   \n",
       "3218  72149    PR   Villalba Municipio          26,073          2   \n",
       "3219  72151    PR    Yabucoa Municipio          37,941          1   \n",
       "3220  72153    PR      Yauco Municipio          42,043          2   \n",
       "\n",
       "                                            Description  Population  is_rural  \n",
       "0     Metro - Counties in metro areas of 250,000 to ...       54571         0  \n",
       "1     Metro - Counties in metro areas of fewer than ...      182265         1  \n",
       "2     Nonmetro - Urban population of 2,500 to 19,999...       27457         1  \n",
       "3     Metro - Counties in metro areas of 1 million p...       22915         0  \n",
       "4     Metro - Counties in metro areas of 1 million p...       57322         0  \n",
       "...                                                 ...         ...       ...  \n",
       "3216  Metro - Counties in metro areas of 1 million p...       59662         0  \n",
       "3217  Nonmetro - Urban population of 2,500 to 19,999...        9301         1  \n",
       "3218  Metro - Counties in metro areas of 250,000 to ...       26073         0  \n",
       "3219  Metro - Counties in metro areas of 1 million p...       37941         0  \n",
       "3220  Metro - Counties in metro areas of 250,000 to ...       42043         0  \n",
       "\n",
       "[3221 rows x 8 columns]"
      ]
     },
     "execution_count": 3,
=======
       "3534107"
      ]
     },
     "execution_count": 125,
>>>>>>> a35d0b848c73bb944c535aa912a8e42d9dc18c7c
     "metadata": {},
     "output_type": "execute_result"
    }
   ],
   "source": [
    "c"
   ]
  },
  {
   "cell_type": "code",
   "execution_count": 119,
   "metadata": {
    "ExecuteTime": {
     "end_time": "2020-10-29T13:03:34.026055Z",
     "start_time": "2020-10-29T13:03:26.742303Z"
    }
   },
   "outputs": [],
   "source": [
    "collected_states=Counter()\n",
    "for i in open('data/all_located.lj'):\n",
    "    collected_states[json.loads(i)['State']]+=1"
   ]
  },
  {
   "cell_type": "code",
<<<<<<< HEAD
   "execution_count": 22,
   "metadata": {},
   "outputs": [
    {
     "name": "stdout",
     "output_type": "stream",
     "text": [
      "Loading users from: data/users-cumFrom01-v3-0.5/2020-10-31.json\n",
      "# of users: 18286931\n"
     ]
    }
   ],
   "source": [
    "# load users' opinion\n",
    "\n",
    "# load users' opinion\n",
    "# users_opinion = pd.read_csv(\"data/tweetid_userid_pro_hillary.csv\")\n",
    "import pendulum\n",
    "users_opinion = defaultdict(lambda: [0, 0])\n",
    "# set_users = set(users_loc.index)\n",
    "# start = pendulum.datetime(2016, 9, 1)\n",
    "\n",
    "# election date: 2016-11-8\n",
    "# for line in tqdm(open(\"data/tweetid_userid_pro_hillary.csv\")):\n",
    "#     w = line.strip().split(\",\")\n",
    "#     uid = int(w[0])\n",
    "#     if uid in set_users:\n",
    "#         if float(w[2]) < 0.5:\n",
    "#             users_opinion[uid][0] += 1\n",
    "#         else:\n",
    "#             users_opinion[uid][1] += 1\n",
    "\n",
    "# users_opinion = []\n",
    "# i = 0\n",
    "# for line in tqdm(open(\"data/users_cumFrom01/2020-10-19.csv\")):\n",
    "#     w = line.strip().split(\",\")\n",
    "#     i += 1\n",
    "#     if i == 1:\n",
    "#         continue\n",
    "#     uid = str(w[0])\n",
    "#     users_opinion.append({\n",
    "#         \"uid\": uid,\n",
    "#         \"Camp\": \"T\" if int(w[2]) > int(w[1]) else \"B\" \n",
    "#     })\n",
    "# users_opinion = pd.DataFrame(users_opinion).set_index(\"uid\")\n",
    "# users_opinion\n",
    "\n",
    "def load_users_opinion(in_name):\n",
    "    print(\"Loading users from:\", in_name)\n",
    "    if os.path.exists(in_name):\n",
    "        users = json.load(open(in_name))\n",
    "    else:\n",
    "        print(\"Not exist\")\n",
    "        users = {}\n",
    "    print(\"# of users:\", len(users))\n",
    "    users_list = []\n",
    "    for uid, u in users.items():\n",
    "        if u[0] > u[1]:\n",
    "            users_list.append({\"uid\": uid, \"Camp\": \"B\"})\n",
    "        elif u[0] < u[1]:\n",
    "            users_list.append({\"uid\": uid, \"Camp\": \"T\"})\n",
    "        else:\n",
    "            users_list.append({\"uid\": uid, \"Camp\": \"U\"})\n",
    "    users = pd.DataFrame(users_list).set_index(\"uid\")\n",
    "    return users\n",
    "\n",
    "users_opinion = load_users_opinion(\"data/users-cumFrom01-v3-0.5/2020-10-31.json\")\n"
   ]
  },
  {
   "cell_type": "code",
   "execution_count": 23,
   "metadata": {},
   "outputs": [
    {
     "data": {
      "text/plain": [
       "array(['B', 'T', 'U'], dtype=object)"
      ]
     },
     "execution_count": 23,
     "metadata": {},
     "output_type": "execute_result"
    }
   ],
   "source": [
    "pd.unique(users_opinion['Camp'])"
=======
   "execution_count": 121,
   "metadata": {
    "ExecuteTime": {
     "end_time": "2020-10-29T13:03:45.422468Z",
     "start_time": "2020-10-29T13:03:45.419684Z"
    }
   },
   "outputs": [
    {
     "data": {
      "text/plain": [
       "51"
      ]
     },
     "execution_count": 121,
     "metadata": {},
     "output_type": "execute_result"
    }
   ],
   "source": [
    "len(collected_states)"
   ]
  },
  {
   "cell_type": "code",
   "execution_count": 110,
   "metadata": {
    "ExecuteTime": {
     "end_time": "2020-10-29T13:00:23.600557Z",
     "start_time": "2020-10-29T12:59:17.706109Z"
    }
   },
   "outputs": [
    {
     "name": "stderr",
     "output_type": "stream",
     "text": [
      "19968165it [01:05, 303067.24it/s]\n"
     ]
    }
   ],
   "source": [
    "ids=set()\n",
    "with open('/home/alex/kayzhou/US_election/data/all_located.lj','w') as _file:\n",
    "    for i in  tqdm(open('/home/alex/kayzhou/US_election/data/Final_users_list.lj')):\n",
    "        j=json.loads(i)\n",
    "        if isinstance(j, str):\n",
    "            j=json.loads(j)\n",
    "        if j['location']:\n",
    "            if j['id'] not in ids:\n",
    "                ids.add(j['id'])\n",
    "                _st=check_from_loc(j['location'].lower())\n",
    "                if _st:\n",
    "                    c+=1\n",
    "                    j['State']=_st\n",
    "                    _file.write(json.dumps(j) + \"\\n\")\n",
    "                else:\n",
    "                    _st=check_from_state(j['location'].lower())\n",
    "                    if _st:\n",
    "                        c+=1\n",
    "                        j['State']=_st\n",
    "                        _file.write(json.dumps(j) + \"\\n\")\n",
    "                    else:\n",
    "                        continue   "
   ]
  },
  {
   "cell_type": "code",
   "execution_count": 93,
   "metadata": {
    "ExecuteTime": {
     "end_time": "2020-10-29T12:51:45.417865Z",
     "start_time": "2020-10-29T12:51:45.415031Z"
    }
   },
   "outputs": [
    {
     "data": {
      "text/plain": [
       "{'screen_name': 'DaddyMa82491224',\n",
       " 'location': 'Bakersfield, CA',\n",
       " 'profile_image_url': 'http://pbs.twimg.com/profile_images/1207456844735635457/ecdcyKZH_normal.jpg',\n",
       " 'id': 1160003920942399488}"
      ]
     },
     "execution_count": 93,
     "metadata": {},
     "output_type": "execute_result"
    }
   ],
   "source": [
    "#Create unique file with users location:\n",
    "ids=set()\n",
    "c=0\n",
    "with open('data/located_users_Jan_March.lj','w') as _file:\n",
    "    for i in tqdm(users):\n"
>>>>>>> a35d0b848c73bb944c535aa912a8e42d9dc18c7c
   ]
  },
  {
   "cell_type": "code",
<<<<<<< HEAD
   "execution_count": 24,
   "metadata": {},
   "outputs": [
    {
     "data": {
      "text/plain": [
       "T    0.474923\n",
       "B    0.439194\n",
       "U    0.085883\n",
       "Name: Camp, dtype: float64"
      ]
     },
     "execution_count": 24,
     "metadata": {},
     "output_type": "execute_result"
=======
   "execution_count": 76,
   "metadata": {
    "ExecuteTime": {
     "end_time": "2020-10-28T18:25:29.010269Z",
     "start_time": "2020-10-28T18:25:23.398946Z"
    }
   },
   "outputs": [
    {
     "name": "stderr",
     "output_type": "stream",
     "text": [
      "/home/alex/anaconda3/lib/python3.7/site-packages/IPython/core/interactiveshell.py:3049: DtypeWarning: Columns (0) have mixed types. Specify dtype option on import or set low_memory=False.\n",
      "  interactivity=interactivity, compiler=compiler, result=result)\n"
     ]
>>>>>>> a35d0b848c73bb944c535aa912a8e42d9dc18c7c
    }
   ],
   "source": [
    "#-->Matteo 2020/10/28\n",
    "##Merge all the users we got soo far.\n",
    "old_data=pd.read_csv('/home/alex/kayzhou/US_election/disk/users-location/202006-all.csv')\n",
    "users_id_zk=set(old_data['uid'])"
   ]
  },
  {
   "cell_type": "code",
<<<<<<< HEAD
   "execution_count": 25,
   "metadata": {},
=======
   "execution_count": 78,
   "metadata": {
    "ExecuteTime": {
     "end_time": "2020-10-28T18:26:13.213628Z",
     "start_time": "2020-10-28T18:25:56.378910Z"
    }
   },
   "outputs": [
    {
     "name": "stdout",
     "output_type": "stream",
     "text": [
      "you are doing good\n"
     ]
    }
   ],
   "source": [
    "#Here i will just add those users of wich we have the county information.\n",
    "#In data/county/County_users.lj contain all the users with county from Junuary to October\n",
    "c=0\n",
    "new_ones=[]\n",
    "for i in open('data/county_users/County_users.lj'):\n",
    "    user=json.loads(i)\n",
    "    #this because I'm stupid\n",
    "    if isinstance(user, str):\n",
    "            user=json.loads(user)\n",
    "    if user['id'] in users_id_zk:\n",
    "        continue\n",
    "    else:\n",
    "        new_ones.append([user['id'],user['loc'],None,None,user['loc'].split(',')[-1]])\n",
    "zk_not_nan_county=old_data[pd.notna(old_data['county'])]\n",
    "to_add_to_zk=pd.DataFrame(new_ones,columns=['uid','county','loc','name','state'])\n",
    "final_table=pd.concat([zk_not_nan_county,to_add_to_zk])\n",
    "if len(zk_not_nan_county)+len(to_add_to_zk) == len(final_table):\n",
    "    print('you are doing good')\n",
    "    "
   ]
  },
  {
   "cell_type": "code",
   "execution_count": 83,
   "metadata": {
    "ExecuteTime": {
     "end_time": "2020-10-28T18:36:31.989495Z",
     "start_time": "2020-10-28T18:31:12.825132Z"
    }
   },
   "outputs": [],
   "source": [
    "final_table.drop_duplicates(subset =\"uid\", \n",
    "                     keep = False, inplace = True) "
   ]
  },
  {
   "cell_type": "code",
   "execution_count": 85,
   "metadata": {
    "ExecuteTime": {
     "end_time": "2020-10-28T18:37:52.706630Z",
     "start_time": "2020-10-28T18:37:52.692776Z"
    }
   },
>>>>>>> a35d0b848c73bb944c535aa912a8e42d9dc18c7c
   "outputs": [
    {
     "data": {
      "text/html": [
       "<div>\n",
       "<style scoped>\n",
       "    .dataframe tbody tr th:only-of-type {\n",
       "        vertical-align: middle;\n",
       "    }\n",
       "\n",
       "    .dataframe tbody tr th {\n",
       "        vertical-align: top;\n",
       "    }\n",
       "\n",
       "    .dataframe thead th {\n",
       "        text-align: right;\n",
       "    }\n",
       "</style>\n",
       "<table border=\"1\" class=\"dataframe\">\n",
       "  <thead>\n",
       "    <tr style=\"text-align: right;\">\n",
       "      <th></th>\n",
       "      <th>uid</th>\n",
       "      <th>county</th>\n",
       "      <th>loc</th>\n",
       "      <th>name</th>\n",
       "      <th>state</th>\n",
       "    </tr>\n",
       "  </thead>\n",
       "  <tbody>\n",
       "    <tr>\n",
<<<<<<< HEAD
       "      <td>1160003920942399488</td>\n",
       "      <td>Bakersfield</td>\n",
       "      <td>CA</td>\n",
       "    </tr>\n",
       "    <tr>\n",
       "      <td>1107403419071897600</td>\n",
       "      <td>Mammoth Lakes</td>\n",
       "      <td>CA</td>\n",
       "    </tr>\n",
       "    <tr>\n",
       "      <td>324433922</td>\n",
       "      <td>Holly Springs</td>\n",
       "      <td>MS</td>\n",
       "    </tr>\n",
       "    <tr>\n",
       "      <td>1229241582966231040</td>\n",
       "      <td>Baltimore</td>\n",
       "      <td>MD</td>\n",
       "    </tr>\n",
       "    <tr>\n",
       "      <td>894030541338664960</td>\n",
       "      <td>The Woodlands</td>\n",
       "      <td>TX</td>\n",
       "    </tr>\n",
       "    <tr>\n",
       "      <td>...</td>\n",
       "      <td>...</td>\n",
       "      <td>...</td>\n",
       "    </tr>\n",
       "    <tr>\n",
       "      <td>29749666</td>\n",
       "      <td>Temple Terrace</td>\n",
       "      <td>FL</td>\n",
       "    </tr>\n",
       "    <tr>\n",
       "      <td>1306440208204926977</td>\n",
       "      <td>Philadelphia</td>\n",
       "      <td>PA</td>\n",
       "    </tr>\n",
       "    <tr>\n",
       "      <td>1271145136827674624</td>\n",
       "      <td>Denver</td>\n",
       "      <td>CO</td>\n",
       "    </tr>\n",
       "    <tr>\n",
       "      <td>3259300176</td>\n",
       "      <td>Shreveport</td>\n",
       "      <td>LA</td>\n",
       "    </tr>\n",
       "    <tr>\n",
       "      <td>66930048</td>\n",
       "      <td>San Diego</td>\n",
       "      <td>CA</td>\n",
       "    </tr>\n",
       "  </tbody>\n",
       "</table>\n",
       "<p>3729604 rows × 2 columns</p>\n",
       "</div>"
      ],
      "text/plain": [
       "                             county state\n",
       "uid                                      \n",
       "1160003920942399488     Bakersfield    CA\n",
       "1107403419071897600   Mammoth Lakes    CA\n",
       "324433922             Holly Springs    MS\n",
       "1229241582966231040       Baltimore    MD\n",
       "894030541338664960    The Woodlands    TX\n",
       "...                             ...   ...\n",
       "29749666             Temple Terrace    FL\n",
       "1306440208204926977    Philadelphia    PA\n",
       "1271145136827674624          Denver    CO\n",
       "3259300176               Shreveport    LA\n",
       "66930048                  San Diego    CA\n",
       "\n",
       "[3729604 rows x 2 columns]"
      ]
     },
     "execution_count": 25,
     "metadata": {},
     "output_type": "execute_result"
    }
   ],
   "source": [
    "# load users' infomation\n",
    "#'data/Master_Table.csv' the new table made in 222\n",
    "users_loc = pd.read_csv(\"raw_data/user_info/users_county.txt\",names=[\"uid\", \"county\", \"state\"],\n",
    "                        dtype={\"uid\": str, \"county\": str,\"state\": str},\n",
    "                        index_col=\"uid\")\n",
    "users_loc = users_loc.dropna()\n",
    "users_loc.index = users_loc.index.map(str)\n",
    "\n",
    "#users_loc[\"county\"] = users_loc[\"county\"].apply(lambda x: \" \".join(x.split(\",\")[:-1]))\n",
    "#users_loc[\"state\"] = users_loc[\"state\"].apply(lambda x: \"\".join(x.split(\" \")[0]))\n",
    "users_loc"
   ]
  },
  {
   "cell_type": "code",
   "execution_count": 26,
   "metadata": {},
   "outputs": [
    {
     "data": {
      "text/plain": [
       "52"
      ]
     },
     "execution_count": 26,
     "metadata": {},
     "output_type": "execute_result"
    }
   ],
   "source": [
    "len(pd.unique(users_loc['state']))"
   ]
  },
  {
   "cell_type": "markdown",
   "metadata": {},
   "source": [
    "3072442个用户拥有state和county信息。一定要有state数据，county可能不存在。\n",
    "\n",
    "这些人的观点呢？"
   ]
  },
  {
   "cell_type": "code",
   "execution_count": 27,
   "metadata": {},
   "outputs": [],
   "source": [
    "users_opinion_with_location = users_loc.join(users_opinion)"
   ]
  },
  {
   "cell_type": "code",
   "execution_count": 28,
   "metadata": {},
   "outputs": [
    {
     "data": {
      "text/plain": [
       "3729604"
      ]
     },
     "execution_count": 28,
     "metadata": {},
     "output_type": "execute_result"
    }
   ],
   "source": [
    "len(users_opinion_with_location)"
   ]
  },
  {
   "cell_type": "code",
   "execution_count": 29,
   "metadata": {},
   "outputs": [
    {
     "data": {
      "text/plain": [
       "B    1709536\n",
       "T    1466822\n",
       "U     324528\n",
       "Name: Camp, dtype: int64"
      ]
     },
     "execution_count": 29,
=======
       "      <th>12</th>\n",
       "      <td>357494668</td>\n",
       "      <td>Middletown, CT</td>\n",
       "      <td>middletown, ct</td>\n",
       "      <td>ZigStefanski</td>\n",
       "      <td>CT</td>\n",
       "    </tr>\n",
       "    <tr>\n",
       "      <th>14</th>\n",
       "      <td>705319350</td>\n",
       "      <td>Cassville, MO</td>\n",
       "      <td>cassville, mo</td>\n",
       "      <td>Rajean57</td>\n",
       "      <td>MO</td>\n",
       "    </tr>\n",
       "    <tr>\n",
       "      <th>15</th>\n",
       "      <td>958672653493194752</td>\n",
       "      <td>Washington, DC</td>\n",
       "      <td>washington, dc</td>\n",
       "      <td>Astrologic007</td>\n",
       "      <td>DC</td>\n",
       "    </tr>\n",
       "    <tr>\n",
       "      <th>16</th>\n",
       "      <td>1175465840591986691</td>\n",
       "      <td>New York, NY</td>\n",
       "      <td>new york, ny</td>\n",
       "      <td>yanggang4USA</td>\n",
       "      <td>NY</td>\n",
       "    </tr>\n",
       "    <tr>\n",
       "      <th>18</th>\n",
       "      <td>870879467660595200</td>\n",
       "      <td>Tampa, FL</td>\n",
       "      <td>tampa, fl</td>\n",
       "      <td>sun_salutati0ns</td>\n",
       "      <td>FL</td>\n",
       "    </tr>\n",
       "    <tr>\n",
       "      <th>23</th>\n",
       "      <td>1185979603333996544</td>\n",
       "      <td>Las Vegas, NV</td>\n",
       "      <td>las vegas, nv</td>\n",
       "      <td>GreatScienski</td>\n",
       "      <td>NV</td>\n",
       "    </tr>\n",
       "    <tr>\n",
       "      <th>24</th>\n",
       "      <td>139330741</td>\n",
       "      <td>San Diego, CA</td>\n",
       "      <td>san diego, ca</td>\n",
       "      <td>husseinabbas</td>\n",
       "      <td>CA</td>\n",
       "    </tr>\n",
       "    <tr>\n",
       "      <th>30</th>\n",
       "      <td>16128098</td>\n",
       "      <td>Columbus, OH</td>\n",
       "      <td>columbus, ohio</td>\n",
       "      <td>jackwindsor</td>\n",
       "      <td>OH</td>\n",
       "    </tr>\n",
       "    <tr>\n",
       "      <th>33</th>\n",
       "      <td>25586774</td>\n",
       "      <td>Las Vegas, NV</td>\n",
       "      <td>las vegas, nv</td>\n",
       "      <td>jruggiero86</td>\n",
       "      <td>NV</td>\n",
       "    </tr>\n",
       "    <tr>\n",
       "      <th>40</th>\n",
       "      <td>756903193901162496</td>\n",
       "      <td>Chicago, IL</td>\n",
       "      <td>chicago, il</td>\n",
       "      <td>reesetheone1</td>\n",
       "      <td>IL</td>\n",
       "    </tr>\n",
       "    <tr>\n",
       "      <th>50</th>\n",
       "      <td>506733468</td>\n",
       "      <td>Modesto, CA</td>\n",
       "      <td>modesto, ca</td>\n",
       "      <td>dead_grotty</td>\n",
       "      <td>CA</td>\n",
       "    </tr>\n",
       "    <tr>\n",
       "      <th>60</th>\n",
       "      <td>1117099323987234816</td>\n",
       "      <td>Sterling, IL</td>\n",
       "      <td>sterling, il</td>\n",
       "      <td>INurse22</td>\n",
       "      <td>IL</td>\n",
       "    </tr>\n",
       "    <tr>\n",
       "      <th>65</th>\n",
       "      <td>21522828</td>\n",
       "      <td>Wichita Falls, TX</td>\n",
       "      <td>wichita falls, tx</td>\n",
       "      <td>Turbotest</td>\n",
       "      <td>TX</td>\n",
       "    </tr>\n",
       "    <tr>\n",
       "      <th>66</th>\n",
       "      <td>1213641604788940802</td>\n",
       "      <td>Houston, TX</td>\n",
       "      <td>houston, tx</td>\n",
       "      <td>LazyBuddha2</td>\n",
       "      <td>TX</td>\n",
       "    </tr>\n",
       "    <tr>\n",
       "      <th>69</th>\n",
       "      <td>1190062078112854016</td>\n",
       "      <td>Flagstaff, AZ</td>\n",
       "      <td>flagstaff, az</td>\n",
       "      <td>BillJoh35601902</td>\n",
       "      <td>AZ</td>\n",
       "    </tr>\n",
       "    <tr>\n",
       "      <th>70</th>\n",
       "      <td>478153296</td>\n",
       "      <td>Seattle, WA</td>\n",
       "      <td>seattle</td>\n",
       "      <td>lesbianintell</td>\n",
       "      <td>WA</td>\n",
       "    </tr>\n",
       "    <tr>\n",
       "      <th>77</th>\n",
       "      <td>1566650000</td>\n",
       "      <td>Chicago, IL</td>\n",
       "      <td>chicago, il, usa</td>\n",
       "      <td>Solutioneer72</td>\n",
       "      <td>IL</td>\n",
       "    </tr>\n",
       "    <tr>\n",
       "      <th>91</th>\n",
       "      <td>2753560754</td>\n",
       "      <td>San Diego, CA</td>\n",
       "      <td>san diego, ca</td>\n",
       "      <td>USC017</td>\n",
       "      <td>CA</td>\n",
       "    </tr>\n",
       "    <tr>\n",
       "      <th>124</th>\n",
       "      <td>2909317254</td>\n",
       "      <td>Sebastian, FL</td>\n",
       "      <td>sebastian, fl</td>\n",
       "      <td>aliatra1968</td>\n",
       "      <td>FL</td>\n",
       "    </tr>\n",
       "    <tr>\n",
       "      <th>129</th>\n",
       "      <td>1177030016544247808</td>\n",
       "      <td>Boston, MA</td>\n",
       "      <td>boston, ma</td>\n",
       "      <td>Lisa74308640</td>\n",
       "      <td>MA</td>\n",
       "    </tr>\n",
       "    <tr>\n",
       "      <th>138</th>\n",
       "      <td>3021965294</td>\n",
       "      <td>Spokane Valley, WA</td>\n",
       "      <td>spokane valley, wa</td>\n",
       "      <td>Beau1983</td>\n",
       "      <td>WA</td>\n",
       "    </tr>\n",
       "    <tr>\n",
       "      <th>141</th>\n",
       "      <td>2500036429</td>\n",
       "      <td>Heartland, TX</td>\n",
       "      <td>heartland usa</td>\n",
       "      <td>Truman_Town</td>\n",
       "      <td>TX</td>\n",
       "    </tr>\n",
       "    <tr>\n",
       "      <th>142</th>\n",
       "      <td>920122212</td>\n",
       "      <td>Skokie, IL</td>\n",
       "      <td>skokie, il</td>\n",
       "      <td>MsVarunDhawan</td>\n",
       "      <td>IL</td>\n",
       "    </tr>\n",
       "    <tr>\n",
       "      <th>150</th>\n",
       "      <td>1184079800</td>\n",
       "      <td>New York, NY</td>\n",
       "      <td>upstate new york</td>\n",
       "      <td>Wurpy89</td>\n",
       "      <td>NY</td>\n",
       "    </tr>\n",
       "    <tr>\n",
       "      <th>163</th>\n",
       "      <td>1007426885221937153</td>\n",
       "      <td>Las Vegas, NV</td>\n",
       "      <td>las vegas, nv</td>\n",
       "      <td>thebottlechef</td>\n",
       "      <td>NV</td>\n",
       "    </tr>\n",
       "    <tr>\n",
       "      <th>166</th>\n",
       "      <td>2341977604</td>\n",
       "      <td>Boston, MA</td>\n",
       "      <td>boston, ma</td>\n",
       "      <td>MyPlace4U</td>\n",
       "      <td>MA</td>\n",
       "    </tr>\n",
       "    <tr>\n",
       "      <th>168</th>\n",
       "      <td>2272343592</td>\n",
       "      <td>New York, NY</td>\n",
       "      <td>new york, ny</td>\n",
       "      <td>DanRadzikowski</td>\n",
       "      <td>NY</td>\n",
       "    </tr>\n",
       "    <tr>\n",
       "      <th>195</th>\n",
       "      <td>1938086192</td>\n",
       "      <td>Charlotte, NC</td>\n",
       "      <td>charlotte</td>\n",
       "      <td>Elaineplaywrite</td>\n",
       "      <td>NC</td>\n",
       "    </tr>\n",
       "    <tr>\n",
       "      <th>196</th>\n",
       "      <td>1213601270893666305</td>\n",
       "      <td>Dover, MA</td>\n",
       "      <td>dover, ma</td>\n",
       "      <td>BenjaminHanover</td>\n",
       "      <td>MA</td>\n",
       "    </tr>\n",
       "    <tr>\n",
       "      <th>197</th>\n",
       "      <td>813434352</td>\n",
       "      <td>Westport, CT</td>\n",
       "      <td>westport, ct</td>\n",
       "      <td>DavidMandelbau1</td>\n",
       "      <td>CT</td>\n",
       "    </tr>\n",
       "    <tr>\n",
       "      <th>...</th>\n",
       "      <td>...</td>\n",
       "      <td>...</td>\n",
       "      <td>...</td>\n",
       "      <td>...</td>\n",
       "      <td>...</td>\n",
       "    </tr>\n",
       "    <tr>\n",
       "      <th>1909799</th>\n",
       "      <td>1015407416614088704</td>\n",
       "      <td>Las Vegas,NV</td>\n",
       "      <td>None</td>\n",
       "      <td>None</td>\n",
       "      <td>NV</td>\n",
       "    </tr>\n",
       "    <tr>\n",
       "      <th>1909800</th>\n",
       "      <td>332379918</td>\n",
       "      <td>San Marcos,TX</td>\n",
       "      <td>None</td>\n",
       "      <td>None</td>\n",
       "      <td>TX</td>\n",
       "    </tr>\n",
       "    <tr>\n",
       "      <th>1909801</th>\n",
       "      <td>3244436640</td>\n",
       "      <td>Channahon,IL</td>\n",
       "      <td>None</td>\n",
       "      <td>None</td>\n",
       "      <td>IL</td>\n",
       "    </tr>\n",
       "    <tr>\n",
       "      <th>1909802</th>\n",
       "      <td>704795282186186752</td>\n",
       "      <td>Tucson,AZ</td>\n",
       "      <td>None</td>\n",
       "      <td>None</td>\n",
       "      <td>AZ</td>\n",
       "    </tr>\n",
       "    <tr>\n",
       "      <th>1909803</th>\n",
       "      <td>2878454128</td>\n",
       "      <td>Washington,DC</td>\n",
       "      <td>None</td>\n",
       "      <td>None</td>\n",
       "      <td>DC</td>\n",
       "    </tr>\n",
       "    <tr>\n",
       "      <th>1909804</th>\n",
       "      <td>25369609</td>\n",
       "      <td>Oklahoma City,OK</td>\n",
       "      <td>None</td>\n",
       "      <td>None</td>\n",
       "      <td>OK</td>\n",
       "    </tr>\n",
       "    <tr>\n",
       "      <th>1909805</th>\n",
       "      <td>1025568733375414272</td>\n",
       "      <td>Monahans,TX</td>\n",
       "      <td>None</td>\n",
       "      <td>None</td>\n",
       "      <td>TX</td>\n",
       "    </tr>\n",
       "    <tr>\n",
       "      <th>1909806</th>\n",
       "      <td>1305321805935267840</td>\n",
       "      <td>Bronx,NY</td>\n",
       "      <td>None</td>\n",
       "      <td>None</td>\n",
       "      <td>NY</td>\n",
       "    </tr>\n",
       "    <tr>\n",
       "      <th>1909807</th>\n",
       "      <td>965526764</td>\n",
       "      <td>Reno,NV</td>\n",
       "      <td>None</td>\n",
       "      <td>None</td>\n",
       "      <td>NV</td>\n",
       "    </tr>\n",
       "    <tr>\n",
       "      <th>1909808</th>\n",
       "      <td>1134158947219312640</td>\n",
       "      <td>Philadelphia,PA</td>\n",
       "      <td>None</td>\n",
       "      <td>None</td>\n",
       "      <td>PA</td>\n",
       "    </tr>\n",
       "    <tr>\n",
       "      <th>1909809</th>\n",
       "      <td>167645704</td>\n",
       "      <td>Philadelphia,PA</td>\n",
       "      <td>None</td>\n",
       "      <td>None</td>\n",
       "      <td>PA</td>\n",
       "    </tr>\n",
       "    <tr>\n",
       "      <th>1909810</th>\n",
       "      <td>866228012605460481</td>\n",
       "      <td>Chicago,IL</td>\n",
       "      <td>None</td>\n",
       "      <td>None</td>\n",
       "      <td>IL</td>\n",
       "    </tr>\n",
       "    <tr>\n",
       "      <th>1909811</th>\n",
       "      <td>1056712544</td>\n",
       "      <td>Raleigh,NC</td>\n",
       "      <td>None</td>\n",
       "      <td>None</td>\n",
       "      <td>NC</td>\n",
       "    </tr>\n",
       "    <tr>\n",
       "      <th>1909812</th>\n",
       "      <td>996322123</td>\n",
       "      <td>Pomona,CA</td>\n",
       "      <td>None</td>\n",
       "      <td>None</td>\n",
       "      <td>CA</td>\n",
       "    </tr>\n",
       "    <tr>\n",
       "      <th>1909813</th>\n",
       "      <td>37452603</td>\n",
       "      <td>Bloomington,MN</td>\n",
       "      <td>None</td>\n",
       "      <td>None</td>\n",
       "      <td>MN</td>\n",
       "    </tr>\n",
       "    <tr>\n",
       "      <th>1909814</th>\n",
       "      <td>291440259</td>\n",
       "      <td>Baltimore,MD</td>\n",
       "      <td>None</td>\n",
       "      <td>None</td>\n",
       "      <td>MD</td>\n",
       "    </tr>\n",
       "    <tr>\n",
       "      <th>1909815</th>\n",
       "      <td>1387911752</td>\n",
       "      <td>Birmingham,AL</td>\n",
       "      <td>None</td>\n",
       "      <td>None</td>\n",
       "      <td>AL</td>\n",
       "    </tr>\n",
       "    <tr>\n",
       "      <th>1909816</th>\n",
       "      <td>2421036541</td>\n",
       "      <td>Stanford,CA</td>\n",
       "      <td>None</td>\n",
       "      <td>None</td>\n",
       "      <td>CA</td>\n",
       "    </tr>\n",
       "    <tr>\n",
       "      <th>1909817</th>\n",
       "      <td>2755053011</td>\n",
       "      <td>Dunlap,IN</td>\n",
       "      <td>None</td>\n",
       "      <td>None</td>\n",
       "      <td>IN</td>\n",
       "    </tr>\n",
       "    <tr>\n",
       "      <th>1909818</th>\n",
       "      <td>366469786</td>\n",
       "      <td>Dayton,OH</td>\n",
       "      <td>None</td>\n",
       "      <td>None</td>\n",
       "      <td>OH</td>\n",
       "    </tr>\n",
       "    <tr>\n",
       "      <th>1909819</th>\n",
       "      <td>1271254499756212224</td>\n",
       "      <td>Chicago,IL</td>\n",
       "      <td>None</td>\n",
       "      <td>None</td>\n",
       "      <td>IL</td>\n",
       "    </tr>\n",
       "    <tr>\n",
       "      <th>1909820</th>\n",
       "      <td>1121778743347904517</td>\n",
       "      <td>Irving,TX</td>\n",
       "      <td>None</td>\n",
       "      <td>None</td>\n",
       "      <td>TX</td>\n",
       "    </tr>\n",
       "    <tr>\n",
       "      <th>1909821</th>\n",
       "      <td>1298478419282292737</td>\n",
       "      <td>Vancouver,WA</td>\n",
       "      <td>None</td>\n",
       "      <td>None</td>\n",
       "      <td>WA</td>\n",
       "    </tr>\n",
       "    <tr>\n",
       "      <th>1909822</th>\n",
       "      <td>1035880915</td>\n",
       "      <td>Seattle,WA</td>\n",
       "      <td>None</td>\n",
       "      <td>None</td>\n",
       "      <td>WA</td>\n",
       "    </tr>\n",
       "    <tr>\n",
       "      <th>1909823</th>\n",
       "      <td>4355787923</td>\n",
       "      <td>Salt Lake City,UT</td>\n",
       "      <td>None</td>\n",
       "      <td>None</td>\n",
       "      <td>UT</td>\n",
       "    </tr>\n",
       "    <tr>\n",
       "      <th>1909824</th>\n",
       "      <td>2349621825</td>\n",
       "      <td>Coralville,IA</td>\n",
       "      <td>None</td>\n",
       "      <td>None</td>\n",
       "      <td>IA</td>\n",
       "    </tr>\n",
       "    <tr>\n",
       "      <th>1909825</th>\n",
       "      <td>4914240707</td>\n",
       "      <td>Avon Lake,OH</td>\n",
       "      <td>None</td>\n",
       "      <td>None</td>\n",
       "      <td>OH</td>\n",
       "    </tr>\n",
       "    <tr>\n",
       "      <th>1909826</th>\n",
       "      <td>17518693</td>\n",
       "      <td>Denver,CO</td>\n",
       "      <td>None</td>\n",
       "      <td>None</td>\n",
       "      <td>CO</td>\n",
       "    </tr>\n",
       "    <tr>\n",
       "      <th>1909827</th>\n",
       "      <td>424482160</td>\n",
       "      <td>Richmond,VA</td>\n",
       "      <td>None</td>\n",
       "      <td>None</td>\n",
       "      <td>VA</td>\n",
       "    </tr>\n",
       "    <tr>\n",
       "      <th>1909828</th>\n",
       "      <td>829540588395560960</td>\n",
       "      <td>Dallas,TX</td>\n",
       "      <td>None</td>\n",
       "      <td>None</td>\n",
       "      <td>TX</td>\n",
       "    </tr>\n",
       "  </tbody>\n",
       "</table>\n",
       "<p>3450447 rows × 5 columns</p>\n",
       "</div>"
      ],
      "text/plain": [
       "                         uid              county                 loc  \\\n",
       "12                 357494668      Middletown, CT      middletown, ct   \n",
       "14                 705319350       Cassville, MO       cassville, mo   \n",
       "15        958672653493194752      Washington, DC      washington, dc   \n",
       "16       1175465840591986691        New York, NY        new york, ny   \n",
       "18        870879467660595200           Tampa, FL           tampa, fl   \n",
       "23       1185979603333996544       Las Vegas, NV       las vegas, nv   \n",
       "24                 139330741       San Diego, CA       san diego, ca   \n",
       "30                  16128098        Columbus, OH      columbus, ohio   \n",
       "33                  25586774       Las Vegas, NV       las vegas, nv   \n",
       "40        756903193901162496         Chicago, IL         chicago, il   \n",
       "50                 506733468         Modesto, CA         modesto, ca   \n",
       "60       1117099323987234816        Sterling, IL        sterling, il   \n",
       "65                  21522828   Wichita Falls, TX   wichita falls, tx   \n",
       "66       1213641604788940802         Houston, TX         houston, tx   \n",
       "69       1190062078112854016       Flagstaff, AZ       flagstaff, az   \n",
       "70                 478153296         Seattle, WA             seattle   \n",
       "77                1566650000         Chicago, IL    chicago, il, usa   \n",
       "91                2753560754       San Diego, CA       san diego, ca   \n",
       "124               2909317254       Sebastian, FL       sebastian, fl   \n",
       "129      1177030016544247808          Boston, MA          boston, ma   \n",
       "138               3021965294  Spokane Valley, WA  spokane valley, wa   \n",
       "141               2500036429       Heartland, TX       heartland usa   \n",
       "142                920122212          Skokie, IL          skokie, il   \n",
       "150               1184079800        New York, NY    upstate new york   \n",
       "163      1007426885221937153       Las Vegas, NV       las vegas, nv   \n",
       "166               2341977604          Boston, MA          boston, ma   \n",
       "168               2272343592        New York, NY        new york, ny   \n",
       "195               1938086192       Charlotte, NC           charlotte   \n",
       "196      1213601270893666305           Dover, MA           dover, ma   \n",
       "197                813434352        Westport, CT        westport, ct   \n",
       "...                      ...                 ...                 ...   \n",
       "1909799  1015407416614088704        Las Vegas,NV                None   \n",
       "1909800            332379918       San Marcos,TX                None   \n",
       "1909801           3244436640        Channahon,IL                None   \n",
       "1909802   704795282186186752           Tucson,AZ                None   \n",
       "1909803           2878454128       Washington,DC                None   \n",
       "1909804             25369609    Oklahoma City,OK                None   \n",
       "1909805  1025568733375414272         Monahans,TX                None   \n",
       "1909806  1305321805935267840            Bronx,NY                None   \n",
       "1909807            965526764             Reno,NV                None   \n",
       "1909808  1134158947219312640     Philadelphia,PA                None   \n",
       "1909809            167645704     Philadelphia,PA                None   \n",
       "1909810   866228012605460481          Chicago,IL                None   \n",
       "1909811           1056712544          Raleigh,NC                None   \n",
       "1909812            996322123           Pomona,CA                None   \n",
       "1909813             37452603      Bloomington,MN                None   \n",
       "1909814            291440259        Baltimore,MD                None   \n",
       "1909815           1387911752       Birmingham,AL                None   \n",
       "1909816           2421036541         Stanford,CA                None   \n",
       "1909817           2755053011           Dunlap,IN                None   \n",
       "1909818            366469786           Dayton,OH                None   \n",
       "1909819  1271254499756212224          Chicago,IL                None   \n",
       "1909820  1121778743347904517           Irving,TX                None   \n",
       "1909821  1298478419282292737        Vancouver,WA                None   \n",
       "1909822           1035880915          Seattle,WA                None   \n",
       "1909823           4355787923   Salt Lake City,UT                None   \n",
       "1909824           2349621825       Coralville,IA                None   \n",
       "1909825           4914240707        Avon Lake,OH                None   \n",
       "1909826             17518693           Denver,CO                None   \n",
       "1909827            424482160         Richmond,VA                None   \n",
       "1909828   829540588395560960           Dallas,TX                None   \n",
       "\n",
       "                    name state  \n",
       "12          ZigStefanski    CT  \n",
       "14              Rajean57    MO  \n",
       "15         Astrologic007    DC  \n",
       "16          yanggang4USA    NY  \n",
       "18       sun_salutati0ns    FL  \n",
       "23         GreatScienski    NV  \n",
       "24          husseinabbas    CA  \n",
       "30           jackwindsor    OH  \n",
       "33           jruggiero86    NV  \n",
       "40          reesetheone1    IL  \n",
       "50           dead_grotty    CA  \n",
       "60              INurse22    IL  \n",
       "65             Turbotest    TX  \n",
       "66           LazyBuddha2    TX  \n",
       "69       BillJoh35601902    AZ  \n",
       "70         lesbianintell    WA  \n",
       "77         Solutioneer72    IL  \n",
       "91                USC017    CA  \n",
       "124          aliatra1968    FL  \n",
       "129         Lisa74308640    MA  \n",
       "138             Beau1983    WA  \n",
       "141          Truman_Town    TX  \n",
       "142        MsVarunDhawan    IL  \n",
       "150              Wurpy89    NY  \n",
       "163        thebottlechef    NV  \n",
       "166            MyPlace4U    MA  \n",
       "168       DanRadzikowski    NY  \n",
       "195      Elaineplaywrite    NC  \n",
       "196      BenjaminHanover    MA  \n",
       "197      DavidMandelbau1    CT  \n",
       "...                  ...   ...  \n",
       "1909799             None    NV  \n",
       "1909800             None    TX  \n",
       "1909801             None    IL  \n",
       "1909802             None    AZ  \n",
       "1909803             None    DC  \n",
       "1909804             None    OK  \n",
       "1909805             None    TX  \n",
       "1909806             None    NY  \n",
       "1909807             None    NV  \n",
       "1909808             None    PA  \n",
       "1909809             None    PA  \n",
       "1909810             None    IL  \n",
       "1909811             None    NC  \n",
       "1909812             None    CA  \n",
       "1909813             None    MN  \n",
       "1909814             None    MD  \n",
       "1909815             None    AL  \n",
       "1909816             None    CA  \n",
       "1909817             None    IN  \n",
       "1909818             None    OH  \n",
       "1909819             None    IL  \n",
       "1909820             None    TX  \n",
       "1909821             None    WA  \n",
       "1909822             None    WA  \n",
       "1909823             None    UT  \n",
       "1909824             None    IA  \n",
       "1909825             None    OH  \n",
       "1909826             None    CO  \n",
       "1909827             None    VA  \n",
       "1909828             None    TX  \n",
       "\n",
       "[3450447 rows x 5 columns]"
      ]
     },
     "execution_count": 85,
>>>>>>> a35d0b848c73bb944c535aa912a8e42d9dc18c7c
     "metadata": {},
     "output_type": "execute_result"
    }
   ],
   "source": [
    "final_table"
   ]
  },
  {
<<<<<<< HEAD
   "cell_type": "code",
   "execution_count": 30,
   "metadata": {},
   "outputs": [
    {
     "data": {
      "text/plain": [
       "B    0.488315\n",
       "T    0.418986\n",
       "U    0.092699\n",
       "Name: Camp, dtype: float64"
      ]
     },
     "execution_count": 30,
     "metadata": {},
     "output_type": "execute_result"
    }
   ],
=======
   "cell_type": "markdown",
   "metadata": {},
>>>>>>> a35d0b848c73bb944c535aa912a8e42d9dc18c7c
   "source": [
    "# Rural and Urban"
   ]
  },
  {
   "cell_type": "code",
<<<<<<< HEAD
   "execution_count": 31,
=======
   "execution_count": null,
>>>>>>> a35d0b848c73bb944c535aa912a8e42d9dc18c7c
   "metadata": {},
   "outputs": [],
   "source": [
    "rural_table = pd.read_csv(\"data/ruralurbancodes2013.csv\")\n",
    "rural_table[\"Population\"] = rural_table[\"Population_2010\"].apply(lambda x: int(x.replace(\",\", \"\")))\n",
    "rural_table[\"is_rural\"] = rural_table[\"RUCC_2013\"].apply(lambda x: 1 if x >= 3 else 0) # 分类，大于3以上是大城市\n",
    "# rural_table[rural_table.County_Name==\"Orleans Parish\"]\n",
    "\n",
<<<<<<< HEAD
    "_dict_city_to_county = {\n",
    "    'Chicago, IL': 'Cook',\n",
    "    'Washington, DC': 'District of Columbia',\n",
    "    'Atlanta, GA': 'Fulton',\n",
    "    'Boston, MA': 'Suffolk',\n",
    "    'Seattle, WA': 'King',\n",
    "    'Brooklyn, NY': 'New York',\n",
    "    'Miami, FL': 'Miami-Dade',\n",
    "    'Las Vegas, NV': 'Clark',\n",
    "    'Portland, OR': 'Multnomah',\n",
    "    'Pittsburgh, PA': 'Allegheny',\n",
    "    'San Antonio, TX': 'Bexar',\n",
    "    'Nashville, TN': 'Davidson',\n",
    "    'Orlando, FL': 'Orange',\n",
    "    'Phoenix, AZ': 'Maricopa',\n",
    "    'Indianapolis, IN': 'Marion',\n",
    "    'Columbus, OH': 'Franklin',\n",
    "    'Minneapolis, MN': 'Hennepin',\n",
    "    'St Louis, MO': 'St. Louis',\n",
    "    'Charlotte, NC': 'Mecklenburg',\n",
    "    'Cleveland, OH': 'Cuyahoga',\n",
    "    'Detroit, MI': 'Wayne',\n",
    "    'Tampa, FL': 'Hillsborough',\n",
    "    'New Orleans, LA': 'Orleans',\n",
    "    'Kansas City, MO': 'Jackson',\n",
    "    'Cincinnati, OH': 'Hamilton'\n",
    "}\n",
    "    \n",
    "def city_to_county(state_name, city_name):\n",
    "    return _dict_city_to_county.get(f\"{city_name}, {state_name}\", city_name)"
   ]
  },
  {
   "cell_type": "code",
   "execution_count": 32,
   "metadata": {
    "tags": []
   },
   "outputs": [
    {
     "data": {
      "application/vnd.jupyter.widget-view+json": {
       "model_id": "48bae07d58a2452ebf22499877c8c007",
       "version_major": 2,
       "version_minor": 0
      },
      "text/plain": [
       "HBox(children=(FloatProgress(value=0.0, max=51.0), HTML(value='')))"
      ]
     },
     "metadata": {},
     "output_type": "display_data"
    },
    {
     "name": "stdout",
     "output_type": "stream",
     "text": [
      "\n"
     ]
    }
   ],
   "source": [
    "from collections import Counter\n",
=======
    "# def county_to_rural(state_name, county_name):\n",
    "#     try:\n",
    "#         return rural_table[(rural_table[\"State\"]==state_name) & (rural_table[\"county\"]==county_name)][\"is_rural\"].iloc[0]\n",
    "#     except:\n",
    "#         return f\"cannot find the loc ({state_name}, {county_name})\"\n",
>>>>>>> a35d0b848c73bb944c535aa912a8e42d9dc18c7c
    "\n",
    "\n",
<<<<<<< HEAD
    "for _state in tqdm(USA_STATES):\n",
    "    _users = users_loc[users_loc.state==_state].copy()\n",
    "    _users[\"county\"] = _users[\"county\"].apply(lambda x: city_to_county(_state, x))\n",
    "    _users[\"is_rural\"] = _users[\"county\"].apply(lambda x: dict_state_county_is_rural[_state].get(x, -1))\n",
    "    _users.to_csv(f\"data/is_rural/{_state}.csv\")\n",
    "#     for row in _users.itertuples():\n",
    "#         county = getattr(row, \"county\")\n",
    "#         is_rural = getattr(row, \"is_rural\")\n",
    "#         if is_rural == -1:\n",
    "#             cannot_find_county[f\"{county}, {_state}\"] += 1\n",
    "#         else:\n",
    "#             find_county[f\"{county}, {_state}\"] += 1\n",
    "    \n",
    "    \n",
    "# -1 represents that we cannot map the city (from BingMap) to county\n",
    "# So we need more infomation between city and county"
   ]
  },
  {
   "cell_type": "code",
   "execution_count": 34,
   "metadata": {},
   "outputs": [
    {
     "name": "stdout",
     "output_type": "stream",
     "text": [
      "0\n",
      "[]\n"
     ]
    },
    {
     "data": {
      "text/plain": [
       "[]"
      ]
     },
     "execution_count": 34,
     "metadata": {},
     "output_type": "execute_result"
    }
   ],
   "source": [
    "print(len(cannot_find_county))\n",
    "print(cannot_find_county.most_common(10))\n",
    "find_county.most_common(10)"
   ]
  },
  {
   "cell_type": "code",
   "execution_count": 35,
   "metadata": {
    "collapsed": true,
    "tags": []
   },
   "outputs": [
    {
     "data": {
      "application/vnd.jupyter.widget-view+json": {
       "model_id": "2125f5419f874adebb42a6b05da342e4",
       "version_major": 2,
       "version_minor": 0
      },
      "text/plain": [
       "HBox(children=(FloatProgress(value=0.0, max=51.0), HTML(value='')))"
      ]
     },
     "metadata": {},
     "output_type": "display_data"
    },
    {
     "name": "stdout",
     "output_type": "stream",
     "text": [
      "NY,0.3613590419126716,0.3643949979210784,0.5440145085131693,0.5415201874945206\n",
      "\n",
      "DC,0.3448378176293958,0.3448378176293958,0.5686411811481539,0.5686411811481539\n",
      "\n",
      "IN,0.4327480536690409,0.4716810892234451,0.47295842305781016,0.43540797795527725\n",
      "\n",
      "AR,0.5335570469798657,0.570550996195591,0.3865771812080537,0.3546464547996374\n",
      "\n",
      "WY,0.441340782122905,0.441340782122905,0.4506517690875233,0.4506517690875233\n",
      "\n",
      "ME,0.22535211267605634,0.3873607872307055,0.704225352112676,0.5837573633412703\n",
      "\n",
      "TX,0.4496692723992784,0.43858799819869854,0.45076024396529507,0.46273510744040314\n",
      "\n",
      "NH,0.43870967741935485,0.3402284316076978,0.4838709677419355,0.6282869289145069\n",
      "\n",
      "CO,0.3406117223332114,0.35915281596453946,0.5649286699119277,0.548859133188496\n",
      "\n",
      "CA,0.3670594533150048,0.37015053450875,0.535608543935709,0.5322714478892899\n",
      "\n",
      "IL,0.36802855164331755,0.3714298348113985,0.5320850867380458,0.5271464822736329\n",
      "\n",
      "WA,0.3095008987091269,0.3395060159379923,0.5982679424099929,0.5693796205435809\n",
      "\n",
      "VA,0.4016715180382817,0.39847161921743474,0.5081591249889742,0.5111188469352501\n",
      "\n",
      "FL,0.4606307484009524,0.4750656634250198,0.44745319576077314,0.43140852342627123\n",
      "\n",
      "MA,0.33893117309772075,0.3420533828717032,0.5670414430591548,0.5622413846101719\n",
      "\n",
      "OR,0.30517150085309175,0.3518322417274053,0.6001941519091605,0.5561057198898988\n",
      "\n",
      "AZ,0.4343304747113242,0.4566263329161368,0.4750827199675873,0.45246919436839494\n",
      "\n",
      "MT,0.3317793317793318,0.3317793317793318,0.5695415695415695,0.5695415695415695\n",
      "\n",
      "MN,0.32634565371581686,0.35202400846778725,0.5803451808653164,0.5564404442070766\n",
      "\n",
      "NE,0.42564213252752,0.5247774410470608,0.48435139218648826,0.43639140386086733\n",
      "\n",
      "TN,0.43182990201912014,0.4641302780805854,0.48058233170693004,0.45359384211698595\n",
      "\n",
      "OH,0.4091479450642006,0.42525319126275396,0.49641610945906456,0.48055660643843395\n",
      "\n",
      "NJ,0.4592445328031809,0.4531481458270274,0.44731610337972166,0.45045198943074655\n",
      "\n",
      "NV,0.47168090871196333,0.4837592710408644,0.43512922050854524,0.4256581637383017\n",
      "\n",
      "KY,0.56071964017991,0.5546412465594379,0.3448275862068966,0.34996778483425195\n",
      "\n",
      "UT,0.6342857142857142,0.6296115272858447,0.3142857142857143,0.31302242050196577\n",
      "\n",
      "NC,0.4024741506646972,0.4360260565444769,0.4998522895125554,0.46739841197847426\n",
      "\n",
      "SC,0.4841228526808954,0.49016232678296967,0.4292686100989068,0.42247706203789837\n",
      "\n",
      "PA,0.37938710867435854,0.4018827323326808,0.5251300708552238,0.5054984305538461\n",
      "\n",
      "NM,0.29561078794288737,0.38912257882501905,0.6308831306187203,0.5392871235056894\n",
      "\n",
      "KS,0.4619056036768605,0.49290664278750185,0.44811737670143187,0.436937919731962\n",
      "\n",
      "GA,0.40587483285086623,0.42578813001856386,0.4917637723539006,0.47774736752874886\n",
      "\n",
      "MI,0.40934302007655654,0.4147773929737937,0.49265682368564956,0.48908428284673366\n",
      "\n",
      "WI,0.3883822610868207,0.4014536977039426,0.5162398500936914,0.5059360132495199\n",
      "\n",
      "AK,0.4508265620622023,0.4508265620622023,0.4564303726534043,0.4564303726534043\n",
      "\n",
      "MS,0.4775561097256858,0.5998414329079409,0.42975893599334997,0.3145876268604333\n",
      "\n",
      "MD,0.38720968733740124,0.38720968733740124,0.5078756917837378,0.5078756917837378\n",
      "\n",
      "LA,0.4448987445283563,0.472945169432797,0.4559622877483284,0.42687005991076277\n",
      "\n",
      "HI,0.44477286869943994,0.44477286869943994,0.45332918481642814,0.45332918481642814\n",
      "\n",
      "MO,0.3853913931809475,0.4388993714862125,0.5210828757502235,0.4673530979083296\n",
      "\n",
      "AL,0.5100031423483817,0.509580519642846,0.4068293704828742,0.40671784183563303\n",
      "\n",
      "CT,0.35108398231951166,0.35550280865760076,0.5539886339717954,0.5472127116143123\n",
      "\n",
      "OK,0.4785628422599172,0.5244137518571333,0.43475357285962335,0.39525697629917167\n",
      "\n",
      "IA,0.3855258708150152,0.3855258708150152,0.5228271897193101,0.5228271897193101\n",
      "\n",
      "WV,0.5657894736842105,0.5644360786558764,0.40789473684210525,0.4109995842600482\n",
      "\n",
      "RI,0.34832756632064593,0.34832756632064593,0.5605536332179931,0.5605536332179931\n",
      "\n",
      "SD,0.4696969696969697,0.4696969696969697,0.4727272727272727,0.4727272727272727\n",
      "\n",
      "VT,0.4036144578313253,0.4036144578313253,0.536144578313253,0.536144578313253\n",
      "\n",
      "ND,0.4826325411334552,0.4826325411334552,0.44424131627056673,0.44424131627056673\n",
      "\n",
      "ID,0.4074832464631422,0.5155201185557337,0.5022338049143709,0.4005034877126258\n",
      "\n",
      "DE,0.3956043956043956,0.3956043956043956,0.510989010989011,0.510989010989011\n",
      "\n",
      "\n"
     ]
    }
   ],
   "source": [
    "with open('data/rescaling_20201103_model3/3class_50.txt','w') as _file:\n",
    "    for _state in tqdm(USA_STATES):\n",
    "        users_county = pd.read_csv(\"data/is_rural/\" + _state + \".csv\", index_col=\"uid\")\n",
    "        users_county.index = users_county.index.map(str)\n",
    "        users_county = users_county.join(users_opinion)\n",
    "        groups = dict(users_county.groupby([\"is_rural\", \"Camp\"]).size())\n",
    "        # print(_state, groups) \n",
    "        w1 = rural_count.get((_state, 1), 0) / (rural_count.get((_state, 1), 0) + rural_count.get((_state, 0), 0))\n",
    "        w0 = 1 - w1\n",
    "        groups_T_H = dict(users_county[users_county.is_rural != -1].groupby(\"Camp\").size())\n",
    "        # print(groups_T_H)\n",
    "        proT = groups_T_H.get(\"T\", 0) / (groups_T_H.get(\"T\", 0) + groups_T_H.get(\"B\", 0)+groups_T_H.get(\"U\", 0))\n",
    "        proB = groups_T_H.get(\"B\", 0) / (groups_T_H.get(\"T\", 0) + groups_T_H.get(\"B\", 0)+groups_T_H.get(\"U\", 0))\n",
    "\n",
    "        C1=[]\n",
    "        for i in ['T','B','U']:\n",
    "            try:\n",
    "                C1.append(groups[(1, i)])\n",
    "            except:\n",
    "                C1.append(0)\n",
    "        C0=[]\n",
    "        for i in ['T','B','U']:\n",
    "            try:\n",
    "                C0.append(groups[(0, i)])\n",
    "            except:\n",
    "                C0.append(0)\n",
    "        \n",
    "        if (0, 'T') not in groups: # No urban people support Trump!\n",
    "            pro_T_1 = groups[(1, 'T')] / sum(C1)\n",
    "            rst = pro_T_1\n",
    "        elif (1, 'T') not in groups: # No rural people support Trump!\n",
    "            pro_T_0 = groups[(0, 'T')] / sum(C0)\n",
    "            rst = pro_T_0\n",
    "        else:\n",
    "            pro_T_0 = groups[(0, 'T')] / sum(C0)\n",
    "            pro_T_1 = groups[(1, 'T')] / sum(C1)\n",
    "            rst = pro_T_1 * w1 + pro_T_0 * w0\n",
    "            \n",
    "        if (0, 'B') not in groups: # No urban people support Biden!\n",
    "            pro_B_1 = groups[(1, 'B')] / sum(C1)\n",
    "            rstB = pro_B_1\n",
    "        elif (1, 'B') not in groups: # No rural people support Biden!\n",
    "            pro_B_0 = groups[(0, 'B')] / sum(C0)\n",
    "            rstB = pro_B_0\n",
    "        else:\n",
    "            pro_B_0 = groups[(0, 'B')] /sum(C0)\n",
    "            pro_B_1 = groups[(1, 'B')] / sum(C1)\n",
    "            rstB = pro_B_1 * w1 + pro_B_0 * w0\n",
    "            \n",
    "        \n",
    "        _file.write(_state+','+str(proT)+','+str(rst)+','+str(proB)+','+str(rstB )+'\\n')\n",
    "        print(_state+','+str(proT)+','+str(rst)+','+str(proB)+','+str(rstB )+'\\n')\n",
    "        #print(f\"{_state}, Census (rural areas): {w1 * 100:.2f}%, Trump: {proT * 100:.2f}%, After rescaling: {rst * 100:.2f}%\")"
   ]
  },
  {
   "cell_type": "code",
   "execution_count": 48,
   "metadata": {},
   "outputs": [],
   "source": [
    "polls=pd.read_csv('data/aggregated_poll.txt',delimiter=',')\n",
    "rescaled_results=pd.read_csv('data/rescaling_20201103_model3/3class_50.txt',delimiter=',')\n",
    "#polls.Trump=polls.Trump.map(float)"
=======
    "dict_state_county_is_rural = defaultdict(dict)\n",
    "\n",
    "for row in rural_table.itertuples():\n",
    "    State = getattr(row, \"State\")\n",
    "    county = getattr(row, \"County_Name\")\n",
    "    is_rural = getattr(row, \"is_rural\")\n",
    "    if county != \"District of Columbia\":\n",
    "        county = \" \".join(county.split()[: -1])\n",
    "    dict_state_county_is_rural[State][county] = is_rural\n",
    "    \n",
    "# print(dict_state_county_is_rural[\"LA\"])\n",
    "\n",
    "rural_population = rural_table.groupby([\"State\", \"is_rural\"]).sum()[\"Population\"]\n",
    "rural_count = dict(rural_population)"
>>>>>>> a35d0b848c73bb944c535aa912a8e42d9dc18c7c
   ]
  },
  {
   "cell_type": "code",
   "execution_count": 49,
   "metadata": {},
   "outputs": [],
   "source": [
<<<<<<< HEAD
    "differencies=[]\n",
    "for i in polls['state']:\n",
    "    _poll=polls[polls['state']==i]\n",
    "    _our=rescaled_results[rescaled_results['state']==i]\n",
    "    df=[i,round(np.array(_poll['Biden'])[0]-np.array(_poll['Trump'])[0],3),\n",
    "       round((np.array(_our['Bafter']))[0]*100-np.array(_our['Tafter'])[0]*100,3),\n",
    "       round((np.array(_our['Bbefore']))[0]*100-np.array(_our['Tbefore'])[0]*100,3)]\n",
    "    differencies.append(df)\n",
    "    "
=======
    "rural_table"
>>>>>>> a35d0b848c73bb944c535aa912a8e42d9dc18c7c
   ]
  },
  {
   "cell_type": "code",
   "execution_count": 50,
   "metadata": {},
   "outputs": [],
   "source": [
<<<<<<< HEAD
    "pd.DataFrame(differencies,columns=['state','polls','before','after']).to_csv('data/rescaling_20201103_model3/point_differences_50.csv')"
=======
    "## Load the users' opinions and locations\n",
    "\n",
    "1. 累计预测模型结果（并没有细化到州）\n",
    "2. 识别到地理位置的用户的观点（也可以看看全局结果）\n",
    "3. 根据用户地理位置的经济状况，rescale后的结果"
>>>>>>> a35d0b848c73bb944c535aa912a8e42d9dc18c7c
   ]
  },
  {
   "cell_type": "code",
<<<<<<< HEAD
   "execution_count": 51,
   "metadata": {},
   "outputs": [],
   "source": [
    "result2=pd.DataFrame(differencies,columns=['state','polls','before','after'])"
=======
   "execution_count": null,
   "metadata": {},
   "outputs": [],
   "source": [
    "# 载入用户观点\n",
    "\n",
    "# load users' opinion\n",
    "# users_opinion = pd.read_csv(\"data/tweetid_userid_pro_hillary.csv\")\n",
    "import pendulum\n",
    "users_opinion = defaultdict(lambda: [0, 0])\n",
    "# set_users = set(users_loc.index)\n",
    "# start = pendulum.datetime(2016, 9, 1)\n",
    "\n",
    "# election date: 2016-11-8\n",
    "# for line in tqdm(open(\"data/tweetid_userid_pro_hillary.csv\")):\n",
    "#     w = line.strip().split(\",\")\n",
    "#     uid = int(w[0])\n",
    "#     if uid in set_users:\n",
    "#         if float(w[2]) < 0.5:\n",
    "#             users_opinion[uid][0] += 1\n",
    "#         else:\n",
    "#             users_opinion[uid][1] += 1\n",
    "\n",
    "users_opinion = []\n",
    "i = 0\n",
    "for line in tqdm(open(\"data/cul01-2020-07-01.csv\")):\n",
    "    w = line.strip().split(\",\")\n",
    "    i += 1\n",
    "    if i == 1:\n",
    "        continue\n",
    "    uid = str(w[0])\n",
    "    users_opinion.append({\n",
    "        \"uid\": uid,\n",
    "        \"Camp\": \"T\" if int(w[2]) > int(w[1]) else \"B\" \n",
    "    })\n",
    "users_opinion = pd.DataFrame(users_opinion).set_index(\"uid\")\n",
    "users_opinion"
>>>>>>> a35d0b848c73bb944c535aa912a8e42d9dc18c7c
   ]
  },
  {
   "cell_type": "code",
<<<<<<< HEAD
   "execution_count": 53,
   "metadata": {},
   "outputs": [
    {
     "data": {
      "image/png": "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\n",
      "text/plain": [
       "<Figure size 432x288 with 1 Axes>"
      ]
     },
     "metadata": {
      "needs_background": "light"
     },
     "output_type": "display_data"
    }
   ],
   "source": [
    "plt.plot(np.array(result['polls']),np.array(result['after']),'o',label='p=0.70')\n",
    "plt.plot(np.array(result1['polls']),np.array(result1['after']),'o',label='p=0.66')\n",
    "plt.plot(np.array(result2['polls']),np.array(result2['after']),'o',label='p=0.50')\n",
    "\n",
    "plt.xlabel('polls')\n",
    "plt.ylabel('Our')\n",
    "plt.legend()\n",
    "\n",
    "plt.savefig('data/rescaling_20201103_model3/Model3_results.png')\n",
    "plt.show()\n"
   ]
  },
  {
   "cell_type": "code",
   "execution_count": null,
   "metadata": {},
   "outputs": [],
   "source": [
    "users_counties = users_loc.join(users_opinion)"
   ]
  },
  {
   "cell_type": "markdown",
   "metadata": {},
   "source": [
    "## 更细致的county转换 (not finish)"
   ]
  },
  {
   "cell_type": "code",
   "execution_count": null,
   "metadata": {},
   "outputs": [],
   "source": [
    "CityCounty = pd.read_csv(\"data/Borror_CityCounty.csv\")"
   ]
  },
  {
   "cell_type": "code",
   "execution_count": null,
   "metadata": {},
   "outputs": [],
   "source": [
    "CityCounty"
=======
   "execution_count": null,
   "metadata": {},
   "outputs": [],
   "source": [
    "users_opinion[\"Camp\"].value_counts(normalize=True)"
>>>>>>> a35d0b848c73bb944c535aa912a8e42d9dc18c7c
   ]
  },
  {
   "cell_type": "code",
   "execution_count": null,
   "metadata": {},
   "outputs": [],
   "source": [
    "# 载入所有有地理位置信息的用户\n",
    "users_loc = pd.read_csv(\"data/202006-all-users.csv\", usecols=[\"uid\", \"state\", \"county\"],\n",
    "                        dtype={\"uid\": str, \"state\": str, \"county\": str},\n",
    "                        index_col=\"uid\")\n",
    "users_loc = users_loc.dropna()\n",
    "users_loc[\"county\"] = users_loc[\"county\"].apply(lambda x: \" \".join(x.split(\", \")[:-1]))\n",
    "users_loc"
   ]
  },
  {
   "cell_type": "markdown",
   "metadata": {},
   "source": [
<<<<<<< HEAD
    "## 获取全国或是州的三变量比例"
=======
    "3072442个用户拥有state和county信息。一定要有state数据，county可能不存在。\n",
    "\n",
    "这些人的观点呢？"
>>>>>>> a35d0b848c73bb944c535aa912a8e42d9dc18c7c
   ]
  },
  {
   "cell_type": "code",
   "execution_count": null,
<<<<<<< HEAD
   "metadata": {
    "tags": []
   },
=======
   "metadata": {},
>>>>>>> a35d0b848c73bb944c535aa912a8e42d9dc18c7c
   "outputs": [],
   "source": [
    "users_opinion_with_location = users_loc.join(users_opinion)"
   ]
  },
  {
   "cell_type": "code",
   "execution_count": null,
   "metadata": {},
   "outputs": [],
   "source": [
    "users_opinion_with_location"
   ]
  },
  {
   "cell_type": "code",
   "execution_count": null,
   "metadata": {},
   "outputs": [],
   "source": [
    "users_opinion_with_location[\"Camp\"].value_counts()"
   ]
  },
  {
   "cell_type": "code",
   "execution_count": null,
   "metadata": {},
   "outputs": [],
   "source": [
    "users_opinion_with_location[\"Camp\"].value_counts(normalize=True)"
   ]
  },
  {
   "cell_type": "code",
   "execution_count": null,
   "metadata": {},
   "outputs": [],
   "source": [
    "# Since we only know the name of city, but the county. We need convert the city to county.\n",
    "# check some mapping from http://www.statsamerica.org/CityCountyFinder/Default.aspx\n",
    "\n",
    "# 需要更加详细的转换\n",
    "_dict_city_to_county = {\n",
    "    'Chicago, IL': 'Cook',\n",
    "    'Washington, DC': 'District of Columbia',\n",
    "    'Atlanta, GA': 'Fulton',\n",
    "    'Boston, MA': 'Suffolk',\n",
    "    'Seattle, WA': 'King',\n",
    "    'Brooklyn, NY': 'New York',\n",
    "    'Miami, FL': 'Miami-Dade',\n",
    "    'Las Vegas, NV': 'Clark',\n",
    "    'Portland, OR': 'Multnomah',\n",
    "    'Pittsburgh, PA': 'Allegheny',\n",
    "    'San Antonio, TX': 'Bexar',\n",
    "    'Nashville, TN': 'Davidson',\n",
    "    'Orlando, FL': 'Orange',\n",
    "    'Phoenix, AZ': 'Maricopa',\n",
    "    'Indianapolis, IN': 'Marion',\n",
    "    'Columbus, OH': 'Franklin',\n",
    "    'Minneapolis, MN': 'Hennepin',\n",
    "    'St Louis, MO': 'St. Louis',\n",
    "    'Charlotte, NC': 'Mecklenburg',\n",
    "    'Cleveland, OH': 'Cuyahoga',\n",
    "    'Detroit, MI': 'Wayne',\n",
    "    'Tampa, FL': 'Hillsborough',\n",
    "    'New Orleans, LA': 'Orleans',\n",
    "    'Kansas City, MO': 'Jackson',\n",
    "    'Cincinnati, OH': 'Hamilton'\n",
    "}\n",
    "    \n",
    "def city_to_county(state_name, city_name):\n",
    "    return _dict_city_to_county.get(f\"{city_name}, {state_name}\", city_name)"
   ]
  },
  {
   "cell_type": "code",
   "execution_count": null,
<<<<<<< HEAD
   "metadata": {},
=======
   "metadata": {
    "tags": []
   },
>>>>>>> a35d0b848c73bb944c535aa912a8e42d9dc18c7c
   "outputs": [],
   "source": [
    "from collections import Counter\n",
    "\n",
    "find_county = Counter()\n",
    "cannot_find_county = Counter()\n",
    "\n",
    "for _state in tqdm(USA_STATES):\n",
    "    _users = users_loc[users_loc.state==_state].copy()\n",
    "    _users[\"county\"] = _users[\"county\"].apply(lambda x: city_to_county(_state, x))\n",
    "    _users[\"is_rural\"] = _users[\"county\"].apply(lambda x: dict_state_county_is_rural[_state].get(x, -1))\n",
    "    _users.to_csv(f\"data/is_rural/{_state}.csv\")\n",
    "\n",
    "#     for row in _users.itertuples():\n",
    "#         county = getattr(row, \"county\")\n",
    "#         is_rural = getattr(row, \"is_rural\")\n",
    "#         if is_rural == -1:\n",
    "#             cannot_find_county[f\"{county}, {_state}\"] += 1\n",
    "#         else:\n",
    "#             find_county[f\"{county}, {_state}\"] += 1\n",
    "    \n",
    "    \n",
    "# -1 represents that we cannot map the city (from BingMap) to county\n",
    "# So we need more infomation between city and county"
   ]
  },
  {
   "cell_type": "code",
   "execution_count": null,
   "metadata": {},
   "outputs": [],
   "source": [
    "print(len(cannot_find_county))\n",
    "print(cannot_find_county.most_common(10))\n",
    "find_county.most_common(10)"
   ]
  },
  {
<<<<<<< HEAD
   "cell_type": "code",
   "execution_count": null,
   "metadata": {},
   "outputs": [],
=======
   "cell_type": "markdown",
   "metadata": {},
>>>>>>> a35d0b848c73bb944c535aa912a8e42d9dc18c7c
   "source": [
    "从1月~6月，共12988437个用户"
   ]
  },
  {
   "cell_type": "code",
   "execution_count": null,
   "metadata": {
    "tags": []
   },
   "outputs": [],
   "source": [
    "for _state in tqdm(USA_STATES):\n",
    "    users_county = pd.read_csv(\"data/is_rural/\" + _state + \".csv\", index_col=\"uid\")\n",
    "    users_county = users_county.join(users_opinion)\n",
    "    groups = dict(users_county.groupby([\"is_rural\", \"Camp\"]).size())\n",
    "    # print(_state, groups) \n",
    "\n",
    "    w1 = rural_count.get((_state, 1), 0) / (rural_count.get((_state, 1), 0) + rural_count.get((_state, 0), 0))\n",
    "    w0 = 1 - w1\n",
    "    \n",
    "    groups_T_H = dict(users_county[users_county.is_rural != -1].groupby(\"Camp\").size())\n",
    "    # print(groups_T_H)\n",
    "    proT = groups_T_H.get(\"T\", 0) / (groups_T_H.get(\"T\", 0) + groups_T_H.get(\"B\", 0))\n",
    "    \n",
    "\n",
    "    if (0, 'T') not in groups: # No urban people support Trump!\n",
    "        pro_T_1 = groups[(1, 'T')] / (groups[(1, 'T')] + groups[(1, 'B')])\n",
    "        rst = pro_T_1\n",
    "    elif (1, 'T') not in groups: # No rural people support Trump!\n",
    "        pro_T_0 = groups[(0, 'T')] / (groups[(0, 'T')] + groups[(0, 'B')])\n",
    "        rst = pro_T_0\n",
    "    else:\n",
    "        pro_T_0 = groups[(0, 'T')] / (groups[(0, 'T')] + groups[(0, 'B')])\n",
    "        pro_T_1 = groups[(1, 'T')] / (groups[(1, 'T')] + groups[(1, 'B')])\n",
    "        rst = pro_T_1 * w1 + pro_T_0 * w0\n",
    "        \n",
    "    print(f\"{_state}, Census (rural areas): {w1 * 100:.2f}%, Trump: {proT * 100:.2f}%, After rescaling: {rst * 100:.2f}%\")"
   ]
  },
  {
   "cell_type": "code",
   "execution_count": null,
   "metadata": {},
   "outputs": [],
   "source": [
    "users_counties = users_loc.join(users_opinion)"
   ]
  },
  {
   "cell_type": "code",
   "execution_count": null,
<<<<<<< HEAD
   "metadata": {},
   "outputs": [],
=======
   "metadata": {},
   "outputs": [],
   "source": [
    "users_counties"
   ]
  },
  {
   "cell_type": "markdown",
   "metadata": {},
>>>>>>> a35d0b848c73bb944c535aa912a8e42d9dc18c7c
   "source": [
    "## 更细致的county转换"
   ]
  },
  {
   "cell_type": "code",
   "execution_count": null,
   "metadata": {},
   "outputs": [],
   "source": [
    "CityCounty = pd.read_csv(\"data/Borror_CityCounty.csv\")"
   ]
  },
  {
   "cell_type": "code",
   "execution_count": null,
   "metadata": {},
   "outputs": [],
   "source": [
    "CityCounty"
   ]
  },
  {
   "cell_type": "code",
   "execution_count": null,
   "metadata": {},
   "outputs": [],
   "source": [
    "CityCounty.columns"
   ]
  },
  {
   "cell_type": "code",
   "execution_count": null,
   "metadata": {},
   "outputs": [],
   "source": []
  }
 ],
 "metadata": {
  "kernelspec": {
   "display_name": "Python 3",
   "language": "python",
   "name": "python3"
  },
  "language_info": {
   "codemirror_mode": {
    "name": "ipython",
    "version": 3
   },
   "file_extension": ".py",
   "mimetype": "text/x-python",
   "name": "python",
   "nbconvert_exporter": "python",
   "pygments_lexer": "ipython3",
<<<<<<< HEAD
   "version": "3.7.4"
=======
   "version": "3.7.3"
>>>>>>> a35d0b848c73bb944c535aa912a8e42d9dc18c7c
  },
  "latex_envs": {
   "LaTeX_envs_menu_present": true,
   "autoclose": false,
   "autocomplete": true,
   "bibliofile": "biblio.bib",
   "cite_by": "apalike",
   "current_citInitial": 1,
   "eqLabelWithNumbers": true,
   "eqNumInitial": 1,
   "hotkeys": {
    "equation": "Ctrl-E",
    "itemize": "Ctrl-I"
   },
   "labels_anchors": false,
   "latex_user_defs": false,
   "report_style_numbering": false,
   "user_envs_cfg": false
  },
  "toc": {
   "base_numbering": 1,
   "nav_menu": {},
   "number_sections": true,
   "sideBar": true,
   "skip_h1_title": false,
   "title_cell": "Table of Contents",
   "title_sidebar": "Contents",
   "toc_cell": false,
   "toc_position": {},
   "toc_section_display": true,
   "toc_window_display": false
  }
 },
 "nbformat": 4,
 "nbformat_minor": 4
}
