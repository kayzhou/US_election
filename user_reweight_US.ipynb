{
 "cells": [
  {
   "cell_type": "code",
   "execution_count": 1,
   "metadata": {
    "ExecuteTime": {
     "end_time": "2020-05-03T13:57:46.179424Z",
     "start_time": "2020-05-03T13:57:45.374755Z"
    }
   },
   "outputs": [],
   "source": [
    "from my_weapon import *\n",
    "from SQLite_handler import *\n",
    "from tqdm.notebook import tqdm as tqdm\n",
    "\n",
    "plt.style.use('fivethirtyeight')"
   ]
  },
  {
   "cell_type": "markdown",
   "metadata": {},
   "source": [
    "# Rural and Urban"
   ]
  },
  {
   "cell_type": "code",
   "execution_count": 2,
   "metadata": {},
   "outputs": [],
   "source": [
    "rural_table = pd.read_csv(\"data/ruralurbancodes2013.csv\")\n",
    "rural_table[\"Population\"] = rural_table[\"Population_2010\"].apply(lambda x: int(x.replace(\",\", \"\")))\n",
    "rural_table[\"is_rural\"] = rural_table[\"RUCC_2013\"].apply(lambda x: 1 if x >= 3 else 0) # 分类，大于3以上是大城市\n",
    "# rural_table[rural_table.County_Name==\"Orleans Parish\"]\n",
    "\n",
    "# def county_to_rural(state_name, county_name):\n",
    "#     try:\n",
    "#         return rural_table[(rural_table[\"State\"]==state_name) & (rural_table[\"county\"]==county_name)][\"is_rural\"].iloc[0]\n",
    "#     except:\n",
    "#         return f\"cannot find the loc ({state_name}, {county_name})\"\n",
    "\n",
    "from collections import defaultdict\n",
    "dict_state_county_is_rural = defaultdict(dict)\n",
    "\n",
    "for row in rural_table.itertuples():\n",
    "    State = getattr(row, \"State\")\n",
    "    county = getattr(row, \"County_Name\")\n",
    "    is_rural = getattr(row, \"is_rural\")\n",
    "    if county != \"District of Columbia\":\n",
    "        county = \" \".join(county.split()[: -1])\n",
    "    dict_state_county_is_rural[State][county] = is_rural\n",
    "    \n",
    "# print(dict_state_county_is_rural[\"LA\"])\n",
    "\n",
    "rural_population = rural_table.groupby([\"State\", \"is_rural\"]).sum()[\"Population\"]\n",
    "rural_count = dict(rural_population)"
   ]
  },
  {
   "cell_type": "code",
   "execution_count": 3,
   "metadata": {},
   "outputs": [
    {
     "output_type": "execute_result",
     "data": {
      "text/plain": "       FIPS State          County_Name Population_2010  RUCC_2013  \\\n0      1001    AL       Autauga County          54,571          2   \n1      1003    AL       Baldwin County         182,265          3   \n2      1005    AL       Barbour County          27,457          6   \n3      1007    AL          Bibb County          22,915          1   \n4      1009    AL        Blount County          57,322          1   \n...     ...   ...                  ...             ...        ...   \n3216  72145    PR  Vega Baja Municipio          59,662          1   \n3217  72147    PR    Vieques Municipio           9,301          7   \n3218  72149    PR   Villalba Municipio          26,073          2   \n3219  72151    PR    Yabucoa Municipio          37,941          1   \n3220  72153    PR      Yauco Municipio          42,043          2   \n\n                                            Description  Population  is_rural  \n0     Metro - Counties in metro areas of 250,000 to ...       54571         0  \n1     Metro - Counties in metro areas of fewer than ...      182265         1  \n2     Nonmetro - Urban population of 2,500 to 19,999...       27457         1  \n3     Metro - Counties in metro areas of 1 million p...       22915         0  \n4     Metro - Counties in metro areas of 1 million p...       57322         0  \n...                                                 ...         ...       ...  \n3216  Metro - Counties in metro areas of 1 million p...       59662         0  \n3217  Nonmetro - Urban population of 2,500 to 19,999...        9301         1  \n3218  Metro - Counties in metro areas of 250,000 to ...       26073         0  \n3219  Metro - Counties in metro areas of 1 million p...       37941         0  \n3220  Metro - Counties in metro areas of 250,000 to ...       42043         0  \n\n[3221 rows x 8 columns]",
      "text/html": "<div>\n<style scoped>\n    .dataframe tbody tr th:only-of-type {\n        vertical-align: middle;\n    }\n\n    .dataframe tbody tr th {\n        vertical-align: top;\n    }\n\n    .dataframe thead th {\n        text-align: right;\n    }\n</style>\n<table border=\"1\" class=\"dataframe\">\n  <thead>\n    <tr style=\"text-align: right;\">\n      <th></th>\n      <th>FIPS</th>\n      <th>State</th>\n      <th>County_Name</th>\n      <th>Population_2010</th>\n      <th>RUCC_2013</th>\n      <th>Description</th>\n      <th>Population</th>\n      <th>is_rural</th>\n    </tr>\n  </thead>\n  <tbody>\n    <tr>\n      <th>0</th>\n      <td>1001</td>\n      <td>AL</td>\n      <td>Autauga County</td>\n      <td>54,571</td>\n      <td>2</td>\n      <td>Metro - Counties in metro areas of 250,000 to ...</td>\n      <td>54571</td>\n      <td>0</td>\n    </tr>\n    <tr>\n      <th>1</th>\n      <td>1003</td>\n      <td>AL</td>\n      <td>Baldwin County</td>\n      <td>182,265</td>\n      <td>3</td>\n      <td>Metro - Counties in metro areas of fewer than ...</td>\n      <td>182265</td>\n      <td>1</td>\n    </tr>\n    <tr>\n      <th>2</th>\n      <td>1005</td>\n      <td>AL</td>\n      <td>Barbour County</td>\n      <td>27,457</td>\n      <td>6</td>\n      <td>Nonmetro - Urban population of 2,500 to 19,999...</td>\n      <td>27457</td>\n      <td>1</td>\n    </tr>\n    <tr>\n      <th>3</th>\n      <td>1007</td>\n      <td>AL</td>\n      <td>Bibb County</td>\n      <td>22,915</td>\n      <td>1</td>\n      <td>Metro - Counties in metro areas of 1 million p...</td>\n      <td>22915</td>\n      <td>0</td>\n    </tr>\n    <tr>\n      <th>4</th>\n      <td>1009</td>\n      <td>AL</td>\n      <td>Blount County</td>\n      <td>57,322</td>\n      <td>1</td>\n      <td>Metro - Counties in metro areas of 1 million p...</td>\n      <td>57322</td>\n      <td>0</td>\n    </tr>\n    <tr>\n      <th>...</th>\n      <td>...</td>\n      <td>...</td>\n      <td>...</td>\n      <td>...</td>\n      <td>...</td>\n      <td>...</td>\n      <td>...</td>\n      <td>...</td>\n    </tr>\n    <tr>\n      <th>3216</th>\n      <td>72145</td>\n      <td>PR</td>\n      <td>Vega Baja Municipio</td>\n      <td>59,662</td>\n      <td>1</td>\n      <td>Metro - Counties in metro areas of 1 million p...</td>\n      <td>59662</td>\n      <td>0</td>\n    </tr>\n    <tr>\n      <th>3217</th>\n      <td>72147</td>\n      <td>PR</td>\n      <td>Vieques Municipio</td>\n      <td>9,301</td>\n      <td>7</td>\n      <td>Nonmetro - Urban population of 2,500 to 19,999...</td>\n      <td>9301</td>\n      <td>1</td>\n    </tr>\n    <tr>\n      <th>3218</th>\n      <td>72149</td>\n      <td>PR</td>\n      <td>Villalba Municipio</td>\n      <td>26,073</td>\n      <td>2</td>\n      <td>Metro - Counties in metro areas of 250,000 to ...</td>\n      <td>26073</td>\n      <td>0</td>\n    </tr>\n    <tr>\n      <th>3219</th>\n      <td>72151</td>\n      <td>PR</td>\n      <td>Yabucoa Municipio</td>\n      <td>37,941</td>\n      <td>1</td>\n      <td>Metro - Counties in metro areas of 1 million p...</td>\n      <td>37941</td>\n      <td>0</td>\n    </tr>\n    <tr>\n      <th>3220</th>\n      <td>72153</td>\n      <td>PR</td>\n      <td>Yauco Municipio</td>\n      <td>42,043</td>\n      <td>2</td>\n      <td>Metro - Counties in metro areas of 250,000 to ...</td>\n      <td>42043</td>\n      <td>0</td>\n    </tr>\n  </tbody>\n</table>\n<p>3221 rows × 8 columns</p>\n</div>"
     },
     "metadata": {},
     "execution_count": 3
    }
   ],
   "source": [
    "rural_table"
   ]
  },
  {
   "cell_type": "markdown",
   "metadata": {},
   "source": [
    "## Load the users' opinions and locations"
   ]
  },
  {
   "cell_type": "code",
   "execution_count": 8,
   "metadata": {},
   "outputs": [
    {
     "output_type": "execute_result",
     "data": {
      "text/plain": "                         county state\nuid                                  \n140299630              Berkeley    CA\n984471367176241152   Washington    DC\n6497512                 Hoboken    NJ\n2808545932              Detroit    MI\n357494668            Middletown    CT\n...                         ...   ...\n1077379415867314176  Cedar Hill    TX\n1084938692265820160    New York    NY\n264400122              New York    NY\n1177287474              Wareham    MA\n16589559               New York    NY\n\n[3072442 rows x 2 columns]",
      "text/html": "<div>\n<style scoped>\n    .dataframe tbody tr th:only-of-type {\n        vertical-align: middle;\n    }\n\n    .dataframe tbody tr th {\n        vertical-align: top;\n    }\n\n    .dataframe thead th {\n        text-align: right;\n    }\n</style>\n<table border=\"1\" class=\"dataframe\">\n  <thead>\n    <tr style=\"text-align: right;\">\n      <th></th>\n      <th>county</th>\n      <th>state</th>\n    </tr>\n    <tr>\n      <th>uid</th>\n      <th></th>\n      <th></th>\n    </tr>\n  </thead>\n  <tbody>\n    <tr>\n      <th>140299630</th>\n      <td>Berkeley</td>\n      <td>CA</td>\n    </tr>\n    <tr>\n      <th>984471367176241152</th>\n      <td>Washington</td>\n      <td>DC</td>\n    </tr>\n    <tr>\n      <th>6497512</th>\n      <td>Hoboken</td>\n      <td>NJ</td>\n    </tr>\n    <tr>\n      <th>2808545932</th>\n      <td>Detroit</td>\n      <td>MI</td>\n    </tr>\n    <tr>\n      <th>357494668</th>\n      <td>Middletown</td>\n      <td>CT</td>\n    </tr>\n    <tr>\n      <th>...</th>\n      <td>...</td>\n      <td>...</td>\n    </tr>\n    <tr>\n      <th>1077379415867314176</th>\n      <td>Cedar Hill</td>\n      <td>TX</td>\n    </tr>\n    <tr>\n      <th>1084938692265820160</th>\n      <td>New York</td>\n      <td>NY</td>\n    </tr>\n    <tr>\n      <th>264400122</th>\n      <td>New York</td>\n      <td>NY</td>\n    </tr>\n    <tr>\n      <th>1177287474</th>\n      <td>Wareham</td>\n      <td>MA</td>\n    </tr>\n    <tr>\n      <th>16589559</th>\n      <td>New York</td>\n      <td>NY</td>\n    </tr>\n  </tbody>\n</table>\n<p>3072442 rows × 2 columns</p>\n</div>"
     },
     "metadata": {},
     "execution_count": 8
    }
   ],
   "source": [
    "users_loc = pd.read_csv(\"data/202006-all-users.csv\", usecols=[\"uid\", \"state\", \"county\"], index_col=\"uid\")\n",
    "users_loc = users_loc.dropna()\n",
    "users_loc[\"county\"] = users_loc[\"county\"].apply(lambda x: \" \".join(x.split(\", \")[:-1]))\n",
    "users_loc"
   ]
  },
  {
   "cell_type": "code",
   "execution_count": 9,
   "metadata": {},
   "outputs": [],
   "source": [
    "USA_STATES = ['NY', 'DC', 'IN', 'AR', 'WY', 'ME', 'TX', 'NH', 'CO', 'CA', 'IL',\n",
    "             'WA', 'VA', 'FL', 'MA', 'OR', 'AZ', 'MT', 'MN', 'NE', 'TN', 'OH',\n",
    "             'NJ', 'NV', 'KY', 'UT', 'NC', 'SC', 'PA', 'NM', 'KS', 'GA', 'MI',\n",
    "             'WI', 'AK', 'MS', 'MD', 'LA', 'HI', 'MO', 'AL', 'CT', 'OK', 'IA',\n",
    "             'WV', 'RI', 'SD', 'VT', 'ND', 'ID', 'DE']"
   ]
  },
  {
   "cell_type": "code",
   "execution_count": 10,
   "metadata": {},
   "outputs": [],
   "source": [
    "# Since we only know the name of city, but the county. We need convert the city to county.\n",
    "# check some mapping from http://www.statsamerica.org/CityCountyFinder/Default.aspx\n",
    "\n",
    "_dict_city_to_county = {\n",
    "    'Chicago, IL': 'Cook',\n",
    "    'Washington, DC': 'District of Columbia',\n",
    "    'Atlanta, GA': 'Fulton',\n",
    "    'Boston, MA': 'Suffolk',\n",
    "    'Seattle, WA': 'King',\n",
    "    'Brooklyn, NY': 'New York',\n",
    "    'Miami, FL': 'Miami-Dade',\n",
    "    'Las Vegas, NV': 'Clark',\n",
    "    'Portland, OR': 'Multnomah',\n",
    "    'Pittsburgh, PA': 'Allegheny',\n",
    "    'San Antonio, TX': 'Bexar',\n",
    "    'Nashville, TN': 'Davidson',\n",
    "    'Orlando, FL': 'Orange',\n",
    "    'Phoenix, AZ': 'Maricopa',\n",
    "    'Indianapolis, IN': 'Marion',\n",
    "    'Columbus, OH': 'Franklin',\n",
    "    'Minneapolis, MN': 'Hennepin',\n",
    "    'St Louis, MO': 'St. Louis',\n",
    "    'Charlotte, NC': 'Mecklenburg',\n",
    "    'Cleveland, OH': 'Cuyahoga',\n",
    "    'Detroit, MI': 'Wayne',\n",
    "    'Tampa, FL': 'Hillsborough',\n",
    "    'New Orleans, LA': 'Orleans',\n",
    "    'Kansas City, MO': 'Jackson',\n",
    "    'Cincinnati, OH': 'Hamilton'\n",
    "}\n",
    "    \n",
    "def city_to_county(state_name, city_name):\n",
    "    return _dict_city_to_county.get(f\"{city_name}, {state_name}\", city_name)"
   ]
  },
  {
   "cell_type": "code",
   "execution_count": 12,
   "metadata": {
    "tags": []
   },
   "outputs": [
    {
     "output_type": "display_data",
     "data": {
      "text/plain": "HBox(children=(FloatProgress(value=0.0, max=51.0), HTML(value='')))",
      "application/vnd.jupyter.widget-view+json": {
       "version_major": 2,
       "version_minor": 0,
       "model_id": "7927b4c6c0624c7d9b64385ad38898f9"
      }
     },
     "metadata": {}
    },
    {
     "output_type": "stream",
     "name": "stdout",
     "text": "\n"
    }
   ],
   "source": [
    "from collections import Counter\n",
    "\n",
    "find_county = Counter()\n",
    "cannot_find_county = Counter()\n",
    "\n",
    "for _state in tqdm(USA_STATES):\n",
    "    _users = users_loc[users_loc.state==_state].copy()\n",
    "    _users[\"county\"] = _users[\"county\"].apply(lambda x: city_to_county(_state, x))\n",
    "    _users[\"is_rural\"] = _users[\"county\"].apply(lambda x: dict_state_county_is_rural[_state].get(x, -1))\n",
    "    _users.to_csv(f\"data/is_rural/{_state}.csv\")\n",
    "\n",
    "#     for row in _users.itertuples():\n",
    "#         county = getattr(row, \"county\")\n",
    "#         is_rural = getattr(row, \"is_rural\")\n",
    "#         if is_rural == -1:\n",
    "#             cannot_find_county[f\"{county}, {_state}\"] += 1\n",
    "#         else:\n",
    "#             find_county[f\"{county}, {_state}\"] += 1\n",
    "    \n",
    "    \n",
    "# -1 represents that we cannot map the city (from BingMap) to county\n",
    "# So we need more infomation between city and county"
   ]
  },
  {
   "cell_type": "code",
   "execution_count": 13,
   "metadata": {},
   "outputs": [
    {
     "output_type": "execute_result",
     "data": {
      "text/plain": "0"
     },
     "metadata": {},
     "execution_count": 13
    }
   ],
   "source": [
    "print(len(cannot_find_county))\n",
    "print(cannot_find_county.most_common(10))\n",
    "find_county.most_common(10)"
   ]
  },
  {
   "cell_type": "code",
   "execution_count": 22,
   "metadata": {
    "tags": []
   },
   "outputs": [
    {
     "output_type": "display_data",
     "data": {
      "text/plain": "HBox(children=(FloatProgress(value=1.0, bar_style='info', max=1.0), HTML(value='')))",
      "application/vnd.jupyter.widget-view+json": {
       "version_major": 2,
       "version_minor": 0,
       "model_id": "1102e6c7a60f4ea8aa35c58e12914815"
      }
     },
     "metadata": {}
    },
    {
     "output_type": "stream",
     "name": "stdout",
     "text": "\n"
    },
    {
     "output_type": "execute_result",
     "data": {
      "text/plain": "                    Camp\nuid                     \n314551800              T\n1080662158415822849    B\n3407179563             B\n823998756655861760     B\n79236840               T\n...                  ...\n14990801               T\n4846877070             T\n3182944844             T\n757761224              B\n15145869               T\n\n[12988437 rows x 1 columns]",
      "text/html": "<div>\n<style scoped>\n    .dataframe tbody tr th:only-of-type {\n        vertical-align: middle;\n    }\n\n    .dataframe tbody tr th {\n        vertical-align: top;\n    }\n\n    .dataframe thead th {\n        text-align: right;\n    }\n</style>\n<table border=\"1\" class=\"dataframe\">\n  <thead>\n    <tr style=\"text-align: right;\">\n      <th></th>\n      <th>Camp</th>\n    </tr>\n    <tr>\n      <th>uid</th>\n      <th></th>\n    </tr>\n  </thead>\n  <tbody>\n    <tr>\n      <th>314551800</th>\n      <td>T</td>\n    </tr>\n    <tr>\n      <th>1080662158415822849</th>\n      <td>B</td>\n    </tr>\n    <tr>\n      <th>3407179563</th>\n      <td>B</td>\n    </tr>\n    <tr>\n      <th>823998756655861760</th>\n      <td>B</td>\n    </tr>\n    <tr>\n      <th>79236840</th>\n      <td>T</td>\n    </tr>\n    <tr>\n      <th>...</th>\n      <td>...</td>\n    </tr>\n    <tr>\n      <th>14990801</th>\n      <td>T</td>\n    </tr>\n    <tr>\n      <th>4846877070</th>\n      <td>T</td>\n    </tr>\n    <tr>\n      <th>3182944844</th>\n      <td>T</td>\n    </tr>\n    <tr>\n      <th>757761224</th>\n      <td>B</td>\n    </tr>\n    <tr>\n      <th>15145869</th>\n      <td>T</td>\n    </tr>\n  </tbody>\n</table>\n<p>12988437 rows × 1 columns</p>\n</div>"
     },
     "metadata": {},
     "execution_count": 22
    }
   ],
   "source": [
    "# load users' opinion\n",
    "# users_opinion = pd.read_csv(\"data/tweetid_userid_pro_hillary.csv\")\n",
    "import pendulum\n",
    "users_opinion = defaultdict(lambda: [0, 0])\n",
    "# set_users = set(users_loc.index)\n",
    "# start = pendulum.datetime(2016, 9, 1)\n",
    "\n",
    "# election date: 2016-11-8\n",
    "# for line in tqdm(open(\"data/tweetid_userid_pro_hillary.csv\")):\n",
    "#     w = line.strip().split(\",\")\n",
    "#     uid = int(w[0])\n",
    "#     if uid in set_users:\n",
    "#         if float(w[2]) < 0.5:\n",
    "#             users_opinion[uid][0] += 1\n",
    "#         else:\n",
    "#             users_opinion[uid][1] += 1\n",
    "\n",
    "users_opinion_v2 = []\n",
    "# election date: 2016-11-8\n",
    "i = 0\n",
    "for line in tqdm(open(\"data/2020-07-01.csv\")):\n",
    "    w = line.strip().split(\",\")\n",
    "    i += 1\n",
    "    if i == 1:\n",
    "        continue\n",
    "    uid = int(w[0])\n",
    "    users_opinion_v2.append({\n",
    "        \"uid\": uid,\n",
    "        \"Camp\": \"T\" if int(w[2]) > int(w[1]) else \"B\" \n",
    "    })\n",
    "users_opinion = pd.DataFrame(users_opinion_v2).set_index(\"uid\")\n",
    "users_opinion\n"
   ]
  },
  {
   "cell_type": "code",
   "execution_count": 24,
   "metadata": {
    "tags": []
   },
   "outputs": [
    {
     "output_type": "display_data",
     "data": {
      "text/plain": "HBox(children=(FloatProgress(value=0.0, max=51.0), HTML(value='')))",
      "application/vnd.jupyter.widget-view+json": {
       "version_major": 2,
       "version_minor": 0,
       "model_id": "9621fdae0fdd4123896667c15291025a"
      }
     },
     "metadata": {}
    },
    {
     "output_type": "stream",
     "name": "stdout",
     "text": "NY {(-1, 'B'): 45947, (-1, 'T'): 27660, (0, 'B'): 182700, (0, 'T'): 82911, (1, 'B'): 208, (1, 'T'): 97}\nNY, Census (rural areas): 10.53%, Trump: 31.22%, After rescaling: 31.28%\nDC {(-1, 'B'): 88, (-1, 'T'): 35, (0, 'B'): 65186, (0, 'T'): 29879}\nDC, Census (rural areas): 0.00%, Trump: 31.43%, After rescaling: 31.43%\nIN {(-1, 'B'): 16828, (-1, 'T'): 11934, (0, 'B'): 11912, (0, 'T'): 7951, (1, 'B'): 476, (1, 'T'): 416}\nIN, Census (rural areas): 40.09%, Trump: 40.31%, After rescaling: 42.68%\n"
    },
    {
     "output_type": "error",
     "ename": "KeyboardInterrupt",
     "evalue": "",
     "traceback": [
      "\u001b[1;31m---------------------------------------------------------------------------\u001b[0m",
      "\u001b[1;31mKeyboardInterrupt\u001b[0m                         Traceback (most recent call last)",
      "\u001b[1;32m<ipython-input-24-858e57000644>\u001b[0m in \u001b[0;36m<module>\u001b[1;34m\u001b[0m\n\u001b[0;32m      1\u001b[0m \u001b[1;32mfor\u001b[0m \u001b[0m_state\u001b[0m \u001b[1;32min\u001b[0m \u001b[0mtqdm\u001b[0m\u001b[1;33m(\u001b[0m\u001b[0mUSA_STATES\u001b[0m\u001b[1;33m)\u001b[0m\u001b[1;33m:\u001b[0m\u001b[1;33m\u001b[0m\u001b[1;33m\u001b[0m\u001b[0m\n\u001b[0;32m      2\u001b[0m     \u001b[0musers_county\u001b[0m \u001b[1;33m=\u001b[0m \u001b[0mpd\u001b[0m\u001b[1;33m.\u001b[0m\u001b[0mread_csv\u001b[0m\u001b[1;33m(\u001b[0m\u001b[1;34m\"data/is_rural/\"\u001b[0m \u001b[1;33m+\u001b[0m \u001b[0m_state\u001b[0m \u001b[1;33m+\u001b[0m \u001b[1;34m\".csv\"\u001b[0m\u001b[1;33m,\u001b[0m \u001b[0mindex_col\u001b[0m\u001b[1;33m=\u001b[0m\u001b[1;34m\"uid\"\u001b[0m\u001b[1;33m)\u001b[0m\u001b[1;33m\u001b[0m\u001b[1;33m\u001b[0m\u001b[0m\n\u001b[1;32m----> 3\u001b[1;33m     \u001b[0musers_county\u001b[0m \u001b[1;33m=\u001b[0m \u001b[0musers_county\u001b[0m\u001b[1;33m.\u001b[0m\u001b[0mjoin\u001b[0m\u001b[1;33m(\u001b[0m\u001b[0musers_opinion\u001b[0m\u001b[1;33m)\u001b[0m\u001b[1;33m\u001b[0m\u001b[1;33m\u001b[0m\u001b[0m\n\u001b[0m\u001b[0;32m      4\u001b[0m     \u001b[0mgroups\u001b[0m \u001b[1;33m=\u001b[0m \u001b[0mdict\u001b[0m\u001b[1;33m(\u001b[0m\u001b[0musers_county\u001b[0m\u001b[1;33m.\u001b[0m\u001b[0mgroupby\u001b[0m\u001b[1;33m(\u001b[0m\u001b[1;33m[\u001b[0m\u001b[1;34m\"is_rural\"\u001b[0m\u001b[1;33m,\u001b[0m \u001b[1;34m\"Camp\"\u001b[0m\u001b[1;33m]\u001b[0m\u001b[1;33m)\u001b[0m\u001b[1;33m.\u001b[0m\u001b[0msize\u001b[0m\u001b[1;33m(\u001b[0m\u001b[1;33m)\u001b[0m\u001b[1;33m)\u001b[0m\u001b[1;33m\u001b[0m\u001b[1;33m\u001b[0m\u001b[0m\n\u001b[0;32m      5\u001b[0m     \u001b[0mprint\u001b[0m\u001b[1;33m(\u001b[0m\u001b[0m_state\u001b[0m\u001b[1;33m,\u001b[0m \u001b[0mgroups\u001b[0m\u001b[1;33m)\u001b[0m\u001b[1;33m\u001b[0m\u001b[1;33m\u001b[0m\u001b[0m\n",
      "\u001b[1;32mC:\\ProgramData\\Anaconda3\\lib\\site-packages\\pandas\\core\\frame.py\u001b[0m in \u001b[0;36mjoin\u001b[1;34m(self, other, on, how, lsuffix, rsuffix, sort)\u001b[0m\n\u001b[0;32m   7207\u001b[0m         \"\"\"\n\u001b[0;32m   7208\u001b[0m         return self._join_compat(\n\u001b[1;32m-> 7209\u001b[1;33m             \u001b[0mother\u001b[0m\u001b[1;33m,\u001b[0m \u001b[0mon\u001b[0m\u001b[1;33m=\u001b[0m\u001b[0mon\u001b[0m\u001b[1;33m,\u001b[0m \u001b[0mhow\u001b[0m\u001b[1;33m=\u001b[0m\u001b[0mhow\u001b[0m\u001b[1;33m,\u001b[0m \u001b[0mlsuffix\u001b[0m\u001b[1;33m=\u001b[0m\u001b[0mlsuffix\u001b[0m\u001b[1;33m,\u001b[0m \u001b[0mrsuffix\u001b[0m\u001b[1;33m=\u001b[0m\u001b[0mrsuffix\u001b[0m\u001b[1;33m,\u001b[0m \u001b[0msort\u001b[0m\u001b[1;33m=\u001b[0m\u001b[0msort\u001b[0m\u001b[1;33m\u001b[0m\u001b[1;33m\u001b[0m\u001b[0m\n\u001b[0m\u001b[0;32m   7210\u001b[0m         )\n\u001b[0;32m   7211\u001b[0m \u001b[1;33m\u001b[0m\u001b[0m\n",
      "\u001b[1;32mC:\\ProgramData\\Anaconda3\\lib\\site-packages\\pandas\\core\\frame.py\u001b[0m in \u001b[0;36m_join_compat\u001b[1;34m(self, other, on, how, lsuffix, rsuffix, sort)\u001b[0m\n\u001b[0;32m   7230\u001b[0m                 \u001b[0mright_index\u001b[0m\u001b[1;33m=\u001b[0m\u001b[1;32mTrue\u001b[0m\u001b[1;33m,\u001b[0m\u001b[1;33m\u001b[0m\u001b[1;33m\u001b[0m\u001b[0m\n\u001b[0;32m   7231\u001b[0m                 \u001b[0msuffixes\u001b[0m\u001b[1;33m=\u001b[0m\u001b[1;33m(\u001b[0m\u001b[0mlsuffix\u001b[0m\u001b[1;33m,\u001b[0m \u001b[0mrsuffix\u001b[0m\u001b[1;33m)\u001b[0m\u001b[1;33m,\u001b[0m\u001b[1;33m\u001b[0m\u001b[1;33m\u001b[0m\u001b[0m\n\u001b[1;32m-> 7232\u001b[1;33m                 \u001b[0msort\u001b[0m\u001b[1;33m=\u001b[0m\u001b[0msort\u001b[0m\u001b[1;33m,\u001b[0m\u001b[1;33m\u001b[0m\u001b[1;33m\u001b[0m\u001b[0m\n\u001b[0m\u001b[0;32m   7233\u001b[0m             )\n\u001b[0;32m   7234\u001b[0m         \u001b[1;32melse\u001b[0m\u001b[1;33m:\u001b[0m\u001b[1;33m\u001b[0m\u001b[1;33m\u001b[0m\u001b[0m\n",
      "\u001b[1;32mC:\\ProgramData\\Anaconda3\\lib\\site-packages\\pandas\\core\\reshape\\merge.py\u001b[0m in \u001b[0;36mmerge\u001b[1;34m(left, right, how, on, left_on, right_on, left_index, right_index, sort, suffixes, copy, indicator, validate)\u001b[0m\n\u001b[0;32m     86\u001b[0m         \u001b[0mvalidate\u001b[0m\u001b[1;33m=\u001b[0m\u001b[0mvalidate\u001b[0m\u001b[1;33m,\u001b[0m\u001b[1;33m\u001b[0m\u001b[1;33m\u001b[0m\u001b[0m\n\u001b[0;32m     87\u001b[0m     )\n\u001b[1;32m---> 88\u001b[1;33m     \u001b[1;32mreturn\u001b[0m \u001b[0mop\u001b[0m\u001b[1;33m.\u001b[0m\u001b[0mget_result\u001b[0m\u001b[1;33m(\u001b[0m\u001b[1;33m)\u001b[0m\u001b[1;33m\u001b[0m\u001b[1;33m\u001b[0m\u001b[0m\n\u001b[0m\u001b[0;32m     89\u001b[0m \u001b[1;33m\u001b[0m\u001b[0m\n\u001b[0;32m     90\u001b[0m \u001b[1;33m\u001b[0m\u001b[0m\n",
      "\u001b[1;32mC:\\ProgramData\\Anaconda3\\lib\\site-packages\\pandas\\core\\reshape\\merge.py\u001b[0m in \u001b[0;36mget_result\u001b[1;34m(self)\u001b[0m\n\u001b[0;32m    641\u001b[0m             \u001b[0mself\u001b[0m\u001b[1;33m.\u001b[0m\u001b[0mleft\u001b[0m\u001b[1;33m,\u001b[0m \u001b[0mself\u001b[0m\u001b[1;33m.\u001b[0m\u001b[0mright\u001b[0m \u001b[1;33m=\u001b[0m \u001b[0mself\u001b[0m\u001b[1;33m.\u001b[0m\u001b[0m_indicator_pre_merge\u001b[0m\u001b[1;33m(\u001b[0m\u001b[0mself\u001b[0m\u001b[1;33m.\u001b[0m\u001b[0mleft\u001b[0m\u001b[1;33m,\u001b[0m \u001b[0mself\u001b[0m\u001b[1;33m.\u001b[0m\u001b[0mright\u001b[0m\u001b[1;33m)\u001b[0m\u001b[1;33m\u001b[0m\u001b[1;33m\u001b[0m\u001b[0m\n\u001b[0;32m    642\u001b[0m \u001b[1;33m\u001b[0m\u001b[0m\n\u001b[1;32m--> 643\u001b[1;33m         \u001b[0mjoin_index\u001b[0m\u001b[1;33m,\u001b[0m \u001b[0mleft_indexer\u001b[0m\u001b[1;33m,\u001b[0m \u001b[0mright_indexer\u001b[0m \u001b[1;33m=\u001b[0m \u001b[0mself\u001b[0m\u001b[1;33m.\u001b[0m\u001b[0m_get_join_info\u001b[0m\u001b[1;33m(\u001b[0m\u001b[1;33m)\u001b[0m\u001b[1;33m\u001b[0m\u001b[1;33m\u001b[0m\u001b[0m\n\u001b[0m\u001b[0;32m    644\u001b[0m \u001b[1;33m\u001b[0m\u001b[0m\n\u001b[0;32m    645\u001b[0m         \u001b[0mldata\u001b[0m\u001b[1;33m,\u001b[0m \u001b[0mrdata\u001b[0m \u001b[1;33m=\u001b[0m \u001b[0mself\u001b[0m\u001b[1;33m.\u001b[0m\u001b[0mleft\u001b[0m\u001b[1;33m.\u001b[0m\u001b[0m_data\u001b[0m\u001b[1;33m,\u001b[0m \u001b[0mself\u001b[0m\u001b[1;33m.\u001b[0m\u001b[0mright\u001b[0m\u001b[1;33m.\u001b[0m\u001b[0m_data\u001b[0m\u001b[1;33m\u001b[0m\u001b[1;33m\u001b[0m\u001b[0m\n",
      "\u001b[1;32mC:\\ProgramData\\Anaconda3\\lib\\site-packages\\pandas\\core\\reshape\\merge.py\u001b[0m in \u001b[0;36m_get_join_info\u001b[1;34m(self)\u001b[0m\n\u001b[0;32m    848\u001b[0m         \u001b[1;32mif\u001b[0m \u001b[0mself\u001b[0m\u001b[1;33m.\u001b[0m\u001b[0mleft_index\u001b[0m \u001b[1;32mand\u001b[0m \u001b[0mself\u001b[0m\u001b[1;33m.\u001b[0m\u001b[0mright_index\u001b[0m \u001b[1;32mand\u001b[0m \u001b[0mself\u001b[0m\u001b[1;33m.\u001b[0m\u001b[0mhow\u001b[0m \u001b[1;33m!=\u001b[0m \u001b[1;34m\"asof\"\u001b[0m\u001b[1;33m:\u001b[0m\u001b[1;33m\u001b[0m\u001b[1;33m\u001b[0m\u001b[0m\n\u001b[0;32m    849\u001b[0m             join_index, left_indexer, right_indexer = left_ax.join(\n\u001b[1;32m--> 850\u001b[1;33m                 \u001b[0mright_ax\u001b[0m\u001b[1;33m,\u001b[0m \u001b[0mhow\u001b[0m\u001b[1;33m=\u001b[0m\u001b[0mself\u001b[0m\u001b[1;33m.\u001b[0m\u001b[0mhow\u001b[0m\u001b[1;33m,\u001b[0m \u001b[0mreturn_indexers\u001b[0m\u001b[1;33m=\u001b[0m\u001b[1;32mTrue\u001b[0m\u001b[1;33m,\u001b[0m \u001b[0msort\u001b[0m\u001b[1;33m=\u001b[0m\u001b[0mself\u001b[0m\u001b[1;33m.\u001b[0m\u001b[0msort\u001b[0m\u001b[1;33m\u001b[0m\u001b[1;33m\u001b[0m\u001b[0m\n\u001b[0m\u001b[0;32m    851\u001b[0m             )\n\u001b[0;32m    852\u001b[0m         \u001b[1;32melif\u001b[0m \u001b[0mself\u001b[0m\u001b[1;33m.\u001b[0m\u001b[0mright_index\u001b[0m \u001b[1;32mand\u001b[0m \u001b[0mself\u001b[0m\u001b[1;33m.\u001b[0m\u001b[0mhow\u001b[0m \u001b[1;33m==\u001b[0m \u001b[1;34m\"left\"\u001b[0m\u001b[1;33m:\u001b[0m\u001b[1;33m\u001b[0m\u001b[1;33m\u001b[0m\u001b[0m\n",
      "\u001b[1;32mC:\\ProgramData\\Anaconda3\\lib\\site-packages\\pandas\\core\\indexes\\base.py\u001b[0m in \u001b[0;36mjoin\u001b[1;34m(self, other, how, level, return_indexers, sort)\u001b[0m\n\u001b[0;32m   3309\u001b[0m             \u001b[1;32melse\u001b[0m\u001b[1;33m:\u001b[0m\u001b[1;33m\u001b[0m\u001b[1;33m\u001b[0m\u001b[0m\n\u001b[0;32m   3310\u001b[0m                 return self._join_non_unique(\n\u001b[1;32m-> 3311\u001b[1;33m                     \u001b[0mother\u001b[0m\u001b[1;33m,\u001b[0m \u001b[0mhow\u001b[0m\u001b[1;33m=\u001b[0m\u001b[0mhow\u001b[0m\u001b[1;33m,\u001b[0m \u001b[0mreturn_indexers\u001b[0m\u001b[1;33m=\u001b[0m\u001b[0mreturn_indexers\u001b[0m\u001b[1;33m\u001b[0m\u001b[1;33m\u001b[0m\u001b[0m\n\u001b[0m\u001b[0;32m   3312\u001b[0m                 )\n\u001b[0;32m   3313\u001b[0m         \u001b[1;32melif\u001b[0m \u001b[0mself\u001b[0m\u001b[1;33m.\u001b[0m\u001b[0mis_monotonic\u001b[0m \u001b[1;32mand\u001b[0m \u001b[0mother\u001b[0m\u001b[1;33m.\u001b[0m\u001b[0mis_monotonic\u001b[0m\u001b[1;33m:\u001b[0m\u001b[1;33m\u001b[0m\u001b[1;33m\u001b[0m\u001b[0m\n",
      "\u001b[1;32mC:\\ProgramData\\Anaconda3\\lib\\site-packages\\pandas\\core\\indexes\\base.py\u001b[0m in \u001b[0;36m_join_non_unique\u001b[1;34m(self, other, how, return_indexers)\u001b[0m\n\u001b[0;32m   3427\u001b[0m \u001b[1;33m\u001b[0m\u001b[0m\n\u001b[0;32m   3428\u001b[0m         left_idx, right_idx = _get_join_indexers(\n\u001b[1;32m-> 3429\u001b[1;33m             \u001b[1;33m[\u001b[0m\u001b[0mself\u001b[0m\u001b[1;33m.\u001b[0m\u001b[0m_ndarray_values\u001b[0m\u001b[1;33m]\u001b[0m\u001b[1;33m,\u001b[0m \u001b[1;33m[\u001b[0m\u001b[0mother\u001b[0m\u001b[1;33m.\u001b[0m\u001b[0m_ndarray_values\u001b[0m\u001b[1;33m]\u001b[0m\u001b[1;33m,\u001b[0m \u001b[0mhow\u001b[0m\u001b[1;33m=\u001b[0m\u001b[0mhow\u001b[0m\u001b[1;33m,\u001b[0m \u001b[0msort\u001b[0m\u001b[1;33m=\u001b[0m\u001b[1;32mTrue\u001b[0m\u001b[1;33m\u001b[0m\u001b[1;33m\u001b[0m\u001b[0m\n\u001b[0m\u001b[0;32m   3430\u001b[0m         )\n\u001b[0;32m   3431\u001b[0m \u001b[1;33m\u001b[0m\u001b[0m\n",
      "\u001b[1;32mC:\\ProgramData\\Anaconda3\\lib\\site-packages\\pandas\\core\\reshape\\merge.py\u001b[0m in \u001b[0;36m_get_join_indexers\u001b[1;34m(left_keys, right_keys, sort, how, **kwargs)\u001b[0m\n\u001b[0;32m   1326\u001b[0m     \u001b[0mjoin_func\u001b[0m \u001b[1;33m=\u001b[0m \u001b[0m_join_functions\u001b[0m\u001b[1;33m[\u001b[0m\u001b[0mhow\u001b[0m\u001b[1;33m]\u001b[0m\u001b[1;33m\u001b[0m\u001b[1;33m\u001b[0m\u001b[0m\n\u001b[0;32m   1327\u001b[0m \u001b[1;33m\u001b[0m\u001b[0m\n\u001b[1;32m-> 1328\u001b[1;33m     \u001b[1;32mreturn\u001b[0m \u001b[0mjoin_func\u001b[0m\u001b[1;33m(\u001b[0m\u001b[0mlkey\u001b[0m\u001b[1;33m,\u001b[0m \u001b[0mrkey\u001b[0m\u001b[1;33m,\u001b[0m \u001b[0mcount\u001b[0m\u001b[1;33m,\u001b[0m \u001b[1;33m**\u001b[0m\u001b[0mkwargs\u001b[0m\u001b[1;33m)\u001b[0m\u001b[1;33m\u001b[0m\u001b[1;33m\u001b[0m\u001b[0m\n\u001b[0m\u001b[0;32m   1329\u001b[0m \u001b[1;33m\u001b[0m\u001b[0m\n\u001b[0;32m   1330\u001b[0m \u001b[1;33m\u001b[0m\u001b[0m\n",
      "\u001b[1;31mKeyboardInterrupt\u001b[0m: "
     ]
    }
   ],
   "source": [
    "for _state in tqdm(USA_STATES):\n",
    "    users_county = pd.read_csv(\"data/is_rural/\" + _state + \".csv\", index_col=\"uid\")\n",
    "    users_county = users_county.join(users_opinion)\n",
    "    groups = dict(users_county.groupby([\"is_rural\", \"Camp\"]).size())\n",
    "    # print(_state, groups) \n",
    "\n",
    "    w1 = rural_count.get((_state, 1), 0) / (rural_count.get((_state, 1), 0) + rural_count.get((_state, 0), 0))\n",
    "    w0 = 1 - w1\n",
    "    \n",
    "    groups_T_H = dict(users_county[users_county.is_rural != -1].groupby(\"Camp\").size())\n",
    "    # print(groups_T_H)\n",
    "    proT = groups_T_H.get(\"T\", 0) / (groups_T_H.get(\"T\", 0) + groups_T_H.get(\"B\", 0))\n",
    "    \n",
    "\n",
    "    if (0, 'T') not in groups: # No urban people support Trump!\n",
    "        pro_T_1 = groups[(1, 'T')] / (groups[(1, 'T')] + groups[(1, 'B')])\n",
    "        rst = pro_T_1\n",
    "    elif (1, 'T') not in groups: # No rural people support Trump!\n",
    "        pro_T_0 = groups[(0, 'T')] / (groups[(0, 'T')] + groups[(0, 'B')])\n",
    "        rst = pro_T_0\n",
    "    else:\n",
    "        pro_T_0 = groups[(0, 'T')] / (groups[(0, 'T')] + groups[(0, 'B')])\n",
    "        pro_T_1 = groups[(1, 'T')] / (groups[(1, 'T')] + groups[(1, 'B')])\n",
    "        rst = pro_T_1 * w1 + pro_T_0 * w0\n",
    "        \n",
    "    print(f\"{_state}, Census (rural areas): {w1 * 100:.2f}%, Trump: {proT * 100:.2f}%, After rescaling: {rst * 100:.2f}%\")"
   ]
  },
  {
   "cell_type": "code",
   "execution_count": null,
   "metadata": {},
   "outputs": [],
   "source": []
  }
 ],
 "metadata": {
  "kernelspec": {
   "display_name": "Python 3",
   "language": "python",
   "name": "python3"
  },
  "language_info": {
   "codemirror_mode": {
    "name": "ipython",
    "version": 3
   },
   "file_extension": ".py",
   "mimetype": "text/x-python",
   "name": "python",
   "nbconvert_exporter": "python",
   "pygments_lexer": "ipython3",
   "version": "3.7.6-final"
  },
  "latex_envs": {
   "LaTeX_envs_menu_present": true,
   "autoclose": false,
   "autocomplete": true,
   "bibliofile": "biblio.bib",
   "cite_by": "apalike",
   "current_citInitial": 1,
   "eqLabelWithNumbers": true,
   "eqNumInitial": 1,
   "hotkeys": {
    "equation": "Ctrl-E",
    "itemize": "Ctrl-I"
   },
   "labels_anchors": false,
   "latex_user_defs": false,
   "report_style_numbering": false,
   "user_envs_cfg": false
  },
  "toc": {
   "base_numbering": 1,
   "nav_menu": {},
   "number_sections": true,
   "sideBar": true,
   "skip_h1_title": false,
   "title_cell": "Table of Contents",
   "title_sidebar": "Contents",
   "toc_cell": false,
   "toc_position": {},
   "toc_section_display": true,
   "toc_window_display": false
  }
 },
 "nbformat": 4,
 "nbformat_minor": 4
}