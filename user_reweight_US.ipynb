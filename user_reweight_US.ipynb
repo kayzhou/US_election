{
 "cells": [
  {
   "cell_type": "markdown",
   "metadata": {},
   "source": [
    "# 2020 US Democrats"
   ]
  },
  {
   "cell_type": "code",
   "execution_count": 1,
   "metadata": {
    "ExecuteTime": {
     "end_time": "2020-05-03T13:57:46.179424Z",
     "start_time": "2020-05-03T13:57:45.374755Z"
    }
   },
   "outputs": [],
   "source": [
    "from my_weapon import *\n",
    "from SQLite_handler import *\n",
    "\n",
    "#plt.style.use('fivethirtyeight')"
   ]
  },
  {
   "cell_type": "markdown",
   "metadata": {},
   "source": [
    "## Loading faces"
   ]
  },
  {
   "cell_type": "code",
   "execution_count": 3,
   "metadata": {
    "ExecuteTime": {
     "end_time": "2020-03-15T20:40:54.295529Z",
     "start_time": "2020-03-15T20:40:53.910429Z"
    }
   },
   "outputs": [
    {
     "data": {
      "text/html": [
       "<div>\n",
       "<style scoped>\n",
       "    .dataframe tbody tr th:only-of-type {\n",
       "        vertical-align: middle;\n",
       "    }\n",
       "\n",
       "    .dataframe tbody tr th {\n",
       "        vertical-align: top;\n",
       "    }\n",
       "\n",
       "    .dataframe thead th {\n",
       "        text-align: right;\n",
       "    }\n",
       "</style>\n",
       "<table border=\"1\" class=\"dataframe\">\n",
       "  <thead>\n",
       "    <tr style=\"text-align: right;\">\n",
       "      <th></th>\n",
       "      <th>age</th>\n",
       "      <th>gender</th>\n",
       "      <th>age_range</th>\n",
       "    </tr>\n",
       "    <tr>\n",
       "      <th>uid</th>\n",
       "      <th></th>\n",
       "      <th></th>\n",
       "      <th></th>\n",
       "    </tr>\n",
       "  </thead>\n",
       "  <tbody>\n",
       "    <tr>\n",
       "      <th>15715866</th>\n",
       "      <td>30</td>\n",
       "      <td>Male</td>\n",
       "      <td>&gt;=30, &lt;50</td>\n",
       "    </tr>\n",
       "    <tr>\n",
       "      <th>1230079565231468544</th>\n",
       "      <td>47</td>\n",
       "      <td>Female</td>\n",
       "      <td>&gt;=30, &lt;50</td>\n",
       "    </tr>\n",
       "    <tr>\n",
       "      <th>25758126</th>\n",
       "      <td>32</td>\n",
       "      <td>Female</td>\n",
       "      <td>&gt;=30, &lt;50</td>\n",
       "    </tr>\n",
       "    <tr>\n",
       "      <th>2400557966</th>\n",
       "      <td>25</td>\n",
       "      <td>Male</td>\n",
       "      <td>&gt;=18, &lt;30</td>\n",
       "    </tr>\n",
       "    <tr>\n",
       "      <th>2821590472</th>\n",
       "      <td>55</td>\n",
       "      <td>Male</td>\n",
       "      <td>&gt;=50, &lt;65</td>\n",
       "    </tr>\n",
       "    <tr>\n",
       "      <th>...</th>\n",
       "      <td>...</td>\n",
       "      <td>...</td>\n",
       "      <td>...</td>\n",
       "    </tr>\n",
       "    <tr>\n",
       "      <th>1212458348479574016</th>\n",
       "      <td>28</td>\n",
       "      <td>Female</td>\n",
       "      <td>&gt;=18, &lt;30</td>\n",
       "    </tr>\n",
       "    <tr>\n",
       "      <th>64493071</th>\n",
       "      <td>28</td>\n",
       "      <td>Male</td>\n",
       "      <td>&gt;=18, &lt;30</td>\n",
       "    </tr>\n",
       "    <tr>\n",
       "      <th>2489803112</th>\n",
       "      <td>20</td>\n",
       "      <td>Male</td>\n",
       "      <td>&gt;=18, &lt;30</td>\n",
       "    </tr>\n",
       "    <tr>\n",
       "      <th>3510886334</th>\n",
       "      <td>26</td>\n",
       "      <td>Male</td>\n",
       "      <td>&gt;=18, &lt;30</td>\n",
       "    </tr>\n",
       "    <tr>\n",
       "      <th>2974469463</th>\n",
       "      <td>36</td>\n",
       "      <td>Female</td>\n",
       "      <td>&gt;=30, &lt;50</td>\n",
       "    </tr>\n",
       "  </tbody>\n",
       "</table>\n",
       "<p>546392 rows × 3 columns</p>\n",
       "</div>"
      ],
      "text/plain": [
       "                     age  gender  age_range\n",
       "uid                                        \n",
       "15715866              30    Male  >=30, <50\n",
       "1230079565231468544   47  Female  >=30, <50\n",
       "25758126              32  Female  >=30, <50\n",
       "2400557966            25    Male  >=18, <30\n",
       "2821590472            55    Male  >=50, <65\n",
       "...                  ...     ...        ...\n",
       "1212458348479574016   28  Female  >=18, <30\n",
       "64493071              28    Male  >=18, <30\n",
       "2489803112            20    Male  >=18, <30\n",
       "3510886334            26    Male  >=18, <30\n",
       "2974469463            36  Female  >=30, <50\n",
       "\n",
       "[546392 rows x 3 columns]"
      ]
     },
     "execution_count": 3,
     "metadata": {},
     "output_type": "execute_result"
    }
   ],
   "source": [
    "# users = []\n",
    "\n",
    "# for line in tqdm(open(\"disk/users-face/2020-02-24.lj\")):\n",
    "#     d = json.loads(line.strip())\n",
    "#     face = d[\"faces\"][0]\n",
    "#     # print(face)\n",
    "#     age = face['attributes'][\"age\"][\"value\"]\n",
    "#     gender = face['attributes'][\"gender\"][\"value\"]\n",
    "\n",
    "#     if age < 18:\n",
    "#         continue\n",
    "#     elif age >= 18 and age < 30:\n",
    "#         age_range = \">=18, <30\"\n",
    "#     elif age >= 30 and age < 50:\n",
    "#         age_range = \">=30, <50\"\n",
    "#     elif age >= 50 and age < 65:\n",
    "#         age_range = \">=50, <65\"\n",
    "#     elif age >= 65:\n",
    "#         age_range = \">=65\"\n",
    "\n",
    "#     users.append({\"uid\": d[\"id\"], \n",
    "#                   \"age\": age, \n",
    "#                   \"gender\": gender, \n",
    "#                   \"age_range\": age_range}\n",
    "#                 )\n",
    "        \n",
    "# users = pd.DataFrame(users).set_index(\"uid\")\n",
    "# users = users[~users.index.duplicated(keep='first')]\n",
    "\n",
    "users = pd.read_csv(\"disk/users-face/2020-03-15.csv\").set_index(\"uid\")\n",
    "users"
   ]
  },
  {
   "cell_type": "code",
   "execution_count": 6,
   "metadata": {
    "ExecuteTime": {
     "end_time": "2020-03-15T16:07:28.089441Z",
     "start_time": "2020-03-15T16:07:27.043034Z"
    },
    "collapsed": true
   },
   "outputs": [
    {
     "ename": "FileNotFoundError",
     "evalue": "[Errno 2] No such file or directory: '../Argentina_election/web/static/us2020_twitter_population_0302.png'",
     "output_type": "error",
     "traceback": [
      "\u001b[0;31m---------------------------------------------------------------------------\u001b[0m",
      "\u001b[0;31mFileNotFoundError\u001b[0m                         Traceback (most recent call last)",
      "\u001b[0;32m<ipython-input-6-36cf8b481f9f>\u001b[0m in \u001b[0;36m<module>\u001b[0;34m\u001b[0m\n\u001b[1;32m      9\u001b[0m \u001b[0mplt\u001b[0m\u001b[0;34m.\u001b[0m\u001b[0mxticks\u001b[0m\u001b[0;34m(\u001b[0m\u001b[0mrotation\u001b[0m\u001b[0;34m=\u001b[0m\u001b[0;36m45\u001b[0m\u001b[0;34m)\u001b[0m\u001b[0;34m\u001b[0m\u001b[0;34m\u001b[0m\u001b[0m\n\u001b[1;32m     10\u001b[0m plt.savefig(\"../Argentina_election/web/static/us2020_twitter_population_0302.png\",\n\u001b[0;32m---> 11\u001b[0;31m             bbox_inches = 'tight', dpi=300)\n\u001b[0m",
      "\u001b[0;32m~/Matteo_S/venv/lib/python3.7/site-packages/matplotlib/pyplot.py\u001b[0m in \u001b[0;36msavefig\u001b[0;34m(*args, **kwargs)\u001b[0m\n\u001b[1;32m    727\u001b[0m \u001b[0;32mdef\u001b[0m \u001b[0msavefig\u001b[0m\u001b[0;34m(\u001b[0m\u001b[0;34m*\u001b[0m\u001b[0margs\u001b[0m\u001b[0;34m,\u001b[0m \u001b[0;34m**\u001b[0m\u001b[0mkwargs\u001b[0m\u001b[0;34m)\u001b[0m\u001b[0;34m:\u001b[0m\u001b[0;34m\u001b[0m\u001b[0;34m\u001b[0m\u001b[0m\n\u001b[1;32m    728\u001b[0m     \u001b[0mfig\u001b[0m \u001b[0;34m=\u001b[0m \u001b[0mgcf\u001b[0m\u001b[0;34m(\u001b[0m\u001b[0;34m)\u001b[0m\u001b[0;34m\u001b[0m\u001b[0;34m\u001b[0m\u001b[0m\n\u001b[0;32m--> 729\u001b[0;31m     \u001b[0mres\u001b[0m \u001b[0;34m=\u001b[0m \u001b[0mfig\u001b[0m\u001b[0;34m.\u001b[0m\u001b[0msavefig\u001b[0m\u001b[0;34m(\u001b[0m\u001b[0;34m*\u001b[0m\u001b[0margs\u001b[0m\u001b[0;34m,\u001b[0m \u001b[0;34m**\u001b[0m\u001b[0mkwargs\u001b[0m\u001b[0;34m)\u001b[0m\u001b[0;34m\u001b[0m\u001b[0;34m\u001b[0m\u001b[0m\n\u001b[0m\u001b[1;32m    730\u001b[0m     \u001b[0mfig\u001b[0m\u001b[0;34m.\u001b[0m\u001b[0mcanvas\u001b[0m\u001b[0;34m.\u001b[0m\u001b[0mdraw_idle\u001b[0m\u001b[0;34m(\u001b[0m\u001b[0;34m)\u001b[0m   \u001b[0;31m# need this if 'transparent=True' to reset colors\u001b[0m\u001b[0;34m\u001b[0m\u001b[0;34m\u001b[0m\u001b[0m\n\u001b[1;32m    731\u001b[0m     \u001b[0;32mreturn\u001b[0m \u001b[0mres\u001b[0m\u001b[0;34m\u001b[0m\u001b[0;34m\u001b[0m\u001b[0m\n",
      "\u001b[0;32m~/Matteo_S/venv/lib/python3.7/site-packages/matplotlib/figure.py\u001b[0m in \u001b[0;36msavefig\u001b[0;34m(self, fname, transparent, **kwargs)\u001b[0m\n\u001b[1;32m   2178\u001b[0m             \u001b[0mself\u001b[0m\u001b[0;34m.\u001b[0m\u001b[0mpatch\u001b[0m\u001b[0;34m.\u001b[0m\u001b[0mset_visible\u001b[0m\u001b[0;34m(\u001b[0m\u001b[0mframeon\u001b[0m\u001b[0;34m)\u001b[0m\u001b[0;34m\u001b[0m\u001b[0;34m\u001b[0m\u001b[0m\n\u001b[1;32m   2179\u001b[0m \u001b[0;34m\u001b[0m\u001b[0m\n\u001b[0;32m-> 2180\u001b[0;31m         \u001b[0mself\u001b[0m\u001b[0;34m.\u001b[0m\u001b[0mcanvas\u001b[0m\u001b[0;34m.\u001b[0m\u001b[0mprint_figure\u001b[0m\u001b[0;34m(\u001b[0m\u001b[0mfname\u001b[0m\u001b[0;34m,\u001b[0m \u001b[0;34m**\u001b[0m\u001b[0mkwargs\u001b[0m\u001b[0;34m)\u001b[0m\u001b[0;34m\u001b[0m\u001b[0;34m\u001b[0m\u001b[0m\n\u001b[0m\u001b[1;32m   2181\u001b[0m \u001b[0;34m\u001b[0m\u001b[0m\n\u001b[1;32m   2182\u001b[0m         \u001b[0;32mif\u001b[0m \u001b[0mframeon\u001b[0m\u001b[0;34m:\u001b[0m\u001b[0;34m\u001b[0m\u001b[0;34m\u001b[0m\u001b[0m\n",
      "\u001b[0;32m~/Matteo_S/venv/lib/python3.7/site-packages/matplotlib/backend_bases.py\u001b[0m in \u001b[0;36mprint_figure\u001b[0;34m(self, filename, dpi, facecolor, edgecolor, orientation, format, bbox_inches, **kwargs)\u001b[0m\n\u001b[1;32m   2089\u001b[0m                     \u001b[0morientation\u001b[0m\u001b[0;34m=\u001b[0m\u001b[0morientation\u001b[0m\u001b[0;34m,\u001b[0m\u001b[0;34m\u001b[0m\u001b[0;34m\u001b[0m\u001b[0m\n\u001b[1;32m   2090\u001b[0m                     \u001b[0mbbox_inches_restore\u001b[0m\u001b[0;34m=\u001b[0m\u001b[0m_bbox_inches_restore\u001b[0m\u001b[0;34m,\u001b[0m\u001b[0;34m\u001b[0m\u001b[0;34m\u001b[0m\u001b[0m\n\u001b[0;32m-> 2091\u001b[0;31m                     **kwargs)\n\u001b[0m\u001b[1;32m   2092\u001b[0m             \u001b[0;32mfinally\u001b[0m\u001b[0;34m:\u001b[0m\u001b[0;34m\u001b[0m\u001b[0;34m\u001b[0m\u001b[0m\n\u001b[1;32m   2093\u001b[0m                 \u001b[0;32mif\u001b[0m \u001b[0mbbox_inches\u001b[0m \u001b[0;32mand\u001b[0m \u001b[0mrestore_bbox\u001b[0m\u001b[0;34m:\u001b[0m\u001b[0;34m\u001b[0m\u001b[0;34m\u001b[0m\u001b[0m\n",
      "\u001b[0;32m~/Matteo_S/venv/lib/python3.7/site-packages/matplotlib/backends/backend_agg.py\u001b[0m in \u001b[0;36mprint_png\u001b[0;34m(self, filename_or_obj, metadata, pil_kwargs, *args, **kwargs)\u001b[0m\n\u001b[1;32m    528\u001b[0m             \u001b[0mrenderer\u001b[0m \u001b[0;34m=\u001b[0m \u001b[0mself\u001b[0m\u001b[0;34m.\u001b[0m\u001b[0mget_renderer\u001b[0m\u001b[0;34m(\u001b[0m\u001b[0;34m)\u001b[0m\u001b[0;34m\u001b[0m\u001b[0;34m\u001b[0m\u001b[0m\n\u001b[1;32m    529\u001b[0m             \u001b[0;32mwith\u001b[0m \u001b[0mcbook\u001b[0m\u001b[0;34m.\u001b[0m\u001b[0m_setattr_cm\u001b[0m\u001b[0;34m(\u001b[0m\u001b[0mrenderer\u001b[0m\u001b[0;34m,\u001b[0m \u001b[0mdpi\u001b[0m\u001b[0;34m=\u001b[0m\u001b[0mself\u001b[0m\u001b[0;34m.\u001b[0m\u001b[0mfigure\u001b[0m\u001b[0;34m.\u001b[0m\u001b[0mdpi\u001b[0m\u001b[0;34m)\u001b[0m\u001b[0;34m,\u001b[0m\u001b[0;31m \u001b[0m\u001b[0;31m\\\u001b[0m\u001b[0;34m\u001b[0m\u001b[0;34m\u001b[0m\u001b[0m\n\u001b[0;32m--> 530\u001b[0;31m                     \u001b[0mcbook\u001b[0m\u001b[0;34m.\u001b[0m\u001b[0mopen_file_cm\u001b[0m\u001b[0;34m(\u001b[0m\u001b[0mfilename_or_obj\u001b[0m\u001b[0;34m,\u001b[0m \u001b[0;34m\"wb\"\u001b[0m\u001b[0;34m)\u001b[0m \u001b[0;32mas\u001b[0m \u001b[0mfh\u001b[0m\u001b[0;34m:\u001b[0m\u001b[0;34m\u001b[0m\u001b[0;34m\u001b[0m\u001b[0m\n\u001b[0m\u001b[1;32m    531\u001b[0m                 _png.write_png(renderer._renderer, fh,\n\u001b[1;32m    532\u001b[0m                                self.figure.dpi, metadata=metadata)\n",
      "\u001b[0;32m~/anaconda3/lib/python3.7/contextlib.py\u001b[0m in \u001b[0;36m__enter__\u001b[0;34m(self)\u001b[0m\n\u001b[1;32m    110\u001b[0m         \u001b[0;32mdel\u001b[0m \u001b[0mself\u001b[0m\u001b[0;34m.\u001b[0m\u001b[0margs\u001b[0m\u001b[0;34m,\u001b[0m \u001b[0mself\u001b[0m\u001b[0;34m.\u001b[0m\u001b[0mkwds\u001b[0m\u001b[0;34m,\u001b[0m \u001b[0mself\u001b[0m\u001b[0;34m.\u001b[0m\u001b[0mfunc\u001b[0m\u001b[0;34m\u001b[0m\u001b[0;34m\u001b[0m\u001b[0m\n\u001b[1;32m    111\u001b[0m         \u001b[0;32mtry\u001b[0m\u001b[0;34m:\u001b[0m\u001b[0;34m\u001b[0m\u001b[0;34m\u001b[0m\u001b[0m\n\u001b[0;32m--> 112\u001b[0;31m             \u001b[0;32mreturn\u001b[0m \u001b[0mnext\u001b[0m\u001b[0;34m(\u001b[0m\u001b[0mself\u001b[0m\u001b[0;34m.\u001b[0m\u001b[0mgen\u001b[0m\u001b[0;34m)\u001b[0m\u001b[0;34m\u001b[0m\u001b[0;34m\u001b[0m\u001b[0m\n\u001b[0m\u001b[1;32m    113\u001b[0m         \u001b[0;32mexcept\u001b[0m \u001b[0mStopIteration\u001b[0m\u001b[0;34m:\u001b[0m\u001b[0;34m\u001b[0m\u001b[0;34m\u001b[0m\u001b[0m\n\u001b[1;32m    114\u001b[0m             \u001b[0;32mraise\u001b[0m \u001b[0mRuntimeError\u001b[0m\u001b[0;34m(\u001b[0m\u001b[0;34m\"generator didn't yield\"\u001b[0m\u001b[0;34m)\u001b[0m \u001b[0;32mfrom\u001b[0m \u001b[0;32mNone\u001b[0m\u001b[0;34m\u001b[0m\u001b[0;34m\u001b[0m\u001b[0m\n",
      "\u001b[0;32m~/Matteo_S/venv/lib/python3.7/site-packages/matplotlib/cbook/__init__.py\u001b[0m in \u001b[0;36mopen_file_cm\u001b[0;34m(path_or_file, mode, encoding)\u001b[0m\n\u001b[1;32m    445\u001b[0m \u001b[0;32mdef\u001b[0m \u001b[0mopen_file_cm\u001b[0m\u001b[0;34m(\u001b[0m\u001b[0mpath_or_file\u001b[0m\u001b[0;34m,\u001b[0m \u001b[0mmode\u001b[0m\u001b[0;34m=\u001b[0m\u001b[0;34m\"r\"\u001b[0m\u001b[0;34m,\u001b[0m \u001b[0mencoding\u001b[0m\u001b[0;34m=\u001b[0m\u001b[0;32mNone\u001b[0m\u001b[0;34m)\u001b[0m\u001b[0;34m:\u001b[0m\u001b[0;34m\u001b[0m\u001b[0;34m\u001b[0m\u001b[0m\n\u001b[1;32m    446\u001b[0m     \u001b[0;34mr\"\"\"Pass through file objects and context-manage `.PathLike`\\s.\"\"\"\u001b[0m\u001b[0;34m\u001b[0m\u001b[0;34m\u001b[0m\u001b[0m\n\u001b[0;32m--> 447\u001b[0;31m     \u001b[0mfh\u001b[0m\u001b[0;34m,\u001b[0m \u001b[0mopened\u001b[0m \u001b[0;34m=\u001b[0m \u001b[0mto_filehandle\u001b[0m\u001b[0;34m(\u001b[0m\u001b[0mpath_or_file\u001b[0m\u001b[0;34m,\u001b[0m \u001b[0mmode\u001b[0m\u001b[0;34m,\u001b[0m \u001b[0;32mTrue\u001b[0m\u001b[0;34m,\u001b[0m \u001b[0mencoding\u001b[0m\u001b[0;34m)\u001b[0m\u001b[0;34m\u001b[0m\u001b[0;34m\u001b[0m\u001b[0m\n\u001b[0m\u001b[1;32m    448\u001b[0m     \u001b[0;32mif\u001b[0m \u001b[0mopened\u001b[0m\u001b[0;34m:\u001b[0m\u001b[0;34m\u001b[0m\u001b[0;34m\u001b[0m\u001b[0m\n\u001b[1;32m    449\u001b[0m         \u001b[0;32mwith\u001b[0m \u001b[0mfh\u001b[0m\u001b[0;34m:\u001b[0m\u001b[0;34m\u001b[0m\u001b[0;34m\u001b[0m\u001b[0m\n",
      "\u001b[0;32m~/Matteo_S/venv/lib/python3.7/site-packages/matplotlib/cbook/__init__.py\u001b[0m in \u001b[0;36mto_filehandle\u001b[0;34m(fname, flag, return_opened, encoding)\u001b[0m\n\u001b[1;32m    430\u001b[0m             \u001b[0mfh\u001b[0m \u001b[0;34m=\u001b[0m \u001b[0mbz2\u001b[0m\u001b[0;34m.\u001b[0m\u001b[0mBZ2File\u001b[0m\u001b[0;34m(\u001b[0m\u001b[0mfname\u001b[0m\u001b[0;34m,\u001b[0m \u001b[0mflag\u001b[0m\u001b[0;34m)\u001b[0m\u001b[0;34m\u001b[0m\u001b[0;34m\u001b[0m\u001b[0m\n\u001b[1;32m    431\u001b[0m         \u001b[0;32melse\u001b[0m\u001b[0;34m:\u001b[0m\u001b[0;34m\u001b[0m\u001b[0;34m\u001b[0m\u001b[0m\n\u001b[0;32m--> 432\u001b[0;31m             \u001b[0mfh\u001b[0m \u001b[0;34m=\u001b[0m \u001b[0mopen\u001b[0m\u001b[0;34m(\u001b[0m\u001b[0mfname\u001b[0m\u001b[0;34m,\u001b[0m \u001b[0mflag\u001b[0m\u001b[0;34m,\u001b[0m \u001b[0mencoding\u001b[0m\u001b[0;34m=\u001b[0m\u001b[0mencoding\u001b[0m\u001b[0;34m)\u001b[0m\u001b[0;34m\u001b[0m\u001b[0;34m\u001b[0m\u001b[0m\n\u001b[0m\u001b[1;32m    433\u001b[0m         \u001b[0mopened\u001b[0m \u001b[0;34m=\u001b[0m \u001b[0;32mTrue\u001b[0m\u001b[0;34m\u001b[0m\u001b[0;34m\u001b[0m\u001b[0m\n\u001b[1;32m    434\u001b[0m     \u001b[0;32melif\u001b[0m \u001b[0mhasattr\u001b[0m\u001b[0;34m(\u001b[0m\u001b[0mfname\u001b[0m\u001b[0;34m,\u001b[0m \u001b[0;34m'seek'\u001b[0m\u001b[0;34m)\u001b[0m\u001b[0;34m:\u001b[0m\u001b[0;34m\u001b[0m\u001b[0;34m\u001b[0m\u001b[0m\n",
      "\u001b[0;31mFileNotFoundError\u001b[0m: [Errno 2] No such file or directory: '../Argentina_election/web/static/us2020_twitter_population_0302.png'"
     ]
    },
    {
     "data": {
      "image/png": "[encoded data removed]",
      "text/plain": [
       "<Figure size 720x432 with 1 Axes>"
      ]
     },
     "metadata": {},
     "output_type": "display_data"
    }
   ],
   "source": [
    "groups = users.groupby([\"age_range\", \"gender\"]).size()\n",
    "groups\n",
    "\n",
    "sns.set(style=\"darkgrid\", font_scale=1.2)\n",
    "plt.style.use('fivethirtyeight')\n",
    "plt.figure(figsize=(10, 6))\n",
    "groups.plot.bar()\n",
    "plt.xlabel(\"\")\n",
    "plt.xticks(rotation=45)\n",
    "plt.savefig(\"../Argentina_election/web/static/us2020_twitter_population_0302.png\",\n",
    "            bbox_inches = 'tight', dpi=300)"
   ]
  },
  {
   "cell_type": "code",
   "execution_count": 7,
   "metadata": {
    "ExecuteTime": {
     "end_time": "2020-03-15T16:07:44.878335Z",
     "start_time": "2020-03-15T16:07:44.163213Z"
    }
   },
   "outputs": [
    {
     "name": "stderr",
     "output_type": "stream",
     "text": [
      "546392it [00:00, 789029.62it/s]\n"
     ]
    }
   ],
   "source": [
    "m_18, f_18 = 0, 0\n",
    "m_30, f_30 = 0, 0\n",
    "m_50, f_50 = 0, 0\n",
    "m_65, f_65 = 0, 0\n",
    "\n",
    "for row in tqdm(users.itertuples()):\n",
    "    if row.gender == \"Male\":\n",
    "        if row.age >= 18 and row.age < 30:\n",
    "            m_18 += 1\n",
    "        elif row.age >= 30 and row.age < 50:\n",
    "            m_30 += 1\n",
    "        elif row.age >= 50 and row.age < 65:\n",
    "            m_50 += 1\n",
    "        elif row.age >= 65:\n",
    "            m_65 += 1\n",
    "    elif row.gender == \"Female\":\n",
    "        if row.age >= 18 and row.age < 30:\n",
    "            f_18 += 1\n",
    "        elif row.age >= 30 and row.age < 50:\n",
    "            f_30 += 1\n",
    "        elif row.age >= 50 and row.age < 65:\n",
    "            f_50 += 1\n",
    "        elif row.age >= 65:\n",
    "            f_65 += 1\n",
    "            \n",
    "age_gender_dist = {\n",
    "    \"category\": [\n",
    "        \"female 18-29\", \"male 18-29\", \n",
    "        \"female 30-49\", \"male 30-49\", \n",
    "        \"female 50-64\", \"male 50-64\", \n",
    "        \"female >=65\", \"male >=65\",\n",
    "    ],\n",
    "    \"n\": [\n",
    "              f_18, m_18, \n",
    "              f_30, m_30, \n",
    "              f_50, m_50, \n",
    "              f_65, m_65,\n",
    "         ]\n",
    "}\n",
    "age_gender_dist = pd.DataFrame(age_gender_dist).set_index(\"category\")\n",
    "age_gender_dist[\"percent\"] = age_gender_dist / age_gender_dist.sum()"
   ]
  },
  {
   "cell_type": "raw",
   "metadata": {},
   "source": [
    "# age_gender_dist['n'].plot.bar(legend=None, color=\"r\")\n",
    "# plt.title(\"Distribtuion of population from Twitter\")\n",
    "plt.figure(figsize=(8, 4))\n",
    "age_gender_dist[\"percent\"].plot.bar(legend=None)\n",
    "plt.xticks(rotation=45)\n",
    "plt.xlabel(\"\")\n",
    "plt.savefig(\"web/static/us_twitter_population.png\", dpi=300, bbox_inches = 'tight')"
   ]
  },
  {
   "cell_type": "markdown",
   "metadata": {},
   "source": [
    "## Census"
   ]
  },
  {
   "cell_type": "code",
   "execution_count": 8,
   "metadata": {
    "ExecuteTime": {
     "end_time": "2020-03-15T16:08:03.515726Z",
     "start_time": "2020-03-15T16:08:03.475896Z"
    },
    "collapsed": true
   },
   "outputs": [
    {
     "data": {
      "text/html": [
       "<div>\n",
       "<style scoped>\n",
       "    .dataframe tbody tr th:only-of-type {\n",
       "        vertical-align: middle;\n",
       "    }\n",
       "\n",
       "    .dataframe tbody tr th {\n",
       "        vertical-align: top;\n",
       "    }\n",
       "\n",
       "    .dataframe thead th {\n",
       "        text-align: right;\n",
       "    }\n",
       "</style>\n",
       "<table border=\"1\" class=\"dataframe\">\n",
       "  <thead>\n",
       "    <tr style=\"text-align: right;\">\n",
       "      <th></th>\n",
       "      <th>SUMLEV</th>\n",
       "      <th>REGION</th>\n",
       "      <th>DIVISION</th>\n",
       "      <th>STATE</th>\n",
       "      <th>NAME</th>\n",
       "      <th>SEX</th>\n",
       "      <th>AGE</th>\n",
       "      <th>ESTBASE2010_CIV</th>\n",
       "      <th>POPEST2010_CIV</th>\n",
       "      <th>POPEST2011_CIV</th>\n",
       "      <th>POPEST2012_CIV</th>\n",
       "      <th>POPEST2013_CIV</th>\n",
       "      <th>POPEST2014_CIV</th>\n",
       "      <th>POPEST2015_CIV</th>\n",
       "      <th>POPEST2016_CIV</th>\n",
       "      <th>POPEST2017_CIV</th>\n",
       "      <th>POPEST2018_CIV</th>\n",
       "    </tr>\n",
       "  </thead>\n",
       "  <tbody>\n",
       "    <tr>\n",
       "      <th>0</th>\n",
       "      <td>10</td>\n",
       "      <td>0</td>\n",
       "      <td>0</td>\n",
       "      <td>0</td>\n",
       "      <td>United States</td>\n",
       "      <td>0</td>\n",
       "      <td>0</td>\n",
       "      <td>3944160</td>\n",
       "      <td>3951430</td>\n",
       "      <td>3963092</td>\n",
       "      <td>3926570</td>\n",
       "      <td>3931258</td>\n",
       "      <td>3954786</td>\n",
       "      <td>3983965</td>\n",
       "      <td>3955192</td>\n",
       "      <td>3893945</td>\n",
       "      <td>3848208</td>\n",
       "    </tr>\n",
       "    <tr>\n",
       "      <th>1</th>\n",
       "      <td>10</td>\n",
       "      <td>0</td>\n",
       "      <td>0</td>\n",
       "      <td>0</td>\n",
       "      <td>United States</td>\n",
       "      <td>0</td>\n",
       "      <td>1</td>\n",
       "      <td>3978090</td>\n",
       "      <td>3957730</td>\n",
       "      <td>3966225</td>\n",
       "      <td>3977550</td>\n",
       "      <td>3942696</td>\n",
       "      <td>3948892</td>\n",
       "      <td>3973192</td>\n",
       "      <td>4003594</td>\n",
       "      <td>3973803</td>\n",
       "      <td>3912900</td>\n",
       "    </tr>\n",
       "    <tr>\n",
       "      <th>2</th>\n",
       "      <td>10</td>\n",
       "      <td>0</td>\n",
       "      <td>0</td>\n",
       "      <td>0</td>\n",
       "      <td>United States</td>\n",
       "      <td>0</td>\n",
       "      <td>2</td>\n",
       "      <td>4096939</td>\n",
       "      <td>4090621</td>\n",
       "      <td>3970654</td>\n",
       "      <td>3978924</td>\n",
       "      <td>3991745</td>\n",
       "      <td>3958708</td>\n",
       "      <td>3966330</td>\n",
       "      <td>3991543</td>\n",
       "      <td>4020825</td>\n",
       "      <td>3991437</td>\n",
       "    </tr>\n",
       "    <tr>\n",
       "      <th>3</th>\n",
       "      <td>10</td>\n",
       "      <td>0</td>\n",
       "      <td>0</td>\n",
       "      <td>0</td>\n",
       "      <td>United States</td>\n",
       "      <td>0</td>\n",
       "      <td>3</td>\n",
       "      <td>4119051</td>\n",
       "      <td>4111688</td>\n",
       "      <td>4101644</td>\n",
       "      <td>3981532</td>\n",
       "      <td>3991019</td>\n",
       "      <td>4005932</td>\n",
       "      <td>3974354</td>\n",
       "      <td>3982719</td>\n",
       "      <td>4006802</td>\n",
       "      <td>4036562</td>\n",
       "    </tr>\n",
       "    <tr>\n",
       "      <th>4</th>\n",
       "      <td>10</td>\n",
       "      <td>0</td>\n",
       "      <td>0</td>\n",
       "      <td>0</td>\n",
       "      <td>United States</td>\n",
       "      <td>0</td>\n",
       "      <td>4</td>\n",
       "      <td>4063186</td>\n",
       "      <td>4077346</td>\n",
       "      <td>4121488</td>\n",
       "      <td>4111490</td>\n",
       "      <td>3992496</td>\n",
       "      <td>4004035</td>\n",
       "      <td>4020264</td>\n",
       "      <td>3989317</td>\n",
       "      <td>3996592</td>\n",
       "      <td>4021168</td>\n",
       "    </tr>\n",
       "    <tr>\n",
       "      <th>...</th>\n",
       "      <td>...</td>\n",
       "      <td>...</td>\n",
       "      <td>...</td>\n",
       "      <td>...</td>\n",
       "      <td>...</td>\n",
       "      <td>...</td>\n",
       "      <td>...</td>\n",
       "      <td>...</td>\n",
       "      <td>...</td>\n",
       "      <td>...</td>\n",
       "      <td>...</td>\n",
       "      <td>...</td>\n",
       "      <td>...</td>\n",
       "      <td>...</td>\n",
       "      <td>...</td>\n",
       "      <td>...</td>\n",
       "      <td>...</td>\n",
       "    </tr>\n",
       "    <tr>\n",
       "      <th>13567</th>\n",
       "      <td>40</td>\n",
       "      <td>4</td>\n",
       "      <td>8</td>\n",
       "      <td>56</td>\n",
       "      <td>Wyoming</td>\n",
       "      <td>2</td>\n",
       "      <td>82</td>\n",
       "      <td>1103</td>\n",
       "      <td>1103</td>\n",
       "      <td>1107</td>\n",
       "      <td>1084</td>\n",
       "      <td>1106</td>\n",
       "      <td>1105</td>\n",
       "      <td>1035</td>\n",
       "      <td>1090</td>\n",
       "      <td>1134</td>\n",
       "      <td>1122</td>\n",
       "    </tr>\n",
       "    <tr>\n",
       "      <th>13568</th>\n",
       "      <td>40</td>\n",
       "      <td>4</td>\n",
       "      <td>8</td>\n",
       "      <td>56</td>\n",
       "      <td>Wyoming</td>\n",
       "      <td>2</td>\n",
       "      <td>83</td>\n",
       "      <td>911</td>\n",
       "      <td>936</td>\n",
       "      <td>1028</td>\n",
       "      <td>1035</td>\n",
       "      <td>1002</td>\n",
       "      <td>1030</td>\n",
       "      <td>1031</td>\n",
       "      <td>953</td>\n",
       "      <td>1026</td>\n",
       "      <td>1057</td>\n",
       "    </tr>\n",
       "    <tr>\n",
       "      <th>13569</th>\n",
       "      <td>40</td>\n",
       "      <td>4</td>\n",
       "      <td>8</td>\n",
       "      <td>56</td>\n",
       "      <td>Wyoming</td>\n",
       "      <td>2</td>\n",
       "      <td>84</td>\n",
       "      <td>894</td>\n",
       "      <td>883</td>\n",
       "      <td>880</td>\n",
       "      <td>1011</td>\n",
       "      <td>988</td>\n",
       "      <td>945</td>\n",
       "      <td>973</td>\n",
       "      <td>974</td>\n",
       "      <td>919</td>\n",
       "      <td>985</td>\n",
       "    </tr>\n",
       "    <tr>\n",
       "      <th>13570</th>\n",
       "      <td>40</td>\n",
       "      <td>4</td>\n",
       "      <td>8</td>\n",
       "      <td>56</td>\n",
       "      <td>Wyoming</td>\n",
       "      <td>2</td>\n",
       "      <td>85</td>\n",
       "      <td>5624</td>\n",
       "      <td>5644</td>\n",
       "      <td>5730</td>\n",
       "      <td>5853</td>\n",
       "      <td>6051</td>\n",
       "      <td>6257</td>\n",
       "      <td>6368</td>\n",
       "      <td>6535</td>\n",
       "      <td>6672</td>\n",
       "      <td>6680</td>\n",
       "    </tr>\n",
       "    <tr>\n",
       "      <th>13571</th>\n",
       "      <td>40</td>\n",
       "      <td>4</td>\n",
       "      <td>8</td>\n",
       "      <td>56</td>\n",
       "      <td>Wyoming</td>\n",
       "      <td>2</td>\n",
       "      <td>999</td>\n",
       "      <td>275794</td>\n",
       "      <td>276208</td>\n",
       "      <td>277516</td>\n",
       "      <td>281553</td>\n",
       "      <td>284380</td>\n",
       "      <td>284662</td>\n",
       "      <td>285877</td>\n",
       "      <td>285310</td>\n",
       "      <td>283094</td>\n",
       "      <td>282689</td>\n",
       "    </tr>\n",
       "  </tbody>\n",
       "</table>\n",
       "<p>13572 rows × 17 columns</p>\n",
       "</div>"
      ],
      "text/plain": [
       "       SUMLEV  REGION  DIVISION  STATE           NAME  SEX  AGE  \\\n",
       "0          10       0         0      0  United States    0    0   \n",
       "1          10       0         0      0  United States    0    1   \n",
       "2          10       0         0      0  United States    0    2   \n",
       "3          10       0         0      0  United States    0    3   \n",
       "4          10       0         0      0  United States    0    4   \n",
       "...       ...     ...       ...    ...            ...  ...  ...   \n",
       "13567      40       4         8     56        Wyoming    2   82   \n",
       "13568      40       4         8     56        Wyoming    2   83   \n",
       "13569      40       4         8     56        Wyoming    2   84   \n",
       "13570      40       4         8     56        Wyoming    2   85   \n",
       "13571      40       4         8     56        Wyoming    2  999   \n",
       "\n",
       "       ESTBASE2010_CIV  POPEST2010_CIV  POPEST2011_CIV  POPEST2012_CIV  \\\n",
       "0              3944160         3951430         3963092         3926570   \n",
       "1              3978090         3957730         3966225         3977550   \n",
       "2              4096939         4090621         3970654         3978924   \n",
       "3              4119051         4111688         4101644         3981532   \n",
       "4              4063186         4077346         4121488         4111490   \n",
       "...                ...             ...             ...             ...   \n",
       "13567             1103            1103            1107            1084   \n",
       "13568              911             936            1028            1035   \n",
       "13569              894             883             880            1011   \n",
       "13570             5624            5644            5730            5853   \n",
       "13571           275794          276208          277516          281553   \n",
       "\n",
       "       POPEST2013_CIV  POPEST2014_CIV  POPEST2015_CIV  POPEST2016_CIV  \\\n",
       "0             3931258         3954786         3983965         3955192   \n",
       "1             3942696         3948892         3973192         4003594   \n",
       "2             3991745         3958708         3966330         3991543   \n",
       "3             3991019         4005932         3974354         3982719   \n",
       "4             3992496         4004035         4020264         3989317   \n",
       "...               ...             ...             ...             ...   \n",
       "13567            1106            1105            1035            1090   \n",
       "13568            1002            1030            1031             953   \n",
       "13569             988             945             973             974   \n",
       "13570            6051            6257            6368            6535   \n",
       "13571          284380          284662          285877          285310   \n",
       "\n",
       "       POPEST2017_CIV  POPEST2018_CIV  \n",
       "0             3893945         3848208  \n",
       "1             3973803         3912900  \n",
       "2             4020825         3991437  \n",
       "3             4006802         4036562  \n",
       "4             3996592         4021168  \n",
       "...               ...             ...  \n",
       "13567            1134            1122  \n",
       "13568            1026            1057  \n",
       "13569             919             985  \n",
       "13570            6672            6680  \n",
       "13571          283094          282689  \n",
       "\n",
       "[13572 rows x 17 columns]"
      ]
     },
     "execution_count": 8,
     "metadata": {},
     "output_type": "execute_result"
    }
   ],
   "source": [
    "data = pd.read_csv(\"data/US_age_sex.csv\")\n",
    "data"
   ]
  },
  {
   "cell_type": "code",
   "execution_count": 9,
   "metadata": {
    "ExecuteTime": {
     "end_time": "2020-03-15T16:08:07.757522Z",
     "start_time": "2020-03-15T16:08:07.754212Z"
    }
   },
   "outputs": [
    {
     "data": {
      "text/plain": [
       "array(['United States', 'Alabama', 'Alaska', 'Arizona', 'Arkansas',\n",
       "       'California', 'Colorado', 'Connecticut', 'Delaware',\n",
       "       'District of Columbia', 'Florida', 'Georgia', 'Hawaii', 'Idaho',\n",
       "       'Illinois', 'Indiana', 'Iowa', 'Kansas', 'Kentucky', 'Louisiana',\n",
       "       'Maine', 'Maryland', 'Massachusetts', 'Michigan', 'Minnesota',\n",
       "       'Mississippi', 'Missouri', 'Montana', 'Nebraska', 'Nevada',\n",
       "       'New Hampshire', 'New Jersey', 'New Mexico', 'New York',\n",
       "       'North Carolina', 'North Dakota', 'Ohio', 'Oklahoma', 'Oregon',\n",
       "       'Pennsylvania', 'Rhode Island', 'South Carolina', 'South Dakota',\n",
       "       'Tennessee', 'Texas', 'Utah', 'Vermont', 'Virginia', 'Washington',\n",
       "       'West Virginia', 'Wisconsin', 'Wyoming'], dtype=object)"
      ]
     },
     "execution_count": 9,
     "metadata": {},
     "output_type": "execute_result"
    }
   ],
   "source": [
    "data.NAME.unique()"
   ]
  },
  {
   "cell_type": "code",
   "execution_count": 10,
   "metadata": {
    "ExecuteTime": {
     "end_time": "2020-03-15T16:08:09.924646Z",
     "start_time": "2020-03-15T16:08:08.085117Z"
    }
   },
   "outputs": [
    {
     "name": "stdout",
     "output_type": "stream",
     "text": [
      "United States\n",
      "Alabama\n",
      "Alaska\n",
      "Arizona\n",
      "Arkansas\n",
      "California\n",
      "Colorado\n",
      "Connecticut\n",
      "Delaware\n",
      "District of Columbia\n",
      "Florida\n",
      "Georgia\n",
      "Hawaii\n",
      "Idaho\n",
      "Illinois\n",
      "Indiana\n",
      "Iowa\n",
      "Kansas\n",
      "Kentucky\n",
      "Louisiana\n",
      "Maine\n",
      "Maryland\n",
      "Massachusetts\n",
      "Michigan\n",
      "Minnesota\n",
      "Mississippi\n",
      "Missouri\n",
      "Montana\n",
      "Nebraska\n",
      "Nevada\n",
      "New Hampshire\n",
      "New Jersey\n",
      "New Mexico\n",
      "New York\n",
      "North Carolina\n",
      "North Dakota\n",
      "Ohio\n",
      "Oklahoma\n",
      "Oregon\n",
      "Pennsylvania\n",
      "Rhode Island\n",
      "South Carolina\n",
      "South Dakota\n",
      "Tennessee\n",
      "Texas\n",
      "Utah\n",
      "Vermont\n",
      "Virginia\n",
      "Washington\n",
      "West Virginia\n",
      "Wisconsin\n",
      "Wyoming\n"
     ]
    }
   ],
   "source": [
    "for state in data.NAME.unique():\n",
    "    print(state)\n",
    "    cen = data[data[\"NAME\"]==state]\n",
    "    cen = {\n",
    "        \"category\": [\"female 18-29\",\n",
    "                     \"male 18-29\", \n",
    "                     \"female 30-49\",\n",
    "                     \"male 30-49\", \n",
    "                     \"female 50-64\",\n",
    "                     \"male 50-64\", \n",
    "                     \"female >=65\", \n",
    "                     \"male >=65\", ],\n",
    "        \"n\": [\n",
    "              sum(cen[(cen.SEX == 2) & (cen.AGE >= 18) & (cen.AGE < 30)][\"POPEST2018_CIV\"]),\n",
    "              sum(cen[(cen.SEX == 1) & (cen.AGE >= 18) & (cen.AGE < 30)][\"POPEST2018_CIV\"]),\n",
    "              sum(cen[(cen.SEX == 2) & (cen.AGE >= 30) & (cen.AGE < 50)][\"POPEST2018_CIV\"]),\n",
    "              sum(cen[(cen.SEX == 1) & (cen.AGE >= 30) & (cen.AGE < 50)][\"POPEST2018_CIV\"]),\n",
    "              sum(cen[(cen.SEX == 2) & (cen.AGE >= 50) & (cen.AGE < 65)][\"POPEST2018_CIV\"]),\n",
    "              sum(cen[(cen.SEX == 1) & (cen.AGE >= 50) & (cen.AGE < 65)][\"POPEST2018_CIV\"]),\n",
    "              sum(cen[(cen.SEX == 2) & (cen.AGE >= 65) & (cen.AGE < 100)][\"POPEST2018_CIV\"]),\n",
    "              sum(cen[(cen.SEX == 1) & (cen.AGE >= 65) & (cen.AGE < 100)][\"POPEST2018_CIV\"]),\n",
    "            ]\n",
    "    }\n",
    "    cen = pd.DataFrame(cen).set_index(\"category\")\n",
    "    cen[\"percent\"] = cen / cen.sum()\n",
    "#     cen\n",
    "    cen.to_csv(f\"data/census/{state}.csv\")\n",
    "    \n",
    "    plt.figure(figsize=(10, 6))\n",
    "    cen[\"percent\"].plot.bar()\n",
    "    plt.xticks(rotation=45)\n",
    "    plt.xlabel(\"\")\n",
    "    plt.title(f\"Distribution of population from Census ({state})\")\n",
    "    #plt.savefig(f\"fig/us_census_{state}.png\", dpi=300, bbox_inches = 'tight')\n",
    "    plt.close()"
   ]
  },
  {
   "cell_type": "code",
   "execution_count": null,
   "metadata": {
    "ExecuteTime": {
     "end_time": "2020-03-02T20:11:44.263357Z",
     "start_time": "2020-03-02T20:07:33.857095Z"
    }
   },
   "outputs": [],
   "source": [
    "num2label = {\n",
    "     0: \"Pete Buttigieg\", \n",
    "     1: \"Bernie Sanders\", \n",
    "     2: \"Elizabeth Warren\", \n",
    "     3: \"Joe Biden\", \n",
    "     4: \"Others\",\n",
    "     5: \"Mike Bloomberg\"\n",
    "}\n",
    "\n",
    "def making_pickle_file(csv_file, pickle_file):\n",
    "    users = pd.read_csv(csv_file).set_index(\"uid\").T.to_dict()\n",
    "    _users = []\n",
    "    for u, v in users.items():\n",
    "        _v = np.array([v[\"0\"], v[\"1\"], v[\"2\"], v[\"3\"], v[\"4\"], v[\"5\"]])\n",
    "#         _v = np.array([v[\"0\"], v[\"1\"], v[\"2\"], v[\"3\"], v[\"4\"]])\n",
    "        camp = num2label[_v.argmax()]\n",
    "        _users.append({\n",
    "            \"uid\": u,\n",
    "            \"Camp\": camp\n",
    "        })\n",
    "    print(\"# of users:\", len(_users))\n",
    "    pd.DataFrame(_users).set_index(\"uid\").to_pickle(pickle_file)\n",
    "\n",
    "for i in tqdm(range(1, 181)):\n",
    "    if i % 3 == 0:\n",
    "        making_pickle_file(f\"disk/users-To2020-02-29/{i}.csv\",\n",
    "                           f\"data/users_pickle_mat/To2020-02-29-{i}.pl\")"
   ]
  },
  {
   "cell_type": "code",
   "execution_count": null,
   "metadata": {
    "ExecuteTime": {
     "end_time": "2020-03-07T16:49:46.847619Z",
     "start_time": "2020-03-07T16:49:46.843234Z"
    }
   },
   "outputs": [],
   "source": [
    "######################################\n",
    "#################################\n",
    "#####Matteo\n",
    "num2label = {\n",
    "     0: \"Pete Buttigieg\", \n",
    "     1: \"Bernie Sanders\", \n",
    "     2: \"Elizabeth Warren\", \n",
    "     3: \"Joe Biden\", \n",
    "     4: \"Others\",\n",
    "     5: \"Mike Bloomberg\"\n",
    "}\n",
    "\n",
    "def making_pickle_file(csv_file, pickle_file):\n",
    "    users = pd.read_csv(csv_file).set_index(\"uid\").T.to_dict()\n",
    "    _users = []\n",
    "    for u, v in users.items():\n",
    "        _v = np.array([v[\"0\"], v[\"1\"], v[\"2\"], v[\"3\"], v[\"4\"], v[\"5\"]])\n",
    "#         _v = np.array([v[\"0\"], v[\"1\"], v[\"2\"], v[\"3\"], v[\"4\"]])\n",
    "        camp = num2label[_v.argmax()]\n",
    "        _users.append({\n",
    "            \"uid\": u,\n",
    "            \"Camp\": camp\n",
    "        })\n",
    "    print(\"# of users:\", len(_users))\n",
    "    pd.DataFrame(_users).set_index(\"uid\").to_pickle(pickle_file)\n",
    "\n",
    "#for i in tqdm(range(1, 181)):\n",
    "#    if i % 2 == 0:\n",
    "#        making_pickle_file(f\"disk/users-To2020-02-29/{i}.csv\",\n",
    "#                           f\"data/users_pickle_mat/To2020-02-29-{i}.pl\")"
   ]
  },
  {
   "cell_type": "code",
   "execution_count": null,
   "metadata": {},
   "outputs": [],
   "source": [
    "# making_pickle_file(\"disk/users-14days/2020-02-11.csv\",\n",
    "#                    \"disk/users-pickle/14days-2020-02-11.pl\")\n",
    "\n",
    "# making_pickle_file(\"disk/users-14days/2020-02-22.csv\",\n",
    "#                    \"disk/users-pickle/14days-2020-02-22.pl\")\n",
    "\n",
    "#making_pickle_file(\"disk/users-14days/2020-02-24.csv\",\n",
    "#                   \"disk/users-pickle/14days-2020-02-24.pl\")\n"
   ]
  },
  {
   "cell_type": "code",
   "execution_count": null,
   "metadata": {
    "ExecuteTime": {
     "end_time": "2020-03-09T02:26:18.832057Z",
     "start_time": "2020-03-09T02:26:17.660335Z"
    }
   },
   "outputs": [],
   "source": [
    "# join the opinions\n",
    "# users_opinion = pd.read_pickle(\"disk/users-pickle/14days-2020-02-03.pl\")\n",
    "users_opinion = pd.read_pickle(\"disk/users-pickle/To2020-02-29-60.pl\")\n",
    "users_opinion"
   ]
  },
  {
   "cell_type": "code",
   "execution_count": null,
   "metadata": {
    "ExecuteTime": {
     "end_time": "2020-03-09T02:26:22.646253Z",
     "start_time": "2020-03-09T02:26:22.360883Z"
    }
   },
   "outputs": [],
   "source": [
    "print(\"N of classified users:\", len(users_opinion))\n",
    "print(\"% of users supporting BS:\", float(users_opinion[users_opinion[\"Camp\"] == \"Bernie Sanders\"].count() / users_opinion.count()) * 100)"
   ]
  },
  {
   "cell_type": "code",
   "execution_count": null,
   "metadata": {
    "ExecuteTime": {
     "end_time": "2020-03-09T02:26:25.373687Z",
     "start_time": "2020-03-09T02:26:24.923293Z"
    }
   },
   "outputs": [],
   "source": [
    "users_v2 = users.join(users_opinion, how=\"inner\")\n",
    "print(users_v2)\n",
    "print(\"N of classified users with age, gender:\", len(users_v2))\n",
    "print(\"% of users supporting Clinton:\", len(users_v2[users_v2[\"Camp\"] == \"Bernie Sanders\"]) / len(users_v2) * 100)\n",
    "print(\"% of users supporting Others:\", len(users_v2[users_v2[\"Camp\"] == \"Others\"]) / len(users_v2) * 100)"
   ]
  },
  {
   "cell_type": "code",
   "execution_count": null,
   "metadata": {
    "ExecuteTime": {
     "end_time": "2020-03-09T02:26:32.114455Z",
     "start_time": "2020-03-09T02:26:32.045041Z"
    }
   },
   "outputs": [],
   "source": [
    "groups = users_v2.groupby([\"age_range\", \"gender\", \"Camp\"]).size()\n",
    "groups"
   ]
  },
  {
   "cell_type": "code",
   "execution_count": null,
   "metadata": {
    "ExecuteTime": {
     "end_time": "2020-03-02T13:26:01.482576Z",
     "start_time": "2020-03-02T13:25:59.607279Z"
    }
   },
   "outputs": [],
   "source": [
    "colors = [\n",
    "'#7cb5ec', '#434348', '#90ed7d', '#f7a35c', '#8085e9', \n",
    "]\n",
    "\n",
    "sns.set(style=\"darkgrid\", font_scale=1.5)\n",
    "plt.style.use('fivethirtyeight')\n",
    "plt.figure(figsize=(18, 6))\n",
    "groups.plot.bar(color=colors)\n",
    "plt.xlabel(\"\")\n",
    "plt.savefig(\"../Argentina_election/web/static/US2020_age_gender_0302.png\", bbox_inches = 'tight', dpi=300)"
   ]
  },
  {
   "cell_type": "markdown",
   "metadata": {},
   "source": [
    "# Add location (states)"
   ]
  },
  {
   "cell_type": "code",
   "execution_count": 4,
   "metadata": {
    "ExecuteTime": {
     "end_time": "2020-03-15T20:41:08.833171Z",
     "start_time": "2020-03-15T20:41:07.573417Z"
    }
   },
   "outputs": [],
   "source": [
    "users = pd.read_csv(\"disk/users-face/2020-03-15.csv\").set_index(\"uid\")\n",
    "users_state = pd.read_csv(\"disk/users-location/2020-03-15.csv\", \n",
    "                          usecols=[\"uid\",\"state\"],\n",
    "                          error_bad_lines=False).set_index(\"uid\")\n",
    "users_state_gender_age = users.join(users_state, how=\"inner\")\n",
    "set_users = set(users_state_gender_age.index)"
   ]
  },
  {
   "cell_type": "code",
   "execution_count": 12,
   "metadata": {
    "ExecuteTime": {
     "end_time": "2020-03-15T16:08:41.909491Z",
     "start_time": "2020-03-15T16:08:41.892162Z"
    },
    "collapsed": true
   },
   "outputs": [
    {
     "ename": "NameError",
     "evalue": "name 'users_v2' is not defined",
     "output_type": "error",
     "traceback": [
      "\u001b[0;31m---------------------------------------------------------------------------\u001b[0m",
      "\u001b[0;31mNameError\u001b[0m                                 Traceback (most recent call last)",
      "\u001b[0;32m<ipython-input-12-88899a9fd1fe>\u001b[0m in \u001b[0;36m<module>\u001b[0;34m\u001b[0m\n\u001b[0;32m----> 1\u001b[0;31m \u001b[0musers_v3\u001b[0m \u001b[0;34m=\u001b[0m \u001b[0musers_v2\u001b[0m\u001b[0;34m.\u001b[0m\u001b[0mjoin\u001b[0m\u001b[0;34m(\u001b[0m\u001b[0musers_state\u001b[0m\u001b[0;34m,\u001b[0m \u001b[0mhow\u001b[0m\u001b[0;34m=\u001b[0m\u001b[0;34m\"inner\"\u001b[0m\u001b[0;34m)\u001b[0m\u001b[0;34m\u001b[0m\u001b[0;34m\u001b[0m\u001b[0m\n\u001b[0m\u001b[1;32m      2\u001b[0m \u001b[0musers_v3\u001b[0m\u001b[0;34m\u001b[0m\u001b[0;34m\u001b[0m\u001b[0m\n",
      "\u001b[0;31mNameError\u001b[0m: name 'users_v2' is not defined"
     ]
    }
   ],
   "source": [
    "users_v3 = users_v2.join(users_state, how=\"inner\")\n",
    "users_v3"
   ]
  },
  {
   "cell_type": "code",
   "execution_count": 5,
   "metadata": {
    "ExecuteTime": {
     "end_time": "2020-03-15T20:41:12.265060Z",
     "start_time": "2020-03-15T20:41:12.258850Z"
    }
   },
   "outputs": [],
   "source": [
    "states = ['CA', 'TX', 'NY', 'FL', 'IL', 'GA', 'PA', 'OH', 'DC', 'NC', 'MI', 'MA',\n",
    "       'IN', 'NJ', 'VA', 'AZ', 'TN', 'WA', 'MD', 'CO', 'MO', 'KY', 'LA', 'MN',\n",
    "       'OR', 'AL', 'SC', 'NV', 'OK', 'WI', 'IA', 'CT', 'KS', 'AR', 'UT', 'MS',\n",
    "       'WV', 'NE', 'NM', 'HI', 'NH', 'RI', 'ME', 'ID', 'AK', 'DE', 'MT', 'SD',\n",
    "       'ND', 'VT', 'WY']"
   ]
  },
  {
   "cell_type": "code",
   "execution_count": null,
   "metadata": {},
   "outputs": [],
   "source": [
    "users_v3.Camp.value_counts()"
   ]
  },
  {
   "cell_type": "code",
   "execution_count": null,
   "metadata": {},
   "outputs": [],
   "source": [
    "users_tmp = users_v3[users_v3.state==\"NV\"]"
   ]
  },
  {
   "cell_type": "code",
   "execution_count": null,
   "metadata": {},
   "outputs": [],
   "source": [
    "users_tmp.Camp.value_counts()"
   ]
  },
  {
   "cell_type": "code",
   "execution_count": null,
   "metadata": {},
   "outputs": [],
   "source": [
    "groups = users_tmp.groupby([\"age_range\", \"gender\", \"Camp\"]).size()\n",
    "groups"
   ]
  },
  {
   "cell_type": "code",
   "execution_count": null,
   "metadata": {},
   "outputs": [],
   "source": [
    "colors = [\n",
    "'#7cb5ec', '#434348', '#90ed7d', '#f7a35c', '#8085e9', '#f15c80', \n",
    "]\n",
    "sns.set(style=\"darkgrid\", font_scale=1.5)\n",
    "plt.style.use('fivethirtyeight')\n",
    "plt.figure(figsize=(18, 6))\n",
    "groups.plot.bar(color=colors)\n",
    "plt.xlabel(\"\")\n",
    "plt.savefig(\"../Argentina_election/web/static/US2020_age_gender_NV_0222.png\", bbox_inches = 'tight', dpi=300)"
   ]
  },
  {
   "cell_type": "code",
   "execution_count": null,
   "metadata": {
    "ExecuteTime": {
     "end_time": "2020-03-02T13:38:00.363978Z",
     "start_time": "2020-03-02T13:37:29.646998Z"
    }
   },
   "outputs": [],
   "source": [
    "sns.set(style=\"darkgrid\", font_scale=1.5)\n",
    "plt.style.use('fivethirtyeight')\n",
    "\n",
    "for _state in states:\n",
    "    # print(_state)\n",
    "    users_tmp = users_v3[users_v3.state==_state]\n",
    "    colors = [\n",
    "        '#7cb5ec', '#434348', '#90ed7d', '#f7a35c', '#8085e9', '#f15c80', \n",
    "    ]\n",
    "    groups = users_tmp.groupby([\"age_range\", \"gender\", \"Camp\"]).size()\n",
    "    plt.figure(figsize=(18, 6))\n",
    "    groups.plot.bar(color=colors)\n",
    "    plt.xlabel(\"\")\n",
    "    plt.savefig(f\"../Argentina_election/web/static/US2020_age_gender_{_state}_0222.png\", \n",
    "                bbox_inches = 'tight')\n",
    "    plt.close()"
   ]
  },
  {
   "cell_type": "code",
   "execution_count": null,
   "metadata": {
    "ExecuteTime": {
     "end_time": "2020-03-03T03:08:10.294661Z",
     "start_time": "2020-03-03T03:08:10.289781Z"
    }
   },
   "outputs": [],
   "source": [
    "num2label = {\n",
    "    # 0: \"Pete Buttigieg\", #remove pete\n",
    "     1: \"Bernie Sanders\", \n",
    "     2: \"Elizabeth Warren\", \n",
    "     3: \"Joe Biden\",\n",
    "     4: \"Others\",\n",
    "     5: \"Mike Bloomberg\"\n",
    "}\n",
    "\n",
    "def making_json_file_v2(csv_file, json_file):\n",
    "    users = pd.read_csv(csv_file).set_index(\"uid\")\n",
    "    _users = []\n",
    "    for u, row in users.iterrows():\n",
    "        if u in set_users:\n",
    "            _v = np.array(row)\n",
    "            max_i = _v.argmax()\n",
    "            if max_i == 0: # remove pete\n",
    "                _v[0] = -1\n",
    "                max_i = _v.argmax()\n",
    "\n",
    "            camp = num2label[max_i]\n",
    "            _users.append({\n",
    "                \"uid\": u,\n",
    "                \"Camp\": camp\n",
    "            })\n",
    "    print(\"# of users:\", len(_users))\n",
    "    users = pd.DataFrame(_users).set_index(\"uid\").join(users_state_gender_age, how=\"inner\")\n",
    "    users.to_json(json_file)"
   ]
  },
  {
   "cell_type": "code",
   "execution_count": null,
   "metadata": {
    "ExecuteTime": {
     "end_time": "2020-03-03T03:33:32.646526Z",
     "start_time": "2020-03-03T03:08:11.876882Z"
    }
   },
   "outputs": [],
   "source": [
    "for i in range(160, 121, -5):\n",
    "    print(i)\n",
    "    making_json_file_v2(f\"data/Cumulatives_BT/170/{i}.csv\",\n",
    "                        f\"data/users-pickle/To2020-02-29-{i}.json\")"
   ]
  },
  {
   "cell_type": "code",
   "execution_count": 3,
   "metadata": {
    "ExecuteTime": {
     "end_time": "2020-04-02T18:29:08.163580Z",
     "start_time": "2020-04-02T18:29:07.854922Z"
    }
   },
   "outputs": [],
   "source": [
    "import us\n",
    "dict_names = us.states.mapping('abbr', 'name')\n",
    "\n",
    "def rescale_opinion(input_users, state_name):\n",
    "    if state_name == \"US\":\n",
    "        cen = pd.read_csv(f\"data/census/US.csv\").set_index(\"category\")\n",
    "    else:\n",
    "        cen = pd.read_csv(f\"data/census/{dict_names[state_name]}.csv\").set_index(\"category\")\n",
    "    # print(\"After reweighting!\")\n",
    "    w = cen.percent.to_list()\n",
    "    \n",
    "    camps = [\n",
    "         \"Bernie Sanders\", \n",
    "         \"Joe Biden\",\n",
    "         #\"Elizabeth Warren\", \n",
    "         #\"Mike Bloomberg\",\n",
    "         #\"Pete Buttigieg\",\n",
    "         #\"Others\",\n",
    "    ]\n",
    "    # print(input_users)\n",
    "    \n",
    "    if state_name == \"US\":\n",
    "        users_tmp = input_users\n",
    "    else:\n",
    "        #print('here')\n",
    "        users_tmp = input_users[input_users.state==state_name]\n",
    "        \n",
    "    groups = users_tmp.groupby([\"age_range\", \"gender\", \"Camp\"]).size()\n",
    "    # print(groups)\n",
    "    _rst = {}\n",
    "    _analysis={}\n",
    "\n",
    "    for _camp in camps:\n",
    "        g1= groups[\">=18, <30\"][\"Female\"].get(_camp, 0)\n",
    "        g2=groups[\">=18, <30\"][\"Male\"].get(_camp, 0)\n",
    "        g3=groups[\">=30, <50\"][\"Female\"].get(_camp, 0)\n",
    "        g4=groups[\">=30, <50\"][\"Male\"].get(_camp, 0)\n",
    "        g5=groups[\">=50, <65\"][\"Female\"].get(_camp, 0)\n",
    "        g6=groups[\">=50, <65\"][\"Male\"].get(_camp, 0)\n",
    "        g7= groups[\">=65\"][\"Female\"].get(_camp, 0)\n",
    "        g8=groups[\">=65\"][\"Male\"].get(_camp, 0)\n",
    "        r =g1 / sum(groups[\">=18, <30\"][\"Female\"]) * w[0] \\\n",
    "        + g2 / sum(groups[\">=18, <30\"][\"Male\"]) * w[1] \\\n",
    "        + g3 / sum(groups[\">=30, <50\"][\"Female\"]) * w[2] \\\n",
    "        + g4 / sum(groups[\">=30, <50\"][\"Male\"]) * w[3] \\\n",
    "        + g5 / sum(groups[\">=50, <65\"][\"Female\"]) * w[4] \\\n",
    "        + g6 / sum(groups[\">=50, <65\"][\"Male\"]) * w[5] \\\n",
    "        + g7 / sum(groups[\">=65\"][\"Female\"]) * w[6] \\\n",
    "        + g8 / sum(groups[\">=65\"][\"Male\"]) * w[7]\n",
    "        # print(_camp, round(r, 3))\n",
    "        _rst[_camp] = round(r * 100, 1)\n",
    "        _analysis[_camp]=[g1,g2,g3,g4,g5,g6,g7,g8]\n",
    "        \n",
    "    return _rst, _analysis"
   ]
  },
  {
   "cell_type": "code",
   "execution_count": 5,
   "metadata": {
    "ExecuteTime": {
     "end_time": "2020-04-02T18:37:28.209406Z",
     "start_time": "2020-04-02T18:30:29.675274Z"
    }
   },
   "outputs": [
    {
     "name": "stderr",
     "output_type": "stream",
     "text": [
      "\n",
      "0it [00:00, ?it/s]\u001b[A\n",
      "1it [00:02,  2.36s/it]\u001b[A\n",
      "2it [00:04,  2.33s/it]\u001b[A\n",
      "3it [00:06,  2.22s/it]\u001b[A\n",
      "4it [00:08,  2.15s/it]\u001b[A\n",
      "5it [00:10,  2.22s/it]\u001b[A\n",
      "6it [00:13,  2.19s/it]\u001b[A\n",
      "7it [00:14,  2.09s/it]\u001b[A\n",
      "8it [00:16,  2.03s/it]\u001b[A\n",
      "9it [00:18,  2.01s/it]\u001b[A\n",
      "10it [00:20,  1.96s/it]\u001b[A\n",
      "11it [00:23,  2.17s/it]\u001b[A\n",
      "12it [00:25,  2.10s/it]\u001b[A\n",
      "13it [00:27,  2.06s/it]\u001b[A\n",
      "14it [00:29,  2.05s/it]\u001b[A\n",
      "15it [00:31,  1.98s/it]\u001b[A\n",
      "16it [00:32,  1.79s/it]\u001b[A\n",
      "17it [00:33,  1.62s/it]\u001b[A\n",
      "18it [00:34,  1.50s/it]\u001b[A\n",
      "19it [00:36,  1.56s/it]\u001b[A\n",
      "20it [00:39,  1.85s/it]\u001b[A\n",
      "21it [00:41,  1.90s/it]\u001b[A\n",
      "22it [00:43,  1.95s/it]\u001b[A\n",
      "23it [00:45,  2.11s/it]\u001b[A\n",
      "24it [00:47,  2.12s/it]\u001b[A\n",
      "25it [00:49,  2.10s/it]\u001b[A\n",
      "26it [00:51,  2.12s/it]\u001b[A\n",
      "27it [00:53,  2.09s/it]\u001b[A\n",
      "28it [00:55,  2.04s/it]\u001b[A\n",
      "29it [00:57,  2.05s/it]\u001b[A\n",
      "30it [01:00,  2.06s/it]\u001b[A\n",
      "31it [01:02,  2.16s/it]\u001b[A\n",
      "32it [01:04,  2.15s/it]\u001b[A\n",
      "33it [01:06,  2.09s/it]\u001b[A\n",
      "34it [01:08,  2.11s/it]\u001b[A\n",
      "35it [01:10,  2.06s/it]\u001b[A\n",
      "36it [01:12,  2.01s/it]\u001b[A\n",
      "37it [01:14,  1.99s/it]\u001b[A\n",
      "38it [01:16,  1.96s/it]\u001b[A\n",
      "39it [01:18,  1.95s/it]\u001b[A\n",
      "40it [01:20,  2.00s/it]\u001b[A\n",
      "41it [01:22,  1.97s/it]\u001b[A\n",
      "42it [01:24,  1.98s/it]\u001b[A\n",
      "43it [01:26,  1.99s/it]\u001b[A\n",
      "44it [01:28,  2.06s/it]\u001b[A\n",
      "45it [01:30,  2.02s/it]\u001b[A\n",
      "46it [01:32,  2.00s/it]\u001b[A\n",
      "47it [01:34,  2.10s/it]\u001b[A\n",
      "48it [01:37,  2.15s/it]\u001b[A\n",
      "49it [01:39,  2.12s/it]\u001b[A\n",
      "50it [01:41,  2.13s/it]\u001b[A\n",
      "51it [01:43,  2.06s/it]\u001b[A\n",
      "52it [01:45,  2.02s/it]\u001b[A\n",
      "53it [01:47,  2.10s/it]\u001b[A\n",
      "54it [01:49,  2.10s/it]\u001b[A\n",
      "55it [01:51,  2.05s/it]\u001b[A\n",
      "56it [01:53,  2.01s/it]\u001b[A\n",
      "57it [01:55,  1.97s/it]\u001b[A\n",
      "58it [01:57,  2.00s/it]\u001b[A\n",
      "59it [01:59,  2.04s/it]\u001b[A\n",
      "60it [02:01,  2.01s/it]\u001b[A\n",
      "61it [02:03,  2.03s/it]\u001b[A\n",
      "62it [02:05,  2.08s/it]\u001b[A\n",
      "63it [02:07,  2.09s/it]\u001b[A\n",
      "64it [02:09,  2.06s/it]\u001b[A\n",
      "65it [02:11,  2.02s/it]\u001b[A\n",
      "66it [02:13,  1.99s/it]\u001b[A\n",
      "67it [02:15,  1.97s/it]\u001b[A\n",
      "68it [02:17,  1.97s/it]\u001b[A\n",
      "69it [02:19,  2.04s/it]\u001b[A\n",
      "70it [02:21,  2.13s/it]\u001b[A\n",
      "71it [02:24,  2.15s/it]\u001b[A\n",
      "72it [02:26,  2.16s/it]\u001b[A\n",
      "73it [02:28,  2.19s/it]\u001b[A\n",
      "74it [02:31,  2.28s/it]\u001b[A\n",
      "75it [02:33,  2.37s/it]\u001b[A\n",
      "76it [02:36,  2.37s/it]\u001b[A\n",
      "77it [02:38,  2.24s/it]\u001b[A\n",
      "78it [02:40,  2.20s/it]\u001b[A\n",
      "79it [02:42,  2.14s/it]\u001b[A\n",
      "80it [02:44,  2.08s/it]\u001b[A\n",
      "81it [02:46,  2.06s/it]\u001b[A\n",
      "82it [02:48,  2.08s/it]\u001b[A\n",
      "83it [02:50,  2.08s/it]\u001b[A\n",
      "84it [02:52,  2.09s/it]\u001b[A\n",
      "85it [02:54,  2.05s/it]\u001b[A\n",
      "86it [02:56,  2.14s/it]\u001b[A\n",
      "87it [02:58,  2.09s/it]\u001b[A\n",
      "88it [03:00,  2.07s/it]\u001b[A\n",
      "89it [03:02,  2.03s/it]\u001b[A\n",
      "90it [03:04,  2.00s/it]\u001b[A\n",
      "91it [03:06,  2.00s/it]\u001b[A\n",
      "92it [03:08,  1.97s/it]\u001b[A\n",
      "93it [03:10,  2.01s/it]\u001b[A\n",
      "94it [03:12,  1.99s/it]\u001b[A\n",
      "95it [03:14,  1.99s/it]\u001b[A\n",
      "96it [03:16,  1.98s/it]\u001b[A\n",
      "97it [03:18,  2.08s/it]\u001b[A\n",
      "98it [03:20,  2.09s/it]\u001b[A\n",
      "99it [03:23,  2.14s/it]\u001b[A\n",
      "100it [03:25,  2.11s/it]\u001b[A\n",
      "101it [03:27,  2.07s/it]\u001b[A\n",
      "102it [03:29,  2.04s/it]\u001b[A\n",
      "103it [03:31,  2.02s/it]\u001b[A\n",
      "104it [03:33,  2.01s/it]\u001b[A\n",
      "105it [03:35,  2.00s/it]\u001b[A\n",
      "106it [03:37,  1.98s/it]\u001b[A\n",
      "107it [03:38,  1.97s/it]\u001b[A\n",
      "108it [03:41,  2.02s/it]\u001b[A\n",
      "109it [03:43,  2.04s/it]\u001b[A\n",
      "110it [03:45,  2.03s/it]\u001b[A\n",
      "111it [03:47,  2.02s/it]\u001b[A\n",
      "112it [03:49,  2.10s/it]\u001b[A\n",
      "113it [03:51,  2.06s/it]\u001b[A\n",
      "114it [03:53,  2.04s/it]\u001b[A\n",
      "115it [03:55,  1.97s/it]\u001b[A\n",
      "116it [03:57,  1.96s/it]\u001b[A\n",
      "117it [03:59,  1.96s/it]\u001b[A\n",
      "118it [04:01,  1.96s/it]\u001b[A\n",
      "119it [04:03,  1.95s/it]\u001b[A\n",
      "120it [04:04,  1.95s/it]\u001b[A\n",
      "121it [04:06,  1.94s/it]\u001b[A\n",
      "122it [04:08,  1.93s/it]\u001b[A\n",
      "123it [04:10,  1.93s/it]\u001b[A\n",
      "124it [04:12,  1.92s/it]\u001b[A\n",
      "125it [04:13,  1.71s/it]\u001b[A\n",
      "126it [04:14,  1.54s/it]\u001b[A\n",
      "127it [04:16,  1.44s/it]\u001b[A\n",
      "128it [04:18,  1.58s/it]\u001b[A\n",
      "129it [04:20,  1.80s/it]\u001b[A\n",
      "130it [04:22,  1.88s/it]\u001b[A\n",
      "131it [04:24,  1.89s/it]\u001b[A\n",
      "132it [04:26,  1.90s/it]\u001b[A\n",
      "133it [04:28,  2.03s/it]\u001b[A\n",
      "134it [04:30,  2.03s/it]\u001b[A\n",
      "135it [04:33,  2.18s/it]\u001b[A\n",
      "136it [04:35,  2.23s/it]\u001b[A\n",
      "137it [04:37,  2.27s/it]\u001b[A\n",
      "138it [04:39,  2.20s/it]\u001b[A\n",
      "139it [04:42,  2.24s/it]\u001b[A\n",
      "140it [04:44,  2.22s/it]\u001b[A\n",
      "141it [04:46,  2.18s/it]\u001b[A\n",
      "142it [04:48,  2.12s/it]\u001b[A\n",
      "143it [04:50,  2.19s/it]\u001b[A\n",
      "144it [04:52,  2.12s/it]\u001b[A\n",
      "145it [04:54,  2.13s/it]\u001b[A\n",
      "146it [04:57,  2.12s/it]\u001b[A\n",
      "147it [04:58,  2.06s/it]\u001b[A\n",
      "148it [05:00,  2.03s/it]\u001b[A\n",
      "149it [05:02,  2.00s/it]\u001b[A\n",
      "150it [05:05,  2.05s/it]\u001b[A\n",
      "151it [05:07,  2.14s/it]\u001b[A\n",
      "152it [05:10,  2.30s/it]\u001b[A\n",
      "153it [05:12,  2.41s/it]\u001b[A\n",
      "154it [05:15,  2.51s/it]\u001b[A\n",
      "155it [05:17,  2.35s/it]\u001b[A\n",
      "156it [05:19,  2.27s/it]\u001b[A\n",
      "157it [05:21,  2.21s/it]\u001b[A\n",
      "158it [05:23,  2.15s/it]\u001b[A\n",
      "159it [05:25,  2.10s/it]\u001b[A\n",
      "160it [05:27,  2.07s/it]\u001b[A\n",
      "161it [05:29,  2.04s/it]\u001b[A\n",
      "162it [05:31,  2.13s/it]\u001b[A\n",
      "163it [05:34,  2.18s/it]\u001b[A\n",
      "164it [05:36,  2.34s/it]\u001b[A\n",
      "165it [05:38,  2.26s/it]\u001b[A\n",
      "166it [05:41,  2.21s/it]\u001b[A\n",
      "167it [05:43,  2.18s/it]\u001b[A\n",
      "168it [05:45,  2.15s/it]\u001b[A\n",
      "169it [05:47,  2.13s/it]\u001b[A\n",
      "170it [05:49,  2.15s/it]\u001b[A\n",
      "171it [05:51,  2.22s/it]\u001b[A\n",
      "172it [05:54,  2.38s/it]\u001b[A\n",
      "173it [05:57,  2.41s/it]\u001b[A\n",
      "174it [05:59,  2.42s/it]\u001b[A\n",
      "175it [06:02,  2.41s/it]\u001b[A\n",
      "176it [06:04,  2.55s/it]\u001b[A\n",
      "177it [06:07,  2.57s/it]\u001b[A\n",
      "178it [06:10,  2.59s/it]\u001b[A\n",
      "179it [06:12,  2.59s/it]\u001b[A\n",
      "180it [06:15,  2.68s/it]\u001b[A\n",
      "181it [06:18,  2.70s/it]\u001b[A\n",
      "182it [06:21,  2.81s/it]\u001b[A\n",
      "183it [06:24,  2.78s/it]\u001b[A\n",
      "184it [06:27,  2.88s/it]\u001b[A\n",
      "185it [06:30,  2.94s/it]\u001b[A\n",
      "186it [06:33,  2.92s/it]\u001b[A\n",
      "187it [06:36,  2.90s/it]\u001b[A\n",
      "188it [06:39,  2.97s/it]\u001b[A\n",
      "189it [06:42,  3.04s/it]\u001b[A\n",
      "190it [06:45,  3.08s/it]\u001b[A\n",
      "191it [06:48,  3.01s/it]\u001b[A\n",
      "192it [06:51,  3.11s/it]\u001b[A\n",
      "193it [06:54,  3.12s/it]\u001b[A\n",
      "194it [06:58,  2.16s/it]\u001b[A\n"
     ]
    }
   ],
   "source": [
    "import ujson as json\n",
    "SuperTuesday = ['CA', 'TX', 'NY', 'FL', 'IL', 'GA', 'PA', 'OH', 'DC', 'NC', 'MI', 'MA',\n",
    "      'IN', 'NJ', 'VA', 'AZ', 'TN', 'WA', 'MD', 'CO', 'MO', 'KY', 'LA', 'MN',\n",
    "        'OR', 'AL', 'SC', 'NV', 'OK', 'WI', 'IA', 'CT', 'KS', 'AR', 'UT', 'MS',\n",
    "       'WV', 'NE', 'NM', 'HI', 'NH', 'RI', 'ME', 'ID', 'AK', 'DE', 'MT', 'SD',\n",
    "      'ND', 'VT', 'WY']\n",
    "#                [\"AL\", \"AR\", \"CA\", \"CO\",\n",
    " #               \"ME\", \"MA\", \"MN\", \"NC\", \"OK\",\n",
    " #               \"TN\", \"TX\", \"UT\", \"VT\", \"VA\"]\n",
    "\n",
    "#SuperTuesday = [\"ID\", \"MI\", \"MS\", \"MO\",\"ND\", \"WA\"] # 170\n",
    "rsts = []\n",
    "Analysis =[]\n",
    "# dt = pendulum.date(2020, 2, 29)\n",
    "start = pendulum.datetime(2019, 9,18, tz=\"UTC\")\n",
    "end = pendulum.datetime(2020, 3,29, tz=\"UTC\")\n",
    "i=1\n",
    "for dt in tqdm(pendulum.period(start, end)):\n",
    "#for i in range(188):\n",
    "    dt_str = dt.to_date_string()\n",
    "    #print(dt_str)\n",
    "    #if dt_str == \"2020-03-02\":\n",
    "    if dt_str != \"2020-05-02\":\n",
    "        # print(dt_str)\n",
    "        input_users = pd.read_csv(f\"disk/users-culFrom09_DEM/{dt_str}.csv\").set_index(\"uid\")\n",
    "        #input_users = pd.read_csv(f\"disk/users-To2020-03-10/{i+2}.csv\").set_index(\"uid\")\n",
    "        # print(input_users)\n",
    "        \n",
    "        for k, v in dict_names.items():\n",
    "            if k in SuperTuesday:\n",
    "                # print(k)\n",
    "                rst, analysis = rescale_opinion(input_users, k)\n",
    "                analysis[\"state\"]=k\n",
    "                analysis[\"dt\"] = dt_str\n",
    "                rst[\"state\"] = k\n",
    "                rst[\"dt\"] = dt_str\n",
    "                #rst[\"dt\"] = i+2\n",
    "                #print(rst)\n",
    "                rsts.append(rst)\n",
    "                Analysis.append(analysis)\n",
    "                \n",
    "#Analysis=pd.DataFrame(Analysis).set_index(\"dt\")\n",
    "#Analysis=Analysis.sort_index()\n",
    "rsts = pd.DataFrame(rsts).set_index(\"dt\")\n",
    "rsts = rsts.sort_index()\n",
    "rsts.to_csv(\"data/csv/Democratic_new.csv\")\n",
    "#Analysis.to_csv(\"data/csv/Deep_study.csv\")"
   ]
  },
  {
   "cell_type": "code",
   "execution_count": null,
   "metadata": {
    "ExecuteTime": {
     "end_time": "2020-03-09T02:22:52.237890Z",
     "start_time": "2020-03-09T02:22:52.224936Z"
    }
   },
   "outputs": [],
   "source": [
    "############\n",
    "#########\n",
    "###Matteo\n",
    "import ujson as json\n",
    "\n",
    "SuperTuesday = ['CA', 'TX', 'NY', 'FL', 'IL', 'GA', 'PA', 'OH', 'DC', 'NC', 'MI', 'MA',\n",
    "       'IN', 'NJ', 'VA', 'AZ', 'TN', 'WA', 'MD', 'CO', 'MO', 'KY', 'LA', 'MN',\n",
    "       'OR', 'AL', 'SC', 'NV', 'OK', 'WI', 'IA', 'CT', 'KS', 'AR', 'UT', 'MS',\n",
    "       'WV', 'NE', 'NM', 'HI', 'NH', 'RI', 'ME', 'ID', 'AK', 'DE', 'MT', 'SD',\n",
    "       'ND', 'VT', 'WY']\n",
    "#                [\"AL\", \"AR\", \"CA\", \"CO\",\n",
    " #               \"ME\", \"MA\", \"MN\", \"NC\", \"OK\",\n",
    " #               \"TN\", \"TX\", \"UT\", \"VT\", \"VA\"]\n",
    "\n",
    "# SuperTuesday = [\"AL\", \"CA\", \"CO\", \"ME\", \"TX\", \"UT\", \"VT\", \"VA\"] # 170\n",
    "rsts = []\n",
    "# dt = pendulum.date(2020, 2, 29)\n",
    "start = pendulum.datetime(2019, 9, 14, tz=\"UTC\")\n",
    "end = pendulum.datetime(2020, 3, 6, tz=\"UTC\")\n",
    "\n",
    "for dt in tqdm(pendulum.period(start, end)):\n",
    "    dt_str = dt.to_date_string()\n",
    "    print(dt_str)\n",
    "    #if dt_str == \"2020-03-02\":\n",
    "    if dt_str != \"2021-05-02\":\n",
    "        # print(dt_str)\n",
    "        input_users = pd.read_csv(f\"disk/users-culFrom0302_M2/{dt_str}.csv\").set_index(\"uid\")\n",
    "        input_users_past = pd.read_csv(f\"disk/users-culFrom09_+BG/2020-03-03.csv\").set_index(\"uid\")\n",
    "\n",
    "        # print(input_users)\n",
    "        \n",
    "        for k, v in dict_names.items():\n",
    "            if k in SuperTuesday:\n",
    "                # print(k)\n",
    "                rst = rescale_opinion(input_users, k)\n",
    "                rst[\"state\"] = k\n",
    "                rst[\"dt\"] = dt_str\n",
    "                print(rst)\n",
    "                rsts.append(rst)\n",
    "                \n",
    "rsts = pd.DataFrame(rsts).set_index(\"dt\")\n",
    "rsts = rsts.sort_index()\n",
    "rsts.to_csv(\"data/csv/From09_all_states_Meth2.csv\")"
   ]
  },
  {
   "cell_type": "code",
   "execution_count": null,
   "metadata": {},
   "outputs": [],
   "source": []
  },
  {
   "cell_type": "code",
   "execution_count": null,
   "metadata": {
    "ExecuteTime": {
     "end_time": "2020-03-10T02:51:42.228838Z",
     "start_time": "2020-03-10T02:51:42.220550Z"
    }
   },
   "outputs": [],
   "source": [
    "def resc(dt):\n",
    "    input_users = pd.read_csv(f\"disk/users-culFrom0202/{dt.to_date_string()}.csv\").set_index(\"uid\")\n",
    "    input_users_past = pd.read_csv(f\"disk/users-culFrom09_+BG/2020-03-03.csv\").set_index(\"uid\")\n",
    "    count,countw, countbi,countblo,counto=0,0,0,0,0\n",
    "    tot=0\n",
    "    new_d=pd.concat([input_users_past.iloc[[0]],input_users_past.iloc[[1]]])\n",
    "    j=0\n",
    "    for ii,i in enumerate(input_users_past.index):\n",
    "        tot+=1\n",
    "        if i in input_users.index:\n",
    "            ind=np.where(input_users.index==i)[0][0]\n",
    "            if input_users_past['Camp'][i]==input_users['Camp'][input_users.index[ind]] :\n",
    "                count+=1\n",
    "                new_d=pd.concat([new_d,input_users.iloc[[j]]])\n",
    "            elif input_users_past['Camp'][i]=='Elizabeth Warren':\n",
    "                countw+=1\n",
    "                new_d=pd.concat([new_d,input_users.iloc[[j]]])\n",
    "            elif input_users_past['Camp'][i]=='Pete Buttigieg':\n",
    "                countbi+=1\n",
    "                new_d=pd.concat([new_d,input_users.iloc[[j]]])\n",
    "            elif input_users_past['Camp'][i]=='Mike Bloomberg':\n",
    "                countblo+=1\n",
    "                new_d=pd.concat([new_d,input_users.iloc[[j]]])\n",
    "            elif input_users_past['Camp'][i]=='Others':\n",
    "                counto+=1\n",
    "                new_d=pd.concat([new_d,input_users.iloc[[j]]])\n",
    "            j+=1\n",
    "    \n",
    "        elif input_users_past['Camp'][i] in ['Joe Biden','Bernie Sanders']:\n",
    "            new_d=pd.concat([new_d,input_users_past.iloc[[ii]]])\n",
    "    print('not changed:',count/tot)\n",
    "    print('from W:',countw/tot)\n",
    "    print('from BG:',countbi/tot)\n",
    "    print('from Blo:',countblo/tot)\n",
    "    print('from Oth:',counto/tot)\n",
    "    new_d.to_csv(f\"disk/connection/{dt.to_date_string()}.csv\")\n"
   ]
  },
  {
   "cell_type": "code",
   "execution_count": null,
   "metadata": {
    "ExecuteTime": {
     "end_time": "2020-03-10T03:08:27.133450Z",
     "start_time": "2020-03-10T02:51:43.038599Z"
    }
   },
   "outputs": [],
   "source": [
    "start = pendulum.datetime(2020, 3, 4, tz=\"UTC\")\n",
    "end = pendulum.datetime(2020, 3, 6, tz=\"UTC\")\n",
    "\n",
    "for dt in tqdm(pendulum.period(start, end)):\n",
    "    resc(dt)\n",
    "    "
   ]
  },
  {
   "cell_type": "code",
   "execution_count": null,
   "metadata": {},
   "outputs": [],
   "source": []
  },
  {
   "cell_type": "code",
   "execution_count": null,
   "metadata": {},
   "outputs": [],
   "source": []
  },
  {
   "cell_type": "code",
   "execution_count": null,
   "metadata": {},
   "outputs": [],
   "source": []
  },
  {
   "cell_type": "code",
   "execution_count": null,
   "metadata": {},
   "outputs": [],
   "source": []
  },
  {
   "cell_type": "code",
   "execution_count": null,
   "metadata": {},
   "outputs": [],
   "source": []
  },
  {
   "cell_type": "code",
   "execution_count": null,
   "metadata": {
    "ExecuteTime": {
     "end_time": "2020-03-03T09:28:36.052949Z",
     "start_time": "2020-03-03T09:28:01.523688Z"
    }
   },
   "outputs": [],
   "source": [
    "import ujson as json\n",
    "\n",
    "rsts = []\n",
    "# dt = pendulum.date(2020, 2, 29)\n",
    "\n",
    "start = pendulum.datetime(2019, 9, 14, tz=\"UTC\")\n",
    "end = pendulum.datetime(2020, 3, 2, tz=\"UTC\")\n",
    "SuperTuesday = [\"AL\", \"CA\", \"CO\", \"ME\", \"MA\", \"MN\", \"NC\", \"TX\", \"UT\", \"VT\", \"VA\"] # 170\n",
    "for dt in tqdm(pendulum.period(start, end)):\n",
    "    dt_str = dt.to_date_string()\n",
    "    try:\n",
    "        input_users = pd.read_csv(f\"disk/users-culFrom_bo_09/{dt_str}.csv\").set_index(\"uid\")\n",
    "    except:\n",
    "        continue\n",
    "    # print(input_users)\n",
    "    for k, v in dict_names.items():\n",
    "        if k in SuperTuesday:\n",
    "            rst = rescale_opinion(input_users, k)\n",
    "            rst[\"state\"] = k\n",
    "            rst[\"dt\"] = dt_str\n",
    "            # print(rst)\n",
    "            rsts.append(rst)\n",
    "\n",
    "start = pendulum.datetime(2019, 9, 19, tz=\"UTC\")\n",
    "SuperTuesday = [\"AR\"] # 165\n",
    "for dt in pendulum.period(start, end):\n",
    "    dt_str = dt.to_date_string()\n",
    "    try:\n",
    "        input_users = pd.read_csv(f\"disk/users-culFrom0917/{dt_str}.csv\").set_index(\"uid\")\n",
    "    except:\n",
    "        continue\n",
    "    # print(input_users)\n",
    "    for k, v in dict_names.items():\n",
    "        if k in SuperTuesday:\n",
    "            rst = rescale_opinion(input_users, k)\n",
    "            rst[\"state\"] = k\n",
    "            rst[\"dt\"] = dt_str\n",
    "            # print(rst)\n",
    "            rsts.append(rst)\n",
    "            \n",
    "start = pendulum.datetime(2019, 9, 24, tz=\"UTC\")\n",
    "SuperTuesday = [\"OK\", \"TN\"] # 165\n",
    "for dt in pendulum.period(start, end):\n",
    "    dt_str = dt.to_date_string()\n",
    "    try:\n",
    "        input_users = pd.read_csv(f\"disk/users-culFrom0922/{dt_str}.csv\").set_index(\"uid\")\n",
    "    except:\n",
    "        continue\n",
    "    # print(input_users)\n",
    "    for k, v in dict_names.items():\n",
    "        if k in SuperTuesday:\n",
    "            rst = rescale_opinion(input_users, k)\n",
    "            rst[\"state\"] = k\n",
    "            rst[\"dt\"] = dt_str\n",
    "            # print(rst)\n",
    "            rsts.append(rst)\n",
    "            \n",
    "rsts = pd.DataFrame(rsts).set_index(\"dt\")\n",
    "rsts = rsts.sort_index()\n",
    "rsts.to_csv(\"data/csv/For_superTuesday_v2.csv\")"
   ]
  },
  {
   "cell_type": "code",
   "execution_count": null,
   "metadata": {
    "ExecuteTime": {
     "end_time": "2020-03-03T09:28:46.050120Z",
     "start_time": "2020-03-03T09:28:46.029359Z"
    }
   },
   "outputs": [],
   "source": [
    "data = pd.read_csv(\"data/csv/For_superTuesday_v2.csv\").set_index(\"dt\")\n",
    "print(data)"
   ]
  },
  {
   "cell_type": "code",
   "execution_count": null,
   "metadata": {
    "ExecuteTime": {
     "end_time": "2020-03-03T09:28:57.127412Z",
     "start_time": "2020-03-03T09:28:57.024024Z"
    }
   },
   "outputs": [],
   "source": [
    "SuperTuesday = [\"AL\", \"AR\", \"CA\", \"CO\",\n",
    "                \"ME\", \"MA\", \"MN\", \"NC\", \"OK\",\n",
    "                \"TN\", \"TX\", \"UT\", \"VT\", \"VA\"]\n",
    "\n",
    "for k, v in dict_names.items():\n",
    "    if k in SuperTuesday:\n",
    "        d = data[data.state==k]\n",
    "        d = d.drop(columns = ['state'])\n",
    "        d.to_csv(f\"data/csv/web/results-percent-{k}.csv\")\n",
    "        print(d)"
   ]
  },
  {
   "cell_type": "code",
   "execution_count": 46,
   "metadata": {
    "ExecuteTime": {
     "end_time": "2020-03-16T23:26:53.491970Z",
     "start_time": "2020-03-16T23:26:42.424480Z"
    }
   },
   "outputs": [
    {
     "name": "stderr",
     "output_type": "stream",
     "text": [
      "181it [00:11, 16.37it/s]\n"
     ]
    }
   ],
   "source": [
    "##\n",
    "##\n",
    "##Matteo: this is for the genral cumulative\n",
    "#import ujson as json\n",
    "\n",
    "rsts = []\n",
    "# dt = pendulum.date(2020, 2, 29)\n",
    "\n",
    "start = pendulum.datetime(2019, 9, 18, tz=\"UTC\")\n",
    "end = pendulum.datetime(2020, 3,16 , tz=\"UTC\")\n",
    "for dt in tqdm(pendulum.period(start, end)):\n",
    "    dt_str = dt.to_date_string()\n",
    "    try:\n",
    "        input_users = pd.read_csv(f\"disk/users-culFrom09_sept4/{dt_str}.csv\").set_index(\"uid\")\n",
    "    except:\n",
    "        continue\n",
    "        \n",
    "    rst = rescale_opinion(input_users, \"US\")\n",
    "    rst[\"dt\"] = dt_str\n",
    "    # print(rst)\n",
    "    rsts.append(rst)\n",
    "            \n",
    "rsts = pd.DataFrame(rsts).set_index(\"dt\")\n",
    "rsts = rsts.sort_index()\n",
    "rsts.to_csv(\"data/csv/For_March17.csv\")"
   ]
  },
  {
   "cell_type": "code",
   "execution_count": null,
   "metadata": {
    "ExecuteTime": {
     "end_time": "2020-03-02T17:56:47.140784Z",
     "start_time": "2020-03-02T17:56:47.136256Z"
    }
   },
   "outputs": [],
   "source": [
    "import us\n",
    "dict_names = us.states.mapping('abbr', 'name')\n",
    "dict_names"
   ]
  },
  {
   "cell_type": "markdown",
   "metadata": {
    "heading_collapsed": true
   },
   "source": [
    "## !! Old codes: Added location (counties)"
   ]
  },
  {
   "cell_type": "code",
   "execution_count": null,
   "metadata": {
    "hidden": true
   },
   "outputs": [],
   "source": [
    "users_county = pd.read_csv(\"data/us-user-county.csv\").set_index(\"uid\")"
   ]
  },
  {
   "cell_type": "code",
   "execution_count": null,
   "metadata": {
    "hidden": true
   },
   "outputs": [],
   "source": [
    "users_v3 = users_opinion.join(users_county, on='uid')"
   ]
  },
  {
   "cell_type": "code",
   "execution_count": null,
   "metadata": {
    "hidden": true
   },
   "outputs": [],
   "source": [
    "users_v3 = users_v3.dropna()"
   ]
  },
  {
   "cell_type": "code",
   "execution_count": null,
   "metadata": {
    "hidden": true
   },
   "outputs": [],
   "source": [
    "county_users = {}\n",
    "for row in tqdm(users_v3.itertuples()):\n",
    "    if row.loc not in county_users:\n",
    "        county_users[row.loc] = [0, 0]\n",
    "    if row.Camp==\"Clinton\":\n",
    "        county_users[row.loc][0] += 1\n",
    "    elif row.Camp==\"Trump\":\n",
    "        county_users[row.loc][1] += 1"
   ]
  },
  {
   "cell_type": "code",
   "execution_count": null,
   "metadata": {
    "hidden": true
   },
   "outputs": [],
   "source": [
    "county_users_gap = {}\n",
    "\n",
    "for loc, v in county_users.items():\n",
    "    # print(v[0] + v[1])\n",
    "    if v[0] + v[1] > 0:\n",
    "        county_users_gap[loc] = round(v[0] / (v[0] + v[1]) - v[1] / (v[0] + v[1]), 3)"
   ]
  },
  {
   "cell_type": "code",
   "execution_count": null,
   "metadata": {
    "hidden": true
   },
   "outputs": [],
   "source": [
    "county_users_gap = sorted(county_users_gap.items(), key=lambda d:d[1], reverse=True)"
   ]
  },
  {
   "cell_type": "code",
   "execution_count": null,
   "metadata": {
    "hidden": true
   },
   "outputs": [],
   "source": [
    "for loc, v in county_users_gap:\n",
    "    print(loc, v, sep=\"\\t\", file=open(\"data/us-county-users-gap.txt\", \"w\"))"
   ]
  },
  {
   "cell_type": "code",
   "execution_count": null,
   "metadata": {
    "hidden": true
   },
   "outputs": [],
   "source": [
    "original_data = json.load(open(\"data/us-counties-unemployment.json\"))\n",
    "for d in original_data:\n",
    "    d['value'] = 0\n",
    "    d[\"name\"] = d[\"name\"].replace(\" County\", \"\").replace(\" Municipio\", \"\")"
   ]
  },
  {
   "cell_type": "code",
   "execution_count": null,
   "metadata": {
    "hidden": true
   },
   "outputs": [],
   "source": [
    "# match\n",
    "for d in original_data:\n",
    "    if d['name'] in county_users_gap:\n",
    "        d['value'] = county_users_gap[d[\"name\"]]"
   ]
  },
  {
   "cell_type": "code",
   "execution_count": null,
   "metadata": {
    "hidden": true
   },
   "outputs": [],
   "source": [
    "final_data = []\n",
    "\n",
    "for v in original_data:\n",
    "    if v['value'] != 0:\n",
    "        final_data.append(v)"
   ]
  },
  {
   "cell_type": "code",
   "execution_count": null,
   "metadata": {
    "hidden": true
   },
   "outputs": [],
   "source": [
    "json.dump(final_data, open(\"web/data/us-county-opinion.json\", \"w\"), indent=2)"
   ]
  }
 ],
 "metadata": {
  "kernelspec": {
   "display_name": "Python 3",
   "language": "python",
   "name": "python3"
  },
  "language_info": {
   "codemirror_mode": {
    "name": "ipython",
    "version": 3
   },
   "file_extension": ".py",
   "mimetype": "text/x-python",
   "name": "python",
   "nbconvert_exporter": "python",
   "pygments_lexer": "ipython3",
   "version": "3.7.3"
  },
  "latex_envs": {
   "LaTeX_envs_menu_present": true,
   "autoclose": false,
   "autocomplete": true,
   "bibliofile": "biblio.bib",
   "cite_by": "apalike",
   "current_citInitial": 1,
   "eqLabelWithNumbers": true,
   "eqNumInitial": 1,
   "hotkeys": {
    "equation": "Ctrl-E",
    "itemize": "Ctrl-I"
   },
   "labels_anchors": false,
   "latex_user_defs": false,
   "report_style_numbering": false,
   "user_envs_cfg": false
  },
  "toc": {
   "base_numbering": 1,
   "nav_menu": {},
   "number_sections": true,
   "sideBar": true,
   "skip_h1_title": false,
   "title_cell": "Table of Contents",
   "title_sidebar": "Contents",
   "toc_cell": false,
   "toc_position": {},
   "toc_section_display": true,
   "toc_window_display": false
  }
 },
 "nbformat": 4,
 "nbformat_minor": 4
}
