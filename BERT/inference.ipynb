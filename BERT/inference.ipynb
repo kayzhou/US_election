{
 "cells": [
  {
   "cell_type": "code",
   "execution_count": null,
   "metadata": {},
   "outputs": [],
   "source": [
    "from transformers import AutoTokenizer, AutoModelForSequenceClassification\n",
    "\n",
    "model = AutoModelForSequenceClassification.from_pretrained('./bertweet').to('cuda')\n",
    "tokenizer = AutoTokenizer.from_pretrained('./bertweet')"
   ]
  },
  {
   "cell_type": "code",
   "execution_count": null,
   "metadata": {},
   "outputs": [],
   "source": [
    "from transformers import pipeline\n",
    "\n",
    "classifier = pipeline('sentiment-analysis', model=model, tokenizer=tokenizer, device=0)"
   ]
  },
  {
   "cell_type": "code",
   "execution_count": null,
   "metadata": {},
   "outputs": [],
   "source": [
    "def get_predictions(text_list):\n",
    "    inputs = tokenizer(text_list, padding=True, truncation=True, return_tensors='pt').to('cuda')\n",
    "    outputs = model(**inputs)\n",
    "    probs = outputs[0].softmax(1)\n",
    "    labels = [prob.argmax().item() for prob in probs] # 0:biden 1:trump\n",
    "    return labels"
   ]
  },
  {
   "cell_type": "code",
   "execution_count": null,
   "metadata": {},
   "outputs": [],
   "source": [
    "import re\n",
    "import json\n",
    "from tqdm import tqdm\n",
    "\n",
    "biden_0, trump_1, batch_size, text_list = 0, 0, 32, []\n",
    "for i, line in tqdm(enumerate(open('202004.txt', encoding='utf-8'))):\n",
    "    text_list.append(line)\n",
    "    if len(text_list) == batch_size:      \n",
    "        labels = get_predictions(text_list)\n",
    "        summation = sum(labels)\n",
    "        trump_1 += summation\n",
    "        biden_0 += batch_size - summation\n",
    "        text_list = []\n",
    "\n",
    "print('biden:', biden_0)\n",
    "print('trump:', trump_1)"
   ]
  }
 ],
 "metadata": {
  "kernelspec": {
   "display_name": "Python 3",
   "language": "python",
   "name": "python3"
  },
  "language_info": {
   "codemirror_mode": {
    "name": "ipython",
    "version": 3
   },
   "file_extension": ".py",
   "mimetype": "text/x-python",
   "name": "python",
   "nbconvert_exporter": "python",
   "pygments_lexer": "ipython3",
   "version": "3.7.6"
  }
 },
 "nbformat": 4,
 "nbformat_minor": 4
}
