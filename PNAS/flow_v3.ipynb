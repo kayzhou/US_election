{
 "cells": [
  {
   "cell_type": "code",
   "execution_count": 1,
   "metadata": {},
   "outputs": [],
   "source": [
    "import pandas as pd\n",
    "import matplotlib.pyplot as plt\n",
    "import seaborn as sns\n",
    "from tqdm.notebook import tqdm\n",
    "from pathlib import Path\n",
    "from collections import Counter\n",
    "\n",
    "pd.set_option('max_columns', 2000)\n",
    "pd.set_option('max_row', 200)\n",
    "\n",
    "sns.set(style=\"white\", font_scale=1.2)\n",
    "plt.rcParams[\"font.family\"] = \"FreeSans\"\n",
    "\n",
    "def category_to_color(i):\n",
    "    # 类别转换为颜色\n",
    "    \n",
    "    i = i.lower()\n",
    "    if i == \"fake\" or i == \"fake & extreme bias\" or i == \"fake &\\n extreme bias\":\n",
    "        c = \"#282828\"\n",
    "    elif i == \"farRight\" or i==\"extreme bias right\":\n",
    "        c = \"#4F0906\"\n",
    "    elif i == \"right\":\n",
    "        c = \"#8F100B\"\n",
    "    elif i == \"leanRight\" or i==\"lean right\" or i==\"leaning right\" or i == \"right leaning\":\n",
    "        c = \"#DB4742\"\n",
    "    elif i == \"center\":\n",
    "        c = \"#CFDB00\"\n",
    "    elif i == \"leanLeft\" or i==\"lean left\" or i==\"leaning left\" or i == \"left leaning\":\n",
    "        c = \"#4495DB\"\n",
    "    elif i == \"left\":\n",
    "        c = \"#0E538F\"\n",
    "    elif i == \"farLeft\" or i==\"extreme bias left\":\n",
    "        c = \"#082E4F\"\n",
    "    else:\n",
    "        # c = \"#D3D3D3\"\n",
    "        c = \"#282828\"\n",
    "    return c\n"
   ]
  },
  {
   "cell_type": "markdown",
   "metadata": {},
   "source": [
    "For the flow of users, you could compute two things:\n",
    "\n",
    "1. the number of users in each category in 2016 and in 2020 (independently)\n",
    "\n",
    "2. the flow of users from categories to categories (what you already did)\n",
    "\n",
    "The you could you make a new flow plot where the size of each category is given by the number of users you find each year (1) and then you create the flows from categories to categories from (1) based on the proportions computed from (2).\n",
    "\n",
    "It's a bit complicated to explain, so let me know if it's not clear.\n",
    "\n",
    "更新：每个用户可能有好多分类"
   ]
  },
  {
   "cell_type": "markdown",
   "metadata": {},
   "source": [
    "## 分析所有用户的媒体类型"
   ]
  },
  {
   "cell_type": "code",
   "execution_count": 2,
   "metadata": {},
   "outputs": [],
   "source": [
    "import json\n",
    "\n",
    "# json.dump(users_2016, open(\"data/users2016_6c.json\", \"w\"), indent=4)\n",
    "# json.dump(users_2020, open(\"data/users2020_6c.json\", \"w\"), indent=4)\n",
    "# json.dump(users_2016, open(\"data/users2016_4c.json\", \"w\"), indent=4)\n",
    "# json.dump(users_2020, open(\"data/users2020_4c.json\", \"w\"), indent=4)\n",
    "\n",
    "users_2016 = json.load(open(\"data/users2016_6c.json\"))\n",
    "users_2020 = json.load(open(\"data/users2020_6c.json\"))\n",
    "# users_2016 = json.load(open(\"data/users2016_4c.json\"))\n",
    "# users_2020 = json.load(open(\"data/users2020_4c.json\"))"
   ]
  },
  {
   "cell_type": "markdown",
   "metadata": {},
   "source": [
    "# 关键点，由公式计算而得\n",
    "\n",
    "1. 获取users_2016和users_2020\n",
    "2. 判断每个用户的类型\n",
    "3. 计算flow\n",
    "4. 画图flow"
   ]
  },
  {
   "cell_type": "code",
   "execution_count": 6,
   "metadata": {},
   "outputs": [
    {
     "output_type": "stream",
     "name": "stdout",
     "text": [
      "abandon: 280512\n",
      "abandon: 401539\n"
     ]
    },
    {
     "output_type": "display_data",
     "data": {
      "text/plain": "Counter({'Fake & extreme bias': 208335,\n         'Right': 139754,\n         'Left': 256662,\n         'Center': 505295,\n         'Left leaning': 772950,\n         'Right leaning': 45781})"
     },
     "metadata": {}
    },
    {
     "output_type": "display_data",
     "data": {
      "text/plain": "1928777"
     },
     "metadata": {}
    },
    {
     "output_type": "display_data",
     "data": {
      "text/plain": "Counter({'Center': 319640,\n         'Left leaning': 2006830,\n         'Fake & extreme bias': 227690,\n         'Right': 280639,\n         'Left': 185058,\n         'Right leaning': 229082})"
     },
     "metadata": {}
    },
    {
     "output_type": "display_data",
     "data": {
      "text/plain": "3248939"
     },
     "metadata": {}
    },
    {
     "output_type": "execute_result",
     "data": {
      "text/plain": [
       "422359"
      ]
     },
     "metadata": {},
     "execution_count": 6
    }
   ],
   "source": [
    "# 四类或六类\n",
    "\n",
    "from collections import defaultdict\n",
    "\n",
    "media_list = [\n",
    "    \"Fake & extreme bias\",\n",
    "    \"Right\",\n",
    "    \"Right leaning\",\n",
    "    \"Center\",\n",
    "    \"Left leaning\",\n",
    "    \"Left\",\n",
    "    # \"None\"\n",
    "]\n",
    "\n",
    "users_2016_prop = defaultdict(\n",
    "    lambda: {\n",
    "        \"Center\": 0,\n",
    "        \"Fake & extreme bias\": 0,\n",
    "        \"Left leaning\": 0, # 可以注释\n",
    "        \"Right leaning\": 0, # 可以注释\n",
    "        \"Left\": 0,\n",
    "        \"Right\": 0,\n",
    "    }\n",
    ")\n",
    "\n",
    "abandon_num = 0\n",
    "\n",
    "# 判断类型，最大的那一类\n",
    "users_2016_category = {}\n",
    "\n",
    "for u, v in users_2016.items():\n",
    "    # 判断最大和次大不能一样\n",
    "    max_v = max(v.values())\n",
    "\n",
    "    _bingo_categories = []\n",
    "    for m in media_list:\n",
    "        if v[m] == max_v:\n",
    "            _bingo_categories.append(m)\n",
    "\n",
    "\n",
    "print(\"abandon:\", abandon_num)\n",
    "\n",
    "abandon_num = 0\n",
    "users_2020_prop = defaultdict(\n",
    "    lambda: {\n",
    "        \"Center\": 0,\n",
    "        \"Fake & extreme bias\": 0,\n",
    "        \"Left leaning\": 0, # 可以注释\n",
    "        \"Right leaning\": 0, # 可以注释\n",
    "        \"Left\": 0,\n",
    "        \"Right\": 0,\n",
    "    }\n",
    ")\n",
    "\n",
    "for u, c in users_2020.items():\n",
    "    _sum = sum(c.values())\n",
    "    if _sum <= 0:\n",
    "        continue\n",
    "    for _ca, it_c in c.items():\n",
    "        users_2020_prop[u][_ca] = round(it_c / _sum, 3)\n",
    "\n",
    "# 判断类型，最大的那一类\n",
    "\n",
    "# users_2020_category = {u: max(v, key=v.get) for u, v in users_2020_prop.items()}\n",
    "users_2020_category = {}\n",
    "\n",
    "for u, v in users_2020_prop.items():\n",
    "    # 判断最大和次大不能一样\n",
    "    max_c = max(v, key=v.get)\n",
    "    max_v = v.pop(max_c)\n",
    "    max_c2 = max(v, key=v.get)\n",
    "\n",
    "    if max_v > v[max_c2]:\n",
    "        users_2020_category[u] = max_c\n",
    "    else:\n",
    "        abandon_num += 1\n",
    "print(\"abandon:\", abandon_num)\n",
    "\n",
    "users_counter_cat_2016 = Counter(users_2016_category.values())\n",
    "users_counter_cat_2020 = Counter(users_2020_category.values())\n",
    "display(users_counter_cat_2016, sum(users_counter_cat_2016.values()))\n",
    "display(users_counter_cat_2020, sum(users_counter_cat_2020.values()))\n",
    "\n",
    "count_union = len(set(users_2016_category.keys()) & set(users_2020_category.keys()))\n",
    "count_union"
   ]
  },
  {
   "cell_type": "code",
   "execution_count": 99,
   "metadata": {},
   "outputs": [],
   "source": [
    "# 判断完成，计算flow的变化\n",
    "\n",
    "users_flow_cat = users_2016_category.copy()\n",
    "\n",
    "for u, c in users_2020_category.items():\n",
    "    if u not in users_flow_cat:\n",
    "        users_flow_cat[u] = \"None to \" + c\n",
    "    else:\n",
    "        users_flow_cat[u] =  users_flow_cat[u] + \" to \" + c\n",
    "\n",
    "for u, v in users_flow_cat.items():\n",
    "    if v.find(\"to\") == -1:\n",
    "        users_flow_cat[u] = users_flow_cat[u] + \" to None\"\n",
    "\n",
    "users_flow_cat = Counter(users_flow_cat.values())\n",
    "users_flow_cat = sorted(users_flow_cat.items())\n",
    "users_flow_cat\n",
    "\n",
    "# 保存成csv\n",
    "from collections import defaultdict\n",
    "\n",
    "media_list = [\n",
    "    \"Fake & extreme bias\",\n",
    "    \"Right\",\n",
    "    \"Right leaning\",\n",
    "    \"Center\",\n",
    "    \"Left leaning\",\n",
    "    \"Left\",\n",
    "    \"None\"\n",
    "]\n",
    "\n",
    "df = {}\n",
    "\n",
    "for m_2016 in media_list:\n",
    "    df[m_2016] = {}\n",
    "    for m_2020 in media_list:\n",
    "        df[m_2016][m_2020] = 0\n",
    "\n",
    "for k, v in users_flow_cat:\n",
    "    m_2016, m_2020 = k.split(\" to \")\n",
    "    df[m_2020][m_2016] = v\n",
    "\n",
    "df = pd.DataFrame(df)\n",
    "# df.to_csv(\"data/PNAS_4c.csv\")\n",
    "df.to_csv(\"data/PNAS_6c.csv\")"
   ]
  },
  {
   "cell_type": "code",
   "execution_count": 81,
   "metadata": {},
   "outputs": [
    {
     "output_type": "execute_result",
     "data": {
      "text/plain": [
       "                     Fake & extreme bias   Right  Right leaning  Center  \\\n",
       "#                                                                         \n",
       "Fake & extreme bias                19846    6758            803    2877   \n",
       "Right                              17170   10893            705    3946   \n",
       "Right leaning                       4002    3353            994    3313   \n",
       "Center                              1484    1142            663    9425   \n",
       "Left leaning                        6046    4950           3543   63597   \n",
       "Left                                 526     366            263    4337   \n",
       "None                              159261  112292          38810  417800   \n",
       "\n",
       "                     Left leaning    Left     None  \n",
       "#                                                   \n",
       "Fake & extreme bias          2382     546   194478  \n",
       "Right                        3001     543   244381  \n",
       "Right leaning                4140    1066   212214  \n",
       "Center                      12137    3568   291221  \n",
       "Left leaning               160241   46349  1722104  \n",
       "Left                        10844    6540   162182  \n",
       "None                       580205  198050        0  "
      ],
      "text/html": "<div>\n<style scoped>\n    .dataframe tbody tr th:only-of-type {\n        vertical-align: middle;\n    }\n\n    .dataframe tbody tr th {\n        vertical-align: top;\n    }\n\n    .dataframe thead th {\n        text-align: right;\n    }\n</style>\n<table border=\"1\" class=\"dataframe\">\n  <thead>\n    <tr style=\"text-align: right;\">\n      <th></th>\n      <th>Fake &amp; extreme bias</th>\n      <th>Right</th>\n      <th>Right leaning</th>\n      <th>Center</th>\n      <th>Left leaning</th>\n      <th>Left</th>\n      <th>None</th>\n    </tr>\n    <tr>\n      <th>#</th>\n      <th></th>\n      <th></th>\n      <th></th>\n      <th></th>\n      <th></th>\n      <th></th>\n      <th></th>\n    </tr>\n  </thead>\n  <tbody>\n    <tr>\n      <th>Fake &amp; extreme bias</th>\n      <td>19846</td>\n      <td>6758</td>\n      <td>803</td>\n      <td>2877</td>\n      <td>2382</td>\n      <td>546</td>\n      <td>194478</td>\n    </tr>\n    <tr>\n      <th>Right</th>\n      <td>17170</td>\n      <td>10893</td>\n      <td>705</td>\n      <td>3946</td>\n      <td>3001</td>\n      <td>543</td>\n      <td>244381</td>\n    </tr>\n    <tr>\n      <th>Right leaning</th>\n      <td>4002</td>\n      <td>3353</td>\n      <td>994</td>\n      <td>3313</td>\n      <td>4140</td>\n      <td>1066</td>\n      <td>212214</td>\n    </tr>\n    <tr>\n      <th>Center</th>\n      <td>1484</td>\n      <td>1142</td>\n      <td>663</td>\n      <td>9425</td>\n      <td>12137</td>\n      <td>3568</td>\n      <td>291221</td>\n    </tr>\n    <tr>\n      <th>Left leaning</th>\n      <td>6046</td>\n      <td>4950</td>\n      <td>3543</td>\n      <td>63597</td>\n      <td>160241</td>\n      <td>46349</td>\n      <td>1722104</td>\n    </tr>\n    <tr>\n      <th>Left</th>\n      <td>526</td>\n      <td>366</td>\n      <td>263</td>\n      <td>4337</td>\n      <td>10844</td>\n      <td>6540</td>\n      <td>162182</td>\n    </tr>\n    <tr>\n      <th>None</th>\n      <td>159261</td>\n      <td>112292</td>\n      <td>38810</td>\n      <td>417800</td>\n      <td>580205</td>\n      <td>198050</td>\n      <td>0</td>\n    </tr>\n  </tbody>\n</table>\n</div>"
     },
     "metadata": {},
     "execution_count": 81
    }
   ],
   "source": [
    "# df = pd.read_csv(\"data/PNAS_flow2.csv\", index_col=\"#\")\n",
    "# 直接载入计算好的四类\n",
    "# df = pd.read_csv(\"data/PNAS_flow3.csv\", index_col=\"#\")\n",
    "# df\n",
    "\n",
    "# 直接载入计算好的6类\n",
    "df = pd.read_csv(\"data/PNAS_6c.csv\", index_col=\"#\")\n",
    "df"
   ]
  },
  {
   "cell_type": "code",
   "execution_count": null,
   "metadata": {},
   "outputs": [],
   "source": []
  },
  {
   "cell_type": "code",
   "execution_count": 82,
   "metadata": {},
   "outputs": [
    {
     "output_type": "execute_result",
     "data": {
      "text/plain": [
       "                       source                     target    color   value\n",
       "0   Fake & extreme bias(2016)  Fake & extreme bias(2020)  #282828   19846\n",
       "1   Fake & extreme bias(2016)                Right(2020)  #282828    6758\n",
       "2   Fake & extreme bias(2016)        Right leaning(2020)  #282828     803\n",
       "3   Fake & extreme bias(2016)               Center(2020)  #282828    2877\n",
       "4   Fake & extreme bias(2016)         Left leaning(2020)  #282828    2382\n",
       "5   Fake & extreme bias(2016)                 Left(2020)  #282828     546\n",
       "6                 Right(2016)  Fake & extreme bias(2020)  #8F100B   17170\n",
       "7                 Right(2016)                Right(2020)  #8F100B   10893\n",
       "8                 Right(2016)        Right leaning(2020)  #8F100B     705\n",
       "9                 Right(2016)               Center(2020)  #8F100B    3946\n",
       "10                Right(2016)         Left leaning(2020)  #8F100B    3001\n",
       "11                Right(2016)                 Left(2020)  #8F100B     543\n",
       "12        Right leaning(2016)  Fake & extreme bias(2020)  #DB4742    4002\n",
       "13        Right leaning(2016)                Right(2020)  #DB4742    3353\n",
       "14        Right leaning(2016)        Right leaning(2020)  #DB4742     994\n",
       "15        Right leaning(2016)               Center(2020)  #DB4742    3313\n",
       "16        Right leaning(2016)         Left leaning(2020)  #DB4742    4140\n",
       "17        Right leaning(2016)                 Left(2020)  #DB4742    1066\n",
       "18               Center(2016)  Fake & extreme bias(2020)  #CFDB00    1484\n",
       "19               Center(2016)                Right(2020)  #CFDB00    1142\n",
       "20               Center(2016)        Right leaning(2020)  #CFDB00     663\n",
       "21               Center(2016)               Center(2020)  #CFDB00    9425\n",
       "22               Center(2016)         Left leaning(2020)  #CFDB00   12137\n",
       "23               Center(2016)                 Left(2020)  #CFDB00    3568\n",
       "24         Left leaning(2016)  Fake & extreme bias(2020)  #4495DB    6046\n",
       "25         Left leaning(2016)                Right(2020)  #4495DB    4950\n",
       "26         Left leaning(2016)        Right leaning(2020)  #4495DB    3543\n",
       "27         Left leaning(2016)               Center(2020)  #4495DB   63597\n",
       "28         Left leaning(2016)         Left leaning(2020)  #4495DB  160241\n",
       "29         Left leaning(2016)                 Left(2020)  #4495DB   46349\n",
       "30                 Left(2016)  Fake & extreme bias(2020)  #0E538F     526\n",
       "31                 Left(2016)                Right(2020)  #0E538F     366\n",
       "32                 Left(2016)        Right leaning(2020)  #0E538F     263\n",
       "33                 Left(2016)               Center(2020)  #0E538F    4337\n",
       "34                 Left(2016)         Left leaning(2020)  #0E538F   10844\n",
       "35                 Left(2016)                 Left(2020)  #0E538F    6540"
      ],
      "text/html": "<div>\n<style scoped>\n    .dataframe tbody tr th:only-of-type {\n        vertical-align: middle;\n    }\n\n    .dataframe tbody tr th {\n        vertical-align: top;\n    }\n\n    .dataframe thead th {\n        text-align: right;\n    }\n</style>\n<table border=\"1\" class=\"dataframe\">\n  <thead>\n    <tr style=\"text-align: right;\">\n      <th></th>\n      <th>source</th>\n      <th>target</th>\n      <th>color</th>\n      <th>value</th>\n    </tr>\n  </thead>\n  <tbody>\n    <tr>\n      <th>0</th>\n      <td>Fake &amp; extreme bias(2016)</td>\n      <td>Fake &amp; extreme bias(2020)</td>\n      <td>#282828</td>\n      <td>19846</td>\n    </tr>\n    <tr>\n      <th>1</th>\n      <td>Fake &amp; extreme bias(2016)</td>\n      <td>Right(2020)</td>\n      <td>#282828</td>\n      <td>6758</td>\n    </tr>\n    <tr>\n      <th>2</th>\n      <td>Fake &amp; extreme bias(2016)</td>\n      <td>Right leaning(2020)</td>\n      <td>#282828</td>\n      <td>803</td>\n    </tr>\n    <tr>\n      <th>3</th>\n      <td>Fake &amp; extreme bias(2016)</td>\n      <td>Center(2020)</td>\n      <td>#282828</td>\n      <td>2877</td>\n    </tr>\n    <tr>\n      <th>4</th>\n      <td>Fake &amp; extreme bias(2016)</td>\n      <td>Left leaning(2020)</td>\n      <td>#282828</td>\n      <td>2382</td>\n    </tr>\n    <tr>\n      <th>5</th>\n      <td>Fake &amp; extreme bias(2016)</td>\n      <td>Left(2020)</td>\n      <td>#282828</td>\n      <td>546</td>\n    </tr>\n    <tr>\n      <th>6</th>\n      <td>Right(2016)</td>\n      <td>Fake &amp; extreme bias(2020)</td>\n      <td>#8F100B</td>\n      <td>17170</td>\n    </tr>\n    <tr>\n      <th>7</th>\n      <td>Right(2016)</td>\n      <td>Right(2020)</td>\n      <td>#8F100B</td>\n      <td>10893</td>\n    </tr>\n    <tr>\n      <th>8</th>\n      <td>Right(2016)</td>\n      <td>Right leaning(2020)</td>\n      <td>#8F100B</td>\n      <td>705</td>\n    </tr>\n    <tr>\n      <th>9</th>\n      <td>Right(2016)</td>\n      <td>Center(2020)</td>\n      <td>#8F100B</td>\n      <td>3946</td>\n    </tr>\n    <tr>\n      <th>10</th>\n      <td>Right(2016)</td>\n      <td>Left leaning(2020)</td>\n      <td>#8F100B</td>\n      <td>3001</td>\n    </tr>\n    <tr>\n      <th>11</th>\n      <td>Right(2016)</td>\n      <td>Left(2020)</td>\n      <td>#8F100B</td>\n      <td>543</td>\n    </tr>\n    <tr>\n      <th>12</th>\n      <td>Right leaning(2016)</td>\n      <td>Fake &amp; extreme bias(2020)</td>\n      <td>#DB4742</td>\n      <td>4002</td>\n    </tr>\n    <tr>\n      <th>13</th>\n      <td>Right leaning(2016)</td>\n      <td>Right(2020)</td>\n      <td>#DB4742</td>\n      <td>3353</td>\n    </tr>\n    <tr>\n      <th>14</th>\n      <td>Right leaning(2016)</td>\n      <td>Right leaning(2020)</td>\n      <td>#DB4742</td>\n      <td>994</td>\n    </tr>\n    <tr>\n      <th>15</th>\n      <td>Right leaning(2016)</td>\n      <td>Center(2020)</td>\n      <td>#DB4742</td>\n      <td>3313</td>\n    </tr>\n    <tr>\n      <th>16</th>\n      <td>Right leaning(2016)</td>\n      <td>Left leaning(2020)</td>\n      <td>#DB4742</td>\n      <td>4140</td>\n    </tr>\n    <tr>\n      <th>17</th>\n      <td>Right leaning(2016)</td>\n      <td>Left(2020)</td>\n      <td>#DB4742</td>\n      <td>1066</td>\n    </tr>\n    <tr>\n      <th>18</th>\n      <td>Center(2016)</td>\n      <td>Fake &amp; extreme bias(2020)</td>\n      <td>#CFDB00</td>\n      <td>1484</td>\n    </tr>\n    <tr>\n      <th>19</th>\n      <td>Center(2016)</td>\n      <td>Right(2020)</td>\n      <td>#CFDB00</td>\n      <td>1142</td>\n    </tr>\n    <tr>\n      <th>20</th>\n      <td>Center(2016)</td>\n      <td>Right leaning(2020)</td>\n      <td>#CFDB00</td>\n      <td>663</td>\n    </tr>\n    <tr>\n      <th>21</th>\n      <td>Center(2016)</td>\n      <td>Center(2020)</td>\n      <td>#CFDB00</td>\n      <td>9425</td>\n    </tr>\n    <tr>\n      <th>22</th>\n      <td>Center(2016)</td>\n      <td>Left leaning(2020)</td>\n      <td>#CFDB00</td>\n      <td>12137</td>\n    </tr>\n    <tr>\n      <th>23</th>\n      <td>Center(2016)</td>\n      <td>Left(2020)</td>\n      <td>#CFDB00</td>\n      <td>3568</td>\n    </tr>\n    <tr>\n      <th>24</th>\n      <td>Left leaning(2016)</td>\n      <td>Fake &amp; extreme bias(2020)</td>\n      <td>#4495DB</td>\n      <td>6046</td>\n    </tr>\n    <tr>\n      <th>25</th>\n      <td>Left leaning(2016)</td>\n      <td>Right(2020)</td>\n      <td>#4495DB</td>\n      <td>4950</td>\n    </tr>\n    <tr>\n      <th>26</th>\n      <td>Left leaning(2016)</td>\n      <td>Right leaning(2020)</td>\n      <td>#4495DB</td>\n      <td>3543</td>\n    </tr>\n    <tr>\n      <th>27</th>\n      <td>Left leaning(2016)</td>\n      <td>Center(2020)</td>\n      <td>#4495DB</td>\n      <td>63597</td>\n    </tr>\n    <tr>\n      <th>28</th>\n      <td>Left leaning(2016)</td>\n      <td>Left leaning(2020)</td>\n      <td>#4495DB</td>\n      <td>160241</td>\n    </tr>\n    <tr>\n      <th>29</th>\n      <td>Left leaning(2016)</td>\n      <td>Left(2020)</td>\n      <td>#4495DB</td>\n      <td>46349</td>\n    </tr>\n    <tr>\n      <th>30</th>\n      <td>Left(2016)</td>\n      <td>Fake &amp; extreme bias(2020)</td>\n      <td>#0E538F</td>\n      <td>526</td>\n    </tr>\n    <tr>\n      <th>31</th>\n      <td>Left(2016)</td>\n      <td>Right(2020)</td>\n      <td>#0E538F</td>\n      <td>366</td>\n    </tr>\n    <tr>\n      <th>32</th>\n      <td>Left(2016)</td>\n      <td>Right leaning(2020)</td>\n      <td>#0E538F</td>\n      <td>263</td>\n    </tr>\n    <tr>\n      <th>33</th>\n      <td>Left(2016)</td>\n      <td>Center(2020)</td>\n      <td>#0E538F</td>\n      <td>4337</td>\n    </tr>\n    <tr>\n      <th>34</th>\n      <td>Left(2016)</td>\n      <td>Left leaning(2020)</td>\n      <td>#0E538F</td>\n      <td>10844</td>\n    </tr>\n    <tr>\n      <th>35</th>\n      <td>Left(2016)</td>\n      <td>Left(2020)</td>\n      <td>#0E538F</td>\n      <td>6540</td>\n    </tr>\n  </tbody>\n</table>\n</div>"
     },
     "metadata": {},
     "execution_count": 82
    }
   ],
   "source": [
    "flow_list_dict = []\n",
    "\n",
    "for i, row in df.iterrows():\n",
    "    for j, v in row.iteritems():\n",
    "        # print(i, j, v)\n",
    "        if i == \"None\" or j == \"None\":\n",
    "            continue\n",
    "\n",
    "        c = category_to_color(i)\n",
    "        \n",
    "        flow_list_dict.append(\n",
    "            {\n",
    "                \"source\": i + \"(2016)\",\n",
    "                \"target\": j + \"(2020)\",\n",
    "                # \"type\": i,\n",
    "                \"color\": c,\n",
    "                \"value\": v,\n",
    "            }\n",
    "        )\n",
    "\n",
    "df_flow = pd.DataFrame(flow_list_dict)\n",
    "# df_flow.to_csv(\"df_flow.csv\")\n",
    "df_flow"
   ]
  },
  {
   "cell_type": "code",
   "execution_count": 64,
   "metadata": {},
   "outputs": [
    {
     "output_type": "display_data",
     "data": {
      "text/plain": "SankeyWidget(layout=Layout(height='800', width='800'), links=[{'source': 'Fake & extreme bias(2016)', 'target'…",
      "application/vnd.jupyter.widget-view+json": {
       "version_major": 2,
       "version_minor": 0,
       "model_id": "7c6945f289624452b2ec2858874237e7"
      }
     },
     "metadata": {}
    }
   ],
   "source": [
    "from floweaver import *\n",
    "from ipysankeywidget import SankeyWidget\n",
    "from ipywidgets import Layout\n",
    "\n",
    "# Set the default size to fit the documentation better.\n",
    "layout = Layout(width=\"800\", height=\"800\")\n",
    "\n",
    "# order = [\n",
    "#     [\"Fake & extreme bias(2016)\", \"Right(2016)\", \"Leaning right(2016)\", \"Center(2016)\", \"Leaning left(2016)\", \"Left(2016)\"],\n",
    "#     [\"Fake & extreme bias(2020)\", \"Right(2020)\", \"Leaning right(2020)\", \"Center(2020)\", \"Leaning left(2020)\", \"Left(2020)\"],\n",
    "# ]\n",
    "\n",
    "order = [\n",
    "    # [\"Fake &\\n extreme bias(2016)\", \"Right(2016)\", \"Center(2016)\", \"Left(2016)\"],\n",
    "    # [\"Fake &\\n extreme bias(2020)\", \"Right(2020)\", \"Center(2020)\", \"Left(2020)\"],\n",
    "    [\"Fake & extreme bias(2016)\", \"Right(2016)\", \"Center(2016)\", \"Left(2016)\"],\n",
    "    [\"Fake & extreme bias(2020)\", \"Right(2020)\", \"Center(2020)\", \"Left(2020)\"],\n",
    "]\n",
    "\n",
    "# sw = SankeyWidget(links=df_flow.to_dict('records'), margins=dict(top=0, bottom=0, left=120, right=120), layout=layout)\n",
    "\n",
    "sw = SankeyWidget(links=df_flow.to_dict('records'), margins=dict(top=0, bottom=0, left=180, right=180), layout=layout, order=order)\n",
    "sw "
   ]
  },
  {
   "cell_type": "code",
   "execution_count": 65,
   "metadata": {},
   "outputs": [
    {
     "output_type": "display_data",
     "data": {
      "text/plain": "                     Fake & extreme bias  Right  Center    Left\n#                                                              \nFake & extreme bias                14226   6519    2138    2772\nRight                              26716  21976    7984   11117\nCenter                              1290   1825    8450   16503\nLeft                                6007   9839   61825  267530",
      "text/html": "<div>\n<style scoped>\n    .dataframe tbody tr th:only-of-type {\n        vertical-align: middle;\n    }\n\n    .dataframe tbody tr th {\n        vertical-align: top;\n    }\n\n    .dataframe thead th {\n        text-align: right;\n    }\n</style>\n<table border=\"1\" class=\"dataframe\">\n  <thead>\n    <tr style=\"text-align: right;\">\n      <th></th>\n      <th>Fake &amp; extreme bias</th>\n      <th>Right</th>\n      <th>Center</th>\n      <th>Left</th>\n    </tr>\n    <tr>\n      <th>#</th>\n      <th></th>\n      <th></th>\n      <th></th>\n      <th></th>\n    </tr>\n  </thead>\n  <tbody>\n    <tr>\n      <th>Fake &amp; extreme bias</th>\n      <td>14226</td>\n      <td>6519</td>\n      <td>2138</td>\n      <td>2772</td>\n    </tr>\n    <tr>\n      <th>Right</th>\n      <td>26716</td>\n      <td>21976</td>\n      <td>7984</td>\n      <td>11117</td>\n    </tr>\n    <tr>\n      <th>Center</th>\n      <td>1290</td>\n      <td>1825</td>\n      <td>8450</td>\n      <td>16503</td>\n    </tr>\n    <tr>\n      <th>Left</th>\n      <td>6007</td>\n      <td>9839</td>\n      <td>61825</td>\n      <td>267530</td>\n    </tr>\n  </tbody>\n</table>\n</div>"
     },
     "metadata": {}
    },
    {
     "output_type": "stream",
     "name": "stdout",
     "text": [
      "48239 40159 80397 297922\n"
     ]
    },
    {
     "output_type": "display_data",
     "data": {
      "text/plain": "                     Fake & extreme bias          Right         Center  \\\n#                                                                        \nFake & extreme bias         59008.748482   27040.491449    8868.318871   \nRight                      131734.580941  108361.998456   39368.501805   \nCenter                       7736.726744   10945.369230   50678.558901   \nLeft                        22694.681584   37172.127869  233577.274673   \n\n                             Left  \n#                                  \nFake & extreme bias  1.149812e+04  \nRight                5.481709e+04  \nCenter               9.897613e+04  \nLeft                 1.010739e+06  ",
      "text/html": "<div>\n<style scoped>\n    .dataframe tbody tr th:only-of-type {\n        vertical-align: middle;\n    }\n\n    .dataframe tbody tr th {\n        vertical-align: top;\n    }\n\n    .dataframe thead th {\n        text-align: right;\n    }\n</style>\n<table border=\"1\" class=\"dataframe\">\n  <thead>\n    <tr style=\"text-align: right;\">\n      <th></th>\n      <th>Fake &amp; extreme bias</th>\n      <th>Right</th>\n      <th>Center</th>\n      <th>Left</th>\n    </tr>\n    <tr>\n      <th>#</th>\n      <th></th>\n      <th></th>\n      <th></th>\n      <th></th>\n    </tr>\n  </thead>\n  <tbody>\n    <tr>\n      <th>Fake &amp; extreme bias</th>\n      <td>59008.748482</td>\n      <td>27040.491449</td>\n      <td>8868.318871</td>\n      <td>1.149812e+04</td>\n    </tr>\n    <tr>\n      <th>Right</th>\n      <td>131734.580941</td>\n      <td>108361.998456</td>\n      <td>39368.501805</td>\n      <td>5.481709e+04</td>\n    </tr>\n    <tr>\n      <th>Center</th>\n      <td>7736.726744</td>\n      <td>10945.369230</td>\n      <td>50678.558901</td>\n      <td>9.897613e+04</td>\n    </tr>\n    <tr>\n      <th>Left</th>\n      <td>22694.681584</td>\n      <td>37172.127869</td>\n      <td>233577.274673</td>\n      <td>1.010739e+06</td>\n    </tr>\n  </tbody>\n</table>\n</div>"
     },
     "metadata": {}
    },
    {
     "output_type": "display_data",
     "data": {
      "text/plain": "#\nFake & extreme bias    1.064157e+05\nRight                  3.342822e+05\nCenter                 1.683368e+05\nLeft                   1.304183e+06\ndtype: float64"
     },
     "metadata": {}
    },
    {
     "output_type": "display_data",
     "data": {
      "text/plain": "Fake & extreme bias    2.211747e+05\nRight                  1.835200e+05\nCenter                 3.324927e+05\nLeft                   1.176030e+06\ndtype: float64"
     },
     "metadata": {}
    },
    {
     "output_type": "display_data",
     "data": {
      "text/plain": "                    source                 target    color         value\n0   Fake &\\n extreme bias   Fake &\\n extreme bias  #282828  5.900875e+04\n1   Fake &\\n extreme bias                   Right  #282828  2.704049e+04\n2   Fake &\\n extreme bias                  Center  #282828  8.868319e+03\n3   Fake &\\n extreme bias                    Left  #282828  1.149812e+04\n4                   Right   Fake &\\n extreme bias  #8F100B  1.317346e+05\n5                   Right                   Right  #8F100B  1.083620e+05\n6                   Right                  Center  #8F100B  3.936850e+04\n7                   Right                    Left  #8F100B  5.481709e+04\n8                  Center   Fake &\\n extreme bias  #CFDB00  7.736727e+03\n9                  Center                   Right  #CFDB00  1.094537e+04\n10                 Center                  Center  #CFDB00  5.067856e+04\n11                 Center                    Left  #CFDB00  9.897613e+04\n12                   Left   Fake &\\n extreme bias  #0E538F  2.269468e+04\n13                   Left                   Right  #0E538F  3.717213e+04\n14                   Left                  Center  #0E538F  2.335773e+05\n15                   Left                    Left  #0E538F  1.010739e+06",
      "text/html": "<div>\n<style scoped>\n    .dataframe tbody tr th:only-of-type {\n        vertical-align: middle;\n    }\n\n    .dataframe tbody tr th {\n        vertical-align: top;\n    }\n\n    .dataframe thead th {\n        text-align: right;\n    }\n</style>\n<table border=\"1\" class=\"dataframe\">\n  <thead>\n    <tr style=\"text-align: right;\">\n      <th></th>\n      <th>source</th>\n      <th>target</th>\n      <th>color</th>\n      <th>value</th>\n    </tr>\n  </thead>\n  <tbody>\n    <tr>\n      <th>0</th>\n      <td>Fake &amp;\\n extreme bias</td>\n      <td>Fake &amp;\\n extreme bias</td>\n      <td>#282828</td>\n      <td>5.900875e+04</td>\n    </tr>\n    <tr>\n      <th>1</th>\n      <td>Fake &amp;\\n extreme bias</td>\n      <td>Right</td>\n      <td>#282828</td>\n      <td>2.704049e+04</td>\n    </tr>\n    <tr>\n      <th>2</th>\n      <td>Fake &amp;\\n extreme bias</td>\n      <td>Center</td>\n      <td>#282828</td>\n      <td>8.868319e+03</td>\n    </tr>\n    <tr>\n      <th>3</th>\n      <td>Fake &amp;\\n extreme bias</td>\n      <td>Left</td>\n      <td>#282828</td>\n      <td>1.149812e+04</td>\n    </tr>\n    <tr>\n      <th>4</th>\n      <td>Right</td>\n      <td>Fake &amp;\\n extreme bias</td>\n      <td>#8F100B</td>\n      <td>1.317346e+05</td>\n    </tr>\n    <tr>\n      <th>5</th>\n      <td>Right</td>\n      <td>Right</td>\n      <td>#8F100B</td>\n      <td>1.083620e+05</td>\n    </tr>\n    <tr>\n      <th>6</th>\n      <td>Right</td>\n      <td>Center</td>\n      <td>#8F100B</td>\n      <td>3.936850e+04</td>\n    </tr>\n    <tr>\n      <th>7</th>\n      <td>Right</td>\n      <td>Left</td>\n      <td>#8F100B</td>\n      <td>5.481709e+04</td>\n    </tr>\n    <tr>\n      <th>8</th>\n      <td>Center</td>\n      <td>Fake &amp;\\n extreme bias</td>\n      <td>#CFDB00</td>\n      <td>7.736727e+03</td>\n    </tr>\n    <tr>\n      <th>9</th>\n      <td>Center</td>\n      <td>Right</td>\n      <td>#CFDB00</td>\n      <td>1.094537e+04</td>\n    </tr>\n    <tr>\n      <th>10</th>\n      <td>Center</td>\n      <td>Center</td>\n      <td>#CFDB00</td>\n      <td>5.067856e+04</td>\n    </tr>\n    <tr>\n      <th>11</th>\n      <td>Center</td>\n      <td>Left</td>\n      <td>#CFDB00</td>\n      <td>9.897613e+04</td>\n    </tr>\n    <tr>\n      <th>12</th>\n      <td>Left</td>\n      <td>Fake &amp;\\n extreme bias</td>\n      <td>#0E538F</td>\n      <td>2.269468e+04</td>\n    </tr>\n    <tr>\n      <th>13</th>\n      <td>Left</td>\n      <td>Right</td>\n      <td>#0E538F</td>\n      <td>3.717213e+04</td>\n    </tr>\n    <tr>\n      <th>14</th>\n      <td>Left</td>\n      <td>Center</td>\n      <td>#0E538F</td>\n      <td>2.335773e+05</td>\n    </tr>\n    <tr>\n      <th>15</th>\n      <td>Left</td>\n      <td>Left</td>\n      <td>#0E538F</td>\n      <td>1.010739e+06</td>\n    </tr>\n  </tbody>\n</table>\n</div>"
     },
     "metadata": {}
    },
    {
     "output_type": "execute_result",
     "data": {
      "text/plain": [
       "                     Fake & extreme bias          Right         Center  \\\n",
       "#                                                                        \n",
       "Fake & extreme bias         59008.748482   27040.491449    8868.318871   \n",
       "Right                      131734.580941  108361.998456   39368.501805   \n",
       "Center                       7736.726744   10945.369230   50678.558901   \n",
       "Left                        22694.681584   37172.127869  233577.274673   \n",
       "\n",
       "                             Left  \n",
       "#                                  \n",
       "Fake & extreme bias  1.149812e+04  \n",
       "Right                5.481709e+04  \n",
       "Center               9.897613e+04  \n",
       "Left                 1.010739e+06  "
      ],
      "text/html": "<div>\n<style scoped>\n    .dataframe tbody tr th:only-of-type {\n        vertical-align: middle;\n    }\n\n    .dataframe tbody tr th {\n        vertical-align: top;\n    }\n\n    .dataframe thead th {\n        text-align: right;\n    }\n</style>\n<table border=\"1\" class=\"dataframe\">\n  <thead>\n    <tr style=\"text-align: right;\">\n      <th></th>\n      <th>Fake &amp; extreme bias</th>\n      <th>Right</th>\n      <th>Center</th>\n      <th>Left</th>\n    </tr>\n    <tr>\n      <th>#</th>\n      <th></th>\n      <th></th>\n      <th></th>\n      <th></th>\n    </tr>\n  </thead>\n  <tbody>\n    <tr>\n      <th>Fake &amp; extreme bias</th>\n      <td>59008.748482</td>\n      <td>27040.491449</td>\n      <td>8868.318871</td>\n      <td>1.149812e+04</td>\n    </tr>\n    <tr>\n      <th>Right</th>\n      <td>131734.580941</td>\n      <td>108361.998456</td>\n      <td>39368.501805</td>\n      <td>5.481709e+04</td>\n    </tr>\n    <tr>\n      <th>Center</th>\n      <td>7736.726744</td>\n      <td>10945.369230</td>\n      <td>50678.558901</td>\n      <td>9.897613e+04</td>\n    </tr>\n    <tr>\n      <th>Left</th>\n      <td>22694.681584</td>\n      <td>37172.127869</td>\n      <td>233577.274673</td>\n      <td>1.010739e+06</td>\n    </tr>\n  </tbody>\n</table>\n</div>"
     },
     "metadata": {},
     "execution_count": 65
    }
   ],
   "source": [
    "# VIP ~~~~~~~~~~~~~~~~~~~~~\n",
    "\n",
    "# 2016 formula\n",
    "df = pd.read_csv(\"data/PNAS_4c.csv\", index_col=\"#\")\n",
    "# df = pd.read_csv(\"data/PNAS_6c.csv\", index_col=\"#\")\n",
    "\n",
    "# print(df)\n",
    "# df[\"Fake &\\n extreme bias\"] = df[\"Fake & extreme bias\"]\n",
    "# df[\"Left\"] = df[\"Left\"] + df[\"Leaning left\"]\n",
    "# df[\"Right\"] = df[\"Right\"] + df[\"Leaning right\"]\n",
    "# df\n",
    "\n",
    "# df.loc[\"fake & extreme bias\"] = df.loc[\"fake\"] + df.loc[\"extreme bias left\"] + df.loc[\"extreme bias right\"]\n",
    "# df.loc[\"Fake &\\n extreme bias\"] = df.loc[\"Fake & extreme bias\"]\n",
    "# df.loc[\"Left\"] = df.loc[\"Left\"] + df.loc[\"Leaning left\"]\n",
    "# df.loc[\"Right\"] = df.loc[\"Right\"] + df.loc[\"Leaning right\"]\n",
    "# df\n",
    "\n",
    "df = df.loc[[\"Fake & extreme bias\", \"Right\", \"Center\", \"Left\"]]\n",
    "df = df[[\"Fake & extreme bias\", \"Right\", \"Center\", \"Left\"]]\n",
    "# df = df.loc[[\"Fake & extreme bias\", \"Right\", \"Center\", \"Left\"]]\n",
    "# df = df[[\"Fake & extreme bias\", \"Right\", \"Center\", \"Left\"]]\n",
    "display(df)\n",
    "\n",
    "# users_counter_cat_2016 = Counter(users_2016_category.values())\n",
    "# users_counter_cat_2020 = Counter(users_2020_category.values())\n",
    "# print(users_counter_cat_2016)\n",
    "# print(users_counter_cat_2020)\n",
    "# count_union = len(set(users_2016_category.keys()) & set(users_2020_category.keys()))\n",
    "\n",
    "users_2016_fake = set([u for u, v in users_2016_category.items() if v == \"Fake & extreme bias\"])\n",
    "# print(\"user 2016 fake:\", len(users_2016_fake))\n",
    "S_fake = len(users_2016_fake & set(users_2020_category.keys()))\n",
    "\n",
    "users_2016_right = set([u for u, v in users_2016_category.items() if v == \"Right\"])\n",
    "S_right = len(users_2016_right & set(users_2020_category.keys()))\n",
    "\n",
    "users_2016_center = set([u for u, v in users_2016_category.items() if v == \"Center\"])\n",
    "S_center = len(users_2016_center & set(users_2020_category.keys()))\n",
    "\n",
    "users_2016_left = set([u for u, v in users_2016_category.items() if v == \"Left\"])\n",
    "S_left = len(users_2016_left & set(users_2020_category.keys()))\n",
    "\n",
    "\n",
    "print(S_fake, S_right, S_center, S_left)\n",
    "\n",
    "df_prop1 = df.copy()\n",
    "# print(df.sum(), count_union)\n",
    "# print(df_prop1)\n",
    "\n",
    "df_prop1[df_prop1.index==\"Fake & extreme bias\"] = df_prop1[df_prop1.index==\"Fake & extreme bias\"] * users_counter_cat_2016[\"Fake & extreme bias\"] / S_fake\n",
    "df_prop1[df_prop1.index==\"Right\"] = df_prop1[df_prop1.index==\"Right\"] * users_counter_cat_2016[\"Right\"] / S_right\n",
    "df_prop1[df_prop1.index==\"Center\"] = df_prop1[df_prop1.index==\"Center\"] * users_counter_cat_2016[\"Center\"] / S_center\n",
    "df_prop1[df_prop1.index==\"Left\"] = df_prop1[df_prop1.index==\"Left\"] * users_counter_cat_2016[\"Left\"] / S_left\n",
    "\n",
    "display(df_prop1)\n",
    "\n",
    "# df_prop1 = df_prop1 / count_union\n",
    "# print(df_prop1)\n",
    "display(df_prop1.sum(axis=1))\n",
    "display(df_prop1.sum())\n",
    "\n",
    "flow_list_dict = []\n",
    "\n",
    "for i, row in df_prop1.iterrows():\n",
    "    for j, v in row.iteritems():\n",
    "        # print(i, j, v)\n",
    "        if i == \"None\" or j == \"None\":\n",
    "            continue\n",
    "\n",
    "        c = category_to_color(i)\n",
    "        \n",
    "        if i == \"Fake & extreme bias\":\n",
    "            i = \"Fake &\\n extreme bias\"\n",
    "        if j == \"Fake & extreme bias\":\n",
    "            j = \"Fake &\\n extreme bias\"\n",
    "\n",
    "        flow_list_dict.append(\n",
    "            {\n",
    "                \"source\": i + \" \",\n",
    "                \"target\": j + \"\",\n",
    "                # \"type\": i,\n",
    "                \"color\": c,\n",
    "                \"value\": v,\n",
    "            }\n",
    "        )\n",
    "\n",
    "df_flow = pd.DataFrame(flow_list_dict)\n",
    "df_flow.to_csv(\"data/df_flow-2016-4c.csv\", index=None)\n",
    "display(df_flow)\n",
    "\n",
    "df_prop1.to_csv(\"data/flow-formula-2016-4c.csv\")\n",
    "df_prop1"
   ]
  },
  {
   "cell_type": "code",
   "execution_count": 100,
   "metadata": {},
   "outputs": [
    {
     "output_type": "display_data",
     "data": {
      "text/plain": "                     Fake & extreme bias  Right  Right leaning  Center  \\\n#                                                                        \nFake & extreme bias                19846  17170           4002    1484   \nRight                               6758  10893           3353    1142   \nRight leaning                        803    705            994     663   \nCenter                              2877   3946           3313    9425   \nLeft leaning                        2382   3001           4140   12137   \nLeft                                 546    543           1066    3568   \n\n                     Left leaning   Left  \n#                                         \nFake & extreme bias          6046    526  \nRight                        4950    366  \nRight leaning                3543    263  \nCenter                      63597   4337  \nLeft leaning               160241  10844  \nLeft                        46349   6540  ",
      "text/html": "<div>\n<style scoped>\n    .dataframe tbody tr th:only-of-type {\n        vertical-align: middle;\n    }\n\n    .dataframe tbody tr th {\n        vertical-align: top;\n    }\n\n    .dataframe thead th {\n        text-align: right;\n    }\n</style>\n<table border=\"1\" class=\"dataframe\">\n  <thead>\n    <tr style=\"text-align: right;\">\n      <th></th>\n      <th>Fake &amp; extreme bias</th>\n      <th>Right</th>\n      <th>Right leaning</th>\n      <th>Center</th>\n      <th>Left leaning</th>\n      <th>Left</th>\n    </tr>\n    <tr>\n      <th>#</th>\n      <th></th>\n      <th></th>\n      <th></th>\n      <th></th>\n      <th></th>\n      <th></th>\n    </tr>\n  </thead>\n  <tbody>\n    <tr>\n      <th>Fake &amp; extreme bias</th>\n      <td>19846</td>\n      <td>17170</td>\n      <td>4002</td>\n      <td>1484</td>\n      <td>6046</td>\n      <td>526</td>\n    </tr>\n    <tr>\n      <th>Right</th>\n      <td>6758</td>\n      <td>10893</td>\n      <td>3353</td>\n      <td>1142</td>\n      <td>4950</td>\n      <td>366</td>\n    </tr>\n    <tr>\n      <th>Right leaning</th>\n      <td>803</td>\n      <td>705</td>\n      <td>994</td>\n      <td>663</td>\n      <td>3543</td>\n      <td>263</td>\n    </tr>\n    <tr>\n      <th>Center</th>\n      <td>2877</td>\n      <td>3946</td>\n      <td>3313</td>\n      <td>9425</td>\n      <td>63597</td>\n      <td>4337</td>\n    </tr>\n    <tr>\n      <th>Left leaning</th>\n      <td>2382</td>\n      <td>3001</td>\n      <td>4140</td>\n      <td>12137</td>\n      <td>160241</td>\n      <td>10844</td>\n    </tr>\n    <tr>\n      <th>Left</th>\n      <td>546</td>\n      <td>543</td>\n      <td>1066</td>\n      <td>3568</td>\n      <td>46349</td>\n      <td>6540</td>\n    </tr>\n  </tbody>\n</table>\n</div>"
     },
     "metadata": {}
    },
    {
     "output_type": "display_data",
     "data": {
      "text/plain": "                     Fake & extreme bias         Right  Right leaning  \\\n#                                                                       \nFake & extreme bias         84252.687981  72892.202592   16989.784203   \nRight                       34391.432962  55434.430194   17063.402593   \nRight leaning                5273.582413   4629.982069    6527.946349   \nCenter                      16615.049031  22788.663009   19133.005715   \nLeft leaning                 9552.345846  12034.672495   16602.313938   \nLeft                         2390.934484   2377.797482    4668.014946   \n\n                           Center   Left leaning          Left  \n#                                                               \nFake & extreme bias   6300.059910   25667.225211   2233.040103  \nRight                 5811.633093   25190.528731   1862.572427  \nRight leaning         4354.153350   23268.122651   1727.213169  \nCenter               54430.600320  367280.943082  25046.738842  \nLeft leaning         48672.049340  642601.784482  43486.833900  \nLeft                 15624.275165  202962.312120  28638.665802  ",
      "text/html": "<div>\n<style scoped>\n    .dataframe tbody tr th:only-of-type {\n        vertical-align: middle;\n    }\n\n    .dataframe tbody tr th {\n        vertical-align: top;\n    }\n\n    .dataframe thead th {\n        text-align: right;\n    }\n</style>\n<table border=\"1\" class=\"dataframe\">\n  <thead>\n    <tr style=\"text-align: right;\">\n      <th></th>\n      <th>Fake &amp; extreme bias</th>\n      <th>Right</th>\n      <th>Right leaning</th>\n      <th>Center</th>\n      <th>Left leaning</th>\n      <th>Left</th>\n    </tr>\n    <tr>\n      <th>#</th>\n      <th></th>\n      <th></th>\n      <th></th>\n      <th></th>\n      <th></th>\n      <th></th>\n    </tr>\n  </thead>\n  <tbody>\n    <tr>\n      <th>Fake &amp; extreme bias</th>\n      <td>84252.687981</td>\n      <td>72892.202592</td>\n      <td>16989.784203</td>\n      <td>6300.059910</td>\n      <td>25667.225211</td>\n      <td>2233.040103</td>\n    </tr>\n    <tr>\n      <th>Right</th>\n      <td>34391.432962</td>\n      <td>55434.430194</td>\n      <td>17063.402593</td>\n      <td>5811.633093</td>\n      <td>25190.528731</td>\n      <td>1862.572427</td>\n    </tr>\n    <tr>\n      <th>Right leaning</th>\n      <td>5273.582413</td>\n      <td>4629.982069</td>\n      <td>6527.946349</td>\n      <td>4354.153350</td>\n      <td>23268.122651</td>\n      <td>1727.213169</td>\n    </tr>\n    <tr>\n      <th>Center</th>\n      <td>16615.049031</td>\n      <td>22788.663009</td>\n      <td>19133.005715</td>\n      <td>54430.600320</td>\n      <td>367280.943082</td>\n      <td>25046.738842</td>\n    </tr>\n    <tr>\n      <th>Left leaning</th>\n      <td>9552.345846</td>\n      <td>12034.672495</td>\n      <td>16602.313938</td>\n      <td>48672.049340</td>\n      <td>642601.784482</td>\n      <td>43486.833900</td>\n    </tr>\n    <tr>\n      <th>Left</th>\n      <td>2390.934484</td>\n      <td>2377.797482</td>\n      <td>4668.014946</td>\n      <td>15624.275165</td>\n      <td>202962.312120</td>\n      <td>28638.665802</td>\n    </tr>\n  </tbody>\n</table>\n</div>"
     },
     "metadata": {}
    },
    {
     "output_type": "display_data",
     "data": {
      "text/plain": "                    source                 target    color          value\n0   Fake &\\n extreme bias   Fake &\\n extreme bias  #282828   84252.687981\n1   Fake &\\n extreme bias                   Right  #282828   72892.202592\n2   Fake &\\n extreme bias           Right leaning  #282828   16989.784203\n3   Fake &\\n extreme bias                  Center  #282828    6300.059910\n4   Fake &\\n extreme bias            Left leaning  #282828   25667.225211\n5   Fake &\\n extreme bias                    Left  #282828    2233.040103\n6                   Right   Fake &\\n extreme bias  #8F100B   34391.432962\n7                   Right                   Right  #8F100B   55434.430194\n8                   Right           Right leaning  #8F100B   17063.402593\n9                   Right                  Center  #8F100B    5811.633093\n10                  Right            Left leaning  #8F100B   25190.528731\n11                  Right                    Left  #8F100B    1862.572427\n12          Right leaning   Fake &\\n extreme bias  #DB4742    5273.582413\n13          Right leaning                   Right  #DB4742    4629.982069\n14          Right leaning           Right leaning  #DB4742    6527.946349\n15          Right leaning                  Center  #DB4742    4354.153350\n16          Right leaning            Left leaning  #DB4742   23268.122651\n17          Right leaning                    Left  #DB4742    1727.213169\n18                 Center   Fake &\\n extreme bias  #CFDB00   16615.049031\n19                 Center                   Right  #CFDB00   22788.663009\n20                 Center           Right leaning  #CFDB00   19133.005715\n21                 Center                  Center  #CFDB00   54430.600320\n22                 Center            Left leaning  #CFDB00  367280.943082\n23                 Center                    Left  #CFDB00   25046.738842\n24           Left leaning   Fake &\\n extreme bias  #4495DB    9552.345846\n25           Left leaning                   Right  #4495DB   12034.672495\n26           Left leaning           Right leaning  #4495DB   16602.313938\n27           Left leaning                  Center  #4495DB   48672.049340\n28           Left leaning            Left leaning  #4495DB  642601.784482\n29           Left leaning                    Left  #4495DB   43486.833900\n30                   Left   Fake &\\n extreme bias  #0E538F    2390.934484\n31                   Left                   Right  #0E538F    2377.797482\n32                   Left           Right leaning  #0E538F    4668.014946\n33                   Left                  Center  #0E538F   15624.275165\n34                   Left            Left leaning  #0E538F  202962.312120\n35                   Left                    Left  #0E538F   28638.665802",
      "text/html": "<div>\n<style scoped>\n    .dataframe tbody tr th:only-of-type {\n        vertical-align: middle;\n    }\n\n    .dataframe tbody tr th {\n        vertical-align: top;\n    }\n\n    .dataframe thead th {\n        text-align: right;\n    }\n</style>\n<table border=\"1\" class=\"dataframe\">\n  <thead>\n    <tr style=\"text-align: right;\">\n      <th></th>\n      <th>source</th>\n      <th>target</th>\n      <th>color</th>\n      <th>value</th>\n    </tr>\n  </thead>\n  <tbody>\n    <tr>\n      <th>0</th>\n      <td>Fake &amp;\\n extreme bias</td>\n      <td>Fake &amp;\\n extreme bias</td>\n      <td>#282828</td>\n      <td>84252.687981</td>\n    </tr>\n    <tr>\n      <th>1</th>\n      <td>Fake &amp;\\n extreme bias</td>\n      <td>Right</td>\n      <td>#282828</td>\n      <td>72892.202592</td>\n    </tr>\n    <tr>\n      <th>2</th>\n      <td>Fake &amp;\\n extreme bias</td>\n      <td>Right leaning</td>\n      <td>#282828</td>\n      <td>16989.784203</td>\n    </tr>\n    <tr>\n      <th>3</th>\n      <td>Fake &amp;\\n extreme bias</td>\n      <td>Center</td>\n      <td>#282828</td>\n      <td>6300.059910</td>\n    </tr>\n    <tr>\n      <th>4</th>\n      <td>Fake &amp;\\n extreme bias</td>\n      <td>Left leaning</td>\n      <td>#282828</td>\n      <td>25667.225211</td>\n    </tr>\n    <tr>\n      <th>5</th>\n      <td>Fake &amp;\\n extreme bias</td>\n      <td>Left</td>\n      <td>#282828</td>\n      <td>2233.040103</td>\n    </tr>\n    <tr>\n      <th>6</th>\n      <td>Right</td>\n      <td>Fake &amp;\\n extreme bias</td>\n      <td>#8F100B</td>\n      <td>34391.432962</td>\n    </tr>\n    <tr>\n      <th>7</th>\n      <td>Right</td>\n      <td>Right</td>\n      <td>#8F100B</td>\n      <td>55434.430194</td>\n    </tr>\n    <tr>\n      <th>8</th>\n      <td>Right</td>\n      <td>Right leaning</td>\n      <td>#8F100B</td>\n      <td>17063.402593</td>\n    </tr>\n    <tr>\n      <th>9</th>\n      <td>Right</td>\n      <td>Center</td>\n      <td>#8F100B</td>\n      <td>5811.633093</td>\n    </tr>\n    <tr>\n      <th>10</th>\n      <td>Right</td>\n      <td>Left leaning</td>\n      <td>#8F100B</td>\n      <td>25190.528731</td>\n    </tr>\n    <tr>\n      <th>11</th>\n      <td>Right</td>\n      <td>Left</td>\n      <td>#8F100B</td>\n      <td>1862.572427</td>\n    </tr>\n    <tr>\n      <th>12</th>\n      <td>Right leaning</td>\n      <td>Fake &amp;\\n extreme bias</td>\n      <td>#DB4742</td>\n      <td>5273.582413</td>\n    </tr>\n    <tr>\n      <th>13</th>\n      <td>Right leaning</td>\n      <td>Right</td>\n      <td>#DB4742</td>\n      <td>4629.982069</td>\n    </tr>\n    <tr>\n      <th>14</th>\n      <td>Right leaning</td>\n      <td>Right leaning</td>\n      <td>#DB4742</td>\n      <td>6527.946349</td>\n    </tr>\n    <tr>\n      <th>15</th>\n      <td>Right leaning</td>\n      <td>Center</td>\n      <td>#DB4742</td>\n      <td>4354.153350</td>\n    </tr>\n    <tr>\n      <th>16</th>\n      <td>Right leaning</td>\n      <td>Left leaning</td>\n      <td>#DB4742</td>\n      <td>23268.122651</td>\n    </tr>\n    <tr>\n      <th>17</th>\n      <td>Right leaning</td>\n      <td>Left</td>\n      <td>#DB4742</td>\n      <td>1727.213169</td>\n    </tr>\n    <tr>\n      <th>18</th>\n      <td>Center</td>\n      <td>Fake &amp;\\n extreme bias</td>\n      <td>#CFDB00</td>\n      <td>16615.049031</td>\n    </tr>\n    <tr>\n      <th>19</th>\n      <td>Center</td>\n      <td>Right</td>\n      <td>#CFDB00</td>\n      <td>22788.663009</td>\n    </tr>\n    <tr>\n      <th>20</th>\n      <td>Center</td>\n      <td>Right leaning</td>\n      <td>#CFDB00</td>\n      <td>19133.005715</td>\n    </tr>\n    <tr>\n      <th>21</th>\n      <td>Center</td>\n      <td>Center</td>\n      <td>#CFDB00</td>\n      <td>54430.600320</td>\n    </tr>\n    <tr>\n      <th>22</th>\n      <td>Center</td>\n      <td>Left leaning</td>\n      <td>#CFDB00</td>\n      <td>367280.943082</td>\n    </tr>\n    <tr>\n      <th>23</th>\n      <td>Center</td>\n      <td>Left</td>\n      <td>#CFDB00</td>\n      <td>25046.738842</td>\n    </tr>\n    <tr>\n      <th>24</th>\n      <td>Left leaning</td>\n      <td>Fake &amp;\\n extreme bias</td>\n      <td>#4495DB</td>\n      <td>9552.345846</td>\n    </tr>\n    <tr>\n      <th>25</th>\n      <td>Left leaning</td>\n      <td>Right</td>\n      <td>#4495DB</td>\n      <td>12034.672495</td>\n    </tr>\n    <tr>\n      <th>26</th>\n      <td>Left leaning</td>\n      <td>Right leaning</td>\n      <td>#4495DB</td>\n      <td>16602.313938</td>\n    </tr>\n    <tr>\n      <th>27</th>\n      <td>Left leaning</td>\n      <td>Center</td>\n      <td>#4495DB</td>\n      <td>48672.049340</td>\n    </tr>\n    <tr>\n      <th>28</th>\n      <td>Left leaning</td>\n      <td>Left leaning</td>\n      <td>#4495DB</td>\n      <td>642601.784482</td>\n    </tr>\n    <tr>\n      <th>29</th>\n      <td>Left leaning</td>\n      <td>Left</td>\n      <td>#4495DB</td>\n      <td>43486.833900</td>\n    </tr>\n    <tr>\n      <th>30</th>\n      <td>Left</td>\n      <td>Fake &amp;\\n extreme bias</td>\n      <td>#0E538F</td>\n      <td>2390.934484</td>\n    </tr>\n    <tr>\n      <th>31</th>\n      <td>Left</td>\n      <td>Right</td>\n      <td>#0E538F</td>\n      <td>2377.797482</td>\n    </tr>\n    <tr>\n      <th>32</th>\n      <td>Left</td>\n      <td>Right leaning</td>\n      <td>#0E538F</td>\n      <td>4668.014946</td>\n    </tr>\n    <tr>\n      <th>33</th>\n      <td>Left</td>\n      <td>Center</td>\n      <td>#0E538F</td>\n      <td>15624.275165</td>\n    </tr>\n    <tr>\n      <th>34</th>\n      <td>Left</td>\n      <td>Left leaning</td>\n      <td>#0E538F</td>\n      <td>202962.312120</td>\n    </tr>\n    <tr>\n      <th>35</th>\n      <td>Left</td>\n      <td>Left</td>\n      <td>#0E538F</td>\n      <td>28638.665802</td>\n    </tr>\n  </tbody>\n</table>\n</div>"
     },
     "metadata": {}
    },
    {
     "output_type": "execute_result",
     "data": {
      "text/plain": [
       "                     Fake & extreme bias         Right  Right leaning  \\\n",
       "#                                                                       \n",
       "Fake & extreme bias         84252.687981  72892.202592   16989.784203   \n",
       "Right                       34391.432962  55434.430194   17063.402593   \n",
       "Right leaning                5273.582413   4629.982069    6527.946349   \n",
       "Center                      16615.049031  22788.663009   19133.005715   \n",
       "Left leaning                 9552.345846  12034.672495   16602.313938   \n",
       "Left                         2390.934484   2377.797482    4668.014946   \n",
       "\n",
       "                           Center   Left leaning          Left  \n",
       "#                                                               \n",
       "Fake & extreme bias   6300.059910   25667.225211   2233.040103  \n",
       "Right                 5811.633093   25190.528731   1862.572427  \n",
       "Right leaning         4354.153350   23268.122651   1727.213169  \n",
       "Center               54430.600320  367280.943082  25046.738842  \n",
       "Left leaning         48672.049340  642601.784482  43486.833900  \n",
       "Left                 15624.275165  202962.312120  28638.665802  "
      ],
      "text/html": "<div>\n<style scoped>\n    .dataframe tbody tr th:only-of-type {\n        vertical-align: middle;\n    }\n\n    .dataframe tbody tr th {\n        vertical-align: top;\n    }\n\n    .dataframe thead th {\n        text-align: right;\n    }\n</style>\n<table border=\"1\" class=\"dataframe\">\n  <thead>\n    <tr style=\"text-align: right;\">\n      <th></th>\n      <th>Fake &amp; extreme bias</th>\n      <th>Right</th>\n      <th>Right leaning</th>\n      <th>Center</th>\n      <th>Left leaning</th>\n      <th>Left</th>\n    </tr>\n    <tr>\n      <th>#</th>\n      <th></th>\n      <th></th>\n      <th></th>\n      <th></th>\n      <th></th>\n      <th></th>\n    </tr>\n  </thead>\n  <tbody>\n    <tr>\n      <th>Fake &amp; extreme bias</th>\n      <td>84252.687981</td>\n      <td>72892.202592</td>\n      <td>16989.784203</td>\n      <td>6300.059910</td>\n      <td>25667.225211</td>\n      <td>2233.040103</td>\n    </tr>\n    <tr>\n      <th>Right</th>\n      <td>34391.432962</td>\n      <td>55434.430194</td>\n      <td>17063.402593</td>\n      <td>5811.633093</td>\n      <td>25190.528731</td>\n      <td>1862.572427</td>\n    </tr>\n    <tr>\n      <th>Right leaning</th>\n      <td>5273.582413</td>\n      <td>4629.982069</td>\n      <td>6527.946349</td>\n      <td>4354.153350</td>\n      <td>23268.122651</td>\n      <td>1727.213169</td>\n    </tr>\n    <tr>\n      <th>Center</th>\n      <td>16615.049031</td>\n      <td>22788.663009</td>\n      <td>19133.005715</td>\n      <td>54430.600320</td>\n      <td>367280.943082</td>\n      <td>25046.738842</td>\n    </tr>\n    <tr>\n      <th>Left leaning</th>\n      <td>9552.345846</td>\n      <td>12034.672495</td>\n      <td>16602.313938</td>\n      <td>48672.049340</td>\n      <td>642601.784482</td>\n      <td>43486.833900</td>\n    </tr>\n    <tr>\n      <th>Left</th>\n      <td>2390.934484</td>\n      <td>2377.797482</td>\n      <td>4668.014946</td>\n      <td>15624.275165</td>\n      <td>202962.312120</td>\n      <td>28638.665802</td>\n    </tr>\n  </tbody>\n</table>\n</div>"
     },
     "metadata": {},
     "execution_count": 100
    }
   ],
   "source": [
    "# VIP ~~~~~~~~~~~~~~~~~~~~~\n",
    "\n",
    "# 2016 formula\n",
    "df = pd.read_csv(\"data/PNAS_6c.csv\", index_col=\"#\")\n",
    "\n",
    "df = df.loc[[\"Fake & extreme bias\", \"Right\", \"Right leaning\", \"Center\", \"Left leaning\", \"Left\"]]\n",
    "df = df[[\"Fake & extreme bias\", \"Right\", \"Right leaning\", \"Center\", \"Left leaning\", \"Left\"]]\n",
    "# df = df.loc[[\"Fake & extreme bias\", \"Right\", \"Center\", \"Left\"]]\n",
    "# df = df[[\"Fake & extreme bias\", \"Right\", \"Center\", \"Left\"]]\n",
    "display(df)\n",
    "\n",
    "users_2016_fake = set([u for u, v in users_2016_category.items() if v == \"Fake & extreme bias\"])\n",
    "# print(\"user 2016 fake:\", len(users_2016_fake))\n",
    "S_fake = len(users_2016_fake & set(users_2020_category.keys()))\n",
    "\n",
    "users_2016_right = set([u for u, v in users_2016_category.items() if v == \"Right\"])\n",
    "S_right = len(users_2016_right & set(users_2020_category.keys()))\n",
    "\n",
    "users_2016_center = set([u for u, v in users_2016_category.items() if v == \"Center\"])\n",
    "S_center = len(users_2016_center & set(users_2020_category.keys()))\n",
    "\n",
    "users_2016_left = set([u for u, v in users_2016_category.items() if v == \"Left\"])\n",
    "S_left = len(users_2016_left & set(users_2020_category.keys()))\n",
    "\n",
    "users_2016_right_leaning = set([u for u, v in users_2016_category.items() if v == \"Right leaning\"])\n",
    "S_right_leaning = len(users_2016_right_leaning & set(users_2020_category.keys()))\n",
    "\n",
    "users_2016_left_leaning = set([u for u, v in users_2016_category.items() if v == \"Left leaning\"])\n",
    "S_left_leaning = len(users_2016_left_leaning & set(users_2020_category.keys()))\n",
    "\n",
    "# print(S_fake, S_right, S_center, S_left)\n",
    "# print(S_fake, S_right, S_center, S_left, S_right_leaning, S_left_leaning)\n",
    "\n",
    "df_prop1 = df.copy()\n",
    "# print(df.sum(), count_union)\n",
    "# print(df_prop1)\n",
    "\n",
    "df_prop1[df_prop1.index==\"Fake & extreme bias\"] = df_prop1[df_prop1.index==\"Fake & extreme bias\"] * users_counter_cat_2016[\"Fake & extreme bias\"] / S_fake\n",
    "df_prop1[df_prop1.index==\"Right\"] = df_prop1[df_prop1.index==\"Right\"] * users_counter_cat_2016[\"Right\"] / S_right\n",
    "df_prop1[df_prop1.index==\"Center\"] = df_prop1[df_prop1.index==\"Center\"] * users_counter_cat_2016[\"Center\"] / S_center\n",
    "df_prop1[df_prop1.index==\"Left\"] = df_prop1[df_prop1.index==\"Left\"] * users_counter_cat_2016[\"Left\"] / S_left\n",
    "df_prop1[df_prop1.index==\"Right leaning\"] = df_prop1[df_prop1.index==\"Right leaning\"] * users_counter_cat_2016[\"Right leaning\"] / S_right_leaning\n",
    "df_prop1[df_prop1.index==\"Left leaning\"] = df_prop1[df_prop1.index==\"Left leaning\"] * users_counter_cat_2016[\"Left leaning\"] / S_left_leaning\n",
    "\n",
    "display(df_prop1)\n",
    "\n",
    "# df_prop1 = df_prop1 / count_union\n",
    "# print(df_prop1)\n",
    "# display(df_prop1.sum(axis=1))\n",
    "# display(df_prop1.sum())\n",
    "\n",
    "flow_list_dict = []\n",
    "\n",
    "for i, row in df_prop1.iterrows():\n",
    "    for j, v in row.iteritems():\n",
    "        # print(i, j, v)\n",
    "        if i == \"None\" or j == \"None\":\n",
    "            continue\n",
    "\n",
    "        c = category_to_color(i)\n",
    "        \n",
    "        if i == \"Fake & extreme bias\":\n",
    "            i = \"Fake &\\n extreme bias\"\n",
    "        if j == \"Fake & extreme bias\":\n",
    "            j = \"Fake &\\n extreme bias\"\n",
    "\n",
    "        flow_list_dict.append(\n",
    "            {\n",
    "                \"source\": i + \" \",\n",
    "                \"target\": j + \"\",\n",
    "                # \"type\": i,\n",
    "                \"color\": c,\n",
    "                \"value\": v,\n",
    "            }\n",
    "        )\n",
    "\n",
    "df_flow = pd.DataFrame(flow_list_dict)\n",
    "df_flow.to_csv(\"data/df_flow-2016-6c.csv\", index=None)\n",
    "display(df_flow)\n",
    "\n",
    "df_prop1.to_csv(\"data/flow-formula-2016-6c.csv\", float_format=\"%.3f\")\n",
    "df_prop1"
   ]
  },
  {
   "cell_type": "code",
   "execution_count": 101,
   "metadata": {},
   "outputs": [
    {
     "output_type": "stream",
     "name": "stdout",
     "text": [
      "                  source               target    color          value\n0   Fake & extreme bias   Fake & extreme bias  #282828  100038.641928\n1   Fake & extreme bias                 Right  #282828   32671.224566\n2   Fake & extreme bias         Right leaning  #282828    4593.402201\n3   Fake & extreme bias                Center  #282828   24210.281939\n4   Fake & extreme bias          Left leaning  #282828   15135.148580\n5   Fake & extreme bias                  Left  #282828    3413.411522\n6                 Right   Fake & extreme bias  #8F100B   85049.388181\n7                 Right                 Right  #8F100B   47173.633355\n8                 Right         Right leaning  #8F100B    3862.928574\n9                 Right                Center  #8F100B   27698.756902\n10                Right          Left leaning  #8F100B   15802.495925\n11                Right                  Left  #8F100B    2672.003285\n12        Right leaning   Fake & extreme bias  #282828   33218.019568\n13        Right leaning                 Right  #282828   22218.385120\n14        Right leaning         Right leaning  #282828    6584.442533\n15        Right leaning                Center  #282828   31136.415439\n16        Right leaning          Left leaning  #282828   29564.256532\n17        Right leaning                  Left  #282828    6809.036663\n18               Center   Fake & extreme bias  #CFDB00   19042.827491\n19               Center                 Right  #CFDB00   10636.534274\n20               Center         Right leaning  #CFDB00    5819.028123\n21               Center                Center  #CFDB00   95102.857236\n22               Center          Left leaning  #CFDB00  110872.191616\n23               Center                  Left  #CFDB00   30449.049947\n24         Left leaning   Fake & extreme bias  #282828   37129.891837\n25         Left leaning                 Right  #282828   21126.062549\n26         Left leaning         Right leaning  #282828   15863.444821\n27         Left leaning                Center  #282828  348646.624689\n28         Left leaning          Left leaning  #282828  668154.473381\n29         Left leaning                  Left  #282828  178839.012714\n30                 Left   Fake & extreme bias  #0E538F    3176.422503\n31                 Left                 Right  #0E538F    1512.959347\n32                 Left         Right leaning  #0E538F    1231.754861\n33                 Left                Center  #0E538F   25577.726336\n34                 Left          Left leaning  #0E538F   49004.832450\n35                 Left                  Left  #0E538F   26144.095935\n"
     ]
    },
    {
     "output_type": "display_data",
     "data": {
      "text/plain": "SankeyWidget(layout=Layout(height='800', width='800'), links=[{'source': 'Fake & extreme bias ', 'target': 'Fa…",
      "application/vnd.jupyter.widget-view+json": {
       "version_major": 2,
       "version_minor": 0,
       "model_id": "6aeb07c2aecc4745977f707fca139079"
      }
     },
     "metadata": {}
    }
   ],
   "source": [
    "from floweaver import *\n",
    "from ipysankeywidget import SankeyWidget\n",
    "from ipywidgets import Layout\n",
    "\n",
    "df_flow = pd.read_csv(\"data/df_flow-2016.csv\")\n",
    "print(df_flow)\n",
    "\n",
    "# Set the default size to fit the documentation better.\n",
    "layout = Layout(width=\"800\", height=\"800\")\n",
    "\n",
    "order = [\n",
    "    [\"Fake &\\n extreme bias \", \"Right \", \"Center \", \"Left \"],\n",
    "    [\"Fake &\\n extreme bias\", \"Right\", \"Center\", \"Left\"],\n",
    "]\n",
    "\n",
    "# sw = SankeyWidget(links=df_flow.to_dict('records'), margins=dict(top=0, bottom=0, left=120, right=120), layout=layout)\n",
    "\n",
    "sw = SankeyWidget(\n",
    "    links=df_flow.to_dict('records'),\n",
    "    margins=dict(top=0, bottom=0, left=180, right=180), \n",
    "    layout=layout, \n",
    "    order=order)\n",
    "sw.auto_save_svg(\"flow2016.svg\")\n",
    "sw"
   ]
  },
  {
   "cell_type": "code",
   "execution_count": 102,
   "metadata": {},
   "outputs": [
    {
     "output_type": "display_data",
     "data": {
      "text/plain": "                    source                 target    color          value\n0   Fake &\\n extreme bias   Fake &\\n extreme bias  #282828   84252.687981\n1   Fake &\\n extreme bias                   Right  #282828   72892.202592\n2   Fake &\\n extreme bias           Right leaning  #282828   16989.784203\n3   Fake &\\n extreme bias                  Center  #282828    6300.059910\n4   Fake &\\n extreme bias            Left leaning  #282828   25667.225211\n5   Fake &\\n extreme bias                    Left  #282828    2233.040103\n6                   Right   Fake &\\n extreme bias  #8F100B   34391.432962\n7                   Right                   Right  #8F100B   55434.430194\n8                   Right           Right leaning  #8F100B   17063.402593\n9                   Right                  Center  #8F100B    5811.633093\n10                  Right            Left leaning  #8F100B   25190.528731\n11                  Right                    Left  #8F100B    1862.572427\n12          Right leaning   Fake &\\n extreme bias  #DB4742    5273.582413\n13          Right leaning                   Right  #DB4742    4629.982069\n14          Right leaning           Right leaning  #DB4742    6527.946349\n15          Right leaning                  Center  #DB4742    4354.153350\n16          Right leaning            Left leaning  #DB4742   23268.122651\n17          Right leaning                    Left  #DB4742    1727.213169\n18                 Center   Fake &\\n extreme bias  #CFDB00   16615.049031\n19                 Center                   Right  #CFDB00   22788.663009\n20                 Center           Right leaning  #CFDB00   19133.005715\n21                 Center                  Center  #CFDB00   54430.600320\n22                 Center            Left leaning  #CFDB00  367280.943082\n23                 Center                    Left  #CFDB00   25046.738842\n24           Left leaning   Fake &\\n extreme bias  #4495DB    9552.345846\n25           Left leaning                   Right  #4495DB   12034.672495\n26           Left leaning           Right leaning  #4495DB   16602.313938\n27           Left leaning                  Center  #4495DB   48672.049340\n28           Left leaning            Left leaning  #4495DB  642601.784482\n29           Left leaning                    Left  #4495DB   43486.833900\n30                   Left   Fake &\\n extreme bias  #0E538F    2390.934484\n31                   Left                   Right  #0E538F    2377.797482\n32                   Left           Right leaning  #0E538F    4668.014946\n33                   Left                  Center  #0E538F   15624.275165\n34                   Left            Left leaning  #0E538F  202962.312120\n35                   Left                    Left  #0E538F   28638.665802",
      "text/html": "<div>\n<style scoped>\n    .dataframe tbody tr th:only-of-type {\n        vertical-align: middle;\n    }\n\n    .dataframe tbody tr th {\n        vertical-align: top;\n    }\n\n    .dataframe thead th {\n        text-align: right;\n    }\n</style>\n<table border=\"1\" class=\"dataframe\">\n  <thead>\n    <tr style=\"text-align: right;\">\n      <th></th>\n      <th>source</th>\n      <th>target</th>\n      <th>color</th>\n      <th>value</th>\n    </tr>\n  </thead>\n  <tbody>\n    <tr>\n      <th>0</th>\n      <td>Fake &amp;\\n extreme bias</td>\n      <td>Fake &amp;\\n extreme bias</td>\n      <td>#282828</td>\n      <td>84252.687981</td>\n    </tr>\n    <tr>\n      <th>1</th>\n      <td>Fake &amp;\\n extreme bias</td>\n      <td>Right</td>\n      <td>#282828</td>\n      <td>72892.202592</td>\n    </tr>\n    <tr>\n      <th>2</th>\n      <td>Fake &amp;\\n extreme bias</td>\n      <td>Right leaning</td>\n      <td>#282828</td>\n      <td>16989.784203</td>\n    </tr>\n    <tr>\n      <th>3</th>\n      <td>Fake &amp;\\n extreme bias</td>\n      <td>Center</td>\n      <td>#282828</td>\n      <td>6300.059910</td>\n    </tr>\n    <tr>\n      <th>4</th>\n      <td>Fake &amp;\\n extreme bias</td>\n      <td>Left leaning</td>\n      <td>#282828</td>\n      <td>25667.225211</td>\n    </tr>\n    <tr>\n      <th>5</th>\n      <td>Fake &amp;\\n extreme bias</td>\n      <td>Left</td>\n      <td>#282828</td>\n      <td>2233.040103</td>\n    </tr>\n    <tr>\n      <th>6</th>\n      <td>Right</td>\n      <td>Fake &amp;\\n extreme bias</td>\n      <td>#8F100B</td>\n      <td>34391.432962</td>\n    </tr>\n    <tr>\n      <th>7</th>\n      <td>Right</td>\n      <td>Right</td>\n      <td>#8F100B</td>\n      <td>55434.430194</td>\n    </tr>\n    <tr>\n      <th>8</th>\n      <td>Right</td>\n      <td>Right leaning</td>\n      <td>#8F100B</td>\n      <td>17063.402593</td>\n    </tr>\n    <tr>\n      <th>9</th>\n      <td>Right</td>\n      <td>Center</td>\n      <td>#8F100B</td>\n      <td>5811.633093</td>\n    </tr>\n    <tr>\n      <th>10</th>\n      <td>Right</td>\n      <td>Left leaning</td>\n      <td>#8F100B</td>\n      <td>25190.528731</td>\n    </tr>\n    <tr>\n      <th>11</th>\n      <td>Right</td>\n      <td>Left</td>\n      <td>#8F100B</td>\n      <td>1862.572427</td>\n    </tr>\n    <tr>\n      <th>12</th>\n      <td>Right leaning</td>\n      <td>Fake &amp;\\n extreme bias</td>\n      <td>#DB4742</td>\n      <td>5273.582413</td>\n    </tr>\n    <tr>\n      <th>13</th>\n      <td>Right leaning</td>\n      <td>Right</td>\n      <td>#DB4742</td>\n      <td>4629.982069</td>\n    </tr>\n    <tr>\n      <th>14</th>\n      <td>Right leaning</td>\n      <td>Right leaning</td>\n      <td>#DB4742</td>\n      <td>6527.946349</td>\n    </tr>\n    <tr>\n      <th>15</th>\n      <td>Right leaning</td>\n      <td>Center</td>\n      <td>#DB4742</td>\n      <td>4354.153350</td>\n    </tr>\n    <tr>\n      <th>16</th>\n      <td>Right leaning</td>\n      <td>Left leaning</td>\n      <td>#DB4742</td>\n      <td>23268.122651</td>\n    </tr>\n    <tr>\n      <th>17</th>\n      <td>Right leaning</td>\n      <td>Left</td>\n      <td>#DB4742</td>\n      <td>1727.213169</td>\n    </tr>\n    <tr>\n      <th>18</th>\n      <td>Center</td>\n      <td>Fake &amp;\\n extreme bias</td>\n      <td>#CFDB00</td>\n      <td>16615.049031</td>\n    </tr>\n    <tr>\n      <th>19</th>\n      <td>Center</td>\n      <td>Right</td>\n      <td>#CFDB00</td>\n      <td>22788.663009</td>\n    </tr>\n    <tr>\n      <th>20</th>\n      <td>Center</td>\n      <td>Right leaning</td>\n      <td>#CFDB00</td>\n      <td>19133.005715</td>\n    </tr>\n    <tr>\n      <th>21</th>\n      <td>Center</td>\n      <td>Center</td>\n      <td>#CFDB00</td>\n      <td>54430.600320</td>\n    </tr>\n    <tr>\n      <th>22</th>\n      <td>Center</td>\n      <td>Left leaning</td>\n      <td>#CFDB00</td>\n      <td>367280.943082</td>\n    </tr>\n    <tr>\n      <th>23</th>\n      <td>Center</td>\n      <td>Left</td>\n      <td>#CFDB00</td>\n      <td>25046.738842</td>\n    </tr>\n    <tr>\n      <th>24</th>\n      <td>Left leaning</td>\n      <td>Fake &amp;\\n extreme bias</td>\n      <td>#4495DB</td>\n      <td>9552.345846</td>\n    </tr>\n    <tr>\n      <th>25</th>\n      <td>Left leaning</td>\n      <td>Right</td>\n      <td>#4495DB</td>\n      <td>12034.672495</td>\n    </tr>\n    <tr>\n      <th>26</th>\n      <td>Left leaning</td>\n      <td>Right leaning</td>\n      <td>#4495DB</td>\n      <td>16602.313938</td>\n    </tr>\n    <tr>\n      <th>27</th>\n      <td>Left leaning</td>\n      <td>Center</td>\n      <td>#4495DB</td>\n      <td>48672.049340</td>\n    </tr>\n    <tr>\n      <th>28</th>\n      <td>Left leaning</td>\n      <td>Left leaning</td>\n      <td>#4495DB</td>\n      <td>642601.784482</td>\n    </tr>\n    <tr>\n      <th>29</th>\n      <td>Left leaning</td>\n      <td>Left</td>\n      <td>#4495DB</td>\n      <td>43486.833900</td>\n    </tr>\n    <tr>\n      <th>30</th>\n      <td>Left</td>\n      <td>Fake &amp;\\n extreme bias</td>\n      <td>#0E538F</td>\n      <td>2390.934484</td>\n    </tr>\n    <tr>\n      <th>31</th>\n      <td>Left</td>\n      <td>Right</td>\n      <td>#0E538F</td>\n      <td>2377.797482</td>\n    </tr>\n    <tr>\n      <th>32</th>\n      <td>Left</td>\n      <td>Right leaning</td>\n      <td>#0E538F</td>\n      <td>4668.014946</td>\n    </tr>\n    <tr>\n      <th>33</th>\n      <td>Left</td>\n      <td>Center</td>\n      <td>#0E538F</td>\n      <td>15624.275165</td>\n    </tr>\n    <tr>\n      <th>34</th>\n      <td>Left</td>\n      <td>Left leaning</td>\n      <td>#0E538F</td>\n      <td>202962.312120</td>\n    </tr>\n    <tr>\n      <th>35</th>\n      <td>Left</td>\n      <td>Left</td>\n      <td>#0E538F</td>\n      <td>28638.665802</td>\n    </tr>\n  </tbody>\n</table>\n</div>"
     },
     "metadata": {}
    },
    {
     "output_type": "display_data",
     "data": {
      "text/plain": "SankeyWidget(layout=Layout(height='800', width='800'), links=[{'source': 'Fake &\\n extreme bias ', 'target': '…",
      "application/vnd.jupyter.widget-view+json": {
       "version_major": 2,
       "version_minor": 0,
       "model_id": "0b215c88f5234590b9d7150134288892"
      }
     },
     "metadata": {}
    }
   ],
   "source": [
    "from floweaver import *\n",
    "from ipysankeywidget import SankeyWidget\n",
    "from ipywidgets import Layout\n",
    "\n",
    "df_flow = pd.read_csv(\"data/df_flow-2016-6c.csv\")\n",
    "# df_flow = pd.read_csv(\"data/df_flow-2016-4c.csv\")\n",
    "display(df_flow)\n",
    "\n",
    "# Set the default size to fit the documentation better.\n",
    "layout = Layout(width=\"800\", height=\"800\")\n",
    "\n",
    "order = [\n",
    "    [\"Fake &\\n extreme bias \", \"Right \", \"Right leaning \", \"Center \", \"Left leaning \", \"Left \"],\n",
    "    [\"Fake &\\n extreme bias\", \"Right\", \"Right leaning\", \"Center\", \"Left leaning\", \"Left\"],\n",
    "]\n",
    "\n",
    "# sw = SankeyWidget(links=df_flow.to_dict('records'), margins=dict(top=0, bottom=0, left=120, right=120), layout=layout)\n",
    "\n",
    "sw = SankeyWidget(\n",
    "    links=df_flow.to_dict('records'),\n",
    "    margins=dict(top=0, bottom=0, left=180, right=180), \n",
    "    layout=layout, \n",
    "    order=order)\n",
    "sw.auto_save_svg(\"flow2016-6c.svg\")\n",
    "sw"
   ]
  },
  {
   "cell_type": "code",
   "execution_count": 45,
   "metadata": {},
   "outputs": [
    {
     "output_type": "stream",
     "name": "stdout",
     "text": [
      "24697.72281348493 -5560.842731152021 -122782.05880361533 -9465.88159990398\n"
     ]
    }
   ],
   "source": [
    "df_sum = df_prop1.sum(axis=0)\n",
    "print(\n",
    "df_sum[\"Fake & extreme bias\"] - users_counter_cat_2016[\"Fake & extreme bias\"],\n",
    "df_sum[\"Right\"] - users_counter_cat_2016[\"Right\"],\n",
    "df_sum[\"Center\"] - users_counter_cat_2016[\"Center\"],\n",
    "df_sum[\"Left\"] - users_counter_cat_2016[\"Left\"],\n",
    ")"
   ]
  },
  {
   "cell_type": "code",
   "execution_count": 134,
   "metadata": {},
   "outputs": [
    {
     "data": {
      "application/vnd.jupyter.widget-view+json": {
       "model_id": "67b4467840c94225be7ba3ad07e542d7",
       "version_major": 2,
       "version_minor": 0
      },
      "text/plain": [
       "SankeyWidget(layout=Layout(height='800', width='800'), links=[{'source': 'Fake & extreme bias(2016)', 'target'…"
      ]
     },
     "metadata": {},
     "output_type": "display_data"
    }
   ],
   "source": [
    "from floweaver import *\n",
    "from ipysankeywidget import SankeyWidget\n",
    "from ipywidgets import Layout\n",
    "\n",
    "# Set the default size to fit the documentation better.\n",
    "layout = Layout(width=\"800\", height=\"800\")\n",
    "\n",
    "order = [\n",
    "    [\"Fake & extreme bias(2016)\", \"Right(2016)\", \"Leaning right(2016)\", \"Center(2016)\", \"Leaning left(2016)\", \"Left(2016)\"],\n",
    "    [\"Fake & extreme bias(2020)\", \"Right(2020)\", \"Leaning right(2020)\", \"Center(2020)\", \"Leaning left(2020)\", \"Left(2020)\"],\n",
    "]\n",
    "\n",
    "# sw = SankeyWidget(links=df_flow.to_dict('records'), margins=dict(top=0, bottom=0, left=120, right=120), layout=layout)\n",
    "\n",
    "sw = SankeyWidget(links=df_flow.to_dict('records'), margins=dict(top=0, bottom=0, left=180, right=180), layout=layout, order=order)\n",
    "sw.save_png(\"flow2.png\")\n",
    "sw"
   ]
  },
  {
   "cell_type": "code",
   "execution_count": 91,
   "metadata": {},
   "outputs": [
    {
     "output_type": "stream",
     "name": "stdout",
     "text": [
      "772950\n",
      "319640\n",
      "12137\n",
      "192745\n"
     ]
    }
   ],
   "source": [
    "# u_group1 = set([u for u, v in users_2016_category.items() if v == \"Left\" or v == \"Left leaning\"])\n",
    "# print(len(u_group1))\n",
    "\n",
    "# u_group2 = set([u for u, v in users_2016_category.items() if v == \"Left\"])\n",
    "# print(len(u_group2))\n",
    "\n",
    "u_group3 = set([u for u, v in users_2016_category.items() if v == \"Left leaning\"])\n",
    "print(len(u_group3))\n",
    "\n",
    "u_group4 = set([u for u, v in users_2020_category.items() if v == \"Center\"])\n",
    "print(len(u_group4))\n",
    "\n",
    "# print(len(u_group1 & u_group4))\n",
    "# print(len(u_group2 & u_group4))\n",
    "print(len(u_group3 & u_group4))\n",
    "\n",
    "# print(len(u_group1 & users_2020_category.keys()))\n",
    "# print(len(u_group2 & users_2020_category.keys()))\n",
    "print(len(u_group3 & users_2020_category.keys()))"
   ]
  },
  {
   "cell_type": "code",
   "execution_count": 92,
   "metadata": {},
   "outputs": [
    {
     "output_type": "execute_result",
     "data": {
      "text/plain": [
       "0.06296920802096033"
      ]
     },
     "metadata": {},
     "execution_count": 92
    }
   ],
   "source": [
    "len(u_group3 & u_group4) / len(u_group3 & users_2020_category.keys())"
   ]
  }
 ],
 "metadata": {
  "kernelspec": {
   "name": "python385jvsc74a57bd05c4bc8f9fce0d5779c6f7824f27a280c353fdffc531bd63c7a3f69b7a24b42f9",
   "display_name": "Python 3.8.5 64-bit ('base': conda)"
  },
  "language_info": {
   "codemirror_mode": {
    "name": "ipython",
    "version": 3
   },
   "file_extension": ".py",
   "mimetype": "text/x-python",
   "name": "python",
   "nbconvert_exporter": "python",
   "pygments_lexer": "ipython3",
   "version": "3.8.5"
  }
 },
 "nbformat": 4,
 "nbformat_minor": 4
}