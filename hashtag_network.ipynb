{
 "cells": [
  {
   "cell_type": "code",
   "execution_count": 1,
   "metadata": {},
   "outputs": [],
   "source": [
    "# -*- coding: utf-8 -*-\n",
    "# Author: Kay Zhou\n",
    "# Date: 2019-02-24 15:44:05\n",
    "\n",
    "import os\n",
    "from pathlib import Path\n",
    "import ujson as json\n",
    "import networkx as nx\n",
    "from tqdm import tqdm_notebook as tqdm\n",
    "import pandas as pd\n",
    "from my_weapon import *"
   ]
  },
  {
   "cell_type": "code",
   "execution_count": 2,
   "metadata": {},
   "outputs": [],
   "source": [
    "import unicodedata\n",
    "\n",
    "def normalize(text):\n",
    "    return unicodedata.normalize('NFKD', text).encode('ASCII', 'ignore').decode()\n",
    "\n",
    "def normalize_lower(text):\n",
    "    return unicodedata.normalize('NFKD', text).encode('ASCII', 'ignore').decode().lower()"
   ]
  },
  {
   "cell_type": "raw",
   "metadata": {},
   "source": [
    "################\n",
    "### Start Query ###\n",
    "################\n",
    "\n",
    "Cristina OR Kirchner OR Macri OR elecciones OR CFK OR CFKArgentina\n",
    "mauriciomacri OR PASO OR macrismo OR kirchnerismo OR peronismo\n",
    "Union AND Civica AND Radical\n",
    "Propuesta AND Republicana\n",
    "UCR\n",
    "- PRO\n",
    "Cambiemos\n",
    "Vidal\n",
    "Macri\n",
    "Alfonsin\n",
    "Lousteau\n",
    "Partido AND Justicialista\n",
    "PJ\n",
    "Justicialista\n",
    "Peron\n",
    "Peronista\n",
    "Kirchner\n",
    "Cristina\n",
    "Scioli\n",
    "Capitanich\n",
    "- Moreno\n",
    "- Sola\n",
    "Donda\n",
    "Rossi\n",
    "Alternativa AND Federal\n",
    "Massa\n",
    "Urtubey\n",
    "Pichetto\n",
    "Lavagna\n",
    "Frente AND Izquierda\n",
    "Movimiento AND Socialismo\n",
    "Bregman\n",
    "- MAS\n",
    "\n",
    "################\n",
    "### End Query ###\n",
    "################"
   ]
  },
  {
   "cell_type": "code",
   "execution_count": 6,
   "metadata": {},
   "outputs": [
    {
     "name": "stdout",
     "output_type": "stream",
     "text": [
      "81 29 9 119\n"
     ]
    }
   ],
   "source": [
    "def get_hts():\n",
    "    K_ht = set()\n",
    "    M_ht = set()\n",
    "    A_ht = set()\n",
    "    focus_ht = set()\n",
    "\n",
    "    for line in open(\"data/hashtags/2019-05-24.txt\"):\n",
    "        w = line.strip().split()\n",
    "        ht = w[1]\n",
    "        focus_ht.add(ht)\n",
    "        if w[0] == \"K\":\n",
    "            K_ht.add(ht)\n",
    "        elif w[0] == \"M\":\n",
    "            M_ht.add(ht)\n",
    "        elif w[0] == \"A\":\n",
    "            A_ht.add(ht)\n",
    "    focus_ht = K_ht | M_ht | A_ht\n",
    "    print(len(K_ht), len(M_ht), len(A_ht), len(focus_ht))\n",
    "    return K_ht, M_ht, A_ht, focus_ht\n",
    "\n",
    "K_ht, M_ht, A_ht, focus_ht = get_hts()"
   ]
  },
  {
   "cell_type": "code",
   "execution_count": 7,
   "metadata": {},
   "outputs": [
    {
     "data": {
      "application/vnd.jupyter.widget-view+json": {
       "model_id": "e6190ed64d3e4092bfe3fea03ffcb4bc",
       "version_major": 2,
       "version_minor": 0
      },
      "text/plain": [
       "HBox(children=(IntProgress(value=1, bar_style='info', max=1), HTML(value='')))"
      ]
     },
     "metadata": {},
     "output_type": "display_data"
    },
    {
     "name": "stdout",
     "output_type": "stream",
     "text": [
      "\n"
     ]
    },
    {
     "data": {
      "text/plain": [
       "<networkx.classes.graph.Graph at 0x7feb84d23cc0>"
      ]
     },
     "execution_count": 7,
     "metadata": {},
     "output_type": "execute_result"
    }
   ],
   "source": [
    "#**** !!!\n",
    "\n",
    "from SQLite_handler import get_all_tweets_with_hashtags, get_session\n",
    "from collections import Counter\n",
    "\n",
    "Ntweets = 0\n",
    "only_focus_count = Counter()\n",
    "hts_count = Counter()\n",
    "\n",
    "sess = get_session()\n",
    "tweets = get_all_tweets_with_hashtags(sess)\n",
    "for t in tqdm(tweets):\n",
    "    _hts = [_ht for _ht in t[1].split(\",\") if _ht in focus_ht]\n",
    "    if len(_hts) == 0:\n",
    "        continue\n",
    "        \n",
    "#     Ntweets += 1\n",
    "#     if len(_hts) == 1:\n",
    "#         hts_count[_hts[0]] += 1\n",
    "    elif len(_hts) >= 2:\n",
    "        Ntweets += 1\n",
    "        for i in range(len(_hts)):\n",
    "            hts_count[_hts[i]] += 1\n",
    "            for j in range(i+1, len(_hts)):\n",
    "                n1, n2 = _hts[i], _hts[j]\n",
    "                if n1 > n2:\n",
    "                    n1, n2 = n2, n1\n",
    "                only_focus_count[(n1, n2)] += 1\n",
    "                \n",
    "G = nx.Graph()\n",
    "\n",
    "\n",
    "for e in only_focus_count:\n",
    "    w = only_focus_count[e]\n",
    "    G.add_edge(*e, weight=w)\n",
    "\n",
    "    \n",
    "for n in G.node():\n",
    "    G.node[n][\"num\"] = hts_count[n]\n",
    "G.graph[\"Ntweets\"] = Ntweets\n",
    "\n",
    "G.number_of_nodes(), G.number_of_edges()\n",
    "nx.write_gpickle(G, \"data/hts_20190524.gpickle\")"
   ]
  },
  {
   "cell_type": "code",
   "execution_count": 9,
   "metadata": {
    "scrolled": false
   },
   "outputs": [
    {
     "name": "stdout",
     "output_type": "stream",
     "text": [
      "('nestorcumple', 1136)\n",
      "('fuerzacristina', 914)\n",
      "('chaumacri', 782)\n",
      "('ellalegana', 717)\n",
      "('hayotrocamino', 625)\n",
      "('sinceramente', 616)\n",
      "('nestorvive', 531)\n",
      "('abismopro', 487)\n",
      "('cfk', 467)\n",
      "('cfkenlaferia', 450)\n",
      "('cambiemos', 374)\n",
      "('massa2019', 331)\n",
      "('pongamosunafotodecfk', 302)\n",
      "('macri', 289)\n",
      "('cristina', 242)\n",
      "('ellavuelve', 241)\n",
      "('cristinateesperamos', 207)\n",
      "('navarro2019', 178)\n",
      "('habraconsecuencias', 174)\n",
      "('concfkviviasmejor', 124)\n",
      "('stornelliaindagatoria', 121)\n",
      "('juiciopoliticoamacri', 121)\n",
      "('macri2019', 114)\n",
      "('21mporlaverdad', 113)\n",
      "('todomal', 110)\n",
      "('macriescaos', 96)\n",
      "('ruidazo', 80)\n",
      "('1mruidazonacional', 77)\n",
      "('vidalespeorquemacri', 74)\n",
      "('lamafiademacri', 70)\n",
      "('andatemacri', 66)\n",
      "('nestorpudo', 51)\n",
      "('evita100anos', 50)\n",
      "('cronicaanunciada', 47)\n",
      "('chaucambiemos', 47)\n",
      "('macrichau', 37)\n",
      "('dalessiogate', 29)\n",
      "('macrisis', 28)\n",
      "('cristinasomostodos', 28)\n",
      "('mananasylvestre10anos', 25)\n",
      "('elplandecristina', 21)\n",
      "('hambrepro', 21)\n",
      "('sevamacri', 20)\n",
      "('confirmenaramospadilla', 17)\n",
      "('massa', 16)\n",
      "('colapsopro', 16)\n",
      "('haganalgo', 15)\n",
      "('conramospadillano', 15)\n",
      "('vidallapeor', 15)\n",
      "('debodecir', 14)\n",
      "('nuncamasmacri', 14)\n",
      "('cambiemosacambiemos', 14)\n",
      "('macrimiente', 11)\n",
      "('lavagna', 11)\n",
      "('hayalternativa', 10)\n",
      "('derrumbepro', 10)\n",
      "('bonadiotrucho', 9)\n",
      "('fuerzaflorencia', 8)\n",
      "('chautn', 8)\n",
      "('cristinaenelpj', 8)\n",
      "('mm2019', 7)\n",
      "('macriconmajul', 7)\n",
      "('macrigato', 6)\n",
      "('macrinuncamas', 6)\n",
      "('argentinaexplota', 6)\n",
      "('vidalespeor', 6)\n",
      "('fernandezfernandez', 6)\n",
      "('peronismo', 5)\n",
      "('majulmercenario', 5)\n",
      "('cambiemosnosfundio', 5)\n",
      "('elversodelascloacas', 5)\n",
      "('vidal', 4)\n",
      "('novuelvenmas', 4)\n",
      "('macriteodia', 4)\n",
      "('gutierrezesmacri', 3)\n",
      "('ramospadillasomostodos', 3)\n",
      "('macritevuelvoaelegir', 3)\n",
      "('sefugarontodo', 2)\n",
      "('caecarrio', 2)\n",
      "('cfkenlarural', 2)\n",
      "('kirchnerismo', 1)\n",
      "('chautelefenoticias', 1)\n",
      "('chautelefe', 1)\n",
      "('proeshambre', 1)\n",
      "('riesgomacri', 1)\n",
      "('duhalde', 1)\n",
      "('paronacional', 1)\n",
      "('podemoshablar', 1)\n"
     ]
    }
   ],
   "source": [
    "tag = \"cristina2019\"\n",
    "rst = sorted({n: G[tag][n][\"weight\"] for n in G[tag]}.items(),\n",
    "             key=lambda k: k[1], reverse=True)\n",
    "for i, r in enumerate(rst):\n",
    "    print(r)"
   ]
  },
  {
   "cell_type": "code",
   "execution_count": 12,
   "metadata": {},
   "outputs": [],
   "source": [
    "G = nx.Graph()\n",
    "\n",
    "for e in focus_count:\n",
    "    w = focus_count[e]\n",
    "    G.add_edge(*e, weight=w)"
   ]
  },
  {
   "cell_type": "code",
   "execution_count": 14,
   "metadata": {},
   "outputs": [],
   "source": [
    "nx.write_pajek(G, \"data/focus_20190305.pajek\")"
   ]
  },
  {
   "cell_type": "code",
   "execution_count": 15,
   "metadata": {},
   "outputs": [],
   "source": [
    "G = nx.Graph()\n",
    "\n",
    "for e in entire_count:\n",
    "    w = entire_count[e]\n",
    "    G.add_edge(*e, weight=w)\n",
    "    \n",
    "for n in G.nodes():\n",
    "    G.node[n][\"num\"] = hashtag_count[n]\n",
    "    \n",
    "G.graph[\"Ntweets\"] = Ntweets"
   ]
  },
  {
   "cell_type": "code",
   "execution_count": 37,
   "metadata": {},
   "outputs": [
    {
     "data": {
      "text/plain": [
       "(134, 331)"
      ]
     },
     "execution_count": 37,
     "metadata": {},
     "output_type": "execute_result"
    }
   ],
   "source": [
    "G.number_of_nodes(), G.number_of_edges()"
   ]
  },
  {
   "cell_type": "code",
   "execution_count": 50,
   "metadata": {},
   "outputs": [
    {
     "data": {
      "text/plain": [
       "(154, 3722)"
      ]
     },
     "execution_count": 50,
     "metadata": {},
     "output_type": "execute_result"
    }
   ],
   "source": [
    "G = nx.read_gpickle(\"data/hts_20190808_sig.gpickle\")\n",
    "G.number_of_nodes(), G.number_of_edges()"
   ]
  },
  {
   "cell_type": "code",
   "execution_count": 24,
   "metadata": {},
   "outputs": [],
   "source": [
    "G = nx.read_gpickle(\"data/entire_20190327_before.gpickle\")\n",
    "G.number_of_nodes(), G.number_of_edges()"
   ]
  },
  {
   "cell_type": "code",
   "execution_count": 51,
   "metadata": {},
   "outputs": [],
   "source": [
    "should_be_removed = []\n",
    "\n",
    "for e in G.edges(data=True):\n",
    "    # print(e[2][\"sign\"])\n",
    "    if e[2][\"sign\"] < 0:\n",
    "        should_be_removed.append((e[0], e[1]))\n",
    "        \n",
    "for e in should_be_removed:\n",
    "    G.remove_edge(e[0], e[1])"
   ]
  },
  {
   "cell_type": "code",
   "execution_count": 52,
   "metadata": {},
   "outputs": [],
   "source": [
    "largest_components = max(nx.connected_components(G), key=len)"
   ]
  },
  {
   "cell_type": "code",
   "execution_count": 53,
   "metadata": {},
   "outputs": [],
   "source": [
    "G = G.subgraph(largest_components)"
   ]
  },
  {
   "cell_type": "code",
   "execution_count": 54,
   "metadata": {},
   "outputs": [
    {
     "data": {
      "text/plain": [
       "(134, 331)"
      ]
     },
     "execution_count": 54,
     "metadata": {},
     "output_type": "execute_result"
    }
   ],
   "source": [
    "G.number_of_nodes(), G.number_of_edges()"
   ]
  },
  {
   "cell_type": "code",
   "execution_count": 23,
   "metadata": {},
   "outputs": [
    {
     "data": {
      "text/plain": [
       "1508736"
      ]
     },
     "execution_count": 23,
     "metadata": {},
     "output_type": "execute_result"
    }
   ],
   "source": [
    "def cal_G(G)\n",
    "    N = 0\n",
    "\n",
    "    for n in G.node():\n",
    "        G.node[n][\"num\"] = 0\n",
    "\n",
    "    for e in G.edges(data=True):\n",
    "        n1 = e[0]\n",
    "        n2 = e[1]\n",
    "        w = e[2][\"weight\"]\n",
    "        G.node[n1][\"num\"] += w\n",
    "        G.node[n2][\"num\"] += w\n",
    "        N += w\n",
    "\n",
    "    G.graph[\"Ntweets\"] = N\n",
    "    \n",
    "cal_G(G)"
   ]
  },
  {
   "cell_type": "code",
   "execution_count": 24,
   "metadata": {},
   "outputs": [],
   "source": [
    "ht_camp = {line.strip().split()[1]: line.strip().split()[0] for line in open(\"data/hashtags/2019-08-09.txt\")}"
   ]
  },
  {
   "cell_type": "code",
   "execution_count": 34,
   "metadata": {},
   "outputs": [],
   "source": [
    "for (n1, n2, d) in G.edges(data=True):\n",
    "    d.clear()"
   ]
  },
  {
   "cell_type": "code",
   "execution_count": 35,
   "metadata": {},
   "outputs": [],
   "source": [
    "for n in G.node:\n",
    "    G.node[n][\"camp\"] = ht_camp[n]\n",
    "#     print(n, G.node[n])"
   ]
  },
  {
   "cell_type": "code",
   "execution_count": 36,
   "metadata": {},
   "outputs": [],
   "source": [
    "nx.write_gexf(G, \"data/hts-0808.gexf\")"
   ]
  },
  {
   "cell_type": "code",
   "execution_count": 25,
   "metadata": {},
   "outputs": [],
   "source": [
    "nx.write_gpickle(G, \"data/entire_20190307.gpickle\")"
   ]
  },
  {
   "cell_type": "markdown",
   "metadata": {},
   "source": [
    "## Extracting the text of training dataset with hashtags"
   ]
  },
  {
   "cell_type": "code",
   "execution_count": null,
   "metadata": {},
   "outputs": [],
   "source": [
    "with open(\"disk/data/20190327-predicted-text.txt\", \"w\") as f:\n",
    "    tweets_id = set()\n",
    "    for in_name in tqdm(os.listdir(\"disk\")):\n",
    "        if in_name.endswith(\".txt\"):\n",
    "            if in_name.endswith(\"PRO.txt\") or in_name.endswith(\"Moreno.txt\") or in_name.endswith(\"Sola.txt\"):\n",
    "                continue\n",
    "            in_name = os.path.join(\"disk\", in_name)\n",
    "            print(in_name)\n",
    "            for line in open(in_name):\n",
    "                d = json.loads(line.strip())\n",
    "                if d[\"id\"] in tweets_id:\n",
    "                    continue\n",
    "                tweets_id.add(d[\"id\"])\n",
    "                text = normalize(d[\"text\"].replace(\"\\n\", \" \"))\n",
    "                f.write(\"{}\\t{}\\n\".format(d[\"user\"][\"id\"], text))"
   ]
  },
  {
   "cell_type": "code",
   "execution_count": 96,
   "metadata": {},
   "outputs": [
    {
     "data": {
      "application/vnd.jupyter.widget-view+json": {
       "model_id": "e9dcd660d4ad49a9a359556070e04704",
       "version_major": 2,
       "version_minor": 0
      },
      "text/plain": [
       "HBox(children=(IntProgress(value=0, max=63), HTML(value='')))"
      ]
     },
     "metadata": {},
     "output_type": "display_data"
    },
    {
     "name": "stdout",
     "output_type": "stream",
     "text": [
      "disk/201902-Alternativa AND Federal.txt\n",
      "disk/201902-Peronista.txt\n",
      "disk/201903-Partido AND Justicialista.txt\n",
      "disk/201902-PJ.txt\n",
      "disk/201902-Scioli.txt\n",
      "disk/201903-PJ.txt\n",
      "disk/201903-Urtubey.txt\n",
      "disk/201903-Massa.txt\n",
      "disk/201902-Partido AND Justicialista.txt\n",
      "disk/201903-UCR.txt\n",
      "disk/201902-Cristina.txt\n",
      "disk/201902-Alfonsin.txt\n",
      "disk/201902-Propuesta AND Republicana.txt\n",
      "disk/201902-mauriciomacri OR PASO OR macrismo OR kirchnerismo OR peronismo.txt\n",
      "disk/201903-mauriciomacri OR PASO OR macrismo OR kirchnerismo OR peronismo.txt\n",
      "disk/201903-Alternativa AND Federal.txt\n",
      "disk/201902-Bregman.txt\n",
      "disk/201902-Pichetto.txt\n",
      "disk/201903-Alfonsin.txt\n",
      "disk/201902-UCR.txt\n",
      "disk/201902-Cambiemos.txt\n",
      "disk/201903-Donda.txt\n",
      "disk/201903-Cristina.txt\n",
      "disk/201902-Frente AND Izquierda.txt\n",
      "disk/201902-Lousteau.txt\n",
      "disk/201902-Lavagna.txt\n",
      "disk/201902-Macri.txt\n",
      "disk/201902-Capitanich.txt\n",
      "disk/201902-Cristina OR Kirchner OR Macri OR elecciones OR CFK OR CFKArgentina.txt\n",
      "disk/201902-Urtubey.txt\n",
      "disk/201903-Pichetto.txt\n",
      "disk/201902-Kirchner.txt\n",
      "disk/201903-Bregman.txt\n",
      "disk/201903-Lavagna.txt\n",
      "disk/201903-Cambiemos.txt\n",
      "disk/201903-Kirchner.txt\n",
      "disk/201903-Capitanich.txt\n",
      "disk/201903-Peronista.txt\n",
      "disk/201903-Cristina OR Kirchner OR Macri OR elecciones OR CFK OR CFKArgentina.txt\n",
      "disk/201903-Lousteau.txt\n",
      "disk/201902-Justicialista.txt\n",
      "disk/201902-Donda.txt\n",
      "disk/201903-Vidal.txt\n",
      "disk/201903-Peron.txt\n",
      "disk/201903-Movimiento AND Socialismo.txt\n",
      "disk/201902-Movimiento AND Socialismo.txt\n",
      "disk/201902-Peron.txt\n",
      "disk/201903-Macri.txt\n",
      "disk/201902-Vidal.txt\n",
      "disk/201903-Scioli.txt\n",
      "disk/201902-Massa.txt\n",
      "disk/201903-Justicialista.txt\n",
      "disk/201903-Rossi.txt\n",
      "disk/201902-Rossi.txt\n",
      "disk/201903-Frente AND Izquierda.txt\n",
      "disk/201903-Propuesta AND Republicana.txt\n"
     ]
    }
   ],
   "source": [
    "with open(\"disk/data/20190327-predicted-text.txt\", \"w\") as f:\n",
    "    tweets_id = set()\n",
    "    for in_name in tqdm(os.listdir(\"disk\")):\n",
    "        if in_name.endswith(\".txt\"):\n",
    "            if in_name.endswith(\"PRO.txt\") or in_name.endswith(\"Moreno.txt\") or in_name.endswith(\"Sola.txt\"):\n",
    "                continue\n",
    "            in_name = os.path.join(\"disk\", in_name)\n",
    "            print(in_name)\n",
    "            for line in open(in_name):\n",
    "                d = json.loads(line.strip())\n",
    "                if d[\"id\"] in tweets_id:\n",
    "                    continue\n",
    "                tweets_id.add(d[\"id\"])\n",
    "                text = normalize(d[\"text\"].replace(\"\\n\", \" \"))\n",
    "                f.write(\"{}\\t{}\\n\".format(d[\"user\"][\"id\"], text))"
   ]
  },
  {
   "cell_type": "code",
   "execution_count": 46,
   "metadata": {},
   "outputs": [],
   "source": [
    "cnt = pd.read_csv(\"disk/data/cnt_supporters.csv\").set_index(\"Unnamed: 0\")"
   ]
  },
  {
   "cell_type": "code",
   "execution_count": 47,
   "metadata": {},
   "outputs": [],
   "source": [
    "cnt = cnt.rename({\"SVMLINER\": \"LINEAR SVM\"})\n",
    "cnt = cnt.rename(columns={\"0\": \"Cristina\", \"1\": \"Macri\", \"2\": \"Unclassified\"})\n",
    "cnt = cnt.transpose()"
   ]
  },
  {
   "cell_type": "code",
   "execution_count": 48,
   "metadata": {},
   "outputs": [
    {
     "name": "stdout",
     "output_type": "stream",
     "text": [
      "LR\n",
      "LINEAR SVM\n",
      "NB\n",
      "RF\n",
      "DT\n"
     ]
    },
    {
     "data": {
      "text/html": [
       "<div>\n",
       "<style scoped>\n",
       "    .dataframe tbody tr th:only-of-type {\n",
       "        vertical-align: middle;\n",
       "    }\n",
       "\n",
       "    .dataframe tbody tr th {\n",
       "        vertical-align: top;\n",
       "    }\n",
       "\n",
       "    .dataframe thead th {\n",
       "        text-align: right;\n",
       "    }\n",
       "</style>\n",
       "<table border=\"1\" class=\"dataframe\">\n",
       "  <thead>\n",
       "    <tr style=\"text-align: right;\">\n",
       "      <th>Unnamed: 0</th>\n",
       "      <th>LR</th>\n",
       "      <th>LR %</th>\n",
       "      <th>LINEAR SVM</th>\n",
       "      <th>LINEAR SVM %</th>\n",
       "      <th>NB</th>\n",
       "      <th>NB %</th>\n",
       "      <th>RF</th>\n",
       "      <th>RF %</th>\n",
       "      <th>DT</th>\n",
       "      <th>DT %</th>\n",
       "    </tr>\n",
       "  </thead>\n",
       "  <tbody>\n",
       "    <tr>\n",
       "      <th>Cristina</th>\n",
       "      <td>1960405</td>\n",
       "      <td>0.622961</td>\n",
       "      <td>1987872</td>\n",
       "      <td>0.631690</td>\n",
       "      <td>1655432</td>\n",
       "      <td>0.526049</td>\n",
       "      <td>2608552</td>\n",
       "      <td>0.828924</td>\n",
       "      <td>2147739</td>\n",
       "      <td>0.682491</td>\n",
       "    </tr>\n",
       "    <tr>\n",
       "      <th>Macri</th>\n",
       "      <td>890638</td>\n",
       "      <td>0.283020</td>\n",
       "      <td>852843</td>\n",
       "      <td>0.271009</td>\n",
       "      <td>1152559</td>\n",
       "      <td>0.366251</td>\n",
       "      <td>357211</td>\n",
       "      <td>0.113512</td>\n",
       "      <td>702716</td>\n",
       "      <td>0.223303</td>\n",
       "    </tr>\n",
       "    <tr>\n",
       "      <th>Unclassified</th>\n",
       "      <td>295870</td>\n",
       "      <td>0.094019</td>\n",
       "      <td>306198</td>\n",
       "      <td>0.097301</td>\n",
       "      <td>338922</td>\n",
       "      <td>0.107700</td>\n",
       "      <td>181150</td>\n",
       "      <td>0.057564</td>\n",
       "      <td>296458</td>\n",
       "      <td>0.094206</td>\n",
       "    </tr>\n",
       "  </tbody>\n",
       "</table>\n",
       "</div>"
      ],
      "text/plain": [
       "Unnamed: 0         LR      LR %  LINEAR SVM  LINEAR SVM %       NB      NB %  \\\n",
       "Cristina      1960405  0.622961     1987872      0.631690  1655432  0.526049   \n",
       "Macri          890638  0.283020      852843      0.271009  1152559  0.366251   \n",
       "Unclassified   295870  0.094019      306198      0.097301   338922  0.107700   \n",
       "\n",
       "Unnamed: 0         RF      RF %       DT      DT %  \n",
       "Cristina      2608552  0.828924  2147739  0.682491  \n",
       "Macri          357211  0.113512   702716  0.223303  \n",
       "Unclassified   181150  0.057564   296458  0.094206  "
      ]
     },
     "execution_count": 48,
     "metadata": {},
     "output_type": "execute_result"
    }
   ],
   "source": [
    "for c in cnt.columns:\n",
    "    print(c)\n",
    "    cnt[c + \" %\"] = cnt[c] / sum(cnt[c])\n",
    "\n",
    "cnt = cnt[[\"LR\", \"LR %\", \"LINEAR SVM\", \"LINEAR SVM %\", \"NB\", \"NB %\", \"RF\", \"RF %\", \"DT\", \"DT %\"]]\n",
    "cnt.to_excel(\"cnt.xlsx\")\n",
    "cnt"
   ]
  },
  {
   "cell_type": "code",
   "execution_count": null,
   "metadata": {},
   "outputs": [],
   "source": [
    "import matplotlib.pyplot as plt\n",
    "import seaborn as sns\n",
    "sns.set(style=\"darkgrid\", font_scale=1.5)\n",
    "\n",
    "\n",
    "plt.figure(figsize=(13, 6))\n",
    "cnt[\"0\"].plot.bar(width=0.1, position=1, color=sns.color_palette(\"muted\")[0], label=\"Supporting Cristina\")\n",
    "cnt[\"1\"].plot.bar(width=0.1, position=0, color=sns.color_palette(\"muted\")[1], label=\"Supporting Macri\")\n",
    "cnt[\"2\"].plot.bar(width=0.1, position=-1, color=sns.color_palette(\"muted\")[2], label=\"Unclassified\")\n",
    "\n",
    "plt.xlabel(None)\n",
    "plt.ylabel(\"Number of Twitter users\")\n",
    "plt.xlim(-0.5, 6)\n",
    "plt.legend()\n",
    "\n",
    "plt.tight_layout()\n",
    "plt.savefig(\"fig/support.pdf\", dpi=300, bbox_inches='tight')\n",
    "#     plt.show()\n",
    "#     plt.close()\n",
    "plt.show()\n",
    "plt.close()"
   ]
  },
  {
   "cell_type": "code",
   "execution_count": 136,
   "metadata": {},
   "outputs": [],
   "source": [
    "# for i, row in cnt.iterrows():\n",
    "#     cnt[\"0\"][i])\n",
    "\n",
    "cnt.iloc[0] = cnt.iloc[0] / sum(cnt.iloc[0]) * 100\n",
    "cnt.iloc[1] = cnt.iloc[1] / sum(cnt.iloc[1]) * 100\n",
    "cnt.iloc[2] = cnt.iloc[2] / sum(cnt.iloc[2]) * 100\n",
    "cnt.iloc[3] = cnt.iloc[3] / sum(cnt.iloc[3]) * 100\n",
    "cnt.iloc[4] = cnt.iloc[4] / sum(cnt.iloc[4]) * 100\n",
    "\n",
    "# = df['Prices'] / df['Prices'].sum()"
   ]
  },
  {
   "cell_type": "code",
   "execution_count": 137,
   "metadata": {},
   "outputs": [
    {
     "data": {
      "image/png": "[encoded data removed]",
      "text/plain": [
       "<Figure size 936x432 with 1 Axes>"
      ]
     },
     "metadata": {},
     "output_type": "display_data"
    }
   ],
   "source": [
    "plt.figure(figsize=(13, 6))\n",
    "cnt[\"0\"].plot.bar(width=0.1, position=1, color=sns.color_palette(\"muted\")[0], label=\"Supporting Cristina\")\n",
    "cnt[\"1\"].plot.bar(width=0.1, position=0, color=sns.color_palette(\"muted\")[1], label=\"Supporting Macri\")\n",
    "cnt[\"2\"].plot.bar(width=0.1, position=-1, color=sns.color_palette(\"muted\")[2], label=\"Unclassified\")\n",
    "\n",
    "plt.xlabel(None)\n",
    "plt.ylabel(\"Number of Twitter users\")\n",
    "plt.xlim(-0.5, 6)\n",
    "plt.legend()\n",
    "\n",
    "plt.tight_layout()\n",
    "plt.savefig(\"fig/support_percentage.pdf\", dpi=300, bbox_inches='tight')\n",
    "#     plt.show()\n",
    "#     plt.close()\n",
    "plt.show()\n",
    "plt.close()"
   ]
  },
  {
   "cell_type": "code",
   "execution_count": 127,
   "metadata": {},
   "outputs": [
    {
     "data": {
      "image/png": "[encoded data removed]",
      "text/plain": [
       "<Figure size 936x432 with 1 Axes>"
      ]
     },
     "metadata": {},
     "output_type": "display_data"
    }
   ],
   "source": [
    "plt.figure(figsize=(13, 6))\n",
    "cnt[\"0\"].plot.bar(width=0.1, position=1, color=sns.color_palette(\"muted\")[0], label=\"Supporting Cristina\")\n",
    "cnt[\"1\"].plot.bar(width=0.1, position=0, color=sns.color_palette(\"muted\")[1], label=\"Supporting Macri\")\n",
    "cnt[\"2\"].plot.bar(width=0.1, position=-1, color=sns.color_palette(\"muted\")[2], label=\"Unclassified\")\n",
    "\n",
    "plt.xlabel(None)\n",
    "plt.ylabel(\"% of Twitter users\")\n",
    "plt.xlim(-0.5, 6)\n",
    "plt.legend()\n",
    "\n",
    "plt.tight_layout()\n",
    "plt.savefig(\"fig/support_rate_persent.pdf\", dpi=300, bbox_inches='tight')\n",
    "#     plt.show()\n",
    "#     plt.close()\n",
    "plt.show()\n",
    "plt.close()"
   ]
  },
  {
   "cell_type": "markdown",
   "metadata": {},
   "source": [
    "## Label propagation"
   ]
  },
  {
   "cell_type": "code",
   "execution_count": 14,
   "metadata": {},
   "outputs": [
    {
     "name": "stdout",
     "output_type": "stream",
     "text": [
      "We have removed 2152 links with p-value > 10^-7!!\n",
      "Now 118 nodes and 206 edges\n"
     ]
    }
   ],
   "source": [
    "G = nx.read_gpickle(\"data/hts_20190611_sig.gpickle\")\n",
    "\n",
    "t1 = []\n",
    "should_remove = []\n",
    "p_value = []\n",
    "\n",
    "threshold = 7\n",
    "\n",
    "for e in G.edges(data=True):\n",
    "    n1 = int(G.node[e[0]][\"num\"])\n",
    "    n2 = int(G.node[e[1]][\"num\"])\n",
    "    w  = int(e[2][\"weight\"])\n",
    "    _t1 = max([w / n1, w / n2])\n",
    "    \n",
    "    # G.edges[e[0], e[1]][\"weight\"] = float(_t1)\n",
    "#     G.edges[e[0], e[1]][\"weight\"] = float(G.edges[e[0], e[1]][\"sign\"])\n",
    "    sig = int(G.edges[e[0], e[1]][\"sign\"])\n",
    "    \n",
    "    if sig < 0:\n",
    "        sig = 0\n",
    "#     elif sig > 1000:\n",
    "#         sig = 1000\n",
    "    G.edges[e[0], e[1]][\"sign\"] = sig\n",
    "    G.edges[e[0], e[1]][\"weight\"] = 1\n",
    "    \n",
    "    if sig > 0:\n",
    "        # print(sig)\n",
    "        p_value.append(sig)\n",
    "    \n",
    "    if sig < threshold:\n",
    "        should_remove.append([e[0], e[1]])\n",
    "    \n",
    "    \n",
    "#     if _t1 > 0.05:\n",
    "#         G.edges[e[0], e[1]][\"p\"] = t1\n",
    "#     else:\n",
    "#         t1.append(_t1)\n",
    "#         should_remove.append([e[0], e[1]])\n",
    "\n",
    "print(f\"We have removed {len(should_remove)} links with p-value > 10^-{threshold}!!\")\n",
    "for e in should_remove:\n",
    "    G.remove_edge(e[0], e[1])\n",
    "    \n",
    "print(f\"Now {G.number_of_nodes()} nodes and {G.number_of_edges()} edges\")\n",
    "\n",
    "\n",
    "# print(len(t1))\n",
    "# pd.Series(t1).hist(bins=100)"
   ]
  },
  {
   "cell_type": "code",
   "execution_count": 15,
   "metadata": {},
   "outputs": [
    {
     "data": {
      "image/png": "[encoded data removed]",
      "text/plain": [
       "<Figure size 432x288 with 1 Axes>"
      ]
     },
     "metadata": {
      "needs_background": "light"
     },
     "output_type": "display_data"
    }
   ],
   "source": [
    "pd.Series(p_value).hist(bins=100)\n",
    "plt.xscale('log', basex=2)"
   ]
  },
  {
   "cell_type": "code",
   "execution_count": 16,
   "metadata": {},
   "outputs": [],
   "source": [
    "for n in G.nodes():\n",
    "    if n in K_ht:\n",
    "        G.node[n][\"camp\"] = \"K\"\n",
    "    if n in M_ht:\n",
    "        G.node[n][\"camp\"] = \"M\"\n",
    "    if n in A_ht:\n",
    "        G.node[n][\"camp\"] = \"A\""
   ]
  },
  {
   "cell_type": "code",
   "execution_count": 19,
   "metadata": {},
   "outputs": [
    {
     "data": {
      "text/plain": [
       "count     206.000000\n",
       "mean      380.592233\n",
       "std       676.850763\n",
       "min         7.000000\n",
       "25%        45.250000\n",
       "50%       120.500000\n",
       "75%       377.250000\n",
       "max      4146.000000\n",
       "dtype: float64"
      ]
     },
     "execution_count": 19,
     "metadata": {},
     "output_type": "execute_result"
    },
    {
     "data": {
      "image/png": "[encoded data removed]",
      "text/plain": [
       "<Figure size 432x288 with 1 Axes>"
      ]
     },
     "metadata": {
      "needs_background": "light"
     },
     "output_type": "display_data"
    }
   ],
   "source": [
    "d = pd.Series([e[2][\"sign\"] for e in G.edges(data=True)])\n",
    "d.hist(bins=10)\n",
    "d.describe()"
   ]
  },
  {
   "cell_type": "code",
   "execution_count": 20,
   "metadata": {},
   "outputs": [],
   "source": [
    "nx.write_gexf(G, \"data/marked-20190611.gexf\")"
   ]
  },
  {
   "cell_type": "code",
   "execution_count": 62,
   "metadata": {},
   "outputs": [
    {
     "data": {
      "text/plain": [
       "(118, 2256)"
      ]
     },
     "execution_count": 62,
     "metadata": {},
     "output_type": "execute_result"
    }
   ],
   "source": [
    "G = nx.read_gpickle(\"data/hts_20190524_sig.gpickle\")\n",
    "\n",
    "# 该网络已经通过了cal the edge significance\n",
    "G.number_of_nodes(), G.number_of_edges()"
   ]
  },
  {
   "cell_type": "code",
   "execution_count": 53,
   "metadata": {},
   "outputs": [
    {
     "data": {
      "text/plain": [
       "(81, 29, 9)"
      ]
     },
     "execution_count": 53,
     "metadata": {},
     "output_type": "execute_result"
    }
   ],
   "source": [
    "len(K_ht), len(M_ht), len(A_ht)"
   ]
  },
  {
   "cell_type": "code",
   "execution_count": 54,
   "metadata": {},
   "outputs": [],
   "source": [
    "import numpy as np\n",
    "\n",
    "def largest_component(G):\n",
    "    largest_components = max(nx.connected_components(G), key=len)\n",
    "    return G.subgraph(largest_components)\n",
    "\n",
    "def ask_for_significance(G):\n",
    "    for e in G.edges(data=True):\n",
    "        if G.edges[(e[0], e[1])][\"sign\"] > -1:\n",
    "            G.edges[(e[0], e[1])][\"sign\"] = np.log10(1e-24 / G.edges[(e[0], e[1])][\"sign\"])\n",
    "    return G\n",
    "\n",
    "def remove_nonsignificance(G):\n",
    "    should_be_removed = []\n",
    "    for e in G.edges(data=True):\n",
    "        if e[2][\"sign\"] < 0:\n",
    "            should_be_removed.append((e[0], e[1]))\n",
    "\n",
    "    G = nx.Graph(G)\n",
    "    for e in should_be_removed:\n",
    "        G.remove_edge(e[0], e[1])\n",
    "    return G"
   ]
  },
  {
   "cell_type": "code",
   "execution_count": 55,
   "metadata": {},
   "outputs": [
    {
     "data": {
      "text/plain": [
       "(118, 249)"
      ]
     },
     "execution_count": 55,
     "metadata": {},
     "output_type": "execute_result"
    }
   ],
   "source": [
    "G = ask_for_significance(G)\n",
    "G = remove_nonsignificance(G)\n",
    "# G = largest_component(G)\n",
    "G.number_of_nodes(), G.number_of_edges()"
   ]
  },
  {
   "cell_type": "code",
   "execution_count": 56,
   "metadata": {},
   "outputs": [
    {
     "data": {
      "image/png": "[encoded data removed]",
      "text/plain": [
       "<Figure size 432x288 with 1 Axes>"
      ]
     },
     "metadata": {
      "needs_background": "light"
     },
     "output_type": "display_data"
    }
   ],
   "source": [
    "signs = []\n",
    "\n",
    "import matplotlib.pyplot as plt\n",
    "for e in G.edges(data=True):\n",
    "#     print(e)\n",
    "    signs.append(e[2]['sign'])\n",
    "\n",
    "pd.Series(signs).hist()\n",
    "plt.show()"
   ]
  },
  {
   "cell_type": "code",
   "execution_count": 57,
   "metadata": {},
   "outputs": [
    {
     "data": {
      "application/vnd.jupyter.widget-view+json": {
       "model_id": "e685041047984239bd37799b678fe712",
       "version_major": 2,
       "version_minor": 0
      },
      "text/plain": [
       "HBox(children=(IntProgress(value=0, max=249), HTML(value='')))"
      ]
     },
     "metadata": {},
     "output_type": "display_data"
    },
    {
     "name": "stdout",
     "output_type": "stream",
     "text": [
      "\n",
      "mananacordobacambia\n",
      "peponilaconmacri\n",
      "lilitaconmajul\n",
      "ponelelavagnaalprograma\n"
     ]
    }
   ],
   "source": [
    "Nodes = {}\n",
    "\n",
    "for e in tqdm(G.edges(data=True)):\n",
    "    if e[0] not in Nodes:\n",
    "        Nodes[e[0]] = dict(M=0, K=0, A=0)\n",
    "    if e[1] not in Nodes:\n",
    "        Nodes[e[1]] = dict(M=0, K=0, A=0)\n",
    "    \n",
    "    if e[0] in focus_ht and e[1] in focus_ht:\n",
    "        continue\n",
    "    elif e[0] in K_ht:\n",
    "        Nodes[e[1]][\"K\"] += e[2]['sign']\n",
    "    elif e[1] in K_ht:\n",
    "        Nodes[e[0]][\"K\"] += e[2]['sign']\n",
    "        \n",
    "    elif e[0] in M_ht:\n",
    "        Nodes[e[1]][\"M\"] += e[2]['sign']\n",
    "    elif e[1] in M_ht:\n",
    "        Nodes[e[0]][\"M\"] += e[2]['sign']\n",
    "        \n",
    "    elif e[0] in A_ht:\n",
    "        Nodes[e[1]][\"A\"] += e[2]['sign']\n",
    "    elif e[1] in A_ht:\n",
    "        Nodes[e[0]][\"A\"] += e[2]['sign']\n",
    " \n",
    "for ht in K_ht:\n",
    "    Nodes[ht][\"K\"] = 1000\n",
    "        \n",
    "for ht in M_ht:\n",
    "    try:\n",
    "        Nodes[ht][\"M\"] = 1000\n",
    "    except:\n",
    "        print(ht)\n",
    "    \n",
    "for ht in A_ht:\n",
    "    try:\n",
    "        Nodes[ht][\"A\"] = 1000\n",
    "    except:\n",
    "        print(ht)"
   ]
  },
  {
   "cell_type": "markdown",
   "metadata": {},
   "source": [
    "对节点进行数量上的限定"
   ]
  },
  {
   "cell_type": "code",
   "execution_count": 25,
   "metadata": {},
   "outputs": [
    {
     "name": "stdout",
     "output_type": "stream",
     "text": [
      "15386 16590\n"
     ]
    }
   ],
   "source": [
    "max_oc_M = max([G.node[name][\"num\"] for name, score in Nodes.items() if max(score, key=lambda x:score[x]) == \"M\"])\n",
    "max_oc_K = max([G.node[name][\"num\"] for name, score in Nodes.items() if max(score, key=lambda x:score[x]) == \"K\"])\n",
    "max_oc_A = max([G.node[name][\"num\"] for name, score in Nodes.items() if max(score, key=lambda x:score[x]) == \"A\"])\n",
    "max_oc = max(max_oc_M, max_oc_K, max_oc_A)\n",
    "# max_oc = max(max_oc_M, max_oc_K)\n",
    "print(max_oc_M, max_oc_K)"
   ]
  },
  {
   "cell_type": "code",
   "execution_count": 26,
   "metadata": {},
   "outputs": [
    {
     "name": "stdout",
     "output_type": "stream",
     "text": [
      "('macri', 1000)\n",
      "('novuelvenmas', 1000)\n",
      "('macri2019', 1000)\n",
      "('vidal', 1000)\n",
      "('ucr', 1000)\n",
      "('cambiemos', 1000)\n",
      "('mm2019', 1000)\n",
      "('defensoresdelcambio', 1000)\n",
      "('macritevuelvoaelegir', 1000)\n",
      "('yosigoconfiando', 1000)\n",
      "('gutierrezesmacri', 1000)\n",
      "('debodecir', 1000)\n",
      "('macriconmajul', 1000)\n",
      "('macriestoyconvos', 1000)\n",
      "('sefugarontodo', 1000)\n",
      "('elplandecristina', 1000)\n",
      "('fuerzapresidente', 1000)\n",
      "('fuerzamauricio', 1000)\n"
     ]
    }
   ],
   "source": [
    "maybe_M_hashtags = {name: score[\"M\"] for name, score in Nodes.items() \\\n",
    "                        if score[\"M\"] > 3\n",
    "                            and score[\"M\"] / sum(score.values()) > 0.5\n",
    "                            and G.node[name]['num'] > (max_oc_M * 0.05)}\n",
    "\n",
    "for name in sorted(maybe_M_hashtags.items(), key=lambda d: d[1], reverse=True):\n",
    "    print(name)\n",
    "#     print(name[0])"
   ]
  },
  {
   "cell_type": "code",
   "execution_count": 27,
   "metadata": {},
   "outputs": [
    {
     "name": "stdout",
     "output_type": "stream",
     "text": [
      "('cfk', 1000)\n",
      "('kirchnerismo', 1000)\n",
      "('macrinuncamas', 1000)\n",
      "('kirchnerista', 1000)\n",
      "('cristina', 1000)\n",
      "('paronacional', 1000)\n",
      "('macrijefedelabanda', 1000)\n",
      "('sevamacri', 1000)\n",
      "('kirchner', 1000)\n",
      "('sinceramente', 1000)\n",
      "('vidalespeorquemacri', 1000)\n",
      "('chautelefe', 1000)\n",
      "('hayotrocamino', 1000)\n",
      "('cristina2019', 1000)\n",
      "('macrimiente', 1000)\n",
      "('1mruidazonacional', 1000)\n",
      "('ellalegana', 1000)\n",
      "('cambiemosnosfundio', 1000)\n",
      "('abismopro', 1000)\n",
      "('haganalgo', 1000)\n",
      "('chaumacri', 1000)\n",
      "('fuerzacristina', 1000)\n",
      "('pongamosunafotodecfk', 1000)\n",
      "('nestorcumple', 1000)\n",
      "('nestorvive', 1000)\n",
      "('ellavuelve', 1000)\n",
      "('ruidazo', 1000)\n",
      "('ruidazonacional', 1000)\n",
      "('andatemacri', 1000)\n",
      "('macrisis', 1000)\n",
      "('argentinaexplota', 1000)\n",
      "('dalessiogate', 1000)\n",
      "('cronicaanunciada', 1000)\n",
      "('confirmenaramospadilla', 1000)\n",
      "('vidallapeor', 1000)\n",
      "('macrilandia', 1000)\n",
      "('stornelliaindagatoria', 1000)\n",
      "('ramospadillasomostodos', 1000)\n",
      "('macrichau', 1000)\n",
      "('navarro2019', 1000)\n",
      "('habraconsecuencias', 1000)\n",
      "('chaucambiemos', 1000)\n",
      "('conramospadillano', 1000)\n",
      "('juiciopoliticoamacri', 1000)\n",
      "('chautn', 1000)\n",
      "('todomal', 1000)\n",
      "('fuerzaflorencia', 1000)\n",
      "('chautelefenoticias', 1000)\n",
      "('fernandezfernandez', 1000)\n",
      "('cristinateesperamos', 1000)\n",
      "('macriescaos', 1000)\n",
      "('cristinasomostodos', 1000)\n",
      "('derrumbepro', 1000)\n",
      "('caecarrio', 1000)\n",
      "('bonadiotrucho', 1000)\n",
      "('lamafiademacri', 1000)\n",
      "('21mporlaverdad', 1000)\n",
      "('colapsopro', 1000)\n",
      "('hambrepro', 1000)\n",
      "('concfkviviasmejor', 1000)\n",
      "('riesgomacri', 1000)\n",
      "('derrotemosalfmi', 1000)\n",
      "('cfkenlaferia', 1000)\n",
      "('arrugocristina', 1000)\n"
     ]
    }
   ],
   "source": [
    "maybe_K_hashtags = {name: score[\"K\"] for name, score in Nodes.items() \\\n",
    "                        if score[\"K\"] > 3\n",
    "                            and score[\"K\"] / sum(score.values()) > 0.5\n",
    "                            and G.node[name]['num'] > (max_oc_M * 0.05)}\n",
    "\n",
    "for name in sorted(maybe_K_hashtags.items(), key=lambda d: d[1], reverse=True):\n",
    "    print(name)\n",
    "#     print(name[0])"
   ]
  },
  {
   "cell_type": "code",
   "execution_count": 28,
   "metadata": {},
   "outputs": [
    {
     "name": "stdout",
     "output_type": "stream",
     "text": [
      "('massa', 1000)\n",
      "('lavagna', 1000)\n",
      "('massa2019', 1000)\n",
      "('pj', 1000)\n",
      "('hayalternativa', 1000)\n",
      "('peronismo', 1000)\n",
      "('duhalde', 1000)\n",
      "('cristinaenelpj', 1000)\n"
     ]
    }
   ],
   "source": [
    "maybe_A_hashtags = {name: score[\"A\"] for name, score in Nodes.items() \\\n",
    "                        if score[\"A\"] > 3 \n",
    "                            and score[\"A\"] / sum(score.values()) > 0.6 \n",
    "                            and G.node[name]['num'] > (max_oc_A * 0.05)}\n",
    "\n",
    "for name in sorted(maybe_A_hashtags.items(), key=lambda d: d[1], reverse=True):\n",
    "    print(name)\n",
    "#     print(name[0])"
   ]
  },
  {
   "cell_type": "code",
   "execution_count": 29,
   "metadata": {},
   "outputs": [
    {
     "data": {
      "text/plain": [
       "(64, 18, 90)"
      ]
     },
     "execution_count": 29,
     "metadata": {},
     "output_type": "execute_result"
    }
   ],
   "source": [
    "# maybe_hashtags = list(set(maybe_K_hashtags.keys()) | set(maybe_M_hashtags.keys()))\n",
    "maybe_hashtags = list(set(maybe_K_hashtags.keys()) | set(maybe_M_hashtags.keys()) | set(maybe_A_hashtags.keys()))\n",
    "len(maybe_K_hashtags), len(maybe_M_hashtags), len(maybe_hashtags)"
   ]
  },
  {
   "cell_type": "code",
   "execution_count": 30,
   "metadata": {},
   "outputs": [],
   "source": [
    "G = G.subgraph(maybe_hashtags)"
   ]
  },
  {
   "cell_type": "code",
   "execution_count": 31,
   "metadata": {},
   "outputs": [],
   "source": [
    "for n in G.nodes():\n",
    "    # print(n)\n",
    "    if n in maybe_K_hashtags:\n",
    "        G.node[n][\"camp\"] = \"K\"\n",
    "    elif n in maybe_M_hashtags:\n",
    "        G.node[n][\"camp\"] = \"M\"\n",
    "    elif n in maybe_A_hashtags:\n",
    "        G.node[n][\"camp\"] = \"A\""
   ]
  },
  {
   "cell_type": "code",
   "execution_count": 58,
   "metadata": {},
   "outputs": [],
   "source": [
    "for n in G.nodes():\n",
    "    if n in K_ht:\n",
    "        G.node[n][\"camp\"] = \"K\"\n",
    "    elif n in M_ht:\n",
    "        G.node[n][\"camp\"] = \"M\"\n",
    "    elif n in A_ht:\n",
    "        G.node[n][\"camp\"] = \"A\""
   ]
  },
  {
   "cell_type": "code",
   "execution_count": 59,
   "metadata": {},
   "outputs": [
    {
     "data": {
      "text/plain": [
       "(118, 249)"
      ]
     },
     "execution_count": 59,
     "metadata": {},
     "output_type": "execute_result"
    }
   ],
   "source": [
    "G.number_of_nodes(), G.number_of_edges()"
   ]
  },
  {
   "cell_type": "code",
   "execution_count": 37,
   "metadata": {},
   "outputs": [],
   "source": [
    "G = largest_component(G)"
   ]
  },
  {
   "cell_type": "code",
   "execution_count": 60,
   "metadata": {},
   "outputs": [],
   "source": [
    "G = nx.Graph(G)\n",
    "# G.remove_node(\"ahora\")"
   ]
  },
  {
   "cell_type": "code",
   "execution_count": 3,
   "metadata": {},
   "outputs": [],
   "source": [
    "nx.write_gpickle(G, \"data/hts_20190808_sig.gpickle\")"
   ]
  },
  {
   "cell_type": "code",
   "execution_count": 4,
   "metadata": {},
   "outputs": [],
   "source": [
    "# for n in G.nodes():\n",
    "#     G.node[n]['num'] = 0\n",
    "    \n",
    "for (n1, n2, d) in G.edges(data=True):\n",
    "    d.clear()"
   ]
  },
  {
   "cell_type": "code",
   "execution_count": 5,
   "metadata": {},
   "outputs": [],
   "source": [
    "nx.write_gexf(G, \"data/first-layer-0808.gexf\")"
   ]
  },
  {
   "cell_type": "code",
   "execution_count": null,
   "metadata": {},
   "outputs": [],
   "source": [
    "# G = G.subgraph((K_ht | M_ht))\n",
    "G = nx.largest_component(G)\n",
    "G.number_of_nodes(), G.number_of_edges()"
   ]
  },
  {
   "cell_type": "code",
   "execution_count": 86,
   "metadata": {},
   "outputs": [],
   "source": [
    "nx.write_gexf(G, \"data/marked-20190503.gexf\")"
   ]
  }
 ],
 "metadata": {
  "kernelspec": {
   "display_name": "Python 3",
   "language": "python",
   "name": "python3"
  },
  "language_info": {
   "codemirror_mode": {
    "name": "ipython",
    "version": 3
   },
   "file_extension": ".py",
   "mimetype": "text/x-python",
   "name": "python",
   "nbconvert_exporter": "python",
   "pygments_lexer": "ipython3",
   "version": "3.7.3"
  }
 },
 "nbformat": 4,
 "nbformat_minor": 2
}
