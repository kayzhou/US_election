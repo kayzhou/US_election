{
 "cells": [
  {
   "cell_type": "code",
   "execution_count": 25,
   "metadata": {},
   "outputs": [],
   "source": [
    "from my_weapon import *\n",
    "from tqdm import tqdm_notebook as tqdm\n",
    "sns.set(style=\"whitegrid\", font_scale=1.3)\n",
    "# plt.style.use('fivethirtyeight')"
   ]
  },
  {
   "cell_type": "markdown",
   "metadata": {},
   "source": [
    "# Age and gender\n",
    "\n",
    "2019-08-04 https://pbs.twimg.com/profile_images/556652210403020801/aRwPvCTT.jpeg \n",
    "\n"
   ]
  },
  {
   "cell_type": "code",
   "execution_count": 26,
   "metadata": {},
   "outputs": [
    {
     "data": {
      "text/plain": [
       "124175"
      ]
     },
     "execution_count": 26,
     "metadata": {},
     "output_type": "execute_result"
    }
   ],
   "source": [
    "# loc_to_country = json.load(open(\"data/loc_to_country_v2\"))\n",
    "import unicodedata\n",
    "\n",
    "def normalize_spanish(text):\n",
    "    return unicodedata.normalize('NFKD', text).encode('ASCII', 'ignore').decode().lower()\n",
    "\n",
    "loc_to_country = json.load(open(\"data/loc_to_country_Google.json\"))\n",
    "\n",
    "for loc, address in loc_to_country.items():\n",
    "    # print(loc, \" | \", address)\n",
    "    loc_to_country[loc] = address.split(\", \")[-1]\n",
    "    \n",
    "loc_to_country[\"caba\"] = \"Argentina\"\n",
    "\n",
    "\n",
    "def in_Argentina(_d):\n",
    "    if \"location\" in _d:\n",
    "        loc = normalize_spanish(_d[\"location\"])\n",
    "        if '🇦🇷' in _d[\"location\"] or \"argentina\" in loc or (loc in loc_to_country and loc_to_country[loc] == \"Argentina\"):\n",
    "            return 1\n",
    "        elif loc in loc_to_country:\n",
    "            return 2\n",
    "    return False\n",
    "\n",
    "\n",
    "def outside_Argentina(_d):\n",
    "    if \"location\" in _d:\n",
    "        loc = normalize_spanish(_d[\"location\"])\n",
    "        if '🇦🇷' in _d[\"location\"] or \"argentina\" in loc:\n",
    "            return False\n",
    "        if loc in loc_to_country and loc_to_country[loc] != \"Argentina\":\n",
    "            return True\n",
    "    return False\n",
    "\n",
    "\n",
    "def get_country(_d):\n",
    "    if \"location\" in _d:\n",
    "        loc = normalize_spanish(_d[\"location\"])\n",
    "        if '🇦🇷' in _d[\"location\"] or \"argentina\" in loc:\n",
    "            return \"Argetina\"\n",
    "        elif loc in loc_to_country and loc_to_country[loc] == \"Argentina\":\n",
    "            return \"Argetina\"\n",
    "        elif loc in loc_to_country and loc_to_country[loc] != \"Argentina\":\n",
    "            return loc_to_country[loc]\n",
    "        else:\n",
    "            return \"Location Not Found\"\n",
    "    return \"No Location info\"\n",
    "\n",
    "len(loc_to_country)"
   ]
  },
  {
   "cell_type": "markdown",
   "metadata": {},
   "source": [
    "# One week"
   ]
  },
  {
   "cell_type": "code",
   "execution_count": 68,
   "metadata": {},
   "outputs": [
    {
     "data": {
      "application/vnd.jupyter.widget-view+json": {
       "model_id": "b92010f90df441c2b57b04fa1f197d09",
       "version_major": 2,
       "version_minor": 0
      },
      "text/plain": [
       "HBox(children=(IntProgress(value=1, bar_style='info', max=1), HTML(value='')))"
      ]
     },
     "metadata": {},
     "output_type": "display_data"
    }
   ],
   "source": [
    "users = []\n",
    "\n",
    "for line in tqdm(open(\"disk/user_profile/0731-week-image.txt\")):\n",
    "    d = json.loads(line.strip())\n",
    "    loc = normalize_spanish(d[\"location\"])\n",
    "    \n",
    "    if not outside_Argentina(d):\n",
    "        face = d[\"faces\"][0]\n",
    "        # print(face)\n",
    "        age = face['attributes'][\"age\"][\"value\"]\n",
    "        gender = face['attributes'][\"gender\"][\"value\"]\n",
    "\n",
    "        if age < 16:\n",
    "            continue\n",
    "        elif age >= 16 and age < 30:\n",
    "            age_range = \">=16, <30\"\n",
    "        elif age >= 30 and age < 50:\n",
    "            age_range = \">=30, <50\"\n",
    "        elif age >= 50 and age < 65:\n",
    "            age_range = \">=50, <65\"\n",
    "        elif age >= 65:\n",
    "            age_range = \">=65\"\n",
    "        \n",
    "        users.append({\"uid\": d[\"id\"], \"age\": age, \"gender\": gender, \"age_range\": age_range})\n",
    "        \n",
    "users = pd.DataFrame(users).set_index(\"uid\")\n",
    "users = users[~users.index.duplicated(keep='first')]"
   ]
  },
  {
   "cell_type": "code",
   "execution_count": 69,
   "metadata": {},
   "outputs": [
    {
     "data": {
      "text/html": [
       "<div>\n",
       "<style scoped>\n",
       "    .dataframe tbody tr th:only-of-type {\n",
       "        vertical-align: middle;\n",
       "    }\n",
       "\n",
       "    .dataframe tbody tr th {\n",
       "        vertical-align: top;\n",
       "    }\n",
       "\n",
       "    .dataframe thead th {\n",
       "        text-align: right;\n",
       "    }\n",
       "</style>\n",
       "<table border=\"1\" class=\"dataframe\">\n",
       "  <thead>\n",
       "    <tr style=\"text-align: right;\">\n",
       "      <th></th>\n",
       "      <th>age</th>\n",
       "      <th>age_range</th>\n",
       "    </tr>\n",
       "    <tr>\n",
       "      <th>gender</th>\n",
       "      <th></th>\n",
       "      <th></th>\n",
       "    </tr>\n",
       "  </thead>\n",
       "  <tbody>\n",
       "    <tr>\n",
       "      <th>Female</th>\n",
       "      <td>47750</td>\n",
       "      <td>47750</td>\n",
       "    </tr>\n",
       "    <tr>\n",
       "      <th>Male</th>\n",
       "      <td>80202</td>\n",
       "      <td>80202</td>\n",
       "    </tr>\n",
       "  </tbody>\n",
       "</table>\n",
       "</div>"
      ],
      "text/plain": [
       "          age  age_range\n",
       "gender                  \n",
       "Female  47750      47750\n",
       "Male    80202      80202"
      ]
     },
     "execution_count": 69,
     "metadata": {},
     "output_type": "execute_result"
    }
   ],
   "source": [
    "users.groupby(\"gender\").count()"
   ]
  },
  {
   "cell_type": "code",
   "execution_count": 70,
   "metadata": {},
   "outputs": [
    {
     "data": {
      "application/vnd.jupyter.widget-view+json": {
       "model_id": "262932a097124d78a4c8c8140409c612",
       "version_major": 2,
       "version_minor": 0
      },
      "text/plain": [
       "HBox(children=(IntProgress(value=1, bar_style='info', max=1), HTML(value='')))"
      ]
     },
     "metadata": {},
     "output_type": "display_data"
    }
   ],
   "source": [
    "m_15, f_15 = 0, 0\n",
    "m_30, f_30 = 0, 0\n",
    "m_50, f_50 = 0, 0\n",
    "m_65, f_65 = 0, 0\n",
    "\n",
    "for i, row in tqdm(users.iterrows()):\n",
    "    if row.gender == \"Male\":\n",
    "        if row.age >= 16 and row.age < 30:\n",
    "            m_15 += 1\n",
    "        elif row.age >= 30 and row.age < 50:\n",
    "            m_30 += 1\n",
    "        elif row.age >= 50 and row.age < 65:\n",
    "            m_50 += 1\n",
    "        elif row.age >= 65:\n",
    "            m_65 += 1\n",
    "    elif row.gender == \"Female\":\n",
    "        if row.age >= 16 and row.age < 30:\n",
    "            f_15 += 1\n",
    "        elif row.age >= 30 and row.age < 50:\n",
    "            f_30 += 1\n",
    "        elif row.age >= 50 and row.age < 65:\n",
    "            f_50 += 1\n",
    "        elif row.age >= 65:\n",
    "            f_65 += 1\n",
    "            \n",
    "age_gender_dist = {\n",
    "    \"category\": [\n",
    "        \"female 16-29\", \"male 16-29\", \n",
    "        \"female 30-49\", \"male 30-49\", \n",
    "        \"female 50-64\", \"male 50-64\", \n",
    "        \"female >=65\", \"male >=65\",\n",
    "    ],\n",
    "    \"n\": [\n",
    "          f_15, m_15, \n",
    "          f_30, m_30, \n",
    "          f_50, m_50, \n",
    "          f_65, m_65,\n",
    "         ]\n",
    "}\n",
    "age_gender_dist = pd.DataFrame(age_gender_dist).set_index(\"category\")\n",
    "age_gender_dist[\"percent\"] = age_gender_dist / age_gender_dist.sum()"
   ]
  },
  {
   "cell_type": "code",
   "execution_count": 7,
   "metadata": {},
   "outputs": [
    {
     "data": {
      "image/png": "[encoded data removed]",
      "text/plain": [
       "<Figure size 576x288 with 1 Axes>"
      ]
     },
     "metadata": {
      "needs_background": "light"
     },
     "output_type": "display_data"
    }
   ],
   "source": [
    "# age_gender_dist['n'].plot.bar(legend=None, color=\"r\")\n",
    "# plt.title(\"Distribtuion of population from Twitter\")\n",
    "plt.figure(figsize=(8, 4))\n",
    "age_gender_dist[\"percent\"].plot.bar(legend=None)\n",
    "plt.xticks(rotation=45)\n",
    "plt.xlabel(\"\")\n",
    "plt.savefig(\"web/static/population_twitter.png\", dpi=300, bbox_inches = 'tight')"
   ]
  },
  {
   "cell_type": "code",
   "execution_count": 71,
   "metadata": {},
   "outputs": [
    {
     "data": {
      "text/plain": [
       "287328"
      ]
     },
     "execution_count": 71,
     "metadata": {},
     "output_type": "execute_result"
    }
   ],
   "source": [
    "# opinion_tweets = json.load(open(\"disk/data/2019-07-31-without-Cristina.txt\"))\n",
    "# opinion_tweets = json.load(open(\"disk/data/2019-07-31-without-elecciones.txt\"))\n",
    "# opinion_tweets = json.load(open(\"disk/data/2019-07-31-without-both.txt\"))\n",
    "# opinion_tweets = json.load(open(\"disk/data/2019-07-31.txt\"))\n",
    "\n",
    "# opinion_tweets = json.load(open(\"disk/data/2019-07-31-terms1.txt\"))\n",
    "# opinion_tweets = json.load(open(\"disk/data/2019-07-31-terms2.txt\"))\n",
    "\n",
    "opinion_tweets = json.load(open(\"disk/data/2019-08-08/supporters_.75_7-20190731.json\"))\n",
    "len(opinion_tweets)"
   ]
  },
  {
   "cell_type": "code",
   "execution_count": 72,
   "metadata": {},
   "outputs": [
    {
     "name": "stdout",
     "output_type": "stream",
     "text": [
      "N of undecided users for K: 27575\n",
      "N of undecided users for M: 13538 \n",
      "\n",
      "N of classified users: 316902\n",
      "% of users supporting K: 37.48098781326719\n",
      "\n",
      "N of classified users with age, gender in Argentina: 91840\n",
      "% of users supporting K: 39.66354529616724\n"
     ]
    }
   ],
   "source": [
    "users_opinion = []\n",
    "\n",
    "for uid, v in opinion_tweets.items():\n",
    "    if v[\"I\"] > 0:\n",
    "        continue\n",
    "    if v[\"M\"] > v[\"K\"]:\n",
    "        users_opinion.append({\"uid\": int(uid), \"opinion\": \"M\"})\n",
    "    elif v[\"M\"] < v[\"K\"]:\n",
    "        users_opinion.append({\"uid\": int(uid), \"opinion\": \"K\"})\n",
    "    else:\n",
    "        users_opinion.append({\"uid\": int(uid), \"opinion\": \"U\"})\n",
    "\n",
    "uK_users = json.load(open(\"disk/data/uK_users.json\"))\n",
    "for uid in uK_users:\n",
    "    users_opinion.append({\"uid\": int(uid), \"opinion\": \"K\"})\n",
    "print(\"N of undecided users for K:\", len(uK_users))\n",
    "\n",
    "uM_users = json.load(open(\"disk/data/uM_users.json\"))\n",
    "for uid in uM_users:\n",
    "    users_opinion.append({\"uid\": int(uid), \"opinion\": \"M\"})\n",
    "print(\"N of undecided users for M:\", len(uM_users), \"\\n\")\n",
    "\n",
    "users_opinion = pd.DataFrame(users_opinion).set_index(\"uid\")\n",
    "print(\"N of classified users:\", len(users_opinion))\n",
    "print(\"% of users supporting K:\", float(users_opinion[users_opinion[\"opinion\"] == \"K\"].count() / users_opinion.count()) * 100)\n",
    "print()\n",
    "users_v2 = users.join(users_opinion, how=\"inner\")\n",
    "print(\"N of classified users with age, gender in Argentina:\", len(users_v2))\n",
    "print(\"% of users supporting K:\", len(users_v2[users_v2[\"opinion\"] == \"K\"]) / len(users_v2) * 100)"
   ]
  },
  {
   "cell_type": "markdown",
   "metadata": {},
   "source": [
    "## Before adding undecided ...\n",
    "N of classified users: 193397\n",
    "\n",
    "% of users supporting K: 47.15843575650088\n",
    "\n",
    "N of classified users with age, gender in Argentina: 45686\n",
    "\n",
    "% of users supporting K: 49.32802171343519\n",
    "\n",
    "---\n",
    "\n",
    "## After adding undecided ...\n",
    "N of undecided users for K: 27575\n",
    "\n",
    "N of undecided users for M: 13538 \n",
    "\n",
    "N of classified users: 234510\n",
    "\n",
    "% of users supporting K: 50.64943925632169\n",
    "\n",
    "N of classified users with age, gender in Argentina: 54621\n",
    "\n",
    "% of users supporting K: 52.42855312059464"
   ]
  },
  {
   "cell_type": "raw",
   "metadata": {},
   "source": [
    "## imbalanced\n",
    "\n",
    "users_opinion = []\n",
    "\n",
    "for uid, v in opinion_tweets.items():\n",
    "    if v[\"I\"] > 0:\n",
    "        continue\n",
    "    \n",
    "    r = np.log((v[\"K\"] + 1) / (v[\"M\"] + 1))\n",
    "    thres = 0\n",
    "    \n",
    "#     if v[\"K\"] + v[\"M\"] == 1:\n",
    "#         continue\n",
    "#     if v[\"K\"] > 0 and v[\"M\"] == 0:\n",
    "#         users_opinion.append({\"uid\": int(uid), \"opinion\": \"K\"})\n",
    "#     elif v[\"M\"] > 0 and v[\"K\"] == 0:\n",
    "#         users_opinion.append({\"uid\": int(uid), \"opinion\": \"M\"})\n",
    "        \n",
    "        \n",
    "    if r > thres:\n",
    "        users_opinion.append({\"uid\": int(uid), \"opinion\": \"K\"})\n",
    "    elif r < thres:\n",
    "        users_opinion.append({\"uid\": int(uid), \"opinion\": \"M\"})\n",
    "        \n",
    "#     else:\n",
    "#         users_opinion.append({\"uid\": int(uid), \"opinion\": \"U\"})\n",
    "users_opinion = pd.DataFrame(users_opinion).set_index(\"uid\")\n",
    "        \n",
    "users_v2 = users.join(users_opinion, how=\"inner\")\n",
    "users_v2[\"opinion\"].value_counts(normalize=True)"
   ]
  },
  {
   "cell_type": "code",
   "execution_count": 73,
   "metadata": {},
   "outputs": [
    {
     "data": {
      "text/plain": [
       "age_range  gender  opinion\n",
       ">=16, <30  Female  K          8881\n",
       "                   M          5054\n",
       "                   U          5244\n",
       "           Male    K          8619\n",
       "                   M          7551\n",
       "                   U          6541\n",
       ">=30, <50  Female  K          4642\n",
       "                   M          4142\n",
       "                   U          2563\n",
       "           Male    K          8299\n",
       "                   M          8257\n",
       "                   U          5236\n",
       ">=50, <65  Female  K          1723\n",
       "                   M          2387\n",
       "                   U           935\n",
       "           Male    K          2865\n",
       "                   M          3441\n",
       "                   U          1527\n",
       ">=65       Female  K           418\n",
       "                   M           632\n",
       "                   U           188\n",
       "           Male    K           980\n",
       "                   M          1240\n",
       "                   U           475\n",
       "dtype: int64"
      ]
     },
     "execution_count": 73,
     "metadata": {},
     "output_type": "execute_result"
    }
   ],
   "source": [
    "groups = users_v2.groupby([\"age_range\", \"gender\", \"opinion\"]).size()\n",
    "groups"
   ]
  },
  {
   "cell_type": "code",
   "execution_count": 74,
   "metadata": {},
   "outputs": [
    {
     "data": {
      "image/png": "[encoded data removed]",
      "text/plain": [
       "<Figure size 1008x432 with 1 Axes>"
      ]
     },
     "metadata": {},
     "output_type": "display_data"
    }
   ],
   "source": [
    "Kc = \"#00c8ff\";\n",
    "Mc = \"#ff3700\";\n",
    "sns.set(style=\"darkgrid\", font_scale=1.2)\n",
    "plt.style.use('fivethirtyeight')\n",
    "plt.figure(figsize=(14, 6))\n",
    "groups.plot.bar(color=[Kc, Mc, \"grey\"])\n",
    "plt.xlabel(\"\")\n",
    "plt.savefig(\"web/static/different_users_week-2.png\", bbox_inches = 'tight', dpi=300)"
   ]
  },
  {
   "cell_type": "code",
   "execution_count": 619,
   "metadata": {},
   "outputs": [
    {
     "name": "stdout",
     "output_type": "stream",
     "text": [
      ">=15, <30, Female & Male\n"
     ]
    },
    {
     "data": {
      "text/plain": [
       "(0.6344846591952967, 0.5225708340003201)"
      ]
     },
     "execution_count": 619,
     "metadata": {},
     "output_type": "execute_result"
    }
   ],
   "source": [
    "print(\">=15, <30, Female & Male\")\n",
    "groups[\">=15, <30\"][\"Female\"][\"K\"] / sum(groups[\">=15, <30\"][\"Female\"]), groups[\">=15, <30\"][\"Male\"][\"K\"] / sum(groups[\">=15, <30\"][\"Male\"])"
   ]
  },
  {
   "cell_type": "code",
   "execution_count": 620,
   "metadata": {},
   "outputs": [
    {
     "name": "stdout",
     "output_type": "stream",
     "text": [
      ">=30, <50, Female & Male\n"
     ]
    },
    {
     "data": {
      "text/plain": [
       "(0.5289400787286777, 0.4962674714104193)"
      ]
     },
     "execution_count": 620,
     "metadata": {},
     "output_type": "execute_result"
    }
   ],
   "source": [
    "print(\">=30, <50, Female & Male\")\n",
    "groups[\">=30, <50\"][\"Female\"][\"K\"] / sum(groups[\">=30, <50\"][\"Female\"]), groups[\">=30, <50\"][\"Male\"][\"K\"] / sum(groups[\">=30, <50\"][\"Male\"])"
   ]
  },
  {
   "cell_type": "code",
   "execution_count": 621,
   "metadata": {},
   "outputs": [
    {
     "name": "stdout",
     "output_type": "stream",
     "text": [
      ">=50, <65, Female & Male\n"
     ]
    },
    {
     "data": {
      "text/plain": [
       "(0.4179377669310555, 0.4492417860151643)"
      ]
     },
     "execution_count": 621,
     "metadata": {},
     "output_type": "execute_result"
    }
   ],
   "source": [
    "print(\">=50, <65, Female & Male\")\n",
    "groups[\">=50, <65\"][\"Female\"][\"K\"] / sum(groups[\">=50, <65\"][\"Female\"]), groups[\">=50, <65\"][\"Male\"][\"K\"] / sum(groups[\">=50, <65\"][\"Male\"])"
   ]
  },
  {
   "cell_type": "code",
   "execution_count": 622,
   "metadata": {},
   "outputs": [
    {
     "name": "stdout",
     "output_type": "stream",
     "text": [
      ">=65, Female & Male\n"
     ]
    },
    {
     "data": {
      "text/plain": [
       "(0.3929440389294404, 0.4422724496029322)"
      ]
     },
     "execution_count": 622,
     "metadata": {},
     "output_type": "execute_result"
    }
   ],
   "source": [
    "print(\">=65, Female & Male\")\n",
    "groups[\">=65\"][\"Female\"][\"K\"] / sum(groups[\">=65\"][\"Female\"]), groups[\">=65\"][\"Male\"][\"K\"] / sum(groups[\">=65\"][\"Male\"])"
   ]
  },
  {
   "cell_type": "code",
   "execution_count": 623,
   "metadata": {},
   "outputs": [
    {
     "name": "stdout",
     "output_type": "stream",
     "text": [
      "After reweighting!\n"
     ]
    },
    {
     "data": {
      "text/plain": [
       "0.5063636213095615"
      ]
     },
     "execution_count": 623,
     "metadata": {},
     "output_type": "execute_result"
    }
   ],
   "source": [
    "\"\"\"\n",
    "From census\n",
    "female 15-29    0.167\n",
    "female 30-49    0.176\n",
    "female 50-64    0.097\n",
    "female >=65     0.081\n",
    "\n",
    "male 15-29      0.167\n",
    "male 30-49      0.168\n",
    "male 50-64      0.088\n",
    "male >=65       0.056\n",
    "\"\"\"\n",
    "print(\"After reweighting!\")\n",
    "+ groups[\">=15, <30\"][\"Female\"][\"K\"] / sum(groups[\">=15, <30\"][\"Female\"]) * 0.167 \\\n",
    "+ groups[\">=15, <30\"][\"Male\"][\"K\"] / sum(groups[\">=15, <30\"][\"Male\"]) * 0.167 \\\n",
    "+ groups[\">=30, <50\"][\"Female\"][\"K\"] / sum(groups[\">=30, <50\"][\"Female\"]) * 0.176 \\\n",
    "+ groups[\">=30, <50\"][\"Male\"][\"K\"] / sum(groups[\">=30, <50\"][\"Male\"]) * 0.168 \\\n",
    "+ groups[\">=50, <65\"][\"Female\"][\"K\"] / sum(groups[\">=50, <65\"][\"Female\"]) * 0.097 \\\n",
    "+ groups[\">=50, <65\"][\"Male\"][\"K\"] / sum(groups[\">=50, <65\"][\"Male\"]) * 0.088 \\\n",
    "+ groups[\">=65\"][\"Female\"][\"K\"] / sum(groups[\">=65\"][\"Female\"]) * 0.081 \\\n",
    "+ groups[\">=65\"][\"Male\"][\"K\"] / sum(groups[\">=65\"][\"Male\"]) * 0.056 \\"
   ]
  },
  {
   "cell_type": "code",
   "execution_count": 75,
   "metadata": {},
   "outputs": [
    {
     "data": {
      "image/png": "[encoded data removed]",
      "text/plain": [
       "<Figure size 720x432 with 1 Axes>"
      ]
     },
     "metadata": {},
     "output_type": "display_data"
    }
   ],
   "source": [
    "groups = users_v2.groupby([\"age_range\", \"gender\"]).size()\n",
    "groups\n",
    "\n",
    "sns.set(style=\"darkgrid\", font_scale=1.2)\n",
    "plt.style.use('fivethirtyeight')\n",
    "plt.figure(figsize=(10, 6))\n",
    "groups.plot.bar(color=[\"red\", \"blue\"])\n",
    "plt.xlabel(\"\")\n",
    "plt.savefig(\"web/static/population_week-1.png\", bbox_inches = 'tight', dpi=300)"
   ]
  },
  {
   "cell_type": "code",
   "execution_count": null,
   "metadata": {},
   "outputs": [],
   "source": [
    "users[(users[\"age_range\"] == \">=15, <30\") & (users[\"gender\"] == \"Female\")]"
   ]
  },
  {
   "cell_type": "code",
   "execution_count": 648,
   "metadata": {},
   "outputs": [
    {
     "data": {
      "text/plain": [
       "Text(0, 0.5, 'Number')"
      ]
     },
     "execution_count": 648,
     "metadata": {},
     "output_type": "execute_result"
    },
    {
     "data": {
      "image/png": "[encoded data removed]",
      "text/plain": [
       "<Figure size 432x288 with 1 Axes>"
      ]
     },
     "metadata": {},
     "output_type": "display_data"
    }
   ],
   "source": [
    "users.age.hist(bins=15, rwidth=0.6)\n",
    "plt.title(\"Distribtuion of ages of faces\")\n",
    "plt.ylabel(\"Number\")"
   ]
  },
  {
   "cell_type": "code",
   "execution_count": 471,
   "metadata": {},
   "outputs": [
    {
     "data": {
      "text/plain": [
       "0.0520322734568169"
      ]
     },
     "execution_count": 471,
     "metadata": {},
     "output_type": "execute_result"
    }
   ],
   "source": [
    "ages[ages < 20].count() / ages.count()"
   ]
  },
  {
   "cell_type": "code",
   "execution_count": 473,
   "metadata": {},
   "outputs": [
    {
     "data": {
      "text/html": [
       "<div>\n",
       "<style scoped>\n",
       "    .dataframe tbody tr th:only-of-type {\n",
       "        vertical-align: middle;\n",
       "    }\n",
       "\n",
       "    .dataframe tbody tr th {\n",
       "        vertical-align: top;\n",
       "    }\n",
       "\n",
       "    .dataframe thead th {\n",
       "        text-align: right;\n",
       "    }\n",
       "</style>\n",
       "<table border=\"1\" class=\"dataframe\">\n",
       "  <thead>\n",
       "    <tr style=\"text-align: right;\">\n",
       "      <th></th>\n",
       "      <th>n</th>\n",
       "      <th>percent</th>\n",
       "    </tr>\n",
       "    <tr>\n",
       "      <th>category</th>\n",
       "      <th></th>\n",
       "      <th></th>\n",
       "    </tr>\n",
       "  </thead>\n",
       "  <tbody>\n",
       "    <tr>\n",
       "      <th>male 15-29</th>\n",
       "      <td>60111</td>\n",
       "      <td>0.261936</td>\n",
       "    </tr>\n",
       "    <tr>\n",
       "      <th>male 30-49</th>\n",
       "      <td>60389</td>\n",
       "      <td>0.263148</td>\n",
       "    </tr>\n",
       "    <tr>\n",
       "      <th>male 50-64</th>\n",
       "      <td>21139</td>\n",
       "      <td>0.092114</td>\n",
       "    </tr>\n",
       "    <tr>\n",
       "      <th>male &gt;=65</th>\n",
       "      <td>6904</td>\n",
       "      <td>0.030084</td>\n",
       "    </tr>\n",
       "    <tr>\n",
       "      <th>female 15-29</th>\n",
       "      <td>40979</td>\n",
       "      <td>0.178568</td>\n",
       "    </tr>\n",
       "    <tr>\n",
       "      <th>female 30-49</th>\n",
       "      <td>26621</td>\n",
       "      <td>0.116002</td>\n",
       "    </tr>\n",
       "    <tr>\n",
       "      <th>female 50-64</th>\n",
       "      <td>10592</td>\n",
       "      <td>0.046155</td>\n",
       "    </tr>\n",
       "    <tr>\n",
       "      <th>female &gt;=65</th>\n",
       "      <td>2752</td>\n",
       "      <td>0.011992</td>\n",
       "    </tr>\n",
       "  </tbody>\n",
       "</table>\n",
       "</div>"
      ],
      "text/plain": [
       "                  n   percent\n",
       "category                     \n",
       "male 15-29    60111  0.261936\n",
       "male 30-49    60389  0.263148\n",
       "male 50-64    21139  0.092114\n",
       "male >=65      6904  0.030084\n",
       "female 15-29  40979  0.178568\n",
       "female 30-49  26621  0.116002\n",
       "female 50-64  10592  0.046155\n",
       "female >=65    2752  0.011992"
      ]
     },
     "execution_count": 473,
     "metadata": {},
     "output_type": "execute_result"
    }
   ],
   "source": [
    "age_gender_dist"
   ]
  },
  {
   "cell_type": "code",
   "execution_count": 639,
   "metadata": {},
   "outputs": [],
   "source": [
    "cen = {\n",
    "    \"age\": [\"15-19\",\"20-24\",\"25-29\",\"30-34\",\"35-39\",\n",
    "            \"40-44\",\"45-49\",\"50-54\",\"55-59\",\"60-64\",\n",
    "            \"65-69\",\"70-74\",\"75-79\",\">=80\"],\n",
    "    \"n\": [3542067, 3300149, 3130509, 3098713, 2678435,\n",
    "            2310775, 2196350, 2042993, 1868950, 1621190,\n",
    "            1293061, 1015897, 801660, 994030]\n",
    "}"
   ]
  },
  {
   "cell_type": "code",
   "execution_count": 640,
   "metadata": {},
   "outputs": [
    {
     "data": {
      "text/plain": [
       "Text(0.5, 1.0, 'Age distribution from census')"
      ]
     },
     "execution_count": 640,
     "metadata": {},
     "output_type": "execute_result"
    },
    {
     "data": {
      "image/png": "[encoded data removed]",
      "text/plain": [
       "<Figure size 432x288 with 1 Axes>"
      ]
     },
     "metadata": {},
     "output_type": "display_data"
    }
   ],
   "source": [
    "cen_2 = {\n",
    "    \"age\": [\"15-29\", \"30-49\", \"50-64\", \">=65\"],\n",
    "    \"n\": [sum(cen[\"n\"][: 3]), sum(cen[\"n\"][3: 7]), sum(cen[\"n\"][7: 10]),  sum(cen[\"n\"][10:])]\n",
    "}\n",
    "cen_2 = pd.DataFrame(cen_2).set_index(\"age\")\n",
    "cen_2.plot.bar(legend=None)\n",
    "plt.title(\"Age distribution from census\")"
   ]
  },
  {
   "cell_type": "code",
   "execution_count": 641,
   "metadata": {},
   "outputs": [],
   "source": [
    "cen_2[\"percent\"] = cen_2 / cen_2.sum()"
   ]
  },
  {
   "cell_type": "code",
   "execution_count": 642,
   "metadata": {},
   "outputs": [
    {
     "data": {
      "text/plain": [
       "Text(0.5, 1.0, 'Age distribution from census')"
      ]
     },
     "execution_count": 642,
     "metadata": {},
     "output_type": "execute_result"
    },
    {
     "data": {
      "image/png": "[encoded data removed]",
      "text/plain": [
       "<Figure size 432x288 with 1 Axes>"
      ]
     },
     "metadata": {},
     "output_type": "display_data"
    }
   ],
   "source": [
    "cen_2[\"percent\"].plot.bar(legend=None)\n",
    "plt.title(\"Age distribution from census\")"
   ]
  },
  {
   "cell_type": "code",
   "execution_count": 643,
   "metadata": {},
   "outputs": [
    {
     "data": {
      "text/html": [
       "<div>\n",
       "<style scoped>\n",
       "    .dataframe tbody tr th:only-of-type {\n",
       "        vertical-align: middle;\n",
       "    }\n",
       "\n",
       "    .dataframe tbody tr th {\n",
       "        vertical-align: top;\n",
       "    }\n",
       "\n",
       "    .dataframe thead th {\n",
       "        text-align: right;\n",
       "    }\n",
       "</style>\n",
       "<table border=\"1\" class=\"dataframe\">\n",
       "  <thead>\n",
       "    <tr style=\"text-align: right;\">\n",
       "      <th></th>\n",
       "      <th>n</th>\n",
       "      <th>percent</th>\n",
       "    </tr>\n",
       "    <tr>\n",
       "      <th>age</th>\n",
       "      <th></th>\n",
       "      <th></th>\n",
       "    </tr>\n",
       "  </thead>\n",
       "  <tbody>\n",
       "    <tr>\n",
       "      <th>15-29</th>\n",
       "      <td>9972725</td>\n",
       "      <td>0.333594</td>\n",
       "    </tr>\n",
       "    <tr>\n",
       "      <th>30-49</th>\n",
       "      <td>10284273</td>\n",
       "      <td>0.344016</td>\n",
       "    </tr>\n",
       "    <tr>\n",
       "      <th>50-64</th>\n",
       "      <td>5533133</td>\n",
       "      <td>0.185087</td>\n",
       "    </tr>\n",
       "    <tr>\n",
       "      <th>&gt;=65</th>\n",
       "      <td>4104648</td>\n",
       "      <td>0.137303</td>\n",
       "    </tr>\n",
       "  </tbody>\n",
       "</table>\n",
       "</div>"
      ],
      "text/plain": [
       "              n   percent\n",
       "age                      \n",
       "15-29   9972725  0.333594\n",
       "30-49  10284273  0.344016\n",
       "50-64   5533133  0.185087\n",
       ">=65    4104648  0.137303"
      ]
     },
     "execution_count": 643,
     "metadata": {},
     "output_type": "execute_result"
    }
   ],
   "source": [
    "cen_2"
   ]
  },
  {
   "cell_type": "markdown",
   "metadata": {},
   "source": [
    "Age distribution: https://www.statista.com/statistics/283119/age-distribution-of-global-twitter-users/"
   ]
  },
  {
   "cell_type": "code",
   "execution_count": 636,
   "metadata": {},
   "outputs": [
    {
     "data": {
      "text/plain": [
       "Text(0.5, 1.0, 'Age distribution from census')"
      ]
     },
     "execution_count": 636,
     "metadata": {},
     "output_type": "execute_result"
    },
    {
     "data": {
      "image/png": "[encoded data removed]",
      "text/plain": [
       "<Figure size 432x288 with 1 Axes>"
      ]
     },
     "metadata": {},
     "output_type": "display_data"
    }
   ],
   "source": [
    "cen = {\n",
    "    \"age\": [\"0-4\",\"5-9\",\"10-14\",\"15-19\",\"20-24\",\"25-29\",\"30-34\",\"35-39\",\"40-44\",\n",
    "            \"45-49\",\"50-54\",\"55-59\",\"60-64\",\"65-69\",\"70-74\",\"75-79\",\">=80\"],\n",
    "    \"n\":   [3337652, 3381219, 3503446, 3542067, 3300149, 3130509, 3098713, 2678435, 2310775, \n",
    "            2196350, 2042993, 1868950, 1621190, 1293061, 1015897, 801660, 994030]\n",
    "}\n",
    "cen = pd.DataFrame(cen).set_index(\"age\")\n",
    "cen.plot.bar(legend=None)\n",
    "plt.title(\"Age distribution from census\")"
   ]
  },
  {
   "cell_type": "code",
   "execution_count": 19,
   "metadata": {},
   "outputs": [
    {
     "data": {
      "image/png": "[encoded data removed]",
      "text/plain": [
       "<Figure size 576x288 with 1 Axes>"
      ]
     },
     "metadata": {},
     "output_type": "display_data"
    }
   ],
   "source": [
    "cen = {\n",
    "    \"category\": [\"female 15-29\", \"male 15-29\", \n",
    "                 \"female 30-49\", \"male 30-49\", \n",
    "                 \"female 50-64\", \"male 50-64\", \n",
    "                 \"female >=65\", \"male >=65\", ],\n",
    "    \"n\": [\n",
    "          0.167, 0.167,\n",
    "          0.176, 0.168,\n",
    "          0.097, 0.088,\n",
    "          0.081, 0.056\n",
    "        ]\n",
    "}\n",
    "cen = pd.DataFrame(cen).set_index(\"category\")\n",
    "cen[\"percent\"] = cen / cen.sum()\n",
    "\n",
    "plt.figure(figsize=(8, 4))\n",
    "cen[\"percent\"].plot.bar()\n",
    "plt.xticks(rotation=45)\n",
    "plt.xlabel(\"\")\n",
    "plt.ylabel(\"Proportion\")\n",
    "# plt.savefig(\"web/static/population_census.png\", dpi=300, bbox_inches = 'tight')\n",
    "plt.title(\"Census\")\n",
    "plt.savefig(\"fig/chart22-census.pdf\", dpi=300, bbox_inches = 'tight')"
   ]
  },
  {
   "cell_type": "code",
   "execution_count": 78,
   "metadata": {},
   "outputs": [
    {
     "data": {
      "text/plain": [
       "category\n",
       "male 15-29      0.167\n",
       "male 30-49      0.168\n",
       "male 50-64      0.088\n",
       "male >=65       0.056\n",
       "female 15-29    0.167\n",
       "female 30-49    0.176\n",
       "female 50-64    0.097\n",
       "female >=65     0.081\n",
       "Name: percent, dtype: float64"
      ]
     },
     "execution_count": 78,
     "metadata": {},
     "output_type": "execute_result"
    }
   ],
   "source": [
    "cen[\"percent\"]"
   ]
  },
  {
   "cell_type": "code",
   "execution_count": 635,
   "metadata": {},
   "outputs": [
    {
     "data": {
      "image/png": "[encoded data removed]",
      "text/plain": [
       "<Figure size 864x432 with 1 Axes>"
      ]
     },
     "metadata": {},
     "output_type": "display_data"
    }
   ],
   "source": [
    "sns.set(style=\"dark\", font_scale=1.2)\n",
    "plt.style.use('fivethirtyeight')\n",
    "plt.figure(figsize=(12, 6))\n",
    "age_gender_dist[\"percent\"].plot.bar(color=\"r\", position=1, width=0.3, label=\"Twitter\")\n",
    "cen[\"percent\"].plot.bar(position=0, width=0.3, label=\"Census\")\n",
    "plt.xticks(rotation=45)\n",
    "plt.xlim(-1, 8)\n",
    "plt.legend()\n",
    "plt.xlabel(\"\")\n",
    "# plt.title(\"Distribtuion of population in Argentina from Twitter and Census\")\n",
    "plt.savefig(\"fig/twitter_census.png\", bbox_inches = 'tight', dpi=300)"
   ]
  },
  {
   "cell_type": "markdown",
   "metadata": {},
   "source": [
    "# Analyze all users before Aug."
   ]
  },
  {
   "cell_type": "code",
   "execution_count": null,
   "metadata": {},
   "outputs": [],
   "source": [
    "users = []\n",
    "\n",
    "for line in tqdm(open(\"disk/user_profile/02-07-image.txt\")):\n",
    "    d = json.loads(line.strip())\n",
    "    # if in_Argentina(d) == 1:\n",
    "    if not outside_Argentina(d):\n",
    "        face = d[\"faces\"][0]\n",
    "        # print(face)\n",
    "        age = face['attributes'][\"age\"][\"value\"]\n",
    "        gender = face['attributes'][\"gender\"][\"value\"]\n",
    "\n",
    "#         if age < 15:\n",
    "#             age_range = \"<15\"\n",
    "        if age >= 15 and age < 30:\n",
    "            age_range = \">=15, <30\"\n",
    "        elif age >= 30 and age < 50:\n",
    "            age_range = \">=30, <50\"\n",
    "        elif age >= 50 and age < 65:\n",
    "            age_range = \">=50, <65\"\n",
    "        elif age >= 65:\n",
    "            age_range = \">=65\"\n",
    "        \n",
    "        users.append({\"uid\": d[\"id\"], \"age\": age, \"gender\": gender, \"age_range\": age_range})\n",
    "        \n",
    "users = pd.DataFrame(users).set_index(\"uid\")\n",
    "users = users[~users.index.duplicated(keep='first')]\n",
    "len(users)"
   ]
  },
  {
   "cell_type": "code",
   "execution_count": 16,
   "metadata": {},
   "outputs": [
    {
     "data": {
      "text/plain": [
       "635633"
      ]
     },
     "execution_count": 16,
     "metadata": {},
     "output_type": "execute_result"
    }
   ],
   "source": [
    "# users.to_pickle(\"disk/user_profile/02-07-users-in-Argentina-face.pl\")\n",
    "# users = pd.read_pickle(\"disk/user_profile/02-07-users-not-outsides-Argentina-face.pl\")\n",
    "users = pd.read_pickle(\"disk/user_profile/02-07-union-users.pl\")\n",
    "\n",
    "# users.head()\n",
    "len(users)"
   ]
  },
  {
   "cell_type": "code",
   "execution_count": 9,
   "metadata": {},
   "outputs": [],
   "source": [
    "users.to_csv(\"disk/hernan/user-demographics.csv\")"
   ]
  },
  {
   "cell_type": "code",
   "execution_count": null,
   "metadata": {},
   "outputs": [],
   "source": [
    "dt = \"2019-10-27\"\n",
    "opinion_tweets = json.load(open(f\"disk/cul_from_March_1_v2/{dt}-0.66.txt\"))\n",
    "und_users = json.load(open(f\"disk/homo_users/{dt}-undecided-0.66.json\"))\n",
    "# unc_users = json.load(open(f\"disk/homo_users/{dt}-unclassified-0.66.json\"))\n",
    "\n",
    "un_FF = set(und_users[\"FF\"])\n",
    "un_MP = set(und_users[\"MP\"])\n",
    "un_UN = set(und_users[\"UN\"])\n",
    "\n",
    "# unc_FF = set(unc_users[\"FF\"])\n",
    "# unc_MP = set(unc_users[\"MP\"])\n",
    "# unc_UN = set(unc_users[\"UN\"])\n",
    "\n",
    "# un_FF = set(undecided_users[\"FF\"]) | set(unclassified_users[\"FF\"])\n",
    "# un_MP = set(undecided_users[\"MP\"]) | set(unclassified_users[\"MP\"])\n",
    "# un_MP = set(undecided_users[\"MP\"]) | set(unclassified_users[\"MP\"])\n",
    "\n",
    "users_opinion = []\n",
    "\n",
    "for uid, v in tqdm(opinion_tweets.items()):\n",
    "    uid = int(uid)\n",
    "    if v[\"I\"] > 0:\n",
    "        continue\n",
    "    if v[\"M\"] > v[\"K\"]:\n",
    "        users_opinion.append({\"uid\": int(uid), \"opinion\": \"Loyal MP\"})\n",
    "    elif v[\"M\"] < v[\"K\"]:\n",
    "        users_opinion.append({\"uid\": int(uid), \"opinion\": \"Loyal FF\"})\n",
    "    elif uid in un_FF:\n",
    "        users_opinion.append({\"uid\": int(uid), \"opinion\": \"FF (undecided)\"})\n",
    "    elif uid in un_MP:\n",
    "        users_opinion.append({\"uid\": int(uid), \"opinion\": \"MP (undecided)\"})\n",
    "    elif uid in un_UN:\n",
    "        users_opinion.append({\"uid\": int(uid), \"opinion\": \"Undecided (undecided)\"})\n",
    "    elif uid in unc_FF:\n",
    "        users_opinion.append({\"uid\": int(uid), \"opinion\": \"FF (unclassified)\"})\n",
    "    elif uid in unc_MP:\n",
    "        users_opinion.append({\"uid\": int(uid), \"opinion\": \"MP (unclassified)\"})\n",
    "    elif uid in unc_UN:\n",
    "        users_opinion.append({\"uid\": int(uid), \"opinion\": \"Unclassified (unclassified)\"})\n",
    "    else:\n",
    "        # print(uid, v)\n",
    "        users_opinion.append({\"uid\": int(uid), \"opinion\": \"Others\"})\n",
    "        \n",
    "users_opinion = pd.DataFrame(users_opinion).set_index(\"uid\")"
   ]
  },
  {
   "cell_type": "code",
   "execution_count": 2,
   "metadata": {},
   "outputs": [
    {
     "data": {
      "application/vnd.jupyter.widget-view+json": {
       "model_id": "5762b4720e0a406a8deed409847ce04a",
       "version_major": 2,
       "version_minor": 0
      },
      "text/plain": [
       "HBox(children=(IntProgress(value=0, max=2252551), HTML(value='')))"
      ]
     },
     "metadata": {},
     "output_type": "display_data"
    },
    {
     "name": "stdout",
     "output_type": "stream",
     "text": [
      "\n"
     ]
    }
   ],
   "source": [
    "dt = \"2019-10-27\"\n",
    "opinion_tweets = json.load(open(f\"disk/cul_from_March_1_v2/{dt}-0.66.txt\"))\n",
    "undecided_users = json.load(open(f\"disk/homo_users/{dt}-undecided-0.66.json\"))\n",
    "# unclassified_users = json.load(open(f\"disk/homo_users/{dt}-unclassified-0.66.json\"))\n",
    "\n",
    "un_FF = set(undecided_users[\"FF\"])\n",
    "un_MP = set(undecided_users[\"MP\"])\n",
    "# un_FF = set(undecided_users[\"FF\"]) | set(unclassified_users[\"FF\"])\n",
    "# un_MP = set(undecided_users[\"MP\"]) | set(unclassified_users[\"MP\"])\n",
    "\n",
    "users_opinion = []\n",
    "\n",
    "for uid, v in tqdm(opinion_tweets.items()):\n",
    "    if v[\"I\"] > 0:\n",
    "        continue\n",
    "    if v[\"M\"] > v[\"K\"] or int(uid) in un_MP:\n",
    "        users_opinion.append({\"uid\": int(uid), \"opinion\": \"MP\"})\n",
    "    elif v[\"M\"] < v[\"K\"] or int(uid) in un_FF:\n",
    "        users_opinion.append({\"uid\": int(uid), \"opinion\": \"FF\"})\n",
    "    else:\n",
    "        users_opinion.append({\"uid\": int(uid), \"opinion\": \"Others\"})\n",
    "        \n",
    "users_opinion = pd.DataFrame(users_opinion).set_index(\"uid\")"
   ]
  },
  {
   "cell_type": "code",
   "execution_count": 21,
   "metadata": {},
   "outputs": [
    {
     "data": {
      "application/vnd.jupyter.widget-view+json": {
       "model_id": "0405430bf24649bc85552d39aaa3bfc0",
       "version_major": 2,
       "version_minor": 0
      },
      "text/plain": [
       "HBox(children=(IntProgress(value=1, bar_style='info', max=1), HTML(value='')))"
      ]
     },
     "metadata": {},
     "output_type": "display_data"
    },
    {
     "name": "stdout",
     "output_type": "stream",
     "text": [
      "\n",
      "\n"
     ]
    }
   ],
   "source": [
    "# I want time series\n",
    "\n",
    "_users_ids = {str(u) for u in users.index}\n",
    "\n",
    "def get_users_csv(dt):\n",
    "    opinion_tweets = json.load(open(f\"disk/cul_from_March_1_v2/{dt.to_date_string()}-0.66.txt\"))\n",
    "    undecided_users = json.load(open(f\"new_disk/homo_users/{dt.to_date_string()}-undecided-0.66.json\"))\n",
    "    # unclassified_users = json.load(open(f\"disk/homo_users/{dt}-unclassified-0.66.json\"))\n",
    "\n",
    "    un_FF = set(undecided_users[\"FF\"])\n",
    "    un_MP = set(undecided_users[\"MP\"])\n",
    "    # un_FF = set(undecided_users[\"FF\"]) | set(unclassified_users[\"FF\"])\n",
    "    # un_MP = set(undecided_users[\"MP\"]) | set(unclassified_users[\"MP\"])\n",
    "\n",
    "    cnt = {\n",
    "        \"dt\": dt.to_date_string(),\n",
    "        \"K\": 0,\n",
    "        \"M\": 0,\n",
    "        \"U\": 0,\n",
    "        \"I\": 0,\n",
    "    }\n",
    "    # user-level\n",
    "    users_opinion = []\n",
    "\n",
    "    for uid, v in opinion_tweets.items():\n",
    "        if uid not in _users_ids or v[\"I\"] > 0:\n",
    "            continue\n",
    "        if v[\"M\"] > v[\"K\"] or int(uid) in un_MP:\n",
    "            users_opinion.append({\"uid\": int(uid), \"opinion\": \"MP\"})\n",
    "        elif v[\"M\"] < v[\"K\"] or int(uid) in un_FF:\n",
    "            users_opinion.append({\"uid\": int(uid), \"opinion\": \"FF\"})\n",
    "        else:\n",
    "            users_opinion.append({\"uid\": int(uid), \"opinion\": \"Others\"})\n",
    "            \n",
    "    users_opinion = pd.DataFrame(users_opinion).set_index(\"uid\")\n",
    "    users_v2 = users.join(users_opinion, how=\"inner\")\n",
    "    users_v2.to_csv(f\"new_disk/user_profile_csv/MODEL3-{dt.to_date_string()}.csv\")\n",
    "    \n",
    "\n",
    "start = pendulum.datetime(2019, 3, 2, tz=\"UTC\") # include this date\n",
    "end = pendulum.datetime(2019, 10, 27, tz=\"UTC\") # not include this date\n",
    "\n",
    "for dt in tqdm(pendulum.Period(start, end)):\n",
    "    get_users_csv(dt)"
   ]
  },
  {
   "cell_type": "code",
   "execution_count": 5,
   "metadata": {},
   "outputs": [
    {
     "name": "stdout",
     "output_type": "stream",
     "text": [
      "N of classified users: 2107468\n",
      "% of users supporting K: 49.14760271567587\n",
      "\n",
      "N of classified users with age, gender in Argentina: 329045\n",
      "% of users supporting FF: 50.974182862526405\n",
      "% of users supporting MP: 37.25083195307632\n",
      "% of users supporting Others: 11.774985184397272\n",
      "\n"
     ]
    },
    {
     "data": {
      "text/plain": [
       "329045"
      ]
     },
     "execution_count": 5,
     "metadata": {},
     "output_type": "execute_result"
    }
   ],
   "source": [
    "print(\"N of classified users:\", len(users_opinion))\n",
    "print(\"% of users supporting K:\", float(users_opinion[users_opinion[\"opinion\"] == \"FF\"].count() / users_opinion.count()) * 100)\n",
    "print()\n",
    "users_v2 = users.join(users_opinion, how=\"inner\")\n",
    "print(\"N of classified users with age, gender in Argentina:\", len(users_v2))\n",
    "print(\"% of users supporting FF:\", len(users_v2[users_v2[\"opinion\"] == \"FF\"]) / len(users_v2) * 100)\n",
    "print(\"% of users supporting MP:\", len(users_v2[users_v2[\"opinion\"] == \"MP\"]) / len(users_v2) * 100)\n",
    "print(\"% of users supporting Others:\", len(users_v2[users_v2[\"opinion\"] == \"Others\"]) / len(users_v2) * 100)\n",
    "\n",
    "print()"
   ]
  },
  {
   "cell_type": "code",
   "execution_count": null,
   "metadata": {},
   "outputs": [],
   "source": [
    "groups = users_v2.groupby([\"age_range\", \"gender\", \"opinion\"]).size()\n",
    "sum(groups)"
   ]
  },
  {
   "cell_type": "code",
   "execution_count": 70,
   "metadata": {},
   "outputs": [],
   "source": [
    "groups.to_excel(\"data/results-of-subcategories-20191011.xlsx\")"
   ]
  },
  {
   "cell_type": "code",
   "execution_count": 33,
   "metadata": {},
   "outputs": [],
   "source": [
    "def rescale(groups, show=False):\n",
    "    \"\"\"\n",
    "    From census\n",
    "    female 15-29    0.167\n",
    "    female 30-49    0.176\n",
    "    female 50-64    0.097\n",
    "    female >=65     0.081\n",
    "\n",
    "    male 15-29      0.167\n",
    "    male 30-49      0.168\n",
    "    male 50-64      0.088\n",
    "    male >=65       0.056\n",
    "    \"\"\"\n",
    "#     print(\"After rescaling:\")\n",
    "    reweighted_FF = groups[\">=16, <30\"][\"Female\"][\"FF\"] / sum(groups[\">=16, <30\"][\"Female\"]) * 0.167 \\\n",
    "    + groups[\">=16, <30\"][\"Male\"][\"FF\"] / sum(groups[\">=16, <30\"][\"Male\"]) * 0.167 \\\n",
    "    + groups[\">=30, <50\"][\"Female\"][\"FF\"] / sum(groups[\">=30, <50\"][\"Female\"]) * 0.176 \\\n",
    "    + groups[\">=30, <50\"][\"Male\"][\"FF\"] / sum(groups[\">=30, <50\"][\"Male\"]) * 0.168 \\\n",
    "    + groups[\">=50, <65\"][\"Female\"][\"FF\"] / sum(groups[\">=50, <65\"][\"Female\"]) * 0.097 \\\n",
    "    + groups[\">=50, <65\"][\"Male\"][\"FF\"] / sum(groups[\">=50, <65\"][\"Male\"]) * 0.088 \\\n",
    "    + groups[\">=65\"][\"Female\"][\"FF\"] / sum(groups[\">=65\"][\"Female\"]) * 0.081 \\\n",
    "    + groups[\">=65\"][\"Male\"][\"FF\"] / sum(groups[\">=65\"][\"Male\"]) * 0.056 \\\n",
    "\n",
    "    reweighted_MP = groups[\">=16, <30\"][\"Female\"][\"MP\"] / sum(groups[\">=16, <30\"][\"Female\"]) * 0.167 \\\n",
    "    + groups[\">=16, <30\"][\"Male\"][\"MP\"] / sum(groups[\">=16, <30\"][\"Male\"]) * 0.167 \\\n",
    "    + groups[\">=30, <50\"][\"Female\"][\"MP\"] / sum(groups[\">=30, <50\"][\"Female\"]) * 0.176 \\\n",
    "    + groups[\">=30, <50\"][\"Male\"][\"MP\"] / sum(groups[\">=30, <50\"][\"Male\"]) * 0.168 \\\n",
    "    + groups[\">=50, <65\"][\"Female\"][\"MP\"] / sum(groups[\">=50, <65\"][\"Female\"]) * 0.097 \\\n",
    "    + groups[\">=50, <65\"][\"Male\"][\"MP\"] / sum(groups[\">=50, <65\"][\"Male\"]) * 0.088 \\\n",
    "    + groups[\">=65\"][\"Female\"][\"MP\"] / sum(groups[\">=65\"][\"Female\"]) * 0.081 \\\n",
    "    + groups[\">=65\"][\"Male\"][\"MP\"] / sum(groups[\">=65\"][\"Male\"]) * 0.056 \\\n",
    "\n",
    "    reweighted_Others = groups[\">=16, <30\"][\"Female\"][\"Others\"] / sum(groups[\">=16, <30\"][\"Female\"]) * 0.167 \\\n",
    "    + groups[\">=16, <30\"][\"Male\"][\"Others\"] / sum(groups[\">=16, <30\"][\"Male\"]) * 0.167 \\\n",
    "    + groups[\">=30, <50\"][\"Female\"][\"Others\"] / sum(groups[\">=30, <50\"][\"Female\"]) * 0.176 \\\n",
    "    + groups[\">=30, <50\"][\"Male\"][\"Others\"] / sum(groups[\">=30, <50\"][\"Male\"]) * 0.168 \\\n",
    "    + groups[\">=50, <65\"][\"Female\"][\"Others\"] / sum(groups[\">=50, <65\"][\"Female\"]) * 0.097 \\\n",
    "    + groups[\">=50, <65\"][\"Male\"][\"Others\"] / sum(groups[\">=50, <65\"][\"Male\"]) * 0.088 \\\n",
    "    + groups[\">=65\"][\"Female\"][\"Others\"] / sum(groups[\">=65\"][\"Female\"]) * 0.081 \\\n",
    "    + groups[\">=65\"][\"Male\"][\"Others\"] / sum(groups[\">=65\"][\"Male\"]) * 0.056 \\\n",
    "\n",
    "    if show:\n",
    "        print(\"% of users supporting FF:\", reweighted_FF * 100)\n",
    "        print(\"% of users supporting MP:\", reweighted_MP * 100)\n",
    "        print(\"% of users supporting 3rd party:\", reweighted_Others * 100)\n",
    "    \n",
    "    return reweighted_FF * 100, reweighted_MP * 100, reweighted_Others * 100"
   ]
  },
  {
   "cell_type": "code",
   "execution_count": 40,
   "metadata": {},
   "outputs": [
    {
     "data": {
      "application/vnd.jupyter.widget-view+json": {
       "model_id": "f1e532eb0dc94befb72784ddbeec3df3",
       "version_major": 2,
       "version_minor": 0
      },
      "text/plain": [
       "HBox(children=(IntProgress(value=1, bar_style='info', max=1), HTML(value='')))"
      ]
     },
     "metadata": {},
     "output_type": "display_data"
    },
    {
     "name": "stdout",
     "output_type": "stream",
     "text": [
      "\n"
     ]
    }
   ],
   "source": [
    "start = pendulum.datetime(2019, 3, 2, tz=\"UTC\") # include this date\n",
    "end = pendulum.datetime(2019, 10, 27, tz=\"UTC\") # not include this date\n",
    "\n",
    "rsts = []\n",
    "for dt in tqdm(pendulum.Period(start, end)):\n",
    "    users_v2 = pd.read_csv(f\"new_disk/user_profile_csv/MODEL3-{dt.to_date_string()}.csv\")\n",
    "    groups = users_v2.groupby([\"age_range\", \"gender\", \"opinion\"]).size()\n",
    "    dt = dt.to_date_string()\n",
    "    FF, MP, OT = rescale(groups)\n",
    "    # DateTime\tFernandez (AI)\tMacri (AI)\tOthers (AI)\tFernandez (PASO)\tMacri (PASO)\tOthers (PASO)\n",
    "    rsts.append({\"dt\": dt, \"Fernandez (AI)\": FF, \"Macri (AI)\": MP, \"Third party (AI)\": OT})\n",
    "    \n",
    "rsts = pd.DataFrame(rsts).set_index(\"dt\")\n",
    "rsts = rsts.round(1)\n",
    "rsts[\"Fernandez (official)\"] = 48.10\n",
    "rsts[\"Macri (official)\"] = 40.37\n",
    "rsts[\"Third party (official)\"] = 11.53"
   ]
  },
  {
   "cell_type": "code",
   "execution_count": 41,
   "metadata": {},
   "outputs": [],
   "source": [
    "rsts.to_csv(\"data/p1-model3.csv\")"
   ]
  },
  {
   "cell_type": "code",
   "execution_count": 19,
   "metadata": {},
   "outputs": [],
   "source": [
    "data = pd.read_csv(\"web/data/2019-05-14/p-final.csv\").set_index(\"dt\")"
   ]
  },
  {
   "cell_type": "code",
   "execution_count": 20,
   "metadata": {},
   "outputs": [
    {
     "data": {
      "text/html": [
       "<div>\n",
       "<style scoped>\n",
       "    .dataframe tbody tr th:only-of-type {\n",
       "        vertical-align: middle;\n",
       "    }\n",
       "\n",
       "    .dataframe tbody tr th {\n",
       "        vertical-align: top;\n",
       "    }\n",
       "\n",
       "    .dataframe thead th {\n",
       "        text-align: right;\n",
       "    }\n",
       "</style>\n",
       "<table border=\"1\" class=\"dataframe\">\n",
       "  <thead>\n",
       "    <tr style=\"text-align: right;\">\n",
       "      <th></th>\n",
       "      <th>Fernandez (AI)</th>\n",
       "      <th>Macri (AI)</th>\n",
       "      <th>Third party (AI)</th>\n",
       "      <th>Fernandez (official)</th>\n",
       "      <th>Macri (official)</th>\n",
       "      <th>Third party (official)</th>\n",
       "    </tr>\n",
       "    <tr>\n",
       "      <th>dt</th>\n",
       "      <th></th>\n",
       "      <th></th>\n",
       "      <th></th>\n",
       "      <th></th>\n",
       "      <th></th>\n",
       "      <th></th>\n",
       "    </tr>\n",
       "  </thead>\n",
       "  <tbody>\n",
       "    <tr>\n",
       "      <th>2019-03-02</th>\n",
       "      <td>49.5</td>\n",
       "      <td>34.2</td>\n",
       "      <td>16.3</td>\n",
       "      <td>48.1</td>\n",
       "      <td>40.37</td>\n",
       "      <td>11.53</td>\n",
       "    </tr>\n",
       "    <tr>\n",
       "      <th>2019-03-03</th>\n",
       "      <td>47.1</td>\n",
       "      <td>37.2</td>\n",
       "      <td>15.7</td>\n",
       "      <td>48.1</td>\n",
       "      <td>40.37</td>\n",
       "      <td>11.53</td>\n",
       "    </tr>\n",
       "    <tr>\n",
       "      <th>2019-03-04</th>\n",
       "      <td>40.6</td>\n",
       "      <td>43.4</td>\n",
       "      <td>15.9</td>\n",
       "      <td>48.1</td>\n",
       "      <td>40.37</td>\n",
       "      <td>11.53</td>\n",
       "    </tr>\n",
       "    <tr>\n",
       "      <th>2019-03-05</th>\n",
       "      <td>39.9</td>\n",
       "      <td>43.8</td>\n",
       "      <td>16.3</td>\n",
       "      <td>48.1</td>\n",
       "      <td>40.37</td>\n",
       "      <td>11.53</td>\n",
       "    </tr>\n",
       "    <tr>\n",
       "      <th>2019-03-06</th>\n",
       "      <td>40.3</td>\n",
       "      <td>43.4</td>\n",
       "      <td>16.3</td>\n",
       "      <td>48.1</td>\n",
       "      <td>40.37</td>\n",
       "      <td>11.53</td>\n",
       "    </tr>\n",
       "  </tbody>\n",
       "</table>\n",
       "</div>"
      ],
      "text/plain": [
       "            Fernandez (AI)  Macri (AI)  Third party (AI)  \\\n",
       "dt                                                         \n",
       "2019-03-02            49.5        34.2              16.3   \n",
       "2019-03-03            47.1        37.2              15.7   \n",
       "2019-03-04            40.6        43.4              15.9   \n",
       "2019-03-05            39.9        43.8              16.3   \n",
       "2019-03-06            40.3        43.4              16.3   \n",
       "\n",
       "            Fernandez (official)  Macri (official)  Third party (official)  \n",
       "dt                                                                          \n",
       "2019-03-02                  48.1             40.37                   11.53  \n",
       "2019-03-03                  48.1             40.37                   11.53  \n",
       "2019-03-04                  48.1             40.37                   11.53  \n",
       "2019-03-05                  48.1             40.37                   11.53  \n",
       "2019-03-06                  48.1             40.37                   11.53  "
      ]
     },
     "execution_count": 20,
     "metadata": {},
     "output_type": "execute_result"
    }
   ],
   "source": [
    "data.head()"
   ]
  },
  {
   "cell_type": "code",
   "execution_count": 23,
   "metadata": {},
   "outputs": [],
   "source": [
    "data = data[[\"Fernandez (AI)\", \"Macri (AI)\", \"Third party (AI)\"]]\n",
    "data[\"Fernandez (official)\"] = 47.8\n",
    "data[\"Macri (official)\"] = 30.8\n",
    "data[\"Third party (official)\"] = 21.4\n",
    "data.to_csv(\"web/data/2019-05-14/p-final-2.csv\")"
   ]
  },
  {
   "cell_type": "code",
   "execution_count": 24,
   "metadata": {},
   "outputs": [
    {
     "data": {
      "text/html": [
       "<div>\n",
       "<style scoped>\n",
       "    .dataframe tbody tr th:only-of-type {\n",
       "        vertical-align: middle;\n",
       "    }\n",
       "\n",
       "    .dataframe tbody tr th {\n",
       "        vertical-align: top;\n",
       "    }\n",
       "\n",
       "    .dataframe thead th {\n",
       "        text-align: right;\n",
       "    }\n",
       "</style>\n",
       "<table border=\"1\" class=\"dataframe\">\n",
       "  <thead>\n",
       "    <tr style=\"text-align: right;\">\n",
       "      <th></th>\n",
       "      <th>Fernandez (AI)</th>\n",
       "      <th>Macri (AI)</th>\n",
       "      <th>Third party (AI)</th>\n",
       "      <th>Fernandez (official)</th>\n",
       "      <th>Macri (official)</th>\n",
       "      <th>Third party (official)</th>\n",
       "    </tr>\n",
       "    <tr>\n",
       "      <th>dt</th>\n",
       "      <th></th>\n",
       "      <th></th>\n",
       "      <th></th>\n",
       "      <th></th>\n",
       "      <th></th>\n",
       "      <th></th>\n",
       "    </tr>\n",
       "  </thead>\n",
       "  <tbody>\n",
       "    <tr>\n",
       "      <th>2019-03-02</th>\n",
       "      <td>49.5</td>\n",
       "      <td>34.2</td>\n",
       "      <td>16.3</td>\n",
       "      <td>47.8</td>\n",
       "      <td>30.8</td>\n",
       "      <td>21.4</td>\n",
       "    </tr>\n",
       "    <tr>\n",
       "      <th>2019-03-03</th>\n",
       "      <td>47.1</td>\n",
       "      <td>37.2</td>\n",
       "      <td>15.7</td>\n",
       "      <td>47.8</td>\n",
       "      <td>30.8</td>\n",
       "      <td>21.4</td>\n",
       "    </tr>\n",
       "    <tr>\n",
       "      <th>2019-03-04</th>\n",
       "      <td>40.6</td>\n",
       "      <td>43.4</td>\n",
       "      <td>15.9</td>\n",
       "      <td>47.8</td>\n",
       "      <td>30.8</td>\n",
       "      <td>21.4</td>\n",
       "    </tr>\n",
       "    <tr>\n",
       "      <th>2019-03-05</th>\n",
       "      <td>39.9</td>\n",
       "      <td>43.8</td>\n",
       "      <td>16.3</td>\n",
       "      <td>47.8</td>\n",
       "      <td>30.8</td>\n",
       "      <td>21.4</td>\n",
       "    </tr>\n",
       "    <tr>\n",
       "      <th>2019-03-06</th>\n",
       "      <td>40.3</td>\n",
       "      <td>43.4</td>\n",
       "      <td>16.3</td>\n",
       "      <td>47.8</td>\n",
       "      <td>30.8</td>\n",
       "      <td>21.4</td>\n",
       "    </tr>\n",
       "  </tbody>\n",
       "</table>\n",
       "</div>"
      ],
      "text/plain": [
       "            Fernandez (AI)  Macri (AI)  Third party (AI)  \\\n",
       "dt                                                         \n",
       "2019-03-02            49.5        34.2              16.3   \n",
       "2019-03-03            47.1        37.2              15.7   \n",
       "2019-03-04            40.6        43.4              15.9   \n",
       "2019-03-05            39.9        43.8              16.3   \n",
       "2019-03-06            40.3        43.4              16.3   \n",
       "\n",
       "            Fernandez (official)  Macri (official)  Third party (official)  \n",
       "dt                                                                          \n",
       "2019-03-02                  47.8              30.8                    21.4  \n",
       "2019-03-03                  47.8              30.8                    21.4  \n",
       "2019-03-04                  47.8              30.8                    21.4  \n",
       "2019-03-05                  47.8              30.8                    21.4  \n",
       "2019-03-06                  47.8              30.8                    21.4  "
      ]
     },
     "execution_count": 24,
     "metadata": {},
     "output_type": "execute_result"
    }
   ],
   "source": [
    "data.head()"
   ]
  },
  {
   "cell_type": "code",
   "execution_count": 71,
   "metadata": {},
   "outputs": [
    {
     "name": "stdout",
     "output_type": "stream",
     "text": [
      "After rescaling:\n",
      "Loyal FF \t 0.4660027276101667\n",
      "Loyal MP \t 0.3644810269438905\n",
      "FF (undecided) \t 0.03490840204688657\n",
      "MP (undecided) \t 0.018711678330244896\n",
      "Undecided (undecided) \t 0.029592550396506125\n",
      "FF (unclassified) \t 0.024392031903348224\n",
      "MP (unclassified) \t 0.011136436360137057\n",
      "Unclassified (unclassified) \t 0.050775146408819874\n"
     ]
    }
   ],
   "source": [
    "\"\"\"\n",
    "From census\n",
    "female 15-29    0.167\n",
    "female 30-49    0.176\n",
    "female 50-64    0.097\n",
    "female >=65     0.081\n",
    "\n",
    "male 15-29      0.167\n",
    "male 30-49      0.168\n",
    "male 50-64      0.088\n",
    "male >=65       0.056\n",
    "\"\"\"\n",
    "print(\"After rescaling:\")\n",
    " \n",
    "opinions = [\"Loyal FF\", \"Loyal MP\", \n",
    "           \"FF (undecided)\", \"MP (undecided)\", \"Undecided (undecided)\",\n",
    "           \"FF (unclassified)\", \"MP (unclassified)\", \"Unclassified (unclassified)\"]\n",
    "\n",
    "for opinion in opinions:\n",
    "    reweighted_rst = groups[\">=16, <30\"][\"Female\"][opinion] / sum(groups[\">=16, <30\"][\"Female\"]) * 0.167 \\\n",
    "    + groups[\">=16, <30\"][\"Male\"][opinion] / sum(groups[\">=16, <30\"][\"Male\"]) * 0.167 \\\n",
    "    + groups[\">=30, <50\"][\"Female\"][opinion] / sum(groups[\">=30, <50\"][\"Female\"]) * 0.176 \\\n",
    "    + groups[\">=30, <50\"][\"Male\"][opinion] / sum(groups[\">=30, <50\"][\"Male\"]) * 0.168 \\\n",
    "    + groups[\">=50, <65\"][\"Female\"][opinion] / sum(groups[\">=50, <65\"][\"Female\"]) * 0.097 \\\n",
    "    + groups[\">=50, <65\"][\"Male\"][opinion] / sum(groups[\">=50, <65\"][\"Male\"]) * 0.088 \\\n",
    "    + groups[\">=65\"][\"Female\"][opinion] / sum(groups[\">=65\"][\"Female\"]) * 0.081 \\\n",
    "    + groups[\">=65\"][\"Male\"][opinion] / sum(groups[\">=65\"][\"Male\"]) * 0.056 \\\n",
    "\n",
    "    print(opinion, '\\t', reweighted_rst)"
   ]
  },
  {
   "cell_type": "code",
   "execution_count": 48,
   "metadata": {},
   "outputs": [
    {
     "data": {
      "image/png": "[encoded data removed]",
      "text/plain": [
       "<Figure size 1008x432 with 1 Axes>"
      ]
     },
     "metadata": {},
     "output_type": "display_data"
    }
   ],
   "source": [
    "Kc = \"#00c8ff\";\n",
    "Mc = \"#ff3700\";\n",
    "sns.set(style=\"darkgrid\", font_scale=1.2)\n",
    "plt.style.use('fivethirtyeight')\n",
    "plt.figure(figsize=(14, 6))\n",
    "groups.plot.bar(color=[Kc, Mc, \"grey\"])\n",
    "plt.xlabel(\"\")\n",
    "plt.savefig(\"fig/different_users-1011.png\", bbox_inches = 'tight', dpi=300)"
   ]
  },
  {
   "cell_type": "code",
   "execution_count": 19,
   "metadata": {},
   "outputs": [
    {
     "data": {
      "text/plain": [
       "Text(0.5, 0, '')"
      ]
     },
     "execution_count": 19,
     "metadata": {},
     "output_type": "execute_result"
    },
    {
     "data": {
      "image/png": "[encoded data removed]",
      "text/plain": [
       "<Figure size 864x432 with 1 Axes>"
      ]
     },
     "metadata": {},
     "output_type": "display_data"
    }
   ],
   "source": [
    "groups = users_v2.groupby([\"age_range\", \"gender\"]).size()\n",
    "groups\n",
    "\n",
    "sns.set(style=\"white\", font_scale=1.2)\n",
    "# plt.style.use('fivethirtyeight')\n",
    "plt.figure(figsize=(12, 6))\n",
    "groups.plot.bar()\n",
    "plt.xlabel(\"\")\n",
    "# plt.savefig(\"fig/chart22.pdf\", bbox_inches = 'tight', dpi=300)"
   ]
  },
  {
   "cell_type": "code",
   "execution_count": 20,
   "metadata": {},
   "outputs": [
    {
     "data": {
      "image/png": "[encoded data removed]",
      "text/plain": [
       "<Figure size 576x288 with 1 Axes>"
      ]
     },
     "metadata": {},
     "output_type": "display_data"
    }
   ],
   "source": [
    "cen = {\n",
    "    \"category\": [\"female 16-29\", \"male 16-29\", \n",
    "                 \"female 30-49\", \"male 30-49\", \n",
    "                 \"female 50-64\", \"male 50-64\", \n",
    "                 \"female >=65\", \"male >=65\"],\n",
    "    \"n\": [\n",
    "          groups[\">=16, <30\"][\"Female\"], groups[\">=16, <30\"][\"Male\"],\n",
    "          groups[\">=30, <50\"][\"Female\"], groups[\">=30, <50\"][\"Male\"],\n",
    "          groups[\">=50, <65\"][\"Female\"], groups[\">=50, <65\"][\"Male\"], \n",
    "          groups[\">=65\"][\"Female\"], groups[\">=65\"][\"Male\"] \n",
    "        ]\n",
    "}\n",
    "cen = pd.DataFrame(cen).set_index(\"category\")\n",
    "cen[\"percent\"] = cen / cen.sum()\n",
    "plt.figure(figsize=(8, 4))\n",
    "cen[\"percent\"].plot.bar()\n",
    "plt.xticks(rotation=45)\n",
    "plt.xlabel(\"\")\n",
    "plt.ylabel(\"Proportion\")\n",
    "plt.title(\"Twitter\")\n",
    "plt.savefig(\"fig/chart22-twitter.pdf\", dpi=300, bbox_inches = 'tight')"
   ]
  },
  {
   "cell_type": "code",
   "execution_count": 7,
   "metadata": {},
   "outputs": [
    {
     "data": {
      "application/vnd.jupyter.widget-view+json": {
       "model_id": "0ae57351c42a417a93e308d34d375e54",
       "version_major": 2,
       "version_minor": 0
      },
      "text/plain": [
       "HBox(children=(IntProgress(value=1, bar_style='info', max=1), HTML(value='')))"
      ]
     },
     "metadata": {},
     "output_type": "display_data"
    },
    {
     "name": "stdout",
     "output_type": "stream",
     "text": [
      "\n"
     ]
    },
    {
     "data": {
      "text/plain": [
       "843686"
      ]
     },
     "execution_count": 7,
     "metadata": {},
     "output_type": "execute_result"
    }
   ],
   "source": [
    "users = []\n",
    "\n",
    "import unicodedata\n",
    "\n",
    "def normalize_spanish(text):\n",
    "    return unicodedata.normalize('NFKD', text).encode('ASCII', 'ignore').decode().lower()\n",
    "\n",
    "for line in tqdm(open(\"disk/user_profile/02-07-image.txt\")):\n",
    "    d = json.loads(line.strip())\n",
    "    if in_Argentina(d):\n",
    "        users.append({\"uid\": d[\"id\"]})\n",
    "    face = d[\"faces\"][0]\n",
    "    # print(face)\n",
    "    age = face['attributes'][\"age\"][\"value\"]\n",
    "    gender = face['attributes'][\"gender\"][\"value\"]\n",
    "    users.append({\"uid\": d[\"id\"], \"age\": age, \"gender\": gender})\n",
    "        \n",
    "users = pd.DataFrame(users).set_index(\"uid\")\n",
    "users = users[~users.index.duplicated(keep='first')]\n",
    "len(users)"
   ]
  },
  {
   "cell_type": "code",
   "execution_count": null,
   "metadata": {},
   "outputs": [],
   "source": [
    "users.to_pickle(\"disk/user_profile/02-07-users-in-Argentina.pl\")"
   ]
  },
  {
   "cell_type": "code",
   "execution_count": 4,
   "metadata": {},
   "outputs": [
    {
     "data": {
      "application/vnd.jupyter.widget-view+json": {
       "model_id": "e7eb636a348b4a2bbfc138e576b84593",
       "version_major": 2,
       "version_minor": 0
      },
      "text/plain": [
       "HBox(children=(IntProgress(value=1, bar_style='info', max=1), HTML(value='')))"
      ]
     },
     "metadata": {},
     "output_type": "display_data"
    },
    {
     "name": "stdout",
     "output_type": "stream",
     "text": [
      "\n"
     ]
    },
    {
     "data": {
      "text/plain": [
       "2828197"
      ]
     },
     "execution_count": 4,
     "metadata": {},
     "output_type": "execute_result"
    }
   ],
   "source": [
    "users = []\n",
    "\n",
    "import unicodedata\n",
    "\n",
    "def normalize_spanish(text):\n",
    "    return unicodedata.normalize('NFKD', text).encode('ASCII', 'ignore').decode().lower()\n",
    "\n",
    "for line in tqdm(open(\"disk/user_profile/02-07-all.txt\")):\n",
    "    d = json.loads(line.strip())\n",
    "    if in_Argentina(d):\n",
    "        users.append({\"uid\": d[\"id\"]})\n",
    "        \n",
    "users = pd.DataFrame(users).set_index(\"uid\")\n",
    "users = users[~users.index.duplicated(keep='first')]\n",
    "len(users)"
   ]
  },
  {
   "cell_type": "code",
   "execution_count": 6,
   "metadata": {},
   "outputs": [],
   "source": [
    "users.to_pickle(\"disk/user_profile/02-07-users-in-Argentina.pl\")"
   ]
  },
  {
   "cell_type": "code",
   "execution_count": 63,
   "metadata": {},
   "outputs": [
    {
     "data": {
      "application/vnd.jupyter.widget-view+json": {
       "model_id": "ce30b61425ee49af94f53aa1bce1fae6",
       "version_major": 2,
       "version_minor": 0
      },
      "text/plain": [
       "HBox(children=(IntProgress(value=1, bar_style='info', max=1), HTML(value='')))"
      ]
     },
     "metadata": {},
     "output_type": "display_data"
    },
    {
     "data": {
      "text/plain": [
       "5600442"
      ]
     },
     "execution_count": 63,
     "metadata": {},
     "output_type": "execute_result"
    }
   ],
   "source": [
    "users = []\n",
    "\n",
    "for line in tqdm(open(\"disk/user_profile/02-07-all.txt\")):\n",
    "    d = json.loads(line.strip())\n",
    "    users.append({\"uid\": d[\"id\"], \"location\": get_country(d)})\n",
    "        \n",
    "users = pd.DataFrame(users).set_index(\"uid\")\n",
    "users = users[~users.index.duplicated(keep='first')]\n",
    "len(users)"
   ]
  },
  {
   "cell_type": "code",
   "execution_count": null,
   "metadata": {},
   "outputs": [],
   "source": [
    "users.location.value_counts()"
   ]
  },
  {
   "cell_type": "markdown",
   "metadata": {},
   "source": [
    "## 合并两个处理好的文件"
   ]
  },
  {
   "cell_type": "code",
   "execution_count": 27,
   "metadata": {},
   "outputs": [
    {
     "data": {
      "application/vnd.jupyter.widget-view+json": {
       "model_id": "d9c7aaf79fb34811844e7efa86d5d888",
       "version_major": 2,
       "version_minor": 0
      },
      "text/plain": [
       "HBox(children=(IntProgress(value=1, bar_style='info', max=1), HTML(value='')))"
      ]
     },
     "metadata": {},
     "output_type": "display_data"
    },
    {
     "name": "stdout",
     "output_type": "stream",
     "text": [
      "\n"
     ]
    },
    {
     "data": {
      "application/vnd.jupyter.widget-view+json": {
       "model_id": "6edbf14068434786b9a693c877b375ba",
       "version_major": 2,
       "version_minor": 0
      },
      "text/plain": [
       "HBox(children=(IntProgress(value=1, bar_style='info', max=1), HTML(value='')))"
      ]
     },
     "metadata": {},
     "output_type": "display_data"
    },
    {
     "name": "stdout",
     "output_type": "stream",
     "text": [
      "\n"
     ]
    },
    {
     "data": {
      "application/vnd.jupyter.widget-view+json": {
       "model_id": "68b2b94c53b44d0b92191b68fe445492",
       "version_major": 2,
       "version_minor": 0
      },
      "text/plain": [
       "HBox(children=(IntProgress(value=1, bar_style='info', max=1), HTML(value='')))"
      ]
     },
     "metadata": {},
     "output_type": "display_data"
    },
    {
     "name": "stdout",
     "output_type": "stream",
     "text": [
      "\n"
     ]
    }
   ],
   "source": [
    "users = []\n",
    "\n",
    "for line in tqdm(open(\"disk/user_profile/0731-week-image.txt\")):\n",
    "    d = json.loads(line.strip())\n",
    "    if not outside_Argentina(d):\n",
    "#     if in_Argentina(d):\n",
    "        face = d[\"faces\"][0]\n",
    "        # print(face)\n",
    "        age = face['attributes'][\"age\"][\"value\"]\n",
    "        gender = face['attributes'][\"gender\"][\"value\"]\n",
    "        if age >= 16 and age < 30:\n",
    "            age_range = \">=16, <30\"\n",
    "        elif age >= 30 and age < 50:\n",
    "            age_range = \">=30, <50\"\n",
    "        elif age >= 50 and age < 65:\n",
    "            age_range = \">=50, <65\"\n",
    "        elif age >= 65:\n",
    "            age_range = \">=65\"\n",
    "        users.append({\"uid\": d[\"id\"], \"age\": age, \"gender\": gender, \"age_range\": age_range})  \n",
    "\n",
    "for line in tqdm(open(\"disk/user_profile/02-07-image.txt\")):\n",
    "    d = json.loads(line.strip())\n",
    "    if not outside_Argentina(d):\n",
    "#     if in_Argentina(d):\n",
    "        face = d[\"faces\"][0]\n",
    "        # print(face)\n",
    "        age = face['attributes'][\"age\"][\"value\"]\n",
    "        gender = face['attributes'][\"gender\"][\"value\"]\n",
    "        if age >= 16 and age < 30:\n",
    "            age_range = \">=16, <30\"\n",
    "        elif age >= 30 and age < 50:\n",
    "            age_range = \">=30, <50\"\n",
    "        elif age >= 50 and age < 65:\n",
    "            age_range = \">=50, <65\"\n",
    "        elif age >= 65:\n",
    "            age_range = \">=65\"\n",
    "        users.append({\"uid\": d[\"id\"], \"age\": age, \"gender\": gender, \"age_range\": age_range})\n",
    "        \n",
    "        \n",
    "for line in tqdm(open(\"new_disk/02-10-user-profile-face.lj\")):\n",
    "    d = json.loads(line.strip())\n",
    "    if not outside_Argentina(d):\n",
    "#     if in_Argentina(d):\n",
    "        face = d[\"faces\"][0]\n",
    "        # print(face)\n",
    "        age = face['attributes'][\"age\"][\"value\"]\n",
    "        gender = face['attributes'][\"gender\"][\"value\"]\n",
    "        if age >= 16 and age < 30:\n",
    "            age_range = \">=16, <30\"\n",
    "        elif age >= 30 and age < 50:\n",
    "            age_range = \">=30, <50\"\n",
    "        elif age >= 50 and age < 65:\n",
    "            age_range = \">=50, <65\"\n",
    "        elif age >= 65:\n",
    "            age_range = \">=65\"\n",
    "        users.append({\"uid\": d[\"id\"], \"age\": age, \"gender\": gender, \"age_range\": age_range})\n",
    "        \n",
    "        \n",
    "users = pd.DataFrame(users).set_index(\"uid\")\n",
    "users = users[~users.index.duplicated(keep='first')]"
   ]
  },
  {
   "cell_type": "code",
   "execution_count": 28,
   "metadata": {},
   "outputs": [
    {
     "data": {
      "text/html": [
       "<div>\n",
       "<style scoped>\n",
       "    .dataframe tbody tr th:only-of-type {\n",
       "        vertical-align: middle;\n",
       "    }\n",
       "\n",
       "    .dataframe tbody tr th {\n",
       "        vertical-align: top;\n",
       "    }\n",
       "\n",
       "    .dataframe thead th {\n",
       "        text-align: right;\n",
       "    }\n",
       "</style>\n",
       "<table border=\"1\" class=\"dataframe\">\n",
       "  <thead>\n",
       "    <tr style=\"text-align: right;\">\n",
       "      <th></th>\n",
       "      <th>age</th>\n",
       "      <th>age_range</th>\n",
       "      <th>gender</th>\n",
       "    </tr>\n",
       "    <tr>\n",
       "      <th>uid</th>\n",
       "      <th></th>\n",
       "      <th></th>\n",
       "      <th></th>\n",
       "    </tr>\n",
       "  </thead>\n",
       "  <tbody>\n",
       "    <tr>\n",
       "      <th>3754809437</th>\n",
       "      <td>53</td>\n",
       "      <td>&gt;=50, &lt;65</td>\n",
       "      <td>Female</td>\n",
       "    </tr>\n",
       "    <tr>\n",
       "      <th>2564582235</th>\n",
       "      <td>34</td>\n",
       "      <td>&gt;=30, &lt;50</td>\n",
       "      <td>Male</td>\n",
       "    </tr>\n",
       "    <tr>\n",
       "      <th>3252079467</th>\n",
       "      <td>50</td>\n",
       "      <td>&gt;=50, &lt;65</td>\n",
       "      <td>Female</td>\n",
       "    </tr>\n",
       "    <tr>\n",
       "      <th>510764754</th>\n",
       "      <td>43</td>\n",
       "      <td>&gt;=30, &lt;50</td>\n",
       "      <td>Female</td>\n",
       "    </tr>\n",
       "    <tr>\n",
       "      <th>3082038490</th>\n",
       "      <td>29</td>\n",
       "      <td>&gt;=16, &lt;30</td>\n",
       "      <td>Male</td>\n",
       "    </tr>\n",
       "    <tr>\n",
       "      <th>4582409325</th>\n",
       "      <td>41</td>\n",
       "      <td>&gt;=30, &lt;50</td>\n",
       "      <td>Male</td>\n",
       "    </tr>\n",
       "    <tr>\n",
       "      <th>172467425</th>\n",
       "      <td>40</td>\n",
       "      <td>&gt;=30, &lt;50</td>\n",
       "      <td>Male</td>\n",
       "    </tr>\n",
       "    <tr>\n",
       "      <th>2657714564</th>\n",
       "      <td>73</td>\n",
       "      <td>&gt;=65</td>\n",
       "      <td>Male</td>\n",
       "    </tr>\n",
       "    <tr>\n",
       "      <th>1901219448</th>\n",
       "      <td>25</td>\n",
       "      <td>&gt;=16, &lt;30</td>\n",
       "      <td>Female</td>\n",
       "    </tr>\n",
       "    <tr>\n",
       "      <th>1129353550176378880</th>\n",
       "      <td>51</td>\n",
       "      <td>&gt;=50, &lt;65</td>\n",
       "      <td>Female</td>\n",
       "    </tr>\n",
       "    <tr>\n",
       "      <th>1944554714</th>\n",
       "      <td>65</td>\n",
       "      <td>&gt;=65</td>\n",
       "      <td>Male</td>\n",
       "    </tr>\n",
       "    <tr>\n",
       "      <th>913109594637049858</th>\n",
       "      <td>30</td>\n",
       "      <td>&gt;=30, &lt;50</td>\n",
       "      <td>Female</td>\n",
       "    </tr>\n",
       "    <tr>\n",
       "      <th>166505148</th>\n",
       "      <td>29</td>\n",
       "      <td>&gt;=16, &lt;30</td>\n",
       "      <td>Male</td>\n",
       "    </tr>\n",
       "    <tr>\n",
       "      <th>1031733446677327872</th>\n",
       "      <td>40</td>\n",
       "      <td>&gt;=30, &lt;50</td>\n",
       "      <td>Female</td>\n",
       "    </tr>\n",
       "    <tr>\n",
       "      <th>1001219797504397313</th>\n",
       "      <td>20</td>\n",
       "      <td>&gt;=16, &lt;30</td>\n",
       "      <td>Male</td>\n",
       "    </tr>\n",
       "    <tr>\n",
       "      <th>555433278</th>\n",
       "      <td>52</td>\n",
       "      <td>&gt;=50, &lt;65</td>\n",
       "      <td>Female</td>\n",
       "    </tr>\n",
       "    <tr>\n",
       "      <th>1019939509352517632</th>\n",
       "      <td>55</td>\n",
       "      <td>&gt;=50, &lt;65</td>\n",
       "      <td>Female</td>\n",
       "    </tr>\n",
       "    <tr>\n",
       "      <th>941109582398664705</th>\n",
       "      <td>61</td>\n",
       "      <td>&gt;=50, &lt;65</td>\n",
       "      <td>Female</td>\n",
       "    </tr>\n",
       "    <tr>\n",
       "      <th>1148979630050877441</th>\n",
       "      <td>53</td>\n",
       "      <td>&gt;=50, &lt;65</td>\n",
       "      <td>Female</td>\n",
       "    </tr>\n",
       "    <tr>\n",
       "      <th>764296461152641025</th>\n",
       "      <td>49</td>\n",
       "      <td>&gt;=30, &lt;50</td>\n",
       "      <td>Male</td>\n",
       "    </tr>\n",
       "    <tr>\n",
       "      <th>3109545658</th>\n",
       "      <td>25</td>\n",
       "      <td>&gt;=16, &lt;30</td>\n",
       "      <td>Female</td>\n",
       "    </tr>\n",
       "    <tr>\n",
       "      <th>4057381101</th>\n",
       "      <td>60</td>\n",
       "      <td>&gt;=50, &lt;65</td>\n",
       "      <td>Female</td>\n",
       "    </tr>\n",
       "    <tr>\n",
       "      <th>4509981496</th>\n",
       "      <td>35</td>\n",
       "      <td>&gt;=30, &lt;50</td>\n",
       "      <td>Male</td>\n",
       "    </tr>\n",
       "    <tr>\n",
       "      <th>4869210831</th>\n",
       "      <td>35</td>\n",
       "      <td>&gt;=30, &lt;50</td>\n",
       "      <td>Female</td>\n",
       "    </tr>\n",
       "    <tr>\n",
       "      <th>963191446206603264</th>\n",
       "      <td>56</td>\n",
       "      <td>&gt;=50, &lt;65</td>\n",
       "      <td>Female</td>\n",
       "    </tr>\n",
       "    <tr>\n",
       "      <th>3353414279</th>\n",
       "      <td>53</td>\n",
       "      <td>&gt;=50, &lt;65</td>\n",
       "      <td>Female</td>\n",
       "    </tr>\n",
       "    <tr>\n",
       "      <th>200782768</th>\n",
       "      <td>50</td>\n",
       "      <td>&gt;=50, &lt;65</td>\n",
       "      <td>Female</td>\n",
       "    </tr>\n",
       "    <tr>\n",
       "      <th>189140632</th>\n",
       "      <td>58</td>\n",
       "      <td>&gt;=50, &lt;65</td>\n",
       "      <td>Male</td>\n",
       "    </tr>\n",
       "    <tr>\n",
       "      <th>1068112944288985088</th>\n",
       "      <td>43</td>\n",
       "      <td>&gt;=30, &lt;50</td>\n",
       "      <td>Male</td>\n",
       "    </tr>\n",
       "    <tr>\n",
       "      <th>344978020</th>\n",
       "      <td>78</td>\n",
       "      <td>&gt;=65</td>\n",
       "      <td>Male</td>\n",
       "    </tr>\n",
       "    <tr>\n",
       "      <th>...</th>\n",
       "      <td>...</td>\n",
       "      <td>...</td>\n",
       "      <td>...</td>\n",
       "    </tr>\n",
       "    <tr>\n",
       "      <th>243890387</th>\n",
       "      <td>34</td>\n",
       "      <td>&gt;=30, &lt;50</td>\n",
       "      <td>Male</td>\n",
       "    </tr>\n",
       "    <tr>\n",
       "      <th>598749956</th>\n",
       "      <td>23</td>\n",
       "      <td>&gt;=16, &lt;30</td>\n",
       "      <td>Male</td>\n",
       "    </tr>\n",
       "    <tr>\n",
       "      <th>303478266</th>\n",
       "      <td>24</td>\n",
       "      <td>&gt;=16, &lt;30</td>\n",
       "      <td>Female</td>\n",
       "    </tr>\n",
       "    <tr>\n",
       "      <th>1132772384300326912</th>\n",
       "      <td>19</td>\n",
       "      <td>&gt;=16, &lt;30</td>\n",
       "      <td>Female</td>\n",
       "    </tr>\n",
       "    <tr>\n",
       "      <th>850044210</th>\n",
       "      <td>31</td>\n",
       "      <td>&gt;=30, &lt;50</td>\n",
       "      <td>Female</td>\n",
       "    </tr>\n",
       "    <tr>\n",
       "      <th>2750597567</th>\n",
       "      <td>24</td>\n",
       "      <td>&gt;=16, &lt;30</td>\n",
       "      <td>Female</td>\n",
       "    </tr>\n",
       "    <tr>\n",
       "      <th>1044275287981264896</th>\n",
       "      <td>32</td>\n",
       "      <td>&gt;=30, &lt;50</td>\n",
       "      <td>Male</td>\n",
       "    </tr>\n",
       "    <tr>\n",
       "      <th>2505323251</th>\n",
       "      <td>23</td>\n",
       "      <td>&gt;=16, &lt;30</td>\n",
       "      <td>Female</td>\n",
       "    </tr>\n",
       "    <tr>\n",
       "      <th>2790744532</th>\n",
       "      <td>29</td>\n",
       "      <td>&gt;=16, &lt;30</td>\n",
       "      <td>Female</td>\n",
       "    </tr>\n",
       "    <tr>\n",
       "      <th>1639150800</th>\n",
       "      <td>20</td>\n",
       "      <td>&gt;=16, &lt;30</td>\n",
       "      <td>Male</td>\n",
       "    </tr>\n",
       "    <tr>\n",
       "      <th>348856633</th>\n",
       "      <td>35</td>\n",
       "      <td>&gt;=30, &lt;50</td>\n",
       "      <td>Male</td>\n",
       "    </tr>\n",
       "    <tr>\n",
       "      <th>1141410719893790720</th>\n",
       "      <td>28</td>\n",
       "      <td>&gt;=16, &lt;30</td>\n",
       "      <td>Female</td>\n",
       "    </tr>\n",
       "    <tr>\n",
       "      <th>4754194485</th>\n",
       "      <td>32</td>\n",
       "      <td>&gt;=30, &lt;50</td>\n",
       "      <td>Male</td>\n",
       "    </tr>\n",
       "    <tr>\n",
       "      <th>808802592</th>\n",
       "      <td>48</td>\n",
       "      <td>&gt;=30, &lt;50</td>\n",
       "      <td>Male</td>\n",
       "    </tr>\n",
       "    <tr>\n",
       "      <th>227083887</th>\n",
       "      <td>23</td>\n",
       "      <td>&gt;=16, &lt;30</td>\n",
       "      <td>Male</td>\n",
       "    </tr>\n",
       "    <tr>\n",
       "      <th>866614166</th>\n",
       "      <td>24</td>\n",
       "      <td>&gt;=16, &lt;30</td>\n",
       "      <td>Female</td>\n",
       "    </tr>\n",
       "    <tr>\n",
       "      <th>803377470309330948</th>\n",
       "      <td>53</td>\n",
       "      <td>&gt;=50, &lt;65</td>\n",
       "      <td>Female</td>\n",
       "    </tr>\n",
       "    <tr>\n",
       "      <th>151231731</th>\n",
       "      <td>30</td>\n",
       "      <td>&gt;=30, &lt;50</td>\n",
       "      <td>Male</td>\n",
       "    </tr>\n",
       "    <tr>\n",
       "      <th>1008715045902143494</th>\n",
       "      <td>32</td>\n",
       "      <td>&gt;=30, &lt;50</td>\n",
       "      <td>Female</td>\n",
       "    </tr>\n",
       "    <tr>\n",
       "      <th>1706246618</th>\n",
       "      <td>21</td>\n",
       "      <td>&gt;=16, &lt;30</td>\n",
       "      <td>Female</td>\n",
       "    </tr>\n",
       "    <tr>\n",
       "      <th>827326976</th>\n",
       "      <td>60</td>\n",
       "      <td>&gt;=50, &lt;65</td>\n",
       "      <td>Male</td>\n",
       "    </tr>\n",
       "    <tr>\n",
       "      <th>981360857627222016</th>\n",
       "      <td>20</td>\n",
       "      <td>&gt;=16, &lt;30</td>\n",
       "      <td>Male</td>\n",
       "    </tr>\n",
       "    <tr>\n",
       "      <th>695291604635160576</th>\n",
       "      <td>32</td>\n",
       "      <td>&gt;=30, &lt;50</td>\n",
       "      <td>Male</td>\n",
       "    </tr>\n",
       "    <tr>\n",
       "      <th>381876523</th>\n",
       "      <td>20</td>\n",
       "      <td>&gt;=16, &lt;30</td>\n",
       "      <td>Male</td>\n",
       "    </tr>\n",
       "    <tr>\n",
       "      <th>976259996160872448</th>\n",
       "      <td>25</td>\n",
       "      <td>&gt;=16, &lt;30</td>\n",
       "      <td>Female</td>\n",
       "    </tr>\n",
       "    <tr>\n",
       "      <th>423604564</th>\n",
       "      <td>22</td>\n",
       "      <td>&gt;=16, &lt;30</td>\n",
       "      <td>Female</td>\n",
       "    </tr>\n",
       "    <tr>\n",
       "      <th>1155837240272150528</th>\n",
       "      <td>62</td>\n",
       "      <td>&gt;=50, &lt;65</td>\n",
       "      <td>Female</td>\n",
       "    </tr>\n",
       "    <tr>\n",
       "      <th>2554239598</th>\n",
       "      <td>22</td>\n",
       "      <td>&gt;=16, &lt;30</td>\n",
       "      <td>Male</td>\n",
       "    </tr>\n",
       "    <tr>\n",
       "      <th>963968960243884032</th>\n",
       "      <td>23</td>\n",
       "      <td>&gt;=16, &lt;30</td>\n",
       "      <td>Male</td>\n",
       "    </tr>\n",
       "    <tr>\n",
       "      <th>2338345339</th>\n",
       "      <td>50</td>\n",
       "      <td>&gt;=50, &lt;65</td>\n",
       "      <td>Male</td>\n",
       "    </tr>\n",
       "  </tbody>\n",
       "</table>\n",
       "<p>829697 rows × 3 columns</p>\n",
       "</div>"
      ],
      "text/plain": [
       "                     age  age_range  gender\n",
       "uid                                        \n",
       "3754809437            53  >=50, <65  Female\n",
       "2564582235            34  >=30, <50    Male\n",
       "3252079467            50  >=50, <65  Female\n",
       "510764754             43  >=30, <50  Female\n",
       "3082038490            29  >=16, <30    Male\n",
       "4582409325            41  >=30, <50    Male\n",
       "172467425             40  >=30, <50    Male\n",
       "2657714564            73       >=65    Male\n",
       "1901219448            25  >=16, <30  Female\n",
       "1129353550176378880   51  >=50, <65  Female\n",
       "1944554714            65       >=65    Male\n",
       "913109594637049858    30  >=30, <50  Female\n",
       "166505148             29  >=16, <30    Male\n",
       "1031733446677327872   40  >=30, <50  Female\n",
       "1001219797504397313   20  >=16, <30    Male\n",
       "555433278             52  >=50, <65  Female\n",
       "1019939509352517632   55  >=50, <65  Female\n",
       "941109582398664705    61  >=50, <65  Female\n",
       "1148979630050877441   53  >=50, <65  Female\n",
       "764296461152641025    49  >=30, <50    Male\n",
       "3109545658            25  >=16, <30  Female\n",
       "4057381101            60  >=50, <65  Female\n",
       "4509981496            35  >=30, <50    Male\n",
       "4869210831            35  >=30, <50  Female\n",
       "963191446206603264    56  >=50, <65  Female\n",
       "3353414279            53  >=50, <65  Female\n",
       "200782768             50  >=50, <65  Female\n",
       "189140632             58  >=50, <65    Male\n",
       "1068112944288985088   43  >=30, <50    Male\n",
       "344978020             78       >=65    Male\n",
       "...                  ...        ...     ...\n",
       "243890387             34  >=30, <50    Male\n",
       "598749956             23  >=16, <30    Male\n",
       "303478266             24  >=16, <30  Female\n",
       "1132772384300326912   19  >=16, <30  Female\n",
       "850044210             31  >=30, <50  Female\n",
       "2750597567            24  >=16, <30  Female\n",
       "1044275287981264896   32  >=30, <50    Male\n",
       "2505323251            23  >=16, <30  Female\n",
       "2790744532            29  >=16, <30  Female\n",
       "1639150800            20  >=16, <30    Male\n",
       "348856633             35  >=30, <50    Male\n",
       "1141410719893790720   28  >=16, <30  Female\n",
       "4754194485            32  >=30, <50    Male\n",
       "808802592             48  >=30, <50    Male\n",
       "227083887             23  >=16, <30    Male\n",
       "866614166             24  >=16, <30  Female\n",
       "803377470309330948    53  >=50, <65  Female\n",
       "151231731             30  >=30, <50    Male\n",
       "1008715045902143494   32  >=30, <50  Female\n",
       "1706246618            21  >=16, <30  Female\n",
       "827326976             60  >=50, <65    Male\n",
       "981360857627222016    20  >=16, <30    Male\n",
       "695291604635160576    32  >=30, <50    Male\n",
       "381876523             20  >=16, <30    Male\n",
       "976259996160872448    25  >=16, <30  Female\n",
       "423604564             22  >=16, <30  Female\n",
       "1155837240272150528   62  >=50, <65  Female\n",
       "2554239598            22  >=16, <30    Male\n",
       "963968960243884032    23  >=16, <30    Male\n",
       "2338345339            50  >=50, <65    Male\n",
       "\n",
       "[829697 rows x 3 columns]"
      ]
     },
     "execution_count": 28,
     "metadata": {},
     "output_type": "execute_result"
    }
   ],
   "source": [
    "users"
   ]
  },
  {
   "cell_type": "code",
   "execution_count": 29,
   "metadata": {},
   "outputs": [],
   "source": [
    "users.to_pickle(\"disk/user_profile/02-10-union-users.pl\") # not outside Argentina"
   ]
  }
 ],
 "metadata": {
  "kernelspec": {
   "display_name": "Python 3",
   "language": "python",
   "name": "python3"
  },
  "language_info": {
   "codemirror_mode": {
    "name": "ipython",
    "version": 3
   },
   "file_extension": ".py",
   "mimetype": "text/x-python",
   "name": "python",
   "nbconvert_exporter": "python",
   "pygments_lexer": "ipython3",
   "version": "3.7.3"
  }
 },
 "nbformat": 4,
 "nbformat_minor": 2
}
