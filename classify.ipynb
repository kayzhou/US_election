{
 "cells": [
  {
   "cell_type": "code",
   "execution_count": 1,
   "metadata": {},
   "outputs": [],
   "source": [
    "from my_weapon import *\n",
    "from tqdm import tqdm_notebook as tqdm\n",
    "import seaborn as sns\n",
    "from collections import Counter\n",
    "sns.set(style=\"darkgrid\", font_scale=1.5)"
   ]
  },
  {
   "cell_type": "code",
   "execution_count": 2,
   "metadata": {},
   "outputs": [
    {
     "data": {
      "application/vnd.jupyter.widget-view+json": {
       "model_id": "b64759146dc7490d9512c7bd96359889",
       "version_major": 2,
       "version_minor": 0
      },
      "text/plain": [
       "HBox(children=(IntProgress(value=1, bar_style='info', max=1), HTML(value='')))"
      ]
     },
     "metadata": {},
     "output_type": "display_data"
    },
    {
     "name": "stdout",
     "output_type": "stream",
     "text": [
      "\n"
     ]
    }
   ],
   "source": [
    "list_prob = []\n",
    "\n",
    "for line in tqdm(open(\"disk/data/predict_results_with_proba_LR.json\")):\n",
    "        d = json.loads(line.strip())\n",
    "        uid = d[\"user_id\"]\n",
    "        for prob in d[\"LR\"]:\n",
    "            list_prob.append(float(prob))"
   ]
  },
  {
   "cell_type": "code",
   "execution_count": 3,
   "metadata": {},
   "outputs": [],
   "source": [
    "list_prob = pd.Series(list_prob)"
   ]
  },
  {
   "cell_type": "code",
   "execution_count": 4,
   "metadata": {},
   "outputs": [
    {
     "data": {
      "text/plain": [
       "count    1.825800e+07\n",
       "mean     4.617697e-01\n",
       "std      3.370257e-01\n",
       "min      5.604502e-10\n",
       "25%      1.389755e-01\n",
       "50%      4.170358e-01\n",
       "75%      7.906873e-01\n",
       "max      1.000000e+00\n",
       "dtype: float64"
      ]
     },
     "execution_count": 4,
     "metadata": {},
     "output_type": "execute_result"
    }
   ],
   "source": [
    "list_prob.describe()"
   ]
  },
  {
   "cell_type": "code",
   "execution_count": 5,
   "metadata": {},
   "outputs": [
    {
     "data": {
      "image/png": "[encoded data removed]",
      "text/plain": [
       "<Figure size 432x288 with 1 Axes>"
      ]
     },
     "metadata": {
      "needs_background": "light"
     },
     "output_type": "display_data"
    }
   ],
   "source": [
    "sns.distplot(list_prob, kde=False, bins=20)\n",
    "plt.ylabel(\"N of tweets\")\n",
    "plt.xlabel(\"probability of tweets supporting Macri\")\n",
    "plt.tight_layout()\n",
    "plt.savefig(\"supporting_macri.png\", dpi=100)\n",
    "plt.show()"
   ]
  },
  {
   "cell_type": "code",
   "execution_count": 71,
   "metadata": {},
   "outputs": [],
   "source": [
    "def predict_users(clas_name, C=1):\n",
    "    K, M, U = 0, 0, 0 \n",
    "#     rst = {}\n",
    "    print(clas_name, C)\n",
    "    for line in tqdm(open(\"disk/data/predict_results_with_proba-20190411.json\")):\n",
    "        d = json.loads(line.strip())\n",
    "        if sum(d[clas_name]) >= C:\n",
    "            if d[clas_name][0] > d[clas_name][1]:\n",
    "                K += 1\n",
    "            elif d[clas_name][0] < d[clas_name][1]:\n",
    "                M += 1\n",
    "            elif d[clas_name][0] == d[clas_name][1]:\n",
    "                U += 1\n",
    "    _sum = K + M + U\n",
    "    return K, M, U, K /_sum, M / _sum, U / _sum"
   ]
  },
  {
   "cell_type": "code",
   "execution_count": 81,
   "metadata": {},
   "outputs": [],
   "source": [
    "def predict_users_3(clas_name, C=1):\n",
    "    K, M, A, U = 0, 0, 0, 0\n",
    "#     rst = {}\n",
    "    print(clas_name, C)\n",
    "    tweet_count = 0\n",
    "    for line in tqdm(open(\"disk/data/predict_results_with_proba-20190411.json\")):\n",
    "        d = json.loads(line.strip())\n",
    "        tweet_count += sum(d[clas_name])\n",
    "        if sum(d[clas_name]) >= C:\n",
    "            r = d[clas_name]\n",
    "            \n",
    "            if r[0] > r[1] and r[0] > r[2]:\n",
    "                K += 1\n",
    "                \n",
    "            elif r[1] > r[0] and r[1] > r[2]:\n",
    "                M += 1\n",
    "                \n",
    "            elif r[2] > r[0] and r[1] > r[0]:\n",
    "                A += 1\n",
    "                \n",
    "            else:\n",
    "                U += 1\n",
    "    \n",
    "    _sum = K + M + U + A\n",
    "    print(\"tweet count\", tweet_count, \"user count\", _sum)\n",
    "    return K, M, A, U, K /_sum, M / _sum, A / _sum, U / _sum"
   ]
  },
  {
   "cell_type": "markdown",
   "metadata": {},
   "source": [
    "print(predict_users(\"LR\", C=1))\n",
    "print(predict_users(\"LR\", C=3))\n",
    "print(predict_users(\"LR\", C=5))\n",
    "print(predict_users(\"LR\", C=10))"
   ]
  },
  {
   "cell_type": "code",
   "execution_count": 82,
   "metadata": {},
   "outputs": [
    {
     "name": "stdout",
     "output_type": "stream",
     "text": [
      "LR 1\n"
     ]
    },
    {
     "data": {
      "application/vnd.jupyter.widget-view+json": {
       "model_id": "8a443e3a4424470eb550934fab5f4470",
       "version_major": 2,
       "version_minor": 0
      },
      "text/plain": [
       "HBox(children=(IntProgress(value=1, bar_style='info', max=1), HTML(value='')))"
      ]
     },
     "metadata": {},
     "output_type": "display_data"
    },
    {
     "name": "stdout",
     "output_type": "stream",
     "text": [
      "tweet count 26132000 user count 3819010\n",
      "(2198685, 1239377, 2723, 378225, 0.5757211947598985, 0.3245283463515414, 0.0007130120109661929, 0.09903744687759393)\n",
      "LR 3\n"
     ]
    },
    {
     "data": {
      "application/vnd.jupyter.widget-view+json": {
       "model_id": "a4cb0be07241459eab946507b392f4f6",
       "version_major": 2,
       "version_minor": 0
      },
      "text/plain": [
       "HBox(children=(IntProgress(value=1, bar_style='info', max=1), HTML(value='')))"
      ]
     },
     "metadata": {},
     "output_type": "display_data"
    },
    {
     "name": "stdout",
     "output_type": "stream",
     "text": [
      "tweet count 26132000 user count 1412923\n",
      "(787695, 512650, 285, 112293, 0.5574932250377409, 0.36282939693104294, 0.0002017095057550907, 0.07947566852546105)\n",
      "LR 5\n"
     ]
    },
    {
     "data": {
      "application/vnd.jupyter.widget-view+json": {
       "model_id": "bd190000d9b8402bb04d2d9d8de6ca07",
       "version_major": 2,
       "version_minor": 0
      },
      "text/plain": [
       "HBox(children=(IntProgress(value=1, bar_style='info', max=1), HTML(value='')))"
      ]
     },
     "metadata": {},
     "output_type": "display_data"
    },
    {
     "name": "stdout",
     "output_type": "stream",
     "text": [
      "tweet count 26132000 user count 848718\n",
      "(449561, 345667, 139, 53351, 0.529694197601559, 0.4072813349074722, 0.00016377642514946072, 0.06286069106581928)\n",
      "LR 10\n"
     ]
    },
    {
     "data": {
      "application/vnd.jupyter.widget-view+json": {
       "model_id": "ff108482a2074900ac4ef6b881982073",
       "version_major": 2,
       "version_minor": 0
      },
      "text/plain": [
       "HBox(children=(IntProgress(value=1, bar_style='info', max=1), HTML(value='')))"
      ]
     },
     "metadata": {},
     "output_type": "display_data"
    },
    {
     "name": "stdout",
     "output_type": "stream",
     "text": [
      "tweet count 26132000 user count 401691\n",
      "(183557, 198321, 36, 19777, 0.45696069864647204, 0.49371531849107897, 8.9621126686931e-05, 0.04923436173576207)\n"
     ]
    }
   ],
   "source": [
    "print(predict_users_3(\"LR\", C=1))\n",
    "print(predict_users_3(\"LR\", C=3))\n",
    "print(predict_users_3(\"LR\", C=5))\n",
    "print(predict_users_3(\"LR\", C=10))"
   ]
  },
  {
   "cell_type": "code",
   "execution_count": 73,
   "metadata": {},
   "outputs": [
    {
     "name": "stdout",
     "output_type": "stream",
     "text": [
      "SVC 1\n"
     ]
    },
    {
     "data": {
      "application/vnd.jupyter.widget-view+json": {
       "model_id": "198603f5bd08477b94a4f7d2c3f92089",
       "version_major": 2,
       "version_minor": 0
      },
      "text/plain": [
       "HBox(children=(IntProgress(value=1, bar_style='info', max=1), HTML(value='')))"
      ]
     },
     "metadata": {},
     "output_type": "display_data"
    },
    {
     "name": "stdout",
     "output_type": "stream",
     "text": [
      "\n",
      "(1807168, 1018911, 320800, 0.5742731131384461, 0.323784613262855, 0.1019422735986989)\n",
      "SVC 3\n"
     ]
    },
    {
     "data": {
      "application/vnd.jupyter.widget-view+json": {
       "model_id": "d2d9dbf5aaaf41d3a836c1c8ec8ea6a1",
       "version_major": 2,
       "version_minor": 0
      },
      "text/plain": [
       "HBox(children=(IntProgress(value=1, bar_style='info', max=1), HTML(value='')))"
      ]
     },
     "metadata": {},
     "output_type": "display_data"
    },
    {
     "name": "stdout",
     "output_type": "stream",
     "text": [
      "\n",
      "(592023, 371116, 92533, 0.5608020294182284, 0.3515447980054411, 0.08765317257633053)\n",
      "SVC 5\n"
     ]
    },
    {
     "data": {
      "application/vnd.jupyter.widget-view+json": {
       "model_id": "8f742255f2e448fdad9bea9b38672e2e",
       "version_major": 2,
       "version_minor": 0
      },
      "text/plain": [
       "HBox(children=(IntProgress(value=1, bar_style='info', max=1), HTML(value='')))"
      ]
     },
     "metadata": {},
     "output_type": "display_data"
    },
    {
     "name": "stdout",
     "output_type": "stream",
     "text": [
      "\n",
      "(326429, 237093, 43630, 0.5376396684849922, 0.39050023717289906, 0.07186009434210873)\n",
      "SVC 10\n"
     ]
    },
    {
     "data": {
      "application/vnd.jupyter.widget-view+json": {
       "model_id": "d7294cd00a4642968697c0674d52340a",
       "version_major": 2,
       "version_minor": 0
      },
      "text/plain": [
       "HBox(children=(IntProgress(value=1, bar_style='info', max=1), HTML(value='')))"
      ]
     },
     "metadata": {},
     "output_type": "display_data"
    },
    {
     "name": "stdout",
     "output_type": "stream",
     "text": [
      "\n",
      "(130260, 129633, 16896, 0.4706111875833216, 0.4683459241516101, 0.06104288826506834)\n"
     ]
    }
   ],
   "source": [
    "print(predict_users(\"SVC\", C=1))\n",
    "print(predict_users(\"SVC\", C=3))\n",
    "print(predict_users(\"SVC\", C=5))\n",
    "print(predict_users(\"SVC\", C=10))"
   ]
  },
  {
   "cell_type": "code",
   "execution_count": 74,
   "metadata": {},
   "outputs": [
    {
     "name": "stdout",
     "output_type": "stream",
     "text": [
      "NB 1\n"
     ]
    },
    {
     "data": {
      "application/vnd.jupyter.widget-view+json": {
       "model_id": "90a9d7ebe2f440b79a5219171425a290",
       "version_major": 2,
       "version_minor": 0
      },
      "text/plain": [
       "HBox(children=(IntProgress(value=1, bar_style='info', max=1), HTML(value='')))"
      ]
     },
     "metadata": {},
     "output_type": "display_data"
    },
    {
     "name": "stdout",
     "output_type": "stream",
     "text": [
      "\n",
      "(1697780, 1114547, 334552, 0.5395123231620917, 0.35417535914154946, 0.10631231769635884)\n",
      "NB 3\n"
     ]
    },
    {
     "data": {
      "application/vnd.jupyter.widget-view+json": {
       "model_id": "3afab25f4bfd45cfb3815194ee1d5096",
       "version_major": 2,
       "version_minor": 0
      },
      "text/plain": [
       "HBox(children=(IntProgress(value=1, bar_style='info', max=1), HTML(value='')))"
      ]
     },
     "metadata": {},
     "output_type": "display_data"
    },
    {
     "name": "stdout",
     "output_type": "stream",
     "text": [
      "\n",
      "(564456, 395537, 95679, 0.5346888048560537, 0.37467793026621904, 0.09063326487772717)\n",
      "NB 5\n"
     ]
    },
    {
     "data": {
      "application/vnd.jupyter.widget-view+json": {
       "model_id": "52ff59d6a68943e39249dbed3c45bcc0",
       "version_major": 2,
       "version_minor": 0
      },
      "text/plain": [
       "HBox(children=(IntProgress(value=1, bar_style='info', max=1), HTML(value='')))"
      ]
     },
     "metadata": {},
     "output_type": "display_data"
    },
    {
     "name": "stdout",
     "output_type": "stream",
     "text": [
      "\n",
      "(315536, 247679, 43937, 0.5196985268927715, 0.40793573932063143, 0.0723657337865971)\n",
      "NB 10\n"
     ]
    },
    {
     "data": {
      "application/vnd.jupyter.widget-view+json": {
       "model_id": "5f2f263e81ad41028829ff415e743731",
       "version_major": 2,
       "version_minor": 0
      },
      "text/plain": [
       "HBox(children=(IntProgress(value=1, bar_style='info', max=1), HTML(value='')))"
      ]
     },
     "metadata": {},
     "output_type": "display_data"
    },
    {
     "name": "stdout",
     "output_type": "stream",
     "text": [
      "\n",
      "(128816, 131479, 16494, 0.46539421725574354, 0.4750152643349266, 0.05959051840932985)\n"
     ]
    }
   ],
   "source": [
    "print(predict_users(\"NB\", C=1))\n",
    "print(predict_users(\"NB\", C=3))\n",
    "print(predict_users(\"NB\", C=5))\n",
    "print(predict_users(\"NB\", C=10))"
   ]
  },
  {
   "cell_type": "code",
   "execution_count": 51,
   "metadata": {},
   "outputs": [],
   "source": [
    "def predict_users(self):\n",
    "    # list_classifiers = ['LR', 'SVC', 'NB', 'RF', 'DT']\n",
    "    list_classifiers = ['LR']\n",
    "    rst = {}\n",
    "    for clas in list_classifiers:\n",
    "        rst[clas] = {\"K\": 0, \"M\": 0, \"U\": 0}\n",
    "    for line in open(\"disk/data/predict_results.json\"):\n",
    "        d = json.loads(line.strip())\n",
    "        for clas in list_classifiers:\n",
    "            if d[clas][0] > d[clas][1]:\n",
    "                rst[clas][\"K\"] += 1\n",
    "            elif d[clas][0] < d[clas][1]:\n",
    "                rst[clas][\"M\"] += 1\n",
    "            elif d[clas][0] == d[clas][1]:\n",
    "                rst[clas][\"U\"] += 1\n",
    "    pd.DataFrame(rst).to_csv(\"rst.csv\")"
   ]
  },
  {
   "cell_type": "code",
   "execution_count": 52,
   "metadata": {},
   "outputs": [
    {
     "data": {
      "application/vnd.jupyter.widget-view+json": {
       "model_id": "379f8b24b8d84d4ea53e0851d9b199d6",
       "version_major": 2,
       "version_minor": 0
      },
      "text/plain": [
       "HBox(children=(IntProgress(value=1, bar_style='info', max=1), HTML(value='')))"
      ]
     },
     "metadata": {},
     "output_type": "display_data"
    },
    {
     "name": "stdout",
     "output_type": "stream",
     "text": [
      "\n"
     ]
    }
   ],
   "source": [
    "rst = predict_users(\"LR\")"
   ]
  },
  {
   "cell_type": "code",
   "execution_count": 48,
   "metadata": {},
   "outputs": [
    {
     "name": "stdout",
     "output_type": "stream",
     "text": [
      "c=1 Counter({'Num of supporting K': 1960405, 'Num of supporting M': 890638, 'Unclassified': 295836})\n",
      "c=2 Counter({'Num of supporting K': 906086, 'Num of supporting M': 399348, 'Unclassified': 295836})\n",
      "c=3 Counter({'Num of supporting K': 648777, 'Num of supporting M': 322290, 'Unclassified': 84605})\n",
      "c=5 Counter({'Num of supporting K': 359951, 'Num of supporting M': 207072, 'Unclassified': 40129})\n",
      "c=10 Counter({'Num of supporting K': 146502, 'Num of supporting M': 114550, 'Unclassified': 15737})\n"
     ]
    }
   ],
   "source": [
    "import collections\n",
    "\n",
    "cx = [1, 2, 3, 5, 10]\n",
    "\n",
    "for c in cx:\n",
    "    camps_cnt = collections.Counter()\n",
    "    for uid, v in rst.items():\n",
    "        if (v[0] + v[1]) >= c:\n",
    "            if v[0] > v[1]: # Cristina\n",
    "                camp = \"Num of supporting K\"\n",
    "            elif v[0] < v[1]:\n",
    "                camp = \"Num of supporting M\"\n",
    "            else:\n",
    "                camp = \"Unclassified\"\n",
    "\n",
    "            camps_cnt[camp] +=1\n",
    "    print(\"c={}\".format(c), camps_cnt)\n",
    "    "
   ]
  },
  {
   "cell_type": "code",
   "execution_count": 26,
   "metadata": {},
   "outputs": [
    {
     "data": {
      "application/vnd.jupyter.widget-view+json": {
       "model_id": "38763fa89bb4487ebe2e240c91754ddc",
       "version_major": 2,
       "version_minor": 0
      },
      "text/plain": [
       "HBox(children=(IntProgress(value=1, bar_style='info', max=1), HTML(value='')))"
      ]
     },
     "metadata": {},
     "output_type": "display_data"
    },
    {
     "name": "stdout",
     "output_type": "stream",
     "text": [
      "\n"
     ]
    }
   ],
   "source": [
    "rst = {}\n",
    "\n",
    "for line in tqdm(open(\"disk/data/predict_results_with_proba_LR.json\")):\n",
    "    d = json.loads(line.strip())\n",
    "    uid = d[\"user_id\"]\n",
    "    M_cnt = 0\n",
    "    K_cnt = 0\n",
    "    \n",
    "    for prob in d[\"LR\"]:\n",
    "        if float(prob) > 0.5:\n",
    "            M_cnt += 1\n",
    "        else:\n",
    "            K_cnt += 1\n",
    "            \n",
    "    if (M_cnt + K_cnt) > 0:\n",
    "        rst[uid] = M_cnt + K_cnt"
   ]
  },
  {
   "cell_type": "code",
   "execution_count": 27,
   "metadata": {},
   "outputs": [],
   "source": [
    "d = pd.Series(list(rst.values()))"
   ]
  },
  {
   "cell_type": "code",
   "execution_count": 28,
   "metadata": {},
   "outputs": [
    {
     "data": {
      "image/png": "[encoded data removed]",
      "text/plain": [
       "<Figure size 432x288 with 1 Axes>"
      ]
     },
     "metadata": {},
     "output_type": "display_data"
    }
   ],
   "source": [
    "d.hist(bins=10)\n",
    "plt.ylabel(\"N of users\")\n",
    "plt.xlabel(\"probability\")\n",
    "plt.tight_layout()\n",
    "plt.savefig(\"supporting_macri.png\", dpi=100)\n",
    "plt.show()"
   ]
  },
  {
   "cell_type": "code",
   "execution_count": 12,
   "metadata": {},
   "outputs": [],
   "source": [
    "d = pd.Series(list(rst.values()))"
   ]
  },
  {
   "cell_type": "code",
   "execution_count": 17,
   "metadata": {},
   "outputs": [],
   "source": [
    "%matplotlib inline\n",
    "\n",
    "def get_cdf_pdf(data, mini=0, maxi=0, step=0, norm=True):\n",
    "    if maxi == 0:\n",
    "        maxi = data.max()\n",
    "        print(\"max(x):\", maxi)\n",
    "    if step == 0:\n",
    "        step = int((maxi - mini) / 20)\n",
    "        if step == 0:\n",
    "            step = 1\n",
    "    x = np.arange(mini, maxi, step, dtype=np.float32)\n",
    "    cdf = [0] * len(x)\n",
    "    pdf = [0] * len(x)\n",
    "    count = 0\n",
    "    for d in data:\n",
    "        d = float(d)\n",
    "        if d < mini or d > maxi:\n",
    "            continue\n",
    "        count += 1\n",
    "        for i in range(len(x)):\n",
    "            if i == (len(x) - 1) and d >= x[i]:\n",
    "                pdf[i] += 1\n",
    "            elif d >= x[i] and d < x[i+1]:\n",
    "                pdf[i] += 1\n",
    "\n",
    "            if d >= x[i]:\n",
    "                cdf[i] += 1\n",
    "\n",
    "    if norm:\n",
    "        cdf = [c / count for c in cdf]\n",
    "        pdf = [p / count for p in pdf]\n",
    "\n",
    "    return x, cdf, pdf"
   ]
  },
  {
   "cell_type": "code",
   "execution_count": 18,
   "metadata": {},
   "outputs": [
    {
     "data": {
      "text/plain": [
       "count    3.146879e+06\n",
       "mean     5.801939e+00\n",
       "std      3.727474e+01\n",
       "min      1.000000e+00\n",
       "25%      1.000000e+00\n",
       "50%      2.000000e+00\n",
       "75%      3.000000e+00\n",
       "max      6.836000e+03\n",
       "dtype: float64"
      ]
     },
     "execution_count": 18,
     "metadata": {},
     "output_type": "execute_result"
    }
   ],
   "source": [
    "d.describe()"
   ]
  },
  {
   "cell_type": "code",
   "execution_count": 19,
   "metadata": {},
   "outputs": [
    {
     "name": "stdout",
     "output_type": "stream",
     "text": [
      "max(x): 6836\n"
     ]
    }
   ],
   "source": [
    "x, cdf, pdf = get_cdf_pdf(d)"
   ]
  },
  {
   "cell_type": "code",
   "execution_count": null,
   "metadata": {},
   "outputs": [],
   "source": [
    "plt.plot(x, cdf)"
   ]
  },
  {
   "cell_type": "code",
   "execution_count": 38,
   "metadata": {},
   "outputs": [],
   "source": [
    "from datetime import datetime\n",
    "\n",
    "cnt = pd.read_csv(\"data/support-rst-20190412.csv\").set_index(\"dt\")"
   ]
  },
  {
   "cell_type": "code",
   "execution_count": 39,
   "metadata": {},
   "outputs": [
    {
     "data": {
      "text/html": [
       "<div>\n",
       "<style scoped>\n",
       "    .dataframe tbody tr th:only-of-type {\n",
       "        vertical-align: middle;\n",
       "    }\n",
       "\n",
       "    .dataframe tbody tr th {\n",
       "        vertical-align: top;\n",
       "    }\n",
       "\n",
       "    .dataframe thead th {\n",
       "        text-align: right;\n",
       "    }\n",
       "</style>\n",
       "<table border=\"1\" class=\"dataframe\">\n",
       "  <thead>\n",
       "    <tr style=\"text-align: right;\">\n",
       "      <th></th>\n",
       "      <th>A</th>\n",
       "      <th>K</th>\n",
       "      <th>M</th>\n",
       "      <th>U</th>\n",
       "    </tr>\n",
       "    <tr>\n",
       "      <th>dt</th>\n",
       "      <th></th>\n",
       "      <th></th>\n",
       "      <th></th>\n",
       "      <th></th>\n",
       "    </tr>\n",
       "  </thead>\n",
       "  <tbody>\n",
       "    <tr>\n",
       "      <th>2019-03-04</th>\n",
       "      <td>1115</td>\n",
       "      <td>633932</td>\n",
       "      <td>480113</td>\n",
       "      <td>110633</td>\n",
       "    </tr>\n",
       "    <tr>\n",
       "      <th>2019-03-11</th>\n",
       "      <td>880</td>\n",
       "      <td>670343</td>\n",
       "      <td>476446</td>\n",
       "      <td>113479</td>\n",
       "    </tr>\n",
       "    <tr>\n",
       "      <th>2019-03-18</th>\n",
       "      <td>1342</td>\n",
       "      <td>728858</td>\n",
       "      <td>455992</td>\n",
       "      <td>119192</td>\n",
       "    </tr>\n",
       "    <tr>\n",
       "      <th>2019-03-25</th>\n",
       "      <td>1124</td>\n",
       "      <td>692525</td>\n",
       "      <td>424310</td>\n",
       "      <td>105633</td>\n",
       "    </tr>\n",
       "    <tr>\n",
       "      <th>2019-04-01</th>\n",
       "      <td>1200</td>\n",
       "      <td>672678</td>\n",
       "      <td>469878</td>\n",
       "      <td>117068</td>\n",
       "    </tr>\n",
       "    <tr>\n",
       "      <th>2019-04-08</th>\n",
       "      <td>1377</td>\n",
       "      <td>675776</td>\n",
       "      <td>416878</td>\n",
       "      <td>105206</td>\n",
       "    </tr>\n",
       "    <tr>\n",
       "      <th>2019-04-15</th>\n",
       "      <td>1110</td>\n",
       "      <td>594896</td>\n",
       "      <td>421775</td>\n",
       "      <td>96627</td>\n",
       "    </tr>\n",
       "  </tbody>\n",
       "</table>\n",
       "</div>"
      ],
      "text/plain": [
       "               A       K       M       U\n",
       "dt                                      \n",
       "2019-03-04  1115  633932  480113  110633\n",
       "2019-03-11   880  670343  476446  113479\n",
       "2019-03-18  1342  728858  455992  119192\n",
       "2019-03-25  1124  692525  424310  105633\n",
       "2019-04-01  1200  672678  469878  117068\n",
       "2019-04-08  1377  675776  416878  105206\n",
       "2019-04-15  1110  594896  421775   96627"
      ]
     },
     "execution_count": 39,
     "metadata": {},
     "output_type": "execute_result"
    }
   ],
   "source": [
    "cnt"
   ]
  },
  {
   "cell_type": "code",
   "execution_count": 40,
   "metadata": {},
   "outputs": [],
   "source": [
    "cnt.index = pd.to_datetime(cnt.index)"
   ]
  },
  {
   "cell_type": "code",
   "execution_count": 41,
   "metadata": {},
   "outputs": [],
   "source": [
    "cnt[\"Massa\"] = cnt[\"A\"] / (cnt[\"A\"] + cnt[\"K\"] + cnt[\"M\"])\n",
    "cnt[\"Cristina\"] = cnt[\"K\"] / (cnt[\"A\"] + cnt[\"K\"] + cnt[\"M\"])\n",
    "cnt[\"Macri\"] = cnt[\"M\"] / (cnt[\"A\"] + cnt[\"K\"] + cnt[\"M\"])"
   ]
  },
  {
   "cell_type": "code",
   "execution_count": 42,
   "metadata": {},
   "outputs": [],
   "source": [
    "cnt = cnt[[\"Cristina\", \"Macri\", \"Massa\"]]"
   ]
  },
  {
   "cell_type": "code",
   "execution_count": 43,
   "metadata": {},
   "outputs": [
    {
     "data": {
      "text/plain": [
       "<matplotlib.axes._subplots.AxesSubplot at 0x7fda24e36be0>"
      ]
     },
     "execution_count": 43,
     "metadata": {},
     "output_type": "execute_result"
    },
    {
     "data": {
      "image/png": "[encoded data removed]",
      "text/plain": [
       "<Figure size 432x288 with 1 Axes>"
      ]
     },
     "metadata": {
      "needs_background": "light"
     },
     "output_type": "display_data"
    }
   ],
   "source": [
    "cnt.plot()"
   ]
  },
  {
   "cell_type": "code",
   "execution_count": 45,
   "metadata": {},
   "outputs": [],
   "source": [
    "cnt.to_csv(\"data/rst_20190412.csv\", float_format=\"%.3f\")"
   ]
  },
  {
   "cell_type": "markdown",
   "metadata": {},
   "source": [
    "## 2019-04-16 update"
   ]
  },
  {
   "cell_type": "code",
   "execution_count": 84,
   "metadata": {},
   "outputs": [
    {
     "data": {
      "application/vnd.jupyter.widget-view+json": {
       "model_id": "eb59049e771f48b691807c4dd4e44c20",
       "version_major": 2,
       "version_minor": 0
      },
      "text/plain": [
       "HBox(children=(IntProgress(value=1, bar_style='info', max=1), HTML(value='')))"
      ]
     },
     "metadata": {},
     "output_type": "display_data"
    },
    {
     "name": "stdout",
     "output_type": "stream",
     "text": [
      "\n"
     ]
    }
   ],
   "source": [
    "import pendulum\n",
    "\n",
    "dict_dt = {}\n",
    "\n",
    "for line in tqdm(open(\"disk/data/20190415-predicted.txt\")):\n",
    "    w = line.strip().split(\",\")\n",
    "    uid = w[0]\n",
    "\n",
    "    dt = pendulum.parse(w[1])\n",
    "#     dt = dt.add(days=(8 - dt.day_of_week))\n",
    "#     dt = dt.format(\"YYYYMMDD\")\n",
    "\n",
    "    if dt not in dict_dt:\n",
    "        dict_dt[dt] = {\"K\": 0, \"M\": 0, \"U\": 0}\n",
    "    \n",
    "    proba_M = float(w[2][1:-1].split()[1])\n",
    "    if proba_M > 0.75:\n",
    "        dict_dt[dt][\"M\"] += 1\n",
    "    elif proba_M < 0.25:\n",
    "        dict_dt[dt][\"K\"] += 1\n",
    "    else:\n",
    "        dict_dt[dt][\"U\"] += 1\n",
    "#     print(uid, dt, proba_M)"
   ]
  },
  {
   "cell_type": "code",
   "execution_count": 85,
   "metadata": {},
   "outputs": [],
   "source": [
    "_dict_dt = []\n",
    "\n",
    "for dt, v in dict_dt.items():\n",
    "    dt = dt.format(\"YYYY-MM-DD\")\n",
    "    if \"2019-03-01\" <= dt < \"2019-04-16\":\n",
    "        _dict_dt.append({\n",
    "            \"dt\": dt,\n",
    "            \"Cristina\": v[\"K\"],\n",
    "            \"Macri\": v[\"M\"],\n",
    "            \"Unclassified\": v[\"U\"]\n",
    "        })"
   ]
  },
  {
   "cell_type": "code",
   "execution_count": 86,
   "metadata": {},
   "outputs": [
    {
     "data": {
      "text/html": [
       "<div>\n",
       "<style scoped>\n",
       "    .dataframe tbody tr th:only-of-type {\n",
       "        vertical-align: middle;\n",
       "    }\n",
       "\n",
       "    .dataframe tbody tr th {\n",
       "        vertical-align: top;\n",
       "    }\n",
       "\n",
       "    .dataframe thead th {\n",
       "        text-align: right;\n",
       "    }\n",
       "</style>\n",
       "<table border=\"1\" class=\"dataframe\">\n",
       "  <thead>\n",
       "    <tr style=\"text-align: right;\">\n",
       "      <th></th>\n",
       "      <th>Cristina</th>\n",
       "      <th>Macri</th>\n",
       "      <th>Unclassified</th>\n",
       "      <th>dt</th>\n",
       "    </tr>\n",
       "    <tr>\n",
       "      <th>dt</th>\n",
       "      <th></th>\n",
       "      <th></th>\n",
       "      <th></th>\n",
       "      <th></th>\n",
       "    </tr>\n",
       "  </thead>\n",
       "  <tbody>\n",
       "    <tr>\n",
       "      <th>2019-03-01</th>\n",
       "      <td>204598</td>\n",
       "      <td>299930</td>\n",
       "      <td>270251</td>\n",
       "      <td>2019-03-01</td>\n",
       "    </tr>\n",
       "    <tr>\n",
       "      <th>2019-03-02</th>\n",
       "      <td>174165</td>\n",
       "      <td>252383</td>\n",
       "      <td>232756</td>\n",
       "      <td>2019-03-02</td>\n",
       "    </tr>\n",
       "    <tr>\n",
       "      <th>2019-03-03</th>\n",
       "      <td>136002</td>\n",
       "      <td>336847</td>\n",
       "      <td>212222</td>\n",
       "      <td>2019-03-03</td>\n",
       "    </tr>\n",
       "    <tr>\n",
       "      <th>2019-03-04</th>\n",
       "      <td>151557</td>\n",
       "      <td>227896</td>\n",
       "      <td>204105</td>\n",
       "      <td>2019-03-04</td>\n",
       "    </tr>\n",
       "    <tr>\n",
       "      <th>2019-03-05</th>\n",
       "      <td>155703</td>\n",
       "      <td>167618</td>\n",
       "      <td>211330</td>\n",
       "      <td>2019-03-05</td>\n",
       "    </tr>\n",
       "    <tr>\n",
       "      <th>2019-03-06</th>\n",
       "      <td>141842</td>\n",
       "      <td>167656</td>\n",
       "      <td>206283</td>\n",
       "      <td>2019-03-06</td>\n",
       "    </tr>\n",
       "    <tr>\n",
       "      <th>2019-03-07</th>\n",
       "      <td>169308</td>\n",
       "      <td>189362</td>\n",
       "      <td>218603</td>\n",
       "      <td>2019-03-07</td>\n",
       "    </tr>\n",
       "    <tr>\n",
       "      <th>2019-03-08</th>\n",
       "      <td>151831</td>\n",
       "      <td>147246</td>\n",
       "      <td>215970</td>\n",
       "      <td>2019-03-08</td>\n",
       "    </tr>\n",
       "    <tr>\n",
       "      <th>2019-03-09</th>\n",
       "      <td>115623</td>\n",
       "      <td>150725</td>\n",
       "      <td>175607</td>\n",
       "      <td>2019-03-09</td>\n",
       "    </tr>\n",
       "    <tr>\n",
       "      <th>2019-03-10</th>\n",
       "      <td>112727</td>\n",
       "      <td>187197</td>\n",
       "      <td>199590</td>\n",
       "      <td>2019-03-10</td>\n",
       "    </tr>\n",
       "    <tr>\n",
       "      <th>2019-03-11</th>\n",
       "      <td>154992</td>\n",
       "      <td>252302</td>\n",
       "      <td>237628</td>\n",
       "      <td>2019-03-11</td>\n",
       "    </tr>\n",
       "    <tr>\n",
       "      <th>2019-03-12</th>\n",
       "      <td>155814</td>\n",
       "      <td>205575</td>\n",
       "      <td>209218</td>\n",
       "      <td>2019-03-12</td>\n",
       "    </tr>\n",
       "    <tr>\n",
       "      <th>2019-03-13</th>\n",
       "      <td>178266</td>\n",
       "      <td>210130</td>\n",
       "      <td>209768</td>\n",
       "      <td>2019-03-13</td>\n",
       "    </tr>\n",
       "    <tr>\n",
       "      <th>2019-03-14</th>\n",
       "      <td>321448</td>\n",
       "      <td>191702</td>\n",
       "      <td>240443</td>\n",
       "      <td>2019-03-14</td>\n",
       "    </tr>\n",
       "    <tr>\n",
       "      <th>2019-03-15</th>\n",
       "      <td>211090</td>\n",
       "      <td>168109</td>\n",
       "      <td>207120</td>\n",
       "      <td>2019-03-15</td>\n",
       "    </tr>\n",
       "    <tr>\n",
       "      <th>2019-03-16</th>\n",
       "      <td>149915</td>\n",
       "      <td>138672</td>\n",
       "      <td>185800</td>\n",
       "      <td>2019-03-16</td>\n",
       "    </tr>\n",
       "    <tr>\n",
       "      <th>2019-03-17</th>\n",
       "      <td>138984</td>\n",
       "      <td>154720</td>\n",
       "      <td>177593</td>\n",
       "      <td>2019-03-17</td>\n",
       "    </tr>\n",
       "    <tr>\n",
       "      <th>2019-03-18</th>\n",
       "      <td>205191</td>\n",
       "      <td>249673</td>\n",
       "      <td>200334</td>\n",
       "      <td>2019-03-18</td>\n",
       "    </tr>\n",
       "    <tr>\n",
       "      <th>2019-03-19</th>\n",
       "      <td>185471</td>\n",
       "      <td>177857</td>\n",
       "      <td>195001</td>\n",
       "      <td>2019-03-19</td>\n",
       "    </tr>\n",
       "    <tr>\n",
       "      <th>2019-03-20</th>\n",
       "      <td>176804</td>\n",
       "      <td>197436</td>\n",
       "      <td>201508</td>\n",
       "      <td>2019-03-20</td>\n",
       "    </tr>\n",
       "    <tr>\n",
       "      <th>2019-03-21</th>\n",
       "      <td>194088</td>\n",
       "      <td>186166</td>\n",
       "      <td>197848</td>\n",
       "      <td>2019-03-21</td>\n",
       "    </tr>\n",
       "    <tr>\n",
       "      <th>2019-03-22</th>\n",
       "      <td>191621</td>\n",
       "      <td>180910</td>\n",
       "      <td>208575</td>\n",
       "      <td>2019-03-22</td>\n",
       "    </tr>\n",
       "    <tr>\n",
       "      <th>2019-03-23</th>\n",
       "      <td>139666</td>\n",
       "      <td>171279</td>\n",
       "      <td>171541</td>\n",
       "      <td>2019-03-23</td>\n",
       "    </tr>\n",
       "    <tr>\n",
       "      <th>2019-03-24</th>\n",
       "      <td>152538</td>\n",
       "      <td>187488</td>\n",
       "      <td>186782</td>\n",
       "      <td>2019-03-24</td>\n",
       "    </tr>\n",
       "    <tr>\n",
       "      <th>2019-03-25</th>\n",
       "      <td>166691</td>\n",
       "      <td>219723</td>\n",
       "      <td>223854</td>\n",
       "      <td>2019-03-25</td>\n",
       "    </tr>\n",
       "    <tr>\n",
       "      <th>2019-03-26</th>\n",
       "      <td>160510</td>\n",
       "      <td>213406</td>\n",
       "      <td>216563</td>\n",
       "      <td>2019-03-26</td>\n",
       "    </tr>\n",
       "    <tr>\n",
       "      <th>2019-03-27</th>\n",
       "      <td>170609</td>\n",
       "      <td>204054</td>\n",
       "      <td>222107</td>\n",
       "      <td>2019-03-27</td>\n",
       "    </tr>\n",
       "    <tr>\n",
       "      <th>2019-03-28</th>\n",
       "      <td>172535</td>\n",
       "      <td>203395</td>\n",
       "      <td>225511</td>\n",
       "      <td>2019-03-28</td>\n",
       "    </tr>\n",
       "    <tr>\n",
       "      <th>2019-03-29</th>\n",
       "      <td>184086</td>\n",
       "      <td>185686</td>\n",
       "      <td>195210</td>\n",
       "      <td>2019-03-29</td>\n",
       "    </tr>\n",
       "    <tr>\n",
       "      <th>2019-03-30</th>\n",
       "      <td>137487</td>\n",
       "      <td>163891</td>\n",
       "      <td>174583</td>\n",
       "      <td>2019-03-30</td>\n",
       "    </tr>\n",
       "    <tr>\n",
       "      <th>2019-03-31</th>\n",
       "      <td>128674</td>\n",
       "      <td>167010</td>\n",
       "      <td>161950</td>\n",
       "      <td>2019-03-31</td>\n",
       "    </tr>\n",
       "    <tr>\n",
       "      <th>2019-04-01</th>\n",
       "      <td>174394</td>\n",
       "      <td>185741</td>\n",
       "      <td>210336</td>\n",
       "      <td>2019-04-01</td>\n",
       "    </tr>\n",
       "    <tr>\n",
       "      <th>2019-04-02</th>\n",
       "      <td>162900</td>\n",
       "      <td>155651</td>\n",
       "      <td>218588</td>\n",
       "      <td>2019-04-02</td>\n",
       "    </tr>\n",
       "    <tr>\n",
       "      <th>2019-04-03</th>\n",
       "      <td>151141</td>\n",
       "      <td>176596</td>\n",
       "      <td>211810</td>\n",
       "      <td>2019-04-03</td>\n",
       "    </tr>\n",
       "    <tr>\n",
       "      <th>2019-04-04</th>\n",
       "      <td>140732</td>\n",
       "      <td>196755</td>\n",
       "      <td>197758</td>\n",
       "      <td>2019-04-04</td>\n",
       "    </tr>\n",
       "    <tr>\n",
       "      <th>2019-04-05</th>\n",
       "      <td>158477</td>\n",
       "      <td>174562</td>\n",
       "      <td>183950</td>\n",
       "      <td>2019-04-05</td>\n",
       "    </tr>\n",
       "    <tr>\n",
       "      <th>2019-04-06</th>\n",
       "      <td>169169</td>\n",
       "      <td>150564</td>\n",
       "      <td>150750</td>\n",
       "      <td>2019-04-06</td>\n",
       "    </tr>\n",
       "    <tr>\n",
       "      <th>2019-04-07</th>\n",
       "      <td>142163</td>\n",
       "      <td>156999</td>\n",
       "      <td>158906</td>\n",
       "      <td>2019-04-07</td>\n",
       "    </tr>\n",
       "    <tr>\n",
       "      <th>2019-04-08</th>\n",
       "      <td>146580</td>\n",
       "      <td>193167</td>\n",
       "      <td>180726</td>\n",
       "      <td>2019-04-08</td>\n",
       "    </tr>\n",
       "    <tr>\n",
       "      <th>2019-04-09</th>\n",
       "      <td>146231</td>\n",
       "      <td>172583</td>\n",
       "      <td>209579</td>\n",
       "      <td>2019-04-09</td>\n",
       "    </tr>\n",
       "    <tr>\n",
       "      <th>2019-04-10</th>\n",
       "      <td>150813</td>\n",
       "      <td>172829</td>\n",
       "      <td>213591</td>\n",
       "      <td>2019-04-10</td>\n",
       "    </tr>\n",
       "    <tr>\n",
       "      <th>2019-04-11</th>\n",
       "      <td>143151</td>\n",
       "      <td>188927</td>\n",
       "      <td>191696</td>\n",
       "      <td>2019-04-11</td>\n",
       "    </tr>\n",
       "    <tr>\n",
       "      <th>2019-04-12</th>\n",
       "      <td>153119</td>\n",
       "      <td>185561</td>\n",
       "      <td>199296</td>\n",
       "      <td>2019-04-12</td>\n",
       "    </tr>\n",
       "    <tr>\n",
       "      <th>2019-04-13</th>\n",
       "      <td>135922</td>\n",
       "      <td>166622</td>\n",
       "      <td>177253</td>\n",
       "      <td>2019-04-13</td>\n",
       "    </tr>\n",
       "    <tr>\n",
       "      <th>2019-04-14</th>\n",
       "      <td>128904</td>\n",
       "      <td>186716</td>\n",
       "      <td>189668</td>\n",
       "      <td>2019-04-14</td>\n",
       "    </tr>\n",
       "    <tr>\n",
       "      <th>2019-04-15</th>\n",
       "      <td>149998</td>\n",
       "      <td>243050</td>\n",
       "      <td>226605</td>\n",
       "      <td>2019-04-15</td>\n",
       "    </tr>\n",
       "  </tbody>\n",
       "</table>\n",
       "</div>"
      ],
      "text/plain": [
       "            Cristina   Macri  Unclassified          dt\n",
       "dt                                                    \n",
       "2019-03-01    204598  299930        270251  2019-03-01\n",
       "2019-03-02    174165  252383        232756  2019-03-02\n",
       "2019-03-03    136002  336847        212222  2019-03-03\n",
       "2019-03-04    151557  227896        204105  2019-03-04\n",
       "2019-03-05    155703  167618        211330  2019-03-05\n",
       "2019-03-06    141842  167656        206283  2019-03-06\n",
       "2019-03-07    169308  189362        218603  2019-03-07\n",
       "2019-03-08    151831  147246        215970  2019-03-08\n",
       "2019-03-09    115623  150725        175607  2019-03-09\n",
       "2019-03-10    112727  187197        199590  2019-03-10\n",
       "2019-03-11    154992  252302        237628  2019-03-11\n",
       "2019-03-12    155814  205575        209218  2019-03-12\n",
       "2019-03-13    178266  210130        209768  2019-03-13\n",
       "2019-03-14    321448  191702        240443  2019-03-14\n",
       "2019-03-15    211090  168109        207120  2019-03-15\n",
       "2019-03-16    149915  138672        185800  2019-03-16\n",
       "2019-03-17    138984  154720        177593  2019-03-17\n",
       "2019-03-18    205191  249673        200334  2019-03-18\n",
       "2019-03-19    185471  177857        195001  2019-03-19\n",
       "2019-03-20    176804  197436        201508  2019-03-20\n",
       "2019-03-21    194088  186166        197848  2019-03-21\n",
       "2019-03-22    191621  180910        208575  2019-03-22\n",
       "2019-03-23    139666  171279        171541  2019-03-23\n",
       "2019-03-24    152538  187488        186782  2019-03-24\n",
       "2019-03-25    166691  219723        223854  2019-03-25\n",
       "2019-03-26    160510  213406        216563  2019-03-26\n",
       "2019-03-27    170609  204054        222107  2019-03-27\n",
       "2019-03-28    172535  203395        225511  2019-03-28\n",
       "2019-03-29    184086  185686        195210  2019-03-29\n",
       "2019-03-30    137487  163891        174583  2019-03-30\n",
       "2019-03-31    128674  167010        161950  2019-03-31\n",
       "2019-04-01    174394  185741        210336  2019-04-01\n",
       "2019-04-02    162900  155651        218588  2019-04-02\n",
       "2019-04-03    151141  176596        211810  2019-04-03\n",
       "2019-04-04    140732  196755        197758  2019-04-04\n",
       "2019-04-05    158477  174562        183950  2019-04-05\n",
       "2019-04-06    169169  150564        150750  2019-04-06\n",
       "2019-04-07    142163  156999        158906  2019-04-07\n",
       "2019-04-08    146580  193167        180726  2019-04-08\n",
       "2019-04-09    146231  172583        209579  2019-04-09\n",
       "2019-04-10    150813  172829        213591  2019-04-10\n",
       "2019-04-11    143151  188927        191696  2019-04-11\n",
       "2019-04-12    153119  185561        199296  2019-04-12\n",
       "2019-04-13    135922  166622        177253  2019-04-13\n",
       "2019-04-14    128904  186716        189668  2019-04-14\n",
       "2019-04-15    149998  243050        226605  2019-04-15"
      ]
     },
     "execution_count": 86,
     "metadata": {},
     "output_type": "execute_result"
    }
   ],
   "source": [
    "df = pd.DataFrame(_dict_dt)\n",
    "cnt = df.set_index(df.dt)\n",
    "cnt.index = pd.to_datetime(cnt.index)\n",
    "cnt"
   ]
  },
  {
   "cell_type": "code",
   "execution_count": 81,
   "metadata": {},
   "outputs": [],
   "source": [
    "cnt.to_csv(\"web/data/tweet_num_20190415.csv\")"
   ]
  },
  {
   "cell_type": "code",
   "execution_count": 87,
   "metadata": {},
   "outputs": [
    {
     "data": {
      "application/vnd.jupyter.widget-view+json": {
       "model_id": "aafe5d2735ee48bfb02329ba70fb09c3",
       "version_major": 2,
       "version_minor": 0
      },
      "text/plain": [
       "HBox(children=(IntProgress(value=1, bar_style='info', max=1), HTML(value='')))"
      ]
     },
     "metadata": {},
     "output_type": "display_data"
    },
    {
     "name": "stdout",
     "output_type": "stream",
     "text": [
      "\n"
     ]
    }
   ],
   "source": [
    "import pendulum\n",
    "\n",
    "dict_dt_users = {}\n",
    "\n",
    "for line in tqdm(open(\"disk/data/20190415-predicted.txt\")):\n",
    "    w = line.strip().split(\",\")\n",
    "    uid = w[0]\n",
    "\n",
    "    dt = pendulum.parse(w[1])\n",
    "    dt = dt.add(days=(8 - dt.day_of_week))\n",
    "    dt = dt.format(\"YYYYMMDD\")\n",
    "\n",
    "    if dt not in dict_dt_users:\n",
    "        dict_dt_users[dt] = {}\n",
    "    if uid not in dict_dt_users[dt]:\n",
    "        dict_dt_users[dt][uid] = []\n",
    "    \n",
    "    proba_M = float(w[2][1:-1].split()[1])\n",
    "    dict_dt_users[dt][uid].append(proba_M)\n",
    "#     print(uid, dt, proba_M)"
   ]
  },
  {
   "cell_type": "markdown",
   "metadata": {},
   "source": [
    "N表示发布了多少条tweets，P表示概率阈值"
   ]
  },
  {
   "cell_type": "code",
   "execution_count": 13,
   "metadata": {},
   "outputs": [
    {
     "data": {
      "application/vnd.jupyter.widget-view+json": {
       "model_id": "a09cdb9e70c74937877f66baa005f774",
       "version_major": 2,
       "version_minor": 0
      },
      "text/plain": [
       "HBox(children=(IntProgress(value=0, max=40), HTML(value='')))"
      ]
     },
     "metadata": {},
     "output_type": "display_data"
    },
    {
     "name": "stdout",
     "output_type": "stream",
     "text": [
      "\n"
     ]
    }
   ],
   "source": [
    "rst = []\n",
    "\n",
    "for N in tqdm(range(1, 41)):\n",
    "    for P in np.arange(0.5, 0.8, 0.05):\n",
    "        dt_rst = []\n",
    "        for dt, user_d in dict_dt_users.items():\n",
    "            M_u = 0\n",
    "            C_u = 0\n",
    "            U_u = 0\n",
    "            for uid, t in user_d.items():\n",
    "                if len(t) >= N:\n",
    "                    M_pro = 0\n",
    "                    C_pro = 0\n",
    "                    for proba in t:\n",
    "                        if proba > P:\n",
    "                            M_pro += 1\n",
    "                        elif (1 - proba) > P:\n",
    "                            C_pro += 1\n",
    "                        \n",
    "                    if M_pro > C_pro:\n",
    "                        M_u += 1\n",
    "                    elif M_pro < C_pro:\n",
    "                        C_u += 1\n",
    "                    else:\n",
    "                        U_u += 1\n",
    "                        \n",
    "            dt_rst.append({\n",
    "                \"dt\": dt,\n",
    "                \"K\": C_u,\n",
    "                \"M\": M_u,\n",
    "                \"U\": U_u,\n",
    "            })\n",
    "        # end dt loop\n",
    "            \n",
    "        rst.append({\n",
    "            \"N\": N,\n",
    "            \"P\": P,\n",
    "            \"rst\": dt_rst, \n",
    "        })"
   ]
  },
  {
   "cell_type": "code",
   "execution_count": 15,
   "metadata": {},
   "outputs": [],
   "source": [
    "_rst = rst"
   ]
  },
  {
   "cell_type": "code",
   "execution_count": 18,
   "metadata": {},
   "outputs": [],
   "source": [
    "# json.dump(_rst, open(\"data/dt_pro-20190415.json\", \"w\"))"
   ]
  },
  {
   "cell_type": "code",
   "execution_count": 99,
   "metadata": {},
   "outputs": [],
   "source": [
    "_rst = json.load(open(\"data/dt_pro-20190415.json\"))\n",
    "rst = _rst"
   ]
  },
  {
   "cell_type": "code",
   "execution_count": 100,
   "metadata": {},
   "outputs": [],
   "source": [
    "for i, d in enumerate(_rst):\n",
    "    dt_rst = [r for r in d[\"rst\"] if '20190304' <= r['dt'] <= '20190415']\n",
    "    _rst[i]['rst'] = dt_rst"
   ]
  },
  {
   "cell_type": "code",
   "execution_count": 101,
   "metadata": {},
   "outputs": [
    {
     "data": {
      "text/html": [
       "<div>\n",
       "<style scoped>\n",
       "    .dataframe tbody tr th:only-of-type {\n",
       "        vertical-align: middle;\n",
       "    }\n",
       "\n",
       "    .dataframe tbody tr th {\n",
       "        vertical-align: top;\n",
       "    }\n",
       "\n",
       "    .dataframe thead th {\n",
       "        text-align: right;\n",
       "    }\n",
       "</style>\n",
       "<table border=\"1\" class=\"dataframe\">\n",
       "  <thead>\n",
       "    <tr style=\"text-align: right;\">\n",
       "      <th></th>\n",
       "      <th>dt</th>\n",
       "      <th>Cristina</th>\n",
       "      <th>Macri</th>\n",
       "    </tr>\n",
       "  </thead>\n",
       "  <tbody>\n",
       "    <tr>\n",
       "      <th>0</th>\n",
       "      <td>2019-04-09</td>\n",
       "      <td>41.3</td>\n",
       "      <td>33.6</td>\n",
       "    </tr>\n",
       "    <tr>\n",
       "      <th>1</th>\n",
       "      <td>2019-04-07</td>\n",
       "      <td>41.1</td>\n",
       "      <td>37.1</td>\n",
       "    </tr>\n",
       "    <tr>\n",
       "      <th>2</th>\n",
       "      <td>2019-04-06</td>\n",
       "      <td>50.9</td>\n",
       "      <td>49.1</td>\n",
       "    </tr>\n",
       "    <tr>\n",
       "      <th>3</th>\n",
       "      <td>2019-04-02</td>\n",
       "      <td>41.0</td>\n",
       "      <td>38.0</td>\n",
       "    </tr>\n",
       "    <tr>\n",
       "      <th>4</th>\n",
       "      <td>2019-03-19</td>\n",
       "      <td>46.5</td>\n",
       "      <td>31.3</td>\n",
       "    </tr>\n",
       "    <tr>\n",
       "      <th>5</th>\n",
       "      <td>2019-03-14</td>\n",
       "      <td>49.0</td>\n",
       "      <td>51.0</td>\n",
       "    </tr>\n",
       "    <tr>\n",
       "      <th>6</th>\n",
       "      <td>2019-03-13</td>\n",
       "      <td>37.4</td>\n",
       "      <td>34.3</td>\n",
       "    </tr>\n",
       "    <tr>\n",
       "      <th>7</th>\n",
       "      <td>2019-03-10</td>\n",
       "      <td>51.0</td>\n",
       "      <td>39.1</td>\n",
       "    </tr>\n",
       "    <tr>\n",
       "      <th>8</th>\n",
       "      <td>2019-03-09</td>\n",
       "      <td>49.2</td>\n",
       "      <td>50.8</td>\n",
       "    </tr>\n",
       "    <tr>\n",
       "      <th>9</th>\n",
       "      <td>2019-03-08</td>\n",
       "      <td>35.7</td>\n",
       "      <td>35.1</td>\n",
       "    </tr>\n",
       "    <tr>\n",
       "      <th>10</th>\n",
       "      <td>2019-03-01</td>\n",
       "      <td>40.9</td>\n",
       "      <td>37.5</td>\n",
       "    </tr>\n",
       "  </tbody>\n",
       "</table>\n",
       "</div>"
      ],
      "text/plain": [
       "            dt  Cristina  Macri\n",
       "0   2019-04-09      41.3   33.6\n",
       "1   2019-04-07      41.1   37.1\n",
       "2   2019-04-06      50.9   49.1\n",
       "3   2019-04-02      41.0   38.0\n",
       "4   2019-03-19      46.5   31.3\n",
       "5   2019-03-14      49.0   51.0\n",
       "6   2019-03-13      37.4   34.3\n",
       "7   2019-03-10      51.0   39.1\n",
       "8   2019-03-09      49.2   50.8\n",
       "9   2019-03-08      35.7   35.1\n",
       "10  2019-03-01      40.9   37.5"
      ]
     },
     "execution_count": 101,
     "metadata": {},
     "output_type": "execute_result"
    }
   ],
   "source": [
    "from datetime import datetime\n",
    "\n",
    "wiki = pd.read_csv(\"web/data/wiki-data.csv\")\n",
    "wiki"
   ]
  },
  {
   "cell_type": "code",
   "execution_count": 102,
   "metadata": {},
   "outputs": [],
   "source": [
    "wiki.dt = pd.to_datetime(wiki.dt, format='%Y-%m-%d')"
   ]
  },
  {
   "cell_type": "code",
   "execution_count": 103,
   "metadata": {},
   "outputs": [],
   "source": [
    "wiki = wiki.set_index(wiki.dt)"
   ]
  },
  {
   "cell_type": "code",
   "execution_count": 104,
   "metadata": {},
   "outputs": [],
   "source": [
    "wiki[\"Poll_Cristina\"] = wiki[\"Cristina\"] / (wiki[\"Cristina\"] + wiki[\"Macri\"])\n",
    "wiki[\"Poll_Macri\"] = wiki[\"Macri\"] / (wiki[\"Cristina\"] + wiki[\"Macri\"])\n",
    "wiki = wiki[[\"Poll_Cristina\", \"Poll_Macri\"]]"
   ]
  },
  {
   "cell_type": "code",
   "execution_count": 105,
   "metadata": {},
   "outputs": [
    {
     "data": {
      "text/plain": [
       "<matplotlib.axes._subplots.AxesSubplot at 0x7fdcd85818d0>"
      ]
     },
     "execution_count": 105,
     "metadata": {},
     "output_type": "execute_result"
    },
    {
     "data": {
      "image/png": "[encoded data removed]",
      "text/plain": [
       "<Figure size 432x288 with 1 Axes>"
      ]
     },
     "metadata": {},
     "output_type": "display_data"
    }
   ],
   "source": [
    "wiki.plot()"
   ]
  },
  {
   "cell_type": "code",
   "execution_count": 106,
   "metadata": {},
   "outputs": [],
   "source": [
    "wiki.to_csv(\"data/poll_20190415.csv\", float_format=\"%.3f\")"
   ]
  },
  {
   "cell_type": "code",
   "execution_count": 123,
   "metadata": {},
   "outputs": [
    {
     "data": {
      "application/vnd.jupyter.widget-view+json": {
       "model_id": "92fa81890ca2448a9da1461bae991872",
       "version_major": 2,
       "version_minor": 0
      },
      "text/plain": [
       "HBox(children=(IntProgress(value=0, max=280), HTML(value='')))"
      ]
     },
     "metadata": {},
     "output_type": "display_data"
    },
    {
     "name": "stdout",
     "output_type": "stream",
     "text": [
      "0.7500000000000002 3\n",
      "            Cristina     Macri\n",
      "dt                            \n",
      "2019-03-04  0.382165  0.617835\n",
      "2019-03-11  0.377963  0.622037\n",
      "2019-03-18  0.459482  0.540518\n",
      "2019-03-25  0.429427  0.570573\n",
      "2019-04-01  0.399254  0.600746\n",
      "2019-04-08  0.438751  0.561249\n",
      "2019-04-15  0.403810  0.596190\n",
      "\n"
     ]
    }
   ],
   "source": [
    "sns.set_style(\"darkgrid\")\n",
    "\n",
    "for d in tqdm(_rst):\n",
    "    if d[\"P\"] == 0.7500000000000002 and d[\"N\"] == 3:\n",
    "        print(d[\"P\"], d[\"N\"])\n",
    "        df = pd.DataFrame(d['rst'])\n",
    "        cnt = df.set_index(df.dt)\n",
    "        cnt.index = pd.to_datetime(cnt.index)\n",
    "        cnt[\"Cristina\"] = cnt[\"K\"] / (cnt[\"K\"] + cnt[\"M\"])\n",
    "        cnt[\"Macri\"] = cnt[\"M\"] / (cnt[\"K\"] + cnt[\"M\"])\n",
    "        cnt = cnt[[\"Cristina\", \"Macri\"]]\n",
    "\n",
    "        plt.plot(cnt.index, cnt[\"Cristina\"], \"*-\", label=\"K\")\n",
    "        plt.plot(cnt.index, cnt[\"Macri\"], label=\"M\")\n",
    "        plt.plot(wiki.index, wiki[\"Poll_Cristina\"], \"*--\", label=\"Poll_K\")\n",
    "        plt.plot(wiki.index, wiki[\"Poll_Macri\"], \"--\", label=\"Poll_M\")\n",
    "        \n",
    "        print(cnt)\n",
    "#         cnt.to_csv(\"web/Twitter_dynamics-20190415.csv\", float_format=\"%.3f\")\n",
    "\n",
    "        plt.ylim(0.35, 0.65)\n",
    "        plt.title(\"N={}, P={:.2f}\".format(d['N'], d['P']))\n",
    "        plt.xticks(fontsize=11, rotation=45)\n",
    "        plt.legend(loc=2, bbox_to_anchor=(1.05,1.0),borderaxespad = 0.)\n",
    "        plt.tight_layout()\n",
    "        plt.savefig(\"fig/N={}, P={:.2f}.png\".format(d['N'], d['P']), dpi=300)\n",
    "    #     plt.show()\n",
    "        plt.close()\n",
    "    # break\n",
    "    # print(cnt)"
   ]
  },
  {
   "cell_type": "code",
   "execution_count": 124,
   "metadata": {},
   "outputs": [
    {
     "data": {
      "text/html": [
       "<div>\n",
       "<style scoped>\n",
       "    .dataframe tbody tr th:only-of-type {\n",
       "        vertical-align: middle;\n",
       "    }\n",
       "\n",
       "    .dataframe tbody tr th {\n",
       "        vertical-align: top;\n",
       "    }\n",
       "\n",
       "    .dataframe thead th {\n",
       "        text-align: right;\n",
       "    }\n",
       "</style>\n",
       "<table border=\"1\" class=\"dataframe\">\n",
       "  <thead>\n",
       "    <tr style=\"text-align: right;\">\n",
       "      <th></th>\n",
       "      <th>Cristina</th>\n",
       "      <th>Macri</th>\n",
       "      <th>Poll_Cristina</th>\n",
       "      <th>Poll_Macri</th>\n",
       "    </tr>\n",
       "    <tr>\n",
       "      <th>dt</th>\n",
       "      <th></th>\n",
       "      <th></th>\n",
       "      <th></th>\n",
       "      <th></th>\n",
       "    </tr>\n",
       "  </thead>\n",
       "  <tbody>\n",
       "    <tr>\n",
       "      <th>2019-03-01</th>\n",
       "      <td>NaN</td>\n",
       "      <td>NaN</td>\n",
       "      <td>0.521684</td>\n",
       "      <td>0.478316</td>\n",
       "    </tr>\n",
       "    <tr>\n",
       "      <th>2019-03-04</th>\n",
       "      <td>0.382165</td>\n",
       "      <td>0.617835</td>\n",
       "      <td>NaN</td>\n",
       "      <td>NaN</td>\n",
       "    </tr>\n",
       "    <tr>\n",
       "      <th>2019-03-08</th>\n",
       "      <td>NaN</td>\n",
       "      <td>NaN</td>\n",
       "      <td>0.504237</td>\n",
       "      <td>0.495763</td>\n",
       "    </tr>\n",
       "    <tr>\n",
       "      <th>2019-03-09</th>\n",
       "      <td>NaN</td>\n",
       "      <td>NaN</td>\n",
       "      <td>0.492000</td>\n",
       "      <td>0.508000</td>\n",
       "    </tr>\n",
       "    <tr>\n",
       "      <th>2019-03-10</th>\n",
       "      <td>NaN</td>\n",
       "      <td>NaN</td>\n",
       "      <td>0.566038</td>\n",
       "      <td>0.433962</td>\n",
       "    </tr>\n",
       "    <tr>\n",
       "      <th>2019-03-11</th>\n",
       "      <td>0.377963</td>\n",
       "      <td>0.622037</td>\n",
       "      <td>NaN</td>\n",
       "      <td>NaN</td>\n",
       "    </tr>\n",
       "    <tr>\n",
       "      <th>2019-03-13</th>\n",
       "      <td>NaN</td>\n",
       "      <td>NaN</td>\n",
       "      <td>0.521618</td>\n",
       "      <td>0.478382</td>\n",
       "    </tr>\n",
       "    <tr>\n",
       "      <th>2019-03-14</th>\n",
       "      <td>NaN</td>\n",
       "      <td>NaN</td>\n",
       "      <td>0.490000</td>\n",
       "      <td>0.510000</td>\n",
       "    </tr>\n",
       "    <tr>\n",
       "      <th>2019-03-18</th>\n",
       "      <td>0.459482</td>\n",
       "      <td>0.540518</td>\n",
       "      <td>NaN</td>\n",
       "      <td>NaN</td>\n",
       "    </tr>\n",
       "    <tr>\n",
       "      <th>2019-03-19</th>\n",
       "      <td>NaN</td>\n",
       "      <td>NaN</td>\n",
       "      <td>0.597686</td>\n",
       "      <td>0.402314</td>\n",
       "    </tr>\n",
       "    <tr>\n",
       "      <th>2019-03-25</th>\n",
       "      <td>0.429427</td>\n",
       "      <td>0.570573</td>\n",
       "      <td>NaN</td>\n",
       "      <td>NaN</td>\n",
       "    </tr>\n",
       "    <tr>\n",
       "      <th>2019-04-01</th>\n",
       "      <td>0.399254</td>\n",
       "      <td>0.600746</td>\n",
       "      <td>NaN</td>\n",
       "      <td>NaN</td>\n",
       "    </tr>\n",
       "    <tr>\n",
       "      <th>2019-04-02</th>\n",
       "      <td>NaN</td>\n",
       "      <td>NaN</td>\n",
       "      <td>0.518987</td>\n",
       "      <td>0.481013</td>\n",
       "    </tr>\n",
       "    <tr>\n",
       "      <th>2019-04-06</th>\n",
       "      <td>NaN</td>\n",
       "      <td>NaN</td>\n",
       "      <td>0.509000</td>\n",
       "      <td>0.491000</td>\n",
       "    </tr>\n",
       "    <tr>\n",
       "      <th>2019-04-07</th>\n",
       "      <td>NaN</td>\n",
       "      <td>NaN</td>\n",
       "      <td>0.525575</td>\n",
       "      <td>0.474425</td>\n",
       "    </tr>\n",
       "    <tr>\n",
       "      <th>2019-04-08</th>\n",
       "      <td>0.438751</td>\n",
       "      <td>0.561249</td>\n",
       "      <td>NaN</td>\n",
       "      <td>NaN</td>\n",
       "    </tr>\n",
       "    <tr>\n",
       "      <th>2019-04-09</th>\n",
       "      <td>NaN</td>\n",
       "      <td>NaN</td>\n",
       "      <td>0.551402</td>\n",
       "      <td>0.448598</td>\n",
       "    </tr>\n",
       "    <tr>\n",
       "      <th>2019-04-15</th>\n",
       "      <td>0.403810</td>\n",
       "      <td>0.596190</td>\n",
       "      <td>NaN</td>\n",
       "      <td>NaN</td>\n",
       "    </tr>\n",
       "  </tbody>\n",
       "</table>\n",
       "</div>"
      ],
      "text/plain": [
       "            Cristina     Macri  Poll_Cristina  Poll_Macri\n",
       "dt                                                       \n",
       "2019-03-01       NaN       NaN       0.521684    0.478316\n",
       "2019-03-04  0.382165  0.617835            NaN         NaN\n",
       "2019-03-08       NaN       NaN       0.504237    0.495763\n",
       "2019-03-09       NaN       NaN       0.492000    0.508000\n",
       "2019-03-10       NaN       NaN       0.566038    0.433962\n",
       "2019-03-11  0.377963  0.622037            NaN         NaN\n",
       "2019-03-13       NaN       NaN       0.521618    0.478382\n",
       "2019-03-14       NaN       NaN       0.490000    0.510000\n",
       "2019-03-18  0.459482  0.540518            NaN         NaN\n",
       "2019-03-19       NaN       NaN       0.597686    0.402314\n",
       "2019-03-25  0.429427  0.570573            NaN         NaN\n",
       "2019-04-01  0.399254  0.600746            NaN         NaN\n",
       "2019-04-02       NaN       NaN       0.518987    0.481013\n",
       "2019-04-06       NaN       NaN       0.509000    0.491000\n",
       "2019-04-07       NaN       NaN       0.525575    0.474425\n",
       "2019-04-08  0.438751  0.561249            NaN         NaN\n",
       "2019-04-09       NaN       NaN       0.551402    0.448598\n",
       "2019-04-15  0.403810  0.596190            NaN         NaN"
      ]
     },
     "execution_count": 124,
     "metadata": {},
     "output_type": "execute_result"
    }
   ],
   "source": [
    "new_data = pd.concat([wiki, cnt], sort=True)\n",
    "new_data = new_data.sort_index()\n",
    "new_data"
   ]
  },
  {
   "cell_type": "code",
   "execution_count": 125,
   "metadata": {},
   "outputs": [],
   "source": [
    "new_data.to_csv(\"web/tweet_num_20190415-N-3.csv\")"
   ]
  },
  {
   "cell_type": "code",
   "execution_count": 59,
   "metadata": {},
   "outputs": [],
   "source": [
    "df = pd.DataFrame(rst[5]['rst'])\n",
    "cnt = df.set_index(df.dt)\n",
    "cnt.index = pd.to_datetime(cnt.index)"
   ]
  },
  {
   "cell_type": "code",
   "execution_count": 61,
   "metadata": {},
   "outputs": [],
   "source": [
    "cnt.to_csv(\"web/data/user_num_20190415.csv\")"
   ]
  },
  {
   "cell_type": "code",
   "execution_count": 10,
   "metadata": {},
   "outputs": [],
   "source": [
    "df = pd.read_csv(\"disk/data/PASO_proba.csv\")"
   ]
  },
  {
   "cell_type": "code",
   "execution_count": 13,
   "metadata": {},
   "outputs": [
    {
     "data": {
      "text/plain": [
       "Text(0.5, 0, 'probability of supporting Macri for tweets with PASO')"
      ]
     },
     "execution_count": 13,
     "metadata": {},
     "output_type": "execute_result"
    },
    {
     "data": {
      "image/png": "[encoded data removed]",
      "text/plain": [
       "<Figure size 432x288 with 1 Axes>"
      ]
     },
     "metadata": {
      "needs_background": "light"
     },
     "output_type": "display_data"
    }
   ],
   "source": [
    "df[\"proba\"].hist(bins=20)\n",
    "plt.xlabel(\"probability of supporting Macri for tweets with PASO\", fontsize=15)"
   ]
  },
  {
   "cell_type": "code",
   "execution_count": 1,
   "metadata": {},
   "outputs": [],
   "source": [
    "from collections import Counter\n",
    "\n",
    "cnt = Counter()\n",
    "\n",
    "for line in open(\"disk/data/2019-07-08/tokens.txt\"):\n",
    "    w = line.strip().split(\" \")\n",
    "    for _w in w:\n",
    "        if _w.startswith(\"@\"):\n",
    "            cnt[_w] += 1"
   ]
  },
  {
   "cell_type": "code",
   "execution_count": 4,
   "metadata": {},
   "outputs": [
    {
     "data": {
      "text/plain": [
       "[('@mauriciomacri', 18723),\n",
       " ('@cfkargentina', 18347),\n",
       " ('@sebastianyatra', 6562),\n",
       " ('@alferdez', 4031),\n",
       " ('@foreveryatra_ec', 2541),\n",
       " ('@gomitwiin', 2438),\n",
       " ('@mariuvidal', 2147),\n",
       " ('@miguelpichetto', 2023),\n",
       " ('@sergiomassa', 1869),\n",
       " ('@andradedirak', 1648),\n",
       " ('@cambiemos', 1527),\n",
       " ('@eldestape_radio', 1514),\n",
       " ('@foreveryatrafc', 1438),\n",
       " ('@tinistoessel', 1187),\n",
       " ('@elisacarrio', 1159),\n",
       " ('@eldestapeweb', 1069),\n",
       " ('@kicillofok', 892),\n",
       " ('@gatosylvestre', 890),\n",
       " ('@c5n', 794),\n",
       " ('@universalmusice', 763),\n",
       " ('@edufeiok', 721),\n",
       " ('@todonoticias', 710),\n",
       " ('@horaciorlarreta', 696),\n",
       " ('@marquitospena', 695),\n",
       " ('@magariovero', 628)]"
      ]
     },
     "execution_count": 4,
     "metadata": {},
     "output_type": "execute_result"
    }
   ],
   "source": [
    "cnt.most_common(25)"
   ]
  },
  {
   "cell_type": "code",
   "execution_count": null,
   "metadata": {},
   "outputs": [],
   "source": []
  }
 ],
 "metadata": {
  "kernelspec": {
   "display_name": "Python 3",
   "language": "python",
   "name": "python3"
  },
  "language_info": {
   "codemirror_mode": {
    "name": "ipython",
    "version": 3
   },
   "file_extension": ".py",
   "mimetype": "text/x-python",
   "name": "python",
   "nbconvert_exporter": "python",
   "pygments_lexer": "ipython3",
   "version": "3.7.3"
  }
 },
 "nbformat": 4,
 "nbformat_minor": 4
}
