{
 "cells": [
  {
   "cell_type": "code",
   "execution_count": 1,
   "metadata": {},
   "outputs": [],
   "source": [
    "from my_weapon import *\n",
    "from tqdm import tqdm_notebook as tqdm"
   ]
  },
  {
   "cell_type": "code",
   "execution_count": 2,
   "metadata": {},
   "outputs": [],
   "source": [
    "df_prob = []\n",
    "for line in open(\"disk/data/p_pro_hillary_anti_trump\"):\n",
    "    w = line.strip()"
   ]
  },
  {
   "cell_type": "code",
   "execution_count": 8,
   "metadata": {},
   "outputs": [],
   "source": [
    "%run head data/p_pro_hillary_anti_trump.txt"
   ]
  },
  {
   "cell_type": "code",
   "execution_count": 4,
   "metadata": {},
   "outputs": [
    {
     "data": {
      "text/plain": [
       "170902883"
      ]
     },
     "execution_count": 4,
     "metadata": {},
     "output_type": "execute_result"
    }
   ],
   "source": [
    "len(probs)"
   ]
  },
  {
   "cell_type": "code",
   "execution_count": 5,
   "metadata": {},
   "outputs": [
    {
     "data": {
      "text/plain": [
       "<matplotlib.axes._subplots.AxesSubplot at 0x7f6c8e2d8ef0>"
      ]
     },
     "execution_count": 5,
     "metadata": {},
     "output_type": "execute_result"
    },
    {
     "data": {
      "image/png": "[encoded data removed]",
      "text/plain": [
       "<Figure size 432x288 with 1 Axes>"
      ]
     },
     "metadata": {
      "needs_background": "light"
     },
     "output_type": "display_data"
    }
   ],
   "source": [
    "probs.hist()"
   ]
  },
  {
   "cell_type": "code",
   "execution_count": 3,
   "metadata": {},
   "outputs": [],
   "source": [
    "def get_users_camp(p):\n",
    "    d = json.load(open(f\"../russian_trolls/disk/user_hillary_trump-{p}.json\"))\n",
    "    users = []\n",
    "    for u, v in tqdm(d.items()):\n",
    "#         if v[0] == 0 and v[1] == 0:\n",
    "#             continue\n",
    "        if v[0] > v[1]:\n",
    "            users.append({\"uid\": u, \"Camp\": \"C\"})\n",
    "        elif v[0] < v[1]:\n",
    "            users.append({\"uid\": u, \"Camp\": \"T\"})\n",
    "        else:\n",
    "            users.append({\"uid\": u, \"Camp\": \"U\"})\n",
    "    users = pd.DataFrame(users).set_index(\"uid\")\n",
    "    print(users.Camp.value_counts(normalize=True))    \n",
    "    print(users.Camp.value_counts())"
   ]
  },
  {
   "cell_type": "code",
   "execution_count": 36,
   "metadata": {},
   "outputs": [
    {
     "name": "stderr",
     "output_type": "stream",
     "text": [
      "100%|██████████| 10941026/10941026 [00:04<00:00, 2435248.93it/s]\n"
     ]
    },
    {
     "name": "stdout",
     "output_type": "stream",
     "text": [
      "C    0.650127\n",
      "T    0.276310\n",
      "U    0.073563\n",
      "Name: Camp, dtype: float64\n",
      "C    7113057\n",
      "T    3023112\n",
      "U     804857\n",
      "Name: Camp, dtype: int64\n"
     ]
    }
   ],
   "source": [
    "get_users_camp(p=0.5)"
   ]
  },
  {
   "cell_type": "code",
   "execution_count": 39,
   "metadata": {},
   "outputs": [
    {
     "name": "stderr",
     "output_type": "stream",
     "text": [
      "100%|██████████| 10941026/10941026 [00:04<00:00, 2318852.74it/s]\n"
     ]
    },
    {
     "name": "stdout",
     "output_type": "stream",
     "text": [
      "C    0.532102\n",
      "U    0.262618\n",
      "T    0.205280\n",
      "Name: Camp, dtype: float64\n",
      "C    5821738\n",
      "U    2873313\n",
      "T    2245975\n",
      "Name: Camp, dtype: int64\n"
     ]
    }
   ],
   "source": [
    "get_users_camp(p=0.75)"
   ]
  },
  {
   "cell_type": "code",
   "execution_count": null,
   "metadata": {},
   "outputs": [],
   "source": [
    "df_proba1 = pd.read_pickle(\"/media/alex/data/election_data/data/complete_trump_vs_hillary/df_proba_corrected_official_client_june1_sep1_signi_final_2.pickle\")\n",
    "df_proba2 = pd.read_pickle(\"/media/alex/data/election_data/data/complete_trump_vs_hillary_sep-nov/df_proba_corrected_official_client_sep1_nov9_signi_final.pickle\")\n",
    "df_proba = pd.concat([df_proba1, df_proba2])\n",
    "# df_proba = df_proba.set_index(\"tweet_id\")"
   ]
  },
  {
   "cell_type": "code",
   "execution_count": null,
   "metadata": {},
   "outputs": [],
   "source": [
    "df_proba2"
   ]
  },
  {
   "cell_type": "markdown",
   "metadata": {},
   "source": [
    "## cumulative prediction (time series)"
   ]
  },
  {
   "cell_type": "code",
   "execution_count": 11,
   "metadata": {},
   "outputs": [],
   "source": [
    "from datetime import datetime, timedelta\n",
    "\n",
    "def get_users_camp(d, dt):\n",
    "    _users = Counter()\n",
    "    for u, v in d.items():\n",
    "#         if v[1] + v[0] <= 100:\n",
    "#             continue\n",
    "        if v[1] > v[0]:\n",
    "            _users[\"Clinton\"] += 1\n",
    "        elif v[0] > v[1]:\n",
    "            _users[\"Trump\"] += 1\n",
    "        else:\n",
    "            _users[\"Others\"] += 1\n",
    "    _users = dict(_users)\n",
    "    _users[\"dt\"] = dt.strftime(\"%Y-%m-%d\")\n",
    "    print(_users)\n",
    "    \n",
    "    \n",
    "def predict_cumulative(df_proba):\n",
    "    start = datetime(2016, 6, 1)\n",
    "    dt = start\n",
    "    users = {}\n",
    "\n",
    "    while dt < datetime(2016, 11, 9):\n",
    "        end = start + timedelta(days=1)\n",
    "        dt = start\n",
    "        df_tmp = df_proba[(df_proba.datetime_EST >= start) & (df_proba.datetime_EST < end)]\n",
    "        start = end\n",
    "\n",
    "        for row in df_tmp.itertuples():\n",
    "            p = row.p_pro_hillary_anti_trump\n",
    "            u = row.user_id\n",
    "            if u not in users:\n",
    "                users[u] = [0, 0]\n",
    "            if p > 0.5: # Clinton\n",
    "                users[u][1] += 1\n",
    "            elif p <= 0.5: # Trump\n",
    "                users[u][0] += 1\n",
    "        get_users_camp(users, dt)"
   ]
  },
  {
   "cell_type": "code",
   "execution_count": 37,
   "metadata": {},
   "outputs": [],
   "source": [
    "rsts = []\n",
    "for line in open(\"data/us-culmulative-from-sep.json\"):\n",
    "    d = json.loads(line.strip())\n",
    "    rsts.append(d)\n",
    "rsts = pd.DataFrame(rsts)\n",
    "rsts.dt = pd.to_datetime(rsts.dt)\n",
    "rsts = rsts.set_index(\"dt\")"
   ]
  },
  {
   "cell_type": "code",
   "execution_count": null,
   "metadata": {},
   "outputs": [],
   "source": [
    "rsts"
   ]
  },
  {
   "cell_type": "code",
   "execution_count": 39,
   "metadata": {},
   "outputs": [
    {
     "data": {
      "text/plain": [
       "<matplotlib.axes._subplots.AxesSubplot at 0x7f30586df3c8>"
      ]
     },
     "execution_count": 39,
     "metadata": {},
     "output_type": "execute_result"
    },
    {
     "data": {
      "image/png": "[encoded data removed]",
      "text/plain": [
       "<Figure size 432x288 with 1 Axes>"
      ]
     },
     "metadata": {
      "needs_background": "light"
     },
     "output_type": "display_data"
    }
   ],
   "source": [
    "rsts.plot()"
   ]
  },
  {
   "cell_type": "code",
   "execution_count": 41,
   "metadata": {},
   "outputs": [
    {
     "data": {
      "text/plain": [
       "<matplotlib.axes._subplots.AxesSubplot at 0x7f3051575390>"
      ]
     },
     "execution_count": 41,
     "metadata": {},
     "output_type": "execute_result"
    },
    {
     "data": {
      "image/png": "[encoded data removed]",
      "text/plain": [
       "<Figure size 432x288 with 1 Axes>"
      ]
     },
     "metadata": {
      "needs_background": "light"
     },
     "output_type": "display_data"
    }
   ],
   "source": [
    "rsts.div(rsts.sum(axis=1), axis=0).plot()"
   ]
  },
  {
   "cell_type": "code",
   "execution_count": 8,
   "metadata": {},
   "outputs": [],
   "source": [
    "rsts = []\n",
    "for line in open(\"data/us-cul-from-june.json\"):\n",
    "    d = json.loads(line.strip())\n",
    "    rsts.append(d)\n",
    "rsts = pd.DataFrame(rsts)\n",
    "rsts.dt = pd.to_datetime(rsts.dt)\n",
    "rsts = rsts.set_index(\"dt\")"
   ]
  },
  {
   "cell_type": "code",
   "execution_count": 9,
   "metadata": {},
   "outputs": [
    {
     "data": {
      "text/plain": [
       "<matplotlib.axes._subplots.AxesSubplot at 0x7f3706c3b0f0>"
      ]
     },
     "execution_count": 9,
     "metadata": {},
     "output_type": "execute_result"
    },
    {
     "data": {
      "image/png": "[encoded data removed]",
      "text/plain": [
       "<Figure size 432x288 with 1 Axes>"
      ]
     },
     "metadata": {
      "needs_background": "light"
     },
     "output_type": "display_data"
    }
   ],
   "source": [
    "rsts.plot()"
   ]
  },
  {
   "cell_type": "code",
   "execution_count": 10,
   "metadata": {},
   "outputs": [
    {
     "data": {
      "text/plain": [
       "<matplotlib.axes._subplots.AxesSubplot at 0x7f3706acbbe0>"
      ]
     },
     "execution_count": 10,
     "metadata": {},
     "output_type": "execute_result"
    },
    {
     "data": {
      "image/png": "[encoded data removed]",
      "text/plain": [
       "<Figure size 432x288 with 1 Axes>"
      ]
     },
     "metadata": {
      "needs_background": "light"
     },
     "output_type": "display_data"
    }
   ],
   "source": [
    "rsts.div(rsts.sum(axis=1), axis=0).plot()"
   ]
  },
  {
   "cell_type": "code",
   "execution_count": 3,
   "metadata": {},
   "outputs": [],
   "source": [
    "# df_proba.to_pickle(\"disk/data/df_proba_corrected_official_client_june1_nov9_signi_final.pickle\")\n",
    "# df_proba = pd.read_pickle(\"disk/data/df_proba_corrected_official_client_june1_nov9_signi_final.pickle\")\n",
    "df_proba_7 = df_proba[(df_proba.p_pro_hillary_anti_trump > 0.7) | (df_proba.p_pro_hillary_anti_trump < 0.3)]\n",
    "len(df_proba_7)"
   ]
  },
  {
   "cell_type": "code",
   "execution_count": null,
   "metadata": {},
   "outputs": [],
   "source": [
    "df_proba = pd.read_pickle(\"disk/data/df_proba_corrected_official_client_june1_nov9_signi_final.pickle\")\n",
    "len(df_proba)"
   ]
  },
  {
   "cell_type": "code",
   "execution_count": 17,
   "metadata": {},
   "outputs": [
    {
     "data": {
      "text/plain": [
       "107917516"
      ]
     },
     "execution_count": 17,
     "metadata": {},
     "output_type": "execute_result"
    }
   ],
   "source": [
    "# df_proba_75 = df_proba[df_proba.p_pro_hillary_anti_trump > 0.75]\n",
    "# df_proba_25 = df_proba[df_proba.p_pro_hillary_anti_trump < 0.25]\n",
    "\n",
    "df_proba_7 = df_proba[(df_proba.p_pro_hillary_anti_trump > 0.7) | (df_proba.p_pro_hillary_anti_trump < 0.3)]\n",
    "len(df_proba_7)"
   ]
  },
  {
   "cell_type": "code",
   "execution_count": null,
   "metadata": {},
   "outputs": [],
   "source": [
    "df_proba_75.groupby(\"user_id\").count()"
   ]
  },
  {
   "cell_type": "code",
   "execution_count": 9,
   "metadata": {},
   "outputs": [],
   "source": [
    "df_proba_tmp = df_proba[(df_proba.datetime_EST >= \"2016-06-01 00:00:00\") & (df_proba.datetime_EST < \"2016-06-02 00:00:00\")]"
   ]
  },
  {
   "cell_type": "code",
   "execution_count": 8,
   "metadata": {},
   "outputs": [
    {
     "data": {
      "application/vnd.jupyter.widget-view+json": {
       "model_id": "0f6d90b170014c8ebcbd48f7d633352a",
       "version_major": 2,
       "version_minor": 0
      },
      "text/plain": [
       "HBox(children=(IntProgress(value=1, bar_style='info', max=1), HTML(value='')))"
      ]
     },
     "metadata": {},
     "output_type": "display_data"
    },
    {
     "name": "stdout",
     "output_type": "stream",
     "text": [
      "\n"
     ]
    }
   ],
   "source": [
    "#** user classification **\n",
    "\n",
    "_p = 0.7\n",
    "users = {}\n",
    "for row in tqdm(df_proba.itertuples()):\n",
    "    p = row.p_pro_hillary_anti_trump\n",
    "    u = row.user_id\n",
    "    if u not in users:\n",
    "        users[u] = [0, 0]\n",
    "    if p > _p: # Clinton\n",
    "        users[u][1] += 1\n",
    "    elif p < 1 - _p: # Trump\n",
    "        users[u][0] += 1\n",
    "#     else: # Others\n",
    "#         users[u][2] += 1"
   ]
  },
  {
   "cell_type": "markdown",
   "metadata": {},
   "source": [
    "## Average probs for classification"
   ]
  },
  {
   "cell_type": "code",
   "execution_count": 4,
   "metadata": {},
   "outputs": [
    {
     "data": {
      "application/vnd.jupyter.widget-view+json": {
       "model_id": "b26f139da95644ddb52cd602d19f91f1",
       "version_major": 2,
       "version_minor": 0
      },
      "text/plain": [
       "HBox(children=(IntProgress(value=1, bar_style='info', max=1), HTML(value='')))"
      ]
     },
     "metadata": {},
     "output_type": "display_data"
    },
    {
     "name": "stdout",
     "output_type": "stream",
     "text": [
      "\n"
     ]
    }
   ],
   "source": [
    "#** user classification **\n",
    "\n",
    "_p = 0.5\n",
    "users = {}\n",
    "for row in tqdm(df_proba.itertuples()):\n",
    "    p = row.p_pro_hillary_anti_trump\n",
    "    u = row.user_id\n",
    "    if u not in users:\n",
    "        users[u] = [p]\n",
    "    else:\n",
    "        users[u].append(p)"
   ]
  },
  {
   "cell_type": "code",
   "execution_count": 6,
   "metadata": {},
   "outputs": [
    {
     "data": {
      "application/vnd.jupyter.widget-view+json": {
       "model_id": "83702bba8c8d4c62bad82f50b8b2285a",
       "version_major": 2,
       "version_minor": 0
      },
      "text/plain": [
       "HBox(children=(IntProgress(value=0, max=10594404), HTML(value='')))"
      ]
     },
     "metadata": {},
     "output_type": "display_data"
    },
    {
     "name": "stdout",
     "output_type": "stream",
     "text": [
      "\n"
     ]
    }
   ],
   "source": [
    "for u, v in tqdm(users.items()):\n",
    "    users[u] = np.array(v).mean()"
   ]
  },
  {
   "cell_type": "code",
   "execution_count": 8,
   "metadata": {},
   "outputs": [],
   "source": [
    "_users = []\n",
    "for u, v in users.items():\n",
    "    if v > 0.5:\n",
    "        _users.append({\"uid\": u, \"prob\": v, \"camp\": \"Clinton\"})\n",
    "    else:\n",
    "        _users.append({\"uid\": u, \"prob\": v, \"camp\": \"Trump\"})"
   ]
  },
  {
   "cell_type": "code",
   "execution_count": null,
   "metadata": {},
   "outputs": [],
   "source": [
    "users_ave_prob = pd.DataFrame(_users).set_index(\"uid\")\n",
    "users_ave_prob"
   ]
  },
  {
   "cell_type": "code",
   "execution_count": 11,
   "metadata": {},
   "outputs": [
    {
     "data": {
      "text/plain": [
       "<matplotlib.axes._subplots.AxesSubplot at 0x7f73bcc5cd68>"
      ]
     },
     "execution_count": 11,
     "metadata": {},
     "output_type": "execute_result"
    },
    {
     "data": {
      "image/png": "[encoded data removed]",
      "text/plain": [
       "<Figure size 432x288 with 1 Axes>"
      ]
     },
     "metadata": {
      "needs_background": "light"
     },
     "output_type": "display_data"
    }
   ],
   "source": [
    "users_ave_prob.prob.hist()"
   ]
  },
  {
   "cell_type": "code",
   "execution_count": 16,
   "metadata": {},
   "outputs": [
    {
     "data": {
      "text/plain": [
       "Clinton    0.689046\n",
       "Trump      0.310954\n",
       "Name: camp, dtype: float64"
      ]
     },
     "execution_count": 16,
     "metadata": {},
     "output_type": "execute_result"
    }
   ],
   "source": [
    "users_ave_prob.camp.value_counts(normalize=True)"
   ]
  },
  {
   "cell_type": "code",
   "execution_count": 17,
   "metadata": {},
   "outputs": [],
   "source": [
    "def get_users_camp_v2(d):\n",
    "    _users = []\n",
    "    for u, v in tqdm(d.items()):\n",
    "#         if v[0] == 0 and v[1] == 0:\n",
    "#             continue\n",
    "        if v[1] > v[0]:\n",
    "            _users.append({\"uid\": u, \"Camp\": \"Clinton\"})\n",
    "        elif v[0] > v[1]:\n",
    "            _users.append({\"uid\": u, \"Camp\": \"Trump\"})\n",
    "        else:\n",
    "            _users.append({\"uid\": u, \"Camp\": \"Others\"})\n",
    "    _users = pd.DataFrame(_users).set_index(\"uid\")\n",
    "    # _users.to_pickle(\"disk/data/df_users_remove_hillary_p=.7.pl\")\n",
    "    # print(_users.Camp.value_counts(normalize=True))\n",
    "    print({\"Trump\": _users.Camp.count(\"Trump\"), \"Clinton\": _users.Camp.count(\"Clinton\"), \"Others\": _users.Camp.count(\"Others\")})"
   ]
  },
  {
   "cell_type": "code",
   "execution_count": 10,
   "metadata": {},
   "outputs": [
    {
     "data": {
      "application/vnd.jupyter.widget-view+json": {
       "model_id": "215860a65ff64626bd5229e2d8f6321a",
       "version_major": 2,
       "version_minor": 0
      },
      "text/plain": [
       "HBox(children=(IntProgress(value=0, max=7436617), HTML(value='')))"
      ]
     },
     "metadata": {},
     "output_type": "display_data"
    },
    {
     "name": "stdout",
     "output_type": "stream",
     "text": [
      "\n",
      "Clinton    0.570179\n",
      "Trump      0.218470\n",
      "Others     0.211351\n",
      "Name: Camp, dtype: float64\n",
      "Clinton    4240205\n",
      "Trump      1624674\n",
      "Others     1571738\n",
      "Name: Camp, dtype: int64\n"
     ]
    }
   ],
   "source": [
    "# remove Hillary\n",
    "\n",
    "get_users_camp_v2(d=users)"
   ]
  },
  {
   "cell_type": "code",
   "execution_count": 13,
   "metadata": {},
   "outputs": [
    {
     "data": {
      "application/vnd.jupyter.widget-view+json": {
       "model_id": "4629372909a9449b86c02a13115321ae",
       "version_major": 2,
       "version_minor": 0
      },
      "text/plain": [
       "HBox(children=(IntProgress(value=0, max=10594404), HTML(value='')))"
      ]
     },
     "metadata": {},
     "output_type": "display_data"
    },
    {
     "name": "stdout",
     "output_type": "stream",
     "text": [
      "\n",
      "C    0.565852\n",
      "U    0.219408\n",
      "T    0.214740\n",
      "Name: Camp, dtype: float64\n",
      "C    5994865\n",
      "U    2324495\n",
      "T    2275044\n",
      "Name: Camp, dtype: int64\n"
     ]
    }
   ],
   "source": [
    "# 0.7, keep Hillary\n",
    "\n",
    "get_users_camp_v2(d=users)"
   ]
  },
  {
   "cell_type": "markdown",
   "metadata": {},
   "source": [
    "## remove query of Hillary, Clinton and HillaryClinton"
   ]
  },
  {
   "cell_type": "code",
   "execution_count": 3,
   "metadata": {},
   "outputs": [
    {
     "data": {
      "text/plain": [
       "158322365"
      ]
     },
     "execution_count": 3,
     "metadata": {},
     "output_type": "execute_result"
    }
   ],
   "source": [
    "df_proba = pd.read_pickle(\"disk/data/df_proba_corrected_official_client_june1_nov9_signi_final.pickle\")\n",
    "len(df_proba)"
   ]
  },
  {
   "cell_type": "code",
   "execution_count": 5,
   "metadata": {},
   "outputs": [
    {
     "data": {
      "text/plain": [
       "10594404"
      ]
     },
     "execution_count": 5,
     "metadata": {},
     "output_type": "execute_result"
    }
   ],
   "source": [
    "len(df_proba.user_id.value_counts())"
   ]
  },
  {
   "cell_type": "code",
   "execution_count": 6,
   "metadata": {},
   "outputs": [],
   "source": [
    "tweet_ids_only_Hillary = [int(line.strip()) for line in open(\"disk/data/hillary_ids_ignore.txt\")]"
   ]
  },
  {
   "cell_type": "code",
   "execution_count": 7,
   "metadata": {},
   "outputs": [
    {
     "data": {
      "text/plain": [
       "91498580"
      ]
     },
     "execution_count": 7,
     "metadata": {},
     "output_type": "execute_result"
    }
   ],
   "source": [
    "df_proba = df_proba[~df_proba.index.isin(tweet_ids_only_Hillary)]\n",
    "len(df_proba)"
   ]
  },
  {
   "cell_type": "code",
   "execution_count": 22,
   "metadata": {},
   "outputs": [],
   "source": [
    "users = pd.read_pickle(\"disk/data/df_users_remove_hillary_p=.7.pl\")"
   ]
  },
  {
   "cell_type": "code",
   "execution_count": 53,
   "metadata": {},
   "outputs": [],
   "source": [
    "tweet_ids_only_Hillary = [int(line.strip()) for line in open(\"disk/data/only_hillary_ids.txt\")]"
   ]
  },
  {
   "cell_type": "code",
   "execution_count": 52,
   "metadata": {},
   "outputs": [],
   "source": [
    "tweet_ids_only_clinton = [int(line.strip()) for line in open(\"disk/data/only_Clinton_ids.txt\")]"
   ]
  },
  {
   "cell_type": "code",
   "execution_count": 30,
   "metadata": {},
   "outputs": [],
   "source": [
    "tweet_ids_only_hillaryclinton = [int(line.strip()) for line in open(\"disk/data/only_hillaryclinton_ids.txt\")]"
   ]
  },
  {
   "cell_type": "code",
   "execution_count": 54,
   "metadata": {},
   "outputs": [],
   "source": [
    "tweet_ids_only_trump = [int(line.strip()) for line in open(\"disk/data/only_trump_ids.txt\")]"
   ]
  },
  {
   "cell_type": "code",
   "execution_count": 6,
   "metadata": {},
   "outputs": [],
   "source": [
    "bots_tids = [int(line.strip().split(\"\\t\")[0]) for line in open(\"disk/data/unofficial_clients_tid.txt\")]"
   ]
  },
  {
   "cell_type": "code",
   "execution_count": 8,
   "metadata": {},
   "outputs": [],
   "source": [
    "bots_uids = [int(line.strip().split(\"\\t\")[0]) for line in open(\"disk/data/unofficial_clients_uid.txt\")]"
   ]
  },
  {
   "cell_type": "code",
   "execution_count": 18,
   "metadata": {},
   "outputs": [
    {
     "data": {
      "text/plain": [
       "17969258"
      ]
     },
     "execution_count": 18,
     "metadata": {},
     "output_type": "execute_result"
    }
   ],
   "source": [
    "df_proba = df_proba[df_proba.index.isin(tweet_ids_only_Hillary)]\n",
    "len(df_proba)"
   ]
  },
  {
   "cell_type": "code",
   "execution_count": null,
   "metadata": {},
   "outputs": [],
   "source": [
    "df_proba = df_proba[(df_proba.index.isin(tweet_ids_only_Hillary)) & (df_proba.index.isin(tid))]\n",
    "len(df_proba)"
   ]
  },
  {
   "cell_type": "code",
   "execution_count": 26,
   "metadata": {},
   "outputs": [
    {
     "data": {
      "text/plain": [
       "12445914"
      ]
     },
     "execution_count": 26,
     "metadata": {},
     "output_type": "execute_result"
    }
   ],
   "source": [
    "df_proba = df_proba[df_proba.index.isin(tweet_ids_only_clinton)]\n",
    "len(df_proba)"
   ]
  },
  {
   "cell_type": "code",
   "execution_count": 31,
   "metadata": {},
   "outputs": [
    {
     "data": {
      "text/plain": [
       "10970769"
      ]
     },
     "execution_count": 31,
     "metadata": {},
     "output_type": "execute_result"
    }
   ],
   "source": [
    "df_proba = df_proba[df_proba.index.isin(tweet_ids_only_hillaryclinton)]\n",
    "len(df_proba)"
   ]
  },
  {
   "cell_type": "code",
   "execution_count": 5,
   "metadata": {},
   "outputs": [
    {
     "data": {
      "text/plain": [
       "69845810"
      ]
     },
     "execution_count": 5,
     "metadata": {},
     "output_type": "execute_result"
    }
   ],
   "source": [
    "df_proba = df_proba[df_proba.index.isin(tweet_ids_only_trump)]\n",
    "len(df_proba)"
   ]
  },
  {
   "cell_type": "markdown",
   "metadata": {},
   "source": [
    "## Trump (query)"
   ]
  },
  {
   "cell_type": "code",
   "execution_count": 21,
   "metadata": {},
   "outputs": [
    {
     "data": {
      "application/vnd.jupyter.widget-view+json": {
       "model_id": "9301c163346542089a9422fec2503a03",
       "version_major": 2,
       "version_minor": 0
      },
      "text/plain": [
       "HBox(children=(IntProgress(value=1, bar_style='info', max=1), HTML(value='')))"
      ]
     },
     "metadata": {},
     "output_type": "display_data"
    },
    {
     "name": "stdout",
     "output_type": "stream",
     "text": [
      "\n"
     ]
    }
   ],
   "source": [
    "word_count = Counter()\n",
    "\n",
    "for line in tqdm(open(\"disk/data/only_trump_words.txt\")):\n",
    "    words = line.strip().split()\n",
    "    for w in words:\n",
    "        if w.startswith(\"#\"):\n",
    "            word_count[w] += 1"
   ]
  },
  {
   "cell_type": "code",
   "execution_count": 22,
   "metadata": {},
   "outputs": [],
   "source": [
    "from nltk.corpus import stopwords\n",
    "import string\n",
    "\n",
    "stopwords = set(stopwords.words('english')) | set(string.punctuation)"
   ]
  },
  {
   "cell_type": "code",
   "execution_count": null,
   "metadata": {},
   "outputs": [],
   "source": [
    "for w, n in word_count.most_common(500):\n",
    "    if w not in stopwords:\n",
    "        print(w, n, sep=\"\\t\")"
   ]
  },
  {
   "cell_type": "code",
   "execution_count": 27,
   "metadata": {},
   "outputs": [
    {
     "data": {
      "application/vnd.jupyter.widget-view+json": {
       "model_id": "f28b6a72ecd74af5aebbf34e61687f8e",
       "version_major": 2,
       "version_minor": 0
      },
      "text/plain": [
       "HBox(children=(IntProgress(value=1, bar_style='info', max=1), HTML(value='')))"
      ]
     },
     "metadata": {},
     "output_type": "display_data"
    },
    {
     "name": "stdout",
     "output_type": "stream",
     "text": [
      "\n"
     ]
    }
   ],
   "source": [
    "client_count = Counter()\n",
    "\n",
    "for line in tqdm(open(\"disk/data/only_trump_clients.txt\")):\n",
    "    w = line.strip().split(\"\\t\")[1]\n",
    "    client_count[w] += 1"
   ]
  },
  {
   "cell_type": "code",
   "execution_count": null,
   "metadata": {},
   "outputs": [],
   "source": [
    "client_count.most_common(50)"
   ]
  },
  {
   "cell_type": "code",
   "execution_count": 9,
   "metadata": {},
   "outputs": [],
   "source": [
    "df_proba_people = df_proba[~df_proba.user_id.isin(bots_uids)]"
   ]
  },
  {
   "cell_type": "code",
   "execution_count": 12,
   "metadata": {},
   "outputs": [
    {
     "name": "stdout",
     "output_type": "stream",
     "text": [
      "{'Others': 10268, 'Trump': 73060, 'Clinton': 121679, 'dt': '2016-06-01'}\n",
      "{'Others': 19821, 'Trump': 132043, 'Clinton': 229323, 'dt': '2016-06-02'}\n",
      "{'Clinton': 327168, 'Trump': 182262, 'Others': 28731, 'dt': '2016-06-03'}\n",
      "{'Clinton': 464422, 'Trump': 229195, 'Others': 38901, 'dt': '2016-06-04'}\n",
      "{'Clinton': 549605, 'Trump': 258108, 'Others': 45100, 'dt': '2016-06-05'}\n",
      "{'Clinton': 637288, 'Trump': 296722, 'Others': 52929, 'dt': '2016-06-06'}\n",
      "{'Clinton': 773747, 'Trump': 362135, 'Others': 69303, 'dt': '2016-06-07'}\n",
      "{'Clinton': 877598, 'Trump': 402388, 'Others': 82318, 'dt': '2016-06-08'}\n",
      "{'Clinton': 936118, 'Trump': 436409, 'Others': 89885, 'dt': '2016-06-09'}\n",
      "{'Clinton': 1035858, 'Trump': 489107, 'Others': 101791, 'dt': '2016-06-10'}\n",
      "{'Clinton': 1098671, 'Trump': 522612, 'Others': 109897, 'dt': '2016-06-11'}\n",
      "{'Clinton': 1259713, 'Trump': 560108, 'Others': 123166, 'dt': '2016-06-12'}\n",
      "{'Clinton': 1339492, 'Trump': 598029, 'Others': 132103, 'dt': '2016-06-13'}\n",
      "{'Clinton': 1394537, 'Trump': 642566, 'Others': 140550, 'dt': '2016-06-14'}\n",
      "{'Clinton': 1447703, 'Trump': 667856, 'Others': 147190, 'dt': '2016-06-15'}\n",
      "{'Clinton': 1501810, 'Trump': 688053, 'Others': 153453, 'dt': '2016-06-16'}\n",
      "{'Clinton': 1541447, 'Trump': 708026, 'Others': 158986, 'dt': '2016-06-17'}\n",
      "{'Clinton': 1578877, 'Trump': 727048, 'Others': 164025, 'dt': '2016-06-18'}\n",
      "{'Clinton': 1616070, 'Trump': 747394, 'Others': 169684, 'dt': '2016-06-19'}\n",
      "{'Clinton': 1648139, 'Trump': 763556, 'Others': 174274, 'dt': '2016-06-20'}\n",
      "{'Clinton': 1689899, 'Trump': 783797, 'Others': 178987, 'dt': '2016-06-21'}\n",
      "{'Clinton': 1724729, 'Trump': 800920, 'Others': 182648, 'dt': '2016-06-22'}\n",
      "{'Clinton': 1761110, 'Trump': 817129, 'Others': 187120, 'dt': '2016-06-23'}\n",
      "{'Clinton': 1857131, 'Trump': 843420, 'Others': 195420, 'dt': '2016-06-24'}\n",
      "{'Clinton': 1905018, 'Trump': 860747, 'Others': 200957, 'dt': '2016-06-25'}\n",
      "{'Clinton': 1944523, 'Trump': 876425, 'Others': 205377, 'dt': '2016-06-26'}\n",
      "{'Clinton': 1978228, 'Trump': 888110, 'Others': 208912, 'dt': '2016-06-27'}\n",
      "{'Clinton': 2008420, 'Trump': 903149, 'Others': 212621, 'dt': '2016-06-28'}\n",
      "{'Clinton': 2035162, 'Trump': 915484, 'Others': 215805, 'dt': '2016-06-29'}\n",
      "{'Clinton': 2060515, 'Trump': 928293, 'Others': 218855, 'dt': '2016-06-30'}\n",
      "{'Clinton': 2084011, 'Trump': 942227, 'Others': 222419, 'dt': '2016-07-01'}\n",
      "{'Clinton': 2104233, 'Trump': 956947, 'Others': 225239, 'dt': '2016-07-02'}\n",
      "{'Clinton': 2126775, 'Trump': 968594, 'Others': 227656, 'dt': '2016-07-03'}\n",
      "{'Clinton': 2149330, 'Trump': 983107, 'Others': 230844, 'dt': '2016-07-04'}\n",
      "{'Clinton': 2174693, 'Trump': 1020251, 'Others': 237329, 'dt': '2016-07-05'}\n",
      "{'Others': 242378, 'Trump': 1045676, 'Clinton': 2205907, 'dt': '2016-07-06'}\n",
      "{'Others': 250336, 'Trump': 1082053, 'Clinton': 2232833, 'dt': '2016-07-07'}\n",
      "{'Others': 260460, 'Trump': 1124957, 'Clinton': 2261293, 'dt': '2016-07-08'}\n",
      "{'Others': 265773, 'Trump': 1146025, 'Clinton': 2286741, 'dt': '2016-07-09'}\n",
      "{'Others': 270416, 'Trump': 1167506, 'Clinton': 2306033, 'dt': '2016-07-10'}\n",
      "{'Others': 280662, 'Trump': 1232956, 'Clinton': 2314127, 'dt': '2016-07-11'}\n",
      "{'Others': 288889, 'Trump': 1272868, 'Clinton': 2349928, 'dt': '2016-07-12'}\n",
      "{'Others': 293754, 'Trump': 1294264, 'Clinton': 2380247, 'dt': '2016-07-13'}\n",
      "{'Others': 298531, 'Trump': 1313315, 'Clinton': 2406625, 'dt': '2016-07-14'}\n",
      "{'Others': 303170, 'Trump': 1332869, 'Clinton': 2435140, 'dt': '2016-07-15'}\n",
      "{'Others': 307567, 'Trump': 1346816, 'Clinton': 2461669, 'dt': '2016-07-16'}\n",
      "{'Others': 310908, 'Trump': 1360511, 'Clinton': 2485594, 'dt': '2016-07-17'}\n",
      "{'Others': 316927, 'Trump': 1374196, 'Clinton': 2545649, 'dt': '2016-07-18'}\n",
      "{'Others': 330997, 'Trump': 1388117, 'Clinton': 2724553, 'dt': '2016-07-19'}\n",
      "{'Others': 334565, 'Trump': 1401094, 'Clinton': 2756960, 'dt': '2016-07-20'}\n",
      "{'Others': 337385, 'Trump': 1407639, 'Clinton': 2777776, 'dt': '2016-07-21'}\n",
      "{'Others': 344937, 'Trump': 1431020, 'Clinton': 2849134, 'dt': '2016-07-22'}\n",
      "{'Others': 349805, 'Trump': 1447744, 'Clinton': 2888643, 'dt': '2016-07-23'}\n",
      "{'Others': 354680, 'Trump': 1468056, 'Clinton': 2919100, 'dt': '2016-07-24'}\n",
      "{'Others': 362989, 'Trump': 1493494, 'Clinton': 2985008, 'dt': '2016-07-25'}\n",
      "{'Others': 368328, 'Trump': 1505430, 'Clinton': 3031124, 'dt': '2016-07-26'}\n",
      "{'Others': 377357, 'Trump': 1528029, 'Clinton': 3122864, 'dt': '2016-07-27'}\n",
      "{'Others': 387003, 'Trump': 1551687, 'Clinton': 3194102, 'dt': '2016-07-28'}\n",
      "{'Others': 396451, 'Trump': 1580157, 'Clinton': 3261651, 'dt': '2016-07-29'}\n",
      "{'Others': 400641, 'Trump': 1594758, 'Clinton': 3297255, 'dt': '2016-07-30'}\n",
      "{'Others': 404201, 'Trump': 1609023, 'Clinton': 3329138, 'dt': '2016-07-31'}\n",
      "{'Others': 409006, 'Trump': 1625234, 'Clinton': 3363389, 'dt': '2016-08-01'}\n",
      "{'Others': 412323, 'Trump': 1636884, 'Clinton': 3400504, 'dt': '2016-08-02'}\n",
      "{'Others': 415785, 'Trump': 1646430, 'Clinton': 3437185, 'dt': '2016-08-03'}\n",
      "{'Others': 419073, 'Trump': 1655136, 'Clinton': 3472839, 'dt': '2016-08-04'}\n",
      "{'Others': 421530, 'Trump': 1663099, 'Clinton': 3499208, 'dt': '2016-08-05'}\n",
      "{'Others': 423722, 'Trump': 1670377, 'Clinton': 3517236, 'dt': '2016-08-06'}\n",
      "{'Others': 425656, 'Trump': 1677641, 'Clinton': 3533687, 'dt': '2016-08-07'}\n",
      "{'Others': 427848, 'Trump': 1688227, 'Clinton': 3552277, 'dt': '2016-08-08'}\n",
      "{'Others': 430126, 'Trump': 1698944, 'Clinton': 3589918, 'dt': '2016-08-09'}\n",
      "{'Others': 435821, 'Trump': 1718731, 'Clinton': 3623608, 'dt': '2016-08-10'}\n",
      "{'Others': 438705, 'Trump': 1728989, 'Clinton': 3646871, 'dt': '2016-08-11'}\n",
      "{'Others': 441037, 'Trump': 1739726, 'Clinton': 3665720, 'dt': '2016-08-12'}\n",
      "{'Others': 443226, 'Trump': 1746187, 'Clinton': 3680829, 'dt': '2016-08-13'}\n",
      "{'Others': 445044, 'Trump': 1754356, 'Clinton': 3694835, 'dt': '2016-08-14'}\n",
      "{'Others': 446814, 'Trump': 1762089, 'Clinton': 3709010, 'dt': '2016-08-15'}\n"
     ]
    },
    {
     "ename": "KeyboardInterrupt",
     "evalue": "",
     "output_type": "error",
     "traceback": [
      "\u001b[0;31m---------------------------------------------------------------------------\u001b[0m",
      "\u001b[0;31mKeyboardInterrupt\u001b[0m                         Traceback (most recent call last)",
      "\u001b[0;32m<ipython-input-12-3bba5f2267e9>\u001b[0m in \u001b[0;36m<module>\u001b[0;34m\u001b[0m\n\u001b[0;32m----> 1\u001b[0;31m \u001b[0mpredict_cumulative\u001b[0m\u001b[0;34m(\u001b[0m\u001b[0mdf_proba_people\u001b[0m\u001b[0;34m)\u001b[0m\u001b[0;34m\u001b[0m\u001b[0;34m\u001b[0m\u001b[0m\n\u001b[0m",
      "\u001b[0;32m<ipython-input-11-368c828de729>\u001b[0m in \u001b[0;36mpredict_cumulative\u001b[0;34m(df_proba)\u001b[0m\n\u001b[1;32m     37\u001b[0m             \u001b[0;32melif\u001b[0m \u001b[0mp\u001b[0m \u001b[0;34m<=\u001b[0m \u001b[0;36m0.5\u001b[0m\u001b[0;34m:\u001b[0m \u001b[0;31m# Trump\u001b[0m\u001b[0;34m\u001b[0m\u001b[0;34m\u001b[0m\u001b[0m\n\u001b[1;32m     38\u001b[0m                 \u001b[0musers\u001b[0m\u001b[0;34m[\u001b[0m\u001b[0mu\u001b[0m\u001b[0;34m]\u001b[0m\u001b[0;34m[\u001b[0m\u001b[0;36m0\u001b[0m\u001b[0;34m]\u001b[0m \u001b[0;34m+=\u001b[0m \u001b[0;36m1\u001b[0m\u001b[0;34m\u001b[0m\u001b[0;34m\u001b[0m\u001b[0m\n\u001b[0;32m---> 39\u001b[0;31m         \u001b[0mget_users_camp\u001b[0m\u001b[0;34m(\u001b[0m\u001b[0musers\u001b[0m\u001b[0;34m,\u001b[0m \u001b[0mdt\u001b[0m\u001b[0;34m)\u001b[0m\u001b[0;34m\u001b[0m\u001b[0;34m\u001b[0m\u001b[0m\n\u001b[0m",
      "\u001b[0;32m<ipython-input-11-368c828de729>\u001b[0m in \u001b[0;36mget_users_camp\u001b[0;34m(d, dt)\u001b[0m\n\u001b[1;32m      9\u001b[0m             \u001b[0m_users\u001b[0m\u001b[0;34m[\u001b[0m\u001b[0;34m\"Clinton\"\u001b[0m\u001b[0;34m]\u001b[0m \u001b[0;34m+=\u001b[0m \u001b[0;36m1\u001b[0m\u001b[0;34m\u001b[0m\u001b[0;34m\u001b[0m\u001b[0m\n\u001b[1;32m     10\u001b[0m         \u001b[0;32melif\u001b[0m \u001b[0mv\u001b[0m\u001b[0;34m[\u001b[0m\u001b[0;36m0\u001b[0m\u001b[0;34m]\u001b[0m \u001b[0;34m>\u001b[0m \u001b[0mv\u001b[0m\u001b[0;34m[\u001b[0m\u001b[0;36m1\u001b[0m\u001b[0;34m]\u001b[0m\u001b[0;34m:\u001b[0m\u001b[0;34m\u001b[0m\u001b[0;34m\u001b[0m\u001b[0m\n\u001b[0;32m---> 11\u001b[0;31m             \u001b[0m_users\u001b[0m\u001b[0;34m[\u001b[0m\u001b[0;34m\"Trump\"\u001b[0m\u001b[0;34m]\u001b[0m \u001b[0;34m+=\u001b[0m \u001b[0;36m1\u001b[0m\u001b[0;34m\u001b[0m\u001b[0;34m\u001b[0m\u001b[0m\n\u001b[0m\u001b[1;32m     12\u001b[0m         \u001b[0;32melse\u001b[0m\u001b[0;34m:\u001b[0m\u001b[0;34m\u001b[0m\u001b[0;34m\u001b[0m\u001b[0m\n\u001b[1;32m     13\u001b[0m             \u001b[0m_users\u001b[0m\u001b[0;34m[\u001b[0m\u001b[0;34m\"Others\"\u001b[0m\u001b[0;34m]\u001b[0m \u001b[0;34m+=\u001b[0m \u001b[0;36m1\u001b[0m\u001b[0;34m\u001b[0m\u001b[0;34m\u001b[0m\u001b[0m\n",
      "\u001b[0;31mKeyboardInterrupt\u001b[0m: "
     ]
    }
   ],
   "source": [
    "predict_cumulative(df_proba_people)"
   ]
  },
  {
   "cell_type": "code",
   "execution_count": 2,
   "metadata": {},
   "outputs": [
    {
     "data": {
      "application/vnd.jupyter.widget-view+json": {
       "model_id": "56797d07fc3d4840b5e8d831c0ca7b1f",
       "version_major": 2,
       "version_minor": 0
      },
      "text/plain": [
       "HBox(children=(IntProgress(value=1, bar_style='info', max=1), HTML(value='')))"
      ]
     },
     "metadata": {},
     "output_type": "display_data"
    },
    {
     "name": "stdout",
     "output_type": "stream",
     "text": [
      "\n"
     ]
    }
   ],
   "source": [
    "client_count = Counter()\n",
    "\n",
    "for line in tqdm(open(\"disk/data/unofficial_clients_only_hillary.txt\")):\n",
    "    w = line.strip().split(\"\\t\")[1]\n",
    "    client_count[w] += 1"
   ]
  },
  {
   "cell_type": "code",
   "execution_count": 6,
   "metadata": {},
   "outputs": [
    {
     "data": {
      "text/plain": [
       "999378"
      ]
     },
     "execution_count": 6,
     "metadata": {},
     "output_type": "execute_result"
    }
   ],
   "source": [
    "sum(client_count.values())"
   ]
  },
  {
   "cell_type": "markdown",
   "metadata": {},
   "source": [
    "## Bots influence results??"
   ]
  },
  {
   "cell_type": "code",
   "execution_count": 2,
   "metadata": {},
   "outputs": [],
   "source": [
    "real_id = set()\n",
    "bots_id = set()\n",
    "\n",
    "for line in open(\"disk/data/tweetid_clientid.txt\"):\n",
    "    w = line.strip().split(\"\\t\")\n",
    "    if w[1] == \"0\":\n",
    "        bots_id.add(w[0])\n",
    "    else:\n",
    "        real_id.add(w[0])"
   ]
  },
  {
   "cell_type": "code",
   "execution_count": null,
   "metadata": {},
   "outputs": [],
   "source": [
    "all_id = real_id | bots_id"
   ]
  },
  {
   "cell_type": "code",
   "execution_count": 9,
   "metadata": {},
   "outputs": [
    {
     "data": {
      "text/plain": [
       "(173402944, 160930761, 12472183)"
      ]
     },
     "execution_count": 9,
     "metadata": {},
     "output_type": "execute_result"
    }
   ],
   "source": [
    "len(all_id), len(real_id), len(bots_id)"
   ]
  },
  {
   "cell_type": "markdown",
   "metadata": {},
   "source": [
    "1. total: 173402944\n",
    "2. real people: 160930761\n",
    "3. bots: 12472183"
   ]
  },
  {
   "cell_type": "code",
   "execution_count": 5,
   "metadata": {},
   "outputs": [],
   "source": [
    "trump_id = {line.strip() for line in open(\"disk/data/tweetid_trump.txt\")}\n",
    "hillary_id = all_id - trump_id"
   ]
  },
  {
   "cell_type": "code",
   "execution_count": 8,
   "metadata": {},
   "outputs": [
    {
     "data": {
      "text/plain": [
       "(87637193, 85765751)"
      ]
     },
     "execution_count": 8,
     "metadata": {},
     "output_type": "execute_result"
    }
   ],
   "source": [
    "len(trump_id), len(hillary_id)"
   ]
  },
  {
   "cell_type": "markdown",
   "metadata": {},
   "source": [
    "- trump: 87637193\n",
    "- hillary: 85765751"
   ]
  },
  {
   "cell_type": "code",
   "execution_count": 11,
   "metadata": {},
   "outputs": [
    {
     "data": {
      "text/plain": [
       "(5184202, 7287981)"
      ]
     },
     "execution_count": 11,
     "metadata": {},
     "output_type": "execute_result"
    }
   ],
   "source": [
    "len(bots_id & trump_id), len(bots_id & hillary_id)"
   ]
  },
  {
   "cell_type": "code",
   "execution_count": null,
   "metadata": {},
   "outputs": [],
   "source": [
    "for line in open(\"disk/data\")"
   ]
  }
 ],
 "metadata": {
  "kernelspec": {
   "display_name": "Python 3",
   "language": "python",
   "name": "python3"
  },
  "language_info": {
   "codemirror_mode": {
    "name": "ipython",
    "version": 3
   },
   "file_extension": ".py",
   "mimetype": "text/x-python",
   "name": "python",
   "nbconvert_exporter": "python",
   "pygments_lexer": "ipython3",
   "version": "3.7.3-final"
  }
 },
 "nbformat": 4,
 "nbformat_minor": 2
}