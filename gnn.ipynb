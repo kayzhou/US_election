{
 "cells": [
  {
   "cell_type": "code",
   "execution_count": null,
   "metadata": {},
   "outputs": [],
   "source": [
    "import torch"
   ]
  },
  {
   "cell_type": "code",
   "execution_count": 2,
   "metadata": {},
   "outputs": [],
   "source": [
    "with open(\"data/命中.txt\", \"a\") as f:\n",
    "    for line in open(\"data/DT_random_4800.txt\"):\n",
    "        if \"trump\" in line:\n",
    "            f.write(line)"
   ]
  },
  {
   "cell_type": "code",
   "execution_count": null,
   "metadata": {},
   "outputs": [],
   "source": [
    "model = Load_Model()\n",
    "\n",
    "with open(\"data/预测结果.txt\", \"a\") as f:\n",
    "    for line in open(\"data/命中.txt\"):\n",
    "        topic = model.predict(line)\n",
    "        f.write(str(topic), ... 这条的信息)"
   ]
  }
 ],
 "metadata": {
  "interpreter": {
   "hash": "5c4bc8f9fce0d5779c6f7824f27a280c353fdffc531bd63c7a3f69b7a24b42f9"
  },
  "kernelspec": {
   "display_name": "Python 3.8.5 64-bit ('base': conda)",
   "name": "python3"
  },
  "language_info": {
   "codemirror_mode": {
    "name": "ipython",
    "version": 3
   },
   "file_extension": ".py",
   "mimetype": "text/x-python",
   "name": "python",
   "nbconvert_exporter": "python",
   "pygments_lexer": "ipython3",
   "version": "3.9.7"
  },
  "orig_nbformat": 4
 },
 "nbformat": 4,
 "nbformat_minor": 2
}
