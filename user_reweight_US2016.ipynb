{
 "cells": [
  {
   "cell_type": "code",
   "execution_count": 223,
   "metadata": {
    "ExecuteTime": {
     "end_time": "2020-05-03T13:57:46.179424Z",
     "start_time": "2020-05-03T13:57:45.374755Z"
    }
   },
   "outputs": [],
   "source": [
    "from my_weapon import *\n",
    "from SQLite_handler import *\n",
    "from tqdm.notebook import tqdm as tqdm\n",
    "\n",
    "plt.style.use('fivethirtyeight')"
   ]
  },
  {
   "cell_type": "markdown",
   "metadata": {},
   "source": [
    "# Rural and Urban"
   ]
  },
  {
   "cell_type": "code",
   "execution_count": 231,
   "metadata": {},
   "outputs": [],
   "source": [
    "rural_table = pd.read_csv(\"data/ruralurbancodes2013.csv\")\n",
    "rural_table[\"Population\"] = rural_table[\"Population_2010\"].apply(lambda x: int(x.replace(\",\", \"\")))\n",
    "rural_table[\"is_rural\"] = rural_table[\"RUCC_2013\"].apply(lambda x: 1 if x >= 5 else 0)\n",
    "# rural_table[rural_table.County_Name==\"Orleans Parish\"]\n",
    "\n",
    "# def county_to_rural(state_name, county_name):\n",
    "#     try:\n",
    "#         return rural_table[(rural_table[\"State\"]==state_name) & (rural_table[\"county\"]==county_name)][\"is_rural\"].iloc[0]\n",
    "#     except:\n",
    "#         return f\"cannot find the loc ({state_name}, {county_name})\"\n",
    "\n",
    "from collections import defaultdict\n",
    "dict_state_county_is_rural = defaultdict(dict)\n",
    "\n",
    "for row in rural_table.itertuples():\n",
    "    State = getattr(row, \"State\")\n",
    "    county = getattr(row, \"County_Name\")\n",
    "    is_rural = getattr(row, \"is_rural\")\n",
    "    if county != \"District of Columbia\":\n",
    "        county = \" \".join(county.split()[: -1])\n",
    "    dict_state_county_is_rural[State][county] = is_rural\n",
    "    \n",
    "# print(dict_state_county_is_rural[\"LA\"])\n",
    "\n",
    "rural_population = rural_table.groupby([\"State\", \"is_rural\"]).sum()[\"Population\"]\n",
    "rural_count = dict(rural_population)"
   ]
  },
  {
   "cell_type": "code",
   "execution_count": 225,
   "metadata": {},
   "outputs": [
    {
     "data": {
      "text/html": [
       "<div>\n",
       "<style scoped>\n",
       "    .dataframe tbody tr th:only-of-type {\n",
       "        vertical-align: middle;\n",
       "    }\n",
       "\n",
       "    .dataframe tbody tr th {\n",
       "        vertical-align: top;\n",
       "    }\n",
       "\n",
       "    .dataframe thead th {\n",
       "        text-align: right;\n",
       "    }\n",
       "</style>\n",
       "<table border=\"1\" class=\"dataframe\">\n",
       "  <thead>\n",
       "    <tr style=\"text-align: right;\">\n",
       "      <th></th>\n",
       "      <th>FIPS</th>\n",
       "      <th>State</th>\n",
       "      <th>County_Name</th>\n",
       "      <th>Population_2010</th>\n",
       "      <th>RUCC_2013</th>\n",
       "      <th>Description</th>\n",
       "      <th>Population</th>\n",
       "      <th>is_rural</th>\n",
       "    </tr>\n",
       "  </thead>\n",
       "  <tbody>\n",
       "    <tr>\n",
       "      <td>0</td>\n",
       "      <td>1001</td>\n",
       "      <td>AL</td>\n",
       "      <td>Autauga County</td>\n",
       "      <td>54,571</td>\n",
       "      <td>2</td>\n",
       "      <td>Metro - Counties in metro areas of 250,000 to ...</td>\n",
       "      <td>54571</td>\n",
       "      <td>0</td>\n",
       "    </tr>\n",
       "    <tr>\n",
       "      <td>1</td>\n",
       "      <td>1003</td>\n",
       "      <td>AL</td>\n",
       "      <td>Baldwin County</td>\n",
       "      <td>182,265</td>\n",
       "      <td>3</td>\n",
       "      <td>Metro - Counties in metro areas of fewer than ...</td>\n",
       "      <td>182265</td>\n",
       "      <td>1</td>\n",
       "    </tr>\n",
       "    <tr>\n",
       "      <td>2</td>\n",
       "      <td>1005</td>\n",
       "      <td>AL</td>\n",
       "      <td>Barbour County</td>\n",
       "      <td>27,457</td>\n",
       "      <td>6</td>\n",
       "      <td>Nonmetro - Urban population of 2,500 to 19,999...</td>\n",
       "      <td>27457</td>\n",
       "      <td>1</td>\n",
       "    </tr>\n",
       "    <tr>\n",
       "      <td>3</td>\n",
       "      <td>1007</td>\n",
       "      <td>AL</td>\n",
       "      <td>Bibb County</td>\n",
       "      <td>22,915</td>\n",
       "      <td>1</td>\n",
       "      <td>Metro - Counties in metro areas of 1 million p...</td>\n",
       "      <td>22915</td>\n",
       "      <td>0</td>\n",
       "    </tr>\n",
       "    <tr>\n",
       "      <td>4</td>\n",
       "      <td>1009</td>\n",
       "      <td>AL</td>\n",
       "      <td>Blount County</td>\n",
       "      <td>57,322</td>\n",
       "      <td>1</td>\n",
       "      <td>Metro - Counties in metro areas of 1 million p...</td>\n",
       "      <td>57322</td>\n",
       "      <td>0</td>\n",
       "    </tr>\n",
       "    <tr>\n",
       "      <td>...</td>\n",
       "      <td>...</td>\n",
       "      <td>...</td>\n",
       "      <td>...</td>\n",
       "      <td>...</td>\n",
       "      <td>...</td>\n",
       "      <td>...</td>\n",
       "      <td>...</td>\n",
       "      <td>...</td>\n",
       "    </tr>\n",
       "    <tr>\n",
       "      <td>3216</td>\n",
       "      <td>72145</td>\n",
       "      <td>PR</td>\n",
       "      <td>Vega Baja Municipio</td>\n",
       "      <td>59,662</td>\n",
       "      <td>1</td>\n",
       "      <td>Metro - Counties in metro areas of 1 million p...</td>\n",
       "      <td>59662</td>\n",
       "      <td>0</td>\n",
       "    </tr>\n",
       "    <tr>\n",
       "      <td>3217</td>\n",
       "      <td>72147</td>\n",
       "      <td>PR</td>\n",
       "      <td>Vieques Municipio</td>\n",
       "      <td>9,301</td>\n",
       "      <td>7</td>\n",
       "      <td>Nonmetro - Urban population of 2,500 to 19,999...</td>\n",
       "      <td>9301</td>\n",
       "      <td>1</td>\n",
       "    </tr>\n",
       "    <tr>\n",
       "      <td>3218</td>\n",
       "      <td>72149</td>\n",
       "      <td>PR</td>\n",
       "      <td>Villalba Municipio</td>\n",
       "      <td>26,073</td>\n",
       "      <td>2</td>\n",
       "      <td>Metro - Counties in metro areas of 250,000 to ...</td>\n",
       "      <td>26073</td>\n",
       "      <td>0</td>\n",
       "    </tr>\n",
       "    <tr>\n",
       "      <td>3219</td>\n",
       "      <td>72151</td>\n",
       "      <td>PR</td>\n",
       "      <td>Yabucoa Municipio</td>\n",
       "      <td>37,941</td>\n",
       "      <td>1</td>\n",
       "      <td>Metro - Counties in metro areas of 1 million p...</td>\n",
       "      <td>37941</td>\n",
       "      <td>0</td>\n",
       "    </tr>\n",
       "    <tr>\n",
       "      <td>3220</td>\n",
       "      <td>72153</td>\n",
       "      <td>PR</td>\n",
       "      <td>Yauco Municipio</td>\n",
       "      <td>42,043</td>\n",
       "      <td>2</td>\n",
       "      <td>Metro - Counties in metro areas of 250,000 to ...</td>\n",
       "      <td>42043</td>\n",
       "      <td>0</td>\n",
       "    </tr>\n",
       "  </tbody>\n",
       "</table>\n",
       "<p>3221 rows × 8 columns</p>\n",
       "</div>"
      ],
      "text/plain": [
       "       FIPS State          County_Name Population_2010  RUCC_2013  \\\n",
       "0      1001    AL       Autauga County          54,571          2   \n",
       "1      1003    AL       Baldwin County         182,265          3   \n",
       "2      1005    AL       Barbour County          27,457          6   \n",
       "3      1007    AL          Bibb County          22,915          1   \n",
       "4      1009    AL        Blount County          57,322          1   \n",
       "...     ...   ...                  ...             ...        ...   \n",
       "3216  72145    PR  Vega Baja Municipio          59,662          1   \n",
       "3217  72147    PR    Vieques Municipio           9,301          7   \n",
       "3218  72149    PR   Villalba Municipio          26,073          2   \n",
       "3219  72151    PR    Yabucoa Municipio          37,941          1   \n",
       "3220  72153    PR      Yauco Municipio          42,043          2   \n",
       "\n",
       "                                            Description  Population  is_rural  \n",
       "0     Metro - Counties in metro areas of 250,000 to ...       54571         0  \n",
       "1     Metro - Counties in metro areas of fewer than ...      182265         1  \n",
       "2     Nonmetro - Urban population of 2,500 to 19,999...       27457         1  \n",
       "3     Metro - Counties in metro areas of 1 million p...       22915         0  \n",
       "4     Metro - Counties in metro areas of 1 million p...       57322         0  \n",
       "...                                                 ...         ...       ...  \n",
       "3216  Metro - Counties in metro areas of 1 million p...       59662         0  \n",
       "3217  Nonmetro - Urban population of 2,500 to 19,999...        9301         1  \n",
       "3218  Metro - Counties in metro areas of 250,000 to ...       26073         0  \n",
       "3219  Metro - Counties in metro areas of 1 million p...       37941         0  \n",
       "3220  Metro - Counties in metro areas of 250,000 to ...       42043         0  \n",
       "\n",
       "[3221 rows x 8 columns]"
      ]
     },
     "execution_count": 225,
     "metadata": {},
     "output_type": "execute_result"
    }
   ],
   "source": [
    "rural_table"
   ]
  },
  {
   "cell_type": "markdown",
   "metadata": {},
   "source": [
    "## Load the users' opinions and locations"
   ]
  },
  {
   "cell_type": "code",
   "execution_count": 232,
   "metadata": {},
   "outputs": [
    {
     "data": {
      "text/html": [
       "<div>\n",
       "<style scoped>\n",
       "    .dataframe tbody tr th:only-of-type {\n",
       "        vertical-align: middle;\n",
       "    }\n",
       "\n",
       "    .dataframe tbody tr th {\n",
       "        vertical-align: top;\n",
       "    }\n",
       "\n",
       "    .dataframe thead th {\n",
       "        text-align: right;\n",
       "    }\n",
       "</style>\n",
       "<table border=\"1\" class=\"dataframe\">\n",
       "  <thead>\n",
       "    <tr style=\"text-align: right;\">\n",
       "      <th></th>\n",
       "      <th>state</th>\n",
       "      <th>county</th>\n",
       "    </tr>\n",
       "    <tr>\n",
       "      <th>uid</th>\n",
       "      <th></th>\n",
       "      <th></th>\n",
       "    </tr>\n",
       "  </thead>\n",
       "  <tbody>\n",
       "    <tr>\n",
       "      <td>859057183</td>\n",
       "      <td>FL</td>\n",
       "      <td>Jacksonville</td>\n",
       "    </tr>\n",
       "    <tr>\n",
       "      <td>236247352</td>\n",
       "      <td>NE</td>\n",
       "      <td>Lincoln</td>\n",
       "    </tr>\n",
       "    <tr>\n",
       "      <td>57101844</td>\n",
       "      <td>CA</td>\n",
       "      <td>Walnut Creek</td>\n",
       "    </tr>\n",
       "    <tr>\n",
       "      <td>565112799</td>\n",
       "      <td>CA</td>\n",
       "      <td>Newport Beach</td>\n",
       "    </tr>\n",
       "    <tr>\n",
       "      <td>21247408</td>\n",
       "      <td>CA</td>\n",
       "      <td>Los Angeles</td>\n",
       "    </tr>\n",
       "    <tr>\n",
       "      <td>...</td>\n",
       "      <td>...</td>\n",
       "      <td>...</td>\n",
       "    </tr>\n",
       "    <tr>\n",
       "      <td>772611512544464896</td>\n",
       "      <td>GA</td>\n",
       "      <td>Marietta</td>\n",
       "    </tr>\n",
       "    <tr>\n",
       "      <td>4841885222</td>\n",
       "      <td>TX</td>\n",
       "      <td>Houston</td>\n",
       "    </tr>\n",
       "    <tr>\n",
       "      <td>22695927</td>\n",
       "      <td>MA</td>\n",
       "      <td>Boston</td>\n",
       "    </tr>\n",
       "    <tr>\n",
       "      <td>49774202</td>\n",
       "      <td>AZ</td>\n",
       "      <td>Phoenix</td>\n",
       "    </tr>\n",
       "    <tr>\n",
       "      <td>3239932995</td>\n",
       "      <td>NV</td>\n",
       "      <td>Las Vegas</td>\n",
       "    </tr>\n",
       "  </tbody>\n",
       "</table>\n",
       "<p>1946455 rows × 2 columns</p>\n",
       "</div>"
      ],
      "text/plain": [
       "                   state         county\n",
       "uid                                    \n",
       "859057183             FL   Jacksonville\n",
       "236247352             NE        Lincoln\n",
       "57101844              CA   Walnut Creek\n",
       "565112799             CA  Newport Beach\n",
       "21247408              CA    Los Angeles\n",
       "...                  ...            ...\n",
       "772611512544464896    GA       Marietta\n",
       "4841885222            TX        Houston\n",
       "22695927              MA         Boston\n",
       "49774202              AZ        Phoenix\n",
       "3239932995            NV      Las Vegas\n",
       "\n",
       "[1946455 rows x 2 columns]"
      ]
     },
     "execution_count": 232,
     "metadata": {},
     "output_type": "execute_result"
    }
   ],
   "source": [
    "users_loc = pd.read_csv(\"data/us2016-users-location.csv\", usecols=[\"uid\", \"state\", \"county\"], index_col=\"uid\")\n",
    "users_loc = users_loc.dropna()\n",
    "users_loc[\"county\"] = users_loc[\"county\"].apply(lambda x: \" \".join(x.split(\", \")[:-1]))\n",
    "users_loc"
   ]
  },
  {
   "cell_type": "code",
   "execution_count": 233,
   "metadata": {},
   "outputs": [],
   "source": [
    "USA_STATES = ['CA', 'TX', 'NY', 'FL', 'IL', 'GA',\n",
    "  'PA', 'OH', 'DC', 'NC', 'MI', 'MA',\n",
    "  'IN', 'NJ', 'VA', 'AZ', 'TN', 'WA',\n",
    "  'MD', 'CO', 'MO', 'KY', 'LA', 'MN',\n",
    "  'OR', 'AL', 'SC', 'NV', 'OK', 'WI',\n",
    "  'IA', 'CT', 'KS', 'AR', 'UT', 'MS',\n",
    "  'WV', 'NE', 'NM', 'HI', 'NH', 'RI',\n",
    "  'ME', 'ID', 'AK', 'DE', 'MT', 'SD',\n",
    "  'ND', 'VT', 'WY']"
   ]
  },
  {
   "cell_type": "code",
   "execution_count": 234,
   "metadata": {},
   "outputs": [],
   "source": [
    "# Since we only know the name of city, but the county. We need convert the city to county.\n",
    "# check some mapping from http://www.statsamerica.org/CityCountyFinder/Default.aspx\n",
    "\n",
    "_dict_city_to_county = {\n",
    "    'Chicago, IL': 'Cook',\n",
    "    'Washington, DC': 'District of Columbia',\n",
    "    'Atlanta, GA': 'Fulton',\n",
    "    'Boston, MA': 'Suffolk',\n",
    "    'Seattle, WA': 'King',\n",
    "    'Brooklyn, NY': 'New York',\n",
    "    'Miami, FL': 'Miami-Dade',\n",
    "    'Las Vegas, NV': 'Clark',\n",
    "    'Portland, OR': 'Multnomah',\n",
    "    'Pittsburgh, PA': 'Allegheny',\n",
    "    'San Antonio, TX': 'Bexar',\n",
    "    'Nashville, TN': 'Davidson',\n",
    "    'Orlando, FL': 'Orange',\n",
    "    'Phoenix, AZ': 'Maricopa',\n",
    "    'Indianapolis, IN': 'Marion',\n",
    "    'Columbus, OH': 'Franklin',\n",
    "    'Minneapolis, MN': 'Hennepin',\n",
    "    'St Louis, MO': 'St. Louis',\n",
    "    'Charlotte, NC': 'Mecklenburg',\n",
    "    'Cleveland, OH': 'Cuyahoga',\n",
    "    'Detroit, MI': 'Wayne',\n",
    "    'Tampa, FL': 'Hillsborough',\n",
    "    'New Orleans, LA': 'Orleans',\n",
    "    'Kansas City, MO': 'Jackson',\n",
    "    'Cincinnati, OH': 'Hamilton'\n",
    "}\n",
    "    \n",
    "def city_to_county(state_name, city_name):\n",
    "    return _dict_city_to_county.get(f\"{city_name}, {state_name}\", city_name)"
   ]
  },
  {
   "cell_type": "code",
   "execution_count": 235,
   "metadata": {},
   "outputs": [
    {
     "data": {
      "application/vnd.jupyter.widget-view+json": {
       "model_id": "b5b722890ffb4437afce0e6347021664",
       "version_major": 2,
       "version_minor": 0
      },
      "text/plain": [
       "HBox(children=(FloatProgress(value=0.0, max=51.0), HTML(value='')))"
      ]
     },
     "metadata": {},
     "output_type": "display_data"
    },
    {
     "name": "stdout",
     "output_type": "stream",
     "text": [
      "\n"
     ]
    }
   ],
   "source": [
    "find_county = Counter()\n",
    "cannot_find_county = Counter()\n",
    "\n",
    "for _state in tqdm(USA_STATES):\n",
    "    _users = users_loc[users_loc.state==_state].copy()\n",
    "    _users[\"county\"] = _users[\"county\"].apply(lambda x: city_to_county(_state, x))\n",
    "    _users[\"is_rural\"] = _users[\"county\"].apply(lambda x: dict_state_county_is_rural[_state].get(x, -1))\n",
    "    _users.to_csv(f\"data/is_rural/{_state}.csv\")\n",
    "\n",
    "#     for row in _users.itertuples():\n",
    "#         county = getattr(row, \"county\")\n",
    "#         is_rural = getattr(row, \"is_rural\")\n",
    "#         if is_rural == -1:\n",
    "#             cannot_find_county[f\"{county}, {_state}\"] += 1\n",
    "#         else:\n",
    "#             find_county[f\"{county}, {_state}\"] += 1\n",
    "    \n",
    "    \n",
    "# -1 represents that we cannot map the city (from BingMap) to county\n",
    "# So we need more infomation between city and county"
   ]
  },
  {
   "cell_type": "code",
   "execution_count": null,
   "metadata": {},
   "outputs": [],
   "source": [
    "len(cannot_find_county)"
   ]
  },
  {
   "cell_type": "code",
   "execution_count": 97,
   "metadata": {},
   "outputs": [
    {
     "data": {
      "text/plain": [
       "[('Louisville, KY', 8045),\n",
       " ('Hell, MI', 8033),\n",
       " ('Raleigh, NC', 8005),\n",
       " ('Buffalo, NY', 7353),\n",
       " ('Fort Worth, TX', 7115),\n",
       " ('Memphis, TN', 6850),\n",
       " ('Oakland, CA', 6527),\n",
       " ('Salt Lake City, UT', 5938),\n",
       " ('Manhattan, NY', 5921),\n",
       " ('San Jose, CA', 5732)]"
      ]
     },
     "execution_count": 97,
     "metadata": {},
     "output_type": "execute_result"
    }
   ],
   "source": [
    "cannot_find_county.most_common(10)"
   ]
  },
  {
   "cell_type": "code",
   "execution_count": 98,
   "metadata": {},
   "outputs": [
    {
     "data": {
      "text/plain": [
       "[('New York, NY', 148428),\n",
       " ('Los Angeles, CA', 92810),\n",
       " ('Cook, IL', 62030),\n",
       " ('District of Columbia, DC', 49085),\n",
       " ('Houston, TX', 44915),\n",
       " ('Fulton, GA', 36245),\n",
       " ('Dallas, TX', 30003),\n",
       " ('San Francisco, CA', 28725),\n",
       " ('Suffolk, MA', 27881),\n",
       " ('Philadelphia, PA', 27672)]"
      ]
     },
     "execution_count": 98,
     "metadata": {},
     "output_type": "execute_result"
    }
   ],
   "source": [
    "find_county.most_common(10)"
   ]
  },
  {
   "cell_type": "code",
   "execution_count": 204,
   "metadata": {},
   "outputs": [
    {
     "data": {
      "application/vnd.jupyter.widget-view+json": {
       "model_id": "2095acf53e714533807d5e4ec8d409a9",
       "version_major": 2,
       "version_minor": 0
      },
      "text/plain": [
       "HBox(children=(FloatProgress(value=1.0, bar_style='info', max=1.0), HTML(value='')))"
      ]
     },
     "metadata": {},
     "output_type": "display_data"
    },
    {
     "name": "stdout",
     "output_type": "stream",
     "text": [
      "\n"
     ]
    }
   ],
   "source": [
    "# load users' opinion\n",
    "# users_opinion = pd.read_csv(\"data/tweetid_userid_pro_hillary.csv\")\n",
    "import pendulum\n",
    "users_opinion = defaultdict(lambda: [0, 0])\n",
    "set_users = set(users_loc.index)\n",
    "# start = pendulum.datetime(2016, 9, 1)\n",
    "\n",
    "# election date: 2016-11-8\n",
    "for line in tqdm(open(\"data/tweetid_userid_pro_hillary.csv\")):\n",
    "    w = line.strip().split(\",\")\n",
    "    uid = int(w[0])\n",
    "    if uid in set_users:\n",
    "        if float(w[2]) < 0.5:\n",
    "            users_opinion[uid][0] += 1\n",
    "        else:\n",
    "            users_opinion[uid][1] += 1"
   ]
  },
  {
   "cell_type": "code",
   "execution_count": 205,
   "metadata": {},
   "outputs": [
    {
     "data": {
      "application/vnd.jupyter.widget-view+json": {
       "model_id": "70167e95a8094d539346270dc0a32a79",
       "version_major": 2,
       "version_minor": 0
      },
      "text/plain": [
       "HBox(children=(FloatProgress(value=0.0, max=1946455.0), HTML(value='')))"
      ]
     },
     "metadata": {},
     "output_type": "display_data"
    },
    {
     "name": "stdout",
     "output_type": "stream",
     "text": [
      "\n"
     ]
    }
   ],
   "source": [
    "users_opinion_v2 = []\n",
    "for u, v in tqdm(users_opinion.items()):\n",
    "    users_opinion_v2.append({\n",
    "        \"uid\": u,\n",
    "        \"Camp\": \"T\" if v[0] > v[1] else \"H\" \n",
    "    })"
   ]
  },
  {
   "cell_type": "code",
   "execution_count": 206,
   "metadata": {},
   "outputs": [
    {
     "data": {
      "text/html": [
       "<div>\n",
       "<style scoped>\n",
       "    .dataframe tbody tr th:only-of-type {\n",
       "        vertical-align: middle;\n",
       "    }\n",
       "\n",
       "    .dataframe tbody tr th {\n",
       "        vertical-align: top;\n",
       "    }\n",
       "\n",
       "    .dataframe thead th {\n",
       "        text-align: right;\n",
       "    }\n",
       "</style>\n",
       "<table border=\"1\" class=\"dataframe\">\n",
       "  <thead>\n",
       "    <tr style=\"text-align: right;\">\n",
       "      <th></th>\n",
       "      <th>Camp</th>\n",
       "    </tr>\n",
       "    <tr>\n",
       "      <th>uid</th>\n",
       "      <th></th>\n",
       "    </tr>\n",
       "  </thead>\n",
       "  <tbody>\n",
       "    <tr>\n",
       "      <td>18808729</td>\n",
       "      <td>H</td>\n",
       "    </tr>\n",
       "    <tr>\n",
       "      <td>312876456</td>\n",
       "      <td>H</td>\n",
       "    </tr>\n",
       "    <tr>\n",
       "      <td>11140312</td>\n",
       "      <td>H</td>\n",
       "    </tr>\n",
       "    <tr>\n",
       "      <td>15363308</td>\n",
       "      <td>H</td>\n",
       "    </tr>\n",
       "    <tr>\n",
       "      <td>10236782</td>\n",
       "      <td>H</td>\n",
       "    </tr>\n",
       "    <tr>\n",
       "      <td>...</td>\n",
       "      <td>...</td>\n",
       "    </tr>\n",
       "    <tr>\n",
       "      <td>4841885222</td>\n",
       "      <td>H</td>\n",
       "    </tr>\n",
       "    <tr>\n",
       "      <td>130932192</td>\n",
       "      <td>H</td>\n",
       "    </tr>\n",
       "    <tr>\n",
       "      <td>22695927</td>\n",
       "      <td>T</td>\n",
       "    </tr>\n",
       "    <tr>\n",
       "      <td>49774202</td>\n",
       "      <td>H</td>\n",
       "    </tr>\n",
       "    <tr>\n",
       "      <td>3239932995</td>\n",
       "      <td>H</td>\n",
       "    </tr>\n",
       "  </tbody>\n",
       "</table>\n",
       "<p>1946455 rows × 1 columns</p>\n",
       "</div>"
      ],
      "text/plain": [
       "           Camp\n",
       "uid            \n",
       "18808729      H\n",
       "312876456     H\n",
       "11140312      H\n",
       "15363308      H\n",
       "10236782      H\n",
       "...         ...\n",
       "4841885222    H\n",
       "130932192     H\n",
       "22695927      T\n",
       "49774202      H\n",
       "3239932995    H\n",
       "\n",
       "[1946455 rows x 1 columns]"
      ]
     },
     "execution_count": 206,
     "metadata": {},
     "output_type": "execute_result"
    }
   ],
   "source": [
    "users_opinion = pd.DataFrame(users_opinion_v2).set_index(\"uid\")\n",
    "users_opinion"
   ]
  },
  {
   "cell_type": "code",
   "execution_count": 237,
   "metadata": {},
   "outputs": [
    {
     "data": {
      "application/vnd.jupyter.widget-view+json": {
       "model_id": "467076e4bd114f65946d7b757eedd440",
       "version_major": 2,
       "version_minor": 0
      },
      "text/plain": [
       "HBox(children=(FloatProgress(value=0.0, max=51.0), HTML(value='')))"
      ]
     },
     "metadata": {},
     "output_type": "display_data"
    },
    {
     "name": "stdout",
     "output_type": "stream",
     "text": [
      "CA, Census (rural areas): 1.28%, Trump: 17.79%, After rescaling: 18.03%\n",
      "TX, Census (rural areas): 9.44%, Trump: 24.11%, After rescaling: 24.26%\n",
      "NY, Census (rural areas): 3.21%, Trump: 18.61%, After rescaling: 18.90%\n",
      "FL, Census (rural areas): 2.20%, Trump: 26.35%, After rescaling: 26.78%\n",
      "IL, Census (rural areas): 8.17%, Trump: 18.80%, After rescaling: 20.81%\n",
      "GA, Census (rural areas): 13.82%, Trump: 21.76%, After rescaling: 22.59%\n",
      "PA, Census (rural areas): 5.14%, Trump: 23.33%, After rescaling: 24.00%\n",
      "OH, Census (rural areas): 7.61%, Trump: 25.42%, After rescaling: 26.89%\n",
      "DC, Census (rural areas): 0.00%, Trump: 16.86%, After rescaling: 16.86%\n",
      "NC, Census (rural areas): 11.80%, Trump: 24.25%, After rescaling: 26.09%\n",
      "MI, Census (rural areas): 13.54%, Trump: 23.97%, After rescaling: 24.95%\n",
      "MA, Census (rural areas): 0.41%, Trump: 18.94%, After rescaling: 18.96%\n",
      "IN, Census (rural areas): 17.87%, Trump: 26.44%, After rescaling: 28.78%\n",
      "NJ, Census (rural areas): 0.00%, Trump: 29.17%, After rescaling: 29.17%\n",
      "VA, Census (rural areas): 11.22%, Trump: 25.41%, After rescaling: 26.93%\n",
      "AZ, Census (rural areas): 2.15%, Trump: 27.02%, After rescaling: 27.02%\n",
      "TN, Census (rural areas): 15.76%, Trump: 28.87%, After rescaling: 30.06%\n",
      "WA, Census (rural areas): 4.93%, Trump: 16.98%, After rescaling: 17.89%\n",
      "MD, Census (rural areas): 2.66%, Trump: 19.12%, After rescaling: 19.12%\n",
      "CO, Census (rural areas): 10.89%, Trump: 20.45%, After rescaling: 21.54%\n",
      "MO, Census (rural areas): 21.87%, Trump: 25.00%, After rescaling: 29.06%\n",
      "KY, Census (rural areas): 39.36%, Trump: 44.47%, After rescaling: 43.48%\n",
      "LA, Census (rural areas): 13.02%, Trump: 23.81%, After rescaling: 25.01%\n",
      "MN, Census (rural areas): 17.66%, Trump: 17.30%, After rescaling: 17.75%\n",
      "OR, Census (rural areas): 11.29%, Trump: 15.68%, After rescaling: 16.81%\n",
      "AL, Census (rural areas): 16.14%, Trump: 36.51%, After rescaling: 40.19%\n",
      "SC, Census (rural areas): 8.90%, Trump: 34.93%, After rescaling: 35.45%\n",
      "NV, Census (rural areas): 4.65%, Trump: 28.75%, After rescaling: 28.90%\n",
      "OK, Census (rural areas): 27.30%, Trump: 32.15%, After rescaling: 35.10%\n",
      "WI, Census (rural areas): 16.62%, Trump: 24.55%, After rescaling: 26.32%\n",
      "IA, Census (rural areas): 38.31%, Trump: 23.65%, After rescaling: 28.98%\n",
      "CT, Census (rural areas): 0.00%, Trump: 20.36%, After rescaling: 20.36%\n",
      "KS, Census (rural areas): 26.23%, Trump: 31.58%, After rescaling: 31.64%\n",
      "AR, Census (rural areas): 34.22%, Trump: 39.13%, After rescaling: 44.60%\n",
      "UT, Census (rural areas): 7.92%, Trump: 33.33%, After rescaling: 33.33%\n",
      "MS, Census (rural areas): 49.74%, Trump: 34.62%, After rescaling: 46.16%\n",
      "WV, Census (rural areas): 32.48%, Trump: 52.78%, After rescaling: 45.75%\n",
      "NE, Census (rural areas): 30.61%, Trump: 27.84%, After rescaling: 38.21%\n",
      "NM, Census (rural areas): 28.39%, Trump: 19.98%, After rescaling: 20.56%\n",
      "HI, Census (rural areas): 18.54%, Trump: 23.98%, After rescaling: 23.98%\n",
      "NH, Census (rural areas): 16.24%, Trump: 34.29%, After rescaling: 34.29%\n",
      "RI, Census (rural areas): 0.00%, Trump: 19.58%, After rescaling: 19.58%\n",
      "ME, Census (rural areas): 32.41%, Trump: 26.92%, After rescaling: 26.92%\n",
      "ID, Census (rural areas): 27.05%, Trump: 26.51%, After rescaling: 28.51%\n",
      "AK, Census (rural areas): 32.64%, Trump: 29.01%, After rescaling: 29.01%\n",
      "DE, Census (rural areas): 0.00%, Trump: 23.53%, After rescaling: 23.53%\n",
      "MT, Census (rural areas): 64.67%, Trump: 21.85%, After rescaling: 21.85%\n",
      "SD, Census (rural areas): 53.66%, Trump: 34.74%, After rescaling: 41.66%\n",
      "ND, Census (rural areas): 50.73%, Trump: 33.50%, After rescaling: 33.50%\n",
      "VT, Census (rural areas): 46.87%, Trump: 35.87%, After rescaling: 34.89%\n",
      "WY, Census (rural areas): 63.90%, Trump: 32.73%, After rescaling: 36.98%\n",
      "\n"
     ]
    }
   ],
   "source": [
    "for _state in tqdm(USA_STATES):\n",
    "    users_county = pd.read_csv(\"data/is_rural/\" + _state + \".csv\", index_col=\"uid\")\n",
    "    users_county = users_county.join(users_opinion)\n",
    "    groups = dict(users_county.groupby([\"is_rural\", \"Camp\"]).size())    \n",
    "\n",
    "    w1 = rural_count.get((_state, 1), 0) / (rural_count.get((_state, 1), 0) + rural_count.get((_state, 0), 0))\n",
    "    w0 = 1 - w1\n",
    "    \n",
    "    groups_T_H = dict(users_county[users_county.is_rural != -1].groupby(\"Camp\").size())\n",
    "    # print(groups_T_H)\n",
    "    proT = groups_T_H.get(\"T\", 0) / (groups_T_H.get(\"T\", 0) + groups_T_H.get(\"H\", 0))\n",
    "    \n",
    "\n",
    "    if (0, 'T') not in groups: # No urban people support Trump!\n",
    "        pro_T_1 = groups[(1, 'T')] / (groups[(1, 'T')] + groups[(1, 'H')])\n",
    "        rst = pro_T_1\n",
    "    elif (1, 'T') not in groups: # No rural people support Trump!\n",
    "        pro_T_0 = groups[(0, 'T')] / (groups[(0, 'T')] + groups[(0, 'H')])\n",
    "        rst = pro_T_0\n",
    "    else:\n",
    "        pro_T_0 = groups[(0, 'T')] / (groups[(0, 'T')] + groups[(0, 'H')])\n",
    "        pro_T_1 = groups[(1, 'T')] / (groups[(1, 'T')] + groups[(1, 'H')])\n",
    "        rst = pro_T_1 * w1 + pro_T_0 * w0\n",
    "        \n",
    "    print(f\"{_state}, Census (rural areas): {w1 * 100:.2f}%, Trump: {proT * 100:.2f}%, After rescaling: {rst * 100:.2f}%\")"
   ]
  }
 ],
 "metadata": {
  "kernelspec": {
   "display_name": "Python 3",
   "language": "python",
   "name": "python3"
  },
  "language_info": {
   "codemirror_mode": {
    "name": "ipython",
    "version": 3
   },
   "file_extension": ".py",
   "mimetype": "text/x-python",
   "name": "python",
   "nbconvert_exporter": "python",
   "pygments_lexer": "ipython3",
   "version": "3.7.6"
  },
  "latex_envs": {
   "LaTeX_envs_menu_present": true,
   "autoclose": false,
   "autocomplete": true,
   "bibliofile": "biblio.bib",
   "cite_by": "apalike",
   "current_citInitial": 1,
   "eqLabelWithNumbers": true,
   "eqNumInitial": 1,
   "hotkeys": {
    "equation": "Ctrl-E",
    "itemize": "Ctrl-I"
   },
   "labels_anchors": false,
   "latex_user_defs": false,
   "report_style_numbering": false,
   "user_envs_cfg": false
  },
  "toc": {
   "base_numbering": 1,
   "nav_menu": {},
   "number_sections": true,
   "sideBar": true,
   "skip_h1_title": false,
   "title_cell": "Table of Contents",
   "title_sidebar": "Contents",
   "toc_cell": false,
   "toc_position": {},
   "toc_section_display": true,
   "toc_window_display": false
  }
 },
 "nbformat": 4,
 "nbformat_minor": 4
}
